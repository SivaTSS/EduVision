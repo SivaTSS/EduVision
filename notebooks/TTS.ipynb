{
 "cells": [
  {
   "cell_type": "code",
   "execution_count": 15,
   "id": "77d48851-ea6c-4658-b764-6a3f05c63540",
   "metadata": {},
   "outputs": [],
   "source": [
    "text = \"\"\"\n",
    "Earth Science encompasses the study of various aspects of our planet, including geology, oceanography, meteorology, environmental science, and astronomy. Each branch focuses on different elements:\n",
    "\n",
    "- **Geology** studies Earth's materials, structures, and processes, including rocks, minerals, and fossils.\n",
    "Scientists from these fields collaborate to address complex questions about our planet and its future. Each branch is vital for understanding and solving pressing global issues, such as climate change and environmental degradation.\n",
    "\"\"\""
   ]
  },
  {
   "cell_type": "code",
   "execution_count": 16,
   "id": "bb755afe-c40c-4a59-b317-137966dd8547",
   "metadata": {},
   "outputs": [
    {
     "ename": "KeyboardInterrupt",
     "evalue": "",
     "output_type": "error",
     "traceback": [
      "\u001b[0;31m---------------------------------------------------------------------------\u001b[0m",
      "\u001b[0;31mKeyboardInterrupt\u001b[0m                         Traceback (most recent call last)",
      "Cell \u001b[0;32mIn[16], line 24\u001b[0m\n\u001b[1;32m     22\u001b[0m \u001b[38;5;66;03m# Wait until the speech finishes\u001b[39;00m\n\u001b[1;32m     23\u001b[0m \u001b[38;5;28;01mwhile\u001b[39;00m pygame\u001b[38;5;241m.\u001b[39mmixer\u001b[38;5;241m.\u001b[39mmusic\u001b[38;5;241m.\u001b[39mget_busy():\n\u001b[0;32m---> 24\u001b[0m     \u001b[43mpygame\u001b[49m\u001b[38;5;241;43m.\u001b[39;49m\u001b[43mtime\u001b[49m\u001b[38;5;241;43m.\u001b[39;49m\u001b[43mClock\u001b[49m\u001b[43m(\u001b[49m\u001b[43m)\u001b[49m\u001b[38;5;241;43m.\u001b[39;49m\u001b[43mtick\u001b[49m\u001b[43m(\u001b[49m\u001b[38;5;241;43m10\u001b[39;49m\u001b[43m)\u001b[49m\n",
      "\u001b[0;31mKeyboardInterrupt\u001b[0m: "
     ]
    }
   ],
   "source": [
    "import pygame\n",
    "from gtts import gTTS\n",
    "from io import BytesIO\n",
    "\n",
    "# Initialize pygame mixer\n",
    "pygame.mixer.init()\n",
    "\n",
    "# Generate speech using gTTS and store it in BytesIO\n",
    "mp3_fp = BytesIO()\n",
    "tts = gTTS(text, lang='en', tld='pt')\n",
    "tts.write_to_fp(mp3_fp)\n",
    "\n",
    "# Reset the BytesIO pointer to the beginning\n",
    "mp3_fp.seek(0)\n",
    "\n",
    "# Load the MP3 data from BytesIO into pygame mixer\n",
    "pygame.mixer.music.load(mp3_fp, \"mp3\")\n",
    "\n",
    "# Play the speech\n",
    "pygame.mixer.music.play()\n",
    "\n",
    "# Wait until the speech finishes\n",
    "while pygame.mixer.music.get_busy():\n",
    "    pygame.time.Clock().tick(10)"
   ]
  },
  {
   "cell_type": "code",
   "execution_count": null,
   "id": "000e7daf-e0dc-473e-81ae-225149713082",
   "metadata": {},
   "outputs": [],
   "source": []
  }
 ],
 "metadata": {
  "kernelspec": {
   "display_name": "Python 3 (ipykernel)",
   "language": "python",
   "name": "python3"
  },
  "language_info": {
   "codemirror_mode": {
    "name": "ipython",
    "version": 3
   },
   "file_extension": ".py",
   "mimetype": "text/x-python",
   "name": "python",
   "nbconvert_exporter": "python",
   "pygments_lexer": "ipython3",
   "version": "3.11.4"
  }
 },
 "nbformat": 4,
 "nbformat_minor": 5
}
