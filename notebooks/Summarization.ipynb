{
 "cells": [
  {
   "cell_type": "code",
   "execution_count": 1,
   "id": "c402edc0",
   "metadata": {},
   "outputs": [],
   "source": [
    "from langgraph.prebuilt import create_react_agent\n",
    "from langchain_openai import ChatOpenAI\n",
    "from langchain_core.tools import tool\n",
    "import json\n",
    "\n",
    "import pandas as pd\n",
    "import numpy as np\n",
    "import matplotlib.pyplot as plt"
   ]
  },
  {
   "cell_type": "code",
   "execution_count": 4,
   "id": "fa291e46",
   "metadata": {},
   "outputs": [],
   "source": [
    "file_path = \"../keys.json\"\n",
    "with open(file_path, \"r\", encoding=\"utf-8\") as file:\n",
    "    key_data = json.load(file)\n",
    "\n",
    "import os\n",
    "os.environ[\"OPENAI_API_KEY\"] = key_data[\"openai_api_key\"]\n",
    "model_name=\"gpt-4o-mini\"\n",
    "llm = ChatOpenAI(temperature=0, model_name=model_name)"
   ]
  },
  {
   "cell_type": "code",
   "execution_count": null,
   "id": "daa24acd",
   "metadata": {},
   "outputs": [
    {
     "name": "stdout",
     "output_type": "stream",
     "text": [
      "{'adjunctTopics': {'Apply Concepts': {'content': {'figures': [], 'mediaLinks': [], 'text': '5. A glacier is melting. What are all of the scientists you can think of who might be involved in studying this glacier? What would each of them do? '}, 'orderID': 't_12'}, 'Introduction': {'content': {'figures': [{'caption': 'FIGURE 1.10 Earth as seen from Apollo 17.', 'imagePath': 'textbook_images/earth_science_and_its_branches_20010.png'}], 'mediaLinks': [], 'text': 'Earth Science is the study of all aspects of our planet Earth. Earth Science is not just about the molten lava, icy mountain peaks, steep canyons and towering waterfalls of the continents. Earth Science includes the atmosphere and oceans. The field also looks out into the solar system, galaxy, and universe. Earth scientists seek to understand the beautiful planet on which we depend (Figure 1.10). Different branches of Earth Science study one particular part of Earth. Since all of the branches are connected, specialists work together to answer complicated questions. Lets look at some important branches of Earth Science. '}, 'orderID': 't_03'}, 'Lesson Objectives': {'content': {'figures': [], 'mediaLinks': [], 'text': 'Describe Earth Science and its branches.\\nIdentify the field of geology as a branch of Earth Science that deals with the rocks and minerals of Earth.\\nDescribe the field of oceanography as a branch of Earth Science that explores the ocean.\\nDefine the field of meteorology as a branch of Earth Science that deals with the atmosphere.\\nUnderstand that astronomy is a branch of Earth Science that studies our solar system and universe.\\nList some of the other branches of Earth Science, and how they relate to the study of Earth.\\n'}, 'orderID': 't_01'}, 'Lesson Summary': {'content': {'figures': [{'caption': 'FIGURE 1.17 Scientists are using telescopes to search for other planets that may have conditions favorable for life. The places they can look are near our solar system in our galaxy.', 'imagePath': 'textbook_images/earth_science_and_its_branches_20017.png'}], 'mediaLinks': [], 'text': 'Earth science includes many fields of science related to our home planet. Geology is the study of Earths material and structures and the processes that create them. Oceanography is the study of the oceans: water movement, chemistry and the ocean basins among other things. Meteorologists study the atmosphere including climate and weather. Environmental science deals with the effects people have on the environment. Astronomers study Earths larger environment: the solar system, galaxy, and universe that our planet resides in. '}, 'orderID': 't_09'}, 'Points to Consider': {'content': {'figures': [], 'mediaLinks': [], 'text': 'Why is Earth Science so important? Which branch of Earth Science would you most like to explore? What is the biggest problem that we face today? Which Earth scientists may help us to solve the problem? What other branches of science or society are related to and necessary for Earth Science? '}, 'orderID': 't_14'}, 'Recall': {'content': {'figures': [], 'mediaLinks': [], 'text': '1. What are three major branches of Earth Science? 2. What branch of science deals with stars and galaxies beyond Earth? 3. List important functions of Earth scientists. 4. What does a meteorologist study? '}, 'orderID': 't_11'}, 'Think Critically': {'content': {'figures': [], 'mediaLinks': [], 'text': '6. Design an experiment that you could conduct in any branch of Earth Science. Identify the independent variable and dependent variable. '}, 'orderID': 't_13'}, 'Vocabulary': {'astronomy': '', 'geology': 'the study of the rocks, processes, and history of Earth ', 'meteorology': '', 'oceanography': ''}}, 'diagramAnnotations': {}, 'globalID': 'L_0002', 'instructionalDiagrams': {}, 'lessonName': 'earth science and its branches', 'questions': {'diagramQuestions': {}, 'nonDiagramQuestions': {'NDQ_000046': {'answerChoices': {'a': {'idStructural': 'a.', 'processedText': 'solid Earth.', 'rawText': 'a. solid Earth.'}, 'b': {'idStructural': 'b.', 'processedText': 'Earths oceans.', 'rawText': 'b. Earths oceans.'}, 'c': {'idStructural': 'c.', 'processedText': 'Earths atmosphere.', 'rawText': 'c. Earths atmosphere.'}, 'd': {'idStructural': 'd.', 'processedText': 'all of the above', 'rawText': 'd. all of the above'}}, 'beingAsked': {'processedText': 'Earth science is the study of', 'rawText': '1. Earth science is the study of'}, 'correctAnswer': {'processedText': 'd', 'rawText': '1. d'}, 'globalID': 'NDQ_000046', 'idStructural': '1. ', 'questionSubType': 'Multiple Choice', 'questionType': 'Multiple Choice'}, 'NDQ_000047': {'answerChoices': {'a': {'idStructural': 'a.', 'processedText': 'mountains form.', 'rawText': 'a. mountains form.'}, 'b': {'idStructural': 'b.', 'processedText': 'people cause pollution.', 'rawText': 'b. people cause pollution.'}, 'c': {'idStructural': 'c.', 'processedText': 'tornadoes occur.', 'rawText': 'c. tornadoes occur.'}, 'd': {'idStructural': 'd.', 'processedText': 'two of the above', 'rawText': 'd. two of the above'}}, 'beingAsked': {'processedText': 'A geologist would be most likely to investigate how', 'rawText': '2. A geologist would be most likely to investigate how'}, 'correctAnswer': {'processedText': 'a', 'rawText': '2. a'}, 'globalID': 'NDQ_000047', 'idStructural': '2. ', 'questionSubType': 'Multiple Choice', 'questionType': 'Multiple Choice'}, 'NDQ_000048': {'answerChoices': {'a': {'idStructural': 'a.', 'processedText': 'meteorologist', 'rawText': 'a. meteorologist'}, 'b': {'idStructural': 'b.', 'processedText': 'climatologist', 'rawText': 'b. climatologist'}, 'c': {'idStructural': 'c.', 'processedText': 'geologist', 'rawText': 'c. geologist'}, 'd': {'idStructural': 'd.', 'processedText': 'ecologist', 'rawText': 'd. ecologist'}}, 'beingAsked': {'processedText': 'Which type of Earth scientist might look for petroleum for an oil company?', 'rawText': '3. Which type of Earth scientist might look for petroleum for an oil company?'}, 'correctAnswer': {'processedText': 'c', 'rawText': '3. c'}, 'globalID': 'NDQ_000048', 'idStructural': '3. ', 'questionSubType': 'Multiple Choice', 'questionType': 'Multiple Choice'}, 'NDQ_000049': {'answerChoices': {'a': {'idStructural': 'a.', 'processedText': 'human pollution of ocean water.', 'rawText': 'a. human pollution of ocean water.'}, 'b': {'idStructural': 'b.', 'processedText': 'naturally occurring elements in ocean water.', 'rawText': 'b. naturally occurring elements in ocean water.'}, 'c': {'idStructural': 'c.', 'processedText': 'rising levels of ocean water.', 'rawText': 'c. rising levels of ocean water.'}, 'd': {'idStructural': 'd.', 'processedText': 'rocks on the ocean floor.', 'rawText': 'd. rocks on the ocean floor.'}}, 'beingAsked': {'processedText': 'Chemical oceanography is the study of the', 'rawText': '4. Chemical oceanography is the study of the'}, 'correctAnswer': {'processedText': 'b', 'rawText': '4. b'}, 'globalID': 'NDQ_000049', 'idStructural': '4. ', 'questionSubType': 'Multiple Choice', 'questionType': 'Multiple Choice'}, 'NDQ_000050': {'answerChoices': {'a': {'idStructural': 'a.', 'processedText': 'planetary geologist.', 'rawText': 'a. planetary geologist.'}, 'b': {'idStructural': 'b.', 'processedText': 'seismologist.', 'rawText': 'b. seismologist.'}, 'c': {'idStructural': 'c.', 'processedText': 'physical oceanographer.', 'rawText': 'c. physical oceanographer.'}, 'd': {'idStructural': 'd.', 'processedText': 'climatologist.', 'rawText': 'd. climatologist.'}}, 'beingAsked': {'processedText': 'The problem of global warming is most likely to be the focus of a scientist known as a', 'rawText': '5. The problem of global warming is most likely to be the focus of a scientist known as a'}, 'correctAnswer': {'processedText': 'd', 'rawText': '5. d'}, 'globalID': 'NDQ_000050', 'idStructural': '5. ', 'questionSubType': 'Multiple Choice', 'questionType': 'Multiple Choice'}, 'NDQ_000051': {'answerChoices': {'a': {'idStructural': 'a.', 'processedText': 'volcanologist', 'rawText': 'a. volcanologist'}, 'b': {'idStructural': 'b.', 'processedText': 'meteorologist', 'rawText': 'b. meteorologist'}, 'c': {'idStructural': 'c.', 'processedText': 'climatologist', 'rawText': 'c. climatologist'}, 'd': {'idStructural': 'd.', 'processedText': 'environmental scientist', 'rawText': 'd. environmental scientist'}}, 'beingAsked': {'processedText': 'Which type of Earth scientist would you expect to give a weather report?', 'rawText': '6. Which type of Earth scientist would you expect to give a weather report?'}, 'correctAnswer': {'processedText': 'b', 'rawText': '6. b'}, 'globalID': 'NDQ_000051', 'idStructural': '6. ', 'questionSubType': 'Multiple Choice', 'questionType': 'Multiple Choice'}, 'NDQ_000052': {'answerChoices': {'a': {'idStructural': 'a.', 'processedText': 'satellites.', 'rawText': 'a. satellites.'}, 'b': {'idStructural': 'b.', 'processedText': 'radar.', 'rawText': 'b. radar.'}, 'c': {'idStructural': 'c.', 'processedText': 'telescopes.', 'rawText': 'c. telescopes.'}, 'd': {'idStructural': 'd.', 'processedText': 'two of the above', 'rawText': 'd. two of the above'}}, 'beingAsked': {'processedText': 'Tools typically used by meteorologists include', 'rawText': '7. Tools typically used by meteorologists include'}, 'correctAnswer': {'processedText': 'd', 'rawText': '7. d'}, 'globalID': 'NDQ_000052', 'idStructural': '7. ', 'questionSubType': 'Multiple Choice', 'questionType': 'Multiple Choice'}, 'NDQ_000053': {'answerChoices': {'a': {'idStructural': 'a.', 'processedText': 'astronomy', 'rawText': 'a. astronomy'}, 'b': {'idStructural': 'b.', 'processedText': 'oceanography', 'rawText': 'b. oceanography'}, 'c': {'idStructural': 'c.', 'processedText': 'geology', 'rawText': 'c. geology'}, 'd': {'idStructural': 'd.', 'processedText': 'environmental science', 'rawText': 'd. environmental science'}, 'e': {'idStructural': 'e.', 'processedText': 'Earth science', 'rawText': 'e. Earth science'}, 'f': {'idStructural': 'f.', 'processedText': 'seismology', 'rawText': 'f. seismology'}, 'g': {'idStructural': 'g.', 'processedText': 'meteorology', 'rawText': 'g. meteorology'}}, 'beingAsked': {'processedText': 'study of Earths weather', 'rawText': '1. study of Earths weather'}, 'correctAnswer': {'processedText': 'g', 'rawText': '1.g'}, 'globalID': 'NDQ_000053', 'idStructural': '1.', 'questionSubType': 'Matching', 'questionType': 'Multiple Choice'}, 'NDQ_000054': {'answerChoices': {'a': {'idStructural': 'a.', 'processedText': 'astronomy', 'rawText': 'a. astronomy'}, 'b': {'idStructural': 'b.', 'processedText': 'oceanography', 'rawText': 'b. oceanography'}, 'c': {'idStructural': 'c.', 'processedText': 'geology', 'rawText': 'c. geology'}, 'd': {'idStructural': 'd.', 'processedText': 'environmental science', 'rawText': 'd. environmental science'}, 'e': {'idStructural': 'e.', 'processedText': 'Earth science', 'rawText': 'e. Earth science'}, 'f': {'idStructural': 'f.', 'processedText': 'seismology', 'rawText': 'f. seismology'}, 'g': {'idStructural': 'g.', 'processedText': 'meteorology', 'rawText': 'g. meteorology'}}, 'beingAsked': {'processedText': 'study of earthquakes', 'rawText': '2. study of earthquakes'}, 'correctAnswer': {'processedText': 'f', 'rawText': '2.f'}, 'globalID': 'NDQ_000054', 'idStructural': '2.', 'questionSubType': 'Matching', 'questionType': 'Multiple Choice'}, 'NDQ_000055': {'answerChoices': {'a': {'idStructural': 'a.', 'processedText': 'astronomy', 'rawText': 'a. astronomy'}, 'b': {'idStructural': 'b.', 'processedText': 'oceanography', 'rawText': 'b. oceanography'}, 'c': {'idStructural': 'c.', 'processedText': 'geology', 'rawText': 'c. geology'}, 'd': {'idStructural': 'd.', 'processedText': 'environmental science', 'rawText': 'd. environmental science'}, 'e': {'idStructural': 'e.', 'processedText': 'Earth science', 'rawText': 'e. Earth science'}, 'f': {'idStructural': 'f.', 'processedText': 'seismology', 'rawText': 'f. seismology'}, 'g': {'idStructural': 'g.', 'processedText': 'meteorology', 'rawText': 'g. meteorology'}}, 'beingAsked': {'processedText': 'study of Earths oceans', 'rawText': '3. study of Earths oceans'}, 'correctAnswer': {'processedText': 'b', 'rawText': '3.b'}, 'globalID': 'NDQ_000055', 'idStructural': '3.', 'questionSubType': 'Matching', 'questionType': 'Multiple Choice'}, 'NDQ_000056': {'answerChoices': {'a': {'idStructural': 'a.', 'processedText': 'astronomy', 'rawText': 'a. astronomy'}, 'b': {'idStructural': 'b.', 'processedText': 'oceanography', 'rawText': 'b. oceanography'}, 'c': {'idStructural': 'c.', 'processedText': 'geology', 'rawText': 'c. geology'}, 'd': {'idStructural': 'd.', 'processedText': 'environmental science', 'rawText': 'd. environmental science'}, 'e': {'idStructural': 'e.', 'processedText': 'Earth science', 'rawText': 'e. Earth science'}, 'f': {'idStructural': 'f.', 'processedText': 'seismology', 'rawText': 'f. seismology'}, 'g': {'idStructural': 'g.', 'processedText': 'meteorology', 'rawText': 'g. meteorology'}}, 'beingAsked': {'processedText': 'study of solid Earth', 'rawText': '4. study of solid Earth'}, 'correctAnswer': {'processedText': 'c', 'rawText': '4.c'}, 'globalID': 'NDQ_000056', 'idStructural': '4.', 'questionSubType': 'Matching', 'questionType': 'Multiple Choice'}, 'NDQ_000057': {'answerChoices': {'a': {'idStructural': 'a.', 'processedText': 'astronomy', 'rawText': 'a. astronomy'}, 'b': {'idStructural': 'b.', 'processedText': 'oceanography', 'rawText': 'b. oceanography'}, 'c': {'idStructural': 'c.', 'processedText': 'geology', 'rawText': 'c. geology'}, 'd': {'idStructural': 'd.', 'processedText': 'environmental science', 'rawText': 'd. environmental science'}, 'e': {'idStructural': 'e.', 'processedText': 'Earth science', 'rawText': 'e. Earth science'}, 'f': {'idStructural': 'f.', 'processedText': 'seismology', 'rawText': 'f. seismology'}, 'g': {'idStructural': 'g.', 'processedText': 'meteorology', 'rawText': 'g. meteorology'}}, 'beingAsked': {'processedText': 'study of human effects on Earth', 'rawText': '5. study of human effects on Earth'}, 'correctAnswer': {'processedText': 'd', 'rawText': '5.d'}, 'globalID': 'NDQ_000057', 'idStructural': '5.', 'questionSubType': 'Matching', 'questionType': 'Multiple Choice'}, 'NDQ_000058': {'answerChoices': {'a': {'idStructural': 'a.', 'processedText': 'astronomy', 'rawText': 'a. astronomy'}, 'b': {'idStructural': 'b.', 'processedText': 'oceanography', 'rawText': 'b. oceanography'}, 'c': {'idStructural': 'c.', 'processedText': 'geology', 'rawText': 'c. geology'}, 'd': {'idStructural': 'd.', 'processedText': 'environmental science', 'rawText': 'd. environmental science'}, 'e': {'idStructural': 'e.', 'processedText': 'Earth science', 'rawText': 'e. Earth science'}, 'f': {'idStructural': 'f.', 'processedText': 'seismology', 'rawText': 'f. seismology'}, 'g': {'idStructural': 'g.', 'processedText': 'meteorology', 'rawText': 'g. meteorology'}}, 'beingAsked': {'processedText': 'study of all aspects of planet Earth', 'rawText': '6. study of all aspects of planet Earth'}, 'correctAnswer': {'processedText': 'e', 'rawText': '6.e'}, 'globalID': 'NDQ_000058', 'idStructural': '6.', 'questionSubType': 'Matching', 'questionType': 'Multiple Choice'}, 'NDQ_000059': {'answerChoices': {'a': {'idStructural': 'a.', 'processedText': 'astronomy', 'rawText': 'a. astronomy'}, 'b': {'idStructural': 'b.', 'processedText': 'oceanography', 'rawText': 'b. oceanography'}, 'c': {'idStructural': 'c.', 'processedText': 'geology', 'rawText': 'c. geology'}, 'd': {'idStructural': 'd.', 'processedText': 'environmental science', 'rawText': 'd. environmental science'}, 'e': {'idStructural': 'e.', 'processedText': 'Earth science', 'rawText': 'e. Earth science'}, 'f': {'idStructural': 'f.', 'processedText': 'seismology', 'rawText': 'f. seismology'}, 'g': {'idStructural': 'g.', 'processedText': 'meteorology', 'rawText': 'g. meteorology'}}, 'beingAsked': {'processedText': 'study of the universe', 'rawText': '7. study of the universe'}, 'correctAnswer': {'processedText': 'a', 'rawText': '7.a'}, 'globalID': 'NDQ_000059', 'idStructural': '7.', 'questionSubType': 'Matching', 'questionType': 'Multiple Choice'}, 'NDQ_000060': {'answerChoices': {'a': {'idStructural': 'a.', 'processedText': 'true', 'rawText': 'a. true'}, 'b': {'idStructural': 'b.', 'processedText': 'false', 'rawText': 'b. false'}}, 'beingAsked': {'processedText': 'Earth science is a branch of geology.', 'rawText': '1. Earth science is a branch of geology.'}, 'correctAnswer': {'processedText': 'b', 'rawText': '1.false'}, 'globalID': 'NDQ_000060', 'idStructural': '1.', 'questionSubType': 'True or False', 'questionType': 'Multiple Choice'}, 'NDQ_000061': {'answerChoices': {'a': {'idStructural': 'a.', 'processedText': 'true', 'rawText': 'a. true'}, 'b': {'idStructural': 'b.', 'processedText': 'false', 'rawText': 'b. false'}}, 'beingAsked': {'processedText': 'Some geologists specialize in the study of soil.', 'rawText': '2. Some geologists specialize in the study of soil.'}, 'correctAnswer': {'processedText': 'a', 'rawText': '2.true'}, 'globalID': 'NDQ_000061', 'idStructural': '2.', 'questionSubType': 'True or False', 'questionType': 'Multiple Choice'}, 'NDQ_000062': {'answerChoices': {'a': {'idStructural': 'a.', 'processedText': 'true', 'rawText': 'a. true'}, 'b': {'idStructural': 'b.', 'processedText': 'false', 'rawText': 'b. false'}}, 'beingAsked': {'processedText': 'Rock layers below Earths surface are a record of Earths history.', 'rawText': '3. Rock layers below Earths surface are a record of Earths history.'}, 'correctAnswer': {'processedText': 'a', 'rawText': '3.true'}, 'globalID': 'NDQ_000062', 'idStructural': '3.', 'questionSubType': 'True or False', 'questionType': 'Multiple Choice'}, 'NDQ_000063': {'answerChoices': {'a': {'idStructural': 'a.', 'processedText': 'true', 'rawText': 'a. true'}, 'b': {'idStructural': 'b.', 'processedText': 'false', 'rawText': 'b. false'}}, 'beingAsked': {'processedText': 'The science of oceanography started with mapping the oceans.', 'rawText': '4. The science of oceanography started with mapping the oceans.'}, 'correctAnswer': {'processedText': 'a', 'rawText': '4.true'}, 'globalID': 'NDQ_000063', 'idStructural': '4.', 'questionSubType': 'True or False', 'questionType': 'Multiple Choice'}, 'NDQ_000064': {'answerChoices': {'a': {'idStructural': 'a.', 'processedText': 'true', 'rawText': 'a. true'}, 'b': {'idStructural': 'b.', 'processedText': 'false', 'rawText': 'b. false'}}, 'beingAsked': {'processedText': 'Scientists have not yet visited the deepest parts of the ocean.', 'rawText': '5. Scientists have not yet visited the deepest parts of the ocean.'}, 'correctAnswer': {'processedText': 'b', 'rawText': '5.false'}, 'globalID': 'NDQ_000064', 'idStructural': '5.', 'questionSubType': 'True or False', 'questionType': 'Multiple Choice'}, 'NDQ_000065': {'answerChoices': {'a': {'idStructural': 'a.', 'processedText': 'true', 'rawText': 'a. true'}, 'b': {'idStructural': 'b.', 'processedText': 'false', 'rawText': 'b. false'}}, 'beingAsked': {'processedText': 'Most of Earths water is in rivers and lakes.', 'rawText': '6. Most of Earths water is in rivers and lakes.'}, 'correctAnswer': {'processedText': 'b', 'rawText': '6.false'}, 'globalID': 'NDQ_000065', 'idStructural': '6.', 'questionSubType': 'True or False', 'questionType': 'Multiple Choice'}, 'NDQ_000066': {'answerChoices': {'a': {'idStructural': 'a.', 'processedText': 'true', 'rawText': 'a. true'}, 'b': {'idStructural': 'b.', 'processedText': 'false', 'rawText': 'b. false'}}, 'beingAsked': {'processedText': 'Humans have had relatively little impact on the oceans.', 'rawText': '7. Humans have had relatively little impact on the oceans.'}, 'correctAnswer': {'processedText': 'b', 'rawText': '7.false'}, 'globalID': 'NDQ_000066', 'idStructural': '7.', 'questionSubType': 'True or False', 'questionType': 'Multiple Choice'}, 'NDQ_000067': {'answerChoices': {'a': {'idStructural': 'a.', 'processedText': 'true', 'rawText': 'a. true'}, 'b': {'idStructural': 'b.', 'processedText': 'false', 'rawText': 'b. false'}}, 'beingAsked': {'processedText': 'There are several branches of oceanography.', 'rawText': '8. There are several branches of oceanography.'}, 'correctAnswer': {'processedText': 'a', 'rawText': '8.true'}, 'globalID': 'NDQ_000067', 'idStructural': '8.', 'questionSubType': 'True or False', 'questionType': 'Multiple Choice'}, 'NDQ_000068': {'answerChoices': {'a': {'idStructural': 'a.', 'processedText': 'true', 'rawText': 'a. true'}, 'b': {'idStructural': 'b.', 'processedText': 'false', 'rawText': 'b. false'}}, 'beingAsked': {'processedText': 'Meteorologists study meteors.', 'rawText': '9. Meteorologists study meteors.'}, 'correctAnswer': {'processedText': 'b', 'rawText': '9.false'}, 'globalID': 'NDQ_000068', 'idStructural': '9.', 'questionSubType': 'True or False', 'questionType': 'Multiple Choice'}, 'NDQ_000069': {'answerChoices': {'a': {'idStructural': 'a.', 'processedText': 'true', 'rawText': 'a. true'}, 'b': {'idStructural': 'b.', 'processedText': 'false', 'rawText': 'b. false'}}, 'beingAsked': {'processedText': 'The burning of fossil fuels contributes to global warming.', 'rawText': '10. The burning of fossil fuels contributes to global warming.'}, 'correctAnswer': {'processedText': 'a', 'rawText': '10.true'}, 'globalID': 'NDQ_000069', 'idStructural': '10.', 'questionSubType': 'True or False', 'questionType': 'Multiple Choice'}}}, 'topics': {'T_0016': {'content': {'figures': [{'caption': 'FIGURE 1.11 (A) Mineralogists focus on all kinds of minerals. (B) Seismographs are used to measure earthquakes and pinpoint their origins.', 'imagePath': 'textbook_images/earth_science_and_its_branches_20011.png'}], 'mediaLinks': [], 'text': 'Geology is the study of the solid Earth. Geologists study how rocks and minerals form. The way mountains rise up is part of geology. The way mountains erode away is another part. Geologists also study fossils and Earths history. There are many other branches of geology. There is so much to know about our home planet that most geologists become specialists in one area. For example, a mineralogist studies minerals, as seen in (Figure 1.11). Some volcanologists brave molten lava to study volcanoes. Seismologists monitor earthquakes worldwide to help protect people and property from harm (Figure 1.11). Paleontologists are interested in fossils and how ancient organisms lived. Scientists who compare the geology of other planets to Earth are planetary geologists. Some geologists study the Moon. Others look for petroleum. Still others specialize in studying soil. Some geologists can tell how old rocks are and determine how different rock layers formed. There is probably an expert in almost anything you can think of related to Earth! Geologists might study rivers and lakes, the underground water found between soil and rock particles, or even water that is frozen in glaciers. Earth scientists also need geographers who explore the features of Earths surface and work with cartographers, who make maps. Studying the layers of rock beneath the surface helps us to understand the history of planet Earth (Figure 1.12). '}, 'globalID': 'T_0016', 'topicName': 'Geology'}, 'T_0017': {'content': {'figures': [{'caption': 'FIGURE 1.12 These folded rock layers have bent over time. Studying rock layers helps scientists to explain these layers and the geologic history of the area.', 'imagePath': 'textbook_images/earth_science_and_its_branches_20012.png'}, {'caption': 'FIGURE 1.13 This research vessel is specially designed to explore the seas around Antarctica.', 'imagePath': 'textbook_images/earth_science_and_its_branches_20013.png'}], 'mediaLinks': [], 'text': 'Oceanography is the study of the oceans. The word oceanology might be more accurate, since ology is the study of. Graph is to write and refers to map making. But mapping the oceans is how oceanography started. More than 70% of Earths surface is covered with water. Almost all of that water is in the oceans. Scientists have visited the deepest parts of the ocean in submarines. Remote vehicles go where humans cant. Yet much of the ocean remains unexplored. Some people call the ocean the last frontier. Humans have had a big impact on the oceans. Populations of fish and other marine species have been overfished. Contaminants are polluting the waters. Global warming is melting the thick ice caps and warming the water. Warmer water expands and, along with water from the melting ice caps, causes sea levels to rise. There are many branches of oceanography. Physical oceanography is the study of water movement, like waves and ocean currents (Figure 1.13). Marine geology looks at rocks and structures in the ocean basins. Chemical oceanography studies the natural elements in ocean water. Marine biology looks at marine life. '}, 'globalID': 'T_0017', 'topicName': 'Oceanography'}, 'T_0018': {'content': {'figures': [{'caption': 'FIGURE 1.14 Meteorologists can help us to prepare for major storms or know if today is a good day for a picnic.', 'imagePath': 'textbook_images/earth_science_and_its_branches_20014.png'}, {'caption': 'FIGURE 1.15 Carbon dioxide released into the atmo- sphere is causing global warming.', 'imagePath': 'textbook_images/earth_science_and_its_branches_20015.png'}], 'mediaLinks': [], 'text': 'Meteorologists dont study meteors they study the atmosphere! The word meteor refers to things in the air. Meteorology includes the study of weather patterns, clouds, hurricanes, and tornadoes. Meteorology is very important. Using radars and satellites, meteorologists work to predict, or forecast, the weather (Figure 1.14). The atmosphere is a thin layer of gas that surrounds Earth. Climatologists study the atmosphere. These scientists work to understand the climate as it is now. They also study how climate will change in response to global warming. The atmosphere contains small amounts of carbon dioxide. Climatologists have found that humans are putting a lot of extra carbon dioxide into the atmosphere. This is mostly from burning fossil fuels. The extra carbon dioxide traps heat from the Sun. Trapped heat causes the atmosphere to heat up. We call this global warming (Figure 1.15). '}, 'globalID': 'T_0018', 'topicName': 'Climatology and Meteorology'}, 'T_0019': {'content': {'figures': [{'caption': 'FIGURE 1.16 In a marine ecosystem, coral, fish, and other sea life depend on each other for survival.', 'imagePath': 'textbook_images/earth_science_and_its_branches_20016.png'}], 'mediaLinks': [], 'text': 'Environmental scientists study the ways that humans affect the planet we live on. We hope to find better ways of living that can also help the environment. Ecologists study lifeforms and the environments they live in (Figure 1.16). They try to predict the chain reactions that could occur when one part of the ecosystem is disrupted. '}, 'globalID': 'T_0019', 'topicName': 'Environmental Science'}, 'T_0020': {'content': {'figures': [], 'mediaLinks': [], 'text': 'Astronomy and astronomers have shown that the planets in our solar system are not the only planets in the universe. Over 530 planets were known outside our solar system in 2011. And there are billions of other planets! The universe also contains black holes, other galaxies, asteroids, comets, and nebula. As big as Earth seems, the entire universe is vastly more enormous. Earth is just a tiny part of our universe. Astronomers use many tools to study things in space. Earth-orbiting telescopes view stars and galaxies from the darkness of space (Figure 1.17). They may have optical and radio telescopes to see things that the human eye cant see. Spacecraft travel great distances to send back information on faraway places. Astronomers ask a wide variety of questions. How do strong bursts of energy from the Sun, called solar flares, affect communications? How might an impact from an asteroid affect life on Earth? What are the properties of black holes? Astronomers ask bigger questions too. How was the universe created? Is there life on other planets? Are there resources on other planets that people could use? Astronomers use what Earth scientists know to make comparisons with other planets. '}, 'globalID': 'T_0020', 'topicName': 'Astronomy'}}}\n"
     ]
    }
   ],
   "source": [
    "myPath = \"../data/tqa_train_val_test/train/tqa_v1_train.json\"\n",
    "# Load the JSON file\n",
    "with open(myPath) as f:\n",
    "    data = json.load(f)\n",
    "\n",
    "# Check the first few records\n",
    "print(data[0])"
   ]
  },
  {
   "cell_type": "code",
   "execution_count": 6,
   "id": "d057e8dd",
   "metadata": {},
   "outputs": [],
   "source": [
    "def extract_textbook_text(data):\n",
    "    \"\"\"\n",
    "    Extract only the textbook text from the TQA dataset entry.\n",
    "    This function retrieves text from the 'adjunctTopics' and 'topics' sections.\n",
    "    \"\"\"\n",
    "    texts = []\n",
    "    \n",
    "    # Extract text from adjunctTopics\n",
    "    adjunct_topics = data.get(\"adjunctTopics\", {})\n",
    "    for topic in adjunct_topics.values():\n",
    "        content = topic.get(\"content\", {})\n",
    "        text = content.get(\"text\", \"\")\n",
    "        if text:\n",
    "            texts.append(text.strip())\n",
    "            \n",
    "    # Extract text from topics\n",
    "    topics = data.get(\"topics\", {})\n",
    "    for topic in topics.values():\n",
    "        content = topic.get(\"content\", {})\n",
    "        text = content.get(\"text\", \"\")\n",
    "        if text:\n",
    "            texts.append(text.strip())\n",
    "    \n",
    "    return texts"
   ]
  },
  {
   "cell_type": "code",
   "execution_count": 7,
   "id": "419b46ec",
   "metadata": {},
   "outputs": [
    {
     "name": "stdout",
     "output_type": "stream",
     "text": [
      "Combined Text:\n",
      "\n",
      "5. A glacier is melting. What are all of the scientists you can think of who might be involved in studying this glacier? What would each of them do?\n",
      "\n",
      "Earth Science is the study of all aspects of our planet Earth. Earth Science is not just about the molten lava, icy mountain peaks, steep canyons and towering waterfalls of the continents. Earth Science includes the atmosphere and oceans. The field also looks out into the solar system, galaxy, and universe. Earth scientists seek to understand the beautiful planet on which we depend (Figure 1.10). Different branches of Earth Science study one particular part of Earth. Since all of the branches are connected, specialists work together to answer complicated questions. Lets look at some important branches of Earth Science.\n",
      "\n",
      "Describe Earth Science and its branches.\n",
      "Identify the field of geology as a branch of Earth Science that deals with the rocks and minerals of Earth.\n",
      "Describe the field of oceanography as a branch of Earth Science that explores the ocean.\n",
      "Define the field of meteorology as a branch of Earth Science that deals with the atmosphere.\n",
      "Understand that astronomy is a branch of Earth Science that studies our solar system and universe.\n",
      "List some of the other branches of Earth Science, and how they relate to the study of Earth.\n",
      "\n",
      "Earth science includes many fields of science related to our home planet. Geology is the study of Earths material and structures and the processes that create them. Oceanography is the study of the oceans: water movement, chemistry and the ocean basins among other things. Meteorologists study the atmosphere including climate and weather. Environmental science deals with the effects people have on the environment. Astronomers study Earths larger environment: the solar system, galaxy, and universe that our planet resides in.\n",
      "\n",
      "Why is Earth Science so important? Which branch of Earth Science would you most like to explore? What is the biggest problem that we face today? Which Earth scientists may help us to solve the problem? What other branches of science or society are related to and necessary for Earth Science?\n",
      "\n",
      "1. What are three major branches of Earth Science? 2. What branch of science deals with stars and galaxies beyond Earth? 3. List important functions of Earth scientists. 4. What does a meteorologist study?\n",
      "\n",
      "6. Design an experiment that you could conduct in any branch of Earth Science. Identify the independent variable and dependent variable.\n",
      "\n",
      "Geology is the study of the solid Earth. Geologists study how rocks and minerals form. The way mountains rise up is part of geology. The way mountains erode away is another part. Geologists also study fossils and Earths history. There are many other branches of geology. There is so much to know about our home planet that most geologists become specialists in one area. For example, a mineralogist studies minerals, as seen in (Figure 1.11). Some volcanologists brave molten lava to study volcanoes. Seismologists monitor earthquakes worldwide to help protect people and property from harm (Figure 1.11). Paleontologists are interested in fossils and how ancient organisms lived. Scientists who compare the geology of other planets to Earth are planetary geologists. Some geologists study the Moon. Others look for petroleum. Still others specialize in studying soil. Some geologists can tell how old rocks are and determine how different rock layers formed. There is probably an expert in almost anything you can think of related to Earth! Geologists might study rivers and lakes, the underground water found between soil and rock particles, or even water that is frozen in glaciers. Earth scientists also need geographers who explore the features of Earths surface and work with cartographers, who make maps. Studying the layers of rock beneath the surface helps us to understand the history of planet Earth (Figure 1.12).\n",
      "\n",
      "Oceanography is the study of the oceans. The word oceanology might be more accurate, since ology is the study of. Graph is to write and refers to map making. But mapping the oceans is how oceanography started. More than 70% of Earths surface is covered with water. Almost all of that water is in the oceans. Scientists have visited the deepest parts of the ocean in submarines. Remote vehicles go where humans cant. Yet much of the ocean remains unexplored. Some people call the ocean the last frontier. Humans have had a big impact on the oceans. Populations of fish and other marine species have been overfished. Contaminants are polluting the waters. Global warming is melting the thick ice caps and warming the water. Warmer water expands and, along with water from the melting ice caps, causes sea levels to rise. There are many branches of oceanography. Physical oceanography is the study of water movement, like waves and ocean currents (Figure 1.13). Marine geology looks at rocks and structures in the ocean basins. Chemical oceanography studies the natural elements in ocean water. Marine biology looks at marine life.\n",
      "\n",
      "Meteorologists dont study meteors they study the atmosphere! The word meteor refers to things in the air. Meteorology includes the study of weather patterns, clouds, hurricanes, and tornadoes. Meteorology is very important. Using radars and satellites, meteorologists work to predict, or forecast, the weather (Figure 1.14). The atmosphere is a thin layer of gas that surrounds Earth. Climatologists study the atmosphere. These scientists work to understand the climate as it is now. They also study how climate will change in response to global warming. The atmosphere contains small amounts of carbon dioxide. Climatologists have found that humans are putting a lot of extra carbon dioxide into the atmosphere. This is mostly from burning fossil fuels. The extra carbon dioxide traps heat from the Sun. Trapped heat causes the atmosphere to heat up. We call this global warming (Figure 1.15).\n",
      "\n",
      "Environmental scientists study the ways that humans affect the planet we live on. We hope to find better ways of living that can also help the environment. Ecologists study lifeforms and the environments they live in (Figure 1.16). They try to predict the chain reactions that could occur when one part of the ecosystem is disrupted.\n",
      "\n",
      "Astronomy and astronomers have shown that the planets in our solar system are not the only planets in the universe. Over 530 planets were known outside our solar system in 2011. And there are billions of other planets! The universe also contains black holes, other galaxies, asteroids, comets, and nebula. As big as Earth seems, the entire universe is vastly more enormous. Earth is just a tiny part of our universe. Astronomers use many tools to study things in space. Earth-orbiting telescopes view stars and galaxies from the darkness of space (Figure 1.17). They may have optical and radio telescopes to see things that the human eye cant see. Spacecraft travel great distances to send back information on faraway places. Astronomers ask a wide variety of questions. How do strong bursts of energy from the Sun, called solar flares, affect communications? How might an impact from an asteroid affect life on Earth? What are the properties of black holes? Astronomers ask bigger questions too. How was the universe created? Is there life on other planets? Are there resources on other planets that people could use? Astronomers use what Earth scientists know to make comparisons with other planets.\n"
     ]
    }
   ],
   "source": [
    "# -----------------------------\n",
    "# Combine the Extracted Text and Print\n",
    "# -----------------------------\n",
    "extracted_texts = extract_textbook_text(data[0])\n",
    "combined_text = \"\\n\\n\".join(extracted_texts)\n",
    "print(\"Combined Text:\\n\")\n",
    "print(combined_text)"
   ]
  },
  {
   "cell_type": "code",
   "execution_count": 8,
   "id": "757a6830",
   "metadata": {},
   "outputs": [],
   "source": [
    "def summarize_text(text, max_tokens=150):\n",
    "    \"\"\"\n",
    "    Summarize the given text using ChatOpenAI.\n",
    "    \"\"\"\n",
    "    prompt = f\"Please summarize the following text in a concise and clear manner:\\n\\n{text}\\n\\nSummary:\"\n",
    "    result = llm.invoke(prompt)\n",
    "    # Access the .content attribute and then strip any leading/trailing whitespace.\n",
    "    summary = result.content.strip()\n",
    "    return summary"
   ]
  },
  {
   "cell_type": "code",
   "execution_count": 9,
   "id": "234dbb00",
   "metadata": {},
   "outputs": [
    {
     "name": "stdout",
     "output_type": "stream",
     "text": [
      "\n",
      "Summary:\n",
      "\n",
      "Earth Science encompasses the study of various aspects of our planet, including geology, oceanography, meteorology, environmental science, and astronomy. Each branch focuses on different elements: \n",
      "\n",
      "- **Geology** studies Earth's materials, structures, and processes, including rocks, minerals, and fossils.\n",
      "- **Oceanography** explores the oceans, including water movement, chemistry, and marine life.\n",
      "- **Meteorology** examines the atmosphere, weather patterns, and climate change.\n",
      "- **Environmental science** investigates human impacts on the environment, while **ecology** focuses on ecosystems and their interactions.\n",
      "- **Astronomy** studies celestial bodies and the universe beyond Earth.\n",
      "\n",
      "Scientists from these fields collaborate to address complex questions, such as climate change and its effects. Each branch is vital for understanding and solving environmental challenges, with specialists like geologists, oceanographers, meteorologists, and astronomers playing key roles in research and problem-solving.\n"
     ]
    }
   ],
   "source": [
    "# Generate and print the summary\n",
    "summary = summarize_text(combined_text)\n",
    "print(\"\\nSummary:\\n\")\n",
    "print(summary)"
   ]
  },
  {
   "cell_type": "code",
   "execution_count": null,
   "id": "b6950115",
   "metadata": {},
   "outputs": [],
   "source": []
  }
 ],
 "metadata": {
  "kernelspec": {
   "display_name": "Python 3 (ipykernel)",
   "language": "python",
   "name": "python3"
  },
  "language_info": {
   "codemirror_mode": {
    "name": "ipython",
    "version": 3
   },
   "file_extension": ".py",
   "mimetype": "text/x-python",
   "name": "python",
   "nbconvert_exporter": "python",
   "pygments_lexer": "ipython3",
   "version": "3.11.4"
  }
 },
 "nbformat": 4,
 "nbformat_minor": 5
}
