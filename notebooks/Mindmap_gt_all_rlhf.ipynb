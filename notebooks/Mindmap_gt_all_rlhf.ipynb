{
 "cells": [
  {
   "cell_type": "code",
   "execution_count": 1,
   "id": "60896037",
   "metadata": {},
   "outputs": [],
   "source": [
    "import os\n",
    "import json\n",
    "from langgraph.prebuilt import create_react_agent\n",
    "from langchain_openai import ChatOpenAI\n",
    "from langchain_core.tools import tool\n",
    "from IPython.display import Markdown, display\n",
    "import pandas as pd\n",
    "import numpy as np\n",
    "import matplotlib.pyplot as plt\n",
    "import subprocess"
   ]
  },
  {
   "cell_type": "code",
   "execution_count": 35,
   "id": "3faa939f",
   "metadata": {},
   "outputs": [],
   "source": [
    "# Load the API key and set the model name\n",
    "file_path = \"../keys.json\"\n",
    "with open(file_path, \"r\", encoding=\"utf-8\") as file:\n",
    "    key_data = json.load(file)\n",
    "\n",
    "os.environ[\"OPENAI_API_KEY\"] = key_data[\"openai_api_key\"]\n",
    "model_name = \"gpt-4o-mini\"\n",
    "\n",
    "llm = ChatOpenAI(temperature=0.1, model_name=model_name)\n"
   ]
  },
  {
   "cell_type": "code",
   "execution_count": 23,
   "id": "7142f794",
   "metadata": {},
   "outputs": [
    {
     "name": "stdout",
     "output_type": "stream",
     "text": [
      "{'adjunctTopics': {'Apply Concepts': {'content': {'figures': [], 'mediaLinks': [], 'text': '5. A glacier is melting. What are all of the scientists you can think of who might be involved in studying this glacier? What would each of them do? '}, 'orderID': 't_12'}, 'Introduction': {'content': {'figures': [{'caption': 'FIGURE 1.10 Earth as seen from Apollo 17.', 'imagePath': 'textbook_images/earth_science_and_its_branches_20010.png'}], 'mediaLinks': [], 'text': 'Earth Science is the study of all aspects of our planet Earth. Earth Science is not just about the molten lava, icy mountain peaks, steep canyons and towering waterfalls of the continents. Earth Science includes the atmosphere and oceans. The field also looks out into the solar system, galaxy, and universe. Earth scientists seek to understand the beautiful planet on which we depend (Figure 1.10). Different branches of Earth Science study one particular part of Earth. Since all of the branches are connected, specialists work together to answer complicated questions. Lets look at some important branches of Earth Science. '}, 'orderID': 't_03'}, 'Lesson Objectives': {'content': {'figures': [], 'mediaLinks': [], 'text': 'Describe Earth Science and its branches.\\nIdentify the field of geology as a branch of Earth Science that deals with the rocks and minerals of Earth.\\nDescribe the field of oceanography as a branch of Earth Science that explores the ocean.\\nDefine the field of meteorology as a branch of Earth Science that deals with the atmosphere.\\nUnderstand that astronomy is a branch of Earth Science that studies our solar system and universe.\\nList some of the other branches of Earth Science, and how they relate to the study of Earth.\\n'}, 'orderID': 't_01'}, 'Lesson Summary': {'content': {'figures': [{'caption': 'FIGURE 1.17 Scientists are using telescopes to search for other planets that may have conditions favorable for life. The places they can look are near our solar system in our galaxy.', 'imagePath': 'textbook_images/earth_science_and_its_branches_20017.png'}], 'mediaLinks': [], 'text': 'Earth science includes many fields of science related to our home planet. Geology is the study of Earths material and structures and the processes that create them. Oceanography is the study of the oceans: water movement, chemistry and the ocean basins among other things. Meteorologists study the atmosphere including climate and weather. Environmental science deals with the effects people have on the environment. Astronomers study Earths larger environment: the solar system, galaxy, and universe that our planet resides in. '}, 'orderID': 't_09'}, 'Points to Consider': {'content': {'figures': [], 'mediaLinks': [], 'text': 'Why is Earth Science so important? Which branch of Earth Science would you most like to explore? What is the biggest problem that we face today? Which Earth scientists may help us to solve the problem? What other branches of science or society are related to and necessary for Earth Science? '}, 'orderID': 't_14'}, 'Recall': {'content': {'figures': [], 'mediaLinks': [], 'text': '1. What are three major branches of Earth Science? 2. What branch of science deals with stars and galaxies beyond Earth? 3. List important functions of Earth scientists. 4. What does a meteorologist study? '}, 'orderID': 't_11'}, 'Think Critically': {'content': {'figures': [], 'mediaLinks': [], 'text': '6. Design an experiment that you could conduct in any branch of Earth Science. Identify the independent variable and dependent variable. '}, 'orderID': 't_13'}, 'Vocabulary': {'astronomy': '', 'geology': 'the study of the rocks, processes, and history of Earth ', 'meteorology': '', 'oceanography': ''}}, 'diagramAnnotations': {}, 'globalID': 'L_0002', 'instructionalDiagrams': {}, 'lessonName': 'earth science and its branches', 'questions': {'diagramQuestions': {}, 'nonDiagramQuestions': {'NDQ_000046': {'answerChoices': {'a': {'idStructural': 'a.', 'processedText': 'solid Earth.', 'rawText': 'a. solid Earth.'}, 'b': {'idStructural': 'b.', 'processedText': 'Earths oceans.', 'rawText': 'b. Earths oceans.'}, 'c': {'idStructural': 'c.', 'processedText': 'Earths atmosphere.', 'rawText': 'c. Earths atmosphere.'}, 'd': {'idStructural': 'd.', 'processedText': 'all of the above', 'rawText': 'd. all of the above'}}, 'beingAsked': {'processedText': 'Earth science is the study of', 'rawText': '1. Earth science is the study of'}, 'correctAnswer': {'processedText': 'd', 'rawText': '1. d'}, 'globalID': 'NDQ_000046', 'idStructural': '1. ', 'questionSubType': 'Multiple Choice', 'questionType': 'Multiple Choice'}, 'NDQ_000047': {'answerChoices': {'a': {'idStructural': 'a.', 'processedText': 'mountains form.', 'rawText': 'a. mountains form.'}, 'b': {'idStructural': 'b.', 'processedText': 'people cause pollution.', 'rawText': 'b. people cause pollution.'}, 'c': {'idStructural': 'c.', 'processedText': 'tornadoes occur.', 'rawText': 'c. tornadoes occur.'}, 'd': {'idStructural': 'd.', 'processedText': 'two of the above', 'rawText': 'd. two of the above'}}, 'beingAsked': {'processedText': 'A geologist would be most likely to investigate how', 'rawText': '2. A geologist would be most likely to investigate how'}, 'correctAnswer': {'processedText': 'a', 'rawText': '2. a'}, 'globalID': 'NDQ_000047', 'idStructural': '2. ', 'questionSubType': 'Multiple Choice', 'questionType': 'Multiple Choice'}, 'NDQ_000048': {'answerChoices': {'a': {'idStructural': 'a.', 'processedText': 'meteorologist', 'rawText': 'a. meteorologist'}, 'b': {'idStructural': 'b.', 'processedText': 'climatologist', 'rawText': 'b. climatologist'}, 'c': {'idStructural': 'c.', 'processedText': 'geologist', 'rawText': 'c. geologist'}, 'd': {'idStructural': 'd.', 'processedText': 'ecologist', 'rawText': 'd. ecologist'}}, 'beingAsked': {'processedText': 'Which type of Earth scientist might look for petroleum for an oil company?', 'rawText': '3. Which type of Earth scientist might look for petroleum for an oil company?'}, 'correctAnswer': {'processedText': 'c', 'rawText': '3. c'}, 'globalID': 'NDQ_000048', 'idStructural': '3. ', 'questionSubType': 'Multiple Choice', 'questionType': 'Multiple Choice'}, 'NDQ_000049': {'answerChoices': {'a': {'idStructural': 'a.', 'processedText': 'human pollution of ocean water.', 'rawText': 'a. human pollution of ocean water.'}, 'b': {'idStructural': 'b.', 'processedText': 'naturally occurring elements in ocean water.', 'rawText': 'b. naturally occurring elements in ocean water.'}, 'c': {'idStructural': 'c.', 'processedText': 'rising levels of ocean water.', 'rawText': 'c. rising levels of ocean water.'}, 'd': {'idStructural': 'd.', 'processedText': 'rocks on the ocean floor.', 'rawText': 'd. rocks on the ocean floor.'}}, 'beingAsked': {'processedText': 'Chemical oceanography is the study of the', 'rawText': '4. Chemical oceanography is the study of the'}, 'correctAnswer': {'processedText': 'b', 'rawText': '4. b'}, 'globalID': 'NDQ_000049', 'idStructural': '4. ', 'questionSubType': 'Multiple Choice', 'questionType': 'Multiple Choice'}, 'NDQ_000050': {'answerChoices': {'a': {'idStructural': 'a.', 'processedText': 'planetary geologist.', 'rawText': 'a. planetary geologist.'}, 'b': {'idStructural': 'b.', 'processedText': 'seismologist.', 'rawText': 'b. seismologist.'}, 'c': {'idStructural': 'c.', 'processedText': 'physical oceanographer.', 'rawText': 'c. physical oceanographer.'}, 'd': {'idStructural': 'd.', 'processedText': 'climatologist.', 'rawText': 'd. climatologist.'}}, 'beingAsked': {'processedText': 'The problem of global warming is most likely to be the focus of a scientist known as a', 'rawText': '5. The problem of global warming is most likely to be the focus of a scientist known as a'}, 'correctAnswer': {'processedText': 'd', 'rawText': '5. d'}, 'globalID': 'NDQ_000050', 'idStructural': '5. ', 'questionSubType': 'Multiple Choice', 'questionType': 'Multiple Choice'}, 'NDQ_000051': {'answerChoices': {'a': {'idStructural': 'a.', 'processedText': 'volcanologist', 'rawText': 'a. volcanologist'}, 'b': {'idStructural': 'b.', 'processedText': 'meteorologist', 'rawText': 'b. meteorologist'}, 'c': {'idStructural': 'c.', 'processedText': 'climatologist', 'rawText': 'c. climatologist'}, 'd': {'idStructural': 'd.', 'processedText': 'environmental scientist', 'rawText': 'd. environmental scientist'}}, 'beingAsked': {'processedText': 'Which type of Earth scientist would you expect to give a weather report?', 'rawText': '6. Which type of Earth scientist would you expect to give a weather report?'}, 'correctAnswer': {'processedText': 'b', 'rawText': '6. b'}, 'globalID': 'NDQ_000051', 'idStructural': '6. ', 'questionSubType': 'Multiple Choice', 'questionType': 'Multiple Choice'}, 'NDQ_000052': {'answerChoices': {'a': {'idStructural': 'a.', 'processedText': 'satellites.', 'rawText': 'a. satellites.'}, 'b': {'idStructural': 'b.', 'processedText': 'radar.', 'rawText': 'b. radar.'}, 'c': {'idStructural': 'c.', 'processedText': 'telescopes.', 'rawText': 'c. telescopes.'}, 'd': {'idStructural': 'd.', 'processedText': 'two of the above', 'rawText': 'd. two of the above'}}, 'beingAsked': {'processedText': 'Tools typically used by meteorologists include', 'rawText': '7. Tools typically used by meteorologists include'}, 'correctAnswer': {'processedText': 'd', 'rawText': '7. d'}, 'globalID': 'NDQ_000052', 'idStructural': '7. ', 'questionSubType': 'Multiple Choice', 'questionType': 'Multiple Choice'}, 'NDQ_000053': {'answerChoices': {'a': {'idStructural': 'a.', 'processedText': 'astronomy', 'rawText': 'a. astronomy'}, 'b': {'idStructural': 'b.', 'processedText': 'oceanography', 'rawText': 'b. oceanography'}, 'c': {'idStructural': 'c.', 'processedText': 'geology', 'rawText': 'c. geology'}, 'd': {'idStructural': 'd.', 'processedText': 'environmental science', 'rawText': 'd. environmental science'}, 'e': {'idStructural': 'e.', 'processedText': 'Earth science', 'rawText': 'e. Earth science'}, 'f': {'idStructural': 'f.', 'processedText': 'seismology', 'rawText': 'f. seismology'}, 'g': {'idStructural': 'g.', 'processedText': 'meteorology', 'rawText': 'g. meteorology'}}, 'beingAsked': {'processedText': 'study of Earths weather', 'rawText': '1. study of Earths weather'}, 'correctAnswer': {'processedText': 'g', 'rawText': '1.g'}, 'globalID': 'NDQ_000053', 'idStructural': '1.', 'questionSubType': 'Matching', 'questionType': 'Multiple Choice'}, 'NDQ_000054': {'answerChoices': {'a': {'idStructural': 'a.', 'processedText': 'astronomy', 'rawText': 'a. astronomy'}, 'b': {'idStructural': 'b.', 'processedText': 'oceanography', 'rawText': 'b. oceanography'}, 'c': {'idStructural': 'c.', 'processedText': 'geology', 'rawText': 'c. geology'}, 'd': {'idStructural': 'd.', 'processedText': 'environmental science', 'rawText': 'd. environmental science'}, 'e': {'idStructural': 'e.', 'processedText': 'Earth science', 'rawText': 'e. Earth science'}, 'f': {'idStructural': 'f.', 'processedText': 'seismology', 'rawText': 'f. seismology'}, 'g': {'idStructural': 'g.', 'processedText': 'meteorology', 'rawText': 'g. meteorology'}}, 'beingAsked': {'processedText': 'study of earthquakes', 'rawText': '2. study of earthquakes'}, 'correctAnswer': {'processedText': 'f', 'rawText': '2.f'}, 'globalID': 'NDQ_000054', 'idStructural': '2.', 'questionSubType': 'Matching', 'questionType': 'Multiple Choice'}, 'NDQ_000055': {'answerChoices': {'a': {'idStructural': 'a.', 'processedText': 'astronomy', 'rawText': 'a. astronomy'}, 'b': {'idStructural': 'b.', 'processedText': 'oceanography', 'rawText': 'b. oceanography'}, 'c': {'idStructural': 'c.', 'processedText': 'geology', 'rawText': 'c. geology'}, 'd': {'idStructural': 'd.', 'processedText': 'environmental science', 'rawText': 'd. environmental science'}, 'e': {'idStructural': 'e.', 'processedText': 'Earth science', 'rawText': 'e. Earth science'}, 'f': {'idStructural': 'f.', 'processedText': 'seismology', 'rawText': 'f. seismology'}, 'g': {'idStructural': 'g.', 'processedText': 'meteorology', 'rawText': 'g. meteorology'}}, 'beingAsked': {'processedText': 'study of Earths oceans', 'rawText': '3. study of Earths oceans'}, 'correctAnswer': {'processedText': 'b', 'rawText': '3.b'}, 'globalID': 'NDQ_000055', 'idStructural': '3.', 'questionSubType': 'Matching', 'questionType': 'Multiple Choice'}, 'NDQ_000056': {'answerChoices': {'a': {'idStructural': 'a.', 'processedText': 'astronomy', 'rawText': 'a. astronomy'}, 'b': {'idStructural': 'b.', 'processedText': 'oceanography', 'rawText': 'b. oceanography'}, 'c': {'idStructural': 'c.', 'processedText': 'geology', 'rawText': 'c. geology'}, 'd': {'idStructural': 'd.', 'processedText': 'environmental science', 'rawText': 'd. environmental science'}, 'e': {'idStructural': 'e.', 'processedText': 'Earth science', 'rawText': 'e. Earth science'}, 'f': {'idStructural': 'f.', 'processedText': 'seismology', 'rawText': 'f. seismology'}, 'g': {'idStructural': 'g.', 'processedText': 'meteorology', 'rawText': 'g. meteorology'}}, 'beingAsked': {'processedText': 'study of solid Earth', 'rawText': '4. study of solid Earth'}, 'correctAnswer': {'processedText': 'c', 'rawText': '4.c'}, 'globalID': 'NDQ_000056', 'idStructural': '4.', 'questionSubType': 'Matching', 'questionType': 'Multiple Choice'}, 'NDQ_000057': {'answerChoices': {'a': {'idStructural': 'a.', 'processedText': 'astronomy', 'rawText': 'a. astronomy'}, 'b': {'idStructural': 'b.', 'processedText': 'oceanography', 'rawText': 'b. oceanography'}, 'c': {'idStructural': 'c.', 'processedText': 'geology', 'rawText': 'c. geology'}, 'd': {'idStructural': 'd.', 'processedText': 'environmental science', 'rawText': 'd. environmental science'}, 'e': {'idStructural': 'e.', 'processedText': 'Earth science', 'rawText': 'e. Earth science'}, 'f': {'idStructural': 'f.', 'processedText': 'seismology', 'rawText': 'f. seismology'}, 'g': {'idStructural': 'g.', 'processedText': 'meteorology', 'rawText': 'g. meteorology'}}, 'beingAsked': {'processedText': 'study of human effects on Earth', 'rawText': '5. study of human effects on Earth'}, 'correctAnswer': {'processedText': 'd', 'rawText': '5.d'}, 'globalID': 'NDQ_000057', 'idStructural': '5.', 'questionSubType': 'Matching', 'questionType': 'Multiple Choice'}, 'NDQ_000058': {'answerChoices': {'a': {'idStructural': 'a.', 'processedText': 'astronomy', 'rawText': 'a. astronomy'}, 'b': {'idStructural': 'b.', 'processedText': 'oceanography', 'rawText': 'b. oceanography'}, 'c': {'idStructural': 'c.', 'processedText': 'geology', 'rawText': 'c. geology'}, 'd': {'idStructural': 'd.', 'processedText': 'environmental science', 'rawText': 'd. environmental science'}, 'e': {'idStructural': 'e.', 'processedText': 'Earth science', 'rawText': 'e. Earth science'}, 'f': {'idStructural': 'f.', 'processedText': 'seismology', 'rawText': 'f. seismology'}, 'g': {'idStructural': 'g.', 'processedText': 'meteorology', 'rawText': 'g. meteorology'}}, 'beingAsked': {'processedText': 'study of all aspects of planet Earth', 'rawText': '6. study of all aspects of planet Earth'}, 'correctAnswer': {'processedText': 'e', 'rawText': '6.e'}, 'globalID': 'NDQ_000058', 'idStructural': '6.', 'questionSubType': 'Matching', 'questionType': 'Multiple Choice'}, 'NDQ_000059': {'answerChoices': {'a': {'idStructural': 'a.', 'processedText': 'astronomy', 'rawText': 'a. astronomy'}, 'b': {'idStructural': 'b.', 'processedText': 'oceanography', 'rawText': 'b. oceanography'}, 'c': {'idStructural': 'c.', 'processedText': 'geology', 'rawText': 'c. geology'}, 'd': {'idStructural': 'd.', 'processedText': 'environmental science', 'rawText': 'd. environmental science'}, 'e': {'idStructural': 'e.', 'processedText': 'Earth science', 'rawText': 'e. Earth science'}, 'f': {'idStructural': 'f.', 'processedText': 'seismology', 'rawText': 'f. seismology'}, 'g': {'idStructural': 'g.', 'processedText': 'meteorology', 'rawText': 'g. meteorology'}}, 'beingAsked': {'processedText': 'study of the universe', 'rawText': '7. study of the universe'}, 'correctAnswer': {'processedText': 'a', 'rawText': '7.a'}, 'globalID': 'NDQ_000059', 'idStructural': '7.', 'questionSubType': 'Matching', 'questionType': 'Multiple Choice'}, 'NDQ_000060': {'answerChoices': {'a': {'idStructural': 'a.', 'processedText': 'true', 'rawText': 'a. true'}, 'b': {'idStructural': 'b.', 'processedText': 'false', 'rawText': 'b. false'}}, 'beingAsked': {'processedText': 'Earth science is a branch of geology.', 'rawText': '1. Earth science is a branch of geology.'}, 'correctAnswer': {'processedText': 'b', 'rawText': '1.false'}, 'globalID': 'NDQ_000060', 'idStructural': '1.', 'questionSubType': 'True or False', 'questionType': 'Multiple Choice'}, 'NDQ_000061': {'answerChoices': {'a': {'idStructural': 'a.', 'processedText': 'true', 'rawText': 'a. true'}, 'b': {'idStructural': 'b.', 'processedText': 'false', 'rawText': 'b. false'}}, 'beingAsked': {'processedText': 'Some geologists specialize in the study of soil.', 'rawText': '2. Some geologists specialize in the study of soil.'}, 'correctAnswer': {'processedText': 'a', 'rawText': '2.true'}, 'globalID': 'NDQ_000061', 'idStructural': '2.', 'questionSubType': 'True or False', 'questionType': 'Multiple Choice'}, 'NDQ_000062': {'answerChoices': {'a': {'idStructural': 'a.', 'processedText': 'true', 'rawText': 'a. true'}, 'b': {'idStructural': 'b.', 'processedText': 'false', 'rawText': 'b. false'}}, 'beingAsked': {'processedText': 'Rock layers below Earths surface are a record of Earths history.', 'rawText': '3. Rock layers below Earths surface are a record of Earths history.'}, 'correctAnswer': {'processedText': 'a', 'rawText': '3.true'}, 'globalID': 'NDQ_000062', 'idStructural': '3.', 'questionSubType': 'True or False', 'questionType': 'Multiple Choice'}, 'NDQ_000063': {'answerChoices': {'a': {'idStructural': 'a.', 'processedText': 'true', 'rawText': 'a. true'}, 'b': {'idStructural': 'b.', 'processedText': 'false', 'rawText': 'b. false'}}, 'beingAsked': {'processedText': 'The science of oceanography started with mapping the oceans.', 'rawText': '4. The science of oceanography started with mapping the oceans.'}, 'correctAnswer': {'processedText': 'a', 'rawText': '4.true'}, 'globalID': 'NDQ_000063', 'idStructural': '4.', 'questionSubType': 'True or False', 'questionType': 'Multiple Choice'}, 'NDQ_000064': {'answerChoices': {'a': {'idStructural': 'a.', 'processedText': 'true', 'rawText': 'a. true'}, 'b': {'idStructural': 'b.', 'processedText': 'false', 'rawText': 'b. false'}}, 'beingAsked': {'processedText': 'Scientists have not yet visited the deepest parts of the ocean.', 'rawText': '5. Scientists have not yet visited the deepest parts of the ocean.'}, 'correctAnswer': {'processedText': 'b', 'rawText': '5.false'}, 'globalID': 'NDQ_000064', 'idStructural': '5.', 'questionSubType': 'True or False', 'questionType': 'Multiple Choice'}, 'NDQ_000065': {'answerChoices': {'a': {'idStructural': 'a.', 'processedText': 'true', 'rawText': 'a. true'}, 'b': {'idStructural': 'b.', 'processedText': 'false', 'rawText': 'b. false'}}, 'beingAsked': {'processedText': 'Most of Earths water is in rivers and lakes.', 'rawText': '6. Most of Earths water is in rivers and lakes.'}, 'correctAnswer': {'processedText': 'b', 'rawText': '6.false'}, 'globalID': 'NDQ_000065', 'idStructural': '6.', 'questionSubType': 'True or False', 'questionType': 'Multiple Choice'}, 'NDQ_000066': {'answerChoices': {'a': {'idStructural': 'a.', 'processedText': 'true', 'rawText': 'a. true'}, 'b': {'idStructural': 'b.', 'processedText': 'false', 'rawText': 'b. false'}}, 'beingAsked': {'processedText': 'Humans have had relatively little impact on the oceans.', 'rawText': '7. Humans have had relatively little impact on the oceans.'}, 'correctAnswer': {'processedText': 'b', 'rawText': '7.false'}, 'globalID': 'NDQ_000066', 'idStructural': '7.', 'questionSubType': 'True or False', 'questionType': 'Multiple Choice'}, 'NDQ_000067': {'answerChoices': {'a': {'idStructural': 'a.', 'processedText': 'true', 'rawText': 'a. true'}, 'b': {'idStructural': 'b.', 'processedText': 'false', 'rawText': 'b. false'}}, 'beingAsked': {'processedText': 'There are several branches of oceanography.', 'rawText': '8. There are several branches of oceanography.'}, 'correctAnswer': {'processedText': 'a', 'rawText': '8.true'}, 'globalID': 'NDQ_000067', 'idStructural': '8.', 'questionSubType': 'True or False', 'questionType': 'Multiple Choice'}, 'NDQ_000068': {'answerChoices': {'a': {'idStructural': 'a.', 'processedText': 'true', 'rawText': 'a. true'}, 'b': {'idStructural': 'b.', 'processedText': 'false', 'rawText': 'b. false'}}, 'beingAsked': {'processedText': 'Meteorologists study meteors.', 'rawText': '9. Meteorologists study meteors.'}, 'correctAnswer': {'processedText': 'b', 'rawText': '9.false'}, 'globalID': 'NDQ_000068', 'idStructural': '9.', 'questionSubType': 'True or False', 'questionType': 'Multiple Choice'}, 'NDQ_000069': {'answerChoices': {'a': {'idStructural': 'a.', 'processedText': 'true', 'rawText': 'a. true'}, 'b': {'idStructural': 'b.', 'processedText': 'false', 'rawText': 'b. false'}}, 'beingAsked': {'processedText': 'The burning of fossil fuels contributes to global warming.', 'rawText': '10. The burning of fossil fuels contributes to global warming.'}, 'correctAnswer': {'processedText': 'a', 'rawText': '10.true'}, 'globalID': 'NDQ_000069', 'idStructural': '10.', 'questionSubType': 'True or False', 'questionType': 'Multiple Choice'}}}, 'topics': {'T_0016': {'content': {'figures': [{'caption': 'FIGURE 1.11 (A) Mineralogists focus on all kinds of minerals. (B) Seismographs are used to measure earthquakes and pinpoint their origins.', 'imagePath': 'textbook_images/earth_science_and_its_branches_20011.png'}], 'mediaLinks': [], 'text': 'Geology is the study of the solid Earth. Geologists study how rocks and minerals form. The way mountains rise up is part of geology. The way mountains erode away is another part. Geologists also study fossils and Earths history. There are many other branches of geology. There is so much to know about our home planet that most geologists become specialists in one area. For example, a mineralogist studies minerals, as seen in (Figure 1.11). Some volcanologists brave molten lava to study volcanoes. Seismologists monitor earthquakes worldwide to help protect people and property from harm (Figure 1.11). Paleontologists are interested in fossils and how ancient organisms lived. Scientists who compare the geology of other planets to Earth are planetary geologists. Some geologists study the Moon. Others look for petroleum. Still others specialize in studying soil. Some geologists can tell how old rocks are and determine how different rock layers formed. There is probably an expert in almost anything you can think of related to Earth! Geologists might study rivers and lakes, the underground water found between soil and rock particles, or even water that is frozen in glaciers. Earth scientists also need geographers who explore the features of Earths surface and work with cartographers, who make maps. Studying the layers of rock beneath the surface helps us to understand the history of planet Earth (Figure 1.12). '}, 'globalID': 'T_0016', 'topicName': 'Geology'}, 'T_0017': {'content': {'figures': [{'caption': 'FIGURE 1.12 These folded rock layers have bent over time. Studying rock layers helps scientists to explain these layers and the geologic history of the area.', 'imagePath': 'textbook_images/earth_science_and_its_branches_20012.png'}, {'caption': 'FIGURE 1.13 This research vessel is specially designed to explore the seas around Antarctica.', 'imagePath': 'textbook_images/earth_science_and_its_branches_20013.png'}], 'mediaLinks': [], 'text': 'Oceanography is the study of the oceans. The word oceanology might be more accurate, since ology is the study of. Graph is to write and refers to map making. But mapping the oceans is how oceanography started. More than 70% of Earths surface is covered with water. Almost all of that water is in the oceans. Scientists have visited the deepest parts of the ocean in submarines. Remote vehicles go where humans cant. Yet much of the ocean remains unexplored. Some people call the ocean the last frontier. Humans have had a big impact on the oceans. Populations of fish and other marine species have been overfished. Contaminants are polluting the waters. Global warming is melting the thick ice caps and warming the water. Warmer water expands and, along with water from the melting ice caps, causes sea levels to rise. There are many branches of oceanography. Physical oceanography is the study of water movement, like waves and ocean currents (Figure 1.13). Marine geology looks at rocks and structures in the ocean basins. Chemical oceanography studies the natural elements in ocean water. Marine biology looks at marine life. '}, 'globalID': 'T_0017', 'topicName': 'Oceanography'}, 'T_0018': {'content': {'figures': [{'caption': 'FIGURE 1.14 Meteorologists can help us to prepare for major storms or know if today is a good day for a picnic.', 'imagePath': 'textbook_images/earth_science_and_its_branches_20014.png'}, {'caption': 'FIGURE 1.15 Carbon dioxide released into the atmo- sphere is causing global warming.', 'imagePath': 'textbook_images/earth_science_and_its_branches_20015.png'}], 'mediaLinks': [], 'text': 'Meteorologists dont study meteors they study the atmosphere! The word meteor refers to things in the air. Meteorology includes the study of weather patterns, clouds, hurricanes, and tornadoes. Meteorology is very important. Using radars and satellites, meteorologists work to predict, or forecast, the weather (Figure 1.14). The atmosphere is a thin layer of gas that surrounds Earth. Climatologists study the atmosphere. These scientists work to understand the climate as it is now. They also study how climate will change in response to global warming. The atmosphere contains small amounts of carbon dioxide. Climatologists have found that humans are putting a lot of extra carbon dioxide into the atmosphere. This is mostly from burning fossil fuels. The extra carbon dioxide traps heat from the Sun. Trapped heat causes the atmosphere to heat up. We call this global warming (Figure 1.15). '}, 'globalID': 'T_0018', 'topicName': 'Climatology and Meteorology'}, 'T_0019': {'content': {'figures': [{'caption': 'FIGURE 1.16 In a marine ecosystem, coral, fish, and other sea life depend on each other for survival.', 'imagePath': 'textbook_images/earth_science_and_its_branches_20016.png'}], 'mediaLinks': [], 'text': 'Environmental scientists study the ways that humans affect the planet we live on. We hope to find better ways of living that can also help the environment. Ecologists study lifeforms and the environments they live in (Figure 1.16). They try to predict the chain reactions that could occur when one part of the ecosystem is disrupted. '}, 'globalID': 'T_0019', 'topicName': 'Environmental Science'}, 'T_0020': {'content': {'figures': [], 'mediaLinks': [], 'text': 'Astronomy and astronomers have shown that the planets in our solar system are not the only planets in the universe. Over 530 planets were known outside our solar system in 2011. And there are billions of other planets! The universe also contains black holes, other galaxies, asteroids, comets, and nebula. As big as Earth seems, the entire universe is vastly more enormous. Earth is just a tiny part of our universe. Astronomers use many tools to study things in space. Earth-orbiting telescopes view stars and galaxies from the darkness of space (Figure 1.17). They may have optical and radio telescopes to see things that the human eye cant see. Spacecraft travel great distances to send back information on faraway places. Astronomers ask a wide variety of questions. How do strong bursts of energy from the Sun, called solar flares, affect communications? How might an impact from an asteroid affect life on Earth? What are the properties of black holes? Astronomers ask bigger questions too. How was the universe created? Is there life on other planets? Are there resources on other planets that people could use? Astronomers use what Earth scientists know to make comparisons with other planets. '}, 'globalID': 'T_0020', 'topicName': 'Astronomy'}}}\n"
     ]
    }
   ],
   "source": [
    "# Load the dataset JSON file\n",
    "data_path = \"../data/tqa_train_val_test/train/tqa_v1_train.json\"\n",
    "with open(data_path, \"r\", encoding=\"utf-8\") as f:\n",
    "    data = json.load(f)\n",
    "\n",
    "# For a quick check, print the first record\n",
    "print(data[0])"
   ]
  },
  {
   "cell_type": "code",
   "execution_count": 4,
   "id": "8cf6e56b",
   "metadata": {},
   "outputs": [],
   "source": [
    "def extract_textbook_text(entry):\n",
    "    \"\"\"\n",
    "    Extract textbook text from a TQA dataset entry.\n",
    "    Retrieves text from the 'adjunctTopics' and 'topics' sections.\n",
    "    \"\"\"\n",
    "    texts = []\n",
    "    \n",
    "    # Extract text from adjunctTopics\n",
    "    adjunct_topics = entry.get(\"adjunctTopics\", {})\n",
    "    for topic in adjunct_topics.values():\n",
    "        content = topic.get(\"content\", {})\n",
    "        text = content.get(\"text\", \"\")\n",
    "        if text:\n",
    "            texts.append(text.strip())\n",
    "            \n",
    "    # Extract text from topics\n",
    "    topics = entry.get(\"topics\", {})\n",
    "    for topic in topics.values():\n",
    "        content = topic.get(\"content\", {})\n",
    "        text = content.get(\"text\", \"\")\n",
    "        if text:\n",
    "            texts.append(text.strip())\n",
    "    \n",
    "    return texts"
   ]
  },
  {
   "cell_type": "code",
   "execution_count": 5,
   "id": "1b1adcd6-06a2-46aa-9f29-9fecaa3dcd9b",
   "metadata": {},
   "outputs": [],
   "source": [
    "import os\n",
    "\n",
    "def extract_textbook_text_with_image_explainations(entry):\n",
    "    \"\"\"\n",
    "    Extract textbook text from a TQA dataset entry.\n",
    "    Retrieves text from:\n",
    "      - 'lessonName'\n",
    "      - 'adjunctTopics' and their content text and figures (with LLava explanations)\n",
    "      - 'topics' and their content text and figures (with LLava explanations)\n",
    "    \n",
    "    For figures, this function assumes that:\n",
    "      - Figures with image paths containing \"textbook_images\" have their LLava explanations \n",
    "        stored in the \"textbook_images_llava_captions\" folder.\n",
    "      - Figures with image paths containing \"teaching_images\" have their LLava explanations \n",
    "        stored in the \"teaching_images_llava_captions\" folder.\n",
    "    \n",
    "    Explanation files are assumed to be named as the image file name (without its extension)\n",
    "    plus a \".txt\" extension, and are located under the base directory:\n",
    "    \"../data/tqa_train_val_test/train/\"\n",
    "    \"\"\"\n",
    "    texts = []\n",
    "    \n",
    "    # Include lesson title\n",
    "    lesson_name = entry.get(\"lessonName\", \"\")\n",
    "    if lesson_name:\n",
    "        texts.append(f\"Lesson: {lesson_name.strip()}\")\n",
    "    \n",
    "    # Base directory for explanation files\n",
    "    base_dir = \"../data/tqa_train_val_test/train/\"\n",
    "    \n",
    "    def extract_content_and_explanations(section):\n",
    "        section_texts = []\n",
    "        content = section.get(\"content\", {})\n",
    "        \n",
    "        # Append the text content if available\n",
    "        text = content.get(\"text\", \"\")\n",
    "        if text:\n",
    "            section_texts.append(text.strip())\n",
    "        \n",
    "        # Process figures for captions and explanations\n",
    "        figures = content.get(\"figures\", [])\n",
    "        for fig in figures:\n",
    "            caption = fig.get(\"caption\", \"\").strip()\n",
    "            image_path = fig.get(\"imagePath\", \"\")\n",
    "            if image_path:\n",
    "                # Determine the appropriate explanation folder based on the image path\n",
    "                if \"textbook_images\" in image_path:\n",
    "                    explanation_folder = \"textbook_images_llava_captions\"\n",
    "                elif \"teaching_images\" in image_path:\n",
    "                    explanation_folder = \"teaching_images_llava_captions\"\n",
    "                else:\n",
    "                    explanation_folder = None\n",
    "                \n",
    "                if explanation_folder:\n",
    "                    file_name = os.path.basename(image_path)\n",
    "                    # Remove file extension and add .txt\n",
    "                    base_name = os.path.splitext(file_name)[0]\n",
    "                    explanation_file = os.path.join(base_dir, explanation_folder, base_name + \".txt\")\n",
    "                    # print(\"Looking for explanation file:\", explanation_file)\n",
    "                    if os.path.exists(explanation_file):\n",
    "                        with open(explanation_file, 'r') as f:\n",
    "                            explanation = f.read().strip()\n",
    "                        if explanation:\n",
    "                            # Combine caption and explanation in a single string\n",
    "                            combined_text = \"\"\n",
    "                            if caption:\n",
    "                                combined_text += f\"Image Caption: {caption}. \"\n",
    "                            combined_text += f\"Image Explanation: {explanation}\"\n",
    "                            section_texts.append(combined_text)\n",
    "        return section_texts\n",
    "\n",
    "    # Extract text and explanations from adjunctTopics\n",
    "    adjunct_topics = entry.get(\"adjunctTopics\", {})\n",
    "    for topic in adjunct_topics.values():\n",
    "        texts.extend(extract_content_and_explanations(topic))\n",
    "    \n",
    "    # Extract text and explanations from topics\n",
    "    topics = entry.get(\"topics\", {})\n",
    "    for topic in topics.values():\n",
    "        texts.extend(extract_content_and_explanations(topic))\n",
    "    \n",
    "    return texts\n"
   ]
  },
  {
   "cell_type": "code",
   "execution_count": 6,
   "id": "968cfab7",
   "metadata": {},
   "outputs": [
    {
     "name": "stdout",
     "output_type": "stream",
     "text": [
      "Combined Text:\n",
      "\n",
      "Lesson: earth science and its branches\n",
      "\n",
      "5. A glacier is melting. What are all of the scientists you can think of who might be involved in studying this glacier? What would each of them do?\n",
      "\n",
      "Earth Science is the study of all aspects of our planet Earth. Earth Science is not just about the molten lava, icy mountain peaks, steep canyons and towering waterfalls of the continents. Earth Science includes the atmosphere and oceans. The field also looks out into the solar system, galaxy, and universe. Earth scientists seek to understand the beautiful planet on which we depend (Figure 1.10). Different branches of Earth Science study one particular part of Earth. Since all of the branches are connected, specialists work together to answer complicated questions. Lets look at some important branches of Earth Science.\n",
      "\n",
      "Image Caption: FIGURE 1.10 Earth as seen from Apollo 17.. Image Explanation: The image shows a close-up view of the Earth from space. The Earth is surrounded by a black background, emphasizing the planet's features. The Earth is divided into different continents and oceans, making it easy to identify the various land masses and bodies of water. The image captures the beauty and complexity of our planet, showcasing the diverse landscapes and the interconnectedness of the Earth's ecosystems.\n",
      "\n",
      "Describe Earth Science and its branches.\n",
      "Identify the field of geology as a branch of Earth Science that deals with the rocks and minerals of Earth.\n",
      "Describe the field of oceanography as a branch of Earth Science that explores the ocean.\n",
      "Define the field of meteorology as a branch of Earth Science that deals with the atmosphere.\n",
      "Understand that astronomy is a branch of Earth Science that studies our solar system and universe.\n",
      "List some of the other branches of Earth Science, and how they relate to the study of Earth.\n",
      "\n",
      "Earth science includes many fields of science related to our home planet. Geology is the study of Earths material and structures and the processes that create them. Oceanography is the study of the oceans: water movement, chemistry and the ocean basins among other things. Meteorologists study the atmosphere including climate and weather. Environmental science deals with the effects people have on the environment. Astronomers study Earths larger environment: the solar system, galaxy, and universe that our planet resides in.\n",
      "\n",
      "Image Caption: FIGURE 1.17 Scientists are using telescopes to search for other planets that may have conditions favorable for life. The places they can look are near our solar system in our galaxy.. Image Explanation: In the image, there is a representation of the solar system, focusing on the sun and the planets. The sun is located in the center of the image, with the planets surrounding it. The planets are labeled as follows:\n",
      "1. Mercury\n",
      "2. Venus\n",
      "3. Earth\n",
      "4. Mars\n",
      "5. Jupiter\n",
      "6. Saturn\n",
      "7. Uranus\n",
      "8. Neptune\n",
      "In addition to the planets, there is a reference to the \"Our Planet Hunting Neighborhood\" in the bottom right corner of the image.\n",
      "\n",
      "Why is Earth Science so important? Which branch of Earth Science would you most like to explore? What is the biggest problem that we face today? Which Earth scientists may help us to solve the problem? What other branches of science or society are related to and necessary for Earth Science?\n",
      "\n",
      "1. What are three major branches of Earth Science? 2. What branch of science deals with stars and galaxies beyond Earth? 3. List important functions of Earth scientists. 4. What does a meteorologist study?\n",
      "\n",
      "6. Design an experiment that you could conduct in any branch of Earth Science. Identify the independent variable and dependent variable.\n",
      "\n",
      "Geology is the study of the solid Earth. Geologists study how rocks and minerals form. The way mountains rise up is part of geology. The way mountains erode away is another part. Geologists also study fossils and Earths history. There are many other branches of geology. There is so much to know about our home planet that most geologists become specialists in one area. For example, a mineralogist studies minerals, as seen in (Figure 1.11). Some volcanologists brave molten lava to study volcanoes. Seismologists monitor earthquakes worldwide to help protect people and property from harm (Figure 1.11). Paleontologists are interested in fossils and how ancient organisms lived. Scientists who compare the geology of other planets to Earth are planetary geologists. Some geologists study the Moon. Others look for petroleum. Still others specialize in studying soil. Some geologists can tell how old rocks are and determine how different rock layers formed. There is probably an expert in almost anything you can think of related to Earth! Geologists might study rivers and lakes, the underground water found between soil and rock particles, or even water that is frozen in glaciers. Earth scientists also need geographers who explore the features of Earths surface and work with cartographers, who make maps. Studying the layers of rock beneath the surface helps us to understand the history of planet Earth (Figure 1.12).\n",
      "\n",
      "Image Caption: FIGURE 1.11 (A) Mineralogists focus on all kinds of minerals. (B) Seismographs are used to measure earthquakes and pinpoint their origins.. Image Explanation: In the image, there is a display case filled with various rocks and minerals. The display case is divided into three sections, each containing different types of rocks and minerals. The rocks and minerals are arranged in a visually appealing manner, showcasing their unique characteristics.\n",
      "In addition to the rocks and minerals, there are two clocks present in the scene. One clock is located on the left side of the display case, while the other clock is positioned on the right side. These clocks likely help visitors keep track of time during their visit to the exhibit.\n",
      "\n",
      "Oceanography is the study of the oceans. The word oceanology might be more accurate, since ology is the study of. Graph is to write and refers to map making. But mapping the oceans is how oceanography started. More than 70% of Earths surface is covered with water. Almost all of that water is in the oceans. Scientists have visited the deepest parts of the ocean in submarines. Remote vehicles go where humans cant. Yet much of the ocean remains unexplored. Some people call the ocean the last frontier. Humans have had a big impact on the oceans. Populations of fish and other marine species have been overfished. Contaminants are polluting the waters. Global warming is melting the thick ice caps and warming the water. Warmer water expands and, along with water from the melting ice caps, causes sea levels to rise. There are many branches of oceanography. Physical oceanography is the study of water movement, like waves and ocean currents (Figure 1.13). Marine geology looks at rocks and structures in the ocean basins. Chemical oceanography studies the natural elements in ocean water. Marine biology looks at marine life.\n",
      "\n",
      "Image Caption: FIGURE 1.12 These folded rock layers have bent over time. Studying rock layers helps scientists to explain these layers and the geologic history of the area.. Image Explanation: The image depicts a mountainous landscape with a large, steep cliff in the foreground. The cliff appears to be made of red rock, giving it a striking appearance. In the background, there is a blue sky, adding to the beauty of the scene.\n",
      "A few trees can be seen scattered throughout the landscape, with some closer to the cliff and others further away. The combination of the red rock cliff, the blue sky, and the trees creates a picturesque and serene environment.\n",
      "\n",
      "Image Caption: FIGURE 1.13 This research vessel is specially designed to explore the seas around Antarctica.. Image Explanation: In the image, there is a large red and white ship docked in a harbor. The ship appears to be a crane barge, which is a type of vessel used for lifting and transporting heavy loads. The crane barge is docked next to a large building, which could be a warehouse or another type of facility.\n",
      "There are several birds flying in the sky above the crane barge, adding a sense of liveliness to the scene. Additionally, there are two people visible in the image, likely observing the crane barge or going about their daily activities in the harbor area.\n",
      "\n",
      "Meteorologists dont study meteors they study the atmosphere! The word meteor refers to things in the air. Meteorology includes the study of weather patterns, clouds, hurricanes, and tornadoes. Meteorology is very important. Using radars and satellites, meteorologists work to predict, or forecast, the weather (Figure 1.14). The atmosphere is a thin layer of gas that surrounds Earth. Climatologists study the atmosphere. These scientists work to understand the climate as it is now. They also study how climate will change in response to global warming. The atmosphere contains small amounts of carbon dioxide. Climatologists have found that humans are putting a lot of extra carbon dioxide into the atmosphere. This is mostly from burning fossil fuels. The extra carbon dioxide traps heat from the Sun. Trapped heat causes the atmosphere to heat up. We call this global warming (Figure 1.15).\n",
      "\n",
      "Image Caption: FIGURE 1.14 Meteorologists can help us to prepare for major storms or know if today is a good day for a picnic.. Image Explanation: The image depicts a dark, cloudy sky above a lush green forest. The sky is filled with clouds, creating a dramatic backdrop for the trees. There are several trees scattered throughout the scene, with some closer to the foreground and others further in the distance. The combination of the dark sky and the vibrant greenery of the forest creates a captivating and serene atmosphere.\n",
      "\n",
      "Image Caption: FIGURE 1.15 Carbon dioxide released into the atmo- sphere is causing global warming.. Image Explanation: In the image, there is a group of four smokestacks emitting a significant amount of smoke into the sky. The smokestacks are part of a power plant, and the smoke appears to be a byproduct of the plant's operation. The sky above the smokestacks is cloudy, adding to the overall atmosphere of the scene. The power plant is located near some trees, which can be seen in the foreground of the image.\n",
      "\n",
      "Environmental scientists study the ways that humans affect the planet we live on. We hope to find better ways of living that can also help the environment. Ecologists study lifeforms and the environments they live in (Figure 1.16). They try to predict the chain reactions that could occur when one part of the ecosystem is disrupted.\n",
      "\n",
      "Image Caption: FIGURE 1.16 In a marine ecosystem, coral, fish, and other sea life depend on each other for survival.. Image Explanation: In the image, there is a diverse group of colorful fish swimming together in a coral reef. The fish are scattered throughout the scene, with some closer to the foreground and others further in the background. The fish vary in size and color, creating a vibrant and lively underwater environment. The coral reef provides a natural habitat for these aquatic creatures, allowing them to thrive and interact with one another.\n",
      "\n",
      "Astronomy and astronomers have shown that the planets in our solar system are not the only planets in the universe. Over 530 planets were known outside our solar system in 2011. And there are billions of other planets! The universe also contains black holes, other galaxies, asteroids, comets, and nebula. As big as Earth seems, the entire universe is vastly more enormous. Earth is just a tiny part of our universe. Astronomers use many tools to study things in space. Earth-orbiting telescopes view stars and galaxies from the darkness of space (Figure 1.17). They may have optical and radio telescopes to see things that the human eye cant see. Spacecraft travel great distances to send back information on faraway places. Astronomers ask a wide variety of questions. How do strong bursts of energy from the Sun, called solar flares, affect communications? How might an impact from an asteroid affect life on Earth? What are the properties of black holes? Astronomers ask bigger questions too. How was the universe created? Is there life on other planets? Are there resources on other planets that people could use? Astronomers use what Earth scientists know to make comparisons with other planets.\n"
     ]
    }
   ],
   "source": [
    "# Combine the extracted text from the first record\n",
    "extracted_texts = extract_textbook_text_with_image_explainations(data[0])\n",
    "combined_text = \"\\n\\n\".join(extracted_texts)\n",
    "print(\"Combined Text:\\n\")\n",
    "print(combined_text)"
   ]
  },
  {
   "cell_type": "code",
   "execution_count": 7,
   "id": "e5123c88",
   "metadata": {},
   "outputs": [],
   "source": [
    "# ########################\n",
    "# # 1. Generate Mindmap(v1)  #\n",
    "# ########################\n",
    "# def generate_mindmap(text, llm, max_tokens=500):\n",
    "#     \"\"\"\n",
    "#     Generate a mind map in Mermaid syntax for the given text using ChatOpenAI (or similar LLM).\n",
    "#     The mind map should capture the main topics and their subtopics in a clear hierarchical structure.\n",
    "#     IMPORTANT: We instruct the model not to use a generic 'root' node, but rather a relevant main topic\n",
    "#     as the central node for better readability.\n",
    "#     \"\"\"\n",
    "#     prompt = (\n",
    "#         \"Generate a mind map in Mermaid syntax for the following textbook text. \"\n",
    "#         \"The mind map should capture the main topics and their subtopics clearly in a hierarchical structure. \"\n",
    "#         \"Ensure that there is exactly one central (root) node, which is the only root, and attach all other topics \"\n",
    "#         \"as subtopics of this central node. Do NOT include a 'root' node with a generic label; instead, use a relevant central topic. \"\n",
    "#         \"Also, do NOT include any theme directives such as %%{init: {\\\"theme\\\": \\\"default\\\"}}%%, any parentheses or any extraneous formatting.\"\n",
    "#         \"The mind map should be self-explanatory so that by reading it, a user can understand the key content and structure \"\n",
    "#         \"of the text document. Keep the Mermaid syntax minimal so it renders correctly, and be concise.\\n\\n\"\n",
    "#         f\"{text}\\n\\n\"\n",
    "#         \"Mermaid Mind Map:\"\n",
    "#     )\n",
    "    \n",
    "#     result = llm.invoke(prompt, max_tokens=max_tokens)\n",
    "#     mindmap = result.content.strip()\n",
    "#     return mindmap"
   ]
  },
  {
   "cell_type": "code",
   "execution_count": 38,
   "id": "c811b020-a28d-4281-8aa1-73c7ee988f1d",
   "metadata": {},
   "outputs": [],
   "source": [
    "########################\n",
    "# 1. Generate Mindmap(v2)  #\n",
    "########################\n",
    "def generate_mindmap(text, llm, max_tokens=500):\n",
    "    \"\"\"\n",
    "    Generate a mind map in Mermaid syntax for the given text using ChatOpenAI (or similar LLM).\n",
    "    The mind map should capture the main topics and their subtopics in a clear hierarchical structure.\n",
    "    IMPORTANT: We instruct the model not to use a generic 'root' node, but rather a relevant main topic\n",
    "    as the central node for better readability.\n",
    "    \"\"\"\n",
    "    prompt = (\n",
    "        \"Generate a mind map in Mermaid syntax for the following textbook text. \"\n",
    "        \"Ensure that there is exactly one central (root) node, which is the only root, and attach all other topics \"\n",
    "        \"as subtopics of this central node. Do NOT include a 'root' node with a generic label; instead, use a relevant central topic. \"\n",
    "        \"Also, do NOT include any theme directives such as %%{init: {\\\"theme\\\": \\\"default\\\"}}%%, any parentheses, (, ) or any extraneous formatting. strictly no ( or )\"\n",
    "        \"The mind map should be self-explanatory so that by reading it, a user can understand the key content of the text document.\"\n",
    "        \"Keep the Mermaid syntax minimal so it renders correctly.\\n\\n\"\n",
    "        f\"{text}\\n\\n\"\n",
    "        \"Mermaid Mind Map:\"\n",
    "    )\n",
    "\n",
    "    result = llm.invoke(prompt, max_tokens=max_tokens)\n",
    "    mindmap = result.content.strip()\n",
    "    return mindmap"
   ]
  },
  {
   "cell_type": "code",
   "execution_count": 9,
   "id": "361fc7e4",
   "metadata": {},
   "outputs": [],
   "source": [
    "############################\n",
    "# 2. Clean Mermaid Code    #\n",
    "############################\n",
    "import re\n",
    "\n",
    "def clean_mermaid_code(code):\n",
    "    # Split into lines and remove any markdown fences or theme directives\n",
    "    lines = code.splitlines()\n",
    "    cleaned_lines = []\n",
    "    for line in lines:\n",
    "        if line.strip().startswith(\"```\"):\n",
    "            continue\n",
    "        if \"%%{init:\" in line:\n",
    "            continue\n",
    "        cleaned_lines.append(line)\n",
    "    return \"\\n\".join(cleaned_lines)\n"
   ]
  },
  {
   "cell_type": "code",
   "execution_count": 10,
   "id": "8248af39",
   "metadata": {},
   "outputs": [],
   "source": [
    "from IPython.display import SVG, display\n",
    "import subprocess\n",
    "import os\n",
    "\n",
    "def render_mermaid(mindmap_code, output_filename='mermaid_output.svg', theme='neutral', background_color=None, css_file=None):\n",
    "    \"\"\"\n",
    "    Render a Mermaid diagram as an SVG file using the Mermaid CLI (mmdc).\n",
    "    \n",
    "    Parameters:\n",
    "    - mindmap_code: Mermaid syntax code to render.\n",
    "    - output_filename: Name of the output SVG file.\n",
    "    - theme: Mermaid theme to use (e.g., 'forest', 'dark', 'neutral').\n",
    "    - background_color: Optional background color (e.g., \"#ffffff\").\n",
    "    - css_file: Optional path to a custom CSS file for additional styling.\n",
    "    \n",
    "    The function writes the Mermaid code to a temporary file, invokes the Mermaid CLI,\n",
    "    displays the generated SVG inline (Jupyter/IPython), and cleans up temporary files.\n",
    "    \"\"\"\n",
    "    # Write Mermaid code to a temporary file\n",
    "    temp_file = \"temp_mermaid.mmd\"\n",
    "    with open(temp_file, \"w\", encoding=\"utf-8\") as f:\n",
    "        f.write(mindmap_code)\n",
    "    \n",
    "    # Build the command for Mermaid CLI\n",
    "    cmd = [\"mmdc\", \"-i\", temp_file, \"-o\", output_filename, \"-t\", theme]\n",
    "    \n",
    "    if background_color:\n",
    "        cmd.extend([\"-b\", background_color])\n",
    "    \n",
    "    if css_file:\n",
    "        cmd.extend([\"-c\", css_file])\n",
    "    \n",
    "    subprocess.run(cmd, check=True)\n",
    "    \n",
    "    # Display the generated SVG inline (Jupyter/IPython)\n",
    "    # display(SVG(output_filename))\n",
    "    \n",
    "    os.remove(temp_file)\n"
   ]
  },
  {
   "cell_type": "code",
   "execution_count": 11,
   "id": "029cf3d8",
   "metadata": {},
   "outputs": [
    {
     "name": "stdout",
     "output_type": "stream",
     "text": [
      "\n",
      "Generated Mind Map (Mermaid format):\n",
      "\n",
      "```mermaid\n",
      "mindmap\n",
      "  Earth Science\n",
      "    Definition\n",
      "      Study of all aspects of Earth\n",
      "      Includes atmosphere and oceans\n",
      "      Explores solar system and universe\n",
      "    Branches\n",
      "      Geology\n",
      "        Study of rocks and minerals\n",
      "        Processes of Earth\n",
      "        Specializations\n",
      "          Mineralogy\n",
      "          Volcanology\n",
      "          Seismology\n",
      "          Paleontology\n",
      "          Planetary geology\n",
      "      Oceanography\n",
      "        Study of oceans\n",
      "        Water movement and chemistry\n",
      "        Specializations\n",
      "          Physical oceanography\n",
      "          Marine geology\n",
      "          Chemical oceanography\n",
      "          Marine biology\n",
      "      Meteorology\n",
      "        Study of atmosphere\n",
      "        Weather patterns and climate\n",
      "        Importance of forecasting\n",
      "      Environmental Science\n",
      "        Human impact on environment\n",
      "        Ecological studies\n",
      "      Astronomy\n",
      "        Study of solar system and universe\n",
      "        Tools for exploration\n",
      "        Questions about existence and resources\n",
      "    Importance\n",
      "      Understanding Earth's systems\n",
      "      Addressing global challenges\n",
      "      Collaboration among scientists\n",
      "    Experiment Design\n",
      "      Identify independent and dependent variables\n",
      "```\n"
     ]
    }
   ],
   "source": [
    "# Generate the Mermaid mind map for the combined textbook text\n",
    "mindmap_code = generate_mindmap(combined_text, llm)\n",
    "print(\"\\nGenerated Mind Map (Mermaid format):\\n\")\n",
    "print(mindmap_code)"
   ]
  },
  {
   "cell_type": "code",
   "execution_count": 12,
   "id": "2c2bcbca",
   "metadata": {},
   "outputs": [
    {
     "name": "stdout",
     "output_type": "stream",
     "text": [
      "Cleaned Mermaid code:\n",
      "mindmap\n",
      "  Earth Science\n",
      "    Definition\n",
      "      Study of all aspects of Earth\n",
      "      Includes atmosphere and oceans\n",
      "      Explores solar system and universe\n",
      "    Branches\n",
      "      Geology\n",
      "        Study of rocks and minerals\n",
      "        Processes of Earth\n",
      "        Specializations\n",
      "          Mineralogy\n",
      "          Volcanology\n",
      "          Seismology\n",
      "          Paleontology\n",
      "          Planetary geology\n",
      "      Oceanography\n",
      "        Study of oceans\n",
      "        Water movement and chemistry\n",
      "        Specializations\n",
      "          Physical oceanography\n",
      "          Marine geology\n",
      "          Chemical oceanography\n",
      "          Marine biology\n",
      "      Meteorology\n",
      "        Study of atmosphere\n",
      "        Weather patterns and climate\n",
      "        Importance of forecasting\n",
      "      Environmental Science\n",
      "        Human impact on environment\n",
      "        Ecological studies\n",
      "      Astronomy\n",
      "        Study of solar system and universe\n",
      "        Tools for exploration\n",
      "        Questions about existence and resources\n",
      "    Importance\n",
      "      Understanding Earth's systems\n",
      "      Addressing global challenges\n",
      "      Collaboration among scientists\n",
      "    Experiment Design\n",
      "      Identify independent and dependent variables\n",
      "Generating single mermaid chart\n"
     ]
    }
   ],
   "source": [
    "\n",
    "# 2) Clean code to remove markdown fences\n",
    "cleaned_code = clean_mermaid_code(mindmap_code)\n",
    "print(\"Cleaned Mermaid code:\")\n",
    "print(cleaned_code)\n",
    "\n",
    "# 3) Render with the desired theme (e.g., 'forest', 'dark', 'neutral')\n",
    "render_mermaid(cleaned_code, 'mermaid_output.svg', theme='forest')"
   ]
  },
  {
   "cell_type": "code",
   "execution_count": null,
   "id": "bc2d01d5-1376-45db-a7f4-977dfd055e05",
   "metadata": {},
   "outputs": [],
   "source": []
  },
  {
   "cell_type": "markdown",
   "id": "70340d56-4105-4fae-b000-9752a48dc977",
   "metadata": {},
   "source": [
    "## Run on folder"
   ]
  },
  {
   "cell_type": "code",
   "execution_count": 36,
   "id": "cb52b6d4-8c5d-4aae-9251-77d8b6c97e16",
   "metadata": {},
   "outputs": [],
   "source": [
    "import os\n",
    "\n",
    "data_path = \"../data/tqa_train_val_test/train/tqa_v1_train.json\"\n",
    "with open(data_path, \"r\", encoding=\"utf-8\") as f:\n",
    "    data = json.load(f)\n",
    "data = data"
   ]
  },
  {
   "cell_type": "code",
   "execution_count": 37,
   "id": "57e27973-dd95-4008-9921-d2cf3813de41",
   "metadata": {},
   "outputs": [],
   "source": [
    "# print(data)"
   ]
  },
  {
   "cell_type": "code",
   "execution_count": 39,
   "id": "bdf6510a",
   "metadata": {},
   "outputs": [
    {
     "name": "stderr",
     "output_type": "stream",
     "text": [
      "Processing entries:   0%|                                                                                                                                                                                                                                    | 0/666 [00:00<?, ?it/s]"
     ]
    },
    {
     "name": "stdout",
     "output_type": "stream",
     "text": [
      "Generating single mermaid chart\n"
     ]
    },
    {
     "name": "stderr",
     "output_type": "stream",
     "text": [
      "Processing entries:   0%|▎                                                                                                                                                                                                                           | 1/666 [00:05<59:55,  5.41s/it]"
     ]
    },
    {
     "name": "stdout",
     "output_type": "stream",
     "text": [
      "Generating single mermaid chart\n"
     ]
    },
    {
     "name": "stderr",
     "output_type": "stream",
     "text": [
      "Processing entries:   0%|▋                                                                                                                                                                                                                           | 2/666 [00:10<56:08,  5.07s/it]"
     ]
    },
    {
     "name": "stdout",
     "output_type": "stream",
     "text": [
      "Generating single mermaid chart\n"
     ]
    },
    {
     "name": "stderr",
     "output_type": "stream",
     "text": [
      "Processing entries:   0%|▉                                                                                                                                                                                                                           | 3/666 [00:13<47:32,  4.30s/it]"
     ]
    },
    {
     "name": "stdout",
     "output_type": "stream",
     "text": [
      "Generating single mermaid chart\n"
     ]
    },
    {
     "name": "stderr",
     "output_type": "stream",
     "text": [
      "Processing entries:   1%|█▎                                                                                                                                                                                                                          | 4/666 [00:18<50:29,  4.58s/it]"
     ]
    },
    {
     "name": "stdout",
     "output_type": "stream",
     "text": [
      "Generating single mermaid chart\n"
     ]
    },
    {
     "name": "stderr",
     "output_type": "stream",
     "text": [
      "Processing entries:   1%|█▋                                                                                                                                                                                                                          | 5/666 [00:22<47:28,  4.31s/it]"
     ]
    },
    {
     "name": "stdout",
     "output_type": "stream",
     "text": [
      "Generating single mermaid chart\n"
     ]
    },
    {
     "name": "stderr",
     "output_type": "stream",
     "text": [
      "Processing entries:   1%|█▉                                                                                                                                                                                                                          | 6/666 [00:25<44:16,  4.02s/it]"
     ]
    },
    {
     "name": "stdout",
     "output_type": "stream",
     "text": [
      "Generating single mermaid chart\n"
     ]
    },
    {
     "name": "stderr",
     "output_type": "stream",
     "text": [
      "Processing entries:   1%|██▎                                                                                                                                                                                                                         | 7/666 [00:30<44:42,  4.07s/it]"
     ]
    },
    {
     "name": "stdout",
     "output_type": "stream",
     "text": [
      "Generating single mermaid chart\n"
     ]
    },
    {
     "name": "stderr",
     "output_type": "stream",
     "text": [
      "Processing entries:   1%|██▋                                                                                                                                                                                                                         | 8/666 [00:33<43:57,  4.01s/it]"
     ]
    },
    {
     "name": "stdout",
     "output_type": "stream",
     "text": [
      "Generating single mermaid chart\n"
     ]
    },
    {
     "name": "stderr",
     "output_type": "stream",
     "text": [
      "[@zenuml/core] Store is a function and is not initiated in 1 second.\n",
      "Processing entries:   1%|██▉                                                                                                                                                                                                                         | 9/666 [00:39<47:46,  4.36s/it]"
     ]
    },
    {
     "name": "stdout",
     "output_type": "stream",
     "text": [
      "Generating single mermaid chart\n"
     ]
    },
    {
     "name": "stderr",
     "output_type": "stream",
     "text": [
      "Processing entries:   2%|███▎                                                                                                                                                                                                                       | 10/666 [00:42<43:38,  3.99s/it]"
     ]
    },
    {
     "name": "stdout",
     "output_type": "stream",
     "text": [
      "Generating single mermaid chart\n"
     ]
    },
    {
     "name": "stderr",
     "output_type": "stream",
     "text": [
      "[@zenuml/core] Store is a function and is not initiated in 1 second.\n",
      "Processing entries:   2%|███▌                                                                                                                                                                                                                       | 11/666 [00:48<49:22,  4.52s/it]"
     ]
    },
    {
     "name": "stdout",
     "output_type": "stream",
     "text": [
      "Generating single mermaid chart\n"
     ]
    },
    {
     "name": "stderr",
     "output_type": "stream",
     "text": [
      "Processing entries:   2%|███▉                                                                                                                                                                                                                       | 12/666 [00:52<49:14,  4.52s/it]"
     ]
    },
    {
     "name": "stdout",
     "output_type": "stream",
     "text": [
      "Generating single mermaid chart\n"
     ]
    },
    {
     "name": "stderr",
     "output_type": "stream",
     "text": [
      "Processing entries:   2%|████▎                                                                                                                                                                                                                      | 13/666 [00:56<45:58,  4.23s/it]"
     ]
    },
    {
     "name": "stdout",
     "output_type": "stream",
     "text": [
      "Generating single mermaid chart\n"
     ]
    },
    {
     "name": "stderr",
     "output_type": "stream",
     "text": [
      "Processing entries:   2%|████▌                                                                                                                                                                                                                      | 14/666 [01:00<46:35,  4.29s/it]"
     ]
    },
    {
     "name": "stdout",
     "output_type": "stream",
     "text": [
      "Generating single mermaid chart\n"
     ]
    },
    {
     "name": "stderr",
     "output_type": "stream",
     "text": [
      "Processing entries:   2%|████▉                                                                                                                                                                                                                      | 15/666 [01:05<49:50,  4.59s/it]"
     ]
    },
    {
     "name": "stdout",
     "output_type": "stream",
     "text": [
      "Generating single mermaid chart\n"
     ]
    },
    {
     "name": "stderr",
     "output_type": "stream",
     "text": [
      "Processing entries:   2%|█████▎                                                                                                                                                                                                                     | 16/666 [01:10<49:01,  4.52s/it]"
     ]
    },
    {
     "name": "stdout",
     "output_type": "stream",
     "text": [
      "Generating single mermaid chart\n"
     ]
    },
    {
     "name": "stderr",
     "output_type": "stream",
     "text": [
      "Processing entries:   3%|█████▌                                                                                                                                                                                                                     | 17/666 [01:14<47:36,  4.40s/it]"
     ]
    },
    {
     "name": "stdout",
     "output_type": "stream",
     "text": [
      "Generating single mermaid chart\n"
     ]
    },
    {
     "name": "stderr",
     "output_type": "stream",
     "text": [
      "Processing entries:   3%|█████▉                                                                                                                                                                                                                     | 18/666 [01:20<52:58,  4.90s/it]"
     ]
    },
    {
     "name": "stdout",
     "output_type": "stream",
     "text": [
      "Generating single mermaid chart\n"
     ]
    },
    {
     "name": "stderr",
     "output_type": "stream",
     "text": [
      "Processing entries:   3%|██████▏                                                                                                                                                                                                                    | 19/666 [01:26<55:47,  5.17s/it]"
     ]
    },
    {
     "name": "stdout",
     "output_type": "stream",
     "text": [
      "Generating single mermaid chart\n"
     ]
    },
    {
     "name": "stderr",
     "output_type": "stream",
     "text": [
      "Processing entries:   3%|██████▌                                                                                                                                                                                                                    | 20/666 [01:30<53:55,  5.01s/it]"
     ]
    },
    {
     "name": "stdout",
     "output_type": "stream",
     "text": [
      "Generating single mermaid chart\n"
     ]
    },
    {
     "name": "stderr",
     "output_type": "stream",
     "text": [
      "Processing entries:   3%|██████▉                                                                                                                                                                                                                    | 21/666 [01:34<50:29,  4.70s/it]"
     ]
    },
    {
     "name": "stdout",
     "output_type": "stream",
     "text": [
      "Generating single mermaid chart\n"
     ]
    },
    {
     "name": "stderr",
     "output_type": "stream",
     "text": [
      "Processing entries:   3%|███████▏                                                                                                                                                                                                                   | 22/666 [01:38<48:07,  4.48s/it]"
     ]
    },
    {
     "name": "stdout",
     "output_type": "stream",
     "text": [
      "Generating single mermaid chart\n"
     ]
    },
    {
     "name": "stderr",
     "output_type": "stream",
     "text": [
      "Processing entries:   3%|███████▌                                                                                                                                                                                                                   | 23/666 [01:46<57:52,  5.40s/it]"
     ]
    },
    {
     "name": "stdout",
     "output_type": "stream",
     "text": [
      "Generating single mermaid chart\n"
     ]
    },
    {
     "name": "stderr",
     "output_type": "stream",
     "text": [
      "Processing entries:   4%|███████▉                                                                                                                                                                                                                   | 24/666 [01:50<53:46,  5.03s/it]"
     ]
    },
    {
     "name": "stdout",
     "output_type": "stream",
     "text": [
      "Generating single mermaid chart\n"
     ]
    },
    {
     "name": "stderr",
     "output_type": "stream",
     "text": [
      "Processing entries:   4%|████████▏                                                                                                                                                                                                                  | 25/666 [01:54<51:41,  4.84s/it]"
     ]
    },
    {
     "name": "stdout",
     "output_type": "stream",
     "text": [
      "Generating single mermaid chart\n"
     ]
    },
    {
     "name": "stderr",
     "output_type": "stream",
     "text": [
      "Processing entries:   4%|████████▌                                                                                                                                                                                                                  | 26/666 [01:59<51:38,  4.84s/it]"
     ]
    },
    {
     "name": "stdout",
     "output_type": "stream",
     "text": [
      "Generating single mermaid chart\n"
     ]
    },
    {
     "name": "stderr",
     "output_type": "stream",
     "text": [
      "Processing entries:   4%|████████▉                                                                                                                                                                                                                  | 27/666 [02:04<51:29,  4.84s/it]"
     ]
    },
    {
     "name": "stdout",
     "output_type": "stream",
     "text": [
      "Generating single mermaid chart\n"
     ]
    },
    {
     "name": "stderr",
     "output_type": "stream",
     "text": [
      "Processing entries:   4%|█████████▏                                                                                                                                                                                                                 | 28/666 [02:08<48:14,  4.54s/it]"
     ]
    },
    {
     "name": "stdout",
     "output_type": "stream",
     "text": [
      "Generating single mermaid chart\n"
     ]
    },
    {
     "name": "stderr",
     "output_type": "stream",
     "text": [
      "Processing entries:   4%|█████████▌                                                                                                                                                                                                                 | 29/666 [02:12<46:54,  4.42s/it]"
     ]
    },
    {
     "name": "stdout",
     "output_type": "stream",
     "text": [
      "Generating single mermaid chart\n"
     ]
    },
    {
     "name": "stderr",
     "output_type": "stream",
     "text": [
      "Processing entries:   5%|█████████▊                                                                                                                                                                                                                 | 30/666 [02:17<47:52,  4.52s/it]"
     ]
    },
    {
     "name": "stdout",
     "output_type": "stream",
     "text": [
      "Generating single mermaid chart\n"
     ]
    },
    {
     "name": "stderr",
     "output_type": "stream",
     "text": [
      "Processing entries:   5%|██████████▏                                                                                                                                                                                                                | 31/666 [02:22<49:04,  4.64s/it]"
     ]
    },
    {
     "name": "stdout",
     "output_type": "stream",
     "text": [
      "Generating single mermaid chart\n"
     ]
    },
    {
     "name": "stderr",
     "output_type": "stream",
     "text": [
      "Processing entries:   5%|██████████▌                                                                                                                                                                                                                | 32/666 [02:25<46:13,  4.37s/it]"
     ]
    },
    {
     "name": "stdout",
     "output_type": "stream",
     "text": [
      "Generating single mermaid chart\n"
     ]
    },
    {
     "name": "stderr",
     "output_type": "stream",
     "text": [
      "Processing entries:   5%|██████████▊                                                                                                                                                                                                                | 33/666 [02:30<46:49,  4.44s/it]"
     ]
    },
    {
     "name": "stdout",
     "output_type": "stream",
     "text": [
      "Generating single mermaid chart\n"
     ]
    },
    {
     "name": "stderr",
     "output_type": "stream",
     "text": [
      "[@zenuml/core] Store is a function and is not initiated in 1 second.\n",
      "Processing entries:   5%|███████████▏                                                                                                                                                                                                               | 34/666 [02:35<47:02,  4.47s/it]"
     ]
    },
    {
     "name": "stdout",
     "output_type": "stream",
     "text": [
      "Generating single mermaid chart\n"
     ]
    },
    {
     "name": "stderr",
     "output_type": "stream",
     "text": [
      "[@zenuml/core] Store is a function and is not initiated in 1 second.\n",
      "Processing entries:   5%|███████████▌                                                                                                                                                                                                               | 35/666 [02:41<53:21,  5.07s/it]"
     ]
    },
    {
     "name": "stdout",
     "output_type": "stream",
     "text": [
      "Generating single mermaid chart\n"
     ]
    },
    {
     "name": "stderr",
     "output_type": "stream",
     "text": [
      "[@zenuml/core] Store is a function and is not initiated in 1 second.\n",
      "Processing entries:   5%|███████████▊                                                                                                                                                                                                               | 36/666 [02:46<52:52,  5.04s/it]"
     ]
    },
    {
     "name": "stdout",
     "output_type": "stream",
     "text": [
      "Generating single mermaid chart\n"
     ]
    },
    {
     "name": "stderr",
     "output_type": "stream",
     "text": [
      "[@zenuml/core] Store is a function and is not initiated in 1 second.\n",
      "Processing entries:   6%|████████████▏                                                                                                                                                                                                              | 37/666 [02:50<50:45,  4.84s/it]"
     ]
    },
    {
     "name": "stdout",
     "output_type": "stream",
     "text": [
      "Generating single mermaid chart\n"
     ]
    },
    {
     "name": "stderr",
     "output_type": "stream",
     "text": [
      "Processing entries:   6%|████████████▍                                                                                                                                                                                                              | 38/666 [02:55<50:20,  4.81s/it]"
     ]
    },
    {
     "name": "stdout",
     "output_type": "stream",
     "text": [
      "Generating single mermaid chart\n"
     ]
    },
    {
     "name": "stderr",
     "output_type": "stream",
     "text": [
      "[@zenuml/core] Store is a function and is not initiated in 1 second.\n",
      "Processing entries:   6%|████████████▊                                                                                                                                                                                                              | 39/666 [03:01<53:40,  5.14s/it]"
     ]
    },
    {
     "name": "stdout",
     "output_type": "stream",
     "text": [
      "Generating single mermaid chart\n"
     ]
    },
    {
     "name": "stderr",
     "output_type": "stream",
     "text": [
      "[@zenuml/core] Store is a function and is not initiated in 1 second.\n",
      "Processing entries:   6%|█████████████▏                                                                                                                                                                                                             | 40/666 [03:08<59:34,  5.71s/it]"
     ]
    },
    {
     "name": "stdout",
     "output_type": "stream",
     "text": [
      "Generating single mermaid chart\n"
     ]
    },
    {
     "name": "stderr",
     "output_type": "stream",
     "text": [
      "Processing entries:   6%|█████████████▎                                                                                                                                                                                                           | 41/666 [03:14<1:00:22,  5.80s/it]"
     ]
    },
    {
     "name": "stdout",
     "output_type": "stream",
     "text": [
      "Generating single mermaid chart\n"
     ]
    },
    {
     "name": "stderr",
     "output_type": "stream",
     "text": [
      "Processing entries:   6%|█████████████▊                                                                                                                                                                                                             | 42/666 [03:18<54:23,  5.23s/it]"
     ]
    },
    {
     "name": "stdout",
     "output_type": "stream",
     "text": [
      "Generating single mermaid chart\n"
     ]
    },
    {
     "name": "stderr",
     "output_type": "stream",
     "text": [
      "Processing entries:   6%|██████████████▏                                                                                                                                                                                                            | 43/666 [03:22<52:11,  5.03s/it]"
     ]
    },
    {
     "name": "stdout",
     "output_type": "stream",
     "text": [
      "Generating single mermaid chart\n"
     ]
    },
    {
     "name": "stderr",
     "output_type": "stream",
     "text": [
      "Processing entries:   7%|██████████████▍                                                                                                                                                                                                            | 44/666 [03:27<49:42,  4.79s/it]"
     ]
    },
    {
     "name": "stdout",
     "output_type": "stream",
     "text": [
      "Generating single mermaid chart\n"
     ]
    },
    {
     "name": "stderr",
     "output_type": "stream",
     "text": [
      "Processing entries:   7%|██████████████▊                                                                                                                                                                                                            | 45/666 [03:31<48:23,  4.68s/it]"
     ]
    },
    {
     "name": "stdout",
     "output_type": "stream",
     "text": [
      "Generating single mermaid chart\n"
     ]
    },
    {
     "name": "stderr",
     "output_type": "stream",
     "text": [
      "Processing entries:   7%|███████████████▏                                                                                                                                                                                                           | 46/666 [03:35<45:30,  4.40s/it]"
     ]
    },
    {
     "name": "stdout",
     "output_type": "stream",
     "text": [
      "Generating single mermaid chart\n"
     ]
    },
    {
     "name": "stderr",
     "output_type": "stream",
     "text": [
      "Processing entries:   7%|███████████████▍                                                                                                                                                                                                           | 47/666 [03:39<43:44,  4.24s/it]"
     ]
    },
    {
     "name": "stdout",
     "output_type": "stream",
     "text": [
      "Generating single mermaid chart\n"
     ]
    },
    {
     "name": "stderr",
     "output_type": "stream",
     "text": [
      "Processing entries:   7%|███████████████▊                                                                                                                                                                                                           | 48/666 [03:43<44:16,  4.30s/it]"
     ]
    },
    {
     "name": "stdout",
     "output_type": "stream",
     "text": [
      "Generating single mermaid chart\n"
     ]
    },
    {
     "name": "stderr",
     "output_type": "stream",
     "text": [
      "Processing entries:   7%|████████████████                                                                                                                                                                                                           | 49/666 [03:48<44:16,  4.31s/it]"
     ]
    },
    {
     "name": "stdout",
     "output_type": "stream",
     "text": [
      "Generating single mermaid chart\n"
     ]
    },
    {
     "name": "stderr",
     "output_type": "stream",
     "text": [
      "Processing entries:   8%|████████████████▍                                                                                                                                                                                                          | 50/666 [03:51<42:17,  4.12s/it]"
     ]
    },
    {
     "name": "stdout",
     "output_type": "stream",
     "text": [
      "Generating single mermaid chart\n"
     ]
    },
    {
     "name": "stderr",
     "output_type": "stream",
     "text": [
      "Processing entries:   8%|████████████████▊                                                                                                                                                                                                          | 51/666 [03:55<40:33,  3.96s/it]"
     ]
    },
    {
     "name": "stdout",
     "output_type": "stream",
     "text": [
      "Generating single mermaid chart\n"
     ]
    },
    {
     "name": "stderr",
     "output_type": "stream",
     "text": [
      "Processing entries:   8%|█████████████████                                                                                                                                                                                                          | 52/666 [03:58<38:21,  3.75s/it]"
     ]
    },
    {
     "name": "stdout",
     "output_type": "stream",
     "text": [
      "Generating single mermaid chart\n"
     ]
    },
    {
     "name": "stderr",
     "output_type": "stream",
     "text": [
      "Processing entries:   8%|█████████████████▍                                                                                                                                                                                                         | 53/666 [04:01<37:20,  3.66s/it]"
     ]
    },
    {
     "name": "stdout",
     "output_type": "stream",
     "text": [
      "Generating single mermaid chart\n"
     ]
    },
    {
     "name": "stderr",
     "output_type": "stream",
     "text": [
      "Processing entries:   8%|█████████████████▊                                                                                                                                                                                                         | 54/666 [04:05<36:36,  3.59s/it]"
     ]
    },
    {
     "name": "stdout",
     "output_type": "stream",
     "text": [
      "Generating single mermaid chart\n"
     ]
    },
    {
     "name": "stderr",
     "output_type": "stream",
     "text": [
      "Processing entries:   8%|██████████████████                                                                                                                                                                                                         | 55/666 [04:09<37:18,  3.66s/it]"
     ]
    },
    {
     "name": "stdout",
     "output_type": "stream",
     "text": [
      "Generating single mermaid chart\n"
     ]
    },
    {
     "name": "stderr",
     "output_type": "stream",
     "text": [
      "Processing entries:   8%|██████████████████▍                                                                                                                                                                                                        | 56/666 [04:12<36:09,  3.56s/it]"
     ]
    },
    {
     "name": "stdout",
     "output_type": "stream",
     "text": [
      "Generating single mermaid chart\n"
     ]
    },
    {
     "name": "stderr",
     "output_type": "stream",
     "text": [
      "Processing entries:   9%|██████████████████▌                                                                                                                                                                                                      | 57/666 [04:27<1:10:59,  6.99s/it]"
     ]
    },
    {
     "name": "stdout",
     "output_type": "stream",
     "text": [
      "Generating single mermaid chart\n"
     ]
    },
    {
     "name": "stderr",
     "output_type": "stream",
     "text": [
      "Processing entries:   9%|██████████████████▉                                                                                                                                                                                                      | 58/666 [04:32<1:03:40,  6.28s/it]"
     ]
    },
    {
     "name": "stdout",
     "output_type": "stream",
     "text": [
      "Generating single mermaid chart\n"
     ]
    },
    {
     "name": "stderr",
     "output_type": "stream",
     "text": [
      "[@zenuml/core] Store is a function and is not initiated in 1 second.\n",
      "Processing entries:   9%|███████████████████▍                                                                                                                                                                                                       | 59/666 [04:36<58:43,  5.80s/it]"
     ]
    },
    {
     "name": "stdout",
     "output_type": "stream",
     "text": [
      "Generating single mermaid chart\n"
     ]
    },
    {
     "name": "stderr",
     "output_type": "stream",
     "text": [
      "Processing entries:   9%|███████████████████▋                                                                                                                                                                                                       | 60/666 [04:42<56:35,  5.60s/it]"
     ]
    },
    {
     "name": "stdout",
     "output_type": "stream",
     "text": [
      "Generating single mermaid chart\n"
     ]
    },
    {
     "name": "stderr",
     "output_type": "stream",
     "text": [
      "Processing entries:   9%|████████████████████                                                                                                                                                                                                       | 61/666 [04:45<49:50,  4.94s/it]"
     ]
    },
    {
     "name": "stdout",
     "output_type": "stream",
     "text": [
      "Generating single mermaid chart\n"
     ]
    },
    {
     "name": "stderr",
     "output_type": "stream",
     "text": [
      "Processing entries:   9%|████████████████████▍                                                                                                                                                                                                      | 62/666 [04:49<46:12,  4.59s/it]"
     ]
    },
    {
     "name": "stdout",
     "output_type": "stream",
     "text": [
      "Generating single mermaid chart\n"
     ]
    },
    {
     "name": "stderr",
     "output_type": "stream",
     "text": [
      "Processing entries:   9%|████████████████████▋                                                                                                                                                                                                      | 63/666 [04:53<44:36,  4.44s/it]"
     ]
    },
    {
     "name": "stdout",
     "output_type": "stream",
     "text": [
      "Generating single mermaid chart\n"
     ]
    },
    {
     "name": "stderr",
     "output_type": "stream",
     "text": [
      "[@zenuml/core] Store is a function and is not initiated in 1 second.\n",
      "Processing entries:  10%|█████████████████████                                                                                                                                                                                                      | 64/666 [04:59<51:11,  5.10s/it]"
     ]
    },
    {
     "name": "stdout",
     "output_type": "stream",
     "text": [
      "Generating single mermaid chart\n"
     ]
    },
    {
     "name": "stderr",
     "output_type": "stream",
     "text": [
      "Processing entries:  10%|█████████████████████▎                                                                                                                                                                                                     | 65/666 [05:03<47:37,  4.75s/it]"
     ]
    },
    {
     "name": "stdout",
     "output_type": "stream",
     "text": [
      "Generating single mermaid chart\n"
     ]
    },
    {
     "name": "stderr",
     "output_type": "stream",
     "text": [
      "Processing entries:  10%|█████████████████████▋                                                                                                                                                                                                     | 66/666 [05:07<43:12,  4.32s/it]"
     ]
    },
    {
     "name": "stdout",
     "output_type": "stream",
     "text": [
      "Generating single mermaid chart\n"
     ]
    },
    {
     "name": "stderr",
     "output_type": "stream",
     "text": [
      "Processing entries:  10%|██████████████████████                                                                                                                                                                                                     | 67/666 [05:10<41:28,  4.15s/it]"
     ]
    },
    {
     "name": "stdout",
     "output_type": "stream",
     "text": [
      "Generating single mermaid chart\n"
     ]
    },
    {
     "name": "stderr",
     "output_type": "stream",
     "text": [
      "Processing entries:  10%|██████████████████████▎                                                                                                                                                                                                    | 68/666 [05:14<38:39,  3.88s/it]"
     ]
    },
    {
     "name": "stdout",
     "output_type": "stream",
     "text": [
      "Generating single mermaid chart\n"
     ]
    },
    {
     "name": "stderr",
     "output_type": "stream",
     "text": [
      "Processing entries:  10%|██████████████████████▋                                                                                                                                                                                                    | 69/666 [05:18<39:39,  3.99s/it]"
     ]
    },
    {
     "name": "stdout",
     "output_type": "stream",
     "text": [
      "Generating single mermaid chart\n"
     ]
    },
    {
     "name": "stderr",
     "output_type": "stream",
     "text": [
      "Processing entries:  11%|███████████████████████                                                                                                                                                                                                    | 70/666 [05:22<39:47,  4.01s/it]"
     ]
    },
    {
     "name": "stdout",
     "output_type": "stream",
     "text": [
      "Generating single mermaid chart\n"
     ]
    },
    {
     "name": "stderr",
     "output_type": "stream",
     "text": [
      "Processing entries:  11%|███████████████████████▎                                                                                                                                                                                                   | 71/666 [05:26<39:06,  3.94s/it]"
     ]
    },
    {
     "name": "stdout",
     "output_type": "stream",
     "text": [
      "Generating single mermaid chart\n"
     ]
    },
    {
     "name": "stderr",
     "output_type": "stream",
     "text": [
      "Processing entries:  11%|███████████████████████▋                                                                                                                                                                                                   | 72/666 [05:30<38:59,  3.94s/it]"
     ]
    },
    {
     "name": "stdout",
     "output_type": "stream",
     "text": [
      "Generating single mermaid chart\n"
     ]
    },
    {
     "name": "stderr",
     "output_type": "stream",
     "text": [
      "Processing entries:  11%|████████████████████████                                                                                                                                                                                                   | 73/666 [05:34<39:59,  4.05s/it]"
     ]
    },
    {
     "name": "stdout",
     "output_type": "stream",
     "text": [
      "Generating single mermaid chart\n"
     ]
    },
    {
     "name": "stderr",
     "output_type": "stream",
     "text": [
      "Processing entries:  11%|████████████████████████▎                                                                                                                                                                                                  | 74/666 [05:38<38:33,  3.91s/it]"
     ]
    },
    {
     "name": "stdout",
     "output_type": "stream",
     "text": [
      "Generating single mermaid chart\n"
     ]
    },
    {
     "name": "stderr",
     "output_type": "stream",
     "text": [
      "Processing entries:  11%|████████████████████████▋                                                                                                                                                                                                  | 75/666 [05:42<39:15,  3.99s/it]"
     ]
    },
    {
     "name": "stdout",
     "output_type": "stream",
     "text": [
      "Generating single mermaid chart\n"
     ]
    },
    {
     "name": "stderr",
     "output_type": "stream",
     "text": [
      "Processing entries:  11%|████████████████████████▉                                                                                                                                                                                                  | 76/666 [05:45<38:15,  3.89s/it]"
     ]
    },
    {
     "name": "stdout",
     "output_type": "stream",
     "text": [
      "Generating single mermaid chart\n"
     ]
    },
    {
     "name": "stderr",
     "output_type": "stream",
     "text": [
      "Processing entries:  12%|█████████████████████████▎                                                                                                                                                                                                 | 77/666 [05:52<45:37,  4.65s/it]"
     ]
    },
    {
     "name": "stdout",
     "output_type": "stream",
     "text": [
      "Generating single mermaid chart\n"
     ]
    },
    {
     "name": "stderr",
     "output_type": "stream",
     "text": [
      "Processing entries:  12%|█████████████████████████▋                                                                                                                                                                                                 | 78/666 [05:56<44:28,  4.54s/it]"
     ]
    },
    {
     "name": "stdout",
     "output_type": "stream",
     "text": [
      "Generating single mermaid chart\n"
     ]
    },
    {
     "name": "stderr",
     "output_type": "stream",
     "text": [
      "[@zenuml/core] Store is a function and is not initiated in 1 second.\n",
      "Processing entries:  12%|█████████████████████████▉                                                                                                                                                                                                 | 79/666 [06:01<44:50,  4.58s/it]"
     ]
    },
    {
     "name": "stdout",
     "output_type": "stream",
     "text": [
      "Generating single mermaid chart\n"
     ]
    },
    {
     "name": "stderr",
     "output_type": "stream",
     "text": [
      "Processing entries:  12%|██████████████████████████▎                                                                                                                                                                                                | 80/666 [06:05<44:30,  4.56s/it]"
     ]
    },
    {
     "name": "stdout",
     "output_type": "stream",
     "text": [
      "Generating single mermaid chart\n"
     ]
    },
    {
     "name": "stderr",
     "output_type": "stream",
     "text": [
      "Processing entries:  12%|██████████████████████████▋                                                                                                                                                                                                | 81/666 [06:10<43:40,  4.48s/it]"
     ]
    },
    {
     "name": "stdout",
     "output_type": "stream",
     "text": [
      "Generating single mermaid chart\n"
     ]
    },
    {
     "name": "stderr",
     "output_type": "stream",
     "text": [
      "Processing entries:  12%|██████████████████████████▉                                                                                                                                                                                                | 82/666 [06:14<43:44,  4.49s/it]"
     ]
    },
    {
     "name": "stdout",
     "output_type": "stream",
     "text": [
      "Generating single mermaid chart\n"
     ]
    },
    {
     "name": "stderr",
     "output_type": "stream",
     "text": [
      "Processing entries:  12%|███████████████████████████▎                                                                                                                                                                                               | 83/666 [06:24<58:42,  6.04s/it]"
     ]
    },
    {
     "name": "stdout",
     "output_type": "stream",
     "text": [
      "Generating single mermaid chart\n"
     ]
    },
    {
     "name": "stderr",
     "output_type": "stream",
     "text": [
      "Processing entries:  13%|███████████████████████████▌                                                                                                                                                                                               | 84/666 [06:27<51:20,  5.29s/it]"
     ]
    },
    {
     "name": "stdout",
     "output_type": "stream",
     "text": [
      "Generating single mermaid chart\n"
     ]
    },
    {
     "name": "stderr",
     "output_type": "stream",
     "text": [
      "Processing entries:  13%|███████████████████████████▉                                                                                                                                                                                               | 85/666 [06:31<47:15,  4.88s/it]"
     ]
    },
    {
     "name": "stdout",
     "output_type": "stream",
     "text": [
      "Generating single mermaid chart\n"
     ]
    },
    {
     "name": "stderr",
     "output_type": "stream",
     "text": [
      "Processing entries:  13%|████████████████████████████▎                                                                                                                                                                                              | 86/666 [06:36<45:45,  4.73s/it]"
     ]
    },
    {
     "name": "stdout",
     "output_type": "stream",
     "text": [
      "Generating single mermaid chart\n"
     ]
    },
    {
     "name": "stderr",
     "output_type": "stream",
     "text": [
      "Processing entries:  13%|████████████████████████████▌                                                                                                                                                                                              | 87/666 [06:39<42:00,  4.35s/it]"
     ]
    },
    {
     "name": "stdout",
     "output_type": "stream",
     "text": [
      "Generating single mermaid chart\n"
     ]
    },
    {
     "name": "stderr",
     "output_type": "stream",
     "text": [
      "Processing entries:  13%|████████████████████████████▉                                                                                                                                                                                              | 88/666 [06:46<50:24,  5.23s/it]"
     ]
    },
    {
     "name": "stdout",
     "output_type": "stream",
     "text": [
      "Generating single mermaid chart\n"
     ]
    },
    {
     "name": "stderr",
     "output_type": "stream",
     "text": [
      "Processing entries:  13%|█████████████████████████████▎                                                                                                                                                                                             | 89/666 [06:51<47:12,  4.91s/it]"
     ]
    },
    {
     "name": "stdout",
     "output_type": "stream",
     "text": [
      "Generating single mermaid chart\n"
     ]
    },
    {
     "name": "stderr",
     "output_type": "stream",
     "text": [
      "Processing entries:  14%|█████████████████████████████▌                                                                                                                                                                                             | 90/666 [06:55<44:47,  4.67s/it]"
     ]
    },
    {
     "name": "stdout",
     "output_type": "stream",
     "text": [
      "Generating single mermaid chart\n"
     ]
    },
    {
     "name": "stderr",
     "output_type": "stream",
     "text": [
      "Processing entries:  14%|█████████████████████████████▉                                                                                                                                                                                             | 91/666 [06:58<40:36,  4.24s/it]"
     ]
    },
    {
     "name": "stdout",
     "output_type": "stream",
     "text": [
      "Generating single mermaid chart\n"
     ]
    },
    {
     "name": "stderr",
     "output_type": "stream",
     "text": [
      "Processing entries:  14%|██████████████████████████████▎                                                                                                                                                                                            | 92/666 [07:03<41:44,  4.36s/it]"
     ]
    },
    {
     "name": "stdout",
     "output_type": "stream",
     "text": [
      "Generating single mermaid chart\n"
     ]
    },
    {
     "name": "stderr",
     "output_type": "stream",
     "text": [
      "Processing entries:  14%|██████████████████████████████▌                                                                                                                                                                                            | 93/666 [07:06<38:09,  4.00s/it]"
     ]
    },
    {
     "name": "stdout",
     "output_type": "stream",
     "text": [
      "Generating single mermaid chart\n"
     ]
    },
    {
     "name": "stderr",
     "output_type": "stream",
     "text": [
      "Processing entries:  14%|██████████████████████████████▉                                                                                                                                                                                            | 94/666 [07:10<38:30,  4.04s/it]"
     ]
    },
    {
     "name": "stdout",
     "output_type": "stream",
     "text": [
      "Generating single mermaid chart\n"
     ]
    },
    {
     "name": "stderr",
     "output_type": "stream",
     "text": [
      "Processing entries:  14%|███████████████████████████████▏                                                                                                                                                                                           | 95/666 [07:14<37:32,  3.94s/it]"
     ]
    },
    {
     "name": "stdout",
     "output_type": "stream",
     "text": [
      "Generating single mermaid chart\n"
     ]
    },
    {
     "name": "stderr",
     "output_type": "stream",
     "text": [
      "Processing entries:  14%|███████████████████████████████▌                                                                                                                                                                                           | 96/666 [07:19<41:43,  4.39s/it]"
     ]
    },
    {
     "name": "stdout",
     "output_type": "stream",
     "text": [
      "Generating single mermaid chart\n"
     ]
    },
    {
     "name": "stderr",
     "output_type": "stream",
     "text": [
      "Processing entries:  15%|███████████████████████████████▉                                                                                                                                                                                           | 97/666 [07:23<41:26,  4.37s/it]"
     ]
    },
    {
     "name": "stdout",
     "output_type": "stream",
     "text": [
      "Generating single mermaid chart\n"
     ]
    },
    {
     "name": "stderr",
     "output_type": "stream",
     "text": [
      "Processing entries:  15%|████████████████████████████████▏                                                                                                                                                                                          | 98/666 [07:27<40:43,  4.30s/it]"
     ]
    },
    {
     "name": "stdout",
     "output_type": "stream",
     "text": [
      "Generating single mermaid chart\n"
     ]
    },
    {
     "name": "stderr",
     "output_type": "stream",
     "text": [
      "Processing entries:  15%|████████████████████████████████▌                                                                                                                                                                                          | 99/666 [07:31<38:24,  4.06s/it]"
     ]
    },
    {
     "name": "stdout",
     "output_type": "stream",
     "text": [
      "Generating single mermaid chart\n"
     ]
    },
    {
     "name": "stderr",
     "output_type": "stream",
     "text": [
      "Processing entries:  15%|████████████████████████████████▋                                                                                                                                                                                         | 100/666 [07:36<42:01,  4.45s/it]"
     ]
    },
    {
     "name": "stdout",
     "output_type": "stream",
     "text": [
      "Generating single mermaid chart\n"
     ]
    },
    {
     "name": "stderr",
     "output_type": "stream",
     "text": [
      "Processing entries:  15%|█████████████████████████████████                                                                                                                                                                                         | 101/666 [07:41<43:58,  4.67s/it]"
     ]
    },
    {
     "name": "stdout",
     "output_type": "stream",
     "text": [
      "Generating single mermaid chart\n"
     ]
    },
    {
     "name": "stderr",
     "output_type": "stream",
     "text": [
      "Processing entries:  15%|█████████████████████████████████▍                                                                                                                                                                                        | 102/666 [07:45<40:14,  4.28s/it]"
     ]
    },
    {
     "name": "stdout",
     "output_type": "stream",
     "text": [
      "Generating single mermaid chart\n"
     ]
    },
    {
     "name": "stderr",
     "output_type": "stream",
     "text": [
      "Processing entries:  15%|█████████████████████████████████▋                                                                                                                                                                                        | 103/666 [07:49<39:08,  4.17s/it]"
     ]
    },
    {
     "name": "stdout",
     "output_type": "stream",
     "text": [
      "Generating single mermaid chart\n"
     ]
    },
    {
     "name": "stderr",
     "output_type": "stream",
     "text": [
      "Processing entries:  16%|██████████████████████████████████                                                                                                                                                                                        | 104/666 [07:52<35:51,  3.83s/it]"
     ]
    },
    {
     "name": "stdout",
     "output_type": "stream",
     "text": [
      "Generating single mermaid chart\n"
     ]
    },
    {
     "name": "stderr",
     "output_type": "stream",
     "text": [
      "Processing entries:  16%|██████████████████████████████████▎                                                                                                                                                                                       | 105/666 [07:56<36:38,  3.92s/it]"
     ]
    },
    {
     "name": "stdout",
     "output_type": "stream",
     "text": [
      "Generating single mermaid chart\n"
     ]
    },
    {
     "name": "stderr",
     "output_type": "stream",
     "text": [
      "Processing entries:  16%|██████████████████████████████████▋                                                                                                                                                                                       | 106/666 [07:59<35:17,  3.78s/it]"
     ]
    },
    {
     "name": "stdout",
     "output_type": "stream",
     "text": [
      "Generating single mermaid chart\n"
     ]
    },
    {
     "name": "stderr",
     "output_type": "stream",
     "text": [
      "Processing entries:  16%|███████████████████████████████████                                                                                                                                                                                       | 107/666 [08:03<35:08,  3.77s/it]"
     ]
    },
    {
     "name": "stdout",
     "output_type": "stream",
     "text": [
      "Generating single mermaid chart\n"
     ]
    },
    {
     "name": "stderr",
     "output_type": "stream",
     "text": [
      "Processing entries:  16%|███████████████████████████████████▎                                                                                                                                                                                      | 108/666 [08:07<34:03,  3.66s/it]"
     ]
    },
    {
     "name": "stdout",
     "output_type": "stream",
     "text": [
      "Generating single mermaid chart\n"
     ]
    },
    {
     "name": "stderr",
     "output_type": "stream",
     "text": [
      "Processing entries:  16%|███████████████████████████████████▋                                                                                                                                                                                      | 109/666 [08:10<32:51,  3.54s/it]"
     ]
    },
    {
     "name": "stdout",
     "output_type": "stream",
     "text": [
      "Generating single mermaid chart\n"
     ]
    },
    {
     "name": "stderr",
     "output_type": "stream",
     "text": [
      "[@zenuml/core] Store is a function and is not initiated in 1 second.\n",
      "Processing entries:  17%|████████████████████████████████████                                                                                                                                                                                      | 110/666 [08:14<35:57,  3.88s/it]"
     ]
    },
    {
     "name": "stdout",
     "output_type": "stream",
     "text": [
      "Generating single mermaid chart\n"
     ]
    },
    {
     "name": "stderr",
     "output_type": "stream",
     "text": [
      "Processing entries:  17%|████████████████████████████████████▎                                                                                                                                                                                     | 111/666 [08:17<33:29,  3.62s/it]"
     ]
    },
    {
     "name": "stdout",
     "output_type": "stream",
     "text": [
      "Generating single mermaid chart\n"
     ]
    },
    {
     "name": "stderr",
     "output_type": "stream",
     "text": [
      "Processing entries:  17%|████████████████████████████████████▋                                                                                                                                                                                     | 112/666 [08:21<32:50,  3.56s/it]"
     ]
    },
    {
     "name": "stdout",
     "output_type": "stream",
     "text": [
      "Generating single mermaid chart\n"
     ]
    },
    {
     "name": "stderr",
     "output_type": "stream",
     "text": [
      "[@zenuml/core] Store is a function and is not initiated in 1 second.\n",
      "Processing entries:  17%|████████████████████████████████████▉                                                                                                                                                                                     | 113/666 [08:25<33:50,  3.67s/it]"
     ]
    },
    {
     "name": "stdout",
     "output_type": "stream",
     "text": [
      "Generating single mermaid chart\n"
     ]
    },
    {
     "name": "stderr",
     "output_type": "stream",
     "text": [
      "Processing entries:  17%|█████████████████████████████████████▎                                                                                                                                                                                    | 114/666 [08:30<37:11,  4.04s/it]"
     ]
    },
    {
     "name": "stdout",
     "output_type": "stream",
     "text": [
      "Generating single mermaid chart\n"
     ]
    },
    {
     "name": "stderr",
     "output_type": "stream",
     "text": [
      "Processing entries:  17%|█████████████████████████████████████▋                                                                                                                                                                                    | 115/666 [08:34<37:35,  4.09s/it]"
     ]
    },
    {
     "name": "stdout",
     "output_type": "stream",
     "text": [
      "Generating single mermaid chart\n"
     ]
    },
    {
     "name": "stderr",
     "output_type": "stream",
     "text": [
      "[@zenuml/core] Store is a function and is not initiated in 1 second.\n",
      "Processing entries:  17%|█████████████████████████████████████▉                                                                                                                                                                                    | 116/666 [08:39<39:20,  4.29s/it]"
     ]
    },
    {
     "name": "stdout",
     "output_type": "stream",
     "text": [
      "Generating single mermaid chart\n"
     ]
    },
    {
     "name": "stderr",
     "output_type": "stream",
     "text": [
      "Processing entries:  18%|██████████████████████████████████████▎                                                                                                                                                                                   | 117/666 [08:42<35:51,  3.92s/it]"
     ]
    },
    {
     "name": "stdout",
     "output_type": "stream",
     "text": [
      "Generating single mermaid chart\n"
     ]
    },
    {
     "name": "stderr",
     "output_type": "stream",
     "text": [
      "Processing entries:  18%|██████████████████████████████████████▌                                                                                                                                                                                   | 118/666 [08:46<36:01,  3.94s/it]"
     ]
    },
    {
     "name": "stdout",
     "output_type": "stream",
     "text": [
      "Generating single mermaid chart\n"
     ]
    },
    {
     "name": "stderr",
     "output_type": "stream",
     "text": [
      "Processing entries:  18%|██████████████████████████████████████▉                                                                                                                                                                                   | 119/666 [08:49<34:42,  3.81s/it]"
     ]
    },
    {
     "name": "stdout",
     "output_type": "stream",
     "text": [
      "Generating single mermaid chart\n"
     ]
    },
    {
     "name": "stderr",
     "output_type": "stream",
     "text": [
      "Processing entries:  18%|███████████████████████████████████████▎                                                                                                                                                                                  | 120/666 [08:53<33:20,  3.66s/it]"
     ]
    },
    {
     "name": "stdout",
     "output_type": "stream",
     "text": [
      "Generating single mermaid chart\n"
     ]
    },
    {
     "name": "stderr",
     "output_type": "stream",
     "text": [
      "Processing entries:  18%|███████████████████████████████████████▌                                                                                                                                                                                  | 121/666 [08:56<32:52,  3.62s/it]"
     ]
    },
    {
     "name": "stdout",
     "output_type": "stream",
     "text": [
      "Generating single mermaid chart\n"
     ]
    },
    {
     "name": "stderr",
     "output_type": "stream",
     "text": [
      "Processing entries:  18%|███████████████████████████████████████▉                                                                                                                                                                                  | 122/666 [09:00<34:32,  3.81s/it]"
     ]
    },
    {
     "name": "stdout",
     "output_type": "stream",
     "text": [
      "Generating single mermaid chart\n"
     ]
    },
    {
     "name": "stderr",
     "output_type": "stream",
     "text": [
      "Processing entries:  18%|████████████████████████████████████████▎                                                                                                                                                                                 | 123/666 [09:05<36:34,  4.04s/it]"
     ]
    },
    {
     "name": "stdout",
     "output_type": "stream",
     "text": [
      "Generating single mermaid chart\n"
     ]
    },
    {
     "name": "stderr",
     "output_type": "stream",
     "text": [
      "Processing entries:  19%|████████████████████████████████████████▌                                                                                                                                                                                 | 124/666 [09:10<38:59,  4.32s/it]"
     ]
    },
    {
     "name": "stdout",
     "output_type": "stream",
     "text": [
      "Generating single mermaid chart\n"
     ]
    },
    {
     "name": "stderr",
     "output_type": "stream",
     "text": [
      "Processing entries:  19%|████████████████████████████████████████▉                                                                                                                                                                                 | 125/666 [09:14<39:20,  4.36s/it]"
     ]
    },
    {
     "name": "stdout",
     "output_type": "stream",
     "text": [
      "Generating single mermaid chart\n"
     ]
    },
    {
     "name": "stderr",
     "output_type": "stream",
     "text": [
      "Processing entries:  19%|█████████████████████████████████████████▏                                                                                                                                                                                | 126/666 [09:19<39:58,  4.44s/it]"
     ]
    },
    {
     "name": "stdout",
     "output_type": "stream",
     "text": [
      "Generating single mermaid chart\n"
     ]
    },
    {
     "name": "stderr",
     "output_type": "stream",
     "text": [
      "Processing entries:  19%|█████████████████████████████████████████▌                                                                                                                                                                                | 127/666 [09:22<36:52,  4.11s/it]"
     ]
    },
    {
     "name": "stdout",
     "output_type": "stream",
     "text": [
      "Generating single mermaid chart\n"
     ]
    },
    {
     "name": "stderr",
     "output_type": "stream",
     "text": [
      "Processing entries:  19%|█████████████████████████████████████████▉                                                                                                                                                                                | 128/666 [09:26<34:36,  3.86s/it]"
     ]
    },
    {
     "name": "stdout",
     "output_type": "stream",
     "text": [
      "Generating single mermaid chart\n"
     ]
    },
    {
     "name": "stderr",
     "output_type": "stream",
     "text": [
      "\u001b[31m\u001b[39m\n",
      "\u001b[31mError: Parse error on line 6:\u001b[39m\n",
      "\u001b[31m...ures above 9 F (5 C) average    Drought\u001b[39m\n",
      "\u001b[31m-----------------------^\u001b[39m\n",
      "\u001b[31mExpecting 'SPACELINE', 'NL', 'EOF', got 'SPACELIST'\u001b[39m\n",
      "\u001b[31mParser3.parseError (/home/siva/.nvm/versions/node/v22.14.0/lib/node_modules/@mermaid-js/mermaid-cli/node_modules/mermaid/dist/mermaid.js:99004:28)\u001b[39m\n",
      "\u001b[31m    at #evaluate (file:///home/siva/.nvm/versions/node/v22.14.0/lib/node_modules/@mermaid-js/mermaid-cli/node_modules/puppeteer-core/lib/esm/puppeteer/cdp/ExecutionContext.js:388:19)\u001b[39m\n",
      "\u001b[31m    at async ExecutionContext.evaluate (file:///home/siva/.nvm/versions/node/v22.14.0/lib/node_modules/@mermaid-js/mermaid-cli/node_modules/puppeteer-core/lib/esm/puppeteer/cdp/ExecutionContext.js:275:16)\u001b[39m\n",
      "\u001b[31m    at async IsolatedWorld.evaluate (file:///home/siva/.nvm/versions/node/v22.14.0/lib/node_modules/@mermaid-js/mermaid-cli/node_modules/puppeteer-core/lib/esm/puppeteer/cdp/IsolatedWorld.js:97:16)\u001b[39m\n",
      "\u001b[31m    at async CdpJSHandle.evaluate (file:///home/siva/.nvm/versions/node/v22.14.0/lib/node_modules/@mermaid-js/mermaid-cli/node_modules/puppeteer-core/lib/esm/puppeteer/api/JSHandle.js:146:20)\u001b[39m\n",
      "\u001b[31m    at async CdpElementHandle.evaluate (file:///home/siva/.nvm/versions/node/v22.14.0/lib/node_modules/@mermaid-js/mermaid-cli/node_modules/puppeteer-core/lib/esm/puppeteer/api/ElementHandle.js:340:20)\u001b[39m\n",
      "\u001b[31m    at async CdpElementHandle.$eval (file:///home/siva/.nvm/versions/node/v22.14.0/lib/node_modules/@mermaid-js/mermaid-cli/node_modules/puppeteer-core/lib/esm/puppeteer/api/ElementHandle.js:494:24)\u001b[39m\n",
      "\u001b[31m    at async CdpFrame.$eval (file:///home/siva/.nvm/versions/node/v22.14.0/lib/node_modules/@mermaid-js/mermaid-cli/node_modules/puppeteer-core/lib/esm/puppeteer/api/Frame.js:450:20)\u001b[39m\n",
      "\u001b[31m    at async CdpPage.$eval (file:///home/siva/.nvm/versions/node/v22.14.0/lib/node_modules/@mermaid-js/mermaid-cli/node_modules/puppeteer-core/lib/esm/puppeteer/api/Page.js:450:20)\u001b[39m\n",
      "\u001b[31m    at async renderMermaid (file:///home/siva/.nvm/versions/node/v22.14.0/lib/node_modules/@mermaid-js/mermaid-cli/src/index.js:252:22)\u001b[39m\n",
      "\u001b[31m    at fromText (/home/siva/.nvm/versions/node/v22.14.0/lib/node_modules/@mermaid-js/mermaid-cli/node_modules/mermaid/dist/mermaid.js:151117:21)\u001b[39m\n",
      "\u001b[31m\u001b[39m\n",
      "Processing entries:  19%|██████████████████████████████████████████▏                                                                                                                                                                               | 129/666 [09:29<32:11,  3.60s/it]"
     ]
    },
    {
     "name": "stdout",
     "output_type": "stream",
     "text": [
      "Error processing entry 128 (ID: L_0192): Command '['mmdc', '-i', 'temp_mermaid.mmd', '-o', '../data/tqa_train_val_test/train/svg_v2/mermaid_output_L_0192.svg', '-t', 'forest']' returned non-zero exit status 1.\n",
      "\n",
      "Generating single mermaid chart\n"
     ]
    },
    {
     "name": "stderr",
     "output_type": "stream",
     "text": [
      "Processing entries:  20%|██████████████████████████████████████████▌                                                                                                                                                                               | 130/666 [09:32<32:08,  3.60s/it]"
     ]
    },
    {
     "name": "stdout",
     "output_type": "stream",
     "text": [
      "Generating single mermaid chart\n"
     ]
    },
    {
     "name": "stderr",
     "output_type": "stream",
     "text": [
      "Processing entries:  20%|██████████████████████████████████████████▉                                                                                                                                                                               | 131/666 [09:36<31:47,  3.57s/it]"
     ]
    },
    {
     "name": "stdout",
     "output_type": "stream",
     "text": [
      "Generating single mermaid chart\n"
     ]
    },
    {
     "name": "stderr",
     "output_type": "stream",
     "text": [
      "[@zenuml/core] Store is a function and is not initiated in 1 second.\n",
      "Processing entries:  20%|███████████████████████████████████████████▏                                                                                                                                                                              | 132/666 [09:40<33:05,  3.72s/it]"
     ]
    },
    {
     "name": "stdout",
     "output_type": "stream",
     "text": [
      "Generating single mermaid chart\n"
     ]
    },
    {
     "name": "stderr",
     "output_type": "stream",
     "text": [
      "Processing entries:  20%|███████████████████████████████████████████▌                                                                                                                                                                              | 133/666 [09:44<35:07,  3.95s/it]"
     ]
    },
    {
     "name": "stdout",
     "output_type": "stream",
     "text": [
      "Generating single mermaid chart\n"
     ]
    },
    {
     "name": "stderr",
     "output_type": "stream",
     "text": [
      "Processing entries:  20%|███████████████████████████████████████████▊                                                                                                                                                                              | 134/666 [09:48<34:17,  3.87s/it]"
     ]
    },
    {
     "name": "stdout",
     "output_type": "stream",
     "text": [
      "Generating single mermaid chart\n"
     ]
    },
    {
     "name": "stderr",
     "output_type": "stream",
     "text": [
      "Processing entries:  20%|████████████████████████████████████████████▏                                                                                                                                                                             | 135/666 [09:52<36:05,  4.08s/it]"
     ]
    },
    {
     "name": "stdout",
     "output_type": "stream",
     "text": [
      "Generating single mermaid chart\n"
     ]
    },
    {
     "name": "stderr",
     "output_type": "stream",
     "text": [
      "Processing entries:  20%|████████████████████████████████████████████▌                                                                                                                                                                             | 136/666 [09:56<35:40,  4.04s/it]"
     ]
    },
    {
     "name": "stdout",
     "output_type": "stream",
     "text": [
      "Generating single mermaid chart\n"
     ]
    },
    {
     "name": "stderr",
     "output_type": "stream",
     "text": [
      "Processing entries:  21%|████████████████████████████████████████████▊                                                                                                                                                                             | 137/666 [10:00<33:25,  3.79s/it]"
     ]
    },
    {
     "name": "stdout",
     "output_type": "stream",
     "text": [
      "Generating single mermaid chart\n"
     ]
    },
    {
     "name": "stderr",
     "output_type": "stream",
     "text": [
      "[@zenuml/core] Store is a function and is not initiated in 1 second.\n",
      "Processing entries:  21%|█████████████████████████████████████████████▏                                                                                                                                                                            | 138/666 [10:03<32:50,  3.73s/it]"
     ]
    },
    {
     "name": "stdout",
     "output_type": "stream",
     "text": [
      "Generating single mermaid chart\n"
     ]
    },
    {
     "name": "stderr",
     "output_type": "stream",
     "text": [
      "Processing entries:  21%|█████████████████████████████████████████████▍                                                                                                                                                                            | 139/666 [10:07<32:20,  3.68s/it]"
     ]
    },
    {
     "name": "stdout",
     "output_type": "stream",
     "text": [
      "Generating single mermaid chart\n"
     ]
    },
    {
     "name": "stderr",
     "output_type": "stream",
     "text": [
      "[@zenuml/core] Store is a function and is not initiated in 1 second.\n",
      "Processing entries:  21%|█████████████████████████████████████████████▊                                                                                                                                                                            | 140/666 [10:11<34:06,  3.89s/it]"
     ]
    },
    {
     "name": "stdout",
     "output_type": "stream",
     "text": [
      "Generating single mermaid chart\n"
     ]
    },
    {
     "name": "stderr",
     "output_type": "stream",
     "text": [
      "Processing entries:  21%|██████████████████████████████████████████████▏                                                                                                                                                                           | 141/666 [10:16<36:55,  4.22s/it]"
     ]
    },
    {
     "name": "stdout",
     "output_type": "stream",
     "text": [
      "Generating single mermaid chart\n"
     ]
    },
    {
     "name": "stderr",
     "output_type": "stream",
     "text": [
      "Processing entries:  21%|██████████████████████████████████████████████▍                                                                                                                                                                           | 142/666 [10:20<35:01,  4.01s/it]"
     ]
    },
    {
     "name": "stdout",
     "output_type": "stream",
     "text": [
      "Generating single mermaid chart\n"
     ]
    },
    {
     "name": "stderr",
     "output_type": "stream",
     "text": [
      "Processing entries:  21%|██████████████████████████████████████████████▊                                                                                                                                                                           | 143/666 [10:26<41:00,  4.70s/it]"
     ]
    },
    {
     "name": "stdout",
     "output_type": "stream",
     "text": [
      "Generating single mermaid chart\n"
     ]
    },
    {
     "name": "stderr",
     "output_type": "stream",
     "text": [
      "Processing entries:  22%|███████████████████████████████████████████████▏                                                                                                                                                                          | 144/666 [10:30<38:02,  4.37s/it]"
     ]
    },
    {
     "name": "stdout",
     "output_type": "stream",
     "text": [
      "Generating single mermaid chart\n"
     ]
    },
    {
     "name": "stderr",
     "output_type": "stream",
     "text": [
      "Processing entries:  22%|███████████████████████████████████████████████▍                                                                                                                                                                          | 145/666 [10:34<37:22,  4.30s/it]"
     ]
    },
    {
     "name": "stdout",
     "output_type": "stream",
     "text": [
      "Generating single mermaid chart\n"
     ]
    },
    {
     "name": "stderr",
     "output_type": "stream",
     "text": [
      "Processing entries:  22%|███████████████████████████████████████████████▊                                                                                                                                                                          | 146/666 [10:38<36:30,  4.21s/it]"
     ]
    },
    {
     "name": "stdout",
     "output_type": "stream",
     "text": [
      "Generating single mermaid chart\n"
     ]
    },
    {
     "name": "stderr",
     "output_type": "stream",
     "text": [
      "Processing entries:  22%|████████████████████████████████████████████████                                                                                                                                                                          | 147/666 [10:41<34:48,  4.02s/it]"
     ]
    },
    {
     "name": "stdout",
     "output_type": "stream",
     "text": [
      "Generating single mermaid chart\n"
     ]
    },
    {
     "name": "stderr",
     "output_type": "stream",
     "text": [
      "Processing entries:  22%|████████████████████████████████████████████████▍                                                                                                                                                                         | 148/666 [10:45<34:19,  3.98s/it]"
     ]
    },
    {
     "name": "stdout",
     "output_type": "stream",
     "text": [
      "Generating single mermaid chart\n"
     ]
    },
    {
     "name": "stderr",
     "output_type": "stream",
     "text": [
      "Processing entries:  22%|████████████████████████████████████████████████▊                                                                                                                                                                         | 149/666 [10:50<36:36,  4.25s/it]"
     ]
    },
    {
     "name": "stdout",
     "output_type": "stream",
     "text": [
      "Generating single mermaid chart\n"
     ]
    },
    {
     "name": "stderr",
     "output_type": "stream",
     "text": [
      "Processing entries:  23%|█████████████████████████████████████████████████                                                                                                                                                                         | 150/666 [10:54<35:17,  4.10s/it]"
     ]
    },
    {
     "name": "stdout",
     "output_type": "stream",
     "text": [
      "Generating single mermaid chart\n"
     ]
    },
    {
     "name": "stderr",
     "output_type": "stream",
     "text": [
      "Processing entries:  23%|█████████████████████████████████████████████████▍                                                                                                                                                                        | 151/666 [11:00<39:48,  4.64s/it]"
     ]
    },
    {
     "name": "stdout",
     "output_type": "stream",
     "text": [
      "Generating single mermaid chart\n"
     ]
    },
    {
     "name": "stderr",
     "output_type": "stream",
     "text": [
      "Processing entries:  23%|█████████████████████████████████████████████████▊                                                                                                                                                                        | 152/666 [11:05<40:33,  4.73s/it]"
     ]
    },
    {
     "name": "stdout",
     "output_type": "stream",
     "text": [
      "Generating single mermaid chart\n"
     ]
    },
    {
     "name": "stderr",
     "output_type": "stream",
     "text": [
      "Processing entries:  23%|██████████████████████████████████████████████████                                                                                                                                                                        | 153/666 [11:08<38:03,  4.45s/it]"
     ]
    },
    {
     "name": "stdout",
     "output_type": "stream",
     "text": [
      "Generating single mermaid chart\n"
     ]
    },
    {
     "name": "stderr",
     "output_type": "stream",
     "text": [
      "Processing entries:  23%|██████████████████████████████████████████████████▍                                                                                                                                                                       | 154/666 [11:12<35:05,  4.11s/it]"
     ]
    },
    {
     "name": "stdout",
     "output_type": "stream",
     "text": [
      "Generating single mermaid chart\n"
     ]
    },
    {
     "name": "stderr",
     "output_type": "stream",
     "text": [
      "Processing entries:  23%|██████████████████████████████████████████████████▋                                                                                                                                                                       | 155/666 [11:15<31:55,  3.75s/it]"
     ]
    },
    {
     "name": "stdout",
     "output_type": "stream",
     "text": [
      "Generating single mermaid chart\n"
     ]
    },
    {
     "name": "stderr",
     "output_type": "stream",
     "text": [
      "Processing entries:  23%|███████████████████████████████████████████████████                                                                                                                                                                       | 156/666 [11:20<35:46,  4.21s/it]"
     ]
    },
    {
     "name": "stdout",
     "output_type": "stream",
     "text": [
      "Generating single mermaid chart\n"
     ]
    },
    {
     "name": "stderr",
     "output_type": "stream",
     "text": [
      "Processing entries:  24%|███████████████████████████████████████████████████▍                                                                                                                                                                      | 157/666 [11:24<34:36,  4.08s/it]"
     ]
    },
    {
     "name": "stdout",
     "output_type": "stream",
     "text": [
      "Generating single mermaid chart\n"
     ]
    },
    {
     "name": "stderr",
     "output_type": "stream",
     "text": [
      "Processing entries:  24%|███████████████████████████████████████████████████▋                                                                                                                                                                      | 158/666 [11:27<31:37,  3.73s/it]"
     ]
    },
    {
     "name": "stdout",
     "output_type": "stream",
     "text": [
      "Generating single mermaid chart\n"
     ]
    },
    {
     "name": "stderr",
     "output_type": "stream",
     "text": [
      "Processing entries:  24%|████████████████████████████████████████████████████                                                                                                                                                                      | 159/666 [11:30<30:40,  3.63s/it]"
     ]
    },
    {
     "name": "stdout",
     "output_type": "stream",
     "text": [
      "Generating single mermaid chart\n"
     ]
    },
    {
     "name": "stderr",
     "output_type": "stream",
     "text": [
      "Processing entries:  24%|████████████████████████████████████████████████████▎                                                                                                                                                                     | 160/666 [11:34<30:36,  3.63s/it]"
     ]
    },
    {
     "name": "stdout",
     "output_type": "stream",
     "text": [
      "Generating single mermaid chart\n"
     ]
    },
    {
     "name": "stderr",
     "output_type": "stream",
     "text": [
      "Processing entries:  24%|████████████████████████████████████████████████████▋                                                                                                                                                                     | 161/666 [11:37<28:26,  3.38s/it]"
     ]
    },
    {
     "name": "stdout",
     "output_type": "stream",
     "text": [
      "Generating single mermaid chart\n"
     ]
    },
    {
     "name": "stderr",
     "output_type": "stream",
     "text": [
      "Processing entries:  24%|█████████████████████████████████████████████████████                                                                                                                                                                     | 162/666 [11:40<29:45,  3.54s/it]"
     ]
    },
    {
     "name": "stdout",
     "output_type": "stream",
     "text": [
      "Generating single mermaid chart\n"
     ]
    },
    {
     "name": "stderr",
     "output_type": "stream",
     "text": [
      "Processing entries:  24%|█████████████████████████████████████████████████████▎                                                                                                                                                                    | 163/666 [11:45<32:48,  3.91s/it]"
     ]
    },
    {
     "name": "stdout",
     "output_type": "stream",
     "text": [
      "Generating single mermaid chart\n"
     ]
    },
    {
     "name": "stderr",
     "output_type": "stream",
     "text": [
      "Processing entries:  25%|█████████████████████████████████████████████████████▋                                                                                                                                                                    | 164/666 [11:50<34:42,  4.15s/it]"
     ]
    },
    {
     "name": "stdout",
     "output_type": "stream",
     "text": [
      "Generating single mermaid chart\n"
     ]
    },
    {
     "name": "stderr",
     "output_type": "stream",
     "text": [
      "Processing entries:  25%|██████████████████████████████████████████████████████                                                                                                                                                                    | 165/666 [11:53<31:48,  3.81s/it]"
     ]
    },
    {
     "name": "stdout",
     "output_type": "stream",
     "text": [
      "Generating single mermaid chart\n"
     ]
    },
    {
     "name": "stderr",
     "output_type": "stream",
     "text": [
      "Processing entries:  25%|██████████████████████████████████████████████████████▎                                                                                                                                                                   | 166/666 [11:57<32:17,  3.87s/it]"
     ]
    },
    {
     "name": "stdout",
     "output_type": "stream",
     "text": [
      "Generating single mermaid chart\n"
     ]
    },
    {
     "name": "stderr",
     "output_type": "stream",
     "text": [
      "Processing entries:  25%|██████████████████████████████████████████████████████▋                                                                                                                                                                   | 167/666 [12:02<36:08,  4.35s/it]"
     ]
    },
    {
     "name": "stdout",
     "output_type": "stream",
     "text": [
      "Generating single mermaid chart\n"
     ]
    },
    {
     "name": "stderr",
     "output_type": "stream",
     "text": [
      "Processing entries:  25%|██████████████████████████████████████████████████████▉                                                                                                                                                                   | 168/666 [12:06<35:22,  4.26s/it]"
     ]
    },
    {
     "name": "stdout",
     "output_type": "stream",
     "text": [
      "Generating single mermaid chart\n"
     ]
    },
    {
     "name": "stderr",
     "output_type": "stream",
     "text": [
      "Processing entries:  25%|███████████████████████████████████████████████████████▎                                                                                                                                                                  | 169/666 [12:10<33:37,  4.06s/it]"
     ]
    },
    {
     "name": "stdout",
     "output_type": "stream",
     "text": [
      "Generating single mermaid chart\n"
     ]
    },
    {
     "name": "stderr",
     "output_type": "stream",
     "text": [
      "Processing entries:  26%|███████████████████████████████████████████████████████▋                                                                                                                                                                  | 170/666 [12:13<31:43,  3.84s/it]"
     ]
    },
    {
     "name": "stdout",
     "output_type": "stream",
     "text": [
      "Generating single mermaid chart\n"
     ]
    },
    {
     "name": "stderr",
     "output_type": "stream",
     "text": [
      "Processing entries:  26%|███████████████████████████████████████████████████████▉                                                                                                                                                                  | 171/666 [12:17<31:03,  3.77s/it]"
     ]
    },
    {
     "name": "stdout",
     "output_type": "stream",
     "text": [
      "Generating single mermaid chart\n"
     ]
    },
    {
     "name": "stderr",
     "output_type": "stream",
     "text": [
      "Processing entries:  26%|████████████████████████████████████████████████████████▎                                                                                                                                                                 | 172/666 [12:26<44:42,  5.43s/it]"
     ]
    },
    {
     "name": "stdout",
     "output_type": "stream",
     "text": [
      "Generating single mermaid chart\n"
     ]
    },
    {
     "name": "stderr",
     "output_type": "stream",
     "text": [
      "Processing entries:  26%|████████████████████████████████████████████████████████▋                                                                                                                                                                 | 173/666 [12:30<40:00,  4.87s/it]"
     ]
    },
    {
     "name": "stdout",
     "output_type": "stream",
     "text": [
      "Generating single mermaid chart\n"
     ]
    },
    {
     "name": "stderr",
     "output_type": "stream",
     "text": [
      "Processing entries:  26%|████████████████████████████████████████████████████████▉                                                                                                                                                                 | 174/666 [12:33<36:26,  4.44s/it]"
     ]
    },
    {
     "name": "stdout",
     "output_type": "stream",
     "text": [
      "Generating single mermaid chart\n"
     ]
    },
    {
     "name": "stderr",
     "output_type": "stream",
     "text": [
      "Processing entries:  26%|█████████████████████████████████████████████████████████▎                                                                                                                                                                | 175/666 [12:37<35:05,  4.29s/it]"
     ]
    },
    {
     "name": "stdout",
     "output_type": "stream",
     "text": [
      "Generating single mermaid chart\n"
     ]
    },
    {
     "name": "stderr",
     "output_type": "stream",
     "text": [
      "Processing entries:  26%|█████████████████████████████████████████████████████████▌                                                                                                                                                                | 176/666 [12:41<33:38,  4.12s/it]"
     ]
    },
    {
     "name": "stdout",
     "output_type": "stream",
     "text": [
      "Generating single mermaid chart\n"
     ]
    },
    {
     "name": "stderr",
     "output_type": "stream",
     "text": [
      "Processing entries:  27%|█████████████████████████████████████████████████████████▉                                                                                                                                                                | 177/666 [12:46<35:18,  4.33s/it]"
     ]
    },
    {
     "name": "stdout",
     "output_type": "stream",
     "text": [
      "Generating single mermaid chart\n"
     ]
    },
    {
     "name": "stderr",
     "output_type": "stream",
     "text": [
      "Processing entries:  27%|██████████████████████████████████████████████████████████▎                                                                                                                                                               | 178/666 [12:51<36:53,  4.54s/it]"
     ]
    },
    {
     "name": "stdout",
     "output_type": "stream",
     "text": [
      "Generating single mermaid chart\n"
     ]
    },
    {
     "name": "stderr",
     "output_type": "stream",
     "text": [
      "Processing entries:  27%|██████████████████████████████████████████████████████████▌                                                                                                                                                               | 179/666 [12:56<39:27,  4.86s/it]"
     ]
    },
    {
     "name": "stdout",
     "output_type": "stream",
     "text": [
      "Generating single mermaid chart\n"
     ]
    },
    {
     "name": "stderr",
     "output_type": "stream",
     "text": [
      "Processing entries:  27%|██████████████████████████████████████████████████████████▉                                                                                                                                                               | 180/666 [13:00<35:30,  4.38s/it]"
     ]
    },
    {
     "name": "stdout",
     "output_type": "stream",
     "text": [
      "Generating single mermaid chart\n"
     ]
    },
    {
     "name": "stderr",
     "output_type": "stream",
     "text": [
      "Processing entries:  27%|███████████████████████████████████████████████████████████▏                                                                                                                                                              | 181/666 [13:03<33:16,  4.12s/it]"
     ]
    },
    {
     "name": "stdout",
     "output_type": "stream",
     "text": [
      "Generating single mermaid chart\n"
     ]
    },
    {
     "name": "stderr",
     "output_type": "stream",
     "text": [
      "Processing entries:  27%|███████████████████████████████████████████████████████████▌                                                                                                                                                              | 182/666 [13:07<32:55,  4.08s/it]"
     ]
    },
    {
     "name": "stdout",
     "output_type": "stream",
     "text": [
      "Generating single mermaid chart\n"
     ]
    },
    {
     "name": "stderr",
     "output_type": "stream",
     "text": [
      "Processing entries:  27%|███████████████████████████████████████████████████████████▉                                                                                                                                                              | 183/666 [13:11<32:17,  4.01s/it]"
     ]
    },
    {
     "name": "stdout",
     "output_type": "stream",
     "text": [
      "Generating single mermaid chart\n"
     ]
    },
    {
     "name": "stderr",
     "output_type": "stream",
     "text": [
      "Processing entries:  28%|████████████████████████████████████████████████████████████▏                                                                                                                                                             | 184/666 [13:14<30:45,  3.83s/it]"
     ]
    },
    {
     "name": "stdout",
     "output_type": "stream",
     "text": [
      "Generating single mermaid chart\n"
     ]
    },
    {
     "name": "stderr",
     "output_type": "stream",
     "text": [
      "Processing entries:  28%|████████████████████████████████████████████████████████████▌                                                                                                                                                             | 185/666 [13:18<30:20,  3.79s/it]"
     ]
    },
    {
     "name": "stdout",
     "output_type": "stream",
     "text": [
      "Generating single mermaid chart\n"
     ]
    },
    {
     "name": "stderr",
     "output_type": "stream",
     "text": [
      "Processing entries:  28%|████████████████████████████████████████████████████████████▉                                                                                                                                                             | 186/666 [13:22<29:55,  3.74s/it]"
     ]
    },
    {
     "name": "stdout",
     "output_type": "stream",
     "text": [
      "Generating single mermaid chart\n"
     ]
    },
    {
     "name": "stderr",
     "output_type": "stream",
     "text": [
      "Processing entries:  28%|█████████████████████████████████████████████████████████████▏                                                                                                                                                            | 187/666 [13:25<27:56,  3.50s/it]"
     ]
    },
    {
     "name": "stdout",
     "output_type": "stream",
     "text": [
      "Generating single mermaid chart\n"
     ]
    },
    {
     "name": "stderr",
     "output_type": "stream",
     "text": [
      "Processing entries:  28%|█████████████████████████████████████████████████████████████▌                                                                                                                                                            | 188/666 [13:29<29:01,  3.64s/it]"
     ]
    },
    {
     "name": "stdout",
     "output_type": "stream",
     "text": [
      "Generating single mermaid chart\n"
     ]
    },
    {
     "name": "stderr",
     "output_type": "stream",
     "text": [
      "Processing entries:  28%|█████████████████████████████████████████████████████████████▊                                                                                                                                                            | 189/666 [13:34<32:16,  4.06s/it]"
     ]
    },
    {
     "name": "stdout",
     "output_type": "stream",
     "text": [
      "Generating single mermaid chart\n"
     ]
    },
    {
     "name": "stderr",
     "output_type": "stream",
     "text": [
      "Processing entries:  29%|██████████████████████████████████████████████████████████████▏                                                                                                                                                           | 190/666 [13:37<30:17,  3.82s/it]"
     ]
    },
    {
     "name": "stdout",
     "output_type": "stream",
     "text": [
      "Generating single mermaid chart\n"
     ]
    },
    {
     "name": "stderr",
     "output_type": "stream",
     "text": [
      "Processing entries:  29%|██████████████████████████████████████████████████████████████▌                                                                                                                                                           | 191/666 [13:40<28:56,  3.66s/it]"
     ]
    },
    {
     "name": "stdout",
     "output_type": "stream",
     "text": [
      "Generating single mermaid chart\n"
     ]
    },
    {
     "name": "stderr",
     "output_type": "stream",
     "text": [
      "Processing entries:  29%|██████████████████████████████████████████████████████████████▊                                                                                                                                                           | 192/666 [13:44<28:49,  3.65s/it]"
     ]
    },
    {
     "name": "stdout",
     "output_type": "stream",
     "text": [
      "Generating single mermaid chart\n"
     ]
    },
    {
     "name": "stderr",
     "output_type": "stream",
     "text": [
      "Processing entries:  29%|███████████████████████████████████████████████████████████████▏                                                                                                                                                          | 193/666 [13:48<30:37,  3.88s/it]"
     ]
    },
    {
     "name": "stdout",
     "output_type": "stream",
     "text": [
      "Generating single mermaid chart\n"
     ]
    },
    {
     "name": "stderr",
     "output_type": "stream",
     "text": [
      "Processing entries:  29%|███████████████████████████████████████████████████████████████▌                                                                                                                                                          | 194/666 [13:52<29:36,  3.76s/it]"
     ]
    },
    {
     "name": "stdout",
     "output_type": "stream",
     "text": [
      "Generating single mermaid chart\n"
     ]
    },
    {
     "name": "stderr",
     "output_type": "stream",
     "text": [
      "Processing entries:  29%|███████████████████████████████████████████████████████████████▊                                                                                                                                                          | 195/666 [13:59<37:08,  4.73s/it]"
     ]
    },
    {
     "name": "stdout",
     "output_type": "stream",
     "text": [
      "Generating single mermaid chart\n"
     ]
    },
    {
     "name": "stderr",
     "output_type": "stream",
     "text": [
      "Processing entries:  29%|████████████████████████████████████████████████████████████████▏                                                                                                                                                         | 196/666 [14:02<33:43,  4.31s/it]"
     ]
    },
    {
     "name": "stdout",
     "output_type": "stream",
     "text": [
      "Generating single mermaid chart\n"
     ]
    },
    {
     "name": "stderr",
     "output_type": "stream",
     "text": [
      "Processing entries:  30%|████████████████████████████████████████████████████████████████▍                                                                                                                                                         | 197/666 [14:05<30:38,  3.92s/it]"
     ]
    },
    {
     "name": "stdout",
     "output_type": "stream",
     "text": [
      "Generating single mermaid chart\n"
     ]
    },
    {
     "name": "stderr",
     "output_type": "stream",
     "text": [
      "Processing entries:  30%|████████████████████████████████████████████████████████████████▊                                                                                                                                                         | 198/666 [14:09<29:51,  3.83s/it]"
     ]
    },
    {
     "name": "stdout",
     "output_type": "stream",
     "text": [
      "Generating single mermaid chart\n"
     ]
    },
    {
     "name": "stderr",
     "output_type": "stream",
     "text": [
      "Processing entries:  30%|█████████████████████████████████████████████████████████████████▏                                                                                                                                                        | 199/666 [14:13<29:59,  3.85s/it]"
     ]
    },
    {
     "name": "stdout",
     "output_type": "stream",
     "text": [
      "Generating single mermaid chart\n"
     ]
    },
    {
     "name": "stderr",
     "output_type": "stream",
     "text": [
      "Processing entries:  30%|█████████████████████████████████████████████████████████████████▍                                                                                                                                                        | 200/666 [14:16<28:33,  3.68s/it]"
     ]
    },
    {
     "name": "stdout",
     "output_type": "stream",
     "text": [
      "Generating single mermaid chart\n"
     ]
    },
    {
     "name": "stderr",
     "output_type": "stream",
     "text": [
      "Processing entries:  30%|█████████████████████████████████████████████████████████████████▊                                                                                                                                                        | 201/666 [14:22<35:10,  4.54s/it]"
     ]
    },
    {
     "name": "stdout",
     "output_type": "stream",
     "text": [
      "Generating single mermaid chart\n"
     ]
    },
    {
     "name": "stderr",
     "output_type": "stream",
     "text": [
      "Processing entries:  30%|██████████████████████████████████████████████████████████████████                                                                                                                                                        | 202/666 [14:27<34:26,  4.45s/it]"
     ]
    },
    {
     "name": "stdout",
     "output_type": "stream",
     "text": [
      "Generating single mermaid chart\n"
     ]
    },
    {
     "name": "stderr",
     "output_type": "stream",
     "text": [
      "Processing entries:  30%|██████████████████████████████████████████████████████████████████▍                                                                                                                                                       | 203/666 [14:32<35:24,  4.59s/it]"
     ]
    },
    {
     "name": "stdout",
     "output_type": "stream",
     "text": [
      "Generating single mermaid chart\n"
     ]
    },
    {
     "name": "stderr",
     "output_type": "stream",
     "text": [
      "Processing entries:  31%|██████████████████████████████████████████████████████████████████▊                                                                                                                                                       | 204/666 [14:41<47:24,  6.16s/it]"
     ]
    },
    {
     "name": "stdout",
     "output_type": "stream",
     "text": [
      "Generating single mermaid chart\n"
     ]
    },
    {
     "name": "stderr",
     "output_type": "stream",
     "text": [
      "Processing entries:  31%|███████████████████████████████████████████████████████████████████                                                                                                                                                       | 205/666 [14:46<42:35,  5.54s/it]"
     ]
    },
    {
     "name": "stdout",
     "output_type": "stream",
     "text": [
      "Generating single mermaid chart\n"
     ]
    },
    {
     "name": "stderr",
     "output_type": "stream",
     "text": [
      "Processing entries:  31%|███████████████████████████████████████████████████████████████████▍                                                                                                                                                      | 206/666 [14:49<38:15,  4.99s/it]"
     ]
    },
    {
     "name": "stdout",
     "output_type": "stream",
     "text": [
      "Generating single mermaid chart\n"
     ]
    },
    {
     "name": "stderr",
     "output_type": "stream",
     "text": [
      "Processing entries:  31%|███████████████████████████████████████████████████████████████████▊                                                                                                                                                      | 207/666 [14:54<38:11,  4.99s/it]"
     ]
    },
    {
     "name": "stdout",
     "output_type": "stream",
     "text": [
      "Generating single mermaid chart\n"
     ]
    },
    {
     "name": "stderr",
     "output_type": "stream",
     "text": [
      "Processing entries:  31%|████████████████████████████████████████████████████████████████████                                                                                                                                                      | 208/666 [14:58<35:12,  4.61s/it]"
     ]
    },
    {
     "name": "stdout",
     "output_type": "stream",
     "text": [
      "Generating single mermaid chart\n"
     ]
    },
    {
     "name": "stderr",
     "output_type": "stream",
     "text": [
      "Processing entries:  31%|████████████████████████████████████████████████████████████████████▍                                                                                                                                                     | 209/666 [15:02<34:24,  4.52s/it]"
     ]
    },
    {
     "name": "stdout",
     "output_type": "stream",
     "text": [
      "Generating single mermaid chart\n"
     ]
    },
    {
     "name": "stderr",
     "output_type": "stream",
     "text": [
      "Processing entries:  32%|████████████████████████████████████████████████████████████████████▋                                                                                                                                                     | 210/666 [15:05<31:03,  4.09s/it]"
     ]
    },
    {
     "name": "stdout",
     "output_type": "stream",
     "text": [
      "Generating single mermaid chart\n"
     ]
    },
    {
     "name": "stderr",
     "output_type": "stream",
     "text": [
      "Processing entries:  32%|█████████████████████████████████████████████████████████████████████                                                                                                                                                     | 211/666 [15:10<31:52,  4.20s/it]"
     ]
    },
    {
     "name": "stdout",
     "output_type": "stream",
     "text": [
      "Generating single mermaid chart\n"
     ]
    },
    {
     "name": "stderr",
     "output_type": "stream",
     "text": [
      "Processing entries:  32%|█████████████████████████████████████████████████████████████████████▍                                                                                                                                                    | 212/666 [15:13<29:27,  3.89s/it]"
     ]
    },
    {
     "name": "stdout",
     "output_type": "stream",
     "text": [
      "Generating single mermaid chart\n"
     ]
    },
    {
     "name": "stderr",
     "output_type": "stream",
     "text": [
      "Processing entries:  32%|█████████████████████████████████████████████████████████████████████▋                                                                                                                                                    | 213/666 [15:18<30:55,  4.10s/it]"
     ]
    },
    {
     "name": "stdout",
     "output_type": "stream",
     "text": [
      "Generating single mermaid chart\n"
     ]
    },
    {
     "name": "stderr",
     "output_type": "stream",
     "text": [
      "Processing entries:  32%|██████████████████████████████████████████████████████████████████████                                                                                                                                                    | 214/666 [15:21<28:38,  3.80s/it]"
     ]
    },
    {
     "name": "stdout",
     "output_type": "stream",
     "text": [
      "Generating single mermaid chart\n"
     ]
    },
    {
     "name": "stderr",
     "output_type": "stream",
     "text": [
      "Processing entries:  32%|██████████████████████████████████████████████████████████████████████▍                                                                                                                                                   | 215/666 [15:25<30:23,  4.04s/it]"
     ]
    },
    {
     "name": "stdout",
     "output_type": "stream",
     "text": [
      "Generating single mermaid chart\n"
     ]
    },
    {
     "name": "stderr",
     "output_type": "stream",
     "text": [
      "Processing entries:  32%|██████████████████████████████████████████████████████████████████████▋                                                                                                                                                   | 216/666 [15:29<30:01,  4.00s/it]"
     ]
    },
    {
     "name": "stdout",
     "output_type": "stream",
     "text": [
      "Generating single mermaid chart\n"
     ]
    },
    {
     "name": "stderr",
     "output_type": "stream",
     "text": [
      "Processing entries:  33%|███████████████████████████████████████████████████████████████████████                                                                                                                                                   | 217/666 [15:33<29:31,  3.95s/it]"
     ]
    },
    {
     "name": "stdout",
     "output_type": "stream",
     "text": [
      "Generating single mermaid chart\n"
     ]
    },
    {
     "name": "stderr",
     "output_type": "stream",
     "text": [
      "Processing entries:  33%|███████████████████████████████████████████████████████████████████████▎                                                                                                                                                  | 218/666 [15:40<35:57,  4.82s/it]"
     ]
    },
    {
     "name": "stdout",
     "output_type": "stream",
     "text": [
      "Generating single mermaid chart\n"
     ]
    },
    {
     "name": "stderr",
     "output_type": "stream",
     "text": [
      "Processing entries:  33%|███████████████████████████████████████████████████████████████████████▋                                                                                                                                                  | 219/666 [15:45<35:45,  4.80s/it]"
     ]
    },
    {
     "name": "stdout",
     "output_type": "stream",
     "text": [
      "Generating single mermaid chart\n"
     ]
    },
    {
     "name": "stderr",
     "output_type": "stream",
     "text": [
      "Processing entries:  33%|████████████████████████████████████████████████████████████████████████                                                                                                                                                  | 220/666 [15:48<32:37,  4.39s/it]"
     ]
    },
    {
     "name": "stdout",
     "output_type": "stream",
     "text": [
      "Generating single mermaid chart\n"
     ]
    },
    {
     "name": "stderr",
     "output_type": "stream",
     "text": [
      "Processing entries:  33%|████████████████████████████████████████████████████████████████████████▎                                                                                                                                                 | 221/666 [15:52<32:19,  4.36s/it]"
     ]
    },
    {
     "name": "stdout",
     "output_type": "stream",
     "text": [
      "Generating single mermaid chart\n"
     ]
    },
    {
     "name": "stderr",
     "output_type": "stream",
     "text": [
      "Processing entries:  33%|████████████████████████████████████████████████████████████████████████▋                                                                                                                                                 | 222/666 [15:58<35:05,  4.74s/it]"
     ]
    },
    {
     "name": "stdout",
     "output_type": "stream",
     "text": [
      "Generating single mermaid chart\n"
     ]
    },
    {
     "name": "stderr",
     "output_type": "stream",
     "text": [
      "[@zenuml/core] Store is a function and is not initiated in 1 second.\n",
      "Processing entries:  33%|████████████████████████████████████████████████████████████████████████▉                                                                                                                                                 | 223/666 [16:04<38:39,  5.23s/it]"
     ]
    },
    {
     "name": "stdout",
     "output_type": "stream",
     "text": [
      "Generating single mermaid chart\n"
     ]
    },
    {
     "name": "stderr",
     "output_type": "stream",
     "text": [
      "Processing entries:  34%|█████████████████████████████████████████████████████████████████████████▎                                                                                                                                                | 224/666 [16:09<38:09,  5.18s/it]"
     ]
    },
    {
     "name": "stdout",
     "output_type": "stream",
     "text": [
      "Generating single mermaid chart\n"
     ]
    },
    {
     "name": "stderr",
     "output_type": "stream",
     "text": [
      "Processing entries:  34%|█████████████████████████████████████████████████████████████████████████▋                                                                                                                                                | 225/666 [16:13<35:44,  4.86s/it]"
     ]
    },
    {
     "name": "stdout",
     "output_type": "stream",
     "text": [
      "Generating single mermaid chart\n"
     ]
    },
    {
     "name": "stderr",
     "output_type": "stream",
     "text": [
      "Processing entries:  34%|█████████████████████████████████████████████████████████████████████████▉                                                                                                                                                | 226/666 [16:18<33:48,  4.61s/it]"
     ]
    },
    {
     "name": "stdout",
     "output_type": "stream",
     "text": [
      "Generating single mermaid chart\n"
     ]
    },
    {
     "name": "stderr",
     "output_type": "stream",
     "text": [
      "Processing entries:  34%|██████████████████████████████████████████████████████████████████████████▎                                                                                                                                               | 227/666 [16:22<34:33,  4.72s/it]"
     ]
    },
    {
     "name": "stdout",
     "output_type": "stream",
     "text": [
      "Generating single mermaid chart\n"
     ]
    },
    {
     "name": "stderr",
     "output_type": "stream",
     "text": [
      "[@zenuml/core] Store is a function and is not initiated in 1 second.\n",
      "Processing entries:  34%|██████████████████████████████████████████████████████████████████████████▋                                                                                                                                               | 228/666 [16:27<32:59,  4.52s/it]"
     ]
    },
    {
     "name": "stdout",
     "output_type": "stream",
     "text": [
      "Generating single mermaid chart\n"
     ]
    },
    {
     "name": "stderr",
     "output_type": "stream",
     "text": [
      "Processing entries:  34%|██████████████████████████████████████████████████████████████████████████▉                                                                                                                                               | 229/666 [16:30<31:08,  4.28s/it]"
     ]
    },
    {
     "name": "stdout",
     "output_type": "stream",
     "text": [
      "Generating single mermaid chart\n"
     ]
    },
    {
     "name": "stderr",
     "output_type": "stream",
     "text": [
      "[@zenuml/core] Store is a function and is not initiated in 1 second.\n",
      "Processing entries:  35%|███████████████████████████████████████████████████████████████████████████▎                                                                                                                                              | 230/666 [16:36<33:59,  4.68s/it]"
     ]
    },
    {
     "name": "stdout",
     "output_type": "stream",
     "text": [
      "Generating single mermaid chart\n"
     ]
    },
    {
     "name": "stderr",
     "output_type": "stream",
     "text": [
      "[@zenuml/core] Store is a function and is not initiated in 1 second.\n",
      "Processing entries:  35%|███████████████████████████████████████████████████████████████████████████▌                                                                                                                                              | 231/666 [16:42<36:54,  5.09s/it]"
     ]
    },
    {
     "name": "stdout",
     "output_type": "stream",
     "text": [
      "Generating single mermaid chart\n"
     ]
    },
    {
     "name": "stderr",
     "output_type": "stream",
     "text": [
      "[@zenuml/core] Store is a function and is not initiated in 1 second.\n",
      "Processing entries:  35%|███████████████████████████████████████████████████████████████████████████▉                                                                                                                                              | 232/666 [16:47<36:12,  5.01s/it]"
     ]
    },
    {
     "name": "stdout",
     "output_type": "stream",
     "text": [
      "Generating single mermaid chart\n"
     ]
    },
    {
     "name": "stderr",
     "output_type": "stream",
     "text": [
      "[@zenuml/core] Store is a function and is not initiated in 1 second.\n",
      "Processing entries:  35%|████████████████████████████████████████████████████████████████████████████▎                                                                                                                                             | 233/666 [16:53<39:06,  5.42s/it]"
     ]
    },
    {
     "name": "stdout",
     "output_type": "stream",
     "text": [
      "Generating single mermaid chart\n"
     ]
    },
    {
     "name": "stderr",
     "output_type": "stream",
     "text": [
      "Processing entries:  35%|████████████████████████████████████████████████████████████████████████████▌                                                                                                                                             | 234/666 [16:58<38:13,  5.31s/it]"
     ]
    },
    {
     "name": "stdout",
     "output_type": "stream",
     "text": [
      "Generating single mermaid chart\n"
     ]
    },
    {
     "name": "stderr",
     "output_type": "stream",
     "text": [
      "Processing entries:  35%|████████████████████████████████████████████████████████████████████████████▉                                                                                                                                             | 235/666 [17:04<39:13,  5.46s/it]"
     ]
    },
    {
     "name": "stdout",
     "output_type": "stream",
     "text": [
      "Generating single mermaid chart\n"
     ]
    },
    {
     "name": "stderr",
     "output_type": "stream",
     "text": [
      "Processing entries:  35%|█████████████████████████████████████████████████████████████████████████████▏                                                                                                                                            | 236/666 [17:07<34:33,  4.82s/it]"
     ]
    },
    {
     "name": "stdout",
     "output_type": "stream",
     "text": [
      "Generating single mermaid chart\n"
     ]
    },
    {
     "name": "stderr",
     "output_type": "stream",
     "text": [
      "Processing entries:  36%|█████████████████████████████████████████████████████████████████████████████▌                                                                                                                                            | 237/666 [17:11<32:42,  4.57s/it]"
     ]
    },
    {
     "name": "stdout",
     "output_type": "stream",
     "text": [
      "Generating single mermaid chart\n"
     ]
    },
    {
     "name": "stderr",
     "output_type": "stream",
     "text": [
      "Processing entries:  36%|█████████████████████████████████████████████████████████████████████████████▉                                                                                                                                            | 238/666 [17:15<31:16,  4.38s/it]"
     ]
    },
    {
     "name": "stdout",
     "output_type": "stream",
     "text": [
      "Generating single mermaid chart\n"
     ]
    },
    {
     "name": "stderr",
     "output_type": "stream",
     "text": [
      "Processing entries:  36%|██████████████████████████████████████████████████████████████████████████████▏                                                                                                                                           | 239/666 [17:20<32:30,  4.57s/it]"
     ]
    },
    {
     "name": "stdout",
     "output_type": "stream",
     "text": [
      "Generating single mermaid chart\n"
     ]
    },
    {
     "name": "stderr",
     "output_type": "stream",
     "text": [
      "Processing entries:  36%|██████████████████████████████████████████████████████████████████████████████▌                                                                                                                                           | 240/666 [17:24<31:43,  4.47s/it]"
     ]
    },
    {
     "name": "stdout",
     "output_type": "stream",
     "text": [
      "Generating single mermaid chart\n"
     ]
    },
    {
     "name": "stderr",
     "output_type": "stream",
     "text": [
      "Processing entries:  36%|██████████████████████████████████████████████████████████████████████████████▉                                                                                                                                           | 241/666 [17:28<30:28,  4.30s/it]"
     ]
    },
    {
     "name": "stdout",
     "output_type": "stream",
     "text": [
      "Generating single mermaid chart\n"
     ]
    },
    {
     "name": "stderr",
     "output_type": "stream",
     "text": [
      "[@zenuml/core] Store is a function and is not initiated in 1 second.\n",
      "Processing entries:  36%|███████████████████████████████████████████████████████████████████████████████▏                                                                                                                                          | 242/666 [17:35<34:15,  4.85s/it]"
     ]
    },
    {
     "name": "stdout",
     "output_type": "stream",
     "text": [
      "Generating single mermaid chart\n"
     ]
    },
    {
     "name": "stderr",
     "output_type": "stream",
     "text": [
      "Processing entries:  36%|███████████████████████████████████████████████████████████████████████████████▌                                                                                                                                          | 243/666 [17:40<35:13,  5.00s/it]"
     ]
    },
    {
     "name": "stdout",
     "output_type": "stream",
     "text": [
      "Generating single mermaid chart\n"
     ]
    },
    {
     "name": "stderr",
     "output_type": "stream",
     "text": [
      "[@zenuml/core] Store is a function and is not initiated in 1 second.\n",
      "Processing entries:  37%|███████████████████████████████████████████████████████████████████████████████▊                                                                                                                                          | 244/666 [17:45<34:28,  4.90s/it]"
     ]
    },
    {
     "name": "stdout",
     "output_type": "stream",
     "text": [
      "Generating single mermaid chart\n"
     ]
    },
    {
     "name": "stderr",
     "output_type": "stream",
     "text": [
      "Processing entries:  37%|████████████████████████████████████████████████████████████████████████████████▏                                                                                                                                         | 245/666 [17:48<31:05,  4.43s/it]"
     ]
    },
    {
     "name": "stdout",
     "output_type": "stream",
     "text": [
      "Generating single mermaid chart\n"
     ]
    },
    {
     "name": "stderr",
     "output_type": "stream",
     "text": [
      "Processing entries:  37%|████████████████████████████████████████████████████████████████████████████████▌                                                                                                                                         | 246/666 [17:52<31:26,  4.49s/it]"
     ]
    },
    {
     "name": "stdout",
     "output_type": "stream",
     "text": [
      "Generating single mermaid chart\n"
     ]
    },
    {
     "name": "stderr",
     "output_type": "stream",
     "text": [
      "Processing entries:  37%|████████████████████████████████████████████████████████████████████████████████▊                                                                                                                                         | 247/666 [17:57<31:16,  4.48s/it]"
     ]
    },
    {
     "name": "stdout",
     "output_type": "stream",
     "text": [
      "Generating single mermaid chart\n"
     ]
    },
    {
     "name": "stderr",
     "output_type": "stream",
     "text": [
      "Processing entries:  37%|█████████████████████████████████████████████████████████████████████████████████▏                                                                                                                                        | 248/666 [18:01<31:20,  4.50s/it]"
     ]
    },
    {
     "name": "stdout",
     "output_type": "stream",
     "text": [
      "Generating single mermaid chart\n"
     ]
    },
    {
     "name": "stderr",
     "output_type": "stream",
     "text": [
      "Processing entries:  37%|█████████████████████████████████████████████████████████████████████████████████▌                                                                                                                                        | 249/666 [18:05<29:41,  4.27s/it]"
     ]
    },
    {
     "name": "stdout",
     "output_type": "stream",
     "text": [
      "Generating single mermaid chart\n"
     ]
    },
    {
     "name": "stderr",
     "output_type": "stream",
     "text": [
      "Processing entries:  38%|█████████████████████████████████████████████████████████████████████████████████▊                                                                                                                                        | 250/666 [18:10<31:00,  4.47s/it]"
     ]
    },
    {
     "name": "stdout",
     "output_type": "stream",
     "text": [
      "Generating single mermaid chart\n"
     ]
    },
    {
     "name": "stderr",
     "output_type": "stream",
     "text": [
      "Processing entries:  38%|██████████████████████████████████████████████████████████████████████████████████▏                                                                                                                                       | 251/666 [18:15<32:21,  4.68s/it]"
     ]
    },
    {
     "name": "stdout",
     "output_type": "stream",
     "text": [
      "Generating single mermaid chart\n"
     ]
    },
    {
     "name": "stderr",
     "output_type": "stream",
     "text": [
      "Processing entries:  38%|██████████████████████████████████████████████████████████████████████████████████▍                                                                                                                                       | 252/666 [18:19<30:11,  4.37s/it]"
     ]
    },
    {
     "name": "stdout",
     "output_type": "stream",
     "text": [
      "Generating single mermaid chart\n"
     ]
    },
    {
     "name": "stderr",
     "output_type": "stream",
     "text": [
      "[@zenuml/core] Store is a function and is not initiated in 1 second.\n",
      "Processing entries:  38%|██████████████████████████████████████████████████████████████████████████████████▊                                                                                                                                       | 253/666 [18:24<31:24,  4.56s/it]"
     ]
    },
    {
     "name": "stdout",
     "output_type": "stream",
     "text": [
      "Generating single mermaid chart\n"
     ]
    },
    {
     "name": "stderr",
     "output_type": "stream",
     "text": [
      "Processing entries:  38%|███████████████████████████████████████████████████████████████████████████████████▏                                                                                                                                      | 254/666 [18:30<33:18,  4.85s/it]"
     ]
    },
    {
     "name": "stdout",
     "output_type": "stream",
     "text": [
      "Generating single mermaid chart\n"
     ]
    },
    {
     "name": "stderr",
     "output_type": "stream",
     "text": [
      "Processing entries:  38%|███████████████████████████████████████████████████████████████████████████████████▍                                                                                                                                      | 255/666 [18:34<32:14,  4.71s/it]"
     ]
    },
    {
     "name": "stdout",
     "output_type": "stream",
     "text": [
      "Generating single mermaid chart\n"
     ]
    },
    {
     "name": "stderr",
     "output_type": "stream",
     "text": [
      "Processing entries:  38%|███████████████████████████████████████████████████████████████████████████████████▊                                                                                                                                      | 256/666 [18:42<39:16,  5.75s/it]"
     ]
    },
    {
     "name": "stdout",
     "output_type": "stream",
     "text": [
      "Generating single mermaid chart\n"
     ]
    },
    {
     "name": "stderr",
     "output_type": "stream",
     "text": [
      "Processing entries:  39%|████████████████████████████████████████████████████████████████████████████████████                                                                                                                                      | 257/666 [18:49<40:52,  6.00s/it]"
     ]
    },
    {
     "name": "stdout",
     "output_type": "stream",
     "text": [
      "Generating single mermaid chart\n"
     ]
    },
    {
     "name": "stderr",
     "output_type": "stream",
     "text": [
      "Processing entries:  39%|████████████████████████████████████████████████████████████████████████████████████▍                                                                                                                                     | 258/666 [18:55<42:07,  6.19s/it]"
     ]
    },
    {
     "name": "stdout",
     "output_type": "stream",
     "text": [
      "Generating single mermaid chart\n"
     ]
    },
    {
     "name": "stderr",
     "output_type": "stream",
     "text": [
      "[@zenuml/core] Store is a function and is not initiated in 1 second.\n",
      "Processing entries:  39%|████████████████████████████████████████████████████████████████████████████████████▊                                                                                                                                     | 259/666 [19:00<39:15,  5.79s/it]"
     ]
    },
    {
     "name": "stdout",
     "output_type": "stream",
     "text": [
      "Generating single mermaid chart\n"
     ]
    },
    {
     "name": "stderr",
     "output_type": "stream",
     "text": [
      "Processing entries:  39%|█████████████████████████████████████████████████████████████████████████████████████                                                                                                                                     | 260/666 [19:06<38:45,  5.73s/it]"
     ]
    },
    {
     "name": "stdout",
     "output_type": "stream",
     "text": [
      "Generating single mermaid chart\n"
     ]
    },
    {
     "name": "stderr",
     "output_type": "stream",
     "text": [
      "Processing entries:  39%|█████████████████████████████████████████████████████████████████████████████████████▍                                                                                                                                    | 261/666 [19:12<39:25,  5.84s/it]"
     ]
    },
    {
     "name": "stdout",
     "output_type": "stream",
     "text": [
      "Generating single mermaid chart\n"
     ]
    },
    {
     "name": "stderr",
     "output_type": "stream",
     "text": [
      "[@zenuml/core] Store is a function and is not initiated in 1 second.\n",
      "Processing entries:  39%|█████████████████████████████████████████████████████████████████████████████████████▊                                                                                                                                    | 262/666 [19:21<46:28,  6.90s/it]"
     ]
    },
    {
     "name": "stdout",
     "output_type": "stream",
     "text": [
      "Generating single mermaid chart\n"
     ]
    },
    {
     "name": "stderr",
     "output_type": "stream",
     "text": [
      "Processing entries:  39%|██████████████████████████████████████████████████████████████████████████████████████                                                                                                                                    | 263/666 [19:26<42:48,  6.37s/it]"
     ]
    },
    {
     "name": "stdout",
     "output_type": "stream",
     "text": [
      "Generating single mermaid chart\n"
     ]
    },
    {
     "name": "stderr",
     "output_type": "stream",
     "text": [
      "Processing entries:  40%|██████████████████████████████████████████████████████████████████████████████████████▍                                                                                                                                   | 264/666 [19:31<39:57,  5.96s/it]"
     ]
    },
    {
     "name": "stdout",
     "output_type": "stream",
     "text": [
      "Generating single mermaid chart\n"
     ]
    },
    {
     "name": "stderr",
     "output_type": "stream",
     "text": [
      "Processing entries:  40%|██████████████████████████████████████████████████████████████████████████████████████▋                                                                                                                                   | 265/666 [19:39<43:23,  6.49s/it]"
     ]
    },
    {
     "name": "stdout",
     "output_type": "stream",
     "text": [
      "Generating single mermaid chart\n"
     ]
    },
    {
     "name": "stderr",
     "output_type": "stream",
     "text": [
      "Processing entries:  40%|███████████████████████████████████████████████████████████████████████████████████████                                                                                                                                   | 266/666 [19:44<40:08,  6.02s/it]"
     ]
    },
    {
     "name": "stdout",
     "output_type": "stream",
     "text": [
      "Generating single mermaid chart\n"
     ]
    },
    {
     "name": "stderr",
     "output_type": "stream",
     "text": [
      "Processing entries:  40%|███████████████████████████████████████████████████████████████████████████████████████▍                                                                                                                                  | 267/666 [19:48<36:44,  5.52s/it]"
     ]
    },
    {
     "name": "stdout",
     "output_type": "stream",
     "text": [
      "Generating single mermaid chart\n"
     ]
    },
    {
     "name": "stderr",
     "output_type": "stream",
     "text": [
      "Processing entries:  40%|███████████████████████████████████████████████████████████████████████████████████████▋                                                                                                                                  | 268/666 [19:54<36:20,  5.48s/it]"
     ]
    },
    {
     "name": "stdout",
     "output_type": "stream",
     "text": [
      "Generating single mermaid chart\n"
     ]
    },
    {
     "name": "stderr",
     "output_type": "stream",
     "text": [
      "Processing entries:  40%|████████████████████████████████████████████████████████████████████████████████████████                                                                                                                                  | 269/666 [19:57<32:25,  4.90s/it]"
     ]
    },
    {
     "name": "stdout",
     "output_type": "stream",
     "text": [
      "Generating single mermaid chart\n"
     ]
    },
    {
     "name": "stderr",
     "output_type": "stream",
     "text": [
      "Processing entries:  41%|████████████████████████████████████████████████████████████████████████████████████████▍                                                                                                                                 | 270/666 [20:01<30:26,  4.61s/it]"
     ]
    },
    {
     "name": "stdout",
     "output_type": "stream",
     "text": [
      "Generating single mermaid chart\n"
     ]
    },
    {
     "name": "stderr",
     "output_type": "stream",
     "text": [
      "Processing entries:  41%|████████████████████████████████████████████████████████████████████████████████████████▋                                                                                                                                 | 271/666 [20:06<30:34,  4.64s/it]"
     ]
    },
    {
     "name": "stdout",
     "output_type": "stream",
     "text": [
      "Generating single mermaid chart\n"
     ]
    },
    {
     "name": "stderr",
     "output_type": "stream",
     "text": [
      "Processing entries:  41%|█████████████████████████████████████████████████████████████████████████████████████████                                                                                                                                 | 272/666 [20:11<31:15,  4.76s/it]"
     ]
    },
    {
     "name": "stdout",
     "output_type": "stream",
     "text": [
      "Generating single mermaid chart\n"
     ]
    },
    {
     "name": "stderr",
     "output_type": "stream",
     "text": [
      "Processing entries:  41%|█████████████████████████████████████████████████████████████████████████████████████████▎                                                                                                                                | 273/666 [20:16<31:12,  4.76s/it]"
     ]
    },
    {
     "name": "stdout",
     "output_type": "stream",
     "text": [
      "Generating single mermaid chart\n"
     ]
    },
    {
     "name": "stderr",
     "output_type": "stream",
     "text": [
      "Processing entries:  41%|█████████████████████████████████████████████████████████████████████████████████████████▋                                                                                                                                | 274/666 [20:21<32:31,  4.98s/it]"
     ]
    },
    {
     "name": "stdout",
     "output_type": "stream",
     "text": [
      "Generating single mermaid chart\n"
     ]
    },
    {
     "name": "stderr",
     "output_type": "stream",
     "text": [
      "Processing entries:  41%|██████████████████████████████████████████████████████████████████████████████████████████                                                                                                                                | 275/666 [20:26<32:19,  4.96s/it]"
     ]
    },
    {
     "name": "stdout",
     "output_type": "stream",
     "text": [
      "Generating single mermaid chart\n"
     ]
    },
    {
     "name": "stderr",
     "output_type": "stream",
     "text": [
      "[@zenuml/core] Store is a function and is not initiated in 1 second.\n",
      "Processing entries:  41%|██████████████████████████████████████████████████████████████████████████████████████████▎                                                                                                                               | 276/666 [20:31<31:11,  4.80s/it]"
     ]
    },
    {
     "name": "stdout",
     "output_type": "stream",
     "text": [
      "Generating single mermaid chart\n"
     ]
    },
    {
     "name": "stderr",
     "output_type": "stream",
     "text": [
      "Processing entries:  42%|██████████████████████████████████████████████████████████████████████████████████████████▋                                                                                                                               | 277/666 [20:35<29:59,  4.62s/it]"
     ]
    },
    {
     "name": "stdout",
     "output_type": "stream",
     "text": [
      "Generating single mermaid chart\n"
     ]
    },
    {
     "name": "stderr",
     "output_type": "stream",
     "text": [
      "Processing entries:  42%|██████████████████████████████████████████████████████████████████████████████████████████▉                                                                                                                               | 278/666 [20:40<31:46,  4.91s/it]"
     ]
    },
    {
     "name": "stdout",
     "output_type": "stream",
     "text": [
      "Generating single mermaid chart\n"
     ]
    },
    {
     "name": "stderr",
     "output_type": "stream",
     "text": [
      "Processing entries:  42%|███████████████████████████████████████████████████████████████████████████████████████████▎                                                                                                                              | 279/666 [20:45<31:16,  4.85s/it]"
     ]
    },
    {
     "name": "stdout",
     "output_type": "stream",
     "text": [
      "Generating single mermaid chart\n"
     ]
    },
    {
     "name": "stderr",
     "output_type": "stream",
     "text": [
      "Processing entries:  42%|███████████████████████████████████████████████████████████████████████████████████████████▋                                                                                                                              | 280/666 [20:53<37:00,  5.75s/it]"
     ]
    },
    {
     "name": "stdout",
     "output_type": "stream",
     "text": [
      "Generating single mermaid chart\n"
     ]
    },
    {
     "name": "stderr",
     "output_type": "stream",
     "text": [
      "Processing entries:  42%|███████████████████████████████████████████████████████████████████████████████████████████▉                                                                                                                              | 281/666 [20:57<34:06,  5.32s/it]"
     ]
    },
    {
     "name": "stdout",
     "output_type": "stream",
     "text": [
      "Generating single mermaid chart\n"
     ]
    },
    {
     "name": "stderr",
     "output_type": "stream",
     "text": [
      "Processing entries:  42%|████████████████████████████████████████████████████████████████████████████████████████████▎                                                                                                                             | 282/666 [21:03<34:48,  5.44s/it]"
     ]
    },
    {
     "name": "stdout",
     "output_type": "stream",
     "text": [
      "Generating single mermaid chart\n"
     ]
    },
    {
     "name": "stderr",
     "output_type": "stream",
     "text": [
      "Processing entries:  42%|████████████████████████████████████████████████████████████████████████████████████████████▋                                                                                                                             | 283/666 [21:07<31:42,  4.97s/it]"
     ]
    },
    {
     "name": "stdout",
     "output_type": "stream",
     "text": [
      "Generating single mermaid chart\n"
     ]
    },
    {
     "name": "stderr",
     "output_type": "stream",
     "text": [
      "Processing entries:  43%|████████████████████████████████████████████████████████████████████████████████████████████▉                                                                                                                             | 284/666 [21:11<30:50,  4.84s/it]"
     ]
    },
    {
     "name": "stdout",
     "output_type": "stream",
     "text": [
      "Generating single mermaid chart\n"
     ]
    },
    {
     "name": "stderr",
     "output_type": "stream",
     "text": [
      "Processing entries:  43%|█████████████████████████████████████████████████████████████████████████████████████████████▎                                                                                                                            | 285/666 [21:17<32:09,  5.06s/it]"
     ]
    },
    {
     "name": "stdout",
     "output_type": "stream",
     "text": [
      "Generating single mermaid chart\n"
     ]
    },
    {
     "name": "stderr",
     "output_type": "stream",
     "text": [
      "Processing entries:  43%|█████████████████████████████████████████████████████████████████████████████████████████████▌                                                                                                                            | 286/666 [21:21<29:23,  4.64s/it]"
     ]
    },
    {
     "name": "stdout",
     "output_type": "stream",
     "text": [
      "Generating single mermaid chart\n"
     ]
    },
    {
     "name": "stderr",
     "output_type": "stream",
     "text": [
      "Processing entries:  43%|█████████████████████████████████████████████████████████████████████████████████████████████▉                                                                                                                            | 287/666 [21:25<29:05,  4.60s/it]"
     ]
    },
    {
     "name": "stdout",
     "output_type": "stream",
     "text": [
      "Generating single mermaid chart\n"
     ]
    },
    {
     "name": "stderr",
     "output_type": "stream",
     "text": [
      "Processing entries:  43%|██████████████████████████████████████████████████████████████████████████████████████████████▎                                                                                                                           | 288/666 [21:30<28:46,  4.57s/it]"
     ]
    },
    {
     "name": "stdout",
     "output_type": "stream",
     "text": [
      "Generating single mermaid chart\n"
     ]
    },
    {
     "name": "stderr",
     "output_type": "stream",
     "text": [
      "Processing entries:  43%|██████████████████████████████████████████████████████████████████████████████████████████████▌                                                                                                                           | 289/666 [21:34<28:41,  4.57s/it]"
     ]
    },
    {
     "name": "stdout",
     "output_type": "stream",
     "text": [
      "Generating single mermaid chart\n"
     ]
    },
    {
     "name": "stderr",
     "output_type": "stream",
     "text": [
      "Processing entries:  44%|██████████████████████████████████████████████████████████████████████████████████████████████▉                                                                                                                           | 290/666 [21:38<26:21,  4.21s/it]"
     ]
    },
    {
     "name": "stdout",
     "output_type": "stream",
     "text": [
      "Generating single mermaid chart\n"
     ]
    },
    {
     "name": "stderr",
     "output_type": "stream",
     "text": [
      "Processing entries:  44%|███████████████████████████████████████████████████████████████████████████████████████████████▎                                                                                                                          | 291/666 [21:43<29:26,  4.71s/it]"
     ]
    },
    {
     "name": "stdout",
     "output_type": "stream",
     "text": [
      "Generating single mermaid chart\n"
     ]
    },
    {
     "name": "stderr",
     "output_type": "stream",
     "text": [
      "Processing entries:  44%|███████████████████████████████████████████████████████████████████████████████████████████████▌                                                                                                                          | 292/666 [21:48<29:28,  4.73s/it]"
     ]
    },
    {
     "name": "stdout",
     "output_type": "stream",
     "text": [
      "Generating single mermaid chart\n"
     ]
    },
    {
     "name": "stderr",
     "output_type": "stream",
     "text": [
      "[@zenuml/core] Store is a function and is not initiated in 1 second.\n",
      "Processing entries:  44%|███████████████████████████████████████████████████████████████████████████████████████████████▉                                                                                                                          | 293/666 [21:52<27:18,  4.39s/it]"
     ]
    },
    {
     "name": "stdout",
     "output_type": "stream",
     "text": [
      "Generating single mermaid chart\n"
     ]
    },
    {
     "name": "stderr",
     "output_type": "stream",
     "text": [
      "Processing entries:  44%|████████████████████████████████████████████████████████████████████████████████████████████████▏                                                                                                                         | 294/666 [21:56<26:19,  4.25s/it]"
     ]
    },
    {
     "name": "stdout",
     "output_type": "stream",
     "text": [
      "Generating single mermaid chart\n"
     ]
    },
    {
     "name": "stderr",
     "output_type": "stream",
     "text": [
      "Processing entries:  44%|████████████████████████████████████████████████████████████████████████████████████████████████▌                                                                                                                         | 295/666 [22:00<26:30,  4.29s/it]"
     ]
    },
    {
     "name": "stdout",
     "output_type": "stream",
     "text": [
      "Generating single mermaid chart\n"
     ]
    },
    {
     "name": "stderr",
     "output_type": "stream",
     "text": [
      "Processing entries:  44%|████████████████████████████████████████████████████████████████████████████████████████████████▉                                                                                                                         | 296/666 [22:04<25:16,  4.10s/it]"
     ]
    },
    {
     "name": "stdout",
     "output_type": "stream",
     "text": [
      "Generating single mermaid chart\n"
     ]
    },
    {
     "name": "stderr",
     "output_type": "stream",
     "text": [
      "Processing entries:  45%|█████████████████████████████████████████████████████████████████████████████████████████████████▏                                                                                                                        | 297/666 [22:09<26:41,  4.34s/it]"
     ]
    },
    {
     "name": "stdout",
     "output_type": "stream",
     "text": [
      "Generating single mermaid chart\n"
     ]
    },
    {
     "name": "stderr",
     "output_type": "stream",
     "text": [
      "Processing entries:  45%|█████████████████████████████████████████████████████████████████████████████████████████████████▌                                                                                                                        | 298/666 [22:16<31:28,  5.13s/it]"
     ]
    },
    {
     "name": "stdout",
     "output_type": "stream",
     "text": [
      "Generating single mermaid chart\n"
     ]
    },
    {
     "name": "stderr",
     "output_type": "stream",
     "text": [
      "[@zenuml/core] Store is a function and is not initiated in 1 second.\n",
      "Processing entries:  45%|█████████████████████████████████████████████████████████████████████████████████████████████████▊                                                                                                                        | 299/666 [22:20<30:45,  5.03s/it]"
     ]
    },
    {
     "name": "stdout",
     "output_type": "stream",
     "text": [
      "Generating single mermaid chart\n"
     ]
    },
    {
     "name": "stderr",
     "output_type": "stream",
     "text": [
      "Processing entries:  45%|██████████████████████████████████████████████████████████████████████████████████████████████████▏                                                                                                                       | 300/666 [22:25<29:35,  4.85s/it]"
     ]
    },
    {
     "name": "stdout",
     "output_type": "stream",
     "text": [
      "Generating single mermaid chart\n"
     ]
    },
    {
     "name": "stderr",
     "output_type": "stream",
     "text": [
      "Processing entries:  45%|██████████████████████████████████████████████████████████████████████████████████████████████████▌                                                                                                                       | 301/666 [22:29<27:46,  4.56s/it]"
     ]
    },
    {
     "name": "stdout",
     "output_type": "stream",
     "text": [
      "Generating single mermaid chart\n"
     ]
    },
    {
     "name": "stderr",
     "output_type": "stream",
     "text": [
      "Processing entries:  45%|██████████████████████████████████████████████████████████████████████████████████████████████████▊                                                                                                                       | 302/666 [22:33<27:45,  4.57s/it]"
     ]
    },
    {
     "name": "stdout",
     "output_type": "stream",
     "text": [
      "Generating single mermaid chart\n"
     ]
    },
    {
     "name": "stderr",
     "output_type": "stream",
     "text": [
      "[@zenuml/core] Store is a function and is not initiated in 1 second.\n",
      "Processing entries:  45%|███████████████████████████████████████████████████████████████████████████████████████████████████▏                                                                                                                      | 303/666 [22:39<29:02,  4.80s/it]"
     ]
    },
    {
     "name": "stdout",
     "output_type": "stream",
     "text": [
      "Generating single mermaid chart\n"
     ]
    },
    {
     "name": "stderr",
     "output_type": "stream",
     "text": [
      "Processing entries:  46%|███████████████████████████████████████████████████████████████████████████████████████████████████▌                                                                                                                      | 304/666 [22:45<31:22,  5.20s/it]"
     ]
    },
    {
     "name": "stdout",
     "output_type": "stream",
     "text": [
      "Generating single mermaid chart\n"
     ]
    },
    {
     "name": "stderr",
     "output_type": "stream",
     "text": [
      "Processing entries:  46%|███████████████████████████████████████████████████████████████████████████████████████████████████▊                                                                                                                      | 305/666 [22:49<29:31,  4.91s/it]"
     ]
    },
    {
     "name": "stdout",
     "output_type": "stream",
     "text": [
      "Generating single mermaid chart\n"
     ]
    },
    {
     "name": "stderr",
     "output_type": "stream",
     "text": [
      "Processing entries:  46%|████████████████████████████████████████████████████████████████████████████████████████████████████▏                                                                                                                     | 306/666 [22:52<26:38,  4.44s/it]"
     ]
    },
    {
     "name": "stdout",
     "output_type": "stream",
     "text": [
      "Generating single mermaid chart\n"
     ]
    },
    {
     "name": "stderr",
     "output_type": "stream",
     "text": [
      "Processing entries:  46%|████████████████████████████████████████████████████████████████████████████████████████████████████▍                                                                                                                     | 307/666 [22:57<26:39,  4.46s/it]"
     ]
    },
    {
     "name": "stdout",
     "output_type": "stream",
     "text": [
      "Generating single mermaid chart\n"
     ]
    },
    {
     "name": "stderr",
     "output_type": "stream",
     "text": [
      "Processing entries:  46%|████████████████████████████████████████████████████████████████████████████████████████████████████▊                                                                                                                     | 308/666 [23:00<24:30,  4.11s/it]"
     ]
    },
    {
     "name": "stdout",
     "output_type": "stream",
     "text": [
      "Generating single mermaid chart\n"
     ]
    },
    {
     "name": "stderr",
     "output_type": "stream",
     "text": [
      "[@zenuml/core] Store is a function and is not initiated in 1 second.\n",
      "Processing entries:  46%|█████████████████████████████████████████████████████████████████████████████████████████████████████▏                                                                                                                    | 309/666 [23:06<27:56,  4.70s/it]"
     ]
    },
    {
     "name": "stdout",
     "output_type": "stream",
     "text": [
      "Generating single mermaid chart\n"
     ]
    },
    {
     "name": "stderr",
     "output_type": "stream",
     "text": [
      "Processing entries:  47%|█████████████████████████████████████████████████████████████████████████████████████████████████████▍                                                                                                                    | 310/666 [23:10<25:58,  4.38s/it]"
     ]
    },
    {
     "name": "stdout",
     "output_type": "stream",
     "text": [
      "Generating single mermaid chart\n"
     ]
    },
    {
     "name": "stderr",
     "output_type": "stream",
     "text": [
      "[@zenuml/core] Store is a function and is not initiated in 1 second.\n",
      "Processing entries:  47%|█████████████████████████████████████████████████████████████████████████████████████████████████████▊                                                                                                                    | 311/666 [23:15<27:09,  4.59s/it]"
     ]
    },
    {
     "name": "stdout",
     "output_type": "stream",
     "text": [
      "Generating single mermaid chart\n"
     ]
    },
    {
     "name": "stderr",
     "output_type": "stream",
     "text": [
      "Processing entries:  47%|██████████████████████████████████████████████████████████████████████████████████████████████████████▏                                                                                                                   | 312/666 [23:18<24:58,  4.23s/it]"
     ]
    },
    {
     "name": "stdout",
     "output_type": "stream",
     "text": [
      "Generating single mermaid chart\n"
     ]
    },
    {
     "name": "stderr",
     "output_type": "stream",
     "text": [
      "Processing entries:  47%|██████████████████████████████████████████████████████████████████████████████████████████████████████▍                                                                                                                   | 313/666 [23:22<23:27,  3.99s/it]"
     ]
    },
    {
     "name": "stdout",
     "output_type": "stream",
     "text": [
      "Generating single mermaid chart\n"
     ]
    },
    {
     "name": "stderr",
     "output_type": "stream",
     "text": [
      "Processing entries:  47%|██████████████████████████████████████████████████████████████████████████████████████████████████████▊                                                                                                                   | 314/666 [23:26<23:18,  3.97s/it]"
     ]
    },
    {
     "name": "stdout",
     "output_type": "stream",
     "text": [
      "Generating single mermaid chart\n"
     ]
    },
    {
     "name": "stderr",
     "output_type": "stream",
     "text": [
      "Processing entries:  47%|███████████████████████████████████████████████████████████████████████████████████████████████████████                                                                                                                   | 315/666 [23:31<25:00,  4.27s/it]"
     ]
    },
    {
     "name": "stdout",
     "output_type": "stream",
     "text": [
      "Generating single mermaid chart\n"
     ]
    },
    {
     "name": "stderr",
     "output_type": "stream",
     "text": [
      "Processing entries:  47%|███████████████████████████████████████████████████████████████████████████████████████████████████████▍                                                                                                                  | 316/666 [23:35<24:09,  4.14s/it]"
     ]
    },
    {
     "name": "stdout",
     "output_type": "stream",
     "text": [
      "Generating single mermaid chart\n"
     ]
    },
    {
     "name": "stderr",
     "output_type": "stream",
     "text": [
      "Processing entries:  48%|███████████████████████████████████████████████████████████████████████████████████████████████████████▊                                                                                                                  | 317/666 [23:39<23:47,  4.09s/it]"
     ]
    },
    {
     "name": "stdout",
     "output_type": "stream",
     "text": [
      "Generating single mermaid chart\n"
     ]
    },
    {
     "name": "stderr",
     "output_type": "stream",
     "text": [
      "Processing entries:  48%|████████████████████████████████████████████████████████████████████████████████████████████████████████                                                                                                                  | 318/666 [23:42<23:15,  4.01s/it]"
     ]
    },
    {
     "name": "stdout",
     "output_type": "stream",
     "text": [
      "Generating single mermaid chart\n"
     ]
    },
    {
     "name": "stderr",
     "output_type": "stream",
     "text": [
      "Processing entries:  48%|████████████████████████████████████████████████████████████████████████████████████████████████████████▍                                                                                                                 | 319/666 [23:46<23:14,  4.02s/it]"
     ]
    },
    {
     "name": "stdout",
     "output_type": "stream",
     "text": [
      "Generating single mermaid chart\n"
     ]
    },
    {
     "name": "stderr",
     "output_type": "stream",
     "text": [
      "Processing entries:  48%|████████████████████████████████████████████████████████████████████████████████████████████████████████▋                                                                                                                 | 320/666 [23:50<23:04,  4.00s/it]"
     ]
    },
    {
     "name": "stdout",
     "output_type": "stream",
     "text": [
      "Generating single mermaid chart\n"
     ]
    },
    {
     "name": "stderr",
     "output_type": "stream",
     "text": [
      "Processing entries:  48%|█████████████████████████████████████████████████████████████████████████████████████████████████████████                                                                                                                 | 321/666 [23:54<23:03,  4.01s/it]"
     ]
    },
    {
     "name": "stdout",
     "output_type": "stream",
     "text": [
      "Generating single mermaid chart\n"
     ]
    },
    {
     "name": "stderr",
     "output_type": "stream",
     "text": [
      "Processing entries:  48%|█████████████████████████████████████████████████████████████████████████████████████████████████████████▍                                                                                                                | 322/666 [23:57<21:17,  3.71s/it]"
     ]
    },
    {
     "name": "stdout",
     "output_type": "stream",
     "text": [
      "Generating single mermaid chart\n"
     ]
    },
    {
     "name": "stderr",
     "output_type": "stream",
     "text": [
      "Processing entries:  48%|█████████████████████████████████████████████████████████████████████████████████████████████████████████▋                                                                                                                | 323/666 [24:01<20:17,  3.55s/it]"
     ]
    },
    {
     "name": "stdout",
     "output_type": "stream",
     "text": [
      "Generating single mermaid chart\n"
     ]
    },
    {
     "name": "stderr",
     "output_type": "stream",
     "text": [
      "Processing entries:  49%|██████████████████████████████████████████████████████████████████████████████████████████████████████████                                                                                                                | 324/666 [24:05<22:15,  3.91s/it]"
     ]
    },
    {
     "name": "stdout",
     "output_type": "stream",
     "text": [
      "Generating single mermaid chart\n"
     ]
    },
    {
     "name": "stderr",
     "output_type": "stream",
     "text": [
      "Processing entries:  49%|██████████████████████████████████████████████████████████████████████████████████████████████████████████▍                                                                                                               | 325/666 [24:11<24:36,  4.33s/it]"
     ]
    },
    {
     "name": "stdout",
     "output_type": "stream",
     "text": [
      "Generating single mermaid chart\n"
     ]
    },
    {
     "name": "stderr",
     "output_type": "stream",
     "text": [
      "Processing entries:  49%|██████████████████████████████████████████████████████████████████████████████████████████████████████████▋                                                                                                               | 326/666 [24:14<23:38,  4.17s/it]"
     ]
    },
    {
     "name": "stdout",
     "output_type": "stream",
     "text": [
      "Generating single mermaid chart\n"
     ]
    },
    {
     "name": "stderr",
     "output_type": "stream",
     "text": [
      "Processing entries:  49%|███████████████████████████████████████████████████████████████████████████████████████████████████████████                                                                                                               | 327/666 [24:19<23:58,  4.24s/it]"
     ]
    },
    {
     "name": "stdout",
     "output_type": "stream",
     "text": [
      "Generating single mermaid chart\n"
     ]
    },
    {
     "name": "stderr",
     "output_type": "stream",
     "text": [
      "Processing entries:  49%|███████████████████████████████████████████████████████████████████████████████████████████████████████████▎                                                                                                              | 328/666 [24:22<22:47,  4.05s/it]"
     ]
    },
    {
     "name": "stdout",
     "output_type": "stream",
     "text": [
      "Generating single mermaid chart\n"
     ]
    },
    {
     "name": "stderr",
     "output_type": "stream",
     "text": [
      "Processing entries:  49%|███████████████████████████████████████████████████████████████████████████████████████████████████████████▋                                                                                                              | 329/666 [24:27<22:55,  4.08s/it]"
     ]
    },
    {
     "name": "stdout",
     "output_type": "stream",
     "text": [
      "Generating single mermaid chart\n"
     ]
    },
    {
     "name": "stderr",
     "output_type": "stream",
     "text": [
      "Processing entries:  50%|████████████████████████████████████████████████████████████████████████████████████████████████████████████                                                                                                              | 330/666 [24:31<23:36,  4.22s/it]"
     ]
    },
    {
     "name": "stdout",
     "output_type": "stream",
     "text": [
      "Generating single mermaid chart\n"
     ]
    },
    {
     "name": "stderr",
     "output_type": "stream",
     "text": [
      "Processing entries:  50%|████████████████████████████████████████████████████████████████████████████████████████████████████████████▎                                                                                                             | 331/666 [24:34<21:51,  3.91s/it]"
     ]
    },
    {
     "name": "stdout",
     "output_type": "stream",
     "text": [
      "Generating single mermaid chart\n"
     ]
    },
    {
     "name": "stderr",
     "output_type": "stream",
     "text": [
      "Processing entries:  50%|████████████████████████████████████████████████████████████████████████████████████████████████████████████▋                                                                                                             | 332/666 [24:39<23:16,  4.18s/it]"
     ]
    },
    {
     "name": "stdout",
     "output_type": "stream",
     "text": [
      "Generating single mermaid chart\n"
     ]
    },
    {
     "name": "stderr",
     "output_type": "stream",
     "text": [
      "Processing entries:  50%|█████████████████████████████████████████████████████████████████████████████████████████████████████████████                                                                                                             | 333/666 [24:44<25:06,  4.52s/it]"
     ]
    },
    {
     "name": "stdout",
     "output_type": "stream",
     "text": [
      "Generating single mermaid chart\n"
     ]
    },
    {
     "name": "stderr",
     "output_type": "stream",
     "text": [
      "Processing entries:  50%|█████████████████████████████████████████████████████████████████████████████████████████████████████████████▎                                                                                                            | 334/666 [24:49<25:17,  4.57s/it]"
     ]
    },
    {
     "name": "stdout",
     "output_type": "stream",
     "text": [
      "Generating single mermaid chart\n"
     ]
    },
    {
     "name": "stderr",
     "output_type": "stream",
     "text": [
      "Processing entries:  50%|█████████████████████████████████████████████████████████████████████████████████████████████████████████████▋                                                                                                            | 335/666 [24:53<24:53,  4.51s/it]"
     ]
    },
    {
     "name": "stdout",
     "output_type": "stream",
     "text": [
      "Generating single mermaid chart\n"
     ]
    },
    {
     "name": "stderr",
     "output_type": "stream",
     "text": [
      "Processing entries:  50%|█████████████████████████████████████████████████████████████████████████████████████████████████████████████▉                                                                                                            | 336/666 [24:58<25:25,  4.62s/it]"
     ]
    },
    {
     "name": "stdout",
     "output_type": "stream",
     "text": [
      "Generating single mermaid chart\n"
     ]
    },
    {
     "name": "stderr",
     "output_type": "stream",
     "text": [
      "Processing entries:  51%|██████████████████████████████████████████████████████████████████████████████████████████████████████████████▎                                                                                                           | 337/666 [25:02<23:08,  4.22s/it]"
     ]
    },
    {
     "name": "stdout",
     "output_type": "stream",
     "text": [
      "Generating single mermaid chart\n"
     ]
    },
    {
     "name": "stderr",
     "output_type": "stream",
     "text": [
      "[@zenuml/core] Store is a function and is not initiated in 1 second.\n",
      "Processing entries:  51%|██████████████████████████████████████████████████████████████████████████████████████████████████████████████▋                                                                                                           | 338/666 [25:06<23:37,  4.32s/it]"
     ]
    },
    {
     "name": "stdout",
     "output_type": "stream",
     "text": [
      "Generating single mermaid chart\n"
     ]
    },
    {
     "name": "stderr",
     "output_type": "stream",
     "text": [
      "[@zenuml/core] Store is a function and is not initiated in 1 second.\n",
      "Processing entries:  51%|██████████████████████████████████████████████████████████████████████████████████████████████████████████████▉                                                                                                           | 339/666 [25:11<24:17,  4.46s/it]"
     ]
    },
    {
     "name": "stdout",
     "output_type": "stream",
     "text": [
      "Generating single mermaid chart\n"
     ]
    },
    {
     "name": "stderr",
     "output_type": "stream",
     "text": [
      "Processing entries:  51%|███████████████████████████████████████████████████████████████████████████████████████████████████████████████▎                                                                                                          | 340/666 [25:15<23:29,  4.32s/it]"
     ]
    },
    {
     "name": "stdout",
     "output_type": "stream",
     "text": [
      "Generating single mermaid chart\n"
     ]
    },
    {
     "name": "stderr",
     "output_type": "stream",
     "text": [
      "Processing entries:  51%|███████████████████████████████████████████████████████████████████████████████████████████████████████████████▌                                                                                                          | 341/666 [25:19<22:23,  4.14s/it]"
     ]
    },
    {
     "name": "stdout",
     "output_type": "stream",
     "text": [
      "Generating single mermaid chart\n"
     ]
    },
    {
     "name": "stderr",
     "output_type": "stream",
     "text": [
      "Processing entries:  51%|███████████████████████████████████████████████████████████████████████████████████████████████████████████████▉                                                                                                          | 342/666 [25:24<24:57,  4.62s/it]"
     ]
    },
    {
     "name": "stdout",
     "output_type": "stream",
     "text": [
      "Generating single mermaid chart\n"
     ]
    },
    {
     "name": "stderr",
     "output_type": "stream",
     "text": [
      "Processing entries:  52%|████████████████████████████████████████████████████████████████████████████████████████████████████████████████▎                                                                                                         | 343/666 [25:28<23:12,  4.31s/it]"
     ]
    },
    {
     "name": "stdout",
     "output_type": "stream",
     "text": [
      "Generating single mermaid chart\n"
     ]
    },
    {
     "name": "stderr",
     "output_type": "stream",
     "text": [
      "Processing entries:  52%|████████████████████████████████████████████████████████████████████████████████████████████████████████████████▌                                                                                                         | 344/666 [25:32<22:51,  4.26s/it]"
     ]
    },
    {
     "name": "stdout",
     "output_type": "stream",
     "text": [
      "Generating single mermaid chart\n"
     ]
    },
    {
     "name": "stderr",
     "output_type": "stream",
     "text": [
      "Processing entries:  52%|████████████████████████████████████████████████████████████████████████████████████████████████████████████████▉                                                                                                         | 345/666 [25:37<23:35,  4.41s/it]"
     ]
    },
    {
     "name": "stdout",
     "output_type": "stream",
     "text": [
      "Generating single mermaid chart\n"
     ]
    },
    {
     "name": "stderr",
     "output_type": "stream",
     "text": [
      "Processing entries:  52%|█████████████████████████████████████████████████████████████████████████████████████████████████████████████████▎                                                                                                        | 346/666 [25:41<23:31,  4.41s/it]"
     ]
    },
    {
     "name": "stdout",
     "output_type": "stream",
     "text": [
      "Generating single mermaid chart\n"
     ]
    },
    {
     "name": "stderr",
     "output_type": "stream",
     "text": [
      "Processing entries:  52%|█████████████████████████████████████████████████████████████████████████████████████████████████████████████████▌                                                                                                        | 347/666 [25:45<22:54,  4.31s/it]"
     ]
    },
    {
     "name": "stdout",
     "output_type": "stream",
     "text": [
      "Generating single mermaid chart\n"
     ]
    },
    {
     "name": "stderr",
     "output_type": "stream",
     "text": [
      "Processing entries:  52%|█████████████████████████████████████████████████████████████████████████████████████████████████████████████████▉                                                                                                        | 348/666 [25:51<24:12,  4.57s/it]"
     ]
    },
    {
     "name": "stdout",
     "output_type": "stream",
     "text": [
      "Generating single mermaid chart\n"
     ]
    },
    {
     "name": "stderr",
     "output_type": "stream",
     "text": [
      "Processing entries:  52%|██████████████████████████████████████████████████████████████████████████████████████████████████████████████████▏                                                                                                       | 349/666 [25:54<21:58,  4.16s/it]"
     ]
    },
    {
     "name": "stdout",
     "output_type": "stream",
     "text": [
      "Generating single mermaid chart\n"
     ]
    },
    {
     "name": "stderr",
     "output_type": "stream",
     "text": [
      "Processing entries:  53%|██████████████████████████████████████████████████████████████████████████████████████████████████████████████████▌                                                                                                       | 350/666 [25:58<21:21,  4.05s/it]"
     ]
    },
    {
     "name": "stdout",
     "output_type": "stream",
     "text": [
      "Generating single mermaid chart\n"
     ]
    },
    {
     "name": "stderr",
     "output_type": "stream",
     "text": [
      "Processing entries:  53%|██████████████████████████████████████████████████████████████████████████████████████████████████████████████████▉                                                                                                       | 351/666 [26:04<25:16,  4.81s/it]"
     ]
    },
    {
     "name": "stdout",
     "output_type": "stream",
     "text": [
      "Generating single mermaid chart\n"
     ]
    },
    {
     "name": "stderr",
     "output_type": "stream",
     "text": [
      "Processing entries:  53%|███████████████████████████████████████████████████████████████████████████████████████████████████████████████████▏                                                                                                      | 352/666 [26:08<22:53,  4.37s/it]"
     ]
    },
    {
     "name": "stdout",
     "output_type": "stream",
     "text": [
      "Generating single mermaid chart\n"
     ]
    },
    {
     "name": "stderr",
     "output_type": "stream",
     "text": [
      "Processing entries:  53%|███████████████████████████████████████████████████████████████████████████████████████████████████████████████████▌                                                                                                      | 353/666 [26:12<23:14,  4.46s/it]"
     ]
    },
    {
     "name": "stdout",
     "output_type": "stream",
     "text": [
      "Generating single mermaid chart\n"
     ]
    },
    {
     "name": "stderr",
     "output_type": "stream",
     "text": [
      "Processing entries:  53%|███████████████████████████████████████████████████████████████████████████████████████████████████████████████████▊                                                                                                      | 354/666 [26:16<22:27,  4.32s/it]"
     ]
    },
    {
     "name": "stdout",
     "output_type": "stream",
     "text": [
      "Generating single mermaid chart\n"
     ]
    },
    {
     "name": "stderr",
     "output_type": "stream",
     "text": [
      "[@zenuml/core] Store is a function and is not initiated in 1 second.\n",
      "Processing entries:  53%|████████████████████████████████████████████████████████████████████████████████████████████████████████████████████▏                                                                                                     | 355/666 [26:21<23:15,  4.49s/it]"
     ]
    },
    {
     "name": "stdout",
     "output_type": "stream",
     "text": [
      "Generating single mermaid chart\n"
     ]
    },
    {
     "name": "stderr",
     "output_type": "stream",
     "text": [
      "Processing entries:  53%|████████████████████████████████████████████████████████████████████████████████████████████████████████████████████▌                                                                                                     | 356/666 [26:26<23:57,  4.64s/it]"
     ]
    },
    {
     "name": "stdout",
     "output_type": "stream",
     "text": [
      "Generating single mermaid chart\n"
     ]
    },
    {
     "name": "stderr",
     "output_type": "stream",
     "text": [
      "Processing entries:  54%|████████████████████████████████████████████████████████████████████████████████████████████████████████████████████▊                                                                                                     | 357/666 [26:29<21:39,  4.21s/it]"
     ]
    },
    {
     "name": "stdout",
     "output_type": "stream",
     "text": [
      "Generating single mermaid chart\n"
     ]
    },
    {
     "name": "stderr",
     "output_type": "stream",
     "text": [
      "Processing entries:  54%|█████████████████████████████████████████████████████████████████████████████████████████████████████████████████████▏                                                                                                    | 358/666 [26:35<23:11,  4.52s/it]"
     ]
    },
    {
     "name": "stdout",
     "output_type": "stream",
     "text": [
      "Generating single mermaid chart\n"
     ]
    },
    {
     "name": "stderr",
     "output_type": "stream",
     "text": [
      "Processing entries:  54%|█████████████████████████████████████████████████████████████████████████████████████████████████████████████████████▌                                                                                                    | 359/666 [26:42<28:17,  5.53s/it]"
     ]
    },
    {
     "name": "stdout",
     "output_type": "stream",
     "text": [
      "Generating single mermaid chart\n"
     ]
    },
    {
     "name": "stderr",
     "output_type": "stream",
     "text": [
      "Processing entries:  54%|█████████████████████████████████████████████████████████████████████████████████████████████████████████████████████▊                                                                                                    | 360/666 [26:47<26:01,  5.10s/it]"
     ]
    },
    {
     "name": "stdout",
     "output_type": "stream",
     "text": [
      "Generating single mermaid chart\n"
     ]
    },
    {
     "name": "stderr",
     "output_type": "stream",
     "text": [
      "Processing entries:  54%|██████████████████████████████████████████████████████████████████████████████████████████████████████████████████████▏                                                                                                   | 361/666 [26:55<30:30,  6.00s/it]"
     ]
    },
    {
     "name": "stdout",
     "output_type": "stream",
     "text": [
      "Generating single mermaid chart\n"
     ]
    },
    {
     "name": "stderr",
     "output_type": "stream",
     "text": [
      "Processing entries:  54%|██████████████████████████████████████████████████████████████████████████████████████████████████████████████████████▍                                                                                                   | 362/666 [26:59<27:50,  5.49s/it]"
     ]
    },
    {
     "name": "stdout",
     "output_type": "stream",
     "text": [
      "Generating single mermaid chart\n"
     ]
    },
    {
     "name": "stderr",
     "output_type": "stream",
     "text": [
      "Processing entries:  55%|██████████████████████████████████████████████████████████████████████████████████████████████████████████████████████▊                                                                                                   | 363/666 [27:03<26:16,  5.20s/it]"
     ]
    },
    {
     "name": "stdout",
     "output_type": "stream",
     "text": [
      "Generating single mermaid chart\n"
     ]
    },
    {
     "name": "stderr",
     "output_type": "stream",
     "text": [
      "Processing entries:  55%|███████████████████████████████████████████████████████████████████████████████████████████████████████████████████████▏                                                                                                  | 364/666 [27:10<27:49,  5.53s/it]"
     ]
    },
    {
     "name": "stdout",
     "output_type": "stream",
     "text": [
      "Generating single mermaid chart\n"
     ]
    },
    {
     "name": "stderr",
     "output_type": "stream",
     "text": [
      "Processing entries:  55%|███████████████████████████████████████████████████████████████████████████████████████████████████████████████████████▍                                                                                                  | 365/666 [27:13<24:44,  4.93s/it]"
     ]
    },
    {
     "name": "stdout",
     "output_type": "stream",
     "text": [
      "Generating single mermaid chart\n"
     ]
    },
    {
     "name": "stderr",
     "output_type": "stream",
     "text": [
      "Processing entries:  55%|███████████████████████████████████████████████████████████████████████████████████████████████████████████████████████▊                                                                                                  | 366/666 [27:17<23:02,  4.61s/it]"
     ]
    },
    {
     "name": "stdout",
     "output_type": "stream",
     "text": [
      "Generating single mermaid chart\n"
     ]
    },
    {
     "name": "stderr",
     "output_type": "stream",
     "text": [
      "Processing entries:  55%|████████████████████████████████████████████████████████████████████████████████████████████████████████████████████████▏                                                                                                 | 367/666 [27:21<21:23,  4.29s/it]"
     ]
    },
    {
     "name": "stdout",
     "output_type": "stream",
     "text": [
      "Generating single mermaid chart\n"
     ]
    },
    {
     "name": "stderr",
     "output_type": "stream",
     "text": [
      "Processing entries:  55%|████████████████████████████████████████████████████████████████████████████████████████████████████████████████████████▍                                                                                                 | 368/666 [27:24<19:53,  4.01s/it]"
     ]
    },
    {
     "name": "stdout",
     "output_type": "stream",
     "text": [
      "Generating single mermaid chart\n"
     ]
    },
    {
     "name": "stderr",
     "output_type": "stream",
     "text": [
      "[@zenuml/core] Store is a function and is not initiated in 1 second.\n",
      "Processing entries:  55%|████████████████████████████████████████████████████████████████████████████████████████████████████████████████████████▊                                                                                                 | 369/666 [27:29<21:00,  4.25s/it]"
     ]
    },
    {
     "name": "stdout",
     "output_type": "stream",
     "text": [
      "Generating single mermaid chart\n"
     ]
    },
    {
     "name": "stderr",
     "output_type": "stream",
     "text": [
      "Processing entries:  56%|█████████████████████████████████████████████████████████████████████████████████████████████████████████████████████████                                                                                                 | 370/666 [27:34<23:00,  4.66s/it]"
     ]
    },
    {
     "name": "stdout",
     "output_type": "stream",
     "text": [
      "Generating single mermaid chart\n"
     ]
    },
    {
     "name": "stderr",
     "output_type": "stream",
     "text": [
      "Processing entries:  56%|█████████████████████████████████████████████████████████████████████████████████████████████████████████████████████████▍                                                                                                | 371/666 [27:38<21:55,  4.46s/it]"
     ]
    },
    {
     "name": "stdout",
     "output_type": "stream",
     "text": [
      "Generating single mermaid chart\n"
     ]
    },
    {
     "name": "stderr",
     "output_type": "stream",
     "text": [
      "Processing entries:  56%|█████████████████████████████████████████████████████████████████████████████████████████████████████████████████████████▊                                                                                                | 372/666 [27:42<20:40,  4.22s/it]"
     ]
    },
    {
     "name": "stdout",
     "output_type": "stream",
     "text": [
      "Generating single mermaid chart\n"
     ]
    },
    {
     "name": "stderr",
     "output_type": "stream",
     "text": [
      "Processing entries:  56%|██████████████████████████████████████████████████████████████████████████████████████████████████████████████████████████                                                                                                | 373/666 [27:47<20:56,  4.29s/it]"
     ]
    },
    {
     "name": "stdout",
     "output_type": "stream",
     "text": [
      "Generating single mermaid chart\n"
     ]
    },
    {
     "name": "stderr",
     "output_type": "stream",
     "text": [
      "\u001b[31m\u001b[39m\n",
      "\u001b[31mError: Parse error on line 6:\u001b[39m\n",
      "\u001b[31m...te, 2 ATP (net gain), NADH      Oxygen \u001b[39m\n",
      "\u001b[31m-----------------------^\u001b[39m\n",
      "\u001b[31mExpecting 'SPACELINE', 'NL', 'EOF', got 'NODE_ID'\u001b[39m\n",
      "\u001b[31mParser3.parseError (/home/siva/.nvm/versions/node/v22.14.0/lib/node_modules/@mermaid-js/mermaid-cli/node_modules/mermaid/dist/mermaid.js:99004:28)\u001b[39m\n",
      "\u001b[31m    at #evaluate (file:///home/siva/.nvm/versions/node/v22.14.0/lib/node_modules/@mermaid-js/mermaid-cli/node_modules/puppeteer-core/lib/esm/puppeteer/cdp/ExecutionContext.js:388:19)\u001b[39m\n",
      "\u001b[31m    at async ExecutionContext.evaluate (file:///home/siva/.nvm/versions/node/v22.14.0/lib/node_modules/@mermaid-js/mermaid-cli/node_modules/puppeteer-core/lib/esm/puppeteer/cdp/ExecutionContext.js:275:16)\u001b[39m\n",
      "\u001b[31m    at async IsolatedWorld.evaluate (file:///home/siva/.nvm/versions/node/v22.14.0/lib/node_modules/@mermaid-js/mermaid-cli/node_modules/puppeteer-core/lib/esm/puppeteer/cdp/IsolatedWorld.js:97:16)\u001b[39m\n",
      "\u001b[31m    at async CdpJSHandle.evaluate (file:///home/siva/.nvm/versions/node/v22.14.0/lib/node_modules/@mermaid-js/mermaid-cli/node_modules/puppeteer-core/lib/esm/puppeteer/api/JSHandle.js:146:20)\u001b[39m\n",
      "\u001b[31m    at async CdpElementHandle.evaluate (file:///home/siva/.nvm/versions/node/v22.14.0/lib/node_modules/@mermaid-js/mermaid-cli/node_modules/puppeteer-core/lib/esm/puppeteer/api/ElementHandle.js:340:20)\u001b[39m\n",
      "\u001b[31m    at async CdpElementHandle.$eval (file:///home/siva/.nvm/versions/node/v22.14.0/lib/node_modules/@mermaid-js/mermaid-cli/node_modules/puppeteer-core/lib/esm/puppeteer/api/ElementHandle.js:494:24)\u001b[39m\n",
      "\u001b[31m    at async CdpFrame.$eval (file:///home/siva/.nvm/versions/node/v22.14.0/lib/node_modules/@mermaid-js/mermaid-cli/node_modules/puppeteer-core/lib/esm/puppeteer/api/Frame.js:450:20)\u001b[39m\n",
      "\u001b[31m    at async CdpPage.$eval (file:///home/siva/.nvm/versions/node/v22.14.0/lib/node_modules/@mermaid-js/mermaid-cli/node_modules/puppeteer-core/lib/esm/puppeteer/api/Page.js:450:20)\u001b[39m\n",
      "\u001b[31m    at async renderMermaid (file:///home/siva/.nvm/versions/node/v22.14.0/lib/node_modules/@mermaid-js/mermaid-cli/src/index.js:252:22)\u001b[39m\n",
      "\u001b[31m    at fromText (/home/siva/.nvm/versions/node/v22.14.0/lib/node_modules/@mermaid-js/mermaid-cli/node_modules/mermaid/dist/mermaid.js:151117:21)\u001b[39m\n",
      "\u001b[31m\u001b[39m\n",
      "Processing entries:  56%|██████████████████████████████████████████████████████████████████████████████████████████████████████████████████████████▍                                                                                               | 374/666 [27:53<24:02,  4.94s/it]"
     ]
    },
    {
     "name": "stdout",
     "output_type": "stream",
     "text": [
      "Error processing entry 373 (ID: L_0645): Command '['mmdc', '-i', 'temp_mermaid.mmd', '-o', '../data/tqa_train_val_test/train/svg_v2/mermaid_output_L_0645.svg', '-t', 'forest']' returned non-zero exit status 1.\n",
      "\n",
      "Generating single mermaid chart\n"
     ]
    },
    {
     "name": "stderr",
     "output_type": "stream",
     "text": [
      "Processing entries:  56%|██████████████████████████████████████████████████████████████████████████████████████████████████████████████████████████▋                                                                                               | 375/666 [27:57<22:38,  4.67s/it]"
     ]
    },
    {
     "name": "stdout",
     "output_type": "stream",
     "text": [
      "Generating single mermaid chart\n"
     ]
    },
    {
     "name": "stderr",
     "output_type": "stream",
     "text": [
      "Processing entries:  56%|███████████████████████████████████████████████████████████████████████████████████████████████████████████████████████████                                                                                               | 376/666 [28:02<22:25,  4.64s/it]"
     ]
    },
    {
     "name": "stdout",
     "output_type": "stream",
     "text": [
      "Generating single mermaid chart\n"
     ]
    },
    {
     "name": "stderr",
     "output_type": "stream",
     "text": [
      "Processing entries:  57%|███████████████████████████████████████████████████████████████████████████████████████████████████████████████████████████▍                                                                                              | 377/666 [28:07<22:51,  4.75s/it]"
     ]
    },
    {
     "name": "stdout",
     "output_type": "stream",
     "text": [
      "Generating single mermaid chart\n"
     ]
    },
    {
     "name": "stderr",
     "output_type": "stream",
     "text": [
      "Processing entries:  57%|███████████████████████████████████████████████████████████████████████████████████████████████████████████████████████████▋                                                                                              | 378/666 [28:12<23:31,  4.90s/it]"
     ]
    },
    {
     "name": "stdout",
     "output_type": "stream",
     "text": [
      "Generating single mermaid chart\n"
     ]
    },
    {
     "name": "stderr",
     "output_type": "stream",
     "text": [
      "Processing entries:  57%|████████████████████████████████████████████████████████████████████████████████████████████████████████████████████████████                                                                                              | 379/666 [28:17<23:22,  4.89s/it]"
     ]
    },
    {
     "name": "stdout",
     "output_type": "stream",
     "text": [
      "Generating single mermaid chart\n"
     ]
    },
    {
     "name": "stderr",
     "output_type": "stream",
     "text": [
      "Processing entries:  57%|████████████████████████████████████████████████████████████████████████████████████████████████████████████████████████████▍                                                                                             | 380/666 [28:21<22:04,  4.63s/it]"
     ]
    },
    {
     "name": "stdout",
     "output_type": "stream",
     "text": [
      "Generating single mermaid chart\n"
     ]
    },
    {
     "name": "stderr",
     "output_type": "stream",
     "text": [
      "Processing entries:  57%|████████████████████████████████████████████████████████████████████████████████████████████████████████████████████████████▋                                                                                             | 381/666 [28:24<20:27,  4.31s/it]"
     ]
    },
    {
     "name": "stdout",
     "output_type": "stream",
     "text": [
      "Generating single mermaid chart\n"
     ]
    },
    {
     "name": "stderr",
     "output_type": "stream",
     "text": [
      "Processing entries:  57%|█████████████████████████████████████████████████████████████████████████████████████████████████████████████████████████████                                                                                             | 382/666 [28:27<18:27,  3.90s/it]"
     ]
    },
    {
     "name": "stdout",
     "output_type": "stream",
     "text": [
      "Generating single mermaid chart\n"
     ]
    },
    {
     "name": "stderr",
     "output_type": "stream",
     "text": [
      "[@zenuml/core] Store is a function and is not initiated in 1 second.\n",
      "Processing entries:  58%|█████████████████████████████████████████████████████████████████████████████████████████████████████████████████████████████▎                                                                                            | 383/666 [28:32<19:22,  4.11s/it]"
     ]
    },
    {
     "name": "stdout",
     "output_type": "stream",
     "text": [
      "Generating single mermaid chart\n"
     ]
    },
    {
     "name": "stderr",
     "output_type": "stream",
     "text": [
      "Processing entries:  58%|█████████████████████████████████████████████████████████████████████████████████████████████████████████████████████████████▋                                                                                            | 384/666 [28:36<19:09,  4.08s/it]"
     ]
    },
    {
     "name": "stdout",
     "output_type": "stream",
     "text": [
      "Generating single mermaid chart\n"
     ]
    },
    {
     "name": "stderr",
     "output_type": "stream",
     "text": [
      "Processing entries:  58%|██████████████████████████████████████████████████████████████████████████████████████████████████████████████████████████████                                                                                            | 385/666 [28:40<18:41,  3.99s/it]"
     ]
    },
    {
     "name": "stdout",
     "output_type": "stream",
     "text": [
      "Generating single mermaid chart\n"
     ]
    },
    {
     "name": "stderr",
     "output_type": "stream",
     "text": [
      "[@zenuml/core] Store is a function and is not initiated in 1 second.\n",
      "Processing entries:  58%|██████████████████████████████████████████████████████████████████████████████████████████████████████████████████████████████▎                                                                                           | 386/666 [28:44<19:42,  4.22s/it]"
     ]
    },
    {
     "name": "stdout",
     "output_type": "stream",
     "text": [
      "Generating single mermaid chart\n"
     ]
    },
    {
     "name": "stderr",
     "output_type": "stream",
     "text": [
      "Processing entries:  58%|██████████████████████████████████████████████████████████████████████████████████████████████████████████████████████████████▋                                                                                           | 387/666 [28:48<18:02,  3.88s/it]"
     ]
    },
    {
     "name": "stdout",
     "output_type": "stream",
     "text": [
      "Generating single mermaid chart\n"
     ]
    },
    {
     "name": "stderr",
     "output_type": "stream",
     "text": [
      "Processing entries:  58%|███████████████████████████████████████████████████████████████████████████████████████████████████████████████████████████████                                                                                           | 388/666 [28:51<16:52,  3.64s/it]"
     ]
    },
    {
     "name": "stdout",
     "output_type": "stream",
     "text": [
      "Generating single mermaid chart\n"
     ]
    },
    {
     "name": "stderr",
     "output_type": "stream",
     "text": [
      "Processing entries:  58%|███████████████████████████████████████████████████████████████████████████████████████████████████████████████████████████████▎                                                                                          | 389/666 [28:55<18:02,  3.91s/it]"
     ]
    },
    {
     "name": "stdout",
     "output_type": "stream",
     "text": [
      "Generating single mermaid chart\n"
     ]
    },
    {
     "name": "stderr",
     "output_type": "stream",
     "text": [
      "Processing entries:  59%|███████████████████████████████████████████████████████████████████████████████████████████████████████████████████████████████▋                                                                                          | 390/666 [29:01<20:59,  4.57s/it]"
     ]
    },
    {
     "name": "stdout",
     "output_type": "stream",
     "text": [
      "Generating single mermaid chart\n"
     ]
    },
    {
     "name": "stderr",
     "output_type": "stream",
     "text": [
      "Processing entries:  59%|███████████████████████████████████████████████████████████████████████████████████████████████████████████████████████████████▉                                                                                          | 391/666 [29:05<19:31,  4.26s/it]"
     ]
    },
    {
     "name": "stdout",
     "output_type": "stream",
     "text": [
      "Generating single mermaid chart\n"
     ]
    },
    {
     "name": "stderr",
     "output_type": "stream",
     "text": [
      "Processing entries:  59%|████████████████████████████████████████████████████████████████████████████████████████████████████████████████████████████████▎                                                                                         | 392/666 [29:10<20:06,  4.40s/it]"
     ]
    },
    {
     "name": "stdout",
     "output_type": "stream",
     "text": [
      "Generating single mermaid chart\n"
     ]
    },
    {
     "name": "stderr",
     "output_type": "stream",
     "text": [
      "Processing entries:  59%|████████████████████████████████████████████████████████████████████████████████████████████████████████████████████████████████▋                                                                                         | 393/666 [29:14<20:37,  4.53s/it]"
     ]
    },
    {
     "name": "stdout",
     "output_type": "stream",
     "text": [
      "Generating single mermaid chart\n"
     ]
    },
    {
     "name": "stderr",
     "output_type": "stream",
     "text": [
      "Processing entries:  59%|████████████████████████████████████████████████████████████████████████████████████████████████████████████████████████████████▉                                                                                         | 394/666 [29:18<18:52,  4.16s/it]"
     ]
    },
    {
     "name": "stdout",
     "output_type": "stream",
     "text": [
      "Generating single mermaid chart\n"
     ]
    },
    {
     "name": "stderr",
     "output_type": "stream",
     "text": [
      "Processing entries:  59%|█████████████████████████████████████████████████████████████████████████████████████████████████████████████████████████████████▎                                                                                        | 395/666 [29:22<18:34,  4.11s/it]"
     ]
    },
    {
     "name": "stdout",
     "output_type": "stream",
     "text": [
      "Generating single mermaid chart\n"
     ]
    },
    {
     "name": "stderr",
     "output_type": "stream",
     "text": [
      "Processing entries:  59%|█████████████████████████████████████████████████████████████████████████████████████████████████████████████████████████████████▌                                                                                        | 396/666 [29:25<17:42,  3.94s/it]"
     ]
    },
    {
     "name": "stdout",
     "output_type": "stream",
     "text": [
      "Generating single mermaid chart\n"
     ]
    },
    {
     "name": "stderr",
     "output_type": "stream",
     "text": [
      "\u001b[31m\u001b[39m\n",
      "\u001b[31mError: Parse error on line 4:\u001b[39m\n",
      "\u001b[31m...   Nitrogen gas (N2) in the atmosphere \u001b[39m\n",
      "\u001b[31m-----------------------^\u001b[39m\n",
      "\u001b[31mExpecting 'SPACELINE', 'NL', 'EOF', got 'SPACELIST'\u001b[39m\n",
      "\u001b[31mParser3.parseError (/home/siva/.nvm/versions/node/v22.14.0/lib/node_modules/@mermaid-js/mermaid-cli/node_modules/mermaid/dist/mermaid.js:99004:28)\u001b[39m\n",
      "\u001b[31m    at #evaluate (file:///home/siva/.nvm/versions/node/v22.14.0/lib/node_modules/@mermaid-js/mermaid-cli/node_modules/puppeteer-core/lib/esm/puppeteer/cdp/ExecutionContext.js:388:19)\u001b[39m\n",
      "\u001b[31m    at async ExecutionContext.evaluate (file:///home/siva/.nvm/versions/node/v22.14.0/lib/node_modules/@mermaid-js/mermaid-cli/node_modules/puppeteer-core/lib/esm/puppeteer/cdp/ExecutionContext.js:275:16)\u001b[39m\n",
      "\u001b[31m    at async IsolatedWorld.evaluate (file:///home/siva/.nvm/versions/node/v22.14.0/lib/node_modules/@mermaid-js/mermaid-cli/node_modules/puppeteer-core/lib/esm/puppeteer/cdp/IsolatedWorld.js:97:16)\u001b[39m\n",
      "\u001b[31m    at async CdpJSHandle.evaluate (file:///home/siva/.nvm/versions/node/v22.14.0/lib/node_modules/@mermaid-js/mermaid-cli/node_modules/puppeteer-core/lib/esm/puppeteer/api/JSHandle.js:146:20)\u001b[39m\n",
      "\u001b[31m    at async CdpElementHandle.evaluate (file:///home/siva/.nvm/versions/node/v22.14.0/lib/node_modules/@mermaid-js/mermaid-cli/node_modules/puppeteer-core/lib/esm/puppeteer/api/ElementHandle.js:340:20)\u001b[39m\n",
      "\u001b[31m    at async CdpElementHandle.$eval (file:///home/siva/.nvm/versions/node/v22.14.0/lib/node_modules/@mermaid-js/mermaid-cli/node_modules/puppeteer-core/lib/esm/puppeteer/api/ElementHandle.js:494:24)\u001b[39m\n",
      "\u001b[31m    at async CdpFrame.$eval (file:///home/siva/.nvm/versions/node/v22.14.0/lib/node_modules/@mermaid-js/mermaid-cli/node_modules/puppeteer-core/lib/esm/puppeteer/api/Frame.js:450:20)\u001b[39m\n",
      "\u001b[31m    at async CdpPage.$eval (file:///home/siva/.nvm/versions/node/v22.14.0/lib/node_modules/@mermaid-js/mermaid-cli/node_modules/puppeteer-core/lib/esm/puppeteer/api/Page.js:450:20)\u001b[39m\n",
      "\u001b[31m    at async renderMermaid (file:///home/siva/.nvm/versions/node/v22.14.0/lib/node_modules/@mermaid-js/mermaid-cli/src/index.js:252:22)\u001b[39m\n",
      "\u001b[31m    at fromText (/home/siva/.nvm/versions/node/v22.14.0/lib/node_modules/@mermaid-js/mermaid-cli/node_modules/mermaid/dist/mermaid.js:151117:21)\u001b[39m\n",
      "\u001b[31m\u001b[39m\n",
      "Processing entries:  60%|█████████████████████████████████████████████████████████████████████████████████████████████████████████████████████████████████▉                                                                                        | 397/666 [29:29<17:23,  3.88s/it]"
     ]
    },
    {
     "name": "stdout",
     "output_type": "stream",
     "text": [
      "Error processing entry 396 (ID: L_0692): Command '['mmdc', '-i', 'temp_mermaid.mmd', '-o', '../data/tqa_train_val_test/train/svg_v2/mermaid_output_L_0692.svg', '-t', 'forest']' returned non-zero exit status 1.\n",
      "\n",
      "Generating single mermaid chart\n"
     ]
    },
    {
     "name": "stderr",
     "output_type": "stream",
     "text": [
      "Processing entries:  60%|██████████████████████████████████████████████████████████████████████████████████████████████████████████████████████████████████▎                                                                                       | 398/666 [29:33<17:26,  3.90s/it]"
     ]
    },
    {
     "name": "stdout",
     "output_type": "stream",
     "text": [
      "Generating single mermaid chart\n"
     ]
    },
    {
     "name": "stderr",
     "output_type": "stream",
     "text": [
      "Processing entries:  60%|██████████████████████████████████████████████████████████████████████████████████████████████████████████████████████████████████▌                                                                                       | 399/666 [29:37<18:13,  4.10s/it]"
     ]
    },
    {
     "name": "stdout",
     "output_type": "stream",
     "text": [
      "Generating single mermaid chart\n"
     ]
    },
    {
     "name": "stderr",
     "output_type": "stream",
     "text": [
      "Processing entries:  60%|██████████████████████████████████████████████████████████████████████████████████████████████████████████████████████████████████▉                                                                                       | 400/666 [29:43<19:49,  4.47s/it]"
     ]
    },
    {
     "name": "stdout",
     "output_type": "stream",
     "text": [
      "Generating single mermaid chart\n"
     ]
    },
    {
     "name": "stderr",
     "output_type": "stream",
     "text": [
      "[@zenuml/core] Store is a function and is not initiated in 1 second.\n",
      "Processing entries:  60%|███████████████████████████████████████████████████████████████████████████████████████████████████████████████████████████████████▎                                                                                      | 401/666 [29:48<20:51,  4.72s/it]"
     ]
    },
    {
     "name": "stdout",
     "output_type": "stream",
     "text": [
      "Generating single mermaid chart\n"
     ]
    },
    {
     "name": "stderr",
     "output_type": "stream",
     "text": [
      "Processing entries:  60%|███████████████████████████████████████████████████████████████████████████████████████████████████████████████████████████████████▌                                                                                      | 402/666 [29:52<19:14,  4.37s/it]"
     ]
    },
    {
     "name": "stdout",
     "output_type": "stream",
     "text": [
      "Generating single mermaid chart\n"
     ]
    },
    {
     "name": "stderr",
     "output_type": "stream",
     "text": [
      "[@zenuml/core] Store is a function and is not initiated in 1 second.\n",
      "Processing entries:  61%|███████████████████████████████████████████████████████████████████████████████████████████████████████████████████████████████████▉                                                                                      | 403/666 [29:57<20:36,  4.70s/it]"
     ]
    },
    {
     "name": "stdout",
     "output_type": "stream",
     "text": [
      "Generating single mermaid chart\n"
     ]
    },
    {
     "name": "stderr",
     "output_type": "stream",
     "text": [
      "[@zenuml/core] Store is a function and is not initiated in 1 second.\n",
      "Processing entries:  61%|████████████████████████████████████████████████████████████████████████████████████████████████████████████████████████████████████▏                                                                                     | 404/666 [30:02<20:29,  4.69s/it]"
     ]
    },
    {
     "name": "stdout",
     "output_type": "stream",
     "text": [
      "Generating single mermaid chart\n"
     ]
    },
    {
     "name": "stderr",
     "output_type": "stream",
     "text": [
      "Processing entries:  61%|████████████████████████████████████████████████████████████████████████████████████████████████████████████████████████████████████▌                                                                                     | 405/666 [30:06<19:51,  4.57s/it]"
     ]
    },
    {
     "name": "stdout",
     "output_type": "stream",
     "text": [
      "Generating single mermaid chart\n"
     ]
    },
    {
     "name": "stderr",
     "output_type": "stream",
     "text": [
      "Processing entries:  61%|████████████████████████████████████████████████████████████████████████████████████████████████████████████████████████████████████▉                                                                                     | 406/666 [30:12<21:24,  4.94s/it]"
     ]
    },
    {
     "name": "stdout",
     "output_type": "stream",
     "text": [
      "Generating single mermaid chart\n"
     ]
    },
    {
     "name": "stderr",
     "output_type": "stream",
     "text": [
      "[@zenuml/core] Store is a function and is not initiated in 1 second.\n",
      "Processing entries:  61%|█████████████████████████████████████████████████████████████████████████████████████████████████████████████████████████████████████▏                                                                                    | 407/666 [30:17<21:32,  4.99s/it]"
     ]
    },
    {
     "name": "stdout",
     "output_type": "stream",
     "text": [
      "Generating single mermaid chart\n"
     ]
    },
    {
     "name": "stderr",
     "output_type": "stream",
     "text": [
      "Processing entries:  61%|█████████████████████████████████████████████████████████████████████████████████████████████████████████████████████████████████████▌                                                                                    | 408/666 [30:23<22:53,  5.32s/it]"
     ]
    },
    {
     "name": "stdout",
     "output_type": "stream",
     "text": [
      "Generating single mermaid chart\n"
     ]
    },
    {
     "name": "stderr",
     "output_type": "stream",
     "text": [
      "Processing entries:  61%|█████████████████████████████████████████████████████████████████████████████████████████████████████████████████████████████████████▉                                                                                    | 409/666 [30:28<21:48,  5.09s/it]"
     ]
    },
    {
     "name": "stdout",
     "output_type": "stream",
     "text": [
      "Generating single mermaid chart\n"
     ]
    },
    {
     "name": "stderr",
     "output_type": "stream",
     "text": [
      "[@zenuml/core] Store is a function and is not initiated in 1 second.\n",
      "Processing entries:  62%|██████████████████████████████████████████████████████████████████████████████████████████████████████████████████████████████████████▏                                                                                   | 410/666 [30:32<21:05,  4.95s/it]"
     ]
    },
    {
     "name": "stdout",
     "output_type": "stream",
     "text": [
      "Generating single mermaid chart\n"
     ]
    },
    {
     "name": "stderr",
     "output_type": "stream",
     "text": [
      "Processing entries:  62%|██████████████████████████████████████████████████████████████████████████████████████████████████████████████████████████████████████▌                                                                                   | 411/666 [30:37<20:12,  4.75s/it]"
     ]
    },
    {
     "name": "stdout",
     "output_type": "stream",
     "text": [
      "Generating single mermaid chart\n"
     ]
    },
    {
     "name": "stderr",
     "output_type": "stream",
     "text": [
      "Processing entries:  62%|██████████████████████████████████████████████████████████████████████████████████████████████████████████████████████████████████████▊                                                                                   | 412/666 [30:40<18:25,  4.35s/it]"
     ]
    },
    {
     "name": "stdout",
     "output_type": "stream",
     "text": [
      "Generating single mermaid chart\n"
     ]
    },
    {
     "name": "stderr",
     "output_type": "stream",
     "text": [
      "Processing entries:  62%|███████████████████████████████████████████████████████████████████████████████████████████████████████████████████████████████████████▏                                                                                  | 413/666 [30:43<16:38,  3.95s/it]"
     ]
    },
    {
     "name": "stdout",
     "output_type": "stream",
     "text": [
      "Generating single mermaid chart\n"
     ]
    },
    {
     "name": "stderr",
     "output_type": "stream",
     "text": [
      "Processing entries:  62%|███████████████████████████████████████████████████████████████████████████████████████████████████████████████████████████████████████▌                                                                                  | 414/666 [30:46<15:55,  3.79s/it]"
     ]
    },
    {
     "name": "stdout",
     "output_type": "stream",
     "text": [
      "Generating single mermaid chart\n"
     ]
    },
    {
     "name": "stderr",
     "output_type": "stream",
     "text": [
      "Processing entries:  62%|███████████████████████████████████████████████████████████████████████████████████████████████████████████████████████████████████████▊                                                                                  | 415/666 [30:51<16:59,  4.06s/it]"
     ]
    },
    {
     "name": "stdout",
     "output_type": "stream",
     "text": [
      "Generating single mermaid chart\n"
     ]
    },
    {
     "name": "stderr",
     "output_type": "stream",
     "text": [
      "Processing entries:  62%|████████████████████████████████████████████████████████████████████████████████████████████████████████████████████████████████████████▏                                                                                 | 416/666 [30:56<17:39,  4.24s/it]"
     ]
    },
    {
     "name": "stdout",
     "output_type": "stream",
     "text": [
      "Generating single mermaid chart\n"
     ]
    },
    {
     "name": "stderr",
     "output_type": "stream",
     "text": [
      "Processing entries:  63%|████████████████████████████████████████████████████████████████████████████████████████████████████████████████████████████████████████▍                                                                                 | 417/666 [31:01<18:42,  4.51s/it]"
     ]
    },
    {
     "name": "stdout",
     "output_type": "stream",
     "text": [
      "Generating single mermaid chart\n"
     ]
    },
    {
     "name": "stderr",
     "output_type": "stream",
     "text": [
      "Processing entries:  63%|████████████████████████████████████████████████████████████████████████████████████████████████████████████████████████████████████████▊                                                                                 | 418/666 [31:05<18:02,  4.37s/it]"
     ]
    },
    {
     "name": "stdout",
     "output_type": "stream",
     "text": [
      "Generating single mermaid chart\n"
     ]
    },
    {
     "name": "stderr",
     "output_type": "stream",
     "text": [
      "Processing entries:  63%|█████████████████████████████████████████████████████████████████████████████████████████████████████████████████████████████████████████▏                                                                                | 419/666 [31:09<17:50,  4.33s/it]"
     ]
    },
    {
     "name": "stdout",
     "output_type": "stream",
     "text": [
      "Generating single mermaid chart\n"
     ]
    },
    {
     "name": "stderr",
     "output_type": "stream",
     "text": [
      "Processing entries:  63%|█████████████████████████████████████████████████████████████████████████████████████████████████████████████████████████████████████████▍                                                                                | 420/666 [31:15<20:08,  4.91s/it]"
     ]
    },
    {
     "name": "stdout",
     "output_type": "stream",
     "text": [
      "Generating single mermaid chart\n"
     ]
    },
    {
     "name": "stderr",
     "output_type": "stream",
     "text": [
      "Processing entries:  63%|█████████████████████████████████████████████████████████████████████████████████████████████████████████████████████████████████████████▊                                                                                | 421/666 [31:19<18:29,  4.53s/it]"
     ]
    },
    {
     "name": "stdout",
     "output_type": "stream",
     "text": [
      "Generating single mermaid chart\n"
     ]
    },
    {
     "name": "stderr",
     "output_type": "stream",
     "text": [
      "Processing entries:  63%|██████████████████████████████████████████████████████████████████████████████████████████████████████████████████████████████████████████▏                                                                               | 422/666 [31:22<16:54,  4.16s/it]"
     ]
    },
    {
     "name": "stdout",
     "output_type": "stream",
     "text": [
      "Generating single mermaid chart\n"
     ]
    },
    {
     "name": "stderr",
     "output_type": "stream",
     "text": [
      "Processing entries:  64%|██████████████████████████████████████████████████████████████████████████████████████████████████████████████████████████████████████████▍                                                                               | 423/666 [31:27<17:00,  4.20s/it]"
     ]
    },
    {
     "name": "stdout",
     "output_type": "stream",
     "text": [
      "Generating single mermaid chart\n"
     ]
    },
    {
     "name": "stderr",
     "output_type": "stream",
     "text": [
      "Processing entries:  64%|██████████████████████████████████████████████████████████████████████████████████████████████████████████████████████████████████████████▊                                                                               | 424/666 [31:31<17:17,  4.29s/it]"
     ]
    },
    {
     "name": "stdout",
     "output_type": "stream",
     "text": [
      "Generating single mermaid chart\n"
     ]
    },
    {
     "name": "stderr",
     "output_type": "stream",
     "text": [
      "Processing entries:  64%|███████████████████████████████████████████████████████████████████████████████████████████████████████████████████████████████████████████                                                                               | 425/666 [31:35<17:15,  4.30s/it]"
     ]
    },
    {
     "name": "stdout",
     "output_type": "stream",
     "text": [
      "Generating single mermaid chart\n"
     ]
    },
    {
     "name": "stderr",
     "output_type": "stream",
     "text": [
      "Processing entries:  64%|███████████████████████████████████████████████████████████████████████████████████████████████████████████████████████████████████████████▍                                                                              | 426/666 [31:39<16:31,  4.13s/it]"
     ]
    },
    {
     "name": "stdout",
     "output_type": "stream",
     "text": [
      "Generating single mermaid chart\n"
     ]
    },
    {
     "name": "stderr",
     "output_type": "stream",
     "text": [
      "Processing entries:  64%|███████████████████████████████████████████████████████████████████████████████████████████████████████████████████████████████████████████▊                                                                              | 427/666 [31:43<15:59,  4.02s/it]"
     ]
    },
    {
     "name": "stdout",
     "output_type": "stream",
     "text": [
      "Generating single mermaid chart\n"
     ]
    },
    {
     "name": "stderr",
     "output_type": "stream",
     "text": [
      "Processing entries:  64%|████████████████████████████████████████████████████████████████████████████████████████████████████████████████████████████████████████████                                                                              | 428/666 [31:47<15:44,  3.97s/it]"
     ]
    },
    {
     "name": "stdout",
     "output_type": "stream",
     "text": [
      "Generating single mermaid chart\n"
     ]
    },
    {
     "name": "stderr",
     "output_type": "stream",
     "text": [
      "[@zenuml/core] Store is a function and is not initiated in 1 second.\n",
      "Processing entries:  64%|████████████████████████████████████████████████████████████████████████████████████████████████████████████████████████████████████████████▍                                                                             | 429/666 [31:53<18:07,  4.59s/it]"
     ]
    },
    {
     "name": "stdout",
     "output_type": "stream",
     "text": [
      "Generating single mermaid chart\n"
     ]
    },
    {
     "name": "stderr",
     "output_type": "stream",
     "text": [
      "[@zenuml/core] Store is a function and is not initiated in 1 second.\n",
      "Processing entries:  65%|████████████████████████████████████████████████████████████████████████████████████████████████████████████████████████████████████████████▊                                                                             | 430/666 [31:58<18:27,  4.69s/it]"
     ]
    },
    {
     "name": "stdout",
     "output_type": "stream",
     "text": [
      "Generating single mermaid chart\n"
     ]
    },
    {
     "name": "stderr",
     "output_type": "stream",
     "text": [
      "[@zenuml/core] Store is a function and is not initiated in 1 second.\n",
      "Processing entries:  65%|█████████████████████████████████████████████████████████████████████████████████████████████████████████████████████████████████████████████                                                                             | 431/666 [32:02<18:03,  4.61s/it]"
     ]
    },
    {
     "name": "stdout",
     "output_type": "stream",
     "text": [
      "Generating single mermaid chart\n"
     ]
    },
    {
     "name": "stderr",
     "output_type": "stream",
     "text": [
      "[@zenuml/core] Store is a function and is not initiated in 1 second.\n",
      "Processing entries:  65%|█████████████████████████████████████████████████████████████████████████████████████████████████████████████████████████████████████████████▍                                                                            | 432/666 [32:08<19:22,  4.97s/it]"
     ]
    },
    {
     "name": "stdout",
     "output_type": "stream",
     "text": [
      "Generating single mermaid chart\n"
     ]
    },
    {
     "name": "stderr",
     "output_type": "stream",
     "text": [
      "[@zenuml/core] Store is a function and is not initiated in 1 second.\n",
      "Processing entries:  65%|█████████████████████████████████████████████████████████████████████████████████████████████████████████████████████████████████████████████▋                                                                            | 433/666 [32:13<19:02,  4.90s/it]"
     ]
    },
    {
     "name": "stdout",
     "output_type": "stream",
     "text": [
      "Generating single mermaid chart\n"
     ]
    },
    {
     "name": "stderr",
     "output_type": "stream",
     "text": [
      "Processing entries:  65%|██████████████████████████████████████████████████████████████████████████████████████████████████████████████████████████████████████████████                                                                            | 434/666 [32:17<18:01,  4.66s/it]"
     ]
    },
    {
     "name": "stdout",
     "output_type": "stream",
     "text": [
      "Generating single mermaid chart\n"
     ]
    },
    {
     "name": "stderr",
     "output_type": "stream",
     "text": [
      "Processing entries:  65%|██████████████████████████████████████████████████████████████████████████████████████████████████████████████████████████████████████████████▍                                                                           | 435/666 [32:22<18:20,  4.76s/it]"
     ]
    },
    {
     "name": "stdout",
     "output_type": "stream",
     "text": [
      "Generating single mermaid chart\n"
     ]
    },
    {
     "name": "stderr",
     "output_type": "stream",
     "text": [
      "Processing entries:  65%|██████████████████████████████████████████████████████████████████████████████████████████████████████████████████████████████████████████████▋                                                                           | 436/666 [32:26<17:35,  4.59s/it]"
     ]
    },
    {
     "name": "stdout",
     "output_type": "stream",
     "text": [
      "Generating single mermaid chart\n"
     ]
    },
    {
     "name": "stderr",
     "output_type": "stream",
     "text": [
      "Processing entries:  66%|███████████████████████████████████████████████████████████████████████████████████████████████████████████████████████████████████████████████                                                                           | 437/666 [32:30<17:06,  4.48s/it]"
     ]
    },
    {
     "name": "stdout",
     "output_type": "stream",
     "text": [
      "Generating single mermaid chart\n"
     ]
    },
    {
     "name": "stderr",
     "output_type": "stream",
     "text": [
      "[@zenuml/core] Store is a function and is not initiated in 1 second.\n",
      "Processing entries:  66%|███████████████████████████████████████████████████████████████████████████████████████████████████████████████████████████████████████████████▎                                                                          | 438/666 [32:34<16:40,  4.39s/it]"
     ]
    },
    {
     "name": "stdout",
     "output_type": "stream",
     "text": [
      "Generating single mermaid chart\n"
     ]
    },
    {
     "name": "stderr",
     "output_type": "stream",
     "text": [
      "[@zenuml/core] Store is a function and is not initiated in 1 second.\n",
      "Processing entries:  66%|███████████████████████████████████████████████████████████████████████████████████████████████████████████████████████████████████████████████▋                                                                          | 439/666 [32:39<16:45,  4.43s/it]"
     ]
    },
    {
     "name": "stdout",
     "output_type": "stream",
     "text": [
      "Generating single mermaid chart\n"
     ]
    },
    {
     "name": "stderr",
     "output_type": "stream",
     "text": [
      "[@zenuml/core] Store is a function and is not initiated in 1 second.\n",
      "Processing entries:  66%|████████████████████████████████████████████████████████████████████████████████████████████████████████████████████████████████████████████████                                                                          | 440/666 [32:43<15:55,  4.23s/it]"
     ]
    },
    {
     "name": "stdout",
     "output_type": "stream",
     "text": [
      "Generating single mermaid chart\n"
     ]
    },
    {
     "name": "stderr",
     "output_type": "stream",
     "text": [
      "[@zenuml/core] Store is a function and is not initiated in 1 second.\n",
      "Processing entries:  66%|████████████████████████████████████████████████████████████████████████████████████████████████████████████████████████████████████████████████▎                                                                         | 441/666 [32:47<16:20,  4.36s/it]"
     ]
    },
    {
     "name": "stdout",
     "output_type": "stream",
     "text": [
      "Generating single mermaid chart\n"
     ]
    },
    {
     "name": "stderr",
     "output_type": "stream",
     "text": [
      "[@zenuml/core] Store is a function and is not initiated in 1 second.\n",
      "Processing entries:  66%|████████████████████████████████████████████████████████████████████████████████████████████████████████████████████████████████████████████████▋                                                                         | 442/666 [32:52<16:42,  4.48s/it]"
     ]
    },
    {
     "name": "stdout",
     "output_type": "stream",
     "text": [
      "Generating single mermaid chart\n"
     ]
    },
    {
     "name": "stderr",
     "output_type": "stream",
     "text": [
      "[@zenuml/core] Store is a function and is not initiated in 1 second.\n",
      "Processing entries:  67%|█████████████████████████████████████████████████████████████████████████████████████████████████████████████████████████████████████████████████                                                                         | 443/666 [32:58<18:47,  5.06s/it]"
     ]
    },
    {
     "name": "stdout",
     "output_type": "stream",
     "text": [
      "Generating single mermaid chart\n"
     ]
    },
    {
     "name": "stderr",
     "output_type": "stream",
     "text": [
      "[@zenuml/core] Store is a function and is not initiated in 1 second.\n",
      "Processing entries:  67%|█████████████████████████████████████████████████████████████████████████████████████████████████████████████████████████████████████████████████▎                                                                        | 444/666 [33:03<18:15,  4.94s/it]"
     ]
    },
    {
     "name": "stdout",
     "output_type": "stream",
     "text": [
      "Generating single mermaid chart\n"
     ]
    },
    {
     "name": "stderr",
     "output_type": "stream",
     "text": [
      "[@zenuml/core] Store is a function and is not initiated in 1 second.\n",
      "Processing entries:  67%|█████████████████████████████████████████████████████████████████████████████████████████████████████████████████████████████████████████████████▋                                                                        | 445/666 [33:07<17:02,  4.63s/it]"
     ]
    },
    {
     "name": "stdout",
     "output_type": "stream",
     "text": [
      "Generating single mermaid chart\n"
     ]
    },
    {
     "name": "stderr",
     "output_type": "stream",
     "text": [
      "[@zenuml/core] Store is a function and is not initiated in 1 second.\n",
      "Processing entries:  67%|█████████████████████████████████████████████████████████████████████████████████████████████████████████████████████████████████████████████████▉                                                                        | 446/666 [33:12<16:47,  4.58s/it]"
     ]
    },
    {
     "name": "stdout",
     "output_type": "stream",
     "text": [
      "Generating single mermaid chart\n"
     ]
    },
    {
     "name": "stderr",
     "output_type": "stream",
     "text": [
      "Processing entries:  67%|██████████████████████████████████████████████████████████████████████████████████████████████████████████████████████████████████████████████████▎                                                                       | 447/666 [33:17<18:01,  4.94s/it]"
     ]
    },
    {
     "name": "stdout",
     "output_type": "stream",
     "text": [
      "Generating single mermaid chart\n"
     ]
    },
    {
     "name": "stderr",
     "output_type": "stream",
     "text": [
      "\u001b[31m\u001b[39m\n",
      "\u001b[31mError: Parse error on line 30:\u001b[39m\n",
      "\u001b[31m...: Cations (positive), Anions (negative)\u001b[39m\n",
      "\u001b[31m-----------------------^\u001b[39m\n",
      "\u001b[31mExpecting 'SPACELINE', 'NL', 'EOF', got 'NODE_ID'\u001b[39m\n",
      "\u001b[31mParser3.parseError (/home/siva/.nvm/versions/node/v22.14.0/lib/node_modules/@mermaid-js/mermaid-cli/node_modules/mermaid/dist/mermaid.js:99004:28)\u001b[39m\n",
      "\u001b[31m    at #evaluate (file:///home/siva/.nvm/versions/node/v22.14.0/lib/node_modules/@mermaid-js/mermaid-cli/node_modules/puppeteer-core/lib/esm/puppeteer/cdp/ExecutionContext.js:388:19)\u001b[39m\n",
      "\u001b[31m    at async ExecutionContext.evaluate (file:///home/siva/.nvm/versions/node/v22.14.0/lib/node_modules/@mermaid-js/mermaid-cli/node_modules/puppeteer-core/lib/esm/puppeteer/cdp/ExecutionContext.js:275:16)\u001b[39m\n",
      "\u001b[31m    at async IsolatedWorld.evaluate (file:///home/siva/.nvm/versions/node/v22.14.0/lib/node_modules/@mermaid-js/mermaid-cli/node_modules/puppeteer-core/lib/esm/puppeteer/cdp/IsolatedWorld.js:97:16)\u001b[39m\n",
      "\u001b[31m    at async CdpJSHandle.evaluate (file:///home/siva/.nvm/versions/node/v22.14.0/lib/node_modules/@mermaid-js/mermaid-cli/node_modules/puppeteer-core/lib/esm/puppeteer/api/JSHandle.js:146:20)\u001b[39m\n",
      "\u001b[31m    at async CdpElementHandle.evaluate (file:///home/siva/.nvm/versions/node/v22.14.0/lib/node_modules/@mermaid-js/mermaid-cli/node_modules/puppeteer-core/lib/esm/puppeteer/api/ElementHandle.js:340:20)\u001b[39m\n",
      "\u001b[31m    at async CdpElementHandle.$eval (file:///home/siva/.nvm/versions/node/v22.14.0/lib/node_modules/@mermaid-js/mermaid-cli/node_modules/puppeteer-core/lib/esm/puppeteer/api/ElementHandle.js:494:24)\u001b[39m\n",
      "\u001b[31m    at async CdpFrame.$eval (file:///home/siva/.nvm/versions/node/v22.14.0/lib/node_modules/@mermaid-js/mermaid-cli/node_modules/puppeteer-core/lib/esm/puppeteer/api/Frame.js:450:20)\u001b[39m\n",
      "\u001b[31m    at async CdpPage.$eval (file:///home/siva/.nvm/versions/node/v22.14.0/lib/node_modules/@mermaid-js/mermaid-cli/node_modules/puppeteer-core/lib/esm/puppeteer/api/Page.js:450:20)\u001b[39m\n",
      "\u001b[31m    at async renderMermaid (file:///home/siva/.nvm/versions/node/v22.14.0/lib/node_modules/@mermaid-js/mermaid-cli/src/index.js:252:22)\u001b[39m\n",
      "\u001b[31m    at fromText (/home/siva/.nvm/versions/node/v22.14.0/lib/node_modules/@mermaid-js/mermaid-cli/node_modules/mermaid/dist/mermaid.js:151117:21)\u001b[39m\n",
      "\u001b[31m\u001b[39m\n",
      "Processing entries:  67%|██████████████████████████████████████████████████████████████████████████████████████████████████████████████████████████████████████████████████▋                                                                       | 448/666 [33:24<19:35,  5.39s/it]"
     ]
    },
    {
     "name": "stdout",
     "output_type": "stream",
     "text": [
      "Error processing entry 447 (ID: L_0772): Command '['mmdc', '-i', 'temp_mermaid.mmd', '-o', '../data/tqa_train_val_test/train/svg_v2/mermaid_output_L_0772.svg', '-t', 'forest']' returned non-zero exit status 1.\n",
      "\n",
      "Generating single mermaid chart\n"
     ]
    },
    {
     "name": "stderr",
     "output_type": "stream",
     "text": [
      "[@zenuml/core] Store is a function and is not initiated in 1 second.\n",
      "Processing entries:  67%|██████████████████████████████████████████████████████████████████████████████████████████████████████████████████████████████████████████████████▉                                                                       | 449/666 [33:29<19:05,  5.28s/it]"
     ]
    },
    {
     "name": "stdout",
     "output_type": "stream",
     "text": [
      "Generating single mermaid chart\n"
     ]
    },
    {
     "name": "stderr",
     "output_type": "stream",
     "text": [
      "[@zenuml/core] Store is a function and is not initiated in 1 second.\n",
      "Processing entries:  68%|███████████████████████████████████████████████████████████████████████████████████████████████████████████████████████████████████████████████████▎                                                                      | 450/666 [33:33<18:08,  5.04s/it]"
     ]
    },
    {
     "name": "stdout",
     "output_type": "stream",
     "text": [
      "Generating single mermaid chart\n"
     ]
    },
    {
     "name": "stderr",
     "output_type": "stream",
     "text": [
      "[@zenuml/core] Store is a function and is not initiated in 1 second.\n",
      "Processing entries:  68%|███████████████████████████████████████████████████████████████████████████████████████████████████████████████████████████████████████████████████▌                                                                      | 451/666 [33:40<19:32,  5.45s/it]"
     ]
    },
    {
     "name": "stdout",
     "output_type": "stream",
     "text": [
      "Generating single mermaid chart\n"
     ]
    },
    {
     "name": "stderr",
     "output_type": "stream",
     "text": [
      "[@zenuml/core] Store is a function and is not initiated in 1 second.\n",
      "Processing entries:  68%|███████████████████████████████████████████████████████████████████████████████████████████████████████████████████████████████████████████████████▉                                                                      | 452/666 [33:45<19:12,  5.39s/it]"
     ]
    },
    {
     "name": "stdout",
     "output_type": "stream",
     "text": [
      "Generating single mermaid chart\n"
     ]
    },
    {
     "name": "stderr",
     "output_type": "stream",
     "text": [
      "Processing entries:  68%|████████████████████████████████████████████████████████████████████████████████████████████████████████████████████████████████████████████████████▎                                                                     | 453/666 [33:49<17:57,  5.06s/it]"
     ]
    },
    {
     "name": "stdout",
     "output_type": "stream",
     "text": [
      "Generating single mermaid chart\n"
     ]
    },
    {
     "name": "stderr",
     "output_type": "stream",
     "text": [
      "Processing entries:  68%|████████████████████████████████████████████████████████████████████████████████████████████████████████████████████████████████████████████████████▌                                                                     | 454/666 [33:54<17:05,  4.84s/it]"
     ]
    },
    {
     "name": "stdout",
     "output_type": "stream",
     "text": [
      "Generating single mermaid chart\n"
     ]
    },
    {
     "name": "stderr",
     "output_type": "stream",
     "text": [
      "Processing entries:  68%|████████████████████████████████████████████████████████████████████████████████████████████████████████████████████████████████████████████████████▉                                                                     | 455/666 [33:57<15:59,  4.55s/it]"
     ]
    },
    {
     "name": "stdout",
     "output_type": "stream",
     "text": [
      "Generating single mermaid chart\n"
     ]
    },
    {
     "name": "stderr",
     "output_type": "stream",
     "text": [
      "\u001b[31m\u001b[39m\n",
      "\u001b[31mError: Parse error on line 27:\u001b[39m\n",
      "\u001b[31m...2)      Water (H2O) as polar compound \u001b[39m\n",
      "\u001b[31m----------------------^\u001b[39m\n",
      "\u001b[31mExpecting 'SPACELINE', 'NL', 'EOF', got 'SPACELIST'\u001b[39m\n",
      "\u001b[31mParser3.parseError (/home/siva/.nvm/versions/node/v22.14.0/lib/node_modules/@mermaid-js/mermaid-cli/node_modules/mermaid/dist/mermaid.js:99004:28)\u001b[39m\n",
      "\u001b[31m    at #evaluate (file:///home/siva/.nvm/versions/node/v22.14.0/lib/node_modules/@mermaid-js/mermaid-cli/node_modules/puppeteer-core/lib/esm/puppeteer/cdp/ExecutionContext.js:388:19)\u001b[39m\n",
      "\u001b[31m    at async ExecutionContext.evaluate (file:///home/siva/.nvm/versions/node/v22.14.0/lib/node_modules/@mermaid-js/mermaid-cli/node_modules/puppeteer-core/lib/esm/puppeteer/cdp/ExecutionContext.js:275:16)\u001b[39m\n",
      "\u001b[31m    at async IsolatedWorld.evaluate (file:///home/siva/.nvm/versions/node/v22.14.0/lib/node_modules/@mermaid-js/mermaid-cli/node_modules/puppeteer-core/lib/esm/puppeteer/cdp/IsolatedWorld.js:97:16)\u001b[39m\n",
      "\u001b[31m    at async CdpJSHandle.evaluate (file:///home/siva/.nvm/versions/node/v22.14.0/lib/node_modules/@mermaid-js/mermaid-cli/node_modules/puppeteer-core/lib/esm/puppeteer/api/JSHandle.js:146:20)\u001b[39m\n",
      "\u001b[31m    at async CdpElementHandle.evaluate (file:///home/siva/.nvm/versions/node/v22.14.0/lib/node_modules/@mermaid-js/mermaid-cli/node_modules/puppeteer-core/lib/esm/puppeteer/api/ElementHandle.js:340:20)\u001b[39m\n",
      "\u001b[31m    at async CdpElementHandle.$eval (file:///home/siva/.nvm/versions/node/v22.14.0/lib/node_modules/@mermaid-js/mermaid-cli/node_modules/puppeteer-core/lib/esm/puppeteer/api/ElementHandle.js:494:24)\u001b[39m\n",
      "\u001b[31m    at async CdpFrame.$eval (file:///home/siva/.nvm/versions/node/v22.14.0/lib/node_modules/@mermaid-js/mermaid-cli/node_modules/puppeteer-core/lib/esm/puppeteer/api/Frame.js:450:20)\u001b[39m\n",
      "\u001b[31m    at async CdpPage.$eval (file:///home/siva/.nvm/versions/node/v22.14.0/lib/node_modules/@mermaid-js/mermaid-cli/node_modules/puppeteer-core/lib/esm/puppeteer/api/Page.js:450:20)\u001b[39m\n",
      "\u001b[31m    at async renderMermaid (file:///home/siva/.nvm/versions/node/v22.14.0/lib/node_modules/@mermaid-js/mermaid-cli/src/index.js:252:22)\u001b[39m\n",
      "\u001b[31m    at fromText (/home/siva/.nvm/versions/node/v22.14.0/lib/node_modules/@mermaid-js/mermaid-cli/node_modules/mermaid/dist/mermaid.js:151117:21)\u001b[39m\n",
      "\u001b[31m\u001b[39m\n",
      "Processing entries:  68%|█████████████████████████████████████████████████████████████████████████████████████████████████████████████████████████████████████████████████████▎                                                                    | 456/666 [34:02<15:58,  4.57s/it]"
     ]
    },
    {
     "name": "stdout",
     "output_type": "stream",
     "text": [
      "Error processing entry 455 (ID: L_0780): Command '['mmdc', '-i', 'temp_mermaid.mmd', '-o', '../data/tqa_train_val_test/train/svg_v2/mermaid_output_L_0780.svg', '-t', 'forest']' returned non-zero exit status 1.\n",
      "\n",
      "Generating single mermaid chart\n"
     ]
    },
    {
     "name": "stderr",
     "output_type": "stream",
     "text": [
      "Processing entries:  69%|█████████████████████████████████████████████████████████████████████████████████████████████████████████████████████████████████████████████████████▌                                                                    | 457/666 [34:05<14:10,  4.07s/it]"
     ]
    },
    {
     "name": "stdout",
     "output_type": "stream",
     "text": [
      "Generating single mermaid chart\n"
     ]
    },
    {
     "name": "stderr",
     "output_type": "stream",
     "text": [
      "Processing entries:  69%|█████████████████████████████████████████████████████████████████████████████████████████████████████████████████████████████████████████████████████▉                                                                    | 458/666 [34:09<14:16,  4.12s/it]"
     ]
    },
    {
     "name": "stdout",
     "output_type": "stream",
     "text": [
      "Generating single mermaid chart\n"
     ]
    },
    {
     "name": "stderr",
     "output_type": "stream",
     "text": [
      "Processing entries:  69%|██████████████████████████████████████████████████████████████████████████████████████████████████████████████████████████████████████████████████████▏                                                                   | 459/666 [34:13<14:18,  4.15s/it]"
     ]
    },
    {
     "name": "stdout",
     "output_type": "stream",
     "text": [
      "Generating single mermaid chart\n"
     ]
    },
    {
     "name": "stderr",
     "output_type": "stream",
     "text": [
      "Processing entries:  69%|██████████████████████████████████████████████████████████████████████████████████████████████████████████████████████████████████████████████████████▌                                                                   | 460/666 [34:18<14:42,  4.28s/it]"
     ]
    },
    {
     "name": "stdout",
     "output_type": "stream",
     "text": [
      "Generating single mermaid chart\n"
     ]
    },
    {
     "name": "stderr",
     "output_type": "stream",
     "text": [
      "Processing entries:  69%|██████████████████████████████████████████████████████████████████████████████████████████████████████████████████████████████████████████████████████▉                                                                   | 461/666 [34:22<14:13,  4.16s/it]"
     ]
    },
    {
     "name": "stdout",
     "output_type": "stream",
     "text": [
      "Generating single mermaid chart\n"
     ]
    },
    {
     "name": "stderr",
     "output_type": "stream",
     "text": [
      "[@zenuml/core] Store is a function and is not initiated in 1 second.\n",
      "Processing entries:  69%|███████████████████████████████████████████████████████████████████████████████████████████████████████████████████████████████████████████████████████▏                                                                  | 462/666 [34:26<14:00,  4.12s/it]"
     ]
    },
    {
     "name": "stdout",
     "output_type": "stream",
     "text": [
      "Generating single mermaid chart\n"
     ]
    },
    {
     "name": "stderr",
     "output_type": "stream",
     "text": [
      "Processing entries:  70%|███████████████████████████████████████████████████████████████████████████████████████████████████████████████████████████████████████████████████████▌                                                                  | 463/666 [34:30<14:23,  4.25s/it]"
     ]
    },
    {
     "name": "stdout",
     "output_type": "stream",
     "text": [
      "Generating single mermaid chart\n"
     ]
    },
    {
     "name": "stderr",
     "output_type": "stream",
     "text": [
      "Processing entries:  70%|███████████████████████████████████████████████████████████████████████████████████████████████████████████████████████████████████████████████████████▉                                                                  | 464/666 [34:35<14:25,  4.28s/it]"
     ]
    },
    {
     "name": "stdout",
     "output_type": "stream",
     "text": [
      "Generating single mermaid chart\n"
     ]
    },
    {
     "name": "stderr",
     "output_type": "stream",
     "text": [
      "Processing entries:  70%|████████████████████████████████████████████████████████████████████████████████████████████████████████████████████████████████████████████████████████▏                                                                 | 465/666 [34:38<13:29,  4.03s/it]"
     ]
    },
    {
     "name": "stdout",
     "output_type": "stream",
     "text": [
      "Generating single mermaid chart\n"
     ]
    },
    {
     "name": "stderr",
     "output_type": "stream",
     "text": [
      "Processing entries:  70%|████████████████████████████████████████████████████████████████████████████████████████████████████████████████████████████████████████████████████████▌                                                                 | 466/666 [34:42<12:44,  3.82s/it]"
     ]
    },
    {
     "name": "stdout",
     "output_type": "stream",
     "text": [
      "Generating single mermaid chart\n"
     ]
    },
    {
     "name": "stderr",
     "output_type": "stream",
     "text": [
      "Processing entries:  70%|████████████████████████████████████████████████████████████████████████████████████████████████████████████████████████████████████████████████████████▊                                                                 | 467/666 [34:45<11:54,  3.59s/it]"
     ]
    },
    {
     "name": "stdout",
     "output_type": "stream",
     "text": [
      "Generating single mermaid chart\n"
     ]
    },
    {
     "name": "stderr",
     "output_type": "stream",
     "text": [
      "Processing entries:  70%|█████████████████████████████████████████████████████████████████████████████████████████████████████████████████████████████████████████████████████████▏                                                                | 468/666 [34:48<11:29,  3.48s/it]"
     ]
    },
    {
     "name": "stdout",
     "output_type": "stream",
     "text": [
      "Generating single mermaid chart\n"
     ]
    },
    {
     "name": "stderr",
     "output_type": "stream",
     "text": [
      "\u001b[31m\u001b[39m\n",
      "\u001b[31mError: Parse error on line 23:\u001b[39m\n",
      "\u001b[31m...ium chloride (CaCl2), carbon dioxide (CO\u001b[39m\n",
      "\u001b[31m-----------------------^\u001b[39m\n",
      "\u001b[31mExpecting 'SPACELINE', 'NL', 'EOF', got 'NODE_ID'\u001b[39m\n",
      "\u001b[31mParser3.parseError (/home/siva/.nvm/versions/node/v22.14.0/lib/node_modules/@mermaid-js/mermaid-cli/node_modules/mermaid/dist/mermaid.js:99004:28)\u001b[39m\n",
      "\u001b[31m    at #evaluate (file:///home/siva/.nvm/versions/node/v22.14.0/lib/node_modules/@mermaid-js/mermaid-cli/node_modules/puppeteer-core/lib/esm/puppeteer/cdp/ExecutionContext.js:388:19)\u001b[39m\n",
      "\u001b[31m    at async ExecutionContext.evaluate (file:///home/siva/.nvm/versions/node/v22.14.0/lib/node_modules/@mermaid-js/mermaid-cli/node_modules/puppeteer-core/lib/esm/puppeteer/cdp/ExecutionContext.js:275:16)\u001b[39m\n",
      "\u001b[31m    at async IsolatedWorld.evaluate (file:///home/siva/.nvm/versions/node/v22.14.0/lib/node_modules/@mermaid-js/mermaid-cli/node_modules/puppeteer-core/lib/esm/puppeteer/cdp/IsolatedWorld.js:97:16)\u001b[39m\n",
      "\u001b[31m    at async CdpJSHandle.evaluate (file:///home/siva/.nvm/versions/node/v22.14.0/lib/node_modules/@mermaid-js/mermaid-cli/node_modules/puppeteer-core/lib/esm/puppeteer/api/JSHandle.js:146:20)\u001b[39m\n",
      "\u001b[31m    at async CdpElementHandle.evaluate (file:///home/siva/.nvm/versions/node/v22.14.0/lib/node_modules/@mermaid-js/mermaid-cli/node_modules/puppeteer-core/lib/esm/puppeteer/api/ElementHandle.js:340:20)\u001b[39m\n",
      "\u001b[31m    at async CdpElementHandle.$eval (file:///home/siva/.nvm/versions/node/v22.14.0/lib/node_modules/@mermaid-js/mermaid-cli/node_modules/puppeteer-core/lib/esm/puppeteer/api/ElementHandle.js:494:24)\u001b[39m\n",
      "\u001b[31m    at async CdpFrame.$eval (file:///home/siva/.nvm/versions/node/v22.14.0/lib/node_modules/@mermaid-js/mermaid-cli/node_modules/puppeteer-core/lib/esm/puppeteer/api/Frame.js:450:20)\u001b[39m\n",
      "\u001b[31m    at async CdpPage.$eval (file:///home/siva/.nvm/versions/node/v22.14.0/lib/node_modules/@mermaid-js/mermaid-cli/node_modules/puppeteer-core/lib/esm/puppeteer/api/Page.js:450:20)\u001b[39m\n",
      "\u001b[31m    at async renderMermaid (file:///home/siva/.nvm/versions/node/v22.14.0/lib/node_modules/@mermaid-js/mermaid-cli/src/index.js:252:22)\u001b[39m\n",
      "\u001b[31m    at fromText (/home/siva/.nvm/versions/node/v22.14.0/lib/node_modules/@mermaid-js/mermaid-cli/node_modules/mermaid/dist/mermaid.js:151117:21)\u001b[39m\n",
      "\u001b[31m\u001b[39m\n",
      "Processing entries:  70%|█████████████████████████████████████████████████████████████████████████████████████████████████████████████████████████████████████████████████████████▌                                                                | 469/666 [34:51<11:18,  3.44s/it]"
     ]
    },
    {
     "name": "stdout",
     "output_type": "stream",
     "text": [
      "Error processing entry 468 (ID: L_0793): Command '['mmdc', '-i', 'temp_mermaid.mmd', '-o', '../data/tqa_train_val_test/train/svg_v2/mermaid_output_L_0793.svg', '-t', 'forest']' returned non-zero exit status 1.\n",
      "\n",
      "Generating single mermaid chart\n"
     ]
    },
    {
     "name": "stderr",
     "output_type": "stream",
     "text": [
      "Processing entries:  71%|█████████████████████████████████████████████████████████████████████████████████████████████████████████████████████████████████████████████████████████▊                                                                | 470/666 [34:55<11:19,  3.47s/it]"
     ]
    },
    {
     "name": "stdout",
     "output_type": "stream",
     "text": [
      "Generating single mermaid chart\n"
     ]
    },
    {
     "name": "stderr",
     "output_type": "stream",
     "text": [
      "Processing entries:  71%|██████████████████████████████████████████████████████████████████████████████████████████████████████████████████████████████████████████████████████████▏                                                               | 471/666 [34:59<11:53,  3.66s/it]"
     ]
    },
    {
     "name": "stdout",
     "output_type": "stream",
     "text": [
      "Generating single mermaid chart\n"
     ]
    },
    {
     "name": "stderr",
     "output_type": "stream",
     "text": [
      "Processing entries:  71%|██████████████████████████████████████████████████████████████████████████████████████████████████████████████████████████████████████████████████████████▍                                                               | 472/666 [35:03<12:07,  3.75s/it]"
     ]
    },
    {
     "name": "stdout",
     "output_type": "stream",
     "text": [
      "Generating single mermaid chart\n"
     ]
    },
    {
     "name": "stderr",
     "output_type": "stream",
     "text": [
      "Processing entries:  71%|██████████████████████████████████████████████████████████████████████████████████████████████████████████████████████████████████████████████████████████▊                                                               | 473/666 [35:06<11:16,  3.50s/it]"
     ]
    },
    {
     "name": "stdout",
     "output_type": "stream",
     "text": [
      "Generating single mermaid chart\n"
     ]
    },
    {
     "name": "stderr",
     "output_type": "stream",
     "text": [
      "Processing entries:  71%|███████████████████████████████████████████████████████████████████████████████████████████████████████████████████████████████████████████████████████████▏                                                              | 474/666 [35:09<11:03,  3.46s/it]"
     ]
    },
    {
     "name": "stdout",
     "output_type": "stream",
     "text": [
      "Generating single mermaid chart\n"
     ]
    },
    {
     "name": "stderr",
     "output_type": "stream",
     "text": [
      "Processing entries:  71%|███████████████████████████████████████████████████████████████████████████████████████████████████████████████████████████████████████████████████████████▍                                                              | 475/666 [35:13<11:11,  3.52s/it]"
     ]
    },
    {
     "name": "stdout",
     "output_type": "stream",
     "text": [
      "Generating single mermaid chart\n"
     ]
    },
    {
     "name": "stderr",
     "output_type": "stream",
     "text": [
      "\u001b[31m\u001b[39m\n",
      "\u001b[31mError: Parse error on line 7:\u001b[39m\n",
      "\u001b[31m...cles: electrons (-1), protons (+1)    s\u001b[39m\n",
      "\u001b[31m-----------------------^\u001b[39m\n",
      "\u001b[31mExpecting 'SPACELINE', 'NL', 'EOF', got 'NODE_ID'\u001b[39m\n",
      "\u001b[31mParser3.parseError (/home/siva/.nvm/versions/node/v22.14.0/lib/node_modules/@mermaid-js/mermaid-cli/node_modules/mermaid/dist/mermaid.js:99004:28)\u001b[39m\n",
      "\u001b[31m    at #evaluate (file:///home/siva/.nvm/versions/node/v22.14.0/lib/node_modules/@mermaid-js/mermaid-cli/node_modules/puppeteer-core/lib/esm/puppeteer/cdp/ExecutionContext.js:388:19)\u001b[39m\n",
      "\u001b[31m    at async ExecutionContext.evaluate (file:///home/siva/.nvm/versions/node/v22.14.0/lib/node_modules/@mermaid-js/mermaid-cli/node_modules/puppeteer-core/lib/esm/puppeteer/cdp/ExecutionContext.js:275:16)\u001b[39m\n",
      "\u001b[31m    at async IsolatedWorld.evaluate (file:///home/siva/.nvm/versions/node/v22.14.0/lib/node_modules/@mermaid-js/mermaid-cli/node_modules/puppeteer-core/lib/esm/puppeteer/cdp/IsolatedWorld.js:97:16)\u001b[39m\n",
      "\u001b[31m    at async CdpJSHandle.evaluate (file:///home/siva/.nvm/versions/node/v22.14.0/lib/node_modules/@mermaid-js/mermaid-cli/node_modules/puppeteer-core/lib/esm/puppeteer/api/JSHandle.js:146:20)\u001b[39m\n",
      "\u001b[31m    at async CdpElementHandle.evaluate (file:///home/siva/.nvm/versions/node/v22.14.0/lib/node_modules/@mermaid-js/mermaid-cli/node_modules/puppeteer-core/lib/esm/puppeteer/api/ElementHandle.js:340:20)\u001b[39m\n",
      "\u001b[31m    at async CdpElementHandle.$eval (file:///home/siva/.nvm/versions/node/v22.14.0/lib/node_modules/@mermaid-js/mermaid-cli/node_modules/puppeteer-core/lib/esm/puppeteer/api/ElementHandle.js:494:24)\u001b[39m\n",
      "\u001b[31m    at async CdpFrame.$eval (file:///home/siva/.nvm/versions/node/v22.14.0/lib/node_modules/@mermaid-js/mermaid-cli/node_modules/puppeteer-core/lib/esm/puppeteer/api/Frame.js:450:20)\u001b[39m\n",
      "\u001b[31m    at async CdpPage.$eval (file:///home/siva/.nvm/versions/node/v22.14.0/lib/node_modules/@mermaid-js/mermaid-cli/node_modules/puppeteer-core/lib/esm/puppeteer/api/Page.js:450:20)\u001b[39m\n",
      "\u001b[31m    at async renderMermaid (file:///home/siva/.nvm/versions/node/v22.14.0/lib/node_modules/@mermaid-js/mermaid-cli/src/index.js:252:22)\u001b[39m\n",
      "\u001b[31m    at fromText (/home/siva/.nvm/versions/node/v22.14.0/lib/node_modules/@mermaid-js/mermaid-cli/node_modules/mermaid/dist/mermaid.js:151117:21)\u001b[39m\n",
      "\u001b[31m\u001b[39m\n",
      "Processing entries:  71%|███████████████████████████████████████████████████████████████████████████████████████████████████████████████████████████████████████████████████████████▊                                                              | 476/666 [35:16<10:39,  3.36s/it]"
     ]
    },
    {
     "name": "stdout",
     "output_type": "stream",
     "text": [
      "Error processing entry 475 (ID: L_0802): Command '['mmdc', '-i', 'temp_mermaid.mmd', '-o', '../data/tqa_train_val_test/train/svg_v2/mermaid_output_L_0802.svg', '-t', 'forest']' returned non-zero exit status 1.\n",
      "\n",
      "Generating single mermaid chart\n"
     ]
    },
    {
     "name": "stderr",
     "output_type": "stream",
     "text": [
      "Processing entries:  72%|████████████████████████████████████████████████████████████████████████████████████████████████████████████████████████████████████████████████████████████▏                                                             | 477/666 [35:19<10:16,  3.26s/it]"
     ]
    },
    {
     "name": "stdout",
     "output_type": "stream",
     "text": [
      "Generating single mermaid chart\n"
     ]
    },
    {
     "name": "stderr",
     "output_type": "stream",
     "text": [
      "Processing entries:  72%|████████████████████████████████████████████████████████████████████████████████████████████████████████████████████████████████████████████████████████████▍                                                             | 478/666 [35:23<10:45,  3.43s/it]"
     ]
    },
    {
     "name": "stdout",
     "output_type": "stream",
     "text": [
      "Generating single mermaid chart\n"
     ]
    },
    {
     "name": "stderr",
     "output_type": "stream",
     "text": [
      "Processing entries:  72%|████████████████████████████████████████████████████████████████████████████████████████████████████████████████████████████████████████████████████████████▊                                                             | 479/666 [35:27<11:53,  3.81s/it]"
     ]
    },
    {
     "name": "stdout",
     "output_type": "stream",
     "text": [
      "Generating single mermaid chart\n"
     ]
    },
    {
     "name": "stderr",
     "output_type": "stream",
     "text": [
      "Processing entries:  72%|█████████████████████████████████████████████████████████████████████████████████████████████████████████████████████████████████████████████████████████████                                                             | 480/666 [35:31<12:03,  3.89s/it]"
     ]
    },
    {
     "name": "stdout",
     "output_type": "stream",
     "text": [
      "Generating single mermaid chart\n"
     ]
    },
    {
     "name": "stderr",
     "output_type": "stream",
     "text": [
      "Processing entries:  72%|█████████████████████████████████████████████████████████████████████████████████████████████████████████████████████████████████████████████████████████████▍                                                            | 481/666 [35:36<12:42,  4.12s/it]"
     ]
    },
    {
     "name": "stdout",
     "output_type": "stream",
     "text": [
      "Generating single mermaid chart\n"
     ]
    },
    {
     "name": "stderr",
     "output_type": "stream",
     "text": [
      "Processing entries:  72%|█████████████████████████████████████████████████████████████████████████████████████████████████████████████████████████████████████████████████████████████▊                                                            | 482/666 [35:40<12:43,  4.15s/it]"
     ]
    },
    {
     "name": "stdout",
     "output_type": "stream",
     "text": [
      "Generating single mermaid chart\n"
     ]
    },
    {
     "name": "stderr",
     "output_type": "stream",
     "text": [
      "Processing entries:  73%|██████████████████████████████████████████████████████████████████████████████████████████████████████████████████████████████████████████████████████████████                                                            | 483/666 [35:44<12:01,  3.95s/it]"
     ]
    },
    {
     "name": "stdout",
     "output_type": "stream",
     "text": [
      "Generating single mermaid chart\n"
     ]
    },
    {
     "name": "stderr",
     "output_type": "stream",
     "text": [
      "Processing entries:  73%|██████████████████████████████████████████████████████████████████████████████████████████████████████████████████████████████████████████████████████████████▍                                                           | 484/666 [35:47<11:28,  3.78s/it]"
     ]
    },
    {
     "name": "stdout",
     "output_type": "stream",
     "text": [
      "Generating single mermaid chart\n"
     ]
    },
    {
     "name": "stderr",
     "output_type": "stream",
     "text": [
      "Processing entries:  73%|██████████████████████████████████████████████████████████████████████████████████████████████████████████████████████████████████████████████████████████████▊                                                           | 485/666 [35:51<11:35,  3.84s/it]"
     ]
    },
    {
     "name": "stdout",
     "output_type": "stream",
     "text": [
      "Generating single mermaid chart\n"
     ]
    },
    {
     "name": "stderr",
     "output_type": "stream",
     "text": [
      "Processing entries:  73%|███████████████████████████████████████████████████████████████████████████████████████████████████████████████████████████████████████████████████████████████                                                           | 486/666 [35:55<11:19,  3.77s/it]"
     ]
    },
    {
     "name": "stdout",
     "output_type": "stream",
     "text": [
      "Generating single mermaid chart\n"
     ]
    },
    {
     "name": "stderr",
     "output_type": "stream",
     "text": [
      "\u001b[31m\u001b[39m\n",
      "\u001b[31mError: Parse error on line 12:\u001b[39m\n",
      "\u001b[31m...ion: (7 m/s - 4 m/s) / 5 s = 0.6 m/s2  \u001b[39m\n",
      "\u001b[31m-----------------------^\u001b[39m\n",
      "\u001b[31mExpecting 'SPACELINE', 'NL', 'EOF', got 'SPACELIST'\u001b[39m\n",
      "\u001b[31mParser3.parseError (/home/siva/.nvm/versions/node/v22.14.0/lib/node_modules/@mermaid-js/mermaid-cli/node_modules/mermaid/dist/mermaid.js:99004:28)\u001b[39m\n",
      "\u001b[31m    at #evaluate (file:///home/siva/.nvm/versions/node/v22.14.0/lib/node_modules/@mermaid-js/mermaid-cli/node_modules/puppeteer-core/lib/esm/puppeteer/cdp/ExecutionContext.js:388:19)\u001b[39m\n",
      "\u001b[31m    at async ExecutionContext.evaluate (file:///home/siva/.nvm/versions/node/v22.14.0/lib/node_modules/@mermaid-js/mermaid-cli/node_modules/puppeteer-core/lib/esm/puppeteer/cdp/ExecutionContext.js:275:16)\u001b[39m\n",
      "\u001b[31m    at async IsolatedWorld.evaluate (file:///home/siva/.nvm/versions/node/v22.14.0/lib/node_modules/@mermaid-js/mermaid-cli/node_modules/puppeteer-core/lib/esm/puppeteer/cdp/IsolatedWorld.js:97:16)\u001b[39m\n",
      "\u001b[31m    at async CdpJSHandle.evaluate (file:///home/siva/.nvm/versions/node/v22.14.0/lib/node_modules/@mermaid-js/mermaid-cli/node_modules/puppeteer-core/lib/esm/puppeteer/api/JSHandle.js:146:20)\u001b[39m\n",
      "\u001b[31m    at async CdpElementHandle.evaluate (file:///home/siva/.nvm/versions/node/v22.14.0/lib/node_modules/@mermaid-js/mermaid-cli/node_modules/puppeteer-core/lib/esm/puppeteer/api/ElementHandle.js:340:20)\u001b[39m\n",
      "\u001b[31m    at async CdpElementHandle.$eval (file:///home/siva/.nvm/versions/node/v22.14.0/lib/node_modules/@mermaid-js/mermaid-cli/node_modules/puppeteer-core/lib/esm/puppeteer/api/ElementHandle.js:494:24)\u001b[39m\n",
      "\u001b[31m    at async CdpFrame.$eval (file:///home/siva/.nvm/versions/node/v22.14.0/lib/node_modules/@mermaid-js/mermaid-cli/node_modules/puppeteer-core/lib/esm/puppeteer/api/Frame.js:450:20)\u001b[39m\n",
      "\u001b[31m    at async CdpPage.$eval (file:///home/siva/.nvm/versions/node/v22.14.0/lib/node_modules/@mermaid-js/mermaid-cli/node_modules/puppeteer-core/lib/esm/puppeteer/api/Page.js:450:20)\u001b[39m\n",
      "\u001b[31m    at async renderMermaid (file:///home/siva/.nvm/versions/node/v22.14.0/lib/node_modules/@mermaid-js/mermaid-cli/src/index.js:252:22)\u001b[39m\n",
      "\u001b[31m    at fromText (/home/siva/.nvm/versions/node/v22.14.0/lib/node_modules/@mermaid-js/mermaid-cli/node_modules/mermaid/dist/mermaid.js:151117:21)\u001b[39m\n",
      "\u001b[31m\u001b[39m\n",
      "Processing entries:  73%|███████████████████████████████████████████████████████████████████████████████████████████████████████████████████████████████████████████████████████████████▍                                                          | 487/666 [35:59<11:32,  3.87s/it]"
     ]
    },
    {
     "name": "stdout",
     "output_type": "stream",
     "text": [
      "Error processing entry 486 (ID: L_0817): Command '['mmdc', '-i', 'temp_mermaid.mmd', '-o', '../data/tqa_train_val_test/train/svg_v2/mermaid_output_L_0817.svg', '-t', 'forest']' returned non-zero exit status 1.\n",
      "\n",
      "Generating single mermaid chart\n"
     ]
    },
    {
     "name": "stderr",
     "output_type": "stream",
     "text": [
      "Processing entries:  73%|███████████████████████████████████████████████████████████████████████████████████████████████████████████████████████████████████████████████████████████████▋                                                          | 488/666 [36:04<12:21,  4.17s/it]"
     ]
    },
    {
     "name": "stdout",
     "output_type": "stream",
     "text": [
      "Generating single mermaid chart\n"
     ]
    },
    {
     "name": "stderr",
     "output_type": "stream",
     "text": [
      "Processing entries:  73%|████████████████████████████████████████████████████████████████████████████████████████████████████████████████████████████████████████████████████████████████                                                          | 489/666 [36:07<11:55,  4.04s/it]"
     ]
    },
    {
     "name": "stdout",
     "output_type": "stream",
     "text": [
      "Generating single mermaid chart\n"
     ]
    },
    {
     "name": "stderr",
     "output_type": "stream",
     "text": [
      "Processing entries:  74%|████████████████████████████████████████████████████████████████████████████████████████████████████████████████████████████████████████████████████████████████▍                                                         | 490/666 [36:10<10:50,  3.70s/it]"
     ]
    },
    {
     "name": "stdout",
     "output_type": "stream",
     "text": [
      "Generating single mermaid chart\n"
     ]
    },
    {
     "name": "stderr",
     "output_type": "stream",
     "text": [
      "Processing entries:  74%|████████████████████████████████████████████████████████████████████████████████████████████████████████████████████████████████████████████████████████████████▋                                                         | 491/666 [36:14<11:10,  3.83s/it]"
     ]
    },
    {
     "name": "stdout",
     "output_type": "stream",
     "text": [
      "Generating single mermaid chart\n"
     ]
    },
    {
     "name": "stderr",
     "output_type": "stream",
     "text": [
      "Processing entries:  74%|█████████████████████████████████████████████████████████████████████████████████████████████████████████████████████████████████████████████████████████████████                                                         | 492/666 [36:18<10:34,  3.65s/it]"
     ]
    },
    {
     "name": "stdout",
     "output_type": "stream",
     "text": [
      "Generating single mermaid chart\n"
     ]
    },
    {
     "name": "stderr",
     "output_type": "stream",
     "text": [
      "Processing entries:  74%|█████████████████████████████████████████████████████████████████████████████████████████████████████████████████████████████████████████████████████████████████▎                                                        | 493/666 [36:22<10:47,  3.74s/it]"
     ]
    },
    {
     "name": "stdout",
     "output_type": "stream",
     "text": [
      "Generating single mermaid chart\n"
     ]
    },
    {
     "name": "stderr",
     "output_type": "stream",
     "text": [
      "Processing entries:  74%|█████████████████████████████████████████████████████████████████████████████████████████████████████████████████████████████████████████████████████████████████▋                                                        | 494/666 [36:26<11:14,  3.92s/it]"
     ]
    },
    {
     "name": "stdout",
     "output_type": "stream",
     "text": [
      "Generating single mermaid chart\n"
     ]
    },
    {
     "name": "stderr",
     "output_type": "stream",
     "text": [
      "Processing entries:  74%|██████████████████████████████████████████████████████████████████████████████████████████████████████████████████████████████████████████████████████████████████                                                        | 495/666 [36:31<12:16,  4.31s/it]"
     ]
    },
    {
     "name": "stdout",
     "output_type": "stream",
     "text": [
      "Generating single mermaid chart\n"
     ]
    },
    {
     "name": "stderr",
     "output_type": "stream",
     "text": [
      "Processing entries:  74%|██████████████████████████████████████████████████████████████████████████████████████████████████████████████████████████████████████████████████████████████████▎                                                       | 496/666 [36:37<13:29,  4.76s/it]"
     ]
    },
    {
     "name": "stdout",
     "output_type": "stream",
     "text": [
      "Generating single mermaid chart\n"
     ]
    },
    {
     "name": "stderr",
     "output_type": "stream",
     "text": [
      "Processing entries:  75%|██████████████████████████████████████████████████████████████████████████████████████████████████████████████████████████████████████████████████████████████████▋                                                       | 497/666 [36:41<12:34,  4.46s/it]"
     ]
    },
    {
     "name": "stdout",
     "output_type": "stream",
     "text": [
      "Generating single mermaid chart\n"
     ]
    },
    {
     "name": "stderr",
     "output_type": "stream",
     "text": [
      "Processing entries:  75%|███████████████████████████████████████████████████████████████████████████████████████████████████████████████████████████████████████████████████████████████████                                                       | 498/666 [36:44<11:34,  4.14s/it]"
     ]
    },
    {
     "name": "stdout",
     "output_type": "stream",
     "text": [
      "Generating single mermaid chart\n"
     ]
    },
    {
     "name": "stderr",
     "output_type": "stream",
     "text": [
      "Processing entries:  75%|███████████████████████████████████████████████████████████████████████████████████████████████████████████████████████████████████████████████████████████████████▎                                                      | 499/666 [36:50<12:37,  4.54s/it]"
     ]
    },
    {
     "name": "stdout",
     "output_type": "stream",
     "text": [
      "Generating single mermaid chart\n"
     ]
    },
    {
     "name": "stderr",
     "output_type": "stream",
     "text": [
      "Processing entries:  75%|███████████████████████████████████████████████████████████████████████████████████████████████████████████████████████████████████████████████████████████████████▋                                                      | 500/666 [36:54<12:30,  4.52s/it]"
     ]
    },
    {
     "name": "stdout",
     "output_type": "stream",
     "text": [
      "Generating single mermaid chart\n"
     ]
    },
    {
     "name": "stderr",
     "output_type": "stream",
     "text": [
      "Processing entries:  75%|███████████████████████████████████████████████████████████████████████████████████████████████████████████████████████████████████████████████████████████████████▉                                                      | 501/666 [36:58<12:08,  4.42s/it]"
     ]
    },
    {
     "name": "stdout",
     "output_type": "stream",
     "text": [
      "Generating single mermaid chart\n"
     ]
    },
    {
     "name": "stderr",
     "output_type": "stream",
     "text": [
      "Processing entries:  75%|████████████████████████████████████████████████████████████████████████████████████████████████████████████████████████████████████████████████████████████████████▎                                                     | 502/666 [37:01<11:04,  4.05s/it]"
     ]
    },
    {
     "name": "stdout",
     "output_type": "stream",
     "text": [
      "Generating single mermaid chart\n"
     ]
    },
    {
     "name": "stderr",
     "output_type": "stream",
     "text": [
      "Processing entries:  76%|████████████████████████████████████████████████████████████████████████████████████████████████████████████████████████████████████████████████████████████████████▋                                                     | 503/666 [37:07<12:07,  4.47s/it]"
     ]
    },
    {
     "name": "stdout",
     "output_type": "stream",
     "text": [
      "Generating single mermaid chart\n"
     ]
    },
    {
     "name": "stderr",
     "output_type": "stream",
     "text": [
      "Processing entries:  76%|████████████████████████████████████████████████████████████████████████████████████████████████████████████████████████████████████████████████████████████████████▉                                                     | 504/666 [37:10<10:51,  4.02s/it]"
     ]
    },
    {
     "name": "stdout",
     "output_type": "stream",
     "text": [
      "Generating single mermaid chart\n"
     ]
    },
    {
     "name": "stderr",
     "output_type": "stream",
     "text": [
      "Processing entries:  76%|█████████████████████████████████████████████████████████████████████████████████████████████████████████████████████████████████████████████████████████████████████▎                                                    | 505/666 [37:15<11:35,  4.32s/it]"
     ]
    },
    {
     "name": "stdout",
     "output_type": "stream",
     "text": [
      "Generating single mermaid chart\n"
     ]
    },
    {
     "name": "stderr",
     "output_type": "stream",
     "text": [
      "Processing entries:  76%|█████████████████████████████████████████████████████████████████████████████████████████████████████████████████████████████████████████████████████████████████████▋                                                    | 506/666 [37:19<11:10,  4.19s/it]"
     ]
    },
    {
     "name": "stdout",
     "output_type": "stream",
     "text": [
      "Generating single mermaid chart\n"
     ]
    },
    {
     "name": "stderr",
     "output_type": "stream",
     "text": [
      "Processing entries:  76%|█████████████████████████████████████████████████████████████████████████████████████████████████████████████████████████████████████████████████████████████████████▉                                                    | 507/666 [37:23<11:07,  4.20s/it]"
     ]
    },
    {
     "name": "stdout",
     "output_type": "stream",
     "text": [
      "Generating single mermaid chart\n"
     ]
    },
    {
     "name": "stderr",
     "output_type": "stream",
     "text": [
      "Processing entries:  76%|██████████████████████████████████████████████████████████████████████████████████████████████████████████████████████████████████████████████████████████████████████▎                                                   | 508/666 [37:27<10:40,  4.06s/it]"
     ]
    },
    {
     "name": "stdout",
     "output_type": "stream",
     "text": [
      "Generating single mermaid chart\n"
     ]
    },
    {
     "name": "stderr",
     "output_type": "stream",
     "text": [
      "Processing entries:  76%|██████████████████████████████████████████████████████████████████████████████████████████████████████████████████████████████████████████████████████████████████████▌                                                   | 509/666 [37:31<10:48,  4.13s/it]"
     ]
    },
    {
     "name": "stdout",
     "output_type": "stream",
     "text": [
      "Generating single mermaid chart\n"
     ]
    },
    {
     "name": "stderr",
     "output_type": "stream",
     "text": [
      "Processing entries:  77%|██████████████████████████████████████████████████████████████████████████████████████████████████████████████████████████████████████████████████████████████████████▉                                                   | 510/666 [37:36<11:04,  4.26s/it]"
     ]
    },
    {
     "name": "stdout",
     "output_type": "stream",
     "text": [
      "Generating single mermaid chart\n"
     ]
    },
    {
     "name": "stderr",
     "output_type": "stream",
     "text": [
      "Processing entries:  77%|███████████████████████████████████████████████████████████████████████████████████████████████████████████████████████████████████████████████████████████████████████▎                                                  | 511/666 [37:39<10:32,  4.08s/it]"
     ]
    },
    {
     "name": "stdout",
     "output_type": "stream",
     "text": [
      "Generating single mermaid chart\n"
     ]
    },
    {
     "name": "stderr",
     "output_type": "stream",
     "text": [
      "Processing entries:  77%|███████████████████████████████████████████████████████████████████████████████████████████████████████████████████████████████████████████████████████████████████████▌                                                  | 512/666 [37:43<10:10,  3.96s/it]"
     ]
    },
    {
     "name": "stdout",
     "output_type": "stream",
     "text": [
      "Generating single mermaid chart\n"
     ]
    },
    {
     "name": "stderr",
     "output_type": "stream",
     "text": [
      "Processing entries:  77%|███████████████████████████████████████████████████████████████████████████████████████████████████████████████████████████████████████████████████████████████████████▉                                                  | 513/666 [37:46<09:44,  3.82s/it]"
     ]
    },
    {
     "name": "stdout",
     "output_type": "stream",
     "text": [
      "Generating single mermaid chart\n"
     ]
    },
    {
     "name": "stderr",
     "output_type": "stream",
     "text": [
      "Processing entries:  77%|████████████████████████████████████████████████████████████████████████████████████████████████████████████████████████████████████████████████████████████████████████▏                                                 | 514/666 [37:51<10:14,  4.04s/it]"
     ]
    },
    {
     "name": "stdout",
     "output_type": "stream",
     "text": [
      "Generating single mermaid chart\n"
     ]
    },
    {
     "name": "stderr",
     "output_type": "stream",
     "text": [
      "Processing entries:  77%|████████████████████████████████████████████████████████████████████████████████████████████████████████████████████████████████████████████████████████████████████████▌                                                 | 515/666 [37:57<11:39,  4.63s/it]"
     ]
    },
    {
     "name": "stdout",
     "output_type": "stream",
     "text": [
      "Generating single mermaid chart\n"
     ]
    },
    {
     "name": "stderr",
     "output_type": "stream",
     "text": [
      "Processing entries:  77%|████████████████████████████████████████████████████████████████████████████████████████████████████████████████████████████████████████████████████████████████████████▉                                                 | 516/666 [38:00<10:15,  4.10s/it]"
     ]
    },
    {
     "name": "stdout",
     "output_type": "stream",
     "text": [
      "Generating single mermaid chart\n"
     ]
    },
    {
     "name": "stderr",
     "output_type": "stream",
     "text": [
      "Processing entries:  78%|█████████████████████████████████████████████████████████████████████████████████████████████████████████████████████████████████████████████████████████████████████████▏                                                | 517/666 [38:03<09:51,  3.97s/it]"
     ]
    },
    {
     "name": "stdout",
     "output_type": "stream",
     "text": [
      "Generating single mermaid chart\n"
     ]
    },
    {
     "name": "stderr",
     "output_type": "stream",
     "text": [
      "Processing entries:  78%|█████████████████████████████████████████████████████████████████████████████████████████████████████████████████████████████████████████████████████████████████████████▌                                                | 518/666 [38:07<09:08,  3.71s/it]"
     ]
    },
    {
     "name": "stdout",
     "output_type": "stream",
     "text": [
      "Generating single mermaid chart\n"
     ]
    },
    {
     "name": "stderr",
     "output_type": "stream",
     "text": [
      "Processing entries:  78%|█████████████████████████████████████████████████████████████████████████████████████████████████████████████████████████████████████████████████████████████████████████▉                                                | 519/666 [38:10<08:48,  3.60s/it]"
     ]
    },
    {
     "name": "stdout",
     "output_type": "stream",
     "text": [
      "Generating single mermaid chart\n"
     ]
    },
    {
     "name": "stderr",
     "output_type": "stream",
     "text": [
      "Processing entries:  78%|██████████████████████████████████████████████████████████████████████████████████████████████████████████████████████████████████████████████████████████████████████████▏                                               | 520/666 [38:13<08:19,  3.42s/it]"
     ]
    },
    {
     "name": "stdout",
     "output_type": "stream",
     "text": [
      "Generating single mermaid chart\n"
     ]
    },
    {
     "name": "stderr",
     "output_type": "stream",
     "text": [
      "\u001b[31m\u001b[39m\n",
      "\u001b[31mError: Parse error on line 10:\u001b[39m\n",
      "\u001b[31m...y = (Output / Input) x 100%      Exampl\u001b[39m\n",
      "\u001b[31m-----------------------^\u001b[39m\n",
      "\u001b[31mExpecting 'SPACELINE', 'NL', 'EOF', got 'SPACELIST'\u001b[39m\n",
      "\u001b[31mParser3.parseError (/home/siva/.nvm/versions/node/v22.14.0/lib/node_modules/@mermaid-js/mermaid-cli/node_modules/mermaid/dist/mermaid.js:99004:28)\u001b[39m\n",
      "\u001b[31m    at #evaluate (file:///home/siva/.nvm/versions/node/v22.14.0/lib/node_modules/@mermaid-js/mermaid-cli/node_modules/puppeteer-core/lib/esm/puppeteer/cdp/ExecutionContext.js:388:19)\u001b[39m\n",
      "\u001b[31m    at async ExecutionContext.evaluate (file:///home/siva/.nvm/versions/node/v22.14.0/lib/node_modules/@mermaid-js/mermaid-cli/node_modules/puppeteer-core/lib/esm/puppeteer/cdp/ExecutionContext.js:275:16)\u001b[39m\n",
      "\u001b[31m    at async IsolatedWorld.evaluate (file:///home/siva/.nvm/versions/node/v22.14.0/lib/node_modules/@mermaid-js/mermaid-cli/node_modules/puppeteer-core/lib/esm/puppeteer/cdp/IsolatedWorld.js:97:16)\u001b[39m\n",
      "\u001b[31m    at async CdpJSHandle.evaluate (file:///home/siva/.nvm/versions/node/v22.14.0/lib/node_modules/@mermaid-js/mermaid-cli/node_modules/puppeteer-core/lib/esm/puppeteer/api/JSHandle.js:146:20)\u001b[39m\n",
      "\u001b[31m    at async CdpElementHandle.evaluate (file:///home/siva/.nvm/versions/node/v22.14.0/lib/node_modules/@mermaid-js/mermaid-cli/node_modules/puppeteer-core/lib/esm/puppeteer/api/ElementHandle.js:340:20)\u001b[39m\n",
      "\u001b[31m    at async CdpElementHandle.$eval (file:///home/siva/.nvm/versions/node/v22.14.0/lib/node_modules/@mermaid-js/mermaid-cli/node_modules/puppeteer-core/lib/esm/puppeteer/api/ElementHandle.js:494:24)\u001b[39m\n",
      "\u001b[31m    at async CdpFrame.$eval (file:///home/siva/.nvm/versions/node/v22.14.0/lib/node_modules/@mermaid-js/mermaid-cli/node_modules/puppeteer-core/lib/esm/puppeteer/api/Frame.js:450:20)\u001b[39m\n",
      "\u001b[31m    at async CdpPage.$eval (file:///home/siva/.nvm/versions/node/v22.14.0/lib/node_modules/@mermaid-js/mermaid-cli/node_modules/puppeteer-core/lib/esm/puppeteer/api/Page.js:450:20)\u001b[39m\n",
      "\u001b[31m    at async renderMermaid (file:///home/siva/.nvm/versions/node/v22.14.0/lib/node_modules/@mermaid-js/mermaid-cli/src/index.js:252:22)\u001b[39m\n",
      "\u001b[31m    at fromText (/home/siva/.nvm/versions/node/v22.14.0/lib/node_modules/@mermaid-js/mermaid-cli/node_modules/mermaid/dist/mermaid.js:151117:21)\u001b[39m\n",
      "\u001b[31m\u001b[39m\n",
      "Processing entries:  78%|██████████████████████████████████████████████████████████████████████████████████████████████████████████████████████████████████████████████████████████████████████████▌                                               | 521/666 [38:17<08:27,  3.50s/it]"
     ]
    },
    {
     "name": "stdout",
     "output_type": "stream",
     "text": [
      "Error processing entry 520 (ID: L_0864): Command '['mmdc', '-i', 'temp_mermaid.mmd', '-o', '../data/tqa_train_val_test/train/svg_v2/mermaid_output_L_0864.svg', '-t', 'forest']' returned non-zero exit status 1.\n",
      "\n",
      "Generating single mermaid chart\n"
     ]
    },
    {
     "name": "stderr",
     "output_type": "stream",
     "text": [
      "Processing entries:  78%|██████████████████████████████████████████████████████████████████████████████████████████████████████████████████████████████████████████████████████████████████████████▊                                               | 522/666 [38:21<08:42,  3.63s/it]"
     ]
    },
    {
     "name": "stdout",
     "output_type": "stream",
     "text": [
      "Generating single mermaid chart\n"
     ]
    },
    {
     "name": "stderr",
     "output_type": "stream",
     "text": [
      "Processing entries:  79%|███████████████████████████████████████████████████████████████████████████████████████████████████████████████████████████████████████████████████████████████████████████▏                                              | 523/666 [38:24<08:28,  3.55s/it]"
     ]
    },
    {
     "name": "stdout",
     "output_type": "stream",
     "text": [
      "Generating single mermaid chart\n"
     ]
    },
    {
     "name": "stderr",
     "output_type": "stream",
     "text": [
      "Processing entries:  79%|███████████████████████████████████████████████████████████████████████████████████████████████████████████████████████████████████████████████████████████████████████████▌                                              | 524/666 [38:28<08:48,  3.72s/it]"
     ]
    },
    {
     "name": "stdout",
     "output_type": "stream",
     "text": [
      "Generating single mermaid chart\n"
     ]
    },
    {
     "name": "stderr",
     "output_type": "stream",
     "text": [
      "Processing entries:  79%|███████████████████████████████████████████████████████████████████████████████████████████████████████████████████████████████████████████████████████████████████████████▊                                              | 525/666 [38:31<08:22,  3.57s/it]"
     ]
    },
    {
     "name": "stdout",
     "output_type": "stream",
     "text": [
      "Generating single mermaid chart\n"
     ]
    },
    {
     "name": "stderr",
     "output_type": "stream",
     "text": [
      "Processing entries:  79%|████████████████████████████████████████████████████████████████████████████████████████████████████████████████████████████████████████████████████████████████████████████▏                                             | 526/666 [38:34<07:58,  3.42s/it]"
     ]
    },
    {
     "name": "stdout",
     "output_type": "stream",
     "text": [
      "Generating single mermaid chart\n"
     ]
    },
    {
     "name": "stderr",
     "output_type": "stream",
     "text": [
      "\u001b[31m\u001b[39m\n",
      "\u001b[31mError: Parse error on line 18:\u001b[39m\n",
      "\u001b[31m...orbitals (spherical), P orbitals (dumbbe\u001b[39m\n",
      "\u001b[31m-----------------------^\u001b[39m\n",
      "\u001b[31mExpecting 'SPACELINE', 'NL', 'EOF', got 'NODE_ID'\u001b[39m\n",
      "\u001b[31mParser3.parseError (/home/siva/.nvm/versions/node/v22.14.0/lib/node_modules/@mermaid-js/mermaid-cli/node_modules/mermaid/dist/mermaid.js:99004:28)\u001b[39m\n",
      "\u001b[31m    at #evaluate (file:///home/siva/.nvm/versions/node/v22.14.0/lib/node_modules/@mermaid-js/mermaid-cli/node_modules/puppeteer-core/lib/esm/puppeteer/cdp/ExecutionContext.js:388:19)\u001b[39m\n",
      "\u001b[31m    at async ExecutionContext.evaluate (file:///home/siva/.nvm/versions/node/v22.14.0/lib/node_modules/@mermaid-js/mermaid-cli/node_modules/puppeteer-core/lib/esm/puppeteer/cdp/ExecutionContext.js:275:16)\u001b[39m\n",
      "\u001b[31m    at async IsolatedWorld.evaluate (file:///home/siva/.nvm/versions/node/v22.14.0/lib/node_modules/@mermaid-js/mermaid-cli/node_modules/puppeteer-core/lib/esm/puppeteer/cdp/IsolatedWorld.js:97:16)\u001b[39m\n",
      "\u001b[31m    at async CdpJSHandle.evaluate (file:///home/siva/.nvm/versions/node/v22.14.0/lib/node_modules/@mermaid-js/mermaid-cli/node_modules/puppeteer-core/lib/esm/puppeteer/api/JSHandle.js:146:20)\u001b[39m\n",
      "\u001b[31m    at async CdpElementHandle.evaluate (file:///home/siva/.nvm/versions/node/v22.14.0/lib/node_modules/@mermaid-js/mermaid-cli/node_modules/puppeteer-core/lib/esm/puppeteer/api/ElementHandle.js:340:20)\u001b[39m\n",
      "\u001b[31m    at async CdpElementHandle.$eval (file:///home/siva/.nvm/versions/node/v22.14.0/lib/node_modules/@mermaid-js/mermaid-cli/node_modules/puppeteer-core/lib/esm/puppeteer/api/ElementHandle.js:494:24)\u001b[39m\n",
      "\u001b[31m    at async CdpFrame.$eval (file:///home/siva/.nvm/versions/node/v22.14.0/lib/node_modules/@mermaid-js/mermaid-cli/node_modules/puppeteer-core/lib/esm/puppeteer/api/Frame.js:450:20)\u001b[39m\n",
      "\u001b[31m    at async CdpPage.$eval (file:///home/siva/.nvm/versions/node/v22.14.0/lib/node_modules/@mermaid-js/mermaid-cli/node_modules/puppeteer-core/lib/esm/puppeteer/api/Page.js:450:20)\u001b[39m\n",
      "\u001b[31m    at async renderMermaid (file:///home/siva/.nvm/versions/node/v22.14.0/lib/node_modules/@mermaid-js/mermaid-cli/src/index.js:252:22)\u001b[39m\n",
      "\u001b[31m    at fromText (/home/siva/.nvm/versions/node/v22.14.0/lib/node_modules/@mermaid-js/mermaid-cli/node_modules/mermaid/dist/mermaid.js:151117:21)\u001b[39m\n",
      "\u001b[31m\u001b[39m\n",
      "Processing entries:  79%|████████████████████████████████████████████████████████████████████████████████████████████████████████████████████████████████████████████████████████████████████████████▌                                             | 527/666 [38:40<09:22,  4.05s/it]"
     ]
    },
    {
     "name": "stdout",
     "output_type": "stream",
     "text": [
      "Error processing entry 526 (ID: L_0888): Command '['mmdc', '-i', 'temp_mermaid.mmd', '-o', '../data/tqa_train_val_test/train/svg_v2/mermaid_output_L_0888.svg', '-t', 'forest']' returned non-zero exit status 1.\n",
      "\n",
      "Generating single mermaid chart\n"
     ]
    },
    {
     "name": "stderr",
     "output_type": "stream",
     "text": [
      "\u001b[31m\u001b[39m\n",
      "\u001b[31mError: Parse error on line 8:\u001b[39m\n",
      "\u001b[31m...on (solid, magnetic), Neon (gas, red glo\u001b[39m\n",
      "\u001b[31m-----------------------^\u001b[39m\n",
      "\u001b[31mExpecting 'SPACELINE', 'NL', 'EOF', got 'NODE_ID'\u001b[39m\n",
      "\u001b[31mParser3.parseError (/home/siva/.nvm/versions/node/v22.14.0/lib/node_modules/@mermaid-js/mermaid-cli/node_modules/mermaid/dist/mermaid.js:99004:28)\u001b[39m\n",
      "\u001b[31m    at #evaluate (file:///home/siva/.nvm/versions/node/v22.14.0/lib/node_modules/@mermaid-js/mermaid-cli/node_modules/puppeteer-core/lib/esm/puppeteer/cdp/ExecutionContext.js:388:19)\u001b[39m\n",
      "\u001b[31m    at async ExecutionContext.evaluate (file:///home/siva/.nvm/versions/node/v22.14.0/lib/node_modules/@mermaid-js/mermaid-cli/node_modules/puppeteer-core/lib/esm/puppeteer/cdp/ExecutionContext.js:275:16)\u001b[39m\n",
      "\u001b[31m    at async IsolatedWorld.evaluate (file:///home/siva/.nvm/versions/node/v22.14.0/lib/node_modules/@mermaid-js/mermaid-cli/node_modules/puppeteer-core/lib/esm/puppeteer/cdp/IsolatedWorld.js:97:16)\u001b[39m\n",
      "\u001b[31m    at async CdpJSHandle.evaluate (file:///home/siva/.nvm/versions/node/v22.14.0/lib/node_modules/@mermaid-js/mermaid-cli/node_modules/puppeteer-core/lib/esm/puppeteer/api/JSHandle.js:146:20)\u001b[39m\n",
      "\u001b[31m    at async CdpElementHandle.evaluate (file:///home/siva/.nvm/versions/node/v22.14.0/lib/node_modules/@mermaid-js/mermaid-cli/node_modules/puppeteer-core/lib/esm/puppeteer/api/ElementHandle.js:340:20)\u001b[39m\n",
      "\u001b[31m    at async CdpElementHandle.$eval (file:///home/siva/.nvm/versions/node/v22.14.0/lib/node_modules/@mermaid-js/mermaid-cli/node_modules/puppeteer-core/lib/esm/puppeteer/api/ElementHandle.js:494:24)\u001b[39m\n",
      "\u001b[31m    at async CdpFrame.$eval (file:///home/siva/.nvm/versions/node/v22.14.0/lib/node_modules/@mermaid-js/mermaid-cli/node_modules/puppeteer-core/lib/esm/puppeteer/api/Frame.js:450:20)\u001b[39m\n",
      "\u001b[31m    at async CdpPage.$eval (file:///home/siva/.nvm/versions/node/v22.14.0/lib/node_modules/@mermaid-js/mermaid-cli/node_modules/puppeteer-core/lib/esm/puppeteer/api/Page.js:450:20)\u001b[39m\n",
      "\u001b[31m    at async renderMermaid (file:///home/siva/.nvm/versions/node/v22.14.0/lib/node_modules/@mermaid-js/mermaid-cli/src/index.js:252:22)\u001b[39m\n",
      "\u001b[31m    at fromText (/home/siva/.nvm/versions/node/v22.14.0/lib/node_modules/@mermaid-js/mermaid-cli/node_modules/mermaid/dist/mermaid.js:151117:21)\u001b[39m\n",
      "\u001b[31m\u001b[39m\n",
      "Processing entries:  79%|████████████████████████████████████████████████████████████████████████████████████████████████████████████████████████████████████████████████████████████████████████████▊                                             | 528/666 [38:44<09:04,  3.94s/it]"
     ]
    },
    {
     "name": "stdout",
     "output_type": "stream",
     "text": [
      "Error processing entry 527 (ID: L_0889): Command '['mmdc', '-i', 'temp_mermaid.mmd', '-o', '../data/tqa_train_val_test/train/svg_v2/mermaid_output_L_0889.svg', '-t', 'forest']' returned non-zero exit status 1.\n",
      "\n",
      "Generating single mermaid chart\n"
     ]
    },
    {
     "name": "stderr",
     "output_type": "stream",
     "text": [
      "Processing entries:  79%|█████████████████████████████████████████████████████████████████████████████████████████████████████████████████████████████████████████████████████████████████████████████▏                                            | 529/666 [38:47<08:57,  3.93s/it]"
     ]
    },
    {
     "name": "stdout",
     "output_type": "stream",
     "text": [
      "Generating single mermaid chart\n"
     ]
    },
    {
     "name": "stderr",
     "output_type": "stream",
     "text": [
      "Processing entries:  80%|█████████████████████████████████████████████████████████████████████████████████████████████████████████████████████████████████████████████████████████████████████████████▍                                            | 530/666 [38:51<08:50,  3.90s/it]"
     ]
    },
    {
     "name": "stdout",
     "output_type": "stream",
     "text": [
      "Generating single mermaid chart\n"
     ]
    },
    {
     "name": "stderr",
     "output_type": "stream",
     "text": [
      "Processing entries:  80%|█████████████████████████████████████████████████████████████████████████████████████████████████████████████████████████████████████████████████████████████████████████████▊                                            | 531/666 [38:55<08:38,  3.84s/it]"
     ]
    },
    {
     "name": "stdout",
     "output_type": "stream",
     "text": [
      "Generating single mermaid chart\n"
     ]
    },
    {
     "name": "stderr",
     "output_type": "stream",
     "text": [
      "\u001b[31m\u001b[39m\n",
      "\u001b[31mError: Parse error on line 17:\u001b[39m\n",
      "\u001b[31m...orbitals (spherical), P orbitals (dumbbe\u001b[39m\n",
      "\u001b[31m-----------------------^\u001b[39m\n",
      "\u001b[31mExpecting 'SPACELINE', 'NL', 'EOF', got 'NODE_ID'\u001b[39m\n",
      "\u001b[31mParser3.parseError (/home/siva/.nvm/versions/node/v22.14.0/lib/node_modules/@mermaid-js/mermaid-cli/node_modules/mermaid/dist/mermaid.js:99004:28)\u001b[39m\n",
      "\u001b[31m    at #evaluate (file:///home/siva/.nvm/versions/node/v22.14.0/lib/node_modules/@mermaid-js/mermaid-cli/node_modules/puppeteer-core/lib/esm/puppeteer/cdp/ExecutionContext.js:388:19)\u001b[39m\n",
      "\u001b[31m    at async ExecutionContext.evaluate (file:///home/siva/.nvm/versions/node/v22.14.0/lib/node_modules/@mermaid-js/mermaid-cli/node_modules/puppeteer-core/lib/esm/puppeteer/cdp/ExecutionContext.js:275:16)\u001b[39m\n",
      "\u001b[31m    at async IsolatedWorld.evaluate (file:///home/siva/.nvm/versions/node/v22.14.0/lib/node_modules/@mermaid-js/mermaid-cli/node_modules/puppeteer-core/lib/esm/puppeteer/cdp/IsolatedWorld.js:97:16)\u001b[39m\n",
      "\u001b[31m    at async CdpJSHandle.evaluate (file:///home/siva/.nvm/versions/node/v22.14.0/lib/node_modules/@mermaid-js/mermaid-cli/node_modules/puppeteer-core/lib/esm/puppeteer/api/JSHandle.js:146:20)\u001b[39m\n",
      "\u001b[31m    at async CdpElementHandle.evaluate (file:///home/siva/.nvm/versions/node/v22.14.0/lib/node_modules/@mermaid-js/mermaid-cli/node_modules/puppeteer-core/lib/esm/puppeteer/api/ElementHandle.js:340:20)\u001b[39m\n",
      "\u001b[31m    at async CdpElementHandle.$eval (file:///home/siva/.nvm/versions/node/v22.14.0/lib/node_modules/@mermaid-js/mermaid-cli/node_modules/puppeteer-core/lib/esm/puppeteer/api/ElementHandle.js:494:24)\u001b[39m\n",
      "\u001b[31m    at async CdpFrame.$eval (file:///home/siva/.nvm/versions/node/v22.14.0/lib/node_modules/@mermaid-js/mermaid-cli/node_modules/puppeteer-core/lib/esm/puppeteer/api/Frame.js:450:20)\u001b[39m\n",
      "\u001b[31m    at async CdpPage.$eval (file:///home/siva/.nvm/versions/node/v22.14.0/lib/node_modules/@mermaid-js/mermaid-cli/node_modules/puppeteer-core/lib/esm/puppeteer/api/Page.js:450:20)\u001b[39m\n",
      "\u001b[31m    at async renderMermaid (file:///home/siva/.nvm/versions/node/v22.14.0/lib/node_modules/@mermaid-js/mermaid-cli/src/index.js:252:22)\u001b[39m\n",
      "\u001b[31m    at fromText (/home/siva/.nvm/versions/node/v22.14.0/lib/node_modules/@mermaid-js/mermaid-cli/node_modules/mermaid/dist/mermaid.js:151117:21)\u001b[39m\n",
      "\u001b[31m\u001b[39m\n",
      "Processing entries:  80%|██████████████████████████████████████████████████████████████████████████████████████████████████████████████████████████████████████████████████████████████████████████████▏                                           | 532/666 [39:00<09:23,  4.21s/it]"
     ]
    },
    {
     "name": "stdout",
     "output_type": "stream",
     "text": [
      "Error processing entry 531 (ID: L_0893): Command '['mmdc', '-i', 'temp_mermaid.mmd', '-o', '../data/tqa_train_val_test/train/svg_v2/mermaid_output_L_0893.svg', '-t', 'forest']' returned non-zero exit status 1.\n",
      "\n",
      "Generating single mermaid chart\n"
     ]
    },
    {
     "name": "stderr",
     "output_type": "stream",
     "text": [
      "Processing entries:  80%|██████████████████████████████████████████████████████████████████████████████████████████████████████████████████████████████████████████████████████████████████████████████▍                                           | 533/666 [39:04<08:59,  4.05s/it]"
     ]
    },
    {
     "name": "stdout",
     "output_type": "stream",
     "text": [
      "Generating single mermaid chart\n"
     ]
    },
    {
     "name": "stderr",
     "output_type": "stream",
     "text": [
      "Processing entries:  80%|██████████████████████████████████████████████████████████████████████████████████████████████████████████████████████████████████████████████████████████████████████████████▊                                           | 534/666 [39:07<08:40,  3.95s/it]"
     ]
    },
    {
     "name": "stdout",
     "output_type": "stream",
     "text": [
      "Generating single mermaid chart\n"
     ]
    },
    {
     "name": "stderr",
     "output_type": "stream",
     "text": [
      "Processing entries:  80%|███████████████████████████████████████████████████████████████████████████████████████████████████████████████████████████████████████████████████████████████████████████████                                           | 535/666 [39:11<08:13,  3.77s/it]"
     ]
    },
    {
     "name": "stdout",
     "output_type": "stream",
     "text": [
      "Generating single mermaid chart\n"
     ]
    },
    {
     "name": "stderr",
     "output_type": "stream",
     "text": [
      "Processing entries:  80%|███████████████████████████████████████████████████████████████████████████████████████████████████████████████████████████████████████████████████████████████████████████████▍                                          | 536/666 [39:14<07:52,  3.63s/it]"
     ]
    },
    {
     "name": "stdout",
     "output_type": "stream",
     "text": [
      "Generating single mermaid chart\n"
     ]
    },
    {
     "name": "stderr",
     "output_type": "stream",
     "text": [
      "Processing entries:  81%|███████████████████████████████████████████████████████████████████████████████████████████████████████████████████████████████████████████████████████████████████████████████▊                                          | 537/666 [39:18<07:41,  3.58s/it]"
     ]
    },
    {
     "name": "stdout",
     "output_type": "stream",
     "text": [
      "Generating single mermaid chart\n"
     ]
    },
    {
     "name": "stderr",
     "output_type": "stream",
     "text": [
      "Processing entries:  81%|████████████████████████████████████████████████████████████████████████████████████████████████████████████████████████████████████████████████████████████████████████████████                                          | 538/666 [39:21<07:48,  3.66s/it]"
     ]
    },
    {
     "name": "stdout",
     "output_type": "stream",
     "text": [
      "Generating single mermaid chart\n"
     ]
    },
    {
     "name": "stderr",
     "output_type": "stream",
     "text": [
      "Processing entries:  81%|████████████████████████████████████████████████████████████████████████████████████████████████████████████████████████████████████████████████████████████████████████████████▍                                         | 539/666 [39:25<08:00,  3.79s/it]"
     ]
    },
    {
     "name": "stdout",
     "output_type": "stream",
     "text": [
      "Generating single mermaid chart\n"
     ]
    },
    {
     "name": "stderr",
     "output_type": "stream",
     "text": [
      "Processing entries:  81%|████████████████████████████████████████████████████████████████████████████████████████████████████████████████████████████████████████████████████████████████████████████████▊                                         | 540/666 [39:30<08:27,  4.03s/it]"
     ]
    },
    {
     "name": "stdout",
     "output_type": "stream",
     "text": [
      "Generating single mermaid chart\n"
     ]
    },
    {
     "name": "stderr",
     "output_type": "stream",
     "text": [
      "\u001b[31m\u001b[39m\n",
      "\u001b[31mError: Parse error on line 13:\u001b[39m\n",
      "\u001b[31m... charge (+2/3, -1/3), color charge     \u001b[39m\n",
      "\u001b[31m-----------------------^\u001b[39m\n",
      "\u001b[31mExpecting 'SPACELINE', 'NL', 'EOF', got 'NODE_ID'\u001b[39m\n",
      "\u001b[31mParser3.parseError (/home/siva/.nvm/versions/node/v22.14.0/lib/node_modules/@mermaid-js/mermaid-cli/node_modules/mermaid/dist/mermaid.js:99004:28)\u001b[39m\n",
      "\u001b[31m    at #evaluate (file:///home/siva/.nvm/versions/node/v22.14.0/lib/node_modules/@mermaid-js/mermaid-cli/node_modules/puppeteer-core/lib/esm/puppeteer/cdp/ExecutionContext.js:388:19)\u001b[39m\n",
      "\u001b[31m    at async ExecutionContext.evaluate (file:///home/siva/.nvm/versions/node/v22.14.0/lib/node_modules/@mermaid-js/mermaid-cli/node_modules/puppeteer-core/lib/esm/puppeteer/cdp/ExecutionContext.js:275:16)\u001b[39m\n",
      "\u001b[31m    at async IsolatedWorld.evaluate (file:///home/siva/.nvm/versions/node/v22.14.0/lib/node_modules/@mermaid-js/mermaid-cli/node_modules/puppeteer-core/lib/esm/puppeteer/cdp/IsolatedWorld.js:97:16)\u001b[39m\n",
      "\u001b[31m    at async CdpJSHandle.evaluate (file:///home/siva/.nvm/versions/node/v22.14.0/lib/node_modules/@mermaid-js/mermaid-cli/node_modules/puppeteer-core/lib/esm/puppeteer/api/JSHandle.js:146:20)\u001b[39m\n",
      "\u001b[31m    at async CdpElementHandle.evaluate (file:///home/siva/.nvm/versions/node/v22.14.0/lib/node_modules/@mermaid-js/mermaid-cli/node_modules/puppeteer-core/lib/esm/puppeteer/api/ElementHandle.js:340:20)\u001b[39m\n",
      "\u001b[31m    at async CdpElementHandle.$eval (file:///home/siva/.nvm/versions/node/v22.14.0/lib/node_modules/@mermaid-js/mermaid-cli/node_modules/puppeteer-core/lib/esm/puppeteer/api/ElementHandle.js:494:24)\u001b[39m\n",
      "\u001b[31m    at async CdpFrame.$eval (file:///home/siva/.nvm/versions/node/v22.14.0/lib/node_modules/@mermaid-js/mermaid-cli/node_modules/puppeteer-core/lib/esm/puppeteer/api/Frame.js:450:20)\u001b[39m\n",
      "\u001b[31m    at async CdpPage.$eval (file:///home/siva/.nvm/versions/node/v22.14.0/lib/node_modules/@mermaid-js/mermaid-cli/node_modules/puppeteer-core/lib/esm/puppeteer/api/Page.js:450:20)\u001b[39m\n",
      "\u001b[31m    at async renderMermaid (file:///home/siva/.nvm/versions/node/v22.14.0/lib/node_modules/@mermaid-js/mermaid-cli/src/index.js:252:22)\u001b[39m\n",
      "\u001b[31m    at fromText (/home/siva/.nvm/versions/node/v22.14.0/lib/node_modules/@mermaid-js/mermaid-cli/node_modules/mermaid/dist/mermaid.js:151117:21)\u001b[39m\n",
      "\u001b[31m\u001b[39m\n",
      "Processing entries:  81%|█████████████████████████████████████████████████████████████████████████████████████████████████████████████████████████████████████████████████████████████████████████████████                                         | 541/666 [39:36<09:41,  4.65s/it]"
     ]
    },
    {
     "name": "stdout",
     "output_type": "stream",
     "text": [
      "Error processing entry 540 (ID: L_0906): Command '['mmdc', '-i', 'temp_mermaid.mmd', '-o', '../data/tqa_train_val_test/train/svg_v2/mermaid_output_L_0906.svg', '-t', 'forest']' returned non-zero exit status 1.\n",
      "\n",
      "Generating single mermaid chart\n"
     ]
    },
    {
     "name": "stderr",
     "output_type": "stream",
     "text": [
      "[@zenuml/core] Store is a function and is not initiated in 1 second.\n",
      "Processing entries:  81%|█████████████████████████████████████████████████████████████████████████████████████████████████████████████████████████████████████████████████████████████████████████████████▍                                        | 542/666 [39:41<09:55,  4.80s/it]"
     ]
    },
    {
     "name": "stdout",
     "output_type": "stream",
     "text": [
      "Generating single mermaid chart\n"
     ]
    },
    {
     "name": "stderr",
     "output_type": "stream",
     "text": [
      "Processing entries:  82%|█████████████████████████████████████████████████████████████████████████████████████████████████████████████████████████████████████████████████████████████████████████████████▋                                        | 543/666 [39:45<09:13,  4.50s/it]"
     ]
    },
    {
     "name": "stdout",
     "output_type": "stream",
     "text": [
      "Generating single mermaid chart\n"
     ]
    },
    {
     "name": "stderr",
     "output_type": "stream",
     "text": [
      "Processing entries:  82%|██████████████████████████████████████████████████████████████████████████████████████████████████████████████████████████████████████████████████████████████████████████████████                                        | 544/666 [39:49<08:41,  4.27s/it]"
     ]
    },
    {
     "name": "stdout",
     "output_type": "stream",
     "text": [
      "Generating single mermaid chart\n"
     ]
    },
    {
     "name": "stderr",
     "output_type": "stream",
     "text": [
      "\u001b[31m\u001b[39m\n",
      "\u001b[31mError: Parse error on line 13:\u001b[39m\n",
      "\u001b[31m...lloids: Silicon (Si), Germanium (Ge)   \u001b[39m\n",
      "\u001b[31m-----------------------^\u001b[39m\n",
      "\u001b[31mExpecting 'SPACELINE', 'NL', 'EOF', got 'NODE_ID'\u001b[39m\n",
      "\u001b[31mParser3.parseError (/home/siva/.nvm/versions/node/v22.14.0/lib/node_modules/@mermaid-js/mermaid-cli/node_modules/mermaid/dist/mermaid.js:99004:28)\u001b[39m\n",
      "\u001b[31m    at #evaluate (file:///home/siva/.nvm/versions/node/v22.14.0/lib/node_modules/@mermaid-js/mermaid-cli/node_modules/puppeteer-core/lib/esm/puppeteer/cdp/ExecutionContext.js:388:19)\u001b[39m\n",
      "\u001b[31m    at async ExecutionContext.evaluate (file:///home/siva/.nvm/versions/node/v22.14.0/lib/node_modules/@mermaid-js/mermaid-cli/node_modules/puppeteer-core/lib/esm/puppeteer/cdp/ExecutionContext.js:275:16)\u001b[39m\n",
      "\u001b[31m    at async IsolatedWorld.evaluate (file:///home/siva/.nvm/versions/node/v22.14.0/lib/node_modules/@mermaid-js/mermaid-cli/node_modules/puppeteer-core/lib/esm/puppeteer/cdp/IsolatedWorld.js:97:16)\u001b[39m\n",
      "\u001b[31m    at async CdpJSHandle.evaluate (file:///home/siva/.nvm/versions/node/v22.14.0/lib/node_modules/@mermaid-js/mermaid-cli/node_modules/puppeteer-core/lib/esm/puppeteer/api/JSHandle.js:146:20)\u001b[39m\n",
      "\u001b[31m    at async CdpElementHandle.evaluate (file:///home/siva/.nvm/versions/node/v22.14.0/lib/node_modules/@mermaid-js/mermaid-cli/node_modules/puppeteer-core/lib/esm/puppeteer/api/ElementHandle.js:340:20)\u001b[39m\n",
      "\u001b[31m    at async CdpElementHandle.$eval (file:///home/siva/.nvm/versions/node/v22.14.0/lib/node_modules/@mermaid-js/mermaid-cli/node_modules/puppeteer-core/lib/esm/puppeteer/api/ElementHandle.js:494:24)\u001b[39m\n",
      "\u001b[31m    at async CdpFrame.$eval (file:///home/siva/.nvm/versions/node/v22.14.0/lib/node_modules/@mermaid-js/mermaid-cli/node_modules/puppeteer-core/lib/esm/puppeteer/api/Frame.js:450:20)\u001b[39m\n",
      "\u001b[31m    at async CdpPage.$eval (file:///home/siva/.nvm/versions/node/v22.14.0/lib/node_modules/@mermaid-js/mermaid-cli/node_modules/puppeteer-core/lib/esm/puppeteer/api/Page.js:450:20)\u001b[39m\n",
      "\u001b[31m    at async renderMermaid (file:///home/siva/.nvm/versions/node/v22.14.0/lib/node_modules/@mermaid-js/mermaid-cli/src/index.js:252:22)\u001b[39m\n",
      "\u001b[31m    at fromText (/home/siva/.nvm/versions/node/v22.14.0/lib/node_modules/@mermaid-js/mermaid-cli/node_modules/mermaid/dist/mermaid.js:151117:21)\u001b[39m\n",
      "\u001b[31m\u001b[39m\n",
      "Processing entries:  82%|██████████████████████████████████████████████████████████████████████████████████████████████████████████████████████████████████████████████████████████████████████████████████▍                                       | 545/666 [39:58<11:30,  5.71s/it]"
     ]
    },
    {
     "name": "stdout",
     "output_type": "stream",
     "text": [
      "Error processing entry 544 (ID: L_0911): Command '['mmdc', '-i', 'temp_mermaid.mmd', '-o', '../data/tqa_train_val_test/train/svg_v2/mermaid_output_L_0911.svg', '-t', 'forest']' returned non-zero exit status 1.\n",
      "\n",
      "Generating single mermaid chart\n"
     ]
    },
    {
     "name": "stderr",
     "output_type": "stream",
     "text": [
      "Processing entries:  82%|██████████████████████████████████████████████████████████████████████████████████████████████████████████████████████████████████████████████████████████████████████████████████▋                                       | 546/666 [40:02<10:35,  5.30s/it]"
     ]
    },
    {
     "name": "stdout",
     "output_type": "stream",
     "text": [
      "Generating single mermaid chart\n"
     ]
    },
    {
     "name": "stderr",
     "output_type": "stream",
     "text": [
      "Processing entries:  82%|███████████████████████████████████████████████████████████████████████████████████████████████████████████████████████████████████████████████████████████████████████████████████                                       | 547/666 [40:07<09:57,  5.02s/it]"
     ]
    },
    {
     "name": "stdout",
     "output_type": "stream",
     "text": [
      "Generating single mermaid chart\n"
     ]
    },
    {
     "name": "stderr",
     "output_type": "stream",
     "text": [
      "[@zenuml/core] Store is a function and is not initiated in 1 second.\n",
      "Processing entries:  82%|███████████████████████████████████████████████████████████████████████████████████████████████████████████████████████████████████████████████████████████████████████████████████▍                                      | 548/666 [40:11<09:36,  4.88s/it]"
     ]
    },
    {
     "name": "stdout",
     "output_type": "stream",
     "text": [
      "Generating single mermaid chart\n"
     ]
    },
    {
     "name": "stderr",
     "output_type": "stream",
     "text": [
      "Processing entries:  82%|███████████████████████████████████████████████████████████████████████████████████████████████████████████████████████████████████████████████████████████████████████████████████▋                                      | 549/666 [40:14<08:30,  4.36s/it]"
     ]
    },
    {
     "name": "stdout",
     "output_type": "stream",
     "text": [
      "Generating single mermaid chart\n"
     ]
    },
    {
     "name": "stderr",
     "output_type": "stream",
     "text": [
      "Processing entries:  83%|████████████████████████████████████████████████████████████████████████████████████████████████████████████████████████████████████████████████████████████████████████████████████                                      | 550/666 [40:17<07:33,  3.91s/it]"
     ]
    },
    {
     "name": "stdout",
     "output_type": "stream",
     "text": [
      "Generating single mermaid chart\n"
     ]
    },
    {
     "name": "stderr",
     "output_type": "stream",
     "text": [
      "Processing entries:  83%|████████████████████████████████████████████████████████████████████████████████████████████████████████████████████████████████████████████████████████████████████████████████████▎                                     | 551/666 [40:21<07:09,  3.73s/it]"
     ]
    },
    {
     "name": "stdout",
     "output_type": "stream",
     "text": [
      "Generating single mermaid chart\n"
     ]
    },
    {
     "name": "stderr",
     "output_type": "stream",
     "text": [
      "[@zenuml/core] Store is a function and is not initiated in 1 second.\n",
      "Processing entries:  83%|████████████████████████████████████████████████████████████████████████████████████████████████████████████████████████████████████████████████████████████████████████████████████▋                                     | 552/666 [40:26<08:18,  4.37s/it]"
     ]
    },
    {
     "name": "stdout",
     "output_type": "stream",
     "text": [
      "Generating single mermaid chart\n"
     ]
    },
    {
     "name": "stderr",
     "output_type": "stream",
     "text": [
      "[@zenuml/core] Store is a function and is not initiated in 1 second.\n",
      "Processing entries:  83%|█████████████████████████████████████████████████████████████████████████████████████████████████████████████████████████████████████████████████████████████████████████████████████                                     | 553/666 [40:32<08:53,  4.72s/it]"
     ]
    },
    {
     "name": "stdout",
     "output_type": "stream",
     "text": [
      "Generating single mermaid chart\n"
     ]
    },
    {
     "name": "stderr",
     "output_type": "stream",
     "text": [
      "[@zenuml/core] Store is a function and is not initiated in 1 second.\n",
      "Processing entries:  83%|█████████████████████████████████████████████████████████████████████████████████████████████████████████████████████████████████████████████████████████████████████████████████████▎                                    | 554/666 [40:37<08:45,  4.69s/it]"
     ]
    },
    {
     "name": "stdout",
     "output_type": "stream",
     "text": [
      "Generating single mermaid chart\n"
     ]
    },
    {
     "name": "stderr",
     "output_type": "stream",
     "text": [
      "Processing entries:  83%|█████████████████████████████████████████████████████████████████████████████████████████████████████████████████████████████████████████████████████████████████████████████████████▋                                    | 555/666 [40:40<08:03,  4.36s/it]"
     ]
    },
    {
     "name": "stdout",
     "output_type": "stream",
     "text": [
      "Generating single mermaid chart\n"
     ]
    },
    {
     "name": "stderr",
     "output_type": "stream",
     "text": [
      "Processing entries:  83%|█████████████████████████████████████████████████████████████████████████████████████████████████████████████████████████████████████████████████████████████████████████████████████▉                                    | 556/666 [40:44<07:53,  4.30s/it]"
     ]
    },
    {
     "name": "stdout",
     "output_type": "stream",
     "text": [
      "Generating single mermaid chart\n"
     ]
    },
    {
     "name": "stderr",
     "output_type": "stream",
     "text": [
      "Processing entries:  84%|██████████████████████████████████████████████████████████████████████████████████████████████████████████████████████████████████████████████████████████████████████████████████████▎                                   | 557/666 [40:48<07:21,  4.05s/it]"
     ]
    },
    {
     "name": "stdout",
     "output_type": "stream",
     "text": [
      "Generating single mermaid chart\n"
     ]
    },
    {
     "name": "stderr",
     "output_type": "stream",
     "text": [
      "Processing entries:  84%|██████████████████████████████████████████████████████████████████████████████████████████████████████████████████████████████████████████████████████████████████████████████████████▋                                   | 558/666 [40:51<07:00,  3.89s/it]"
     ]
    },
    {
     "name": "stdout",
     "output_type": "stream",
     "text": [
      "Generating single mermaid chart\n"
     ]
    },
    {
     "name": "stderr",
     "output_type": "stream",
     "text": [
      "[@zenuml/core] Store is a function and is not initiated in 1 second.\n",
      "Processing entries:  84%|██████████████████████████████████████████████████████████████████████████████████████████████████████████████████████████████████████████████████████████████████████████████████████▉                                   | 559/666 [40:59<08:59,  5.04s/it]"
     ]
    },
    {
     "name": "stdout",
     "output_type": "stream",
     "text": [
      "Generating single mermaid chart\n"
     ]
    },
    {
     "name": "stderr",
     "output_type": "stream",
     "text": [
      "Processing entries:  84%|███████████████████████████████████████████████████████████████████████████████████████████████████████████████████████████████████████████████████████████████████████████████████████▎                                  | 560/666 [41:03<08:24,  4.76s/it]"
     ]
    },
    {
     "name": "stdout",
     "output_type": "stream",
     "text": [
      "Generating single mermaid chart\n"
     ]
    },
    {
     "name": "stderr",
     "output_type": "stream",
     "text": [
      "Processing entries:  84%|███████████████████████████████████████████████████████████████████████████████████████████████████████████████████████████████████████████████████████████████████████████████████████▋                                  | 561/666 [41:07<07:54,  4.52s/it]"
     ]
    },
    {
     "name": "stdout",
     "output_type": "stream",
     "text": [
      "Generating single mermaid chart\n"
     ]
    },
    {
     "name": "stderr",
     "output_type": "stream",
     "text": [
      "\u001b[31m\u001b[39m\n",
      "\u001b[31mError: Parse error on line 34:\u001b[39m\n",
      "\u001b[31m...ons        Iron(II) Ion (Fe2+)        \u001b[39m\n",
      "\u001b[31m----------------------^\u001b[39m\n",
      "\u001b[31mExpecting 'SPACELINE', 'NL', 'EOF', got 'SPACELIST'\u001b[39m\n",
      "\u001b[31mParser3.parseError (/home/siva/.nvm/versions/node/v22.14.0/lib/node_modules/@mermaid-js/mermaid-cli/node_modules/mermaid/dist/mermaid.js:99004:28)\u001b[39m\n",
      "\u001b[31m    at #evaluate (file:///home/siva/.nvm/versions/node/v22.14.0/lib/node_modules/@mermaid-js/mermaid-cli/node_modules/puppeteer-core/lib/esm/puppeteer/cdp/ExecutionContext.js:388:19)\u001b[39m\n",
      "\u001b[31m    at async ExecutionContext.evaluate (file:///home/siva/.nvm/versions/node/v22.14.0/lib/node_modules/@mermaid-js/mermaid-cli/node_modules/puppeteer-core/lib/esm/puppeteer/cdp/ExecutionContext.js:275:16)\u001b[39m\n",
      "\u001b[31m    at async IsolatedWorld.evaluate (file:///home/siva/.nvm/versions/node/v22.14.0/lib/node_modules/@mermaid-js/mermaid-cli/node_modules/puppeteer-core/lib/esm/puppeteer/cdp/IsolatedWorld.js:97:16)\u001b[39m\n",
      "\u001b[31m    at async CdpJSHandle.evaluate (file:///home/siva/.nvm/versions/node/v22.14.0/lib/node_modules/@mermaid-js/mermaid-cli/node_modules/puppeteer-core/lib/esm/puppeteer/api/JSHandle.js:146:20)\u001b[39m\n",
      "\u001b[31m    at async CdpElementHandle.evaluate (file:///home/siva/.nvm/versions/node/v22.14.0/lib/node_modules/@mermaid-js/mermaid-cli/node_modules/puppeteer-core/lib/esm/puppeteer/api/ElementHandle.js:340:20)\u001b[39m\n",
      "\u001b[31m    at async CdpElementHandle.$eval (file:///home/siva/.nvm/versions/node/v22.14.0/lib/node_modules/@mermaid-js/mermaid-cli/node_modules/puppeteer-core/lib/esm/puppeteer/api/ElementHandle.js:494:24)\u001b[39m\n",
      "\u001b[31m    at async CdpFrame.$eval (file:///home/siva/.nvm/versions/node/v22.14.0/lib/node_modules/@mermaid-js/mermaid-cli/node_modules/puppeteer-core/lib/esm/puppeteer/api/Frame.js:450:20)\u001b[39m\n",
      "\u001b[31m    at async CdpPage.$eval (file:///home/siva/.nvm/versions/node/v22.14.0/lib/node_modules/@mermaid-js/mermaid-cli/node_modules/puppeteer-core/lib/esm/puppeteer/api/Page.js:450:20)\u001b[39m\n",
      "\u001b[31m    at async renderMermaid (file:///home/siva/.nvm/versions/node/v22.14.0/lib/node_modules/@mermaid-js/mermaid-cli/src/index.js:252:22)\u001b[39m\n",
      "\u001b[31m    at fromText (/home/siva/.nvm/versions/node/v22.14.0/lib/node_modules/@mermaid-js/mermaid-cli/node_modules/mermaid/dist/mermaid.js:151117:21)\u001b[39m\n",
      "\u001b[31m\u001b[39m\n",
      "Processing entries:  84%|███████████████████████████████████████████████████████████████████████████████████████████████████████████████████████████████████████████████████████████████████████████████████████▉                                  | 562/666 [41:12<08:03,  4.65s/it]"
     ]
    },
    {
     "name": "stdout",
     "output_type": "stream",
     "text": [
      "Error processing entry 561 (ID: L_0930): Command '['mmdc', '-i', 'temp_mermaid.mmd', '-o', '../data/tqa_train_val_test/train/svg_v2/mermaid_output_L_0930.svg', '-t', 'forest']' returned non-zero exit status 1.\n",
      "\n",
      "Generating single mermaid chart\n"
     ]
    },
    {
     "name": "stderr",
     "output_type": "stream",
     "text": [
      "Processing entries:  85%|████████████████████████████████████████████████████████████████████████████████████████████████████████████████████████████████████████████████████████████████████████████████████████▎                                 | 563/666 [41:16<07:29,  4.37s/it]"
     ]
    },
    {
     "name": "stdout",
     "output_type": "stream",
     "text": [
      "Generating single mermaid chart\n"
     ]
    },
    {
     "name": "stderr",
     "output_type": "stream",
     "text": [
      "Processing entries:  85%|████████████████████████████████████████████████████████████████████████████████████████████████████████████████████████████████████████████████████████████████████████████████████████▌                                 | 564/666 [41:22<08:26,  4.96s/it]"
     ]
    },
    {
     "name": "stdout",
     "output_type": "stream",
     "text": [
      "Generating single mermaid chart\n"
     ]
    },
    {
     "name": "stderr",
     "output_type": "stream",
     "text": [
      "Processing entries:  85%|████████████████████████████████████████████████████████████████████████████████████████████████████████████████████████████████████████████████████████████████████████████████████████▉                                 | 565/666 [41:26<07:55,  4.71s/it]"
     ]
    },
    {
     "name": "stdout",
     "output_type": "stream",
     "text": [
      "Generating single mermaid chart\n"
     ]
    },
    {
     "name": "stderr",
     "output_type": "stream",
     "text": [
      "Processing entries:  85%|█████████████████████████████████████████████████████████████████████████████████████████████████████████████████████████████████████████████████████████████████████████████████████████▎                                | 566/666 [41:31<07:58,  4.79s/it]"
     ]
    },
    {
     "name": "stdout",
     "output_type": "stream",
     "text": [
      "Generating single mermaid chart\n"
     ]
    },
    {
     "name": "stderr",
     "output_type": "stream",
     "text": [
      "Processing entries:  85%|█████████████████████████████████████████████████████████████████████████████████████████████████████████████████████████████████████████████████████████████████████████████████████████▌                                | 567/666 [41:35<07:17,  4.42s/it]"
     ]
    },
    {
     "name": "stdout",
     "output_type": "stream",
     "text": [
      "Generating single mermaid chart\n"
     ]
    },
    {
     "name": "stderr",
     "output_type": "stream",
     "text": [
      "[@zenuml/core] Store is a function and is not initiated in 1 second.\n",
      "Processing entries:  85%|█████████████████████████████████████████████████████████████████████████████████████████████████████████████████████████████████████████████████████████████████████████████████████████▉                                | 568/666 [41:40<07:23,  4.53s/it]"
     ]
    },
    {
     "name": "stdout",
     "output_type": "stream",
     "text": [
      "Generating single mermaid chart\n"
     ]
    },
    {
     "name": "stderr",
     "output_type": "stream",
     "text": [
      "[@zenuml/core] Store is a function and is not initiated in 1 second.\n",
      "Processing entries:  85%|██████████████████████████████████████████████████████████████████████████████████████████████████████████████████████████████████████████████████████████████████████████████████████████▏                               | 569/666 [41:44<07:03,  4.37s/it]"
     ]
    },
    {
     "name": "stdout",
     "output_type": "stream",
     "text": [
      "Generating single mermaid chart\n"
     ]
    },
    {
     "name": "stderr",
     "output_type": "stream",
     "text": [
      "[@zenuml/core] Store is a function and is not initiated in 1 second.\n",
      "Processing entries:  86%|██████████████████████████████████████████████████████████████████████████████████████████████████████████████████████████████████████████████████████████████████████████████████████████▌                               | 570/666 [41:48<07:11,  4.49s/it]"
     ]
    },
    {
     "name": "stdout",
     "output_type": "stream",
     "text": [
      "Generating single mermaid chart\n"
     ]
    },
    {
     "name": "stderr",
     "output_type": "stream",
     "text": [
      "Processing entries:  86%|██████████████████████████████████████████████████████████████████████████████████████████████████████████████████████████████████████████████████████████████████████████████████████████▉                               | 571/666 [41:53<07:01,  4.43s/it]"
     ]
    },
    {
     "name": "stdout",
     "output_type": "stream",
     "text": [
      "Generating single mermaid chart\n"
     ]
    },
    {
     "name": "stderr",
     "output_type": "stream",
     "text": [
      "Processing entries:  86%|███████████████████████████████████████████████████████████████████████████████████████████████████████████████████████████████████████████████████████████████████████████████████████████▏                              | 572/666 [41:57<06:55,  4.42s/it]"
     ]
    },
    {
     "name": "stdout",
     "output_type": "stream",
     "text": [
      "Generating single mermaid chart\n"
     ]
    },
    {
     "name": "stderr",
     "output_type": "stream",
     "text": [
      "Processing entries:  86%|███████████████████████████████████████████████████████████████████████████████████████████████████████████████████████████████████████████████████████████████████████████████████████████▌                              | 573/666 [42:00<06:15,  4.04s/it]"
     ]
    },
    {
     "name": "stdout",
     "output_type": "stream",
     "text": [
      "Generating single mermaid chart\n"
     ]
    },
    {
     "name": "stderr",
     "output_type": "stream",
     "text": [
      "Processing entries:  86%|███████████████████████████████████████████████████████████████████████████████████████████████████████████████████████████████████████████████████████████████████████████████████████████▉                              | 574/666 [42:03<05:48,  3.79s/it]"
     ]
    },
    {
     "name": "stdout",
     "output_type": "stream",
     "text": [
      "Generating single mermaid chart\n"
     ]
    },
    {
     "name": "stderr",
     "output_type": "stream",
     "text": [
      "Processing entries:  86%|████████████████████████████████████████████████████████████████████████████████████████████████████████████████████████████████████████████████████████████████████████████████████████████▏                             | 575/666 [42:06<05:24,  3.57s/it]"
     ]
    },
    {
     "name": "stdout",
     "output_type": "stream",
     "text": [
      "Generating single mermaid chart\n"
     ]
    },
    {
     "name": "stderr",
     "output_type": "stream",
     "text": [
      "Processing entries:  86%|████████████████████████████████████████████████████████████████████████████████████████████████████████████████████████████████████████████████████████████████████████████████████████████▌                             | 576/666 [42:11<05:58,  3.98s/it]"
     ]
    },
    {
     "name": "stdout",
     "output_type": "stream",
     "text": [
      "Generating single mermaid chart\n"
     ]
    },
    {
     "name": "stderr",
     "output_type": "stream",
     "text": [
      "Processing entries:  87%|████████████████████████████████████████████████████████████████████████████████████████████████████████████████████████████████████████████████████████████████████████████████████████████▊                             | 577/666 [42:15<05:36,  3.78s/it]"
     ]
    },
    {
     "name": "stdout",
     "output_type": "stream",
     "text": [
      "Generating single mermaid chart\n"
     ]
    },
    {
     "name": "stderr",
     "output_type": "stream",
     "text": [
      "Processing entries:  87%|█████████████████████████████████████████████████████████████████████████████████████████████████████████████████████████████████████████████████████████████████████████████████████████████▏                            | 578/666 [42:18<05:29,  3.75s/it]"
     ]
    },
    {
     "name": "stdout",
     "output_type": "stream",
     "text": [
      "Generating single mermaid chart\n"
     ]
    },
    {
     "name": "stderr",
     "output_type": "stream",
     "text": [
      "Processing entries:  87%|█████████████████████████████████████████████████████████████████████████████████████████████████████████████████████████████████████████████████████████████████████████████████████████████▌                            | 579/666 [42:22<05:14,  3.62s/it]"
     ]
    },
    {
     "name": "stdout",
     "output_type": "stream",
     "text": [
      "Generating single mermaid chart\n"
     ]
    },
    {
     "name": "stderr",
     "output_type": "stream",
     "text": [
      "Processing entries:  87%|█████████████████████████████████████████████████████████████████████████████████████████████████████████████████████████████████████████████████████████████████████████████████████████████▊                            | 580/666 [42:26<05:30,  3.84s/it]"
     ]
    },
    {
     "name": "stdout",
     "output_type": "stream",
     "text": [
      "Generating single mermaid chart\n"
     ]
    },
    {
     "name": "stderr",
     "output_type": "stream",
     "text": [
      "Processing entries:  87%|██████████████████████████████████████████████████████████████████████████████████████████████████████████████████████████████████████████████████████████████████████████████████████████████▏                           | 581/666 [42:29<05:03,  3.57s/it]"
     ]
    },
    {
     "name": "stdout",
     "output_type": "stream",
     "text": [
      "Generating single mermaid chart\n"
     ]
    },
    {
     "name": "stderr",
     "output_type": "stream",
     "text": [
      "Processing entries:  87%|██████████████████████████████████████████████████████████████████████████████████████████████████████████████████████████████████████████████████████████████████████████████████████████████▌                           | 582/666 [42:32<04:59,  3.56s/it]"
     ]
    },
    {
     "name": "stdout",
     "output_type": "stream",
     "text": [
      "Generating single mermaid chart\n"
     ]
    },
    {
     "name": "stderr",
     "output_type": "stream",
     "text": [
      "Processing entries:  88%|██████████████████████████████████████████████████████████████████████████████████████████████████████████████████████████████████████████████████████████████████████████████████████████████▊                           | 583/666 [42:37<05:24,  3.91s/it]"
     ]
    },
    {
     "name": "stdout",
     "output_type": "stream",
     "text": [
      "Generating single mermaid chart\n"
     ]
    },
    {
     "name": "stderr",
     "output_type": "stream",
     "text": [
      "Processing entries:  88%|███████████████████████████████████████████████████████████████████████████████████████████████████████████████████████████████████████████████████████████████████████████████████████████████▏                          | 584/666 [42:42<05:39,  4.14s/it]"
     ]
    },
    {
     "name": "stdout",
     "output_type": "stream",
     "text": [
      "Generating single mermaid chart\n"
     ]
    },
    {
     "name": "stderr",
     "output_type": "stream",
     "text": [
      "Processing entries:  88%|███████████████████████████████████████████████████████████████████████████████████████████████████████████████████████████████████████████████████████████████████████████████████████████████▍                          | 585/666 [42:46<05:39,  4.19s/it]"
     ]
    },
    {
     "name": "stdout",
     "output_type": "stream",
     "text": [
      "Generating single mermaid chart\n"
     ]
    },
    {
     "name": "stderr",
     "output_type": "stream",
     "text": [
      "Processing entries:  88%|███████████████████████████████████████████████████████████████████████████████████████████████████████████████████████████████████████████████████████████████████████████████████████████████▊                          | 586/666 [42:51<05:47,  4.34s/it]"
     ]
    },
    {
     "name": "stdout",
     "output_type": "stream",
     "text": [
      "Generating single mermaid chart\n"
     ]
    },
    {
     "name": "stderr",
     "output_type": "stream",
     "text": [
      "Processing entries:  88%|████████████████████████████████████████████████████████████████████████████████████████████████████████████████████████████████████████████████████████████████████████████████████████████████▏                         | 587/666 [42:54<05:14,  3.98s/it]"
     ]
    },
    {
     "name": "stdout",
     "output_type": "stream",
     "text": [
      "Generating single mermaid chart\n"
     ]
    },
    {
     "name": "stderr",
     "output_type": "stream",
     "text": [
      "Processing entries:  88%|████████████████████████████████████████████████████████████████████████████████████████████████████████████████████████████████████████████████████████████████████████████████████████████████▍                         | 588/666 [42:58<05:13,  4.01s/it]"
     ]
    },
    {
     "name": "stdout",
     "output_type": "stream",
     "text": [
      "Generating single mermaid chart\n"
     ]
    },
    {
     "name": "stderr",
     "output_type": "stream",
     "text": [
      "\u001b[31m\u001b[39m\n",
      "\u001b[31mError: There can be only one root. No parent could be found for (\"Nature of Technology\")\u001b[39m\n",
      "\u001b[31mObject.addNode (/home/siva/.nvm/versions/node/v22.14.0/lib/node_modules/@mermaid-js/mermaid-cli/node_modules/mermaid/dist/mermaid.js:99660:19)\u001b[39m\n",
      "\u001b[31m    at #evaluate (file:///home/siva/.nvm/versions/node/v22.14.0/lib/node_modules/@mermaid-js/mermaid-cli/node_modules/puppeteer-core/lib/esm/puppeteer/cdp/ExecutionContext.js:388:19)\u001b[39m\n",
      "\u001b[31m    at async ExecutionContext.evaluate (file:///home/siva/.nvm/versions/node/v22.14.0/lib/node_modules/@mermaid-js/mermaid-cli/node_modules/puppeteer-core/lib/esm/puppeteer/cdp/ExecutionContext.js:275:16)\u001b[39m\n",
      "\u001b[31m    at async IsolatedWorld.evaluate (file:///home/siva/.nvm/versions/node/v22.14.0/lib/node_modules/@mermaid-js/mermaid-cli/node_modules/puppeteer-core/lib/esm/puppeteer/cdp/IsolatedWorld.js:97:16)\u001b[39m\n",
      "\u001b[31m    at async CdpJSHandle.evaluate (file:///home/siva/.nvm/versions/node/v22.14.0/lib/node_modules/@mermaid-js/mermaid-cli/node_modules/puppeteer-core/lib/esm/puppeteer/api/JSHandle.js:146:20)\u001b[39m\n",
      "\u001b[31m    at async CdpElementHandle.evaluate (file:///home/siva/.nvm/versions/node/v22.14.0/lib/node_modules/@mermaid-js/mermaid-cli/node_modules/puppeteer-core/lib/esm/puppeteer/api/ElementHandle.js:340:20)\u001b[39m\n",
      "\u001b[31m    at async CdpElementHandle.$eval (file:///home/siva/.nvm/versions/node/v22.14.0/lib/node_modules/@mermaid-js/mermaid-cli/node_modules/puppeteer-core/lib/esm/puppeteer/api/ElementHandle.js:494:24)\u001b[39m\n",
      "\u001b[31m    at async CdpFrame.$eval (file:///home/siva/.nvm/versions/node/v22.14.0/lib/node_modules/@mermaid-js/mermaid-cli/node_modules/puppeteer-core/lib/esm/puppeteer/api/Frame.js:450:20)\u001b[39m\n",
      "\u001b[31m    at async CdpPage.$eval (file:///home/siva/.nvm/versions/node/v22.14.0/lib/node_modules/@mermaid-js/mermaid-cli/node_modules/puppeteer-core/lib/esm/puppeteer/api/Page.js:450:20)\u001b[39m\n",
      "\u001b[31m    at async renderMermaid (file:///home/siva/.nvm/versions/node/v22.14.0/lib/node_modules/@mermaid-js/mermaid-cli/src/index.js:252:22)\u001b[39m\n",
      "\u001b[31m    at fromText (/home/siva/.nvm/versions/node/v22.14.0/lib/node_modules/@mermaid-js/mermaid-cli/node_modules/mermaid/dist/mermaid.js:151117:21)\u001b[39m\n",
      "\u001b[31m\u001b[39m\n",
      "Processing entries:  88%|████████████████████████████████████████████████████████████████████████████████████████████████████████████████████████████████████████████████████████████████████████████████████████████████▊                         | 589/666 [43:03<05:29,  4.28s/it]"
     ]
    },
    {
     "name": "stdout",
     "output_type": "stream",
     "text": [
      "Error processing entry 588 (ID: L_0962): Command '['mmdc', '-i', 'temp_mermaid.mmd', '-o', '../data/tqa_train_val_test/train/svg_v2/mermaid_output_L_0962.svg', '-t', 'forest']' returned non-zero exit status 1.\n",
      "\n",
      "Generating single mermaid chart\n"
     ]
    },
    {
     "name": "stderr",
     "output_type": "stream",
     "text": [
      "Processing entries:  89%|█████████████████████████████████████████████████████████████████████████████████████████████████████████████████████████████████████████████████████████████████████████████████████████████████                         | 590/666 [43:06<04:50,  3.83s/it]"
     ]
    },
    {
     "name": "stdout",
     "output_type": "stream",
     "text": [
      "Generating single mermaid chart\n"
     ]
    },
    {
     "name": "stderr",
     "output_type": "stream",
     "text": [
      "Processing entries:  89%|█████████████████████████████████████████████████████████████████████████████████████████████████████████████████████████████████████████████████████████████████████████████████████████████████▍                        | 591/666 [43:10<04:59,  3.99s/it]"
     ]
    },
    {
     "name": "stdout",
     "output_type": "stream",
     "text": [
      "Generating single mermaid chart\n"
     ]
    },
    {
     "name": "stderr",
     "output_type": "stream",
     "text": [
      "Processing entries:  89%|█████████████████████████████████████████████████████████████████████████████████████████████████████████████████████████████████████████████████████████████████████████████████████████████████▊                        | 592/666 [43:17<05:54,  4.79s/it]"
     ]
    },
    {
     "name": "stdout",
     "output_type": "stream",
     "text": [
      "Generating single mermaid chart\n"
     ]
    },
    {
     "name": "stderr",
     "output_type": "stream",
     "text": [
      "Processing entries:  89%|██████████████████████████████████████████████████████████████████████████████████████████████████████████████████████████████████████████████████████████████████████████████████████████████████                        | 593/666 [43:20<05:21,  4.40s/it]"
     ]
    },
    {
     "name": "stdout",
     "output_type": "stream",
     "text": [
      "Generating single mermaid chart\n"
     ]
    },
    {
     "name": "stderr",
     "output_type": "stream",
     "text": [
      "[@zenuml/core] Store is a function and is not initiated in 1 second.\n",
      "Processing entries:  89%|██████████████████████████████████████████████████████████████████████████████████████████████████████████████████████████████████████████████████████████████████████████████████████████████████▍                       | 594/666 [43:24<05:09,  4.30s/it]"
     ]
    },
    {
     "name": "stdout",
     "output_type": "stream",
     "text": [
      "Generating single mermaid chart\n"
     ]
    },
    {
     "name": "stderr",
     "output_type": "stream",
     "text": [
      "[@zenuml/core] Store is a function and is not initiated in 1 second.\n",
      "Processing entries:  89%|██████████████████████████████████████████████████████████████████████████████████████████████████████████████████████████████████████████████████████████████████████████████████████████████████▊                       | 595/666 [43:29<05:18,  4.49s/it]"
     ]
    },
    {
     "name": "stdout",
     "output_type": "stream",
     "text": [
      "Generating single mermaid chart\n"
     ]
    },
    {
     "name": "stderr",
     "output_type": "stream",
     "text": [
      "Processing entries:  89%|███████████████████████████████████████████████████████████████████████████████████████████████████████████████████████████████████████████████████████████████████████████████████████████████████                       | 596/666 [43:33<05:05,  4.36s/it]"
     ]
    },
    {
     "name": "stdout",
     "output_type": "stream",
     "text": [
      "Generating single mermaid chart\n"
     ]
    },
    {
     "name": "stderr",
     "output_type": "stream",
     "text": [
      "[@zenuml/core] Store is a function and is not initiated in 1 second.\n",
      "Processing entries:  90%|███████████████████████████████████████████████████████████████████████████████████████████████████████████████████████████████████████████████████████████████████████████████████████████████████▍                      | 597/666 [43:38<05:08,  4.48s/it]"
     ]
    },
    {
     "name": "stdout",
     "output_type": "stream",
     "text": [
      "Generating single mermaid chart\n"
     ]
    },
    {
     "name": "stderr",
     "output_type": "stream",
     "text": [
      "Processing entries:  90%|███████████████████████████████████████████████████████████████████████████████████████████████████████████████████████████████████████████████████████████████████████████████████████████████████▋                      | 598/666 [43:45<05:51,  5.17s/it]"
     ]
    },
    {
     "name": "stdout",
     "output_type": "stream",
     "text": [
      "Generating single mermaid chart\n"
     ]
    },
    {
     "name": "stderr",
     "output_type": "stream",
     "text": [
      "Processing entries:  90%|████████████████████████████████████████████████████████████████████████████████████████████████████████████████████████████████████████████████████████████████████████████████████████████████████                      | 599/666 [43:50<05:35,  5.01s/it]"
     ]
    },
    {
     "name": "stdout",
     "output_type": "stream",
     "text": [
      "Generating single mermaid chart\n"
     ]
    },
    {
     "name": "stderr",
     "output_type": "stream",
     "text": [
      "Processing entries:  90%|████████████████████████████████████████████████████████████████████████████████████████████████████████████████████████████████████████████████████████████████████████████████████████████████████▍                     | 600/666 [43:54<05:27,  4.96s/it]"
     ]
    },
    {
     "name": "stdout",
     "output_type": "stream",
     "text": [
      "Generating single mermaid chart\n"
     ]
    },
    {
     "name": "stderr",
     "output_type": "stream",
     "text": [
      "Processing entries:  90%|████████████████████████████████████████████████████████████████████████████████████████████████████████████████████████████████████████████████████████████████████████████████████████████████████▋                     | 601/666 [43:57<04:45,  4.39s/it]"
     ]
    },
    {
     "name": "stdout",
     "output_type": "stream",
     "text": [
      "Generating single mermaid chart\n"
     ]
    },
    {
     "name": "stderr",
     "output_type": "stream",
     "text": [
      "[@zenuml/core] Store is a function and is not initiated in 1 second.\n",
      "Processing entries:  90%|█████████████████████████████████████████████████████████████████████████████████████████████████████████████████████████████████████████████████████████████████████████████████████████████████████                     | 602/666 [44:02<04:41,  4.40s/it]"
     ]
    },
    {
     "name": "stdout",
     "output_type": "stream",
     "text": [
      "Generating single mermaid chart\n"
     ]
    },
    {
     "name": "stderr",
     "output_type": "stream",
     "text": [
      "[@zenuml/core] Store is a function and is not initiated in 1 second.\n",
      "Processing entries:  91%|█████████████████████████████████████████████████████████████████████████████████████████████████████████████████████████████████████████████████████████████████████████████████████████████████████▍                    | 603/666 [44:07<04:43,  4.50s/it]"
     ]
    },
    {
     "name": "stdout",
     "output_type": "stream",
     "text": [
      "Generating single mermaid chart\n"
     ]
    },
    {
     "name": "stderr",
     "output_type": "stream",
     "text": [
      "Processing entries:  91%|█████████████████████████████████████████████████████████████████████████████████████████████████████████████████████████████████████████████████████████████████████████████████████████████████████▋                    | 604/666 [44:10<04:19,  4.18s/it]"
     ]
    },
    {
     "name": "stdout",
     "output_type": "stream",
     "text": [
      "Generating single mermaid chart\n"
     ]
    },
    {
     "name": "stderr",
     "output_type": "stream",
     "text": [
      "[@zenuml/core] Store is a function and is not initiated in 1 second.\n",
      "Processing entries:  91%|██████████████████████████████████████████████████████████████████████████████████████████████████████████████████████████████████████████████████████████████████████████████████████████████████████                    | 605/666 [44:15<04:37,  4.55s/it]"
     ]
    },
    {
     "name": "stdout",
     "output_type": "stream",
     "text": [
      "Generating single mermaid chart\n"
     ]
    },
    {
     "name": "stderr",
     "output_type": "stream",
     "text": [
      "[@zenuml/core] Store is a function and is not initiated in 1 second.\n",
      "Processing entries:  91%|██████████████████████████████████████████████████████████████████████████████████████████████████████████████████████████████████████████████████████████████████████████████████████████████████████▎                   | 606/666 [44:21<04:53,  4.89s/it]"
     ]
    },
    {
     "name": "stdout",
     "output_type": "stream",
     "text": [
      "Generating single mermaid chart\n"
     ]
    },
    {
     "name": "stderr",
     "output_type": "stream",
     "text": [
      "[@zenuml/core] Store is a function and is not initiated in 1 second.\n",
      "Processing entries:  91%|██████████████████████████████████████████████████████████████████████████████████████████████████████████████████████████████████████████████████████████████████████████████████████████████████████▋                   | 607/666 [44:25<04:35,  4.67s/it]"
     ]
    },
    {
     "name": "stdout",
     "output_type": "stream",
     "text": [
      "Generating single mermaid chart\n"
     ]
    },
    {
     "name": "stderr",
     "output_type": "stream",
     "text": [
      "[@zenuml/core] Store is a function and is not initiated in 1 second.\n",
      "Processing entries:  91%|███████████████████████████████████████████████████████████████████████████████████████████████████████████████████████████████████████████████████████████████████████████████████████████████████████                   | 608/666 [44:29<04:19,  4.48s/it]"
     ]
    },
    {
     "name": "stdout",
     "output_type": "stream",
     "text": [
      "Generating single mermaid chart\n"
     ]
    },
    {
     "name": "stderr",
     "output_type": "stream",
     "text": [
      "Processing entries:  91%|███████████████████████████████████████████████████████████████████████████████████████████████████████████████████████████████████████████████████████████████████████████████████████████████████████▎                  | 609/666 [44:34<04:15,  4.49s/it]"
     ]
    },
    {
     "name": "stdout",
     "output_type": "stream",
     "text": [
      "Generating single mermaid chart\n"
     ]
    },
    {
     "name": "stderr",
     "output_type": "stream",
     "text": [
      "[@zenuml/core] Store is a function and is not initiated in 1 second.\n",
      "Processing entries:  92%|███████████████████████████████████████████████████████████████████████████████████████████████████████████████████████████████████████████████████████████████████████████████████████████████████████▋                  | 610/666 [44:39<04:25,  4.74s/it]"
     ]
    },
    {
     "name": "stdout",
     "output_type": "stream",
     "text": [
      "Generating single mermaid chart\n"
     ]
    },
    {
     "name": "stderr",
     "output_type": "stream",
     "text": [
      "Processing entries:  92%|███████████████████████████████████████████████████████████████████████████████████████████████████████████████████████████████████████████████████████████████████████████████████████████████████████▉                  | 611/666 [44:44<04:21,  4.75s/it]"
     ]
    },
    {
     "name": "stdout",
     "output_type": "stream",
     "text": [
      "Generating single mermaid chart\n"
     ]
    },
    {
     "name": "stderr",
     "output_type": "stream",
     "text": [
      "Processing entries:  92%|████████████████████████████████████████████████████████████████████████████████████████████████████████████████████████████████████████████████████████████████████████████████████████████████████████▎                 | 612/666 [44:48<04:01,  4.47s/it]"
     ]
    },
    {
     "name": "stdout",
     "output_type": "stream",
     "text": [
      "Generating single mermaid chart\n"
     ]
    },
    {
     "name": "stderr",
     "output_type": "stream",
     "text": [
      "Processing entries:  92%|████████████████████████████████████████████████████████████████████████████████████████████████████████████████████████████████████████████████████████████████████████████████████████████████████████▋                 | 613/666 [44:53<04:13,  4.79s/it]"
     ]
    },
    {
     "name": "stdout",
     "output_type": "stream",
     "text": [
      "Generating single mermaid chart\n"
     ]
    },
    {
     "name": "stderr",
     "output_type": "stream",
     "text": [
      "Processing entries:  92%|████████████████████████████████████████████████████████████████████████████████████████████████████████████████████████████████████████████████████████████████████████████████████████████████████████▉                 | 614/666 [44:57<03:53,  4.49s/it]"
     ]
    },
    {
     "name": "stdout",
     "output_type": "stream",
     "text": [
      "Generating single mermaid chart\n"
     ]
    },
    {
     "name": "stderr",
     "output_type": "stream",
     "text": [
      "\u001b[31m\u001b[39m\n",
      "\u001b[31mError: Parse error on line 8:\u001b[39m\n",
      "\u001b[31m...tons and 2 neutrons) + energy        Ef\u001b[39m\n",
      "\u001b[31m-----------------------^\u001b[39m\n",
      "\u001b[31mExpecting 'SPACELINE', 'NL', 'EOF', got 'SPACELIST'\u001b[39m\n",
      "\u001b[31mParser3.parseError (/home/siva/.nvm/versions/node/v22.14.0/lib/node_modules/@mermaid-js/mermaid-cli/node_modules/mermaid/dist/mermaid.js:99004:28)\u001b[39m\n",
      "\u001b[31m    at #evaluate (file:///home/siva/.nvm/versions/node/v22.14.0/lib/node_modules/@mermaid-js/mermaid-cli/node_modules/puppeteer-core/lib/esm/puppeteer/cdp/ExecutionContext.js:388:19)\u001b[39m\n",
      "\u001b[31m    at async ExecutionContext.evaluate (file:///home/siva/.nvm/versions/node/v22.14.0/lib/node_modules/@mermaid-js/mermaid-cli/node_modules/puppeteer-core/lib/esm/puppeteer/cdp/ExecutionContext.js:275:16)\u001b[39m\n",
      "\u001b[31m    at async IsolatedWorld.evaluate (file:///home/siva/.nvm/versions/node/v22.14.0/lib/node_modules/@mermaid-js/mermaid-cli/node_modules/puppeteer-core/lib/esm/puppeteer/cdp/IsolatedWorld.js:97:16)\u001b[39m\n",
      "\u001b[31m    at async CdpJSHandle.evaluate (file:///home/siva/.nvm/versions/node/v22.14.0/lib/node_modules/@mermaid-js/mermaid-cli/node_modules/puppeteer-core/lib/esm/puppeteer/api/JSHandle.js:146:20)\u001b[39m\n",
      "\u001b[31m    at async CdpElementHandle.evaluate (file:///home/siva/.nvm/versions/node/v22.14.0/lib/node_modules/@mermaid-js/mermaid-cli/node_modules/puppeteer-core/lib/esm/puppeteer/api/ElementHandle.js:340:20)\u001b[39m\n",
      "\u001b[31m    at async CdpElementHandle.$eval (file:///home/siva/.nvm/versions/node/v22.14.0/lib/node_modules/@mermaid-js/mermaid-cli/node_modules/puppeteer-core/lib/esm/puppeteer/api/ElementHandle.js:494:24)\u001b[39m\n",
      "\u001b[31m    at async CdpFrame.$eval (file:///home/siva/.nvm/versions/node/v22.14.0/lib/node_modules/@mermaid-js/mermaid-cli/node_modules/puppeteer-core/lib/esm/puppeteer/api/Frame.js:450:20)\u001b[39m\n",
      "\u001b[31m    at async CdpPage.$eval (file:///home/siva/.nvm/versions/node/v22.14.0/lib/node_modules/@mermaid-js/mermaid-cli/node_modules/puppeteer-core/lib/esm/puppeteer/api/Page.js:450:20)\u001b[39m\n",
      "\u001b[31m    at async renderMermaid (file:///home/siva/.nvm/versions/node/v22.14.0/lib/node_modules/@mermaid-js/mermaid-cli/src/index.js:252:22)\u001b[39m\n",
      "\u001b[31m    at fromText (/home/siva/.nvm/versions/node/v22.14.0/lib/node_modules/@mermaid-js/mermaid-cli/node_modules/mermaid/dist/mermaid.js:151117:21)\u001b[39m\n",
      "\u001b[31m\u001b[39m\n",
      "Processing entries:  92%|█████████████████████████████████████████████████████████████████████████████████████████████████████████████████████████████████████████████████████████████████████████████████████████████████████████▎                | 615/666 [45:02<03:53,  4.57s/it]"
     ]
    },
    {
     "name": "stdout",
     "output_type": "stream",
     "text": [
      "Error processing entry 614 (ID: L_0998): Command '['mmdc', '-i', 'temp_mermaid.mmd', '-o', '../data/tqa_train_val_test/train/svg_v2/mermaid_output_L_0998.svg', '-t', 'forest']' returned non-zero exit status 1.\n",
      "\n",
      "Generating single mermaid chart\n"
     ]
    },
    {
     "name": "stderr",
     "output_type": "stream",
     "text": [
      "\u001b[31m\u001b[39m\n",
      "\u001b[31mError: Parse error on line 24:\u001b[39m\n",
      "\u001b[31m...e: lead (82 protons), gold (79 protons)\u001b[39m\n",
      "\u001b[31m-----------------------^\u001b[39m\n",
      "\u001b[31mExpecting 'SPACELINE', 'NL', 'EOF', got 'NODE_ID'\u001b[39m\n",
      "\u001b[31mParser3.parseError (/home/siva/.nvm/versions/node/v22.14.0/lib/node_modules/@mermaid-js/mermaid-cli/node_modules/mermaid/dist/mermaid.js:99004:28)\u001b[39m\n",
      "\u001b[31m    at #evaluate (file:///home/siva/.nvm/versions/node/v22.14.0/lib/node_modules/@mermaid-js/mermaid-cli/node_modules/puppeteer-core/lib/esm/puppeteer/cdp/ExecutionContext.js:388:19)\u001b[39m\n",
      "\u001b[31m    at async ExecutionContext.evaluate (file:///home/siva/.nvm/versions/node/v22.14.0/lib/node_modules/@mermaid-js/mermaid-cli/node_modules/puppeteer-core/lib/esm/puppeteer/cdp/ExecutionContext.js:275:16)\u001b[39m\n",
      "\u001b[31m    at async IsolatedWorld.evaluate (file:///home/siva/.nvm/versions/node/v22.14.0/lib/node_modules/@mermaid-js/mermaid-cli/node_modules/puppeteer-core/lib/esm/puppeteer/cdp/IsolatedWorld.js:97:16)\u001b[39m\n",
      "\u001b[31m    at async CdpJSHandle.evaluate (file:///home/siva/.nvm/versions/node/v22.14.0/lib/node_modules/@mermaid-js/mermaid-cli/node_modules/puppeteer-core/lib/esm/puppeteer/api/JSHandle.js:146:20)\u001b[39m\n",
      "\u001b[31m    at async CdpElementHandle.evaluate (file:///home/siva/.nvm/versions/node/v22.14.0/lib/node_modules/@mermaid-js/mermaid-cli/node_modules/puppeteer-core/lib/esm/puppeteer/api/ElementHandle.js:340:20)\u001b[39m\n",
      "\u001b[31m    at async CdpElementHandle.$eval (file:///home/siva/.nvm/versions/node/v22.14.0/lib/node_modules/@mermaid-js/mermaid-cli/node_modules/puppeteer-core/lib/esm/puppeteer/api/ElementHandle.js:494:24)\u001b[39m\n",
      "\u001b[31m    at async CdpFrame.$eval (file:///home/siva/.nvm/versions/node/v22.14.0/lib/node_modules/@mermaid-js/mermaid-cli/node_modules/puppeteer-core/lib/esm/puppeteer/api/Frame.js:450:20)\u001b[39m\n",
      "\u001b[31m    at async CdpPage.$eval (file:///home/siva/.nvm/versions/node/v22.14.0/lib/node_modules/@mermaid-js/mermaid-cli/node_modules/puppeteer-core/lib/esm/puppeteer/api/Page.js:450:20)\u001b[39m\n",
      "\u001b[31m    at async renderMermaid (file:///home/siva/.nvm/versions/node/v22.14.0/lib/node_modules/@mermaid-js/mermaid-cli/src/index.js:252:22)\u001b[39m\n",
      "\u001b[31m    at fromText (/home/siva/.nvm/versions/node/v22.14.0/lib/node_modules/@mermaid-js/mermaid-cli/node_modules/mermaid/dist/mermaid.js:151117:21)\u001b[39m\n",
      "\u001b[31m\u001b[39m\n",
      "Processing entries:  92%|█████████████████████████████████████████████████████████████████████████████████████████████████████████████████████████████████████████████████████████████████████████████████████████████████████████▋                | 616/666 [45:06<03:37,  4.35s/it]"
     ]
    },
    {
     "name": "stdout",
     "output_type": "stream",
     "text": [
      "Error processing entry 615 (ID: L_0999): Command '['mmdc', '-i', 'temp_mermaid.mmd', '-o', '../data/tqa_train_val_test/train/svg_v2/mermaid_output_L_0999.svg', '-t', 'forest']' returned non-zero exit status 1.\n",
      "\n",
      "Generating single mermaid chart\n"
     ]
    },
    {
     "name": "stderr",
     "output_type": "stream",
     "text": [
      "Processing entries:  93%|█████████████████████████████████████████████████████████████████████████████████████████████████████████████████████████████████████████████████████████████████████████████████████████████████████████▉                | 617/666 [45:10<03:35,  4.40s/it]"
     ]
    },
    {
     "name": "stdout",
     "output_type": "stream",
     "text": [
      "Generating single mermaid chart\n"
     ]
    },
    {
     "name": "stderr",
     "output_type": "stream",
     "text": [
      "\u001b[31m\u001b[39m\n",
      "\u001b[31mError: Parse error on line 5:\u001b[39m\n",
      "\u001b[31m...(candlewick and wax) + Oxygen    Produc\u001b[39m\n",
      "\u001b[31m-----------------------^\u001b[39m\n",
      "\u001b[31mExpecting 'SPACELINE', 'NL', 'EOF', got 'SPACELIST'\u001b[39m\n",
      "\u001b[31mParser3.parseError (/home/siva/.nvm/versions/node/v22.14.0/lib/node_modules/@mermaid-js/mermaid-cli/node_modules/mermaid/dist/mermaid.js:99004:28)\u001b[39m\n",
      "\u001b[31m    at #evaluate (file:///home/siva/.nvm/versions/node/v22.14.0/lib/node_modules/@mermaid-js/mermaid-cli/node_modules/puppeteer-core/lib/esm/puppeteer/cdp/ExecutionContext.js:388:19)\u001b[39m\n",
      "\u001b[31m    at async ExecutionContext.evaluate (file:///home/siva/.nvm/versions/node/v22.14.0/lib/node_modules/@mermaid-js/mermaid-cli/node_modules/puppeteer-core/lib/esm/puppeteer/cdp/ExecutionContext.js:275:16)\u001b[39m\n",
      "\u001b[31m    at async IsolatedWorld.evaluate (file:///home/siva/.nvm/versions/node/v22.14.0/lib/node_modules/@mermaid-js/mermaid-cli/node_modules/puppeteer-core/lib/esm/puppeteer/cdp/IsolatedWorld.js:97:16)\u001b[39m\n",
      "\u001b[31m    at async CdpJSHandle.evaluate (file:///home/siva/.nvm/versions/node/v22.14.0/lib/node_modules/@mermaid-js/mermaid-cli/node_modules/puppeteer-core/lib/esm/puppeteer/api/JSHandle.js:146:20)\u001b[39m\n",
      "\u001b[31m    at async CdpElementHandle.evaluate (file:///home/siva/.nvm/versions/node/v22.14.0/lib/node_modules/@mermaid-js/mermaid-cli/node_modules/puppeteer-core/lib/esm/puppeteer/api/ElementHandle.js:340:20)\u001b[39m\n",
      "\u001b[31m    at async CdpElementHandle.$eval (file:///home/siva/.nvm/versions/node/v22.14.0/lib/node_modules/@mermaid-js/mermaid-cli/node_modules/puppeteer-core/lib/esm/puppeteer/api/ElementHandle.js:494:24)\u001b[39m\n",
      "\u001b[31m    at async CdpFrame.$eval (file:///home/siva/.nvm/versions/node/v22.14.0/lib/node_modules/@mermaid-js/mermaid-cli/node_modules/puppeteer-core/lib/esm/puppeteer/api/Frame.js:450:20)\u001b[39m\n",
      "\u001b[31m    at async CdpPage.$eval (file:///home/siva/.nvm/versions/node/v22.14.0/lib/node_modules/@mermaid-js/mermaid-cli/node_modules/puppeteer-core/lib/esm/puppeteer/api/Page.js:450:20)\u001b[39m\n",
      "\u001b[31m    at async renderMermaid (file:///home/siva/.nvm/versions/node/v22.14.0/lib/node_modules/@mermaid-js/mermaid-cli/src/index.js:252:22)\u001b[39m\n",
      "\u001b[31m    at fromText (/home/siva/.nvm/versions/node/v22.14.0/lib/node_modules/@mermaid-js/mermaid-cli/node_modules/mermaid/dist/mermaid.js:151117:21)\u001b[39m\n",
      "\u001b[31m\u001b[39m\n",
      "Processing entries:  93%|██████████████████████████████████████████████████████████████████████████████████████████████████████████████████████████████████████████████████████████████████████████████████████████████████████████▎               | 618/666 [45:15<03:34,  4.46s/it]"
     ]
    },
    {
     "name": "stdout",
     "output_type": "stream",
     "text": [
      "Error processing entry 617 (ID: L_1002): Command '['mmdc', '-i', 'temp_mermaid.mmd', '-o', '../data/tqa_train_val_test/train/svg_v2/mermaid_output_L_1002.svg', '-t', 'forest']' returned non-zero exit status 1.\n",
      "\n",
      "Generating single mermaid chart\n"
     ]
    },
    {
     "name": "stderr",
     "output_type": "stream",
     "text": [
      "Processing entries:  93%|██████████████████████████████████████████████████████████████████████████████████████████████████████████████████████████████████████████████████████████████████████████████████████████████████████████▌               | 619/666 [45:18<03:07,  3.98s/it]"
     ]
    },
    {
     "name": "stdout",
     "output_type": "stream",
     "text": [
      "Generating single mermaid chart\n"
     ]
    },
    {
     "name": "stderr",
     "output_type": "stream",
     "text": [
      "Processing entries:  93%|██████████████████████████████████████████████████████████████████████████████████████████████████████████████████████████████████████████████████████████████████████████████████████████████████████████▉               | 620/666 [45:21<02:58,  3.87s/it]"
     ]
    },
    {
     "name": "stdout",
     "output_type": "stream",
     "text": [
      "Generating single mermaid chart\n"
     ]
    },
    {
     "name": "stderr",
     "output_type": "stream",
     "text": [
      "Processing entries:  93%|███████████████████████████████████████████████████████████████████████████████████████████████████████████████████████████████████████████████████████████████████████████████████████████████████████████▎              | 621/666 [45:29<03:45,  5.01s/it]"
     ]
    },
    {
     "name": "stdout",
     "output_type": "stream",
     "text": [
      "Generating single mermaid chart\n"
     ]
    },
    {
     "name": "stderr",
     "output_type": "stream",
     "text": [
      "Processing entries:  93%|███████████████████████████████████████████████████████████████████████████████████████████████████████████████████████████████████████████████████████████████████████████████████████████████████████████▌              | 622/666 [45:33<03:28,  4.74s/it]"
     ]
    },
    {
     "name": "stdout",
     "output_type": "stream",
     "text": [
      "Generating single mermaid chart\n"
     ]
    },
    {
     "name": "stderr",
     "output_type": "stream",
     "text": [
      "Processing entries:  94%|███████████████████████████████████████████████████████████████████████████████████████████████████████████████████████████████████████████████████████████████████████████████████████████████████████████▉              | 623/666 [45:38<03:21,  4.70s/it]"
     ]
    },
    {
     "name": "stdout",
     "output_type": "stream",
     "text": [
      "Generating single mermaid chart\n"
     ]
    },
    {
     "name": "stderr",
     "output_type": "stream",
     "text": [
      "Processing entries:  94%|████████████████████████████████████████████████████████████████████████████████████████████████████████████████████████████████████████████████████████████████████████████████████████████████████████████▎             | 624/666 [45:41<03:06,  4.44s/it]"
     ]
    },
    {
     "name": "stdout",
     "output_type": "stream",
     "text": [
      "Generating single mermaid chart\n"
     ]
    },
    {
     "name": "stderr",
     "output_type": "stream",
     "text": [
      "Processing entries:  94%|████████████████████████████████████████████████████████████████████████████████████████████████████████████████████████████████████████████████████████████████████████████████████████████████████████████▌             | 625/666 [45:45<02:47,  4.10s/it]"
     ]
    },
    {
     "name": "stdout",
     "output_type": "stream",
     "text": [
      "Generating single mermaid chart\n"
     ]
    },
    {
     "name": "stderr",
     "output_type": "stream",
     "text": [
      "Processing entries:  94%|████████████████████████████████████████████████████████████████████████████████████████████████████████████████████████████████████████████████████████████████████████████████████████████████████████████▉             | 626/666 [45:48<02:36,  3.92s/it]"
     ]
    },
    {
     "name": "stdout",
     "output_type": "stream",
     "text": [
      "Generating single mermaid chart\n"
     ]
    },
    {
     "name": "stderr",
     "output_type": "stream",
     "text": [
      "Processing entries:  94%|█████████████████████████████████████████████████████████████████████████████████████████████████████████████████████████████████████████████████████████████████████████████████████████████████████████████▏            | 627/666 [45:55<03:05,  4.76s/it]"
     ]
    },
    {
     "name": "stdout",
     "output_type": "stream",
     "text": [
      "Generating single mermaid chart\n"
     ]
    },
    {
     "name": "stderr",
     "output_type": "stream",
     "text": [
      "Processing entries:  94%|█████████████████████████████████████████████████████████████████████████████████████████████████████████████████████████████████████████████████████████████████████████████████████████████████████████████▌            | 628/666 [45:58<02:46,  4.38s/it]"
     ]
    },
    {
     "name": "stdout",
     "output_type": "stream",
     "text": [
      "Generating single mermaid chart\n"
     ]
    },
    {
     "name": "stderr",
     "output_type": "stream",
     "text": [
      "Processing entries:  94%|█████████████████████████████████████████████████████████████████████████████████████████████████████████████████████████████████████████████████████████████████████████████████████████████████████████████▉            | 629/666 [46:03<02:37,  4.27s/it]"
     ]
    },
    {
     "name": "stdout",
     "output_type": "stream",
     "text": [
      "Generating single mermaid chart\n"
     ]
    },
    {
     "name": "stderr",
     "output_type": "stream",
     "text": [
      "Processing entries:  95%|██████████████████████████████████████████████████████████████████████████████████████████████████████████████████████████████████████████████████████████████████████████████████████████████████████████████▏           | 630/666 [46:07<02:32,  4.23s/it]"
     ]
    },
    {
     "name": "stdout",
     "output_type": "stream",
     "text": [
      "Generating single mermaid chart\n"
     ]
    },
    {
     "name": "stderr",
     "output_type": "stream",
     "text": [
      "Processing entries:  95%|██████████████████████████████████████████████████████████████████████████████████████████████████████████████████████████████████████████████████████████████████████████████████████████████████████████████▌           | 631/666 [46:10<02:21,  4.05s/it]"
     ]
    },
    {
     "name": "stdout",
     "output_type": "stream",
     "text": [
      "Generating single mermaid chart\n"
     ]
    },
    {
     "name": "stderr",
     "output_type": "stream",
     "text": [
      "[@zenuml/core] Store is a function and is not initiated in 1 second.\n",
      "Processing entries:  95%|██████████████████████████████████████████████████████████████████████████████████████████████████████████████████████████████████████████████████████████████████████████████████████████████████████████████▊           | 632/666 [46:14<02:18,  4.08s/it]"
     ]
    },
    {
     "name": "stdout",
     "output_type": "stream",
     "text": [
      "Generating single mermaid chart\n"
     ]
    },
    {
     "name": "stderr",
     "output_type": "stream",
     "text": [
      "Processing entries:  95%|███████████████████████████████████████████████████████████████████████████████████████████████████████████████████████████████████████████████████████████████████████████████████████████████████████████████▏          | 633/666 [46:20<02:34,  4.68s/it]"
     ]
    },
    {
     "name": "stdout",
     "output_type": "stream",
     "text": [
      "Generating single mermaid chart\n"
     ]
    },
    {
     "name": "stderr",
     "output_type": "stream",
     "text": [
      "Processing entries:  95%|███████████████████████████████████████████████████████████████████████████████████████████████████████████████████████████████████████████████████████████████████████████████████████████████████████████████▌          | 634/666 [46:24<02:21,  4.43s/it]"
     ]
    },
    {
     "name": "stdout",
     "output_type": "stream",
     "text": [
      "Generating single mermaid chart\n"
     ]
    },
    {
     "name": "stderr",
     "output_type": "stream",
     "text": [
      "Processing entries:  95%|███████████████████████████████████████████████████████████████████████████████████████████████████████████████████████████████████████████████████████████████████████████████████████████████████████████████▊          | 635/666 [46:29<02:17,  4.45s/it]"
     ]
    },
    {
     "name": "stdout",
     "output_type": "stream",
     "text": [
      "Generating single mermaid chart\n"
     ]
    },
    {
     "name": "stderr",
     "output_type": "stream",
     "text": [
      "Processing entries:  95%|████████████████████████████████████████████████████████████████████████████████████████████████████████████████████████████████████████████████████████████████████████████████████████████████████████████████▏         | 636/666 [46:34<02:22,  4.75s/it]"
     ]
    },
    {
     "name": "stdout",
     "output_type": "stream",
     "text": [
      "Generating single mermaid chart\n"
     ]
    },
    {
     "name": "stderr",
     "output_type": "stream",
     "text": [
      "Processing entries:  96%|████████████████████████████████████████████████████████████████████████████████████████████████████████████████████████████████████████████████████████████████████████████████████████████████████████████████▌         | 637/666 [46:37<02:01,  4.20s/it]"
     ]
    },
    {
     "name": "stdout",
     "output_type": "stream",
     "text": [
      "Generating single mermaid chart\n"
     ]
    },
    {
     "name": "stderr",
     "output_type": "stream",
     "text": [
      "[@zenuml/core] Store is a function and is not initiated in 1 second.\n",
      "Processing entries:  96%|████████████████████████████████████████████████████████████████████████████████████████████████████████████████████████████████████████████████████████████████████████████████████████████████████████████████▊         | 638/666 [46:42<02:00,  4.29s/it]"
     ]
    },
    {
     "name": "stdout",
     "output_type": "stream",
     "text": [
      "Generating single mermaid chart\n"
     ]
    },
    {
     "name": "stderr",
     "output_type": "stream",
     "text": [
      "[@zenuml/core] Store is a function and is not initiated in 1 second.\n",
      "Processing entries:  96%|█████████████████████████████████████████████████████████████████████████████████████████████████████████████████████████████████████████████████████████████████████████████████████████████████████████████████▏        | 639/666 [46:46<01:56,  4.32s/it]"
     ]
    },
    {
     "name": "stdout",
     "output_type": "stream",
     "text": [
      "Generating single mermaid chart\n"
     ]
    },
    {
     "name": "stderr",
     "output_type": "stream",
     "text": [
      "[@zenuml/core] Store is a function and is not initiated in 1 second.\n",
      "Processing entries:  96%|█████████████████████████████████████████████████████████████████████████████████████████████████████████████████████████████████████████████████████████████████████████████████████████████████████████████████▍        | 640/666 [46:50<01:52,  4.33s/it]"
     ]
    },
    {
     "name": "stdout",
     "output_type": "stream",
     "text": [
      "Generating single mermaid chart\n"
     ]
    },
    {
     "name": "stderr",
     "output_type": "stream",
     "text": [
      "[@zenuml/core] Store is a function and is not initiated in 1 second.\n",
      "Processing entries:  96%|█████████████████████████████████████████████████████████████████████████████████████████████████████████████████████████████████████████████████████████████████████████████████████████████████████████████████▊        | 641/666 [46:54<01:46,  4.24s/it]"
     ]
    },
    {
     "name": "stdout",
     "output_type": "stream",
     "text": [
      "Generating single mermaid chart\n"
     ]
    },
    {
     "name": "stderr",
     "output_type": "stream",
     "text": [
      "[@zenuml/core] Store is a function and is not initiated in 1 second.\n",
      "Processing entries:  96%|██████████████████████████████████████████████████████████████████████████████████████████████████████████████████████████████████████████████████████████████████████████████████████████████████████████████████▏       | 642/666 [46:59<01:47,  4.47s/it]"
     ]
    },
    {
     "name": "stdout",
     "output_type": "stream",
     "text": [
      "Generating single mermaid chart\n"
     ]
    },
    {
     "name": "stderr",
     "output_type": "stream",
     "text": [
      "Processing entries:  97%|██████████████████████████████████████████████████████████████████████████████████████████████████████████████████████████████████████████████████████████████████████████████████████████████████████████████████▍       | 643/666 [47:03<01:38,  4.26s/it]"
     ]
    },
    {
     "name": "stdout",
     "output_type": "stream",
     "text": [
      "Generating single mermaid chart\n"
     ]
    },
    {
     "name": "stderr",
     "output_type": "stream",
     "text": [
      "[@zenuml/core] Store is a function and is not initiated in 1 second.\n",
      "Processing entries:  97%|██████████████████████████████████████████████████████████████████████████████████████████████████████████████████████████████████████████████████████████████████████████████████████████████████████████████████▊       | 644/666 [47:08<01:37,  4.45s/it]"
     ]
    },
    {
     "name": "stdout",
     "output_type": "stream",
     "text": [
      "Generating single mermaid chart\n"
     ]
    },
    {
     "name": "stderr",
     "output_type": "stream",
     "text": [
      "Processing entries:  97%|███████████████████████████████████████████████████████████████████████████████████████████████████████████████████████████████████████████████████████████████████████████████████████████████████████████████████▏      | 645/666 [47:12<01:26,  4.14s/it]"
     ]
    },
    {
     "name": "stdout",
     "output_type": "stream",
     "text": [
      "Generating single mermaid chart\n"
     ]
    },
    {
     "name": "stderr",
     "output_type": "stream",
     "text": [
      "Processing entries:  97%|███████████████████████████████████████████████████████████████████████████████████████████████████████████████████████████████████████████████████████████████████████████████████████████████████████████████████▍      | 646/666 [47:16<01:23,  4.19s/it]"
     ]
    },
    {
     "name": "stdout",
     "output_type": "stream",
     "text": [
      "Generating single mermaid chart\n"
     ]
    },
    {
     "name": "stderr",
     "output_type": "stream",
     "text": [
      "Processing entries:  97%|███████████████████████████████████████████████████████████████████████████████████████████████████████████████████████████████████████████████████████████████████████████████████████████████████████████████████▊      | 647/666 [47:20<01:18,  4.15s/it]"
     ]
    },
    {
     "name": "stdout",
     "output_type": "stream",
     "text": [
      "Generating single mermaid chart\n"
     ]
    },
    {
     "name": "stderr",
     "output_type": "stream",
     "text": [
      "\u001b[31m\u001b[39m\n",
      "\u001b[31mError: Parse error on line 22:\u001b[39m\n",
      "\u001b[31m...est is ethyne (C2H2), also called acetyl...\u001b[39m\n",
      "\u001b[31m-----------------------^\u001b[39m\n",
      "\u001b[31mExpecting 'SPACELINE', 'NL', 'EOF', got 'NODE_ID'\u001b[39m\n",
      "\u001b[31mParser3.parseError (/home/siva/.nvm/versions/node/v22.14.0/lib/node_modules/@mermaid-js/mermaid-cli/node_modules/mermaid/dist/mermaid.js:99004:28)\u001b[39m\n",
      "\u001b[31m    at #evaluate (file:///home/siva/.nvm/versions/node/v22.14.0/lib/node_modules/@mermaid-js/mermaid-cli/node_modules/puppeteer-core/lib/esm/puppeteer/cdp/ExecutionContext.js:388:19)\u001b[39m\n",
      "\u001b[31m    at async ExecutionContext.evaluate (file:///home/siva/.nvm/versions/node/v22.14.0/lib/node_modules/@mermaid-js/mermaid-cli/node_modules/puppeteer-core/lib/esm/puppeteer/cdp/ExecutionContext.js:275:16)\u001b[39m\n",
      "\u001b[31m    at async IsolatedWorld.evaluate (file:///home/siva/.nvm/versions/node/v22.14.0/lib/node_modules/@mermaid-js/mermaid-cli/node_modules/puppeteer-core/lib/esm/puppeteer/cdp/IsolatedWorld.js:97:16)\u001b[39m\n",
      "\u001b[31m    at async CdpJSHandle.evaluate (file:///home/siva/.nvm/versions/node/v22.14.0/lib/node_modules/@mermaid-js/mermaid-cli/node_modules/puppeteer-core/lib/esm/puppeteer/api/JSHandle.js:146:20)\u001b[39m\n",
      "\u001b[31m    at async CdpElementHandle.evaluate (file:///home/siva/.nvm/versions/node/v22.14.0/lib/node_modules/@mermaid-js/mermaid-cli/node_modules/puppeteer-core/lib/esm/puppeteer/api/ElementHandle.js:340:20)\u001b[39m\n",
      "\u001b[31m    at async CdpElementHandle.$eval (file:///home/siva/.nvm/versions/node/v22.14.0/lib/node_modules/@mermaid-js/mermaid-cli/node_modules/puppeteer-core/lib/esm/puppeteer/api/ElementHandle.js:494:24)\u001b[39m\n",
      "\u001b[31m    at async CdpFrame.$eval (file:///home/siva/.nvm/versions/node/v22.14.0/lib/node_modules/@mermaid-js/mermaid-cli/node_modules/puppeteer-core/lib/esm/puppeteer/api/Frame.js:450:20)\u001b[39m\n",
      "\u001b[31m    at async CdpPage.$eval (file:///home/siva/.nvm/versions/node/v22.14.0/lib/node_modules/@mermaid-js/mermaid-cli/node_modules/puppeteer-core/lib/esm/puppeteer/api/Page.js:450:20)\u001b[39m\n",
      "\u001b[31m    at async renderMermaid (file:///home/siva/.nvm/versions/node/v22.14.0/lib/node_modules/@mermaid-js/mermaid-cli/src/index.js:252:22)\u001b[39m\n",
      "\u001b[31m    at fromText (/home/siva/.nvm/versions/node/v22.14.0/lib/node_modules/@mermaid-js/mermaid-cli/node_modules/mermaid/dist/mermaid.js:151117:21)\u001b[39m\n",
      "\u001b[31m\u001b[39m\n",
      "Processing entries:  97%|████████████████████████████████████████████████████████████████████████████████████████████████████████████████████████████████████████████████████████████████████████████████████████████████████████████████████      | 648/666 [47:27<01:28,  4.89s/it]"
     ]
    },
    {
     "name": "stdout",
     "output_type": "stream",
     "text": [
      "Error processing entry 647 (ID: L_1057): Command '['mmdc', '-i', 'temp_mermaid.mmd', '-o', '../data/tqa_train_val_test/train/svg_v2/mermaid_output_L_1057.svg', '-t', 'forest']' returned non-zero exit status 1.\n",
      "\n",
      "Generating single mermaid chart\n"
     ]
    },
    {
     "name": "stderr",
     "output_type": "stream",
     "text": [
      "Processing entries:  97%|████████████████████████████████████████████████████████████████████████████████████████████████████████████████████████████████████████████████████████████████████████████████████████████████████████████████████▍     | 649/666 [47:30<01:17,  4.53s/it]"
     ]
    },
    {
     "name": "stdout",
     "output_type": "stream",
     "text": [
      "Generating single mermaid chart\n"
     ]
    },
    {
     "name": "stderr",
     "output_type": "stream",
     "text": [
      "\u001b[31m\u001b[39m\n",
      "\u001b[31mError: Parse error on line 25:\u001b[39m\n",
      "\u001b[31m...es      Sodium (Na) gives up an electro\u001b[39m\n",
      "\u001b[31m----------------------^\u001b[39m\n",
      "\u001b[31mExpecting 'SPACELINE', 'NL', 'EOF', got 'SPACELIST'\u001b[39m\n",
      "\u001b[31mParser3.parseError (/home/siva/.nvm/versions/node/v22.14.0/lib/node_modules/@mermaid-js/mermaid-cli/node_modules/mermaid/dist/mermaid.js:99004:28)\u001b[39m\n",
      "\u001b[31m    at #evaluate (file:///home/siva/.nvm/versions/node/v22.14.0/lib/node_modules/@mermaid-js/mermaid-cli/node_modules/puppeteer-core/lib/esm/puppeteer/cdp/ExecutionContext.js:388:19)\u001b[39m\n",
      "\u001b[31m    at async ExecutionContext.evaluate (file:///home/siva/.nvm/versions/node/v22.14.0/lib/node_modules/@mermaid-js/mermaid-cli/node_modules/puppeteer-core/lib/esm/puppeteer/cdp/ExecutionContext.js:275:16)\u001b[39m\n",
      "\u001b[31m    at async IsolatedWorld.evaluate (file:///home/siva/.nvm/versions/node/v22.14.0/lib/node_modules/@mermaid-js/mermaid-cli/node_modules/puppeteer-core/lib/esm/puppeteer/cdp/IsolatedWorld.js:97:16)\u001b[39m\n",
      "\u001b[31m    at async CdpJSHandle.evaluate (file:///home/siva/.nvm/versions/node/v22.14.0/lib/node_modules/@mermaid-js/mermaid-cli/node_modules/puppeteer-core/lib/esm/puppeteer/api/JSHandle.js:146:20)\u001b[39m\n",
      "\u001b[31m    at async CdpElementHandle.evaluate (file:///home/siva/.nvm/versions/node/v22.14.0/lib/node_modules/@mermaid-js/mermaid-cli/node_modules/puppeteer-core/lib/esm/puppeteer/api/ElementHandle.js:340:20)\u001b[39m\n",
      "\u001b[31m    at async CdpElementHandle.$eval (file:///home/siva/.nvm/versions/node/v22.14.0/lib/node_modules/@mermaid-js/mermaid-cli/node_modules/puppeteer-core/lib/esm/puppeteer/api/ElementHandle.js:494:24)\u001b[39m\n",
      "\u001b[31m    at async CdpFrame.$eval (file:///home/siva/.nvm/versions/node/v22.14.0/lib/node_modules/@mermaid-js/mermaid-cli/node_modules/puppeteer-core/lib/esm/puppeteer/api/Frame.js:450:20)\u001b[39m\n",
      "\u001b[31m    at async CdpPage.$eval (file:///home/siva/.nvm/versions/node/v22.14.0/lib/node_modules/@mermaid-js/mermaid-cli/node_modules/puppeteer-core/lib/esm/puppeteer/api/Page.js:450:20)\u001b[39m\n",
      "\u001b[31m    at async renderMermaid (file:///home/siva/.nvm/versions/node/v22.14.0/lib/node_modules/@mermaid-js/mermaid-cli/src/index.js:252:22)\u001b[39m\n",
      "\u001b[31m    at fromText (/home/siva/.nvm/versions/node/v22.14.0/lib/node_modules/@mermaid-js/mermaid-cli/node_modules/mermaid/dist/mermaid.js:151117:21)\u001b[39m\n",
      "\u001b[31m\u001b[39m\n",
      "Processing entries:  98%|████████████████████████████████████████████████████████████████████████████████████████████████████████████████████████████████████████████████████████████████████████████████████████████████████████████████████▊     | 650/666 [47:35<01:13,  4.57s/it]"
     ]
    },
    {
     "name": "stdout",
     "output_type": "stream",
     "text": [
      "Error processing entry 649 (ID: L_1059): Command '['mmdc', '-i', 'temp_mermaid.mmd', '-o', '../data/tqa_train_val_test/train/svg_v2/mermaid_output_L_1059.svg', '-t', 'forest']' returned non-zero exit status 1.\n",
      "\n",
      "Generating single mermaid chart\n"
     ]
    },
    {
     "name": "stderr",
     "output_type": "stream",
     "text": [
      "Processing entries:  98%|█████████████████████████████████████████████████████████████████████████████████████████████████████████████████████████████████████████████████████████████████████████████████████████████████████████████████████     | 651/666 [47:39<01:06,  4.44s/it]"
     ]
    },
    {
     "name": "stdout",
     "output_type": "stream",
     "text": [
      "Generating single mermaid chart\n"
     ]
    },
    {
     "name": "stderr",
     "output_type": "stream",
     "text": [
      "[@zenuml/core] Store is a function and is not initiated in 1 second.\n",
      "Processing entries:  98%|█████████████████████████████████████████████████████████████████████████████████████████████████████████████████████████████████████████████████████████████████████████████████████████████████████████████████████▍    | 652/666 [47:43<00:59,  4.24s/it]"
     ]
    },
    {
     "name": "stdout",
     "output_type": "stream",
     "text": [
      "Generating single mermaid chart\n"
     ]
    },
    {
     "name": "stderr",
     "output_type": "stream",
     "text": [
      "Processing entries:  98%|█████████████████████████████████████████████████████████████████████████████████████████████████████████████████████████████████████████████████████████████████████████████████████████████████████████████████████▋    | 653/666 [47:47<00:54,  4.17s/it]"
     ]
    },
    {
     "name": "stdout",
     "output_type": "stream",
     "text": [
      "Generating single mermaid chart\n"
     ]
    },
    {
     "name": "stderr",
     "output_type": "stream",
     "text": [
      "[@zenuml/core] Store is a function and is not initiated in 1 second.\n",
      "Processing entries:  98%|██████████████████████████████████████████████████████████████████████████████████████████████████████████████████████████████████████████████████████████████████████████████████████████████████████████████████████    | 654/666 [47:52<00:54,  4.51s/it]"
     ]
    },
    {
     "name": "stdout",
     "output_type": "stream",
     "text": [
      "Generating single mermaid chart\n"
     ]
    },
    {
     "name": "stderr",
     "output_type": "stream",
     "text": [
      "[@zenuml/core] Store is a function and is not initiated in 1 second.\n",
      "Processing entries:  98%|██████████████████████████████████████████████████████████████████████████████████████████████████████████████████████████████████████████████████████████████████████████████████████████████████████████████████████▍   | 655/666 [47:57<00:50,  4.61s/it]"
     ]
    },
    {
     "name": "stdout",
     "output_type": "stream",
     "text": [
      "Generating single mermaid chart\n"
     ]
    },
    {
     "name": "stderr",
     "output_type": "stream",
     "text": [
      "Processing entries:  98%|██████████████████████████████████████████████████████████████████████████████████████████████████████████████████████████████████████████████████████████████████████████████████████████████████████████████████████▋   | 656/666 [48:00<00:42,  4.26s/it]"
     ]
    },
    {
     "name": "stdout",
     "output_type": "stream",
     "text": [
      "Generating single mermaid chart\n"
     ]
    },
    {
     "name": "stderr",
     "output_type": "stream",
     "text": [
      "Processing entries:  99%|███████████████████████████████████████████████████████████████████████████████████████████████████████████████████████████████████████████████████████████████████████████████████████████████████████████████████████   | 657/666 [48:05<00:38,  4.24s/it]"
     ]
    },
    {
     "name": "stdout",
     "output_type": "stream",
     "text": [
      "Generating single mermaid chart\n"
     ]
    },
    {
     "name": "stderr",
     "output_type": "stream",
     "text": [
      "Processing entries:  99%|███████████████████████████████████████████████████████████████████████████████████████████████████████████████████████████████████████████████████████████████████████████████████████████████████████████████████████▍  | 658/666 [48:10<00:35,  4.50s/it]"
     ]
    },
    {
     "name": "stdout",
     "output_type": "stream",
     "text": [
      "Generating single mermaid chart\n"
     ]
    },
    {
     "name": "stderr",
     "output_type": "stream",
     "text": [
      "Processing entries:  99%|███████████████████████████████████████████████████████████████████████████████████████████████████████████████████████████████████████████████████████████████████████████████████████████████████████████████████████▋  | 659/666 [48:13<00:29,  4.22s/it]"
     ]
    },
    {
     "name": "stdout",
     "output_type": "stream",
     "text": [
      "Generating single mermaid chart\n"
     ]
    },
    {
     "name": "stderr",
     "output_type": "stream",
     "text": [
      "Processing entries:  99%|████████████████████████████████████████████████████████████████████████████████████████████████████████████████████████████████████████████████████████████████████████████████████████████████████████████████████████  | 660/666 [48:18<00:25,  4.23s/it]"
     ]
    },
    {
     "name": "stdout",
     "output_type": "stream",
     "text": [
      "Generating single mermaid chart\n"
     ]
    },
    {
     "name": "stderr",
     "output_type": "stream",
     "text": [
      "Processing entries:  99%|████████████████████████████████████████████████████████████████████████████████████████████████████████████████████████████████████████████████████████████████████████████████████████████████████████████████████████▎ | 661/666 [48:22<00:22,  4.43s/it]"
     ]
    },
    {
     "name": "stdout",
     "output_type": "stream",
     "text": [
      "Generating single mermaid chart\n"
     ]
    },
    {
     "name": "stderr",
     "output_type": "stream",
     "text": [
      "Processing entries:  99%|████████████████████████████████████████████████████████████████████████████████████████████████████████████████████████████████████████████████████████████████████████████████████████████████████████████████████████▋ | 662/666 [48:27<00:17,  4.40s/it]"
     ]
    },
    {
     "name": "stdout",
     "output_type": "stream",
     "text": [
      "Generating single mermaid chart\n"
     ]
    },
    {
     "name": "stderr",
     "output_type": "stream",
     "text": [
      "Processing entries: 100%|█████████████████████████████████████████████████████████████████████████████████████████████████████████████████████████████████████████████████████████████████████████████████████████████████████████████████████████ | 663/666 [48:30<00:12,  4.12s/it]"
     ]
    },
    {
     "name": "stdout",
     "output_type": "stream",
     "text": [
      "Generating single mermaid chart\n"
     ]
    },
    {
     "name": "stderr",
     "output_type": "stream",
     "text": [
      "Processing entries: 100%|█████████████████████████████████████████████████████████████████████████████████████████████████████████████████████████████████████████████████████████████████████████████████████████████████████████████████████████▎| 664/666 [48:34<00:07,  3.96s/it]"
     ]
    },
    {
     "name": "stdout",
     "output_type": "stream",
     "text": [
      "Generating single mermaid chart\n"
     ]
    },
    {
     "name": "stderr",
     "output_type": "stream",
     "text": [
      "Processing entries: 100%|█████████████████████████████████████████████████████████████████████████████████████████████████████████████████████████████████████████████████████████████████████████████████████████████████████████████████████████▋| 665/666 [48:37<00:03,  3.73s/it]"
     ]
    },
    {
     "name": "stdout",
     "output_type": "stream",
     "text": [
      "Generating single mermaid chart\n"
     ]
    },
    {
     "name": "stderr",
     "output_type": "stream",
     "text": [
      "Processing entries: 100%|██████████████████████████████████████████████████████████████████████████████████████████████████████████████████████████████████████████████████████████████████████████████████████████████████████████████████████████| 666/666 [48:40<00:00,  4.38s/it]\n"
     ]
    }
   ],
   "source": [
    "import os\n",
    "from tqdm import tqdm  # progress bar library\n",
    "\n",
    "# Determine the dataset directory based on the data_path\n",
    "dataset_folder = os.path.dirname(data_path)\n",
    "\n",
    "# Create separate output folders in the dataset directory for mindmap text and SVG\n",
    "mindmap_text_folder = os.path.join(dataset_folder, \"mindmap_text_v2\")\n",
    "svg_folder = os.path.join(dataset_folder, \"svg_v2\")\n",
    "\n",
    "os.makedirs(mindmap_text_folder, exist_ok=True)\n",
    "os.makedirs(svg_folder, exist_ok=True)\n",
    "\n",
    "# File to log failed entries\n",
    "failed_log_path = os.path.join(dataset_folder, \"failed_entries.txt\")\n",
    "\n",
    "# Clear the failed log file if it exists\n",
    "with open(failed_log_path, \"w\", encoding=\"utf-8\") as log_file:\n",
    "    log_file.write(\"Failed Entries Log:\\n\")\n",
    "\n",
    "# Iterate over the full dataset to generate and render mind maps for each entry with a progress bar\n",
    "for i, entry in tqdm(enumerate(data), total=len(data), desc=\"Processing entries\"):\n",
    "    try:\n",
    "        # Use a dataset identifier if available, otherwise fallback to the index\n",
    "        identifier = entry.get(\"globalID\", f\"entry_{i}\")\n",
    "        \n",
    "        # Extract the textbook text with image explanations from the current entry\n",
    "        extracted_texts = extract_textbook_text_with_image_explainations(entry)\n",
    "        \n",
    "        # Combine the texts into a single string separated by newlines\n",
    "        combined_text = \"\\n\\n\".join(extracted_texts)\n",
    "        \n",
    "        # If there is no text to process, skip this entry\n",
    "        if not combined_text.strip():\n",
    "            continue\n",
    "        \n",
    "        # Generate the Mermaid mind map using the combined text\n",
    "        mindmap_code = generate_mindmap(combined_text, llm)\n",
    "        \n",
    "        # Clean the generated Mermaid code\n",
    "        cleaned_code = clean_mermaid_code(mindmap_code)\n",
    "        \n",
    "        # Define unique output filenames using the identifier\n",
    "        txt_filename = os.path.join(mindmap_text_folder, f\"mermaid_code_{identifier}.txt\")\n",
    "        svg_filename = os.path.join(svg_folder, f\"mermaid_output_{identifier}.svg\")\n",
    "        \n",
    "        # Save the cleaned Mermaid code to a text file\n",
    "        with open(txt_filename, \"w\", encoding=\"utf-8\") as txt_file:\n",
    "            txt_file.write(cleaned_code)\n",
    "        \n",
    "        # Render and display the Mermaid diagram using the 'forest' theme, saving to the SVG folder\n",
    "        render_mermaid(cleaned_code, svg_filename, theme='forest')\n",
    "        \n",
    "    except Exception as e:\n",
    "        error_message = f\"Error processing entry {i} (ID: {identifier}): {e}\\n\"\n",
    "        print(error_message)\n",
    "        with open(failed_log_path, \"a\", encoding=\"utf-8\") as log_file:\n",
    "            log_file.write(error_message)\n",
    "        continue\n"
   ]
  },
  {
   "cell_type": "code",
   "execution_count": 40,
   "id": "f0209c40-e4d4-444a-98d2-061fe0b69911",
   "metadata": {},
   "outputs": [
    {
     "name": "stderr",
     "output_type": "stream",
     "text": [
      "Processing entries: 100%|███████████████████████████████████████████████████████████████████████████████████████████████████████████████████████████████████████████████████████████████████████████████████████████████████████████████████████| 666/666 [00:00<00:00, 16213.02it/s]\n"
     ]
    }
   ],
   "source": [
    "import os\n",
    "from tqdm import tqdm  # progress bar library\n",
    "\n",
    "# Determine the dataset directory based on the data_path\n",
    "dataset_folder = os.path.dirname(data_path)\n",
    "\n",
    "# Create separate output folders in the dataset directory for mindmap text and SVG\n",
    "mindmap_text_folder = os.path.join(dataset_folder, \"mindmap_text_v2\")\n",
    "svg_folder = os.path.join(dataset_folder, \"svg_v2\")\n",
    "\n",
    "os.makedirs(mindmap_text_folder, exist_ok=True)\n",
    "os.makedirs(svg_folder, exist_ok=True)\n",
    "\n",
    "# File to log failed entries\n",
    "failed_log_path = os.path.join(dataset_folder, \"failed_entries.txt\")\n",
    "\n",
    "# Clear the failed log file if it exists\n",
    "with open(failed_log_path, \"w\", encoding=\"utf-8\") as log_file:\n",
    "    log_file.write(\"Failed Entries Log:\\n\")\n",
    "\n",
    "# Iterate over the full dataset to generate and render mind maps for each entry with a progress bar\n",
    "for i, entry in tqdm(enumerate(data), total=len(data), desc=\"Processing entries\"):\n",
    "    try:\n",
    "        # Use a dataset identifier if available, otherwise fallback to the index\n",
    "        identifier = entry.get(\"globalID\", f\"entry_{i}\")\n",
    "        \n",
    "        # Define unique output filenames using the identifier\n",
    "        txt_filename = os.path.join(mindmap_text_folder, f\"mermaid_code_{identifier}.txt\")\n",
    "        svg_filename = os.path.join(svg_folder, f\"mermaid_output_{identifier}.svg\")\n",
    "        \n",
    "        # Skip this entry if the SVG file already exists\n",
    "        if os.path.exists(svg_filename):\n",
    "            continue\n",
    "        \n",
    "        # Extract the textbook text with image explanations from the current entry\n",
    "        extracted_texts = extract_textbook_text_with_image_explainations(entry)\n",
    "        \n",
    "        # Combine the texts into a single string separated by newlines\n",
    "        combined_text = \"\\n\\n\".join(extracted_texts)\n",
    "        \n",
    "        # If there is no text to process, skip this entry\n",
    "        if not combined_text.strip():\n",
    "            continue\n",
    "        \n",
    "        # Generate the Mermaid mind map using the combined text\n",
    "        mindmap_code = generate_mindmap(combined_text, llm)\n",
    "        \n",
    "        # Clean the generated Mermaid code\n",
    "        cleaned_code = clean_mermaid_code(mindmap_code)\n",
    "        \n",
    "        # Save the cleaned Mermaid code to a text file\n",
    "        with open(txt_filename, \"w\", encoding=\"utf-8\") as txt_file:\n",
    "            txt_file.write(cleaned_code)\n",
    "        \n",
    "        # Render and display the Mermaid diagram using the 'forest' theme, saving to the SVG folder\n",
    "        render_mermaid(cleaned_code, svg_filename, theme='forest')\n",
    "        \n",
    "    except Exception as e:\n",
    "        error_message = f\"Error processing entry {i} (ID: {identifier}): {e}\\n\"\n",
    "        print(error_message)\n",
    "        with open(failed_log_path, \"a\", encoding=\"utf-8\") as log_file:\n",
    "            log_file.write(error_message)\n",
    "        continue\n"
   ]
  },
  {
   "cell_type": "code",
   "execution_count": null,
   "id": "e33c0ad6-103d-4472-addd-bdcb301561c3",
   "metadata": {},
   "outputs": [],
   "source": []
  }
 ],
 "metadata": {
  "kernelspec": {
   "display_name": "edu",
   "language": "python",
   "name": "edu"
  },
  "language_info": {
   "codemirror_mode": {
    "name": "ipython",
    "version": 3
   },
   "file_extension": ".py",
   "mimetype": "text/x-python",
   "name": "python",
   "nbconvert_exporter": "python",
   "pygments_lexer": "ipython3",
   "version": "3.13.2"
  }
 },
 "nbformat": 4,
 "nbformat_minor": 5
}
