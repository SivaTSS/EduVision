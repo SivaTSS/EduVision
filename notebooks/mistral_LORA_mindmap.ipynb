{
 "cells": [
  {
   "cell_type": "code",
   "execution_count": 3,
   "id": "84056826-c8f9-4853-91c2-39559b483a00",
   "metadata": {},
   "outputs": [],
   "source": [
    "import torch\n",
    "from transformers import AutoModelForCausalLM, AutoTokenizer, TrainingArguments, Trainer\n",
    "from peft import get_peft_model, LoraConfig, TaskType\n",
    "from datasets import load_dataset\n",
    "import json\n",
    "import os"
   ]
  },
  {
   "cell_type": "code",
   "execution_count": 4,
   "id": "9e4a8a45-ff5e-48d2-a188-8090bf2bf330",
   "metadata": {},
   "outputs": [],
   "source": [
    "# !pip install peft"
   ]
  },
  {
   "cell_type": "code",
   "execution_count": 5,
   "id": "c061ebbe-f1f5-42b4-b418-bb329f635dac",
   "metadata": {},
   "outputs": [],
   "source": [
    "with open(\"../keys.json\", \"r\") as file:\n",
    "    token_data = json.load(file)\n",
    "HUGGINGFACE_TOKEN = token_data[\"huggingface_access_token\"]\n",
    "\n",
    "os.environ[\"HF_TOKEN\"] = HUGGINGFACE_TOKEN "
   ]
  },
  {
   "cell_type": "code",
   "execution_count": 6,
   "id": "e68ea490-1046-481b-b4d5-db52bddba122",
   "metadata": {},
   "outputs": [
    {
     "data": {
      "application/vnd.jupyter.widget-view+json": {
       "model_id": "b067126a14d44c358f199046d461592e",
       "version_major": 2,
       "version_minor": 0
      },
      "text/plain": [
       "Loading checkpoint shards:   0%|          | 0/3 [00:00<?, ?it/s]"
      ]
     },
     "metadata": {},
     "output_type": "display_data"
    }
   ],
   "source": [
    "# Define the instruct-tuned model checkpoint\n",
    "model_name = \"mistralai/Mistral-7B-Instruct-v0.3\"\n",
    "scratch_dir = \"../models\"\n",
    "\n",
    "# Load the tokenizer (force using the slow tokenizer)\n",
    "tokenizer = AutoTokenizer.from_pretrained(model_name, cache_dir=scratch_dir)\n",
    "\n",
    "# Load the model\n",
    "model = AutoModelForCausalLM.from_pretrained(\n",
    "    model_name,\n",
    "    cache_dir=scratch_dir,\n",
    "    device_map=\"auto\",\n",
    "    torch_dtype=torch.float16\n",
    ")"
   ]
  },
  {
   "cell_type": "code",
   "execution_count": 7,
   "id": "9d703557-233e-4520-8339-3918f3654ecd",
   "metadata": {},
   "outputs": [],
   "source": [
    "# Define the LoRA configuration.\n",
    "# You can adjust r, alpha, dropout, and target modules according to your needs.\n",
    "lora_config = LoraConfig(\n",
    "    r=8,                      # rank of update matrices\n",
    "    lora_alpha=32,            # scaling factor\n",
    "    target_modules=[\"q_proj\", \"v_proj\"],  # which modules to adapt (example modules)\n",
    "    lora_dropout=0.1,         # dropout probability for lora layers\n",
    "    bias=\"none\",\n",
    "    task_type=TaskType.CAUSAL_LM\n",
    ")\n",
    "\n",
    "# Wrap the model with LoRA\n",
    "model = get_peft_model(model, lora_config)\n",
    "\n",
    "# Load and preprocess a dataset (here we use Wikitext-2 as an example)\n",
    "dataset = load_dataset(\"wikitext\", \"wikitext-2-raw-v1\", split=\"train\")\n"
   ]
  },
  {
   "cell_type": "code",
   "execution_count": 6,
   "id": "952aa73d-db96-4db5-9020-22d560a0ece5",
   "metadata": {},
   "outputs": [],
   "source": [
    "sample_dataset = dataset.select(range(100))"
   ]
  },
  {
   "cell_type": "code",
   "execution_count": 7,
   "id": "e9c44261-722c-45b2-953e-2a11ce80e637",
   "metadata": {},
   "outputs": [],
   "source": [
    "# Set the pad_token if it isn't already defined\n",
    "if tokenizer.pad_token is None:\n",
    "    tokenizer.pad_token = tokenizer.eos_token\n",
    "    \n",
    "def tokenize_function(example):\n",
    "    outputs = tokenizer(\n",
    "        example[\"text\"],\n",
    "        truncation=True,\n",
    "        padding=\"max_length\",\n",
    "        max_length=512  # adjust max_length as required\n",
    "    )\n",
    "    outputs[\"labels\"] = outputs[\"input_ids\"].copy()\n",
    "    return outputs\n",
    "\n",
    "tokenized_dataset = sample_dataset.map(tokenize_function, batched=True)\n",
    "tokenized_dataset.set_format(type=\"torch\", columns=[\"input_ids\", \"attention_mask\", \"labels\"])\n"
   ]
  },
  {
   "cell_type": "code",
   "execution_count": 8,
   "id": "5641905c-7fcf-47a4-936f-c93d49aa4391",
   "metadata": {},
   "outputs": [
    {
     "name": "stderr",
     "output_type": "stream",
     "text": [
      "/opt/miniconda3/lib/python3.11/site-packages/transformers/training_args.py:1575: FutureWarning: `evaluation_strategy` is deprecated and will be removed in version 4.46 of 🤗 Transformers. Use `eval_strategy` instead\n",
      "  warnings.warn(\n"
     ]
    }
   ],
   "source": [
    "\n",
    "# Define training arguments.\n",
    "training_args = TrainingArguments(\n",
    "    output_dir=\"./lora_mistral\",\n",
    "    num_train_epochs=1,\n",
    "    per_device_train_batch_size=2,\n",
    "    gradient_accumulation_steps=8,  # simulate larger batch sizes\n",
    "    learning_rate=1e-4,\n",
    "    fp16=True,                     # mixed precision training\n",
    "    logging_steps=10,\n",
    "    save_steps=100,\n",
    "    evaluation_strategy=\"no\"\n",
    ")\n",
    "\n"
   ]
  },
  {
   "cell_type": "code",
   "execution_count": 9,
   "id": "c696d82f-338a-4ae1-8063-044cd23d2f62",
   "metadata": {},
   "outputs": [
    {
     "data": {
      "text/html": [
       "\n",
       "    <div>\n",
       "      \n",
       "      <progress value='6' max='6' style='width:300px; height:20px; vertical-align: middle;'></progress>\n",
       "      [6/6 00:23, Epoch 0/1]\n",
       "    </div>\n",
       "    <table border=\"1\" class=\"dataframe\">\n",
       "  <thead>\n",
       " <tr style=\"text-align: left;\">\n",
       "      <th>Step</th>\n",
       "      <th>Training Loss</th>\n",
       "    </tr>\n",
       "  </thead>\n",
       "  <tbody>\n",
       "  </tbody>\n",
       "</table><p>"
      ],
      "text/plain": [
       "<IPython.core.display.HTML object>"
      ]
     },
     "metadata": {},
     "output_type": "display_data"
    },
    {
     "data": {
      "application/vnd.jupyter.widget-view+json": {
       "model_id": "718d21a7571a45dbb76ee67088864a5f",
       "version_major": 2,
       "version_minor": 0
      },
      "text/plain": [
       "config.json:   0%|          | 0.00/601 [00:00<?, ?B/s]"
      ]
     },
     "metadata": {},
     "output_type": "display_data"
    }
   ],
   "source": [
    "# Create the Trainer instance\n",
    "trainer = Trainer(\n",
    "    model=model,\n",
    "    args=training_args,\n",
    "    train_dataset=tokenized_dataset,\n",
    ")\n",
    "\n",
    "# Start training\n",
    "trainer.train()\n",
    "\n",
    "# Save the LoRA adapter weights (or the entire model if desired)\n",
    "model.save_pretrained(\"./lora_mistral_adapter\")"
   ]
  },
  {
   "cell_type": "code",
   "execution_count": null,
   "id": "d958e8e7-fd84-4112-b659-433fb3691f12",
   "metadata": {},
   "outputs": [],
   "source": []
  },
  {
   "cell_type": "markdown",
   "id": "0f2ed260-a311-4c8e-b132-47c57cc305ab",
   "metadata": {},
   "source": [
    "## Predict pipeline for Mistral-7b"
   ]
  },
  {
   "cell_type": "code",
   "execution_count": 1,
   "id": "a03ed8f8-7011-4f0b-8a19-465df05e52d4",
   "metadata": {},
   "outputs": [],
   "source": [
    "import os\n",
    "import json\n",
    "from langgraph.prebuilt import create_react_agent\n",
    "from langchain_openai import ChatOpenAI\n",
    "from langchain_core.tools import tool\n",
    "from IPython.display import Markdown, display\n",
    "import pandas as pd\n",
    "import numpy as np\n",
    "import matplotlib.pyplot as plt"
   ]
  },
  {
   "cell_type": "code",
   "execution_count": 2,
   "id": "419465a1-c903-43bf-b235-7e2cd87fbb97",
   "metadata": {
    "scrolled": true
   },
   "outputs": [
    {
     "name": "stdout",
     "output_type": "stream",
     "text": [
      "{'adjunctTopics': {'Apply Concepts': {'content': {'figures': [], 'mediaLinks': [], 'text': '5. A glacier is melting. What are all of the scientists you can think of who might be involved in studying this glacier? What would each of them do? '}, 'orderID': 't_12'}, 'Introduction': {'content': {'figures': [{'caption': 'FIGURE 1.10 Earth as seen from Apollo 17.', 'imagePath': 'textbook_images/earth_science_and_its_branches_20010.png'}], 'mediaLinks': [], 'text': 'Earth Science is the study of all aspects of our planet Earth. Earth Science is not just about the molten lava, icy mountain peaks, steep canyons and towering waterfalls of the continents. Earth Science includes the atmosphere and oceans. The field also looks out into the solar system, galaxy, and universe. Earth scientists seek to understand the beautiful planet on which we depend (Figure 1.10). Different branches of Earth Science study one particular part of Earth. Since all of the branches are connected, specialists work together to answer complicated questions. Lets look at some important branches of Earth Science. '}, 'orderID': 't_03'}, 'Lesson Objectives': {'content': {'figures': [], 'mediaLinks': [], 'text': 'Describe Earth Science and its branches.\\nIdentify the field of geology as a branch of Earth Science that deals with the rocks and minerals of Earth.\\nDescribe the field of oceanography as a branch of Earth Science that explores the ocean.\\nDefine the field of meteorology as a branch of Earth Science that deals with the atmosphere.\\nUnderstand that astronomy is a branch of Earth Science that studies our solar system and universe.\\nList some of the other branches of Earth Science, and how they relate to the study of Earth.\\n'}, 'orderID': 't_01'}, 'Lesson Summary': {'content': {'figures': [{'caption': 'FIGURE 1.17 Scientists are using telescopes to search for other planets that may have conditions favorable for life. The places they can look are near our solar system in our galaxy.', 'imagePath': 'textbook_images/earth_science_and_its_branches_20017.png'}], 'mediaLinks': [], 'text': 'Earth science includes many fields of science related to our home planet. Geology is the study of Earths material and structures and the processes that create them. Oceanography is the study of the oceans: water movement, chemistry and the ocean basins among other things. Meteorologists study the atmosphere including climate and weather. Environmental science deals with the effects people have on the environment. Astronomers study Earths larger environment: the solar system, galaxy, and universe that our planet resides in. '}, 'orderID': 't_09'}, 'Points to Consider': {'content': {'figures': [], 'mediaLinks': [], 'text': 'Why is Earth Science so important? Which branch of Earth Science would you most like to explore? What is the biggest problem that we face today? Which Earth scientists may help us to solve the problem? What other branches of science or society are related to and necessary for Earth Science? '}, 'orderID': 't_14'}, 'Recall': {'content': {'figures': [], 'mediaLinks': [], 'text': '1. What are three major branches of Earth Science? 2. What branch of science deals with stars and galaxies beyond Earth? 3. List important functions of Earth scientists. 4. What does a meteorologist study? '}, 'orderID': 't_11'}, 'Think Critically': {'content': {'figures': [], 'mediaLinks': [], 'text': '6. Design an experiment that you could conduct in any branch of Earth Science. Identify the independent variable and dependent variable. '}, 'orderID': 't_13'}, 'Vocabulary': {'astronomy': '', 'geology': 'the study of the rocks, processes, and history of Earth ', 'meteorology': '', 'oceanography': ''}}, 'diagramAnnotations': {}, 'globalID': 'L_0002', 'instructionalDiagrams': {}, 'lessonName': 'earth science and its branches', 'questions': {'diagramQuestions': {}, 'nonDiagramQuestions': {'NDQ_000046': {'answerChoices': {'a': {'idStructural': 'a.', 'processedText': 'solid Earth.', 'rawText': 'a. solid Earth.'}, 'b': {'idStructural': 'b.', 'processedText': 'Earths oceans.', 'rawText': 'b. Earths oceans.'}, 'c': {'idStructural': 'c.', 'processedText': 'Earths atmosphere.', 'rawText': 'c. Earths atmosphere.'}, 'd': {'idStructural': 'd.', 'processedText': 'all of the above', 'rawText': 'd. all of the above'}}, 'beingAsked': {'processedText': 'Earth science is the study of', 'rawText': '1. Earth science is the study of'}, 'correctAnswer': {'processedText': 'd', 'rawText': '1. d'}, 'globalID': 'NDQ_000046', 'idStructural': '1. ', 'questionSubType': 'Multiple Choice', 'questionType': 'Multiple Choice'}, 'NDQ_000047': {'answerChoices': {'a': {'idStructural': 'a.', 'processedText': 'mountains form.', 'rawText': 'a. mountains form.'}, 'b': {'idStructural': 'b.', 'processedText': 'people cause pollution.', 'rawText': 'b. people cause pollution.'}, 'c': {'idStructural': 'c.', 'processedText': 'tornadoes occur.', 'rawText': 'c. tornadoes occur.'}, 'd': {'idStructural': 'd.', 'processedText': 'two of the above', 'rawText': 'd. two of the above'}}, 'beingAsked': {'processedText': 'A geologist would be most likely to investigate how', 'rawText': '2. A geologist would be most likely to investigate how'}, 'correctAnswer': {'processedText': 'a', 'rawText': '2. a'}, 'globalID': 'NDQ_000047', 'idStructural': '2. ', 'questionSubType': 'Multiple Choice', 'questionType': 'Multiple Choice'}, 'NDQ_000048': {'answerChoices': {'a': {'idStructural': 'a.', 'processedText': 'meteorologist', 'rawText': 'a. meteorologist'}, 'b': {'idStructural': 'b.', 'processedText': 'climatologist', 'rawText': 'b. climatologist'}, 'c': {'idStructural': 'c.', 'processedText': 'geologist', 'rawText': 'c. geologist'}, 'd': {'idStructural': 'd.', 'processedText': 'ecologist', 'rawText': 'd. ecologist'}}, 'beingAsked': {'processedText': 'Which type of Earth scientist might look for petroleum for an oil company?', 'rawText': '3. Which type of Earth scientist might look for petroleum for an oil company?'}, 'correctAnswer': {'processedText': 'c', 'rawText': '3. c'}, 'globalID': 'NDQ_000048', 'idStructural': '3. ', 'questionSubType': 'Multiple Choice', 'questionType': 'Multiple Choice'}, 'NDQ_000049': {'answerChoices': {'a': {'idStructural': 'a.', 'processedText': 'human pollution of ocean water.', 'rawText': 'a. human pollution of ocean water.'}, 'b': {'idStructural': 'b.', 'processedText': 'naturally occurring elements in ocean water.', 'rawText': 'b. naturally occurring elements in ocean water.'}, 'c': {'idStructural': 'c.', 'processedText': 'rising levels of ocean water.', 'rawText': 'c. rising levels of ocean water.'}, 'd': {'idStructural': 'd.', 'processedText': 'rocks on the ocean floor.', 'rawText': 'd. rocks on the ocean floor.'}}, 'beingAsked': {'processedText': 'Chemical oceanography is the study of the', 'rawText': '4. Chemical oceanography is the study of the'}, 'correctAnswer': {'processedText': 'b', 'rawText': '4. b'}, 'globalID': 'NDQ_000049', 'idStructural': '4. ', 'questionSubType': 'Multiple Choice', 'questionType': 'Multiple Choice'}, 'NDQ_000050': {'answerChoices': {'a': {'idStructural': 'a.', 'processedText': 'planetary geologist.', 'rawText': 'a. planetary geologist.'}, 'b': {'idStructural': 'b.', 'processedText': 'seismologist.', 'rawText': 'b. seismologist.'}, 'c': {'idStructural': 'c.', 'processedText': 'physical oceanographer.', 'rawText': 'c. physical oceanographer.'}, 'd': {'idStructural': 'd.', 'processedText': 'climatologist.', 'rawText': 'd. climatologist.'}}, 'beingAsked': {'processedText': 'The problem of global warming is most likely to be the focus of a scientist known as a', 'rawText': '5. The problem of global warming is most likely to be the focus of a scientist known as a'}, 'correctAnswer': {'processedText': 'd', 'rawText': '5. d'}, 'globalID': 'NDQ_000050', 'idStructural': '5. ', 'questionSubType': 'Multiple Choice', 'questionType': 'Multiple Choice'}, 'NDQ_000051': {'answerChoices': {'a': {'idStructural': 'a.', 'processedText': 'volcanologist', 'rawText': 'a. volcanologist'}, 'b': {'idStructural': 'b.', 'processedText': 'meteorologist', 'rawText': 'b. meteorologist'}, 'c': {'idStructural': 'c.', 'processedText': 'climatologist', 'rawText': 'c. climatologist'}, 'd': {'idStructural': 'd.', 'processedText': 'environmental scientist', 'rawText': 'd. environmental scientist'}}, 'beingAsked': {'processedText': 'Which type of Earth scientist would you expect to give a weather report?', 'rawText': '6. Which type of Earth scientist would you expect to give a weather report?'}, 'correctAnswer': {'processedText': 'b', 'rawText': '6. b'}, 'globalID': 'NDQ_000051', 'idStructural': '6. ', 'questionSubType': 'Multiple Choice', 'questionType': 'Multiple Choice'}, 'NDQ_000052': {'answerChoices': {'a': {'idStructural': 'a.', 'processedText': 'satellites.', 'rawText': 'a. satellites.'}, 'b': {'idStructural': 'b.', 'processedText': 'radar.', 'rawText': 'b. radar.'}, 'c': {'idStructural': 'c.', 'processedText': 'telescopes.', 'rawText': 'c. telescopes.'}, 'd': {'idStructural': 'd.', 'processedText': 'two of the above', 'rawText': 'd. two of the above'}}, 'beingAsked': {'processedText': 'Tools typically used by meteorologists include', 'rawText': '7. Tools typically used by meteorologists include'}, 'correctAnswer': {'processedText': 'd', 'rawText': '7. d'}, 'globalID': 'NDQ_000052', 'idStructural': '7. ', 'questionSubType': 'Multiple Choice', 'questionType': 'Multiple Choice'}, 'NDQ_000053': {'answerChoices': {'a': {'idStructural': 'a.', 'processedText': 'astronomy', 'rawText': 'a. astronomy'}, 'b': {'idStructural': 'b.', 'processedText': 'oceanography', 'rawText': 'b. oceanography'}, 'c': {'idStructural': 'c.', 'processedText': 'geology', 'rawText': 'c. geology'}, 'd': {'idStructural': 'd.', 'processedText': 'environmental science', 'rawText': 'd. environmental science'}, 'e': {'idStructural': 'e.', 'processedText': 'Earth science', 'rawText': 'e. Earth science'}, 'f': {'idStructural': 'f.', 'processedText': 'seismology', 'rawText': 'f. seismology'}, 'g': {'idStructural': 'g.', 'processedText': 'meteorology', 'rawText': 'g. meteorology'}}, 'beingAsked': {'processedText': 'study of Earths weather', 'rawText': '1. study of Earths weather'}, 'correctAnswer': {'processedText': 'g', 'rawText': '1.g'}, 'globalID': 'NDQ_000053', 'idStructural': '1.', 'questionSubType': 'Matching', 'questionType': 'Multiple Choice'}, 'NDQ_000054': {'answerChoices': {'a': {'idStructural': 'a.', 'processedText': 'astronomy', 'rawText': 'a. astronomy'}, 'b': {'idStructural': 'b.', 'processedText': 'oceanography', 'rawText': 'b. oceanography'}, 'c': {'idStructural': 'c.', 'processedText': 'geology', 'rawText': 'c. geology'}, 'd': {'idStructural': 'd.', 'processedText': 'environmental science', 'rawText': 'd. environmental science'}, 'e': {'idStructural': 'e.', 'processedText': 'Earth science', 'rawText': 'e. Earth science'}, 'f': {'idStructural': 'f.', 'processedText': 'seismology', 'rawText': 'f. seismology'}, 'g': {'idStructural': 'g.', 'processedText': 'meteorology', 'rawText': 'g. meteorology'}}, 'beingAsked': {'processedText': 'study of earthquakes', 'rawText': '2. study of earthquakes'}, 'correctAnswer': {'processedText': 'f', 'rawText': '2.f'}, 'globalID': 'NDQ_000054', 'idStructural': '2.', 'questionSubType': 'Matching', 'questionType': 'Multiple Choice'}, 'NDQ_000055': {'answerChoices': {'a': {'idStructural': 'a.', 'processedText': 'astronomy', 'rawText': 'a. astronomy'}, 'b': {'idStructural': 'b.', 'processedText': 'oceanography', 'rawText': 'b. oceanography'}, 'c': {'idStructural': 'c.', 'processedText': 'geology', 'rawText': 'c. geology'}, 'd': {'idStructural': 'd.', 'processedText': 'environmental science', 'rawText': 'd. environmental science'}, 'e': {'idStructural': 'e.', 'processedText': 'Earth science', 'rawText': 'e. Earth science'}, 'f': {'idStructural': 'f.', 'processedText': 'seismology', 'rawText': 'f. seismology'}, 'g': {'idStructural': 'g.', 'processedText': 'meteorology', 'rawText': 'g. meteorology'}}, 'beingAsked': {'processedText': 'study of Earths oceans', 'rawText': '3. study of Earths oceans'}, 'correctAnswer': {'processedText': 'b', 'rawText': '3.b'}, 'globalID': 'NDQ_000055', 'idStructural': '3.', 'questionSubType': 'Matching', 'questionType': 'Multiple Choice'}, 'NDQ_000056': {'answerChoices': {'a': {'idStructural': 'a.', 'processedText': 'astronomy', 'rawText': 'a. astronomy'}, 'b': {'idStructural': 'b.', 'processedText': 'oceanography', 'rawText': 'b. oceanography'}, 'c': {'idStructural': 'c.', 'processedText': 'geology', 'rawText': 'c. geology'}, 'd': {'idStructural': 'd.', 'processedText': 'environmental science', 'rawText': 'd. environmental science'}, 'e': {'idStructural': 'e.', 'processedText': 'Earth science', 'rawText': 'e. Earth science'}, 'f': {'idStructural': 'f.', 'processedText': 'seismology', 'rawText': 'f. seismology'}, 'g': {'idStructural': 'g.', 'processedText': 'meteorology', 'rawText': 'g. meteorology'}}, 'beingAsked': {'processedText': 'study of solid Earth', 'rawText': '4. study of solid Earth'}, 'correctAnswer': {'processedText': 'c', 'rawText': '4.c'}, 'globalID': 'NDQ_000056', 'idStructural': '4.', 'questionSubType': 'Matching', 'questionType': 'Multiple Choice'}, 'NDQ_000057': {'answerChoices': {'a': {'idStructural': 'a.', 'processedText': 'astronomy', 'rawText': 'a. astronomy'}, 'b': {'idStructural': 'b.', 'processedText': 'oceanography', 'rawText': 'b. oceanography'}, 'c': {'idStructural': 'c.', 'processedText': 'geology', 'rawText': 'c. geology'}, 'd': {'idStructural': 'd.', 'processedText': 'environmental science', 'rawText': 'd. environmental science'}, 'e': {'idStructural': 'e.', 'processedText': 'Earth science', 'rawText': 'e. Earth science'}, 'f': {'idStructural': 'f.', 'processedText': 'seismology', 'rawText': 'f. seismology'}, 'g': {'idStructural': 'g.', 'processedText': 'meteorology', 'rawText': 'g. meteorology'}}, 'beingAsked': {'processedText': 'study of human effects on Earth', 'rawText': '5. study of human effects on Earth'}, 'correctAnswer': {'processedText': 'd', 'rawText': '5.d'}, 'globalID': 'NDQ_000057', 'idStructural': '5.', 'questionSubType': 'Matching', 'questionType': 'Multiple Choice'}, 'NDQ_000058': {'answerChoices': {'a': {'idStructural': 'a.', 'processedText': 'astronomy', 'rawText': 'a. astronomy'}, 'b': {'idStructural': 'b.', 'processedText': 'oceanography', 'rawText': 'b. oceanography'}, 'c': {'idStructural': 'c.', 'processedText': 'geology', 'rawText': 'c. geology'}, 'd': {'idStructural': 'd.', 'processedText': 'environmental science', 'rawText': 'd. environmental science'}, 'e': {'idStructural': 'e.', 'processedText': 'Earth science', 'rawText': 'e. Earth science'}, 'f': {'idStructural': 'f.', 'processedText': 'seismology', 'rawText': 'f. seismology'}, 'g': {'idStructural': 'g.', 'processedText': 'meteorology', 'rawText': 'g. meteorology'}}, 'beingAsked': {'processedText': 'study of all aspects of planet Earth', 'rawText': '6. study of all aspects of planet Earth'}, 'correctAnswer': {'processedText': 'e', 'rawText': '6.e'}, 'globalID': 'NDQ_000058', 'idStructural': '6.', 'questionSubType': 'Matching', 'questionType': 'Multiple Choice'}, 'NDQ_000059': {'answerChoices': {'a': {'idStructural': 'a.', 'processedText': 'astronomy', 'rawText': 'a. astronomy'}, 'b': {'idStructural': 'b.', 'processedText': 'oceanography', 'rawText': 'b. oceanography'}, 'c': {'idStructural': 'c.', 'processedText': 'geology', 'rawText': 'c. geology'}, 'd': {'idStructural': 'd.', 'processedText': 'environmental science', 'rawText': 'd. environmental science'}, 'e': {'idStructural': 'e.', 'processedText': 'Earth science', 'rawText': 'e. Earth science'}, 'f': {'idStructural': 'f.', 'processedText': 'seismology', 'rawText': 'f. seismology'}, 'g': {'idStructural': 'g.', 'processedText': 'meteorology', 'rawText': 'g. meteorology'}}, 'beingAsked': {'processedText': 'study of the universe', 'rawText': '7. study of the universe'}, 'correctAnswer': {'processedText': 'a', 'rawText': '7.a'}, 'globalID': 'NDQ_000059', 'idStructural': '7.', 'questionSubType': 'Matching', 'questionType': 'Multiple Choice'}, 'NDQ_000060': {'answerChoices': {'a': {'idStructural': 'a.', 'processedText': 'true', 'rawText': 'a. true'}, 'b': {'idStructural': 'b.', 'processedText': 'false', 'rawText': 'b. false'}}, 'beingAsked': {'processedText': 'Earth science is a branch of geology.', 'rawText': '1. Earth science is a branch of geology.'}, 'correctAnswer': {'processedText': 'b', 'rawText': '1.false'}, 'globalID': 'NDQ_000060', 'idStructural': '1.', 'questionSubType': 'True or False', 'questionType': 'Multiple Choice'}, 'NDQ_000061': {'answerChoices': {'a': {'idStructural': 'a.', 'processedText': 'true', 'rawText': 'a. true'}, 'b': {'idStructural': 'b.', 'processedText': 'false', 'rawText': 'b. false'}}, 'beingAsked': {'processedText': 'Some geologists specialize in the study of soil.', 'rawText': '2. Some geologists specialize in the study of soil.'}, 'correctAnswer': {'processedText': 'a', 'rawText': '2.true'}, 'globalID': 'NDQ_000061', 'idStructural': '2.', 'questionSubType': 'True or False', 'questionType': 'Multiple Choice'}, 'NDQ_000062': {'answerChoices': {'a': {'idStructural': 'a.', 'processedText': 'true', 'rawText': 'a. true'}, 'b': {'idStructural': 'b.', 'processedText': 'false', 'rawText': 'b. false'}}, 'beingAsked': {'processedText': 'Rock layers below Earths surface are a record of Earths history.', 'rawText': '3. Rock layers below Earths surface are a record of Earths history.'}, 'correctAnswer': {'processedText': 'a', 'rawText': '3.true'}, 'globalID': 'NDQ_000062', 'idStructural': '3.', 'questionSubType': 'True or False', 'questionType': 'Multiple Choice'}, 'NDQ_000063': {'answerChoices': {'a': {'idStructural': 'a.', 'processedText': 'true', 'rawText': 'a. true'}, 'b': {'idStructural': 'b.', 'processedText': 'false', 'rawText': 'b. false'}}, 'beingAsked': {'processedText': 'The science of oceanography started with mapping the oceans.', 'rawText': '4. The science of oceanography started with mapping the oceans.'}, 'correctAnswer': {'processedText': 'a', 'rawText': '4.true'}, 'globalID': 'NDQ_000063', 'idStructural': '4.', 'questionSubType': 'True or False', 'questionType': 'Multiple Choice'}, 'NDQ_000064': {'answerChoices': {'a': {'idStructural': 'a.', 'processedText': 'true', 'rawText': 'a. true'}, 'b': {'idStructural': 'b.', 'processedText': 'false', 'rawText': 'b. false'}}, 'beingAsked': {'processedText': 'Scientists have not yet visited the deepest parts of the ocean.', 'rawText': '5. Scientists have not yet visited the deepest parts of the ocean.'}, 'correctAnswer': {'processedText': 'b', 'rawText': '5.false'}, 'globalID': 'NDQ_000064', 'idStructural': '5.', 'questionSubType': 'True or False', 'questionType': 'Multiple Choice'}, 'NDQ_000065': {'answerChoices': {'a': {'idStructural': 'a.', 'processedText': 'true', 'rawText': 'a. true'}, 'b': {'idStructural': 'b.', 'processedText': 'false', 'rawText': 'b. false'}}, 'beingAsked': {'processedText': 'Most of Earths water is in rivers and lakes.', 'rawText': '6. Most of Earths water is in rivers and lakes.'}, 'correctAnswer': {'processedText': 'b', 'rawText': '6.false'}, 'globalID': 'NDQ_000065', 'idStructural': '6.', 'questionSubType': 'True or False', 'questionType': 'Multiple Choice'}, 'NDQ_000066': {'answerChoices': {'a': {'idStructural': 'a.', 'processedText': 'true', 'rawText': 'a. true'}, 'b': {'idStructural': 'b.', 'processedText': 'false', 'rawText': 'b. false'}}, 'beingAsked': {'processedText': 'Humans have had relatively little impact on the oceans.', 'rawText': '7. Humans have had relatively little impact on the oceans.'}, 'correctAnswer': {'processedText': 'b', 'rawText': '7.false'}, 'globalID': 'NDQ_000066', 'idStructural': '7.', 'questionSubType': 'True or False', 'questionType': 'Multiple Choice'}, 'NDQ_000067': {'answerChoices': {'a': {'idStructural': 'a.', 'processedText': 'true', 'rawText': 'a. true'}, 'b': {'idStructural': 'b.', 'processedText': 'false', 'rawText': 'b. false'}}, 'beingAsked': {'processedText': 'There are several branches of oceanography.', 'rawText': '8. There are several branches of oceanography.'}, 'correctAnswer': {'processedText': 'a', 'rawText': '8.true'}, 'globalID': 'NDQ_000067', 'idStructural': '8.', 'questionSubType': 'True or False', 'questionType': 'Multiple Choice'}, 'NDQ_000068': {'answerChoices': {'a': {'idStructural': 'a.', 'processedText': 'true', 'rawText': 'a. true'}, 'b': {'idStructural': 'b.', 'processedText': 'false', 'rawText': 'b. false'}}, 'beingAsked': {'processedText': 'Meteorologists study meteors.', 'rawText': '9. Meteorologists study meteors.'}, 'correctAnswer': {'processedText': 'b', 'rawText': '9.false'}, 'globalID': 'NDQ_000068', 'idStructural': '9.', 'questionSubType': 'True or False', 'questionType': 'Multiple Choice'}, 'NDQ_000069': {'answerChoices': {'a': {'idStructural': 'a.', 'processedText': 'true', 'rawText': 'a. true'}, 'b': {'idStructural': 'b.', 'processedText': 'false', 'rawText': 'b. false'}}, 'beingAsked': {'processedText': 'The burning of fossil fuels contributes to global warming.', 'rawText': '10. The burning of fossil fuels contributes to global warming.'}, 'correctAnswer': {'processedText': 'a', 'rawText': '10.true'}, 'globalID': 'NDQ_000069', 'idStructural': '10.', 'questionSubType': 'True or False', 'questionType': 'Multiple Choice'}}}, 'topics': {'T_0016': {'content': {'figures': [{'caption': 'FIGURE 1.11 (A) Mineralogists focus on all kinds of minerals. (B) Seismographs are used to measure earthquakes and pinpoint their origins.', 'imagePath': 'textbook_images/earth_science_and_its_branches_20011.png'}], 'mediaLinks': [], 'text': 'Geology is the study of the solid Earth. Geologists study how rocks and minerals form. The way mountains rise up is part of geology. The way mountains erode away is another part. Geologists also study fossils and Earths history. There are many other branches of geology. There is so much to know about our home planet that most geologists become specialists in one area. For example, a mineralogist studies minerals, as seen in (Figure 1.11). Some volcanologists brave molten lava to study volcanoes. Seismologists monitor earthquakes worldwide to help protect people and property from harm (Figure 1.11). Paleontologists are interested in fossils and how ancient organisms lived. Scientists who compare the geology of other planets to Earth are planetary geologists. Some geologists study the Moon. Others look for petroleum. Still others specialize in studying soil. Some geologists can tell how old rocks are and determine how different rock layers formed. There is probably an expert in almost anything you can think of related to Earth! Geologists might study rivers and lakes, the underground water found between soil and rock particles, or even water that is frozen in glaciers. Earth scientists also need geographers who explore the features of Earths surface and work with cartographers, who make maps. Studying the layers of rock beneath the surface helps us to understand the history of planet Earth (Figure 1.12). '}, 'globalID': 'T_0016', 'topicName': 'Geology'}, 'T_0017': {'content': {'figures': [{'caption': 'FIGURE 1.12 These folded rock layers have bent over time. Studying rock layers helps scientists to explain these layers and the geologic history of the area.', 'imagePath': 'textbook_images/earth_science_and_its_branches_20012.png'}, {'caption': 'FIGURE 1.13 This research vessel is specially designed to explore the seas around Antarctica.', 'imagePath': 'textbook_images/earth_science_and_its_branches_20013.png'}], 'mediaLinks': [], 'text': 'Oceanography is the study of the oceans. The word oceanology might be more accurate, since ology is the study of. Graph is to write and refers to map making. But mapping the oceans is how oceanography started. More than 70% of Earths surface is covered with water. Almost all of that water is in the oceans. Scientists have visited the deepest parts of the ocean in submarines. Remote vehicles go where humans cant. Yet much of the ocean remains unexplored. Some people call the ocean the last frontier. Humans have had a big impact on the oceans. Populations of fish and other marine species have been overfished. Contaminants are polluting the waters. Global warming is melting the thick ice caps and warming the water. Warmer water expands and, along with water from the melting ice caps, causes sea levels to rise. There are many branches of oceanography. Physical oceanography is the study of water movement, like waves and ocean currents (Figure 1.13). Marine geology looks at rocks and structures in the ocean basins. Chemical oceanography studies the natural elements in ocean water. Marine biology looks at marine life. '}, 'globalID': 'T_0017', 'topicName': 'Oceanography'}, 'T_0018': {'content': {'figures': [{'caption': 'FIGURE 1.14 Meteorologists can help us to prepare for major storms or know if today is a good day for a picnic.', 'imagePath': 'textbook_images/earth_science_and_its_branches_20014.png'}, {'caption': 'FIGURE 1.15 Carbon dioxide released into the atmo- sphere is causing global warming.', 'imagePath': 'textbook_images/earth_science_and_its_branches_20015.png'}], 'mediaLinks': [], 'text': 'Meteorologists dont study meteors they study the atmosphere! The word meteor refers to things in the air. Meteorology includes the study of weather patterns, clouds, hurricanes, and tornadoes. Meteorology is very important. Using radars and satellites, meteorologists work to predict, or forecast, the weather (Figure 1.14). The atmosphere is a thin layer of gas that surrounds Earth. Climatologists study the atmosphere. These scientists work to understand the climate as it is now. They also study how climate will change in response to global warming. The atmosphere contains small amounts of carbon dioxide. Climatologists have found that humans are putting a lot of extra carbon dioxide into the atmosphere. This is mostly from burning fossil fuels. The extra carbon dioxide traps heat from the Sun. Trapped heat causes the atmosphere to heat up. We call this global warming (Figure 1.15). '}, 'globalID': 'T_0018', 'topicName': 'Climatology and Meteorology'}, 'T_0019': {'content': {'figures': [{'caption': 'FIGURE 1.16 In a marine ecosystem, coral, fish, and other sea life depend on each other for survival.', 'imagePath': 'textbook_images/earth_science_and_its_branches_20016.png'}], 'mediaLinks': [], 'text': 'Environmental scientists study the ways that humans affect the planet we live on. We hope to find better ways of living that can also help the environment. Ecologists study lifeforms and the environments they live in (Figure 1.16). They try to predict the chain reactions that could occur when one part of the ecosystem is disrupted. '}, 'globalID': 'T_0019', 'topicName': 'Environmental Science'}, 'T_0020': {'content': {'figures': [], 'mediaLinks': [], 'text': 'Astronomy and astronomers have shown that the planets in our solar system are not the only planets in the universe. Over 530 planets were known outside our solar system in 2011. And there are billions of other planets! The universe also contains black holes, other galaxies, asteroids, comets, and nebula. As big as Earth seems, the entire universe is vastly more enormous. Earth is just a tiny part of our universe. Astronomers use many tools to study things in space. Earth-orbiting telescopes view stars and galaxies from the darkness of space (Figure 1.17). They may have optical and radio telescopes to see things that the human eye cant see. Spacecraft travel great distances to send back information on faraway places. Astronomers ask a wide variety of questions. How do strong bursts of energy from the Sun, called solar flares, affect communications? How might an impact from an asteroid affect life on Earth? What are the properties of black holes? Astronomers ask bigger questions too. How was the universe created? Is there life on other planets? Are there resources on other planets that people could use? Astronomers use what Earth scientists know to make comparisons with other planets. '}, 'globalID': 'T_0020', 'topicName': 'Astronomy'}}}\n"
     ]
    }
   ],
   "source": [
    "# Dataset can be downloaded from\n",
    "# !wget https://s3.amazonaws.com/ai2-vision-textbook-dataset/dataset_releases/tqa/tqa_train_val_test.zip\n",
    "# !unzip tqa_train_val_test.zip\n",
    "\n",
    "# Load the dataset JSON file\n",
    "data_path = \"../data/tqa_train_val_test/train/tqa_v1_train.json\"\n",
    "with open(data_path, \"r\", encoding=\"utf-8\") as f:\n",
    "    data = json.load(f)\n",
    "\n",
    "# For a quick check, print the first record\n",
    "print(data[0])"
   ]
  },
  {
   "cell_type": "code",
   "execution_count": 3,
   "id": "016b1654-d812-4836-8076-5f4008e9639e",
   "metadata": {},
   "outputs": [],
   "source": [
    "def extract_textbook_text(entry):\n",
    "    \"\"\"\n",
    "    Extract textbook text from a TQA dataset entry.\n",
    "    Retrieves text from the 'lessonName', 'adjunctTopics', and 'topics' sections.\n",
    "    \"\"\"\n",
    "    texts = []\n",
    "    \n",
    "    # Include lesson title\n",
    "    lesson_name = entry.get(\"lessonName\", \"\")\n",
    "    if lesson_name:\n",
    "        texts.append(f\"Lesson: {lesson_name.strip()}\")\n",
    "    \n",
    "    # Extract text from adjunctTopics\n",
    "    adjunct_topics = entry.get(\"adjunctTopics\", {})\n",
    "    for topic in adjunct_topics.values():\n",
    "        content = topic.get(\"content\", {})\n",
    "        text = content.get(\"text\", \"\")\n",
    "        if text:\n",
    "            texts.append(text.strip())\n",
    "            \n",
    "    # Extract text from topics\n",
    "    topics = entry.get(\"topics\", {})\n",
    "    for topic in topics.values():\n",
    "        content = topic.get(\"content\", {})\n",
    "        text = content.get(\"text\", \"\")\n",
    "        if text:\n",
    "            texts.append(text.strip())\n",
    "    \n",
    "    return texts"
   ]
  },
  {
   "cell_type": "code",
   "execution_count": 16,
   "id": "f5b49359-ac46-47a7-848a-c481e9f0163b",
   "metadata": {},
   "outputs": [],
   "source": [
    "import os\n",
    "\n",
    "def extract_textbook_text_with_image_explainations(entry):\n",
    "    \"\"\"\n",
    "    Extract textbook text from a TQA dataset entry.\n",
    "    Retrieves text from:\n",
    "      - 'lessonName'\n",
    "      - 'adjunctTopics' and their content text and figures (with LLava explanations)\n",
    "      - 'topics' and their content text and figures (with LLava explanations)\n",
    "    \n",
    "    For figures, this function assumes that:\n",
    "      - Figures with image paths containing \"textbook_images\" have their LLava explanations \n",
    "        stored in the \"textbook_images_llava_captions\" folder.\n",
    "      - Figures with image paths containing \"teaching_images\" have their LLava explanations \n",
    "        stored in the \"teaching_images_llava_captions\" folder.\n",
    "    \n",
    "    Explanation files are assumed to be named as the image file name (without its extension)\n",
    "    plus a \".txt\" extension, and are located under the base directory:\n",
    "    \"../data/tqa_train_val_test/train/\"\n",
    "    \"\"\"\n",
    "    texts = []\n",
    "    \n",
    "    # Include lesson title\n",
    "    lesson_name = entry.get(\"lessonName\", \"\")\n",
    "    if lesson_name:\n",
    "        texts.append(f\"Lesson: {lesson_name.strip()}\")\n",
    "    \n",
    "    # Base directory for explanation files\n",
    "    base_dir = \"../data/tqa_train_val_test/train/\"\n",
    "    \n",
    "    def extract_content_and_explanations(section):\n",
    "        section_texts = []\n",
    "        content = section.get(\"content\", {})\n",
    "        \n",
    "        # Append the text content if available\n",
    "        text = content.get(\"text\", \"\")\n",
    "        if text:\n",
    "            section_texts.append(text.strip())\n",
    "        \n",
    "        # Process figures for captions and explanations\n",
    "        figures = content.get(\"figures\", [])\n",
    "        for fig in figures:\n",
    "            caption = fig.get(\"caption\", \"\").strip()\n",
    "            image_path = fig.get(\"imagePath\", \"\")\n",
    "            if image_path:\n",
    "                # Determine the appropriate explanation folder based on the image path\n",
    "                if \"textbook_images\" in image_path:\n",
    "                    explanation_folder = \"textbook_images_llava_captions\"\n",
    "                elif \"teaching_images\" in image_path:\n",
    "                    explanation_folder = \"teaching_images_llava_captions\"\n",
    "                else:\n",
    "                    explanation_folder = None\n",
    "                \n",
    "                if explanation_folder:\n",
    "                    file_name = os.path.basename(image_path)\n",
    "                    # Remove file extension and add .txt\n",
    "                    base_name = os.path.splitext(file_name)[0]\n",
    "                    explanation_file = os.path.join(base_dir, explanation_folder, base_name + \".txt\")\n",
    "                    print(\"Looking for explanation file:\", explanation_file)\n",
    "                    if os.path.exists(explanation_file):\n",
    "                        with open(explanation_file, 'r') as f:\n",
    "                            explanation = f.read().strip()\n",
    "                        if explanation:\n",
    "                            # Combine caption and explanation in a single string\n",
    "                            combined_text = \"\"\n",
    "                            if caption:\n",
    "                                combined_text += f\"Image Caption: {caption}. \"\n",
    "                            combined_text += f\"Image Explanation: {explanation}\"\n",
    "                            section_texts.append(combined_text)\n",
    "        return section_texts\n",
    "\n",
    "    # Extract text and explanations from adjunctTopics\n",
    "    adjunct_topics = entry.get(\"adjunctTopics\", {})\n",
    "    for topic in adjunct_topics.values():\n",
    "        texts.extend(extract_content_and_explanations(topic))\n",
    "    \n",
    "    # Extract text and explanations from topics\n",
    "    topics = entry.get(\"topics\", {})\n",
    "    for topic in topics.values():\n",
    "        texts.extend(extract_content_and_explanations(topic))\n",
    "    \n",
    "    return texts\n"
   ]
  },
  {
   "cell_type": "code",
   "execution_count": 17,
   "id": "64d7c7bb-236a-4e35-97b0-dfa024d1ee05",
   "metadata": {
    "scrolled": true
   },
   "outputs": [
    {
     "name": "stdout",
     "output_type": "stream",
     "text": [
      "Looking for explanation file: ../data/tqa_train_val_test/train/textbook_images_llava_captions/earth_science_and_its_branches_20010.txt\n",
      "Looking for explanation file: ../data/tqa_train_val_test/train/textbook_images_llava_captions/earth_science_and_its_branches_20017.txt\n",
      "Looking for explanation file: ../data/tqa_train_val_test/train/textbook_images_llava_captions/earth_science_and_its_branches_20011.txt\n",
      "Looking for explanation file: ../data/tqa_train_val_test/train/textbook_images_llava_captions/earth_science_and_its_branches_20012.txt\n",
      "Looking for explanation file: ../data/tqa_train_val_test/train/textbook_images_llava_captions/earth_science_and_its_branches_20013.txt\n",
      "Looking for explanation file: ../data/tqa_train_val_test/train/textbook_images_llava_captions/earth_science_and_its_branches_20014.txt\n",
      "Looking for explanation file: ../data/tqa_train_val_test/train/textbook_images_llava_captions/earth_science_and_its_branches_20015.txt\n",
      "Looking for explanation file: ../data/tqa_train_val_test/train/textbook_images_llava_captions/earth_science_and_its_branches_20016.txt\n",
      "Combined Text:\n",
      "\n",
      "Lesson: earth science and its branches\n",
      "\n",
      "5. A glacier is melting. What are all of the scientists you can think of who might be involved in studying this glacier? What would each of them do?\n",
      "\n",
      "Earth Science is the study of all aspects of our planet Earth. Earth Science is not just about the molten lava, icy mountain peaks, steep canyons and towering waterfalls of the continents. Earth Science includes the atmosphere and oceans. The field also looks out into the solar system, galaxy, and universe. Earth scientists seek to understand the beautiful planet on which we depend (Figure 1.10). Different branches of Earth Science study one particular part of Earth. Since all of the branches are connected, specialists work together to answer complicated questions. Lets look at some important branches of Earth Science.\n",
      "\n",
      "Image Caption: FIGURE 1.10 Earth as seen from Apollo 17.. Image Explanation: The image shows a close-up view of the Earth from space. The Earth is surrounded by a black background, emphasizing the planet's features. The Earth is divided into different continents and oceans, making it easy to identify the various land masses and bodies of water. The image captures the beauty and complexity of our planet, showcasing the diverse landscapes and the interconnectedness of the Earth's ecosystems.\n",
      "\n",
      "Describe Earth Science and its branches.\n",
      "Identify the field of geology as a branch of Earth Science that deals with the rocks and minerals of Earth.\n",
      "Describe the field of oceanography as a branch of Earth Science that explores the ocean.\n",
      "Define the field of meteorology as a branch of Earth Science that deals with the atmosphere.\n",
      "Understand that astronomy is a branch of Earth Science that studies our solar system and universe.\n",
      "List some of the other branches of Earth Science, and how they relate to the study of Earth.\n",
      "\n",
      "Earth science includes many fields of science related to our home planet. Geology is the study of Earths material and structures and the processes that create them. Oceanography is the study of the oceans: water movement, chemistry and the ocean basins among other things. Meteorologists study the atmosphere including climate and weather. Environmental science deals with the effects people have on the environment. Astronomers study Earths larger environment: the solar system, galaxy, and universe that our planet resides in.\n",
      "\n",
      "Image Caption: FIGURE 1.17 Scientists are using telescopes to search for other planets that may have conditions favorable for life. The places they can look are near our solar system in our galaxy.. Image Explanation: In the image, there is a representation of the solar system, focusing on the sun and the planets. The sun is located in the center of the image, with the planets surrounding it. The planets are labeled as follows:\n",
      "1. Mercury\n",
      "2. Venus\n",
      "3. Earth\n",
      "4. Mars\n",
      "5. Jupiter\n",
      "6. Saturn\n",
      "7. Uranus\n",
      "8. Neptune\n",
      "In addition to the planets, there is a reference to the \"Our Planet Hunting Neighborhood\" in the bottom right corner of the image.\n",
      "\n",
      "Why is Earth Science so important? Which branch of Earth Science would you most like to explore? What is the biggest problem that we face today? Which Earth scientists may help us to solve the problem? What other branches of science or society are related to and necessary for Earth Science?\n",
      "\n",
      "1. What are three major branches of Earth Science? 2. What branch of science deals with stars and galaxies beyond Earth? 3. List important functions of Earth scientists. 4. What does a meteorologist study?\n",
      "\n",
      "6. Design an experiment that you could conduct in any branch of Earth Science. Identify the independent variable and dependent variable.\n",
      "\n",
      "Geology is the study of the solid Earth. Geologists study how rocks and minerals form. The way mountains rise up is part of geology. The way mountains erode away is another part. Geologists also study fossils and Earths history. There are many other branches of geology. There is so much to know about our home planet that most geologists become specialists in one area. For example, a mineralogist studies minerals, as seen in (Figure 1.11). Some volcanologists brave molten lava to study volcanoes. Seismologists monitor earthquakes worldwide to help protect people and property from harm (Figure 1.11). Paleontologists are interested in fossils and how ancient organisms lived. Scientists who compare the geology of other planets to Earth are planetary geologists. Some geologists study the Moon. Others look for petroleum. Still others specialize in studying soil. Some geologists can tell how old rocks are and determine how different rock layers formed. There is probably an expert in almost anything you can think of related to Earth! Geologists might study rivers and lakes, the underground water found between soil and rock particles, or even water that is frozen in glaciers. Earth scientists also need geographers who explore the features of Earths surface and work with cartographers, who make maps. Studying the layers of rock beneath the surface helps us to understand the history of planet Earth (Figure 1.12).\n",
      "\n",
      "Image Caption: FIGURE 1.11 (A) Mineralogists focus on all kinds of minerals. (B) Seismographs are used to measure earthquakes and pinpoint their origins.. Image Explanation: In the image, there is a display case filled with various rocks and minerals. The display case is divided into three sections, each containing different types of rocks and minerals. The rocks and minerals are arranged in a visually appealing manner, showcasing their unique characteristics.\n",
      "In addition to the rocks and minerals, there are two clocks present in the scene. One clock is located on the left side of the display case, while the other clock is positioned on the right side. These clocks likely help visitors keep track of time during their visit to the exhibit.\n",
      "\n",
      "Oceanography is the study of the oceans. The word oceanology might be more accurate, since ology is the study of. Graph is to write and refers to map making. But mapping the oceans is how oceanography started. More than 70% of Earths surface is covered with water. Almost all of that water is in the oceans. Scientists have visited the deepest parts of the ocean in submarines. Remote vehicles go where humans cant. Yet much of the ocean remains unexplored. Some people call the ocean the last frontier. Humans have had a big impact on the oceans. Populations of fish and other marine species have been overfished. Contaminants are polluting the waters. Global warming is melting the thick ice caps and warming the water. Warmer water expands and, along with water from the melting ice caps, causes sea levels to rise. There are many branches of oceanography. Physical oceanography is the study of water movement, like waves and ocean currents (Figure 1.13). Marine geology looks at rocks and structures in the ocean basins. Chemical oceanography studies the natural elements in ocean water. Marine biology looks at marine life.\n",
      "\n",
      "Image Caption: FIGURE 1.12 These folded rock layers have bent over time. Studying rock layers helps scientists to explain these layers and the geologic history of the area.. Image Explanation: The image depicts a mountainous landscape with a large, steep cliff in the foreground. The cliff appears to be made of red rock, giving it a striking appearance. In the background, there is a blue sky, adding to the beauty of the scene.\n",
      "A few trees can be seen scattered throughout the landscape, with some closer to the cliff and others further away. The combination of the red rock cliff, the blue sky, and the trees creates a picturesque and serene environment.\n",
      "\n",
      "Image Caption: FIGURE 1.13 This research vessel is specially designed to explore the seas around Antarctica.. Image Explanation: In the image, there is a large red and white ship docked in a harbor. The ship appears to be a crane barge, which is a type of vessel used for lifting and transporting heavy loads. The crane barge is docked next to a large building, which could be a warehouse or another type of facility.\n",
      "There are several birds flying in the sky above the crane barge, adding a sense of liveliness to the scene. Additionally, there are two people visible in the image, likely observing the crane barge or going about their daily activities in the harbor area.\n",
      "\n",
      "Meteorologists dont study meteors they study the atmosphere! The word meteor refers to things in the air. Meteorology includes the study of weather patterns, clouds, hurricanes, and tornadoes. Meteorology is very important. Using radars and satellites, meteorologists work to predict, or forecast, the weather (Figure 1.14). The atmosphere is a thin layer of gas that surrounds Earth. Climatologists study the atmosphere. These scientists work to understand the climate as it is now. They also study how climate will change in response to global warming. The atmosphere contains small amounts of carbon dioxide. Climatologists have found that humans are putting a lot of extra carbon dioxide into the atmosphere. This is mostly from burning fossil fuels. The extra carbon dioxide traps heat from the Sun. Trapped heat causes the atmosphere to heat up. We call this global warming (Figure 1.15).\n",
      "\n",
      "Image Caption: FIGURE 1.14 Meteorologists can help us to prepare for major storms or know if today is a good day for a picnic.. Image Explanation: The image depicts a dark, cloudy sky above a lush green forest. The sky is filled with clouds, creating a dramatic backdrop for the trees. There are several trees scattered throughout the scene, with some closer to the foreground and others further in the distance. The combination of the dark sky and the vibrant greenery of the forest creates a captivating and serene atmosphere.\n",
      "\n",
      "Image Caption: FIGURE 1.15 Carbon dioxide released into the atmo- sphere is causing global warming.. Image Explanation: In the image, there is a group of four smokestacks emitting a significant amount of smoke into the sky. The smokestacks are part of a power plant, and the smoke appears to be a byproduct of the plant's operation. The sky above the smokestacks is cloudy, adding to the overall atmosphere of the scene. The power plant is located near some trees, which can be seen in the foreground of the image.\n",
      "\n",
      "Environmental scientists study the ways that humans affect the planet we live on. We hope to find better ways of living that can also help the environment. Ecologists study lifeforms and the environments they live in (Figure 1.16). They try to predict the chain reactions that could occur when one part of the ecosystem is disrupted.\n",
      "\n",
      "Image Caption: FIGURE 1.16 In a marine ecosystem, coral, fish, and other sea life depend on each other for survival.. Image Explanation: In the image, there is a diverse group of colorful fish swimming together in a coral reef. The fish are scattered throughout the scene, with some closer to the foreground and others further in the background. The fish vary in size and color, creating a vibrant and lively underwater environment. The coral reef provides a natural habitat for these aquatic creatures, allowing them to thrive and interact with one another.\n",
      "\n",
      "Astronomy and astronomers have shown that the planets in our solar system are not the only planets in the universe. Over 530 planets were known outside our solar system in 2011. And there are billions of other planets! The universe also contains black holes, other galaxies, asteroids, comets, and nebula. As big as Earth seems, the entire universe is vastly more enormous. Earth is just a tiny part of our universe. Astronomers use many tools to study things in space. Earth-orbiting telescopes view stars and galaxies from the darkness of space (Figure 1.17). They may have optical and radio telescopes to see things that the human eye cant see. Spacecraft travel great distances to send back information on faraway places. Astronomers ask a wide variety of questions. How do strong bursts of energy from the Sun, called solar flares, affect communications? How might an impact from an asteroid affect life on Earth? What are the properties of black holes? Astronomers ask bigger questions too. How was the universe created? Is there life on other planets? Are there resources on other planets that people could use? Astronomers use what Earth scientists know to make comparisons with other planets.\n"
     ]
    }
   ],
   "source": [
    "# Combine the extracted text from the first record\n",
    "extracted_texts = extract_textbook_text_with_image_explainations(data[0])\n",
    "combined_text = \"\\n\\n\".join(extracted_texts)\n",
    "print(\"Combined Text:\\n\")\n",
    "print(combined_text)"
   ]
  },
  {
   "cell_type": "code",
   "execution_count": 18,
   "id": "d3c0c9b9-341a-41ab-9561-162fba6bfada",
   "metadata": {},
   "outputs": [],
   "source": [
    "import torch\n",
    "from transformers import AutoModelForCausalLM, AutoTokenizer\n",
    "from peft import PeftModel"
   ]
  },
  {
   "cell_type": "code",
   "execution_count": 19,
   "id": "77342171-4cc7-4cd4-b735-76e4fbc40ecc",
   "metadata": {},
   "outputs": [
    {
     "data": {
      "application/vnd.jupyter.widget-view+json": {
       "model_id": "ddbb216d3f6d45a8bec0dac4369f942f",
       "version_major": 2,
       "version_minor": 0
      },
      "text/plain": [
       "Loading checkpoint shards:   0%|          | 0/3 [00:00<?, ?it/s]"
      ]
     },
     "metadata": {},
     "output_type": "display_data"
    }
   ],
   "source": [
    "# Define the instruct-tuned model checkpoint\n",
    "model_name = \"mistralai/Mistral-7B-Instruct-v0.3\"\n",
    "scratch_dir = \"../models\"\n",
    "\n",
    "# Load the tokenizer (force using the slow tokenizer)\n",
    "tokenizer = AutoTokenizer.from_pretrained(model_name, cache_dir=scratch_dir)\n",
    "\n",
    "# Load the model\n",
    "model = AutoModelForCausalLM.from_pretrained(\n",
    "    model_name,\n",
    "    cache_dir=scratch_dir,\n",
    "    device_map=\"auto\",\n",
    "    torch_dtype=torch.float16\n",
    ")"
   ]
  },
  {
   "cell_type": "code",
   "execution_count": 20,
   "id": "7083118c-ac99-434f-93d1-cbaffa9dc761",
   "metadata": {},
   "outputs": [],
   "source": [
    "########################\n",
    "# 1. Generate Mindmap  #\n",
    "########################\n",
    "def generate_mindmap(text, model, tokenizer, max_tokens=300):\n",
    "    \"\"\"\n",
    "    Generate a mind map in Mermaid syntax using Mistral.\n",
    "    The mind map should capture the main topics and subtopics hierarchically.\n",
    "    The model is instructed to output concise and correctly formatted Mermaid syntax.\n",
    "    \"\"\"\n",
    "\n",
    "    prompt = (\n",
    "        \"Generate a mind map in Mermaid syntax for the following textbook text. \"\n",
    "        \"The mind map should capture the main topics and their subtopics clearly in a hierarchical structure. \"\n",
    "        \"Do NOT include a 'root' node; use a meaningful central topic. \"\n",
    "        \"Include minimal Mermaid syntax so it renders correctly, and keep it concise.\\n\\n\"\n",
    "        f\"{text}\\n\\n\"\n",
    "        \"Mermaid Mind Map:\"\n",
    "    )\n",
    "\n",
    "    # Tokenize the input\n",
    "    inputs = tokenizer(prompt, return_tensors=\"pt\").to(\"cuda\" if torch.cuda.is_available() else \"cpu\")\n",
    "\n",
    "    # Generate text with Mistral\n",
    "    with torch.no_grad():\n",
    "        outputs = model.generate(\n",
    "            **inputs,\n",
    "            max_new_tokens=max_tokens,\n",
    "            do_sample=True,  # Sampling for variation\n",
    "            temperature=0.7,  # Adjust randomness\n",
    "            top_p=0.9  # Nucleus sampling for diversity\n",
    "        )\n",
    "\n",
    "    # Decode output\n",
    "    mindmap = tokenizer.decode(outputs[0], skip_special_tokens=True)\n",
    "    return mindmap.strip()"
   ]
  },
  {
   "cell_type": "code",
   "execution_count": 21,
   "id": "351bb3f3-742e-4b50-93c0-a48676b9e384",
   "metadata": {},
   "outputs": [],
   "source": [
    "import re\n",
    "\n",
    "def clean_mermaid_code(code):\n",
    "    \"\"\"\n",
    "    Extract the text between ```mermaid and ``` fences only.\n",
    "    Returns the extracted Mermaid syntax, or the original code if not found.\n",
    "    \"\"\"\n",
    "    match = re.search(r\"```mermaid(.*?)```\", code, re.DOTALL)\n",
    "    if match:\n",
    "        return match.group(1).strip()\n",
    "    else:\n",
    "        return code.strip()\n"
   ]
  },
  {
   "cell_type": "code",
   "execution_count": 22,
   "id": "4b4c0d70-77e5-461b-a78d-275328c43abb",
   "metadata": {},
   "outputs": [],
   "source": [
    "##############################\n",
    "# 3. Render Mermaid Diagram  #\n",
    "##############################\n",
    "def render_mermaid(mindmap_code, output_filename='mermaid_output.svg', theme='forest'):\n",
    "    \"\"\"\n",
    "    Render Mermaid diagram as an SVG file using the Mermaid CLI (mmdc).\n",
    "    You can specify a theme for better visualization (e.g., 'forest', 'dark', 'neutral', etc.).\n",
    "    \"\"\"\n",
    "    # Write Mermaid code to a temporary file\n",
    "    temp_file = \"temp_mermaid.mmd\"\n",
    "    with open(temp_file, \"w\", encoding=\"utf-8\") as f:\n",
    "        f.write(mindmap_code)\n",
    "    \n",
    "    # Call the Mermaid CLI with a chosen theme\n",
    "    subprocess.run(\n",
    "        [\"mmdc\", \"-i\", temp_file, \"-o\", output_filename, \"-t\", theme],\n",
    "        check=True\n",
    "    )\n",
    "    \n",
    "    # Display the generated SVG inline (Jupyter/IPython)\n",
    "    display(SVG(output_filename))\n",
    "    \n",
    "    # Clean up the temporary file\n",
    "    os.remove(temp_file)\n"
   ]
  },
  {
   "cell_type": "code",
   "execution_count": 23,
   "id": "246acfc0-7770-4565-8b0a-1b50ba4d7c83",
   "metadata": {
    "scrolled": true
   },
   "outputs": [
    {
     "name": "stderr",
     "output_type": "stream",
     "text": [
      "Setting `pad_token_id` to `eos_token_id`:2 for open-end generation.\n"
     ]
    },
    {
     "name": "stdout",
     "output_type": "stream",
     "text": [
      "\n",
      "Generated Mind Map (Mermaid format):\n",
      "\n",
      "Generate a mind map in Mermaid syntax for the following textbook text. The mind map should capture the main topics and their subtopics clearly in a hierarchical structure. Do NOT include a 'root' node; use a meaningful central topic. Include minimal Mermaid syntax so it renders correctly, and keep it concise.\n",
      "\n",
      "Lesson: earth science and its branches\n",
      "\n",
      "5. A glacier is melting. What are all of the scientists you can think of who might be involved in studying this glacier? What would each of them do?\n",
      "\n",
      "Earth Science is the study of all aspects of our planet Earth. Earth Science is not just about the molten lava, icy mountain peaks, steep canyons and towering waterfalls of the continents. Earth Science includes the atmosphere and oceans. The field also looks out into the solar system, galaxy, and universe. Earth scientists seek to understand the beautiful planet on which we depend (Figure 1.10). Different branches of Earth Science study one particular part of Earth. Since all of the branches are connected, specialists work together to answer complicated questions. Lets look at some important branches of Earth Science.\n",
      "\n",
      "Image Caption: FIGURE 1.10 Earth as seen from Apollo 17.. Image Explanation: The image shows a close-up view of the Earth from space. The Earth is surrounded by a black background, emphasizing the planet's features. The Earth is divided into different continents and oceans, making it easy to identify the various land masses and bodies of water. The image captures the beauty and complexity of our planet, showcasing the diverse landscapes and the interconnectedness of the Earth's ecosystems.\n",
      "\n",
      "Describe Earth Science and its branches.\n",
      "Identify the field of geology as a branch of Earth Science that deals with the rocks and minerals of Earth.\n",
      "Describe the field of oceanography as a branch of Earth Science that explores the ocean.\n",
      "Define the field of meteorology as a branch of Earth Science that deals with the atmosphere.\n",
      "Understand that astronomy is a branch of Earth Science that studies our solar system and universe.\n",
      "List some of the other branches of Earth Science, and how they relate to the study of Earth.\n",
      "\n",
      "Earth science includes many fields of science related to our home planet. Geology is the study of Earths material and structures and the processes that create them. Oceanography is the study of the oceans: water movement, chemistry and the ocean basins among other things. Meteorologists study the atmosphere including climate and weather. Environmental science deals with the effects people have on the environment. Astronomers study Earths larger environment: the solar system, galaxy, and universe that our planet resides in.\n",
      "\n",
      "Image Caption: FIGURE 1.17 Scientists are using telescopes to search for other planets that may have conditions favorable for life. The places they can look are near our solar system in our galaxy.. Image Explanation: In the image, there is a representation of the solar system, focusing on the sun and the planets. The sun is located in the center of the image, with the planets surrounding it. The planets are labeled as follows:\n",
      "1. Mercury\n",
      "2. Venus\n",
      "3. Earth\n",
      "4. Mars\n",
      "5. Jupiter\n",
      "6. Saturn\n",
      "7. Uranus\n",
      "8. Neptune\n",
      "In addition to the planets, there is a reference to the \"Our Planet Hunting Neighborhood\" in the bottom right corner of the image.\n",
      "\n",
      "Why is Earth Science so important? Which branch of Earth Science would you most like to explore? What is the biggest problem that we face today? Which Earth scientists may help us to solve the problem? What other branches of science or society are related to and necessary for Earth Science?\n",
      "\n",
      "1. What are three major branches of Earth Science? 2. What branch of science deals with stars and galaxies beyond Earth? 3. List important functions of Earth scientists. 4. What does a meteorologist study?\n",
      "\n",
      "6. Design an experiment that you could conduct in any branch of Earth Science. Identify the independent variable and dependent variable.\n",
      "\n",
      "Geology is the study of the solid Earth. Geologists study how rocks and minerals form. The way mountains rise up is part of geology. The way mountains erode away is another part. Geologists also study fossils and Earths history. There are many other branches of geology. There is so much to know about our home planet that most geologists become specialists in one area. For example, a mineralogist studies minerals, as seen in (Figure 1.11). Some volcanologists brave molten lava to study volcanoes. Seismologists monitor earthquakes worldwide to help protect people and property from harm (Figure 1.11). Paleontologists are interested in fossils and how ancient organisms lived. Scientists who compare the geology of other planets to Earth are planetary geologists. Some geologists study the Moon. Others look for petroleum. Still others specialize in studying soil. Some geologists can tell how old rocks are and determine how different rock layers formed. There is probably an expert in almost anything you can think of related to Earth! Geologists might study rivers and lakes, the underground water found between soil and rock particles, or even water that is frozen in glaciers. Earth scientists also need geographers who explore the features of Earths surface and work with cartographers, who make maps. Studying the layers of rock beneath the surface helps us to understand the history of planet Earth (Figure 1.12).\n",
      "\n",
      "Image Caption: FIGURE 1.11 (A) Mineralogists focus on all kinds of minerals. (B) Seismographs are used to measure earthquakes and pinpoint their origins.. Image Explanation: In the image, there is a display case filled with various rocks and minerals. The display case is divided into three sections, each containing different types of rocks and minerals. The rocks and minerals are arranged in a visually appealing manner, showcasing their unique characteristics.\n",
      "In addition to the rocks and minerals, there are two clocks present in the scene. One clock is located on the left side of the display case, while the other clock is positioned on the right side. These clocks likely help visitors keep track of time during their visit to the exhibit.\n",
      "\n",
      "Oceanography is the study of the oceans. The word oceanology might be more accurate, since ology is the study of. Graph is to write and refers to map making. But mapping the oceans is how oceanography started. More than 70% of Earths surface is covered with water. Almost all of that water is in the oceans. Scientists have visited the deepest parts of the ocean in submarines. Remote vehicles go where humans cant. Yet much of the ocean remains unexplored. Some people call the ocean the last frontier. Humans have had a big impact on the oceans. Populations of fish and other marine species have been overfished. Contaminants are polluting the waters. Global warming is melting the thick ice caps and warming the water. Warmer water expands and, along with water from the melting ice caps, causes sea levels to rise. There are many branches of oceanography. Physical oceanography is the study of water movement, like waves and ocean currents (Figure 1.13). Marine geology looks at rocks and structures in the ocean basins. Chemical oceanography studies the natural elements in ocean water. Marine biology looks at marine life.\n",
      "\n",
      "Image Caption: FIGURE 1.12 These folded rock layers have bent over time. Studying rock layers helps scientists to explain these layers and the geologic history of the area.. Image Explanation: The image depicts a mountainous landscape with a large, steep cliff in the foreground. The cliff appears to be made of red rock, giving it a striking appearance. In the background, there is a blue sky, adding to the beauty of the scene.\n",
      "A few trees can be seen scattered throughout the landscape, with some closer to the cliff and others further away. The combination of the red rock cliff, the blue sky, and the trees creates a picturesque and serene environment.\n",
      "\n",
      "Image Caption: FIGURE 1.13 This research vessel is specially designed to explore the seas around Antarctica.. Image Explanation: In the image, there is a large red and white ship docked in a harbor. The ship appears to be a crane barge, which is a type of vessel used for lifting and transporting heavy loads. The crane barge is docked next to a large building, which could be a warehouse or another type of facility.\n",
      "There are several birds flying in the sky above the crane barge, adding a sense of liveliness to the scene. Additionally, there are two people visible in the image, likely observing the crane barge or going about their daily activities in the harbor area.\n",
      "\n",
      "Meteorologists dont study meteors they study the atmosphere! The word meteor refers to things in the air. Meteorology includes the study of weather patterns, clouds, hurricanes, and tornadoes. Meteorology is very important. Using radars and satellites, meteorologists work to predict, or forecast, the weather (Figure 1.14). The atmosphere is a thin layer of gas that surrounds Earth. Climatologists study the atmosphere. These scientists work to understand the climate as it is now. They also study how climate will change in response to global warming. The atmosphere contains small amounts of carbon dioxide. Climatologists have found that humans are putting a lot of extra carbon dioxide into the atmosphere. This is mostly from burning fossil fuels. The extra carbon dioxide traps heat from the Sun. Trapped heat causes the atmosphere to heat up. We call this global warming (Figure 1.15).\n",
      "\n",
      "Image Caption: FIGURE 1.14 Meteorologists can help us to prepare for major storms or know if today is a good day for a picnic.. Image Explanation: The image depicts a dark, cloudy sky above a lush green forest. The sky is filled with clouds, creating a dramatic backdrop for the trees. There are several trees scattered throughout the scene, with some closer to the foreground and others further in the distance. The combination of the dark sky and the vibrant greenery of the forest creates a captivating and serene atmosphere.\n",
      "\n",
      "Image Caption: FIGURE 1.15 Carbon dioxide released into the atmo- sphere is causing global warming.. Image Explanation: In the image, there is a group of four smokestacks emitting a significant amount of smoke into the sky. The smokestacks are part of a power plant, and the smoke appears to be a byproduct of the plant's operation. The sky above the smokestacks is cloudy, adding to the overall atmosphere of the scene. The power plant is located near some trees, which can be seen in the foreground of the image.\n",
      "\n",
      "Environmental scientists study the ways that humans affect the planet we live on. We hope to find better ways of living that can also help the environment. Ecologists study lifeforms and the environments they live in (Figure 1.16). They try to predict the chain reactions that could occur when one part of the ecosystem is disrupted.\n",
      "\n",
      "Image Caption: FIGURE 1.16 In a marine ecosystem, coral, fish, and other sea life depend on each other for survival.. Image Explanation: In the image, there is a diverse group of colorful fish swimming together in a coral reef. The fish are scattered throughout the scene, with some closer to the foreground and others further in the background. The fish vary in size and color, creating a vibrant and lively underwater environment. The coral reef provides a natural habitat for these aquatic creatures, allowing them to thrive and interact with one another.\n",
      "\n",
      "Astronomy and astronomers have shown that the planets in our solar system are not the only planets in the universe. Over 530 planets were known outside our solar system in 2011. And there are billions of other planets! The universe also contains black holes, other galaxies, asteroids, comets, and nebula. As big as Earth seems, the entire universe is vastly more enormous. Earth is just a tiny part of our universe. Astronomers use many tools to study things in space. Earth-orbiting telescopes view stars and galaxies from the darkness of space (Figure 1.17). They may have optical and radio telescopes to see things that the human eye cant see. Spacecraft travel great distances to send back information on faraway places. Astronomers ask a wide variety of questions. How do strong bursts of energy from the Sun, called solar flares, affect communications? How might an impact from an asteroid affect life on Earth? What are the properties of black holes? Astronomers ask bigger questions too. How was the universe created? Is there life on other planets? Are there resources on other planets that people could use? Astronomers use what Earth scientists know to make comparisons with other planets.\n",
      "\n",
      "Mermaid Mind Map:\n",
      "\n",
      "```mermaid\n",
      "graph LR\n",
      "\n",
      "Earth Science\n",
      "\n",
      "Geology\n",
      "    Mineralogist\n",
      "    Seismologist\n",
      "    Volcanologist\n",
      "    Paleontologist\n",
      "    Planetary Geologist\n",
      "    Soil Scientist\n",
      "    Hydrogeologist\n",
      "    Geomorphologist\n",
      "    Petroleum Geologist\n",
      "\n",
      "Oceanography\n",
      "    Physical Oceanography\n",
      "    Marine Geology\n",
      "    Chemical Oceanography\n",
      "    Marine Biology\n",
      "\n",
      "Meteorology\n",
      "    Climatology\n",
      "\n",
      "Environmental Science\n",
      "    Ecology\n",
      "\n",
      "Astronomy\n",
      "    Solar Flares\n",
      "    Asteroids\n",
      "    Black Holes\n",
      "    Universe Creation\n",
      "    Life on Other Planets\n",
      "    Resources on Other Planets\n",
      "\n",
      "Related Fields\n",
      "    Geography\n",
      "    Cartography\n",
      "    Biology\n",
      "```\n"
     ]
    }
   ],
   "source": [
    "# Generate the Mermaid mind map for the combined textbook text\n",
    "mindmap_code = generate_mindmap(combined_text, model, tokenizer)\n",
    "print(\"\\nGenerated Mind Map (Mermaid format):\\n\")\n",
    "print(mindmap_code)"
   ]
  },
  {
   "cell_type": "code",
   "execution_count": 28,
   "id": "6498e348-4473-4227-b932-5a97dbc94271",
   "metadata": {},
   "outputs": [
    {
     "name": "stdout",
     "output_type": "stream",
     "text": [
      "Cleaned Mermaid code:\n",
      "graph LR\n",
      "    Earth Science\n",
      "    Geology --> Earth Material & Structures\n",
      "    Oceanography --> Ocean Basins & Water Movement\n",
      "    Meteorology --> Atmosphere & Climate\n",
      "    Astronomy --> Solar System & Universe\n",
      "    Environmental Science --> Humans & Planet\n",
      "    Paleontology --> Fossils & History\n",
      "    Volcanology --> Molten Lava & Volcanoes\n",
      "    Seismology --> Earthquakes\n",
      "    Mineralogy --> Minerals\n",
      "    Planetary Geology --> Other Planets\n",
      "    Petroleum Geology --> Oil\n",
      "    Soil Geology --> Soil\n",
      "    Geography --> Earth Surface & Maps\n",
      "    Marine Geology --> Ocean Basins\n",
      "    Marine Biology --> Marine Life\n",
      "    Chemical Oceanography --> Ocean Water Chemistry\n",
      "    Climatology --> Climate\n",
      "    Global Warming --> Atmosphere Heating\n",
      "    Ecology --> Ecosystems\n",
      "    Spacecraft --> Space Travel & Information\n",
      "    Optical Telescopes --> Stars & Galaxies\n",
      "    Radio Telescopes --> Radio Waves\n",
      "    Black Holes --> Space Objects\n",
      "    Universe Creation --> Cosmology\n",
      "    Life on Other Planets --> Astrobiology\n",
      "    Universe Resources --> Extraterrestrial Resources\n"
     ]
    },
    {
     "ename": "FileNotFoundError",
     "evalue": "[Errno 2] No such file or directory: 'mmdc'",
     "output_type": "error",
     "traceback": [
      "\u001b[0;31m---------------------------------------------------------------------------\u001b[0m",
      "\u001b[0;31mFileNotFoundError\u001b[0m                         Traceback (most recent call last)",
      "Cell \u001b[0;32mIn[28], line 9\u001b[0m\n\u001b[1;32m      6\u001b[0m \u001b[38;5;28mprint\u001b[39m(cleaned_code)\n\u001b[1;32m      8\u001b[0m \u001b[38;5;66;03m# 3) Render with the desired theme (e.g., 'forest', 'dark', 'neutral')\u001b[39;00m\n\u001b[0;32m----> 9\u001b[0m \u001b[43mrender_mermaid\u001b[49m\u001b[43m(\u001b[49m\u001b[43mcleaned_code\u001b[49m\u001b[43m,\u001b[49m\u001b[43m \u001b[49m\u001b[38;5;124;43m'\u001b[39;49m\u001b[38;5;124;43mmermaid_output.svg\u001b[39;49m\u001b[38;5;124;43m'\u001b[39;49m\u001b[43m,\u001b[49m\u001b[43m \u001b[49m\u001b[43mtheme\u001b[49m\u001b[38;5;241;43m=\u001b[39;49m\u001b[38;5;124;43m'\u001b[39;49m\u001b[38;5;124;43mforest\u001b[39;49m\u001b[38;5;124;43m'\u001b[39;49m\u001b[43m)\u001b[49m\n",
      "Cell \u001b[0;32mIn[26], line 15\u001b[0m, in \u001b[0;36mrender_mermaid\u001b[0;34m(mindmap_code, output_filename, theme)\u001b[0m\n\u001b[1;32m     12\u001b[0m     f\u001b[38;5;241m.\u001b[39mwrite(mindmap_code)\n\u001b[1;32m     14\u001b[0m \u001b[38;5;66;03m# Call the Mermaid CLI with a chosen theme\u001b[39;00m\n\u001b[0;32m---> 15\u001b[0m \u001b[43msubprocess\u001b[49m\u001b[38;5;241;43m.\u001b[39;49m\u001b[43mrun\u001b[49m\u001b[43m(\u001b[49m\n\u001b[1;32m     16\u001b[0m \u001b[43m    \u001b[49m\u001b[43m[\u001b[49m\u001b[38;5;124;43m\"\u001b[39;49m\u001b[38;5;124;43mmmdc\u001b[39;49m\u001b[38;5;124;43m\"\u001b[39;49m\u001b[43m,\u001b[49m\u001b[43m \u001b[49m\u001b[38;5;124;43m\"\u001b[39;49m\u001b[38;5;124;43m-i\u001b[39;49m\u001b[38;5;124;43m\"\u001b[39;49m\u001b[43m,\u001b[49m\u001b[43m \u001b[49m\u001b[43mtemp_file\u001b[49m\u001b[43m,\u001b[49m\u001b[43m \u001b[49m\u001b[38;5;124;43m\"\u001b[39;49m\u001b[38;5;124;43m-o\u001b[39;49m\u001b[38;5;124;43m\"\u001b[39;49m\u001b[43m,\u001b[49m\u001b[43m \u001b[49m\u001b[43moutput_filename\u001b[49m\u001b[43m,\u001b[49m\u001b[43m \u001b[49m\u001b[38;5;124;43m\"\u001b[39;49m\u001b[38;5;124;43m-t\u001b[39;49m\u001b[38;5;124;43m\"\u001b[39;49m\u001b[43m,\u001b[49m\u001b[43m \u001b[49m\u001b[43mtheme\u001b[49m\u001b[43m]\u001b[49m\u001b[43m,\u001b[49m\n\u001b[1;32m     17\u001b[0m \u001b[43m    \u001b[49m\u001b[43mcheck\u001b[49m\u001b[38;5;241;43m=\u001b[39;49m\u001b[38;5;28;43;01mTrue\u001b[39;49;00m\n\u001b[1;32m     18\u001b[0m \u001b[43m\u001b[49m\u001b[43m)\u001b[49m\n\u001b[1;32m     20\u001b[0m \u001b[38;5;66;03m# Display the generated SVG inline (Jupyter/IPython)\u001b[39;00m\n\u001b[1;32m     21\u001b[0m display(SVG(output_filename))\n",
      "File \u001b[0;32m/opt/miniconda3/lib/python3.11/subprocess.py:548\u001b[0m, in \u001b[0;36mrun\u001b[0;34m(input, capture_output, timeout, check, *popenargs, **kwargs)\u001b[0m\n\u001b[1;32m    545\u001b[0m     kwargs[\u001b[38;5;124m'\u001b[39m\u001b[38;5;124mstdout\u001b[39m\u001b[38;5;124m'\u001b[39m] \u001b[38;5;241m=\u001b[39m PIPE\n\u001b[1;32m    546\u001b[0m     kwargs[\u001b[38;5;124m'\u001b[39m\u001b[38;5;124mstderr\u001b[39m\u001b[38;5;124m'\u001b[39m] \u001b[38;5;241m=\u001b[39m PIPE\n\u001b[0;32m--> 548\u001b[0m \u001b[38;5;28;01mwith\u001b[39;00m \u001b[43mPopen\u001b[49m\u001b[43m(\u001b[49m\u001b[38;5;241;43m*\u001b[39;49m\u001b[43mpopenargs\u001b[49m\u001b[43m,\u001b[49m\u001b[43m \u001b[49m\u001b[38;5;241;43m*\u001b[39;49m\u001b[38;5;241;43m*\u001b[39;49m\u001b[43mkwargs\u001b[49m\u001b[43m)\u001b[49m \u001b[38;5;28;01mas\u001b[39;00m process:\n\u001b[1;32m    549\u001b[0m     \u001b[38;5;28;01mtry\u001b[39;00m:\n\u001b[1;32m    550\u001b[0m         stdout, stderr \u001b[38;5;241m=\u001b[39m process\u001b[38;5;241m.\u001b[39mcommunicate(\u001b[38;5;28minput\u001b[39m, timeout\u001b[38;5;241m=\u001b[39mtimeout)\n",
      "File \u001b[0;32m/opt/miniconda3/lib/python3.11/subprocess.py:1026\u001b[0m, in \u001b[0;36mPopen.__init__\u001b[0;34m(self, args, bufsize, executable, stdin, stdout, stderr, preexec_fn, close_fds, shell, cwd, env, universal_newlines, startupinfo, creationflags, restore_signals, start_new_session, pass_fds, user, group, extra_groups, encoding, errors, text, umask, pipesize, process_group)\u001b[0m\n\u001b[1;32m   1022\u001b[0m         \u001b[38;5;28;01mif\u001b[39;00m \u001b[38;5;28mself\u001b[39m\u001b[38;5;241m.\u001b[39mtext_mode:\n\u001b[1;32m   1023\u001b[0m             \u001b[38;5;28mself\u001b[39m\u001b[38;5;241m.\u001b[39mstderr \u001b[38;5;241m=\u001b[39m io\u001b[38;5;241m.\u001b[39mTextIOWrapper(\u001b[38;5;28mself\u001b[39m\u001b[38;5;241m.\u001b[39mstderr,\n\u001b[1;32m   1024\u001b[0m                     encoding\u001b[38;5;241m=\u001b[39mencoding, errors\u001b[38;5;241m=\u001b[39merrors)\n\u001b[0;32m-> 1026\u001b[0m     \u001b[38;5;28;43mself\u001b[39;49m\u001b[38;5;241;43m.\u001b[39;49m\u001b[43m_execute_child\u001b[49m\u001b[43m(\u001b[49m\u001b[43margs\u001b[49m\u001b[43m,\u001b[49m\u001b[43m \u001b[49m\u001b[43mexecutable\u001b[49m\u001b[43m,\u001b[49m\u001b[43m \u001b[49m\u001b[43mpreexec_fn\u001b[49m\u001b[43m,\u001b[49m\u001b[43m \u001b[49m\u001b[43mclose_fds\u001b[49m\u001b[43m,\u001b[49m\n\u001b[1;32m   1027\u001b[0m \u001b[43m                        \u001b[49m\u001b[43mpass_fds\u001b[49m\u001b[43m,\u001b[49m\u001b[43m \u001b[49m\u001b[43mcwd\u001b[49m\u001b[43m,\u001b[49m\u001b[43m \u001b[49m\u001b[43menv\u001b[49m\u001b[43m,\u001b[49m\n\u001b[1;32m   1028\u001b[0m \u001b[43m                        \u001b[49m\u001b[43mstartupinfo\u001b[49m\u001b[43m,\u001b[49m\u001b[43m \u001b[49m\u001b[43mcreationflags\u001b[49m\u001b[43m,\u001b[49m\u001b[43m \u001b[49m\u001b[43mshell\u001b[49m\u001b[43m,\u001b[49m\n\u001b[1;32m   1029\u001b[0m \u001b[43m                        \u001b[49m\u001b[43mp2cread\u001b[49m\u001b[43m,\u001b[49m\u001b[43m \u001b[49m\u001b[43mp2cwrite\u001b[49m\u001b[43m,\u001b[49m\n\u001b[1;32m   1030\u001b[0m \u001b[43m                        \u001b[49m\u001b[43mc2pread\u001b[49m\u001b[43m,\u001b[49m\u001b[43m \u001b[49m\u001b[43mc2pwrite\u001b[49m\u001b[43m,\u001b[49m\n\u001b[1;32m   1031\u001b[0m \u001b[43m                        \u001b[49m\u001b[43merrread\u001b[49m\u001b[43m,\u001b[49m\u001b[43m \u001b[49m\u001b[43merrwrite\u001b[49m\u001b[43m,\u001b[49m\n\u001b[1;32m   1032\u001b[0m \u001b[43m                        \u001b[49m\u001b[43mrestore_signals\u001b[49m\u001b[43m,\u001b[49m\n\u001b[1;32m   1033\u001b[0m \u001b[43m                        \u001b[49m\u001b[43mgid\u001b[49m\u001b[43m,\u001b[49m\u001b[43m \u001b[49m\u001b[43mgids\u001b[49m\u001b[43m,\u001b[49m\u001b[43m \u001b[49m\u001b[43muid\u001b[49m\u001b[43m,\u001b[49m\u001b[43m \u001b[49m\u001b[43mumask\u001b[49m\u001b[43m,\u001b[49m\n\u001b[1;32m   1034\u001b[0m \u001b[43m                        \u001b[49m\u001b[43mstart_new_session\u001b[49m\u001b[43m,\u001b[49m\u001b[43m \u001b[49m\u001b[43mprocess_group\u001b[49m\u001b[43m)\u001b[49m\n\u001b[1;32m   1035\u001b[0m \u001b[38;5;28;01mexcept\u001b[39;00m:\n\u001b[1;32m   1036\u001b[0m     \u001b[38;5;66;03m# Cleanup if the child failed starting.\u001b[39;00m\n\u001b[1;32m   1037\u001b[0m     \u001b[38;5;28;01mfor\u001b[39;00m f \u001b[38;5;129;01min\u001b[39;00m \u001b[38;5;28mfilter\u001b[39m(\u001b[38;5;28;01mNone\u001b[39;00m, (\u001b[38;5;28mself\u001b[39m\u001b[38;5;241m.\u001b[39mstdin, \u001b[38;5;28mself\u001b[39m\u001b[38;5;241m.\u001b[39mstdout, \u001b[38;5;28mself\u001b[39m\u001b[38;5;241m.\u001b[39mstderr)):\n",
      "File \u001b[0;32m/opt/miniconda3/lib/python3.11/subprocess.py:1955\u001b[0m, in \u001b[0;36mPopen._execute_child\u001b[0;34m(self, args, executable, preexec_fn, close_fds, pass_fds, cwd, env, startupinfo, creationflags, shell, p2cread, p2cwrite, c2pread, c2pwrite, errread, errwrite, restore_signals, gid, gids, uid, umask, start_new_session, process_group)\u001b[0m\n\u001b[1;32m   1953\u001b[0m     err_msg \u001b[38;5;241m=\u001b[39m os\u001b[38;5;241m.\u001b[39mstrerror(errno_num)\n\u001b[1;32m   1954\u001b[0m \u001b[38;5;28;01mif\u001b[39;00m err_filename \u001b[38;5;129;01mis\u001b[39;00m \u001b[38;5;129;01mnot\u001b[39;00m \u001b[38;5;28;01mNone\u001b[39;00m:\n\u001b[0;32m-> 1955\u001b[0m     \u001b[38;5;28;01mraise\u001b[39;00m child_exception_type(errno_num, err_msg, err_filename)\n\u001b[1;32m   1956\u001b[0m \u001b[38;5;28;01melse\u001b[39;00m:\n\u001b[1;32m   1957\u001b[0m     \u001b[38;5;28;01mraise\u001b[39;00m child_exception_type(errno_num, err_msg)\n",
      "\u001b[0;31mFileNotFoundError\u001b[0m: [Errno 2] No such file or directory: 'mmdc'"
     ]
    }
   ],
   "source": [
    "import subprocess\n",
    "\n",
    "# 2) Clean code to remove markdown fences\n",
    "cleaned_code = clean_mermaid_code(mindmap_code)\n",
    "print(\"Cleaned Mermaid code:\")\n",
    "print(cleaned_code)\n",
    "\n",
    "# 3) Render with the desired theme (e.g., 'forest', 'dark', 'neutral')\n",
    "render_mermaid(cleaned_code, 'mermaid_output.svg', theme='forest')"
   ]
  },
  {
   "cell_type": "code",
   "execution_count": null,
   "id": "178ef92a-ca70-4787-bb47-389476203b62",
   "metadata": {},
   "outputs": [],
   "source": []
  },
  {
   "cell_type": "markdown",
   "id": "c671feb9-dd6c-4872-b017-a0de6b31c14a",
   "metadata": {},
   "source": [
    "## Prediction pipeline (LORA)"
   ]
  },
  {
   "cell_type": "code",
   "execution_count": 14,
   "id": "b693be3c-ab7f-436d-a3e6-6e6fdbcc68b6",
   "metadata": {},
   "outputs": [],
   "source": [
    "import torch\n",
    "from transformers import AutoModelForCausalLM, AutoTokenizer\n",
    "from peft import PeftModel"
   ]
  },
  {
   "cell_type": "code",
   "execution_count": 16,
   "id": "f5125ee3-f138-46e7-860c-467a92b5517c",
   "metadata": {},
   "outputs": [
    {
     "data": {
      "application/vnd.jupyter.widget-view+json": {
       "model_id": "b97956d730de4b88afcf64181993f4ca",
       "version_major": 2,
       "version_minor": 0
      },
      "text/plain": [
       "Loading checkpoint shards:   0%|          | 0/3 [00:00<?, ?it/s]"
      ]
     },
     "metadata": {},
     "output_type": "display_data"
    }
   ],
   "source": [
    "# Define the instruct-tuned model checkpoint\n",
    "model_name = \"mistralai/Mistral-7B-Instruct-v0.3\"\n",
    "scratch_dir = \"../models\"\n",
    "\n",
    "# Load the tokenizer (force using the slow tokenizer)\n",
    "tokenizer = AutoTokenizer.from_pretrained(model_name, cache_dir=scratch_dir)\n",
    "\n",
    "# Load the model\n",
    "model = AutoModelForCausalLM.from_pretrained(\n",
    "    model_name,\n",
    "    cache_dir=scratch_dir,\n",
    "    device_map=\"auto\",\n",
    "    torch_dtype=torch.float16\n",
    ")"
   ]
  },
  {
   "cell_type": "code",
   "execution_count": 17,
   "id": "871790bd-d0a0-4399-94bd-22aa1efc49f6",
   "metadata": {},
   "outputs": [
    {
     "name": "stderr",
     "output_type": "stream",
     "text": [
      "Setting `pad_token_id` to `eos_token_id`:2 for open-end generation.\n"
     ]
    },
    {
     "name": "stdout",
     "output_type": "stream",
     "text": [
      "Once upon a time, a friend gave me a book with a simple title, The Bible. I had heard of it before, but I had never read it. I had no idea what I was in for. I never imagined it would become an essential part of my\n"
     ]
    }
   ],
   "source": [
    "# Load the LoRA adapter weights into the base model\n",
    "model = PeftModel.from_pretrained(model, \"./lora_mistral_adapter\")\n",
    "model.eval()  # set model to evaluation mode\n",
    "\n",
    "# Example prompt for inference\n",
    "prompt = \"Once upon a time\"\n",
    "\n",
    "# Tokenize the prompt\n",
    "inputs = tokenizer(prompt, return_tensors=\"pt\").to(\"cuda\" if torch.cuda.is_available() else \"cpu\")\n",
    "\n",
    "# Generate output (adjust parameters like max_new_tokens as desired)\n",
    "with torch.no_grad():\n",
    "    outputs = model.generate(\n",
    "        **inputs,\n",
    "        max_new_tokens=50,   # maximum number of new tokens to generate\n",
    "        do_sample=True,      # use sampling; set to False for greedy decoding\n",
    "        temperature=0.7      # adjust temperature for randomness\n",
    "    )\n",
    "\n",
    "# Decode and print the generated text\n",
    "generated_text = tokenizer.decode(outputs[0], skip_special_tokens=True)\n",
    "print(generated_text)\n"
   ]
  },
  {
   "cell_type": "code",
   "execution_count": null,
   "id": "4aabdcd5-d78b-4318-897a-1cb9401c0996",
   "metadata": {},
   "outputs": [],
   "source": []
  },
  {
   "cell_type": "code",
   "execution_count": null,
   "id": "1a77d101-1bf6-406c-9e3b-795eb609c29f",
   "metadata": {},
   "outputs": [],
   "source": []
  }
 ],
 "metadata": {
  "kernelspec": {
   "display_name": "edu",
   "language": "python",
   "name": "edu"
  },
  "language_info": {
   "codemirror_mode": {
    "name": "ipython",
    "version": 3
   },
   "file_extension": ".py",
   "mimetype": "text/x-python",
   "name": "python",
   "nbconvert_exporter": "python",
   "pygments_lexer": "ipython3",
   "version": "3.11.11"
  }
 },
 "nbformat": 4,
 "nbformat_minor": 5
}
