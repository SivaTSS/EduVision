{
 "cells": [
  {
   "cell_type": "code",
   "execution_count": 1,
   "id": "1549d7f4",
   "metadata": {},
   "outputs": [],
   "source": [
    "import os\n",
    "import json\n",
    "import subprocess\n",
    "import sys\n",
    "from pathlib import Path\n",
    "from typing import List\n",
    "import yaml\n",
    "import glob\n",
    "import shutil\n",
    "\n",
    "from langchain_core.tools import tool\n",
    "from langgraph.prebuilt import create_react_agent\n",
    "from langchain_openai import ChatOpenAI\n",
    "from IPython.display import SVG, display"
   ]
  },
  {
   "cell_type": "code",
   "execution_count": 2,
   "id": "42b4b15f-97cd-4950-8ac1-2897ca8dd809",
   "metadata": {},
   "outputs": [],
   "source": [
    "BASE_OUTPUT_DIR = Path(\"outputs\")\n",
    "VIDEO_DIR = BASE_OUTPUT_DIR / \"videos\"\n",
    "AUDIO_DIR = BASE_OUTPUT_DIR / \"audio\"\n",
    "FINAL_DIR = BASE_OUTPUT_DIR / \"final\"\n",
    "TEMP_DIR = BASE_OUTPUT_DIR / \"temp\"\n",
    "\n",
    "for folder in [BASE_OUTPUT_DIR, VIDEO_DIR, AUDIO_DIR, FINAL_DIR, TEMP_DIR]:\n",
    "    folder.mkdir(parents=True, exist_ok=True)\n",
    "\n",
    "# Adjust this path if your Manim outputs are located elsewhere.\n",
    "MANIM_MEDIA_DIR = Path(\"media\") / \"videos\" / \"temp_manim_script\" / \"720p30\"\n"
   ]
  },
  {
   "cell_type": "code",
   "execution_count": 3,
   "id": "4d0105e9",
   "metadata": {},
   "outputs": [],
   "source": [
    "# Load API keys\n",
    "file_path = \"../keys.json\"\n",
    "with open(file_path, \"r\", encoding=\"utf-8\") as file:\n",
    "    key_data = json.load(file)\n",
    "\n",
    "os.environ[\"OPENAI_API_KEY\"] = key_data[\"openai_api_key\"]\n",
    "\n",
    "# Set up the LLM\n",
    "model_name = \"gpt-4o-mini\"\n",
    "llm = ChatOpenAI(temperature=0, model_name=model_name)"
   ]
  },
  {
   "cell_type": "code",
   "execution_count": 4,
   "id": "4c423e2c-1f77-4120-8691-1c8457ccc000",
   "metadata": {},
   "outputs": [],
   "source": [
    "def generate_yaml_outline(topic_text: str) -> List[str]:\n",
    "    \"\"\"\n",
    "    Ask the LLM to create an outline for a Manim animation based on a topic,\n",
    "    and output it as a YAML list. Each item represents a self-contained animatable step.\n",
    "    \n",
    "    The prompt ensures:\n",
    "      - The first item is a title slide explicitly labeled as \"Title Slide\".\n",
    "      - Each step is focused, independent, and suitable for 2D Manim animations.\n",
    "    \"\"\"\n",
    "    prompt = f\"\"\"\n",
    "Create a structured YAML list for a 2D Manim animation on the topic: **\"{topic_text}\"**.\n",
    "\n",
    "- The **first item** must be a **title slide** labeled as: **\"Title Slide: {topic_text}\"**.\n",
    "- Each following item should describe **one self-contained animation step**.\n",
    "- Steps must be **clear, independent**, and **suitable for 2D animations only** (no 3D elements).\n",
    "- Avoid vague descriptions and ensure each step **can be animated on its own**.\n",
    "\n",
    "Return only a **valid YAML list** without extra formatting or explanations.\n",
    "\"\"\"\n",
    "    response = llm.invoke(prompt)\n",
    "    outline_yaml = response.content.strip()\n",
    "    \n",
    "    # Remove YAML code fences if present.\n",
    "    if outline_yaml.startswith(\"```yaml\"):\n",
    "        outline_yaml = outline_yaml.split(\"```yaml\", 1)[1]\n",
    "    if outline_yaml.endswith(\"```\"):\n",
    "        outline_yaml = outline_yaml.rsplit(\"```\", 1)[0]\n",
    "    \n",
    "    try:\n",
    "        outline = yaml.safe_load(outline_yaml)\n",
    "        if not isinstance(outline, list):\n",
    "            raise ValueError(\"Outline is not a list\")\n",
    "    except Exception as e:\n",
    "        raise ValueError(f\"Failed to parse YAML outline: {e}\")\n",
    "    \n",
    "    # Save the outline to a YAML file for interpretation.\n",
    "    with open(\"animation_outline.yaml\", \"w\", encoding=\"utf-8\") as f:\n",
    "        yaml.dump(outline, f)\n",
    "    \n",
    "    print(\"✅ YAML Outline saved to animation_outline.yaml\")\n",
    "    return outline\n"
   ]
  },
  {
   "cell_type": "code",
   "execution_count": 5,
   "id": "7cbd3ed8",
   "metadata": {},
   "outputs": [],
   "source": [
    "##############################################\n",
    "# 2. Generate Manim Code for a Single Module  #\n",
    "##############################################\n",
    "\n",
    "def generate_manim_code_for_step(step_description: str) -> str:\n",
    "    \"\"\"\n",
    "    Generate a self-contained Manim Python script for a single step.\n",
    "    The output is raw Python code (no markdown fences or extra commentary).\n",
    "    \"\"\"\n",
    "    prompt = f\"\"\"\n",
    "You are an expert in Manim. Given the step description below,\n",
    "produce a valid, self-contained, and runnable Manim Python script that implements this step.\n",
    "Provide only the Python code (do not wrap your answer in markdown code fences or include extra commentary).\n",
    "\n",
    "Step Description:\n",
    "{step_description}\n",
    "\n",
    "Your response should contain only the executable Python code.\n",
    "\"\"\"\n",
    "    response = llm.invoke(prompt)\n",
    "    code = response.content.strip()\n",
    "    if code.startswith(\"```python\"):\n",
    "        code = code.split(\"```python\", 1)[1]\n",
    "    if code.endswith(\"```\"):\n",
    "        code = code.rsplit(\"```\", 1)[0]\n",
    "    return code.strip()"
   ]
  },
  {
   "cell_type": "code",
   "execution_count": 6,
   "id": "7422115a",
   "metadata": {},
   "outputs": [],
   "source": [
    "\n",
    "##############################################\n",
    "# 3. Iterative Debugging for a Manim Script    #\n",
    "##############################################\n",
    "\n",
    "def iterative_debug(code: str, full_error: str, max_attempts: int = 3) -> str:\n",
    "    \"\"\"\n",
    "    Iteratively ask the LLM for a corrected version of the code based on the full error traceback.\n",
    "    \"\"\"\n",
    "    current_code = code\n",
    "    for attempt in range(1, max_attempts + 1):\n",
    "        print(f\"Full error traceback:\\n{full_error}\\n\")\n",
    "        prompt = f\"\"\"\n",
    "Aim:\n",
    "Fix the Manim code so that it runs correctly and generates the intended animation.\n",
    "\n",
    "Current Code:\n",
    "{current_code}\n",
    "\n",
    "Full Error Traceback:\n",
    "{full_error}\n",
    "        \n",
    "Please provide a corrected version of the above code that fixes the error.\n",
    "Output only the raw Python code (no markdown or additional commentary).\n",
    "\"\"\"\n",
    "        response = llm.invoke(prompt, max_tokens=1500)\n",
    "        corrected_code = response.content.strip()\n",
    "        if corrected_code.startswith(\"```python\"):\n",
    "            corrected_code = corrected_code.split(\"```python\", 1)[1]\n",
    "        if corrected_code.endswith(\"```\"):\n",
    "            corrected_code = corrected_code.rsplit(\"```\", 1)[0]\n",
    "        current_code = corrected_code.strip()\n",
    "        print(f\"\\nAttempt {attempt}: Updated Code\\n{'-'*40}\\n{current_code}\\n{'-'*40}\\n\")\n",
    "    return current_code\n"
   ]
  },
  {
   "cell_type": "code",
   "execution_count": 7,
   "id": "3b32196a-8aa9-480f-ad98-7312aaf143be",
   "metadata": {},
   "outputs": [],
   "source": [
    "\n",
    "##############################################\n",
    "# 4. Run a Manim Script                        #\n",
    "##############################################\n",
    "\n",
    "def run_manim_script(manim_code: str, output_filename: str) -> Path:\n",
    "    \"\"\"\n",
    "    Write the Manim code to a temporary file, run it via subprocess,\n",
    "    and then copy the generated video from the default Manim output directory\n",
    "    to our designated VIDEO_DIR.\n",
    "    \n",
    "    Returns the new path to the copied video file.\n",
    "    \"\"\"\n",
    "    temp_script_path = TEMP_DIR / \"temp_manim_script.py\"\n",
    "    with open(temp_script_path, \"w\", encoding=\"utf-8\") as f:\n",
    "        f.write(manim_code)\n",
    "    \n",
    "    cmd = [\n",
    "        sys.executable,\n",
    "        \"-m\", \"manim\",\n",
    "        str(temp_script_path),\n",
    "        \"-qm\",\n",
    "        \"-o\", output_filename\n",
    "    ]\n",
    "    try:\n",
    "        subprocess.run(cmd, check=True)\n",
    "        print(f\"✅ Manim animation generated with base name: {output_filename}\")\n",
    "    except subprocess.CalledProcessError as e:\n",
    "        raise Exception(f\"Manim failed: {e}\")\n",
    "    \n",
    "    # Construct expected path using glob search.\n",
    "    pattern = str(MANIM_MEDIA_DIR / f\"*{output_filename}\")\n",
    "    matching_files = glob.glob(pattern)\n",
    "    if not matching_files:\n",
    "        raise FileNotFoundError(f\"Could not find generated video matching {pattern}\")\n",
    "    \n",
    "    generated_video = Path(matching_files[0])\n",
    "    dest_video = VIDEO_DIR / generated_video.name\n",
    "    shutil.copy(generated_video, dest_video)\n",
    "    print(f\"✅ Copied video to: {dest_video}\")\n",
    "    return dest_video"
   ]
  },
  {
   "cell_type": "code",
   "execution_count": 8,
   "id": "d79708b7-9a72-481d-a46d-5880976e33c7",
   "metadata": {},
   "outputs": [],
   "source": [
    "##############################################\n",
    "# 5. Generate Dialogue for a Step             #\n",
    "##############################################\n",
    "\n",
    "def generate_dialogue_for_step(step_description: str) -> str:\n",
    "    \"\"\"\n",
    "    Generate a short narration line (1-2 sentences) for the step.\n",
    "    Do not include any timestamps; provide only the voiceover text.\n",
    "    \"\"\"\n",
    "    prompt = f\"\"\"\n",
    "You are an expert in educational narration. Given the following step description,\n",
    "provide a short narration line (1-2 sentences) for the step.\n",
    "Do not include any timestamps or extraneous labels; just provide the voiceover text.\n",
    "\n",
    "Step Description:\n",
    "{step_description}\n",
    "\"\"\"\n",
    "    response = llm.invoke(prompt)\n",
    "    dialogue_line = response.content.strip()\n",
    "    return dialogue_line\n"
   ]
  },
  {
   "cell_type": "code",
   "execution_count": 9,
   "id": "e1afa72f",
   "metadata": {},
   "outputs": [],
   "source": [
    "##############################################\n",
    "# 6. Text-to-Speech Conversion (TTS)           #\n",
    "##############################################\n",
    "\n",
    "from gtts import gTTS\n",
    "\n",
    "def text_to_speech(text: str, output_audio: Path):\n",
    "    \"\"\"\n",
    "    Convert the provided text to speech using gTTS and save as an MP3 file.\n",
    "    \"\"\"\n",
    "    tts = gTTS(text=text, lang=\"en\")\n",
    "    tts.save(str(output_audio))\n",
    "    print(f\"Generated TTS audio saved to: {output_audio}\")"
   ]
  },
  {
   "cell_type": "code",
   "execution_count": 10,
   "id": "2d19603e",
   "metadata": {},
   "outputs": [],
   "source": [
    "import ffmpeg\n",
    "import cv2\n",
    "import numpy as np\n",
    "from pathlib import Path\n",
    "\n",
    "def get_duration(filepath: Path) -> float:\n",
    "    \"\"\"\n",
    "    Returns the duration of a media file in seconds using ffmpeg.probe.\n",
    "    \"\"\"\n",
    "    probe = ffmpeg.probe(str(filepath))\n",
    "    return float(probe[\"format\"][\"duration\"])\n",
    "\n",
    "def is_last_frame_black(video_path: Path, threshold: float = 10) -> bool:\n",
    "    \"\"\"\n",
    "    Checks if the last frame of the video is completely black.\n",
    "    Uses OpenCV to grab the last frame and computes its average brightness.\n",
    "    If the average brightness is below the threshold, we consider it black.\n",
    "    \"\"\"\n",
    "    cap = cv2.VideoCapture(str(video_path))\n",
    "    total_frames = int(cap.get(cv2.CAP_PROP_FRAME_COUNT))\n",
    "    if total_frames == 0:\n",
    "        cap.release()\n",
    "        return False\n",
    "    # Move to the last frame\n",
    "    cap.set(cv2.CAP_PROP_POS_FRAMES, total_frames - 1)\n",
    "    ret, frame = cap.read()\n",
    "    cap.release()\n",
    "    if not ret or frame is None:\n",
    "        return False\n",
    "    # Compute average brightness (in grayscale, brightness near 0 is black)\n",
    "    avg_brightness = np.mean(frame)\n",
    "    return avg_brightness < threshold\n",
    "\n",
    "def combine_audio_and_video(video_path: Path, audio_path: Path, final_output_filename: str) -> Path:\n",
    "    \"\"\"\n",
    "    Combines video and audio so that:\n",
    "      - If the video is longer than the audio, the audio is padded with silence.\n",
    "      - If the audio is longer than the video, the video is extended by freezing its last frame.\n",
    "    \n",
    "    Additionally, if the video’s last frame is completely black, then when the audio is longer,\n",
    "    we trim (or extend) the video to exactly match the audio duration (thus “expanding” the final black frame).\n",
    "    \n",
    "    This function uses ffmpeg-python so no raw command line calls are made.\n",
    "    \"\"\"\n",
    "    final_output = Path(\"outputs/final\") / final_output_filename\n",
    "    \n",
    "    # Determine durations.\n",
    "    video_duration = get_duration(video_path)\n",
    "    audio_duration = get_duration(audio_path)\n",
    "    \n",
    "    # Check if the last frame is completely black.\n",
    "    last_frame_black = is_last_frame_black(video_path)\n",
    "    \n",
    "    # Create input streams.\n",
    "    video_in = ffmpeg.input(str(video_path))\n",
    "    audio_in = ffmpeg.input(str(audio_path))\n",
    "    \n",
    "    # Choose filters based on durations and the content of the last frame.\n",
    "    if audio_duration > video_duration:\n",
    "        # Audio is longer than video → extend video.\n",
    "        pad_duration = audio_duration - video_duration\n",
    "        # Use tpad to extend the video by cloning the last frame.\n",
    "        video_filtered = video_in.video.filter('tpad', stop_mode='clone', stop_duration=pad_duration)\n",
    "        # No filter needed on audio.\n",
    "        audio_filtered = audio_in.audio\n",
    "    elif video_duration > audio_duration:\n",
    "        if last_frame_black:\n",
    "            # Video is longer than audio but the last frame is black.\n",
    "            # In this case, trim the video to the audio duration (i.e. “expand” the final black frame\n",
    "            # over the entire audio duration) rather than padding the audio with silence.\n",
    "            video_filtered = video_in.video.filter('trim', duration=audio_duration).filter('setpts', 'PTS-STARTPTS')\n",
    "            audio_filtered = audio_in.audio\n",
    "        else:\n",
    "            # Video is longer than audio and the last frame is not black,\n",
    "            # so pad the audio with silence (apad) to match the video length.\n",
    "            pad_duration = video_duration - audio_duration\n",
    "            video_filtered = video_in.video\n",
    "            audio_filtered = audio_in.audio.filter('apad', pad_dur=pad_duration)\n",
    "    else:\n",
    "        # Durations are equal.\n",
    "        video_filtered = video_in.video\n",
    "        audio_filtered = audio_in.audio\n",
    "\n",
    "    # Build the output; re-encode video with libx264 and audio with AAC.\n",
    "    out = ffmpeg.output(video_filtered, audio_filtered, str(final_output),\n",
    "                        vcodec='libx264', acodec='aac', strict='experimental')\n",
    "    \n",
    "    # Run the process quietly.\n",
    "    ffmpeg.run(out, quiet=True)\n",
    "    \n",
    "    return final_output\n"
   ]
  },
  {
   "cell_type": "code",
   "execution_count": 11,
   "id": "f7ca2571",
   "metadata": {},
   "outputs": [],
   "source": [
    "##############################################\n",
    "# 8. Concatenate Multiple Video Clips         #\n",
    "##############################################\n",
    "\n",
    "def concatenate_videos(video_files: List[str], final_output: str):\n",
    "    \"\"\"\n",
    "    Concatenate multiple video files into one final video using ffmpeg.\n",
    "    \"\"\"\n",
    "    list_filename = \"videos_to_concat.txt\"\n",
    "    with open(list_filename, \"w\", encoding=\"utf-8\") as f:\n",
    "        for vf in video_files:\n",
    "            f.write(f\"file '{os.path.abspath(vf)}'\\n\")\n",
    "    cmd = [\n",
    "        \"ffmpeg\", \"-y\",\n",
    "        \"-f\", \"concat\",\n",
    "        \"-safe\", \"0\",\n",
    "        \"-i\", list_filename,\n",
    "        \"-c\", \"copy\",\n",
    "        final_output\n",
    "    ]\n",
    "    subprocess.run(cmd, check=True)\n",
    "    print(f\"✅ Final video created: {final_output}\")\n"
   ]
  },
  {
   "cell_type": "code",
   "execution_count": 12,
   "id": "fa11b165-c41b-4130-a8ff-db1c26aa5919",
   "metadata": {},
   "outputs": [],
   "source": [
    "##############################################\n",
    "# 9. Full Animation Pipeline (Step-by-Step)     #\n",
    "##############################################\n",
    "\n",
    "def generate_animation_pipeline(topic_text: str):\n",
    "    \"\"\"\n",
    "    Complete pipeline:\n",
    "      1. Generate a YAML outline for the topic.\n",
    "      2. For each step in the outline:\n",
    "         a. Generate Manim code and run it to produce a video clip.\n",
    "         b. Generate a narration line for the step.\n",
    "         c. Convert the narration to speech.\n",
    "         d. Combine the video and the audio.\n",
    "      3. Concatenate all the step videos into one final video.\n",
    "    \n",
    "    If any step fails, it logs a warning and skips that segment.\n",
    "    \"\"\"\n",
    "    outline = generate_yaml_outline(topic_text)\n",
    "    step_video_files = []\n",
    "    \n",
    "    for idx, step in enumerate(outline, start=1):\n",
    "        print(f\"\\n========== Processing Step {idx}: {step} ==========\\n\")\n",
    "        try:\n",
    "            # Define filenames.\n",
    "            step_video_filename = f\"step_{idx}.mp4\"\n",
    "            step_audio_filename = f\"step_{idx}.mp3\"\n",
    "            step_final_filename = f\"step_{idx}_final.mp4\"\n",
    "            \n",
    "            # Step 2a: Generate Manim code and run it.\n",
    "            manim_code = generate_manim_code_for_step(step)\n",
    "            video_path = run_manim_script(manim_code, output_filename=step_video_filename)\n",
    "            \n",
    "            # Step 2b: Generate narration.\n",
    "            dialogue_line = generate_dialogue_for_step(step)\n",
    "            print(f\"Generated dialogue: {dialogue_line}\")\n",
    "            \n",
    "            # Step 2c: Convert dialogue to speech.\n",
    "            audio_path = AUDIO_DIR / step_audio_filename\n",
    "            text_to_speech(dialogue_line, output_audio=audio_path)\n",
    "            \n",
    "            # Step 2d: Combine video and audio.\n",
    "            final_video_path = combine_audio_and_video(video_path, audio_path, final_output_filename=step_final_filename)\n",
    "            step_video_files.append(str(final_video_path))\n",
    "            \n",
    "        except Exception as e:\n",
    "            print(f\"Warning: Step {idx} failed ({str(e)}). Skipping this segment.\")\n",
    "            continue\n",
    "\n",
    "    if step_video_files:\n",
    "        final_video = \"final_animation_video.mp4\"\n",
    "        concatenate_videos(step_video_files, final_output=final_video)\n",
    "        print(\"\\n=== Animation Pipeline Complete! ===\\n\")\n",
    "    else:\n",
    "        print(\"No valid segments were created. Pipeline finished with no output.\")"
   ]
  },
  {
   "cell_type": "code",
   "execution_count": 13,
   "id": "cd0c5b6e-3a20-4f7b-a98b-7161937e0df3",
   "metadata": {},
   "outputs": [
    {
     "name": "stdout",
     "output_type": "stream",
     "text": [
      "✅ YAML Outline saved to animation_outline.yaml\n",
      "\n",
      "========== Processing Step 1: {'Title Slide': 'Torque in Physics: definition, formula, and how lever arms work.'} ==========\n",
      "\n"
     ]
    },
    {
     "name": "stderr",
     "output_type": "stream",
     "text": [
      "<frozen runpy>:128: RuntimeWarning: 'manim.__main__' found in sys.modules after import of package 'manim', but prior to execution of 'manim.__main__'; this may result in unpredictable behaviour\n",
      "Animation 0: Write(Text('Torque in Physics')):   0%|                                                                                                                                                                                          | 0/60 [00:00<?, ?it/s]"
     ]
    },
    {
     "name": "stdout",
     "output_type": "stream",
     "text": [
      "Manim Community \u001b[32mv0.\u001b[0m\u001b[32m19.0\u001b[0m\n",
      "\n"
     ]
    },
    {
     "name": "stderr",
     "output_type": "stream",
     "text": [
      "                                                                                                                                                                                                                                                                     \r"
     ]
    },
    {
     "name": "stdout",
     "output_type": "stream",
     "text": [
      "\u001b[2;36m[03/18/25 23:30:37]\u001b[0m\u001b[2;36m \u001b[0m\u001b[32mINFO    \u001b[0m Animation \u001b[32m0\u001b[0m : Partial movie file written in \u001b[32m'/home/siva/llm_proj/EduVision/notebooks/media/videos/temp_manim_\u001b[0m\u001b[1;33mscript\u001b[0m\u001b[32m/720p30/partial_movie_files/TitleSlide/2016333726_2427665977_223132457.mp4'\u001b[0m                   \u001b]8;id=861094;file:///home/siva/anaconda3/envs/edu/lib/python3.13/site-packages/manim/scene/scene_file_writer.py\u001b\\\u001b[2mscene_file_writer.py\u001b[0m\u001b]8;;\u001b\\\u001b[2m:\u001b[0m\u001b]8;id=681190;file:///home/siva/anaconda3/envs/edu/lib/python3.13/site-packages/manim/scene/scene_file_writer.py#588\u001b\\\u001b[2m588\u001b[0m\u001b]8;;\u001b\\\n"
     ]
    },
    {
     "name": "stderr",
     "output_type": "stream",
     "text": [
      "                                                                                                                                                                                                                                                                     \r"
     ]
    },
    {
     "name": "stdout",
     "output_type": "stream",
     "text": [
      "\u001b[2;36m[03/18/25 23:30:38]\u001b[0m\u001b[2;36m \u001b[0m\u001b[32mINFO    \u001b[0m Animation \u001b[32m1\u001b[0m : Partial movie file written in \u001b[32m'/home/siva/llm_proj/EduVision/notebooks/media/videos/temp_manim_\u001b[0m\u001b[1;33mscript\u001b[0m\u001b[32m/720p30/partial_movie_files/TitleSlide/543634251_3588616603_3711886643.mp4'\u001b[0m                   \u001b]8;id=849389;file:///home/siva/anaconda3/envs/edu/lib/python3.13/site-packages/manim/scene/scene_file_writer.py\u001b\\\u001b[2mscene_file_writer.py\u001b[0m\u001b]8;;\u001b\\\u001b[2m:\u001b[0m\u001b]8;id=780725;file:///home/siva/anaconda3/envs/edu/lib/python3.13/site-packages/manim/scene/scene_file_writer.py#588\u001b\\\u001b[2m588\u001b[0m\u001b]8;;\u001b\\\n",
      "\u001b[2;36m[03/18/25 23:30:39]\u001b[0m\u001b[2;36m \u001b[0m\u001b[32mINFO    \u001b[0m Animation \u001b[32m2\u001b[0m : Partial movie file written in \u001b[32m'/home/siva/llm_proj/EduVision/notebooks/media/videos/temp_manim_\u001b[0m\u001b[1;33mscript\u001b[0m\u001b[32m/720p30/partial_movie_files/TitleSlide/543634251_2408024828_678225912.mp4'\u001b[0m                    \u001b]8;id=132946;file:///home/siva/anaconda3/envs/edu/lib/python3.13/site-packages/manim/scene/scene_file_writer.py\u001b\\\u001b[2mscene_file_writer.py\u001b[0m\u001b]8;;\u001b\\\u001b[2m:\u001b[0m\u001b]8;id=321020;file:///home/siva/anaconda3/envs/edu/lib/python3.13/site-packages/manim/scene/scene_file_writer.py#588\u001b\\\u001b[2m588\u001b[0m\u001b]8;;\u001b\\\n",
      "\u001b[2;36m                   \u001b[0m\u001b[2;36m \u001b[0m\u001b[32mINFO    \u001b[0m Combining to Movie file.                                                                                                                                                                                         \u001b]8;id=472941;file:///home/siva/anaconda3/envs/edu/lib/python3.13/site-packages/manim/scene/scene_file_writer.py\u001b\\\u001b[2mscene_file_writer.py\u001b[0m\u001b]8;;\u001b\\\u001b[2m:\u001b[0m\u001b]8;id=614527;file:///home/siva/anaconda3/envs/edu/lib/python3.13/site-packages/manim/scene/scene_file_writer.py#739\u001b\\\u001b[2m739\u001b[0m\u001b]8;;\u001b\\\n",
      "\u001b[2;36m                   \u001b[0m\u001b[2;36m \u001b[0m\u001b[32mINFO    \u001b[0m                                                                                                                                                                                                                  \u001b]8;id=494305;file:///home/siva/anaconda3/envs/edu/lib/python3.13/site-packages/manim/scene/scene_file_writer.py\u001b\\\u001b[2mscene_file_writer.py\u001b[0m\u001b]8;;\u001b\\\u001b[2m:\u001b[0m\u001b]8;id=924415;file:///home/siva/anaconda3/envs/edu/lib/python3.13/site-packages/manim/scene/scene_file_writer.py#886\u001b\\\u001b[2m886\u001b[0m\u001b]8;;\u001b\\\n",
      "\u001b[2;36m                    \u001b[0m         \u001b[1;33mFile\u001b[0m ready at \u001b[32m'/home/siva/llm_proj/EduVision/notebooks/media/videos/temp_manim_\u001b[0m\u001b[1;33mscript\u001b[0m\u001b[32m/720p30/step_1.mp4'\u001b[0m                                                                                                         \u001b[2m                        \u001b[0m\n",
      "\u001b[2;36m                    \u001b[0m                                                                                                                                                                                                                          \u001b[2m                        \u001b[0m\n",
      "\u001b[2;36m                   \u001b[0m\u001b[2;36m \u001b[0m\u001b[32mINFO    \u001b[0m \u001b[1;33mRendered\u001b[0m TitleSlide                                                                                                                                                                                                          \u001b]8;id=350983;file:///home/siva/anaconda3/envs/edu/lib/python3.13/site-packages/manim/scene/scene.py\u001b\\\u001b[2mscene.py\u001b[0m\u001b]8;;\u001b\\\u001b[2m:\u001b[0m\u001b]8;id=871487;file:///home/siva/anaconda3/envs/edu/lib/python3.13/site-packages/manim/scene/scene.py#255\u001b\\\u001b[2m255\u001b[0m\u001b]8;;\u001b\\\n",
      "\u001b[2;36m                    \u001b[0m         \u001b[1;33mPlayed\u001b[0m \u001b[32m3\u001b[0m \u001b[1;33manimations\u001b[0m                                                                                                                                                                                                          \u001b[2m            \u001b[0m\n",
      "✅ Manim animation generated with base name: step_1.mp4\n",
      "✅ Copied video to: outputs/videos/step_1.mp4\n",
      "Generated dialogue: Welcome to our exploration of torque in physics, where we'll define this essential concept, uncover its formula, and discover the mechanics of lever arms in action.\n",
      "Generated TTS audio saved to: outputs/audio/step_1.mp3\n",
      "\n",
      "========== Processing Step 2: {'Step 1': {'Description': 'Introduce the concept of torque with a rotating object, such as a door. Show the door pivoting around its hinges.'}} ==========\n",
      "\n"
     ]
    },
    {
     "name": "stderr",
     "output_type": "stream",
     "text": [
      "<frozen runpy>:128: RuntimeWarning: 'manim.__main__' found in sys.modules after import of package 'manim', but prior to execution of 'manim.__main__'; this may result in unpredictable behaviour\n"
     ]
    },
    {
     "name": "stdout",
     "output_type": "stream",
     "text": [
      "Manim Community \u001b[32mv0.\u001b[0m\u001b[32m19.0\u001b[0m\n",
      "\n",
      "\u001b[2;36m[03/18/25 23:30:48]\u001b[0m\u001b[2;36m \u001b[0m\u001b[32mINFO    \u001b[0m \u001b[1;33mWriting\u001b[0m Torque to media/Tex/c33bea5c5f603e52.tex                                                                                                                                                                  \u001b]8;id=882341;file:///home/siva/anaconda3/envs/edu/lib/python3.13/site-packages/manim/utils/tex_file_writing.py\u001b\\\u001b[2mtex_file_writing.py\u001b[0m\u001b]8;;\u001b\\\u001b[2m:\u001b[0m\u001b]8;id=346992;file:///home/siva/anaconda3/envs/edu/lib/python3.13/site-packages/manim/utils/tex_file_writing.py#111\u001b\\\u001b[2m111\u001b[0m\u001b]8;;\u001b\\\n"
     ]
    },
    {
     "name": "stderr",
     "output_type": "stream",
     "text": [
      "                                                                                                                                                                                                                                                                     \r"
     ]
    },
    {
     "name": "stdout",
     "output_type": "stream",
     "text": [
      "\u001b[2;36m[03/18/25 23:30:49]\u001b[0m\u001b[2;36m \u001b[0m\u001b[32mINFO    \u001b[0m Animation \u001b[32m0\u001b[0m : Partial movie file written in \u001b[32m'/home/siva/llm_proj/EduVision/notebooks/media/videos/temp_manim_\u001b[0m\u001b[1;33mscript\u001b[0m\u001b[32m/720p30/partial_movie_files/TorqueScene/2016333726_3465449435_223132457.mp4'\u001b[0m                  \u001b]8;id=258848;file:///home/siva/anaconda3/envs/edu/lib/python3.13/site-packages/manim/scene/scene_file_writer.py\u001b\\\u001b[2mscene_file_writer.py\u001b[0m\u001b]8;;\u001b\\\u001b[2m:\u001b[0m\u001b]8;id=851939;file:///home/siva/anaconda3/envs/edu/lib/python3.13/site-packages/manim/scene/scene_file_writer.py#588\u001b\\\u001b[2m588\u001b[0m\u001b]8;;\u001b\\\n",
      "\u001b[2;36m                   \u001b[0m\u001b[2;36m \u001b[0m\u001b[32mINFO    \u001b[0m Animation \u001b[32m1\u001b[0m : Partial movie file written in \u001b[32m'/home/siva/llm_proj/EduVision/notebooks/media/videos/temp_manim_\u001b[0m\u001b[1;33mscript\u001b[0m\u001b[32m/720p30/partial_movie_files/TorqueScene/543634251_1839128356_1469150318.mp4'\u001b[0m                  \u001b]8;id=431723;file:///home/siva/anaconda3/envs/edu/lib/python3.13/site-packages/manim/scene/scene_file_writer.py\u001b\\\u001b[2mscene_file_writer.py\u001b[0m\u001b]8;;\u001b\\\u001b[2m:\u001b[0m\u001b]8;id=405350;file:///home/siva/anaconda3/envs/edu/lib/python3.13/site-packages/manim/scene/scene_file_writer.py#588\u001b\\\u001b[2m588\u001b[0m\u001b]8;;\u001b\\\n"
     ]
    },
    {
     "name": "stderr",
     "output_type": "stream",
     "text": [
      "                                                                                                                                                                                                                                                                     \r"
     ]
    },
    {
     "name": "stdout",
     "output_type": "stream",
     "text": [
      "\u001b[2;36m[03/18/25 23:30:50]\u001b[0m\u001b[2;36m \u001b[0m\u001b[32mINFO    \u001b[0m Animation \u001b[32m2\u001b[0m : Partial movie file written in \u001b[32m'/home/siva/llm_proj/EduVision/notebooks/media/videos/temp_manim_\u001b[0m\u001b[1;33mscript\u001b[0m\u001b[32m/720p30/partial_movie_files/TorqueScene/543634251_2230979608_2960728317.mp4'\u001b[0m                  \u001b]8;id=239550;file:///home/siva/anaconda3/envs/edu/lib/python3.13/site-packages/manim/scene/scene_file_writer.py\u001b\\\u001b[2mscene_file_writer.py\u001b[0m\u001b]8;;\u001b\\\u001b[2m:\u001b[0m\u001b]8;id=170482;file:///home/siva/anaconda3/envs/edu/lib/python3.13/site-packages/manim/scene/scene_file_writer.py#588\u001b\\\u001b[2m588\u001b[0m\u001b]8;;\u001b\\\n",
      "\u001b[2;36m                   \u001b[0m\u001b[2;36m \u001b[0m\u001b[32mINFO    \u001b[0m Animation \u001b[32m3\u001b[0m : Partial movie file written in \u001b[32m'/home/siva/llm_proj/EduVision/notebooks/media/videos/temp_manim_\u001b[0m\u001b[1;33mscript\u001b[0m\u001b[32m/720p30/partial_movie_files/TorqueScene/543634251_1839128356_2213769301.mp4'\u001b[0m                  \u001b]8;id=669602;file:///home/siva/anaconda3/envs/edu/lib/python3.13/site-packages/manim/scene/scene_file_writer.py\u001b\\\u001b[2mscene_file_writer.py\u001b[0m\u001b]8;;\u001b\\\u001b[2m:\u001b[0m\u001b]8;id=961699;file:///home/siva/anaconda3/envs/edu/lib/python3.13/site-packages/manim/scene/scene_file_writer.py#588\u001b\\\u001b[2m588\u001b[0m\u001b]8;;\u001b\\\n"
     ]
    },
    {
     "name": "stderr",
     "output_type": "stream",
     "text": [
      "                                                                                                                                                                                                                                                                     \r"
     ]
    },
    {
     "name": "stdout",
     "output_type": "stream",
     "text": [
      "\u001b[2;36m[03/18/25 23:30:51]\u001b[0m\u001b[2;36m \u001b[0m\u001b[32mINFO    \u001b[0m Animation \u001b[32m4\u001b[0m : Partial movie file written in \u001b[32m'/home/siva/llm_proj/EduVision/notebooks/media/videos/temp_manim_\u001b[0m\u001b[1;33mscript\u001b[0m\u001b[32m/720p30/partial_movie_files/TorqueScene/543634251_2298152312_3723274152.mp4'\u001b[0m                  \u001b]8;id=462952;file:///home/siva/anaconda3/envs/edu/lib/python3.13/site-packages/manim/scene/scene_file_writer.py\u001b\\\u001b[2mscene_file_writer.py\u001b[0m\u001b]8;;\u001b\\\u001b[2m:\u001b[0m\u001b]8;id=821271;file:///home/siva/anaconda3/envs/edu/lib/python3.13/site-packages/manim/scene/scene_file_writer.py#588\u001b\\\u001b[2m588\u001b[0m\u001b]8;;\u001b\\\n",
      "\u001b[2;36m                   \u001b[0m\u001b[2;36m \u001b[0m\u001b[32mINFO    \u001b[0m Animation \u001b[32m5\u001b[0m : Partial movie file written in \u001b[32m'/home/siva/llm_proj/EduVision/notebooks/media/videos/temp_manim_\u001b[0m\u001b[1;33mscript\u001b[0m\u001b[32m/720p30/partial_movie_files/TorqueScene/543634251_1839128356_2737776094.mp4'\u001b[0m                  \u001b]8;id=648980;file:///home/siva/anaconda3/envs/edu/lib/python3.13/site-packages/manim/scene/scene_file_writer.py\u001b\\\u001b[2mscene_file_writer.py\u001b[0m\u001b]8;;\u001b\\\u001b[2m:\u001b[0m\u001b]8;id=532634;file:///home/siva/anaconda3/envs/edu/lib/python3.13/site-packages/manim/scene/scene_file_writer.py#588\u001b\\\u001b[2m588\u001b[0m\u001b]8;;\u001b\\\n"
     ]
    },
    {
     "name": "stderr",
     "output_type": "stream",
     "text": [
      "                                                                                                                                                                                                                                                                     \r"
     ]
    },
    {
     "name": "stdout",
     "output_type": "stream",
     "text": [
      "\u001b[2;36m[03/18/25 23:30:52]\u001b[0m\u001b[2;36m \u001b[0m\u001b[32mINFO    \u001b[0m Animation \u001b[32m6\u001b[0m : Partial movie file written in \u001b[32m'/home/siva/llm_proj/EduVision/notebooks/media/videos/temp_manim_\u001b[0m\u001b[1;33mscript\u001b[0m\u001b[32m/720p30/partial_movie_files/TorqueScene/543634251_1252391822_184598605.mp4'\u001b[0m                   \u001b]8;id=875185;file:///home/siva/anaconda3/envs/edu/lib/python3.13/site-packages/manim/scene/scene_file_writer.py\u001b\\\u001b[2mscene_file_writer.py\u001b[0m\u001b]8;;\u001b\\\u001b[2m:\u001b[0m\u001b]8;id=457334;file:///home/siva/anaconda3/envs/edu/lib/python3.13/site-packages/manim/scene/scene_file_writer.py#588\u001b\\\u001b[2m588\u001b[0m\u001b]8;;\u001b\\\n",
      "\u001b[2;36m                   \u001b[0m\u001b[2;36m \u001b[0m\u001b[32mINFO    \u001b[0m Combining to Movie file.                                                                                                                                                                                         \u001b]8;id=220734;file:///home/siva/anaconda3/envs/edu/lib/python3.13/site-packages/manim/scene/scene_file_writer.py\u001b\\\u001b[2mscene_file_writer.py\u001b[0m\u001b]8;;\u001b\\\u001b[2m:\u001b[0m\u001b]8;id=749132;file:///home/siva/anaconda3/envs/edu/lib/python3.13/site-packages/manim/scene/scene_file_writer.py#739\u001b\\\u001b[2m739\u001b[0m\u001b]8;;\u001b\\\n",
      "\u001b[2;36m                   \u001b[0m\u001b[2;36m \u001b[0m\u001b[32mINFO    \u001b[0m                                                                                                                                                                                                                  \u001b]8;id=727851;file:///home/siva/anaconda3/envs/edu/lib/python3.13/site-packages/manim/scene/scene_file_writer.py\u001b\\\u001b[2mscene_file_writer.py\u001b[0m\u001b]8;;\u001b\\\u001b[2m:\u001b[0m\u001b]8;id=682672;file:///home/siva/anaconda3/envs/edu/lib/python3.13/site-packages/manim/scene/scene_file_writer.py#886\u001b\\\u001b[2m886\u001b[0m\u001b]8;;\u001b\\\n",
      "\u001b[2;36m                    \u001b[0m         \u001b[1;33mFile\u001b[0m ready at \u001b[32m'/home/siva/llm_proj/EduVision/notebooks/media/videos/temp_manim_\u001b[0m\u001b[1;33mscript\u001b[0m\u001b[32m/720p30/step_2.mp4'\u001b[0m                                                                                                         \u001b[2m                        \u001b[0m\n",
      "\u001b[2;36m                    \u001b[0m                                                                                                                                                                                                                          \u001b[2m                        \u001b[0m\n",
      "\u001b[2;36m                   \u001b[0m\u001b[2;36m \u001b[0m\u001b[32mINFO    \u001b[0m \u001b[1;33mRendered\u001b[0m TorqueScene                                                                                                                                                                                                         \u001b]8;id=32254;file:///home/siva/anaconda3/envs/edu/lib/python3.13/site-packages/manim/scene/scene.py\u001b\\\u001b[2mscene.py\u001b[0m\u001b]8;;\u001b\\\u001b[2m:\u001b[0m\u001b]8;id=549635;file:///home/siva/anaconda3/envs/edu/lib/python3.13/site-packages/manim/scene/scene.py#255\u001b\\\u001b[2m255\u001b[0m\u001b]8;;\u001b\\\n",
      "\u001b[2;36m                    \u001b[0m         \u001b[1;33mPlayed\u001b[0m \u001b[32m7\u001b[0m \u001b[1;33manimations\u001b[0m                                                                                                                                                                                                          \u001b[2m            \u001b[0m\n",
      "✅ Manim animation generated with base name: step_2.mp4\n",
      "✅ Copied video to: outputs/videos/step_2.mp4\n",
      "Generated dialogue: Torque is the force that causes an object to rotate, much like how a door swings open and closed around its hinges. Let's explore how this pivoting motion illustrates the power of torque in action.\n",
      "Generated TTS audio saved to: outputs/audio/step_2.mp3\n",
      "\n",
      "========== Processing Step 3: {'Step 2': {'Description': \"Display the definition of torque: 'Torque is a measure of the rotational force applied to an object.' Use text animation to reveal the definition.\"}} ==========\n",
      "\n"
     ]
    },
    {
     "name": "stderr",
     "output_type": "stream",
     "text": [
      "<frozen runpy>:128: RuntimeWarning: 'manim.__main__' found in sys.modules after import of package 'manim', but prior to execution of 'manim.__main__'; this may result in unpredictable behaviour\n"
     ]
    },
    {
     "name": "stdout",
     "output_type": "stream",
     "text": [
      "Manim Community \u001b[32mv0.\u001b[0m\u001b[32m19.0\u001b[0m\n",
      "\n"
     ]
    },
    {
     "name": "stderr",
     "output_type": "stream",
     "text": [
      "                                                                                                                                                                                                                                                                     \r"
     ]
    },
    {
     "name": "stdout",
     "output_type": "stream",
     "text": [
      "\u001b[2;36m[03/18/25 23:31:00]\u001b[0m\u001b[2;36m \u001b[0m\u001b[32mINFO    \u001b[0m Animation \u001b[32m0\u001b[0m : Partial movie file written in \u001b[32m'/home/siva/llm_proj/EduVision/notebooks/media/videos/temp_manim_\u001b[0m\u001b[1;33mscript\u001b[0m\u001b[32m/720p30/partial_movie_files/TorqueDefinition/2016333726_3033709034_223132457.mp4'\u001b[0m             \u001b]8;id=505401;file:///home/siva/anaconda3/envs/edu/lib/python3.13/site-packages/manim/scene/scene_file_writer.py\u001b\\\u001b[2mscene_file_writer.py\u001b[0m\u001b]8;;\u001b\\\u001b[2m:\u001b[0m\u001b]8;id=702342;file:///home/siva/anaconda3/envs/edu/lib/python3.13/site-packages/manim/scene/scene_file_writer.py#588\u001b\\\u001b[2m588\u001b[0m\u001b]8;;\u001b\\\n",
      "\u001b[2;36m[03/18/25 23:31:01]\u001b[0m\u001b[2;36m \u001b[0m\u001b[32mINFO    \u001b[0m Animation \u001b[32m1\u001b[0m : Partial movie file written in \u001b[32m'/home/siva/llm_proj/EduVision/notebooks/media/videos/temp_manim_\u001b[0m\u001b[1;33mscript\u001b[0m\u001b[32m/720p30/partial_movie_files/TorqueDefinition/543634251_1734327179_4211625168.mp4'\u001b[0m             \u001b]8;id=532220;file:///home/siva/anaconda3/envs/edu/lib/python3.13/site-packages/manim/scene/scene_file_writer.py\u001b\\\u001b[2mscene_file_writer.py\u001b[0m\u001b]8;;\u001b\\\u001b[2m:\u001b[0m\u001b]8;id=213248;file:///home/siva/anaconda3/envs/edu/lib/python3.13/site-packages/manim/scene/scene_file_writer.py#588\u001b\\\u001b[2m588\u001b[0m\u001b]8;;\u001b\\\n"
     ]
    },
    {
     "name": "stderr",
     "output_type": "stream",
     "text": [
      "                                                                                                                                                                                                                                                                     \r"
     ]
    },
    {
     "name": "stdout",
     "output_type": "stream",
     "text": [
      "\u001b[2;36m[03/18/25 23:31:02]\u001b[0m\u001b[2;36m \u001b[0m\u001b[32mINFO    \u001b[0m Animation \u001b[32m2\u001b[0m : Partial movie file written in \u001b[32m'/home/siva/llm_proj/EduVision/notebooks/media/videos/temp_manim_\u001b[0m\u001b[1;33mscript\u001b[0m\u001b[32m/720p30/partial_movie_files/TorqueDefinition/543634251_1875523817_1193535083.mp4'\u001b[0m             \u001b]8;id=774313;file:///home/siva/anaconda3/envs/edu/lib/python3.13/site-packages/manim/scene/scene_file_writer.py\u001b\\\u001b[2mscene_file_writer.py\u001b[0m\u001b]8;;\u001b\\\u001b[2m:\u001b[0m\u001b]8;id=445973;file:///home/siva/anaconda3/envs/edu/lib/python3.13/site-packages/manim/scene/scene_file_writer.py#588\u001b\\\u001b[2m588\u001b[0m\u001b]8;;\u001b\\\n",
      "\u001b[2;36m                   \u001b[0m\u001b[2;36m \u001b[0m\u001b[32mINFO    \u001b[0m Combining to Movie file.                                                                                                                                                                                         \u001b]8;id=22786;file:///home/siva/anaconda3/envs/edu/lib/python3.13/site-packages/manim/scene/scene_file_writer.py\u001b\\\u001b[2mscene_file_writer.py\u001b[0m\u001b]8;;\u001b\\\u001b[2m:\u001b[0m\u001b]8;id=917774;file:///home/siva/anaconda3/envs/edu/lib/python3.13/site-packages/manim/scene/scene_file_writer.py#739\u001b\\\u001b[2m739\u001b[0m\u001b]8;;\u001b\\\n",
      "\u001b[2;36m                   \u001b[0m\u001b[2;36m \u001b[0m\u001b[32mINFO    \u001b[0m                                                                                                                                                                                                                  \u001b]8;id=321193;file:///home/siva/anaconda3/envs/edu/lib/python3.13/site-packages/manim/scene/scene_file_writer.py\u001b\\\u001b[2mscene_file_writer.py\u001b[0m\u001b]8;;\u001b\\\u001b[2m:\u001b[0m\u001b]8;id=679048;file:///home/siva/anaconda3/envs/edu/lib/python3.13/site-packages/manim/scene/scene_file_writer.py#886\u001b\\\u001b[2m886\u001b[0m\u001b]8;;\u001b\\\n",
      "\u001b[2;36m                    \u001b[0m         \u001b[1;33mFile\u001b[0m ready at \u001b[32m'/home/siva/llm_proj/EduVision/notebooks/media/videos/temp_manim_\u001b[0m\u001b[1;33mscript\u001b[0m\u001b[32m/720p30/step_3.mp4'\u001b[0m                                                                                                         \u001b[2m                        \u001b[0m\n",
      "\u001b[2;36m                    \u001b[0m                                                                                                                                                                                                                          \u001b[2m                        \u001b[0m\n",
      "\u001b[2;36m                   \u001b[0m\u001b[2;36m \u001b[0m\u001b[32mINFO    \u001b[0m \u001b[1;33mRendered\u001b[0m TorqueDefinition                                                                                                                                                                                                    \u001b]8;id=370191;file:///home/siva/anaconda3/envs/edu/lib/python3.13/site-packages/manim/scene/scene.py\u001b\\\u001b[2mscene.py\u001b[0m\u001b]8;;\u001b\\\u001b[2m:\u001b[0m\u001b]8;id=978212;file:///home/siva/anaconda3/envs/edu/lib/python3.13/site-packages/manim/scene/scene.py#255\u001b\\\u001b[2m255\u001b[0m\u001b]8;;\u001b\\\n",
      "\u001b[2;36m                    \u001b[0m         \u001b[1;33mPlayed\u001b[0m \u001b[32m3\u001b[0m \u001b[1;33manimations\u001b[0m                                                                                                                                                                                                          \u001b[2m            \u001b[0m\n",
      "✅ Manim animation generated with base name: step_3.mp4\n",
      "✅ Copied video to: outputs/videos/step_3.mp4\n",
      "Generated dialogue: \"Now, let's explore the concept of torque. Torque is defined as a measure of the rotational force applied to an object.\"\n",
      "Generated TTS audio saved to: outputs/audio/step_3.mp3\n",
      "\n",
      "========== Processing Step 4: {'Step 3': {'Description': 'Present the formula for torque: τ = r × F, where τ is torque, r is the lever arm, and F is the force. Animate the formula appearing on the screen.'}} ==========\n",
      "\n"
     ]
    },
    {
     "name": "stderr",
     "output_type": "stream",
     "text": [
      "<frozen runpy>:128: RuntimeWarning: 'manim.__main__' found in sys.modules after import of package 'manim', but prior to execution of 'manim.__main__'; this may result in unpredictable behaviour\n"
     ]
    },
    {
     "name": "stdout",
     "output_type": "stream",
     "text": [
      "Manim Community \u001b[32mv0.\u001b[0m\u001b[32m19.0\u001b[0m\n",
      "\n",
      "\u001b[2;36m[03/18/25 23:31:08]\u001b[0m\u001b[2;36m \u001b[0m\u001b[32mINFO    \u001b[0m \u001b[1;33mWriting\u001b[0m \\tau = \\mathbf\u001b[1m{\u001b[0mr\u001b[1m}\u001b[0m \\times \\mathbf\u001b[1m{\u001b[0mF\u001b[1m}\u001b[0m to media/Tex/f5816782050ab187.tex                                                                                                                                     \u001b]8;id=900433;file:///home/siva/anaconda3/envs/edu/lib/python3.13/site-packages/manim/utils/tex_file_writing.py\u001b\\\u001b[2mtex_file_writing.py\u001b[0m\u001b]8;;\u001b\\\u001b[2m:\u001b[0m\u001b]8;id=479208;file:///home/siva/anaconda3/envs/edu/lib/python3.13/site-packages/manim/utils/tex_file_writing.py#111\u001b\\\u001b[2m111\u001b[0m\u001b]8;;\u001b\\\n"
     ]
    },
    {
     "name": "stderr",
     "output_type": "stream",
     "text": [
      "                                                                                                                                                                                                                                                                     \r"
     ]
    },
    {
     "name": "stdout",
     "output_type": "stream",
     "text": [
      "\u001b[2;36m                   \u001b[0m\u001b[2;36m \u001b[0m\u001b[32mINFO    \u001b[0m Animation \u001b[32m0\u001b[0m : Partial movie file written in \u001b[32m'/home/siva/llm_proj/EduVision/notebooks/media/videos/temp_manim_\u001b[0m\u001b[1;33mscript\u001b[0m\u001b[32m/720p30/partial_movie_files/TorqueFormula/2016333726_714634692_223132457.mp4'\u001b[0m                 \u001b]8;id=276141;file:///home/siva/anaconda3/envs/edu/lib/python3.13/site-packages/manim/scene/scene_file_writer.py\u001b\\\u001b[2mscene_file_writer.py\u001b[0m\u001b]8;;\u001b\\\u001b[2m:\u001b[0m\u001b]8;id=399412;file:///home/siva/anaconda3/envs/edu/lib/python3.13/site-packages/manim/scene/scene_file_writer.py#588\u001b\\\u001b[2m588\u001b[0m\u001b]8;;\u001b\\\n",
      "\u001b[2;36m[03/18/25 23:31:09]\u001b[0m\u001b[2;36m \u001b[0m\u001b[32mINFO    \u001b[0m Animation \u001b[32m1\u001b[0m : Partial movie file written in \u001b[32m'/home/siva/llm_proj/EduVision/notebooks/media/videos/temp_manim_\u001b[0m\u001b[1;33mscript\u001b[0m\u001b[32m/720p30/partial_movie_files/TorqueFormula/543634251_2408024828_2432996786.mp4'\u001b[0m                \u001b]8;id=254736;file:///home/siva/anaconda3/envs/edu/lib/python3.13/site-packages/manim/scene/scene_file_writer.py\u001b\\\u001b[2mscene_file_writer.py\u001b[0m\u001b]8;;\u001b\\\u001b[2m:\u001b[0m\u001b]8;id=140962;file:///home/siva/anaconda3/envs/edu/lib/python3.13/site-packages/manim/scene/scene_file_writer.py#588\u001b\\\u001b[2m588\u001b[0m\u001b]8;;\u001b\\\n",
      "\u001b[2;36m                   \u001b[0m\u001b[2;36m \u001b[0m\u001b[32mINFO    \u001b[0m Combining to Movie file.                                                                                                                                                                                         \u001b]8;id=393390;file:///home/siva/anaconda3/envs/edu/lib/python3.13/site-packages/manim/scene/scene_file_writer.py\u001b\\\u001b[2mscene_file_writer.py\u001b[0m\u001b]8;;\u001b\\\u001b[2m:\u001b[0m\u001b]8;id=814800;file:///home/siva/anaconda3/envs/edu/lib/python3.13/site-packages/manim/scene/scene_file_writer.py#739\u001b\\\u001b[2m739\u001b[0m\u001b]8;;\u001b\\\n",
      "\u001b[2;36m                   \u001b[0m\u001b[2;36m \u001b[0m\u001b[32mINFO    \u001b[0m                                                                                                                                                                                                                  \u001b]8;id=140971;file:///home/siva/anaconda3/envs/edu/lib/python3.13/site-packages/manim/scene/scene_file_writer.py\u001b\\\u001b[2mscene_file_writer.py\u001b[0m\u001b]8;;\u001b\\\u001b[2m:\u001b[0m\u001b]8;id=941632;file:///home/siva/anaconda3/envs/edu/lib/python3.13/site-packages/manim/scene/scene_file_writer.py#886\u001b\\\u001b[2m886\u001b[0m\u001b]8;;\u001b\\\n",
      "\u001b[2;36m                    \u001b[0m         \u001b[1;33mFile\u001b[0m ready at \u001b[32m'/home/siva/llm_proj/EduVision/notebooks/media/videos/temp_manim_\u001b[0m\u001b[1;33mscript\u001b[0m\u001b[32m/720p30/step_4.mp4'\u001b[0m                                                                                                         \u001b[2m                        \u001b[0m\n",
      "\u001b[2;36m                    \u001b[0m                                                                                                                                                                                                                          \u001b[2m                        \u001b[0m\n",
      "\u001b[2;36m                   \u001b[0m\u001b[2;36m \u001b[0m\u001b[32mINFO    \u001b[0m \u001b[1;33mRendered\u001b[0m TorqueFormula                                                                                                                                                                                                       \u001b]8;id=363715;file:///home/siva/anaconda3/envs/edu/lib/python3.13/site-packages/manim/scene/scene.py\u001b\\\u001b[2mscene.py\u001b[0m\u001b]8;;\u001b\\\u001b[2m:\u001b[0m\u001b]8;id=95351;file:///home/siva/anaconda3/envs/edu/lib/python3.13/site-packages/manim/scene/scene.py#255\u001b\\\u001b[2m255\u001b[0m\u001b]8;;\u001b\\\n",
      "\u001b[2;36m                    \u001b[0m         \u001b[1;33mPlayed\u001b[0m \u001b[32m2\u001b[0m \u001b[1;33manimations\u001b[0m                                                                                                                                                                                                          \u001b[2m            \u001b[0m\n",
      "✅ Manim animation generated with base name: step_4.mp4\n",
      "✅ Copied video to: outputs/videos/step_4.mp4\n",
      "Generated dialogue: Now, let's explore the formula for torque, represented as τ = r × F, where τ stands for torque, r is the lever arm, and F is the applied force. Watch as this essential equation animates onto the screen, illustrating the relationship between these key components.\n",
      "Generated TTS audio saved to: outputs/audio/step_4.mp3\n",
      "\n",
      "========== Processing Step 5: {'Step 4': {'Description': 'Illustrate the lever arm (r) by drawing a line from the pivot point to the point where the force is applied on the door.'}} ==========\n",
      "\n"
     ]
    },
    {
     "name": "stderr",
     "output_type": "stream",
     "text": [
      "<frozen runpy>:128: RuntimeWarning: 'manim.__main__' found in sys.modules after import of package 'manim', but prior to execution of 'manim.__main__'; this may result in unpredictable behaviour\n"
     ]
    },
    {
     "name": "stdout",
     "output_type": "stream",
     "text": [
      "Manim Community \u001b[32mv0.\u001b[0m\u001b[32m19.0\u001b[0m\n",
      "\n",
      "\u001b[2;36m[03/18/25 23:31:21]\u001b[0m\u001b[2;36m \u001b[0m\u001b[32mINFO    \u001b[0m \u001b[1;33mWriting\u001b[0m Pivot to media/Tex/aba268c9cd012783.tex                                                                                                                                                                   \u001b]8;id=477512;file:///home/siva/anaconda3/envs/edu/lib/python3.13/site-packages/manim/utils/tex_file_writing.py\u001b\\\u001b[2mtex_file_writing.py\u001b[0m\u001b]8;;\u001b\\\u001b[2m:\u001b[0m\u001b]8;id=835561;file:///home/siva/anaconda3/envs/edu/lib/python3.13/site-packages/manim/utils/tex_file_writing.py#111\u001b\\\u001b[2m111\u001b[0m\u001b]8;;\u001b\\\n",
      "\u001b[2;36m                   \u001b[0m\u001b[2;36m \u001b[0m\u001b[32mINFO    \u001b[0m \u001b[1;33mWriting\u001b[0m Force Applied to media/Tex/35dfb5abb8402314.tex                                                                                                                                                           \u001b]8;id=578183;file:///home/siva/anaconda3/envs/edu/lib/python3.13/site-packages/manim/utils/tex_file_writing.py\u001b\\\u001b[2mtex_file_writing.py\u001b[0m\u001b]8;;\u001b\\\u001b[2m:\u001b[0m\u001b]8;id=939440;file:///home/siva/anaconda3/envs/edu/lib/python3.13/site-packages/manim/utils/tex_file_writing.py#111\u001b\\\u001b[2m111\u001b[0m\u001b]8;;\u001b\\\n",
      "\u001b[2;36m                   \u001b[0m\u001b[2;36m \u001b[0m\u001b[32mINFO    \u001b[0m \u001b[1;33mWriting\u001b[0m r to media/Tex/937b81def052c03a.tex                                                                                                                                                                       \u001b]8;id=925320;file:///home/siva/anaconda3/envs/edu/lib/python3.13/site-packages/manim/utils/tex_file_writing.py\u001b\\\u001b[2mtex_file_writing.py\u001b[0m\u001b]8;;\u001b\\\u001b[2m:\u001b[0m\u001b]8;id=202747;file:///home/siva/anaconda3/envs/edu/lib/python3.13/site-packages/manim/utils/tex_file_writing.py#111\u001b\\\u001b[2m111\u001b[0m\u001b]8;;\u001b\\\n"
     ]
    },
    {
     "name": "stderr",
     "output_type": "stream",
     "text": [
      "                                                                                                                                                                                                                                                                     \r"
     ]
    },
    {
     "name": "stdout",
     "output_type": "stream",
     "text": [
      "\u001b[2;36m[03/18/25 23:31:22]\u001b[0m\u001b[2;36m \u001b[0m\u001b[32mINFO    \u001b[0m Animation \u001b[32m0\u001b[0m : Partial movie file written in \u001b[32m'/home/siva/llm_proj/EduVision/notebooks/media/videos/temp_manim_\u001b[0m\u001b[1;33mscript\u001b[0m\u001b[32m/720p30/partial_movie_files/LeverArmScene/2016333726_885396876_223132457.mp4'\u001b[0m                 \u001b]8;id=580879;file:///home/siva/anaconda3/envs/edu/lib/python3.13/site-packages/manim/scene/scene_file_writer.py\u001b\\\u001b[2mscene_file_writer.py\u001b[0m\u001b]8;;\u001b\\\u001b[2m:\u001b[0m\u001b]8;id=33153;file:///home/siva/anaconda3/envs/edu/lib/python3.13/site-packages/manim/scene/scene_file_writer.py#588\u001b\\\u001b[2m588\u001b[0m\u001b]8;;\u001b\\\n"
     ]
    },
    {
     "name": "stderr",
     "output_type": "stream",
     "text": [
      "                                                                                                                                                                                                                                                                     \r"
     ]
    },
    {
     "name": "stdout",
     "output_type": "stream",
     "text": [
      "\u001b[2;36m                   \u001b[0m\u001b[2;36m \u001b[0m\u001b[32mINFO    \u001b[0m Animation \u001b[32m1\u001b[0m : Partial movie file written in \u001b[32m'/home/siva/llm_proj/EduVision/notebooks/media/videos/temp_manim_\u001b[0m\u001b[1;33mscript\u001b[0m\u001b[32m/720p30/partial_movie_files/LeverArmScene/543634251_1583046595_992377701.mp4'\u001b[0m                 \u001b]8;id=912000;file:///home/siva/anaconda3/envs/edu/lib/python3.13/site-packages/manim/scene/scene_file_writer.py\u001b\\\u001b[2mscene_file_writer.py\u001b[0m\u001b]8;;\u001b\\\u001b[2m:\u001b[0m\u001b]8;id=68935;file:///home/siva/anaconda3/envs/edu/lib/python3.13/site-packages/manim/scene/scene_file_writer.py#588\u001b\\\u001b[2m588\u001b[0m\u001b]8;;\u001b\\\n"
     ]
    },
    {
     "name": "stderr",
     "output_type": "stream",
     "text": [
      "                                                                                                                                                                                                                                                                     \r"
     ]
    },
    {
     "name": "stdout",
     "output_type": "stream",
     "text": [
      "\u001b[2;36m[03/18/25 23:31:23]\u001b[0m\u001b[2;36m \u001b[0m\u001b[32mINFO    \u001b[0m Animation \u001b[32m2\u001b[0m : Partial movie file written in \u001b[32m'/home/siva/llm_proj/EduVision/notebooks/media/videos/temp_manim_\u001b[0m\u001b[1;33mscript\u001b[0m\u001b[32m/720p30/partial_movie_files/LeverArmScene/543634251_803446846_3746892604.mp4'\u001b[0m                 \u001b]8;id=77398;file:///home/siva/anaconda3/envs/edu/lib/python3.13/site-packages/manim/scene/scene_file_writer.py\u001b\\\u001b[2mscene_file_writer.py\u001b[0m\u001b]8;;\u001b\\\u001b[2m:\u001b[0m\u001b]8;id=660644;file:///home/siva/anaconda3/envs/edu/lib/python3.13/site-packages/manim/scene/scene_file_writer.py#588\u001b\\\u001b[2m588\u001b[0m\u001b]8;;\u001b\\\n"
     ]
    },
    {
     "name": "stderr",
     "output_type": "stream",
     "text": [
      "                                                                                                                                                                                                                                                                     \r"
     ]
    },
    {
     "name": "stdout",
     "output_type": "stream",
     "text": [
      "\u001b[2;36m                   \u001b[0m\u001b[2;36m \u001b[0m\u001b[32mINFO    \u001b[0m Animation \u001b[32m3\u001b[0m : Partial movie file written in \u001b[32m'/home/siva/llm_proj/EduVision/notebooks/media/videos/temp_manim_\u001b[0m\u001b[1;33mscript\u001b[0m\u001b[32m/720p30/partial_movie_files/LeverArmScene/543634251_1994611047_2548250255.mp4'\u001b[0m                \u001b]8;id=545750;file:///home/siva/anaconda3/envs/edu/lib/python3.13/site-packages/manim/scene/scene_file_writer.py\u001b\\\u001b[2mscene_file_writer.py\u001b[0m\u001b]8;;\u001b\\\u001b[2m:\u001b[0m\u001b]8;id=829263;file:///home/siva/anaconda3/envs/edu/lib/python3.13/site-packages/manim/scene/scene_file_writer.py#588\u001b\\\u001b[2m588\u001b[0m\u001b]8;;\u001b\\\n",
      "\u001b[2;36m[03/18/25 23:31:24]\u001b[0m\u001b[2;36m \u001b[0m\u001b[32mINFO    \u001b[0m Animation \u001b[32m4\u001b[0m : Partial movie file written in \u001b[32m'/home/siva/llm_proj/EduVision/notebooks/media/videos/temp_manim_\u001b[0m\u001b[1;33mscript\u001b[0m\u001b[32m/720p30/partial_movie_files/LeverArmScene/543634251_2408024828_28242999.mp4'\u001b[0m                  \u001b]8;id=298189;file:///home/siva/anaconda3/envs/edu/lib/python3.13/site-packages/manim/scene/scene_file_writer.py\u001b\\\u001b[2mscene_file_writer.py\u001b[0m\u001b]8;;\u001b\\\u001b[2m:\u001b[0m\u001b]8;id=354716;file:///home/siva/anaconda3/envs/edu/lib/python3.13/site-packages/manim/scene/scene_file_writer.py#588\u001b\\\u001b[2m588\u001b[0m\u001b]8;;\u001b\\\n",
      "\u001b[2;36m                   \u001b[0m\u001b[2;36m \u001b[0m\u001b[32mINFO    \u001b[0m Combining to Movie file.                                                                                                                                                                                         \u001b]8;id=403307;file:///home/siva/anaconda3/envs/edu/lib/python3.13/site-packages/manim/scene/scene_file_writer.py\u001b\\\u001b[2mscene_file_writer.py\u001b[0m\u001b]8;;\u001b\\\u001b[2m:\u001b[0m\u001b]8;id=421607;file:///home/siva/anaconda3/envs/edu/lib/python3.13/site-packages/manim/scene/scene_file_writer.py#739\u001b\\\u001b[2m739\u001b[0m\u001b]8;;\u001b\\\n",
      "\u001b[2;36m                   \u001b[0m\u001b[2;36m \u001b[0m\u001b[32mINFO    \u001b[0m                                                                                                                                                                                                                  \u001b]8;id=634293;file:///home/siva/anaconda3/envs/edu/lib/python3.13/site-packages/manim/scene/scene_file_writer.py\u001b\\\u001b[2mscene_file_writer.py\u001b[0m\u001b]8;;\u001b\\\u001b[2m:\u001b[0m\u001b]8;id=266453;file:///home/siva/anaconda3/envs/edu/lib/python3.13/site-packages/manim/scene/scene_file_writer.py#886\u001b\\\u001b[2m886\u001b[0m\u001b]8;;\u001b\\\n",
      "\u001b[2;36m                    \u001b[0m         \u001b[1;33mFile\u001b[0m ready at \u001b[32m'/home/siva/llm_proj/EduVision/notebooks/media/videos/temp_manim_\u001b[0m\u001b[1;33mscript\u001b[0m\u001b[32m/720p30/step_5.mp4'\u001b[0m                                                                                                         \u001b[2m                        \u001b[0m\n",
      "\u001b[2;36m                    \u001b[0m                                                                                                                                                                                                                          \u001b[2m                        \u001b[0m\n",
      "\u001b[2;36m                   \u001b[0m\u001b[2;36m \u001b[0m\u001b[32mINFO    \u001b[0m \u001b[1;33mRendered\u001b[0m LeverArmScene                                                                                                                                                                                                       \u001b]8;id=625972;file:///home/siva/anaconda3/envs/edu/lib/python3.13/site-packages/manim/scene/scene.py\u001b\\\u001b[2mscene.py\u001b[0m\u001b]8;;\u001b\\\u001b[2m:\u001b[0m\u001b]8;id=61333;file:///home/siva/anaconda3/envs/edu/lib/python3.13/site-packages/manim/scene/scene.py#255\u001b\\\u001b[2m255\u001b[0m\u001b]8;;\u001b\\\n",
      "\u001b[2;36m                    \u001b[0m         \u001b[1;33mPlayed\u001b[0m \u001b[32m5\u001b[0m \u001b[1;33manimations\u001b[0m                                                                                                                                                                                                          \u001b[2m            \u001b[0m\n",
      "✅ Manim animation generated with base name: step_5.mp4\n",
      "✅ Copied video to: outputs/videos/step_5.mp4\n",
      "Generated dialogue: Now, let's illustrate the lever arm by drawing a line from the pivot point to where the force is applied on the door, highlighting the distance that plays a crucial role in the lever's mechanics.\n",
      "Generated TTS audio saved to: outputs/audio/step_5.mp3\n",
      "\n",
      "========== Processing Step 6: {'Step 5': {'Description': 'Show an arrow representing the force (F) applied to the door. Animate the arrow appearing at the edge of the door.'}} ==========\n",
      "\n"
     ]
    },
    {
     "name": "stderr",
     "output_type": "stream",
     "text": [
      "<frozen runpy>:128: RuntimeWarning: 'manim.__main__' found in sys.modules after import of package 'manim', but prior to execution of 'manim.__main__'; this may result in unpredictable behaviour\n",
      "                                                                                                                                                                                                                                                                     \r"
     ]
    },
    {
     "name": "stdout",
     "output_type": "stream",
     "text": [
      "Manim Community \u001b[32mv0.\u001b[0m\u001b[32m19.0\u001b[0m\n",
      "\n",
      "\u001b[2;36m[03/18/25 23:31:32]\u001b[0m\u001b[2;36m \u001b[0m\u001b[32mINFO    \u001b[0m Animation \u001b[32m0\u001b[0m : Partial movie file written in \u001b[32m'/home/siva/llm_proj/EduVision/notebooks/media/videos/temp_manim_\u001b[0m\u001b[1;33mscript\u001b[0m\u001b[32m/720p30/partial_movie_files/DoorForce/2016333726_2736656228_223132457.mp4'\u001b[0m                    \u001b]8;id=942414;file:///home/siva/anaconda3/envs/edu/lib/python3.13/site-packages/manim/scene/scene_file_writer.py\u001b\\\u001b[2mscene_file_writer.py\u001b[0m\u001b]8;;\u001b\\\u001b[2m:\u001b[0m\u001b]8;id=724904;file:///home/siva/anaconda3/envs/edu/lib/python3.13/site-packages/manim/scene/scene_file_writer.py#588\u001b\\\u001b[2m588\u001b[0m\u001b]8;;\u001b\\\n"
     ]
    },
    {
     "name": "stderr",
     "output_type": "stream",
     "text": [
      "                                                                                                                                                                                                                                                                     \r"
     ]
    },
    {
     "name": "stdout",
     "output_type": "stream",
     "text": [
      "\u001b[2;36m[03/18/25 23:31:33]\u001b[0m\u001b[2;36m \u001b[0m\u001b[32mINFO    \u001b[0m Animation \u001b[32m1\u001b[0m : Partial movie file written in \u001b[32m'/home/siva/llm_proj/EduVision/notebooks/media/videos/temp_manim_\u001b[0m\u001b[1;33mscript\u001b[0m\u001b[32m/720p30/partial_movie_files/DoorForce/543634251_3142162177_97432130.mp4'\u001b[0m                      \u001b]8;id=501136;file:///home/siva/anaconda3/envs/edu/lib/python3.13/site-packages/manim/scene/scene_file_writer.py\u001b\\\u001b[2mscene_file_writer.py\u001b[0m\u001b]8;;\u001b\\\u001b[2m:\u001b[0m\u001b]8;id=569091;file:///home/siva/anaconda3/envs/edu/lib/python3.13/site-packages/manim/scene/scene_file_writer.py#588\u001b\\\u001b[2m588\u001b[0m\u001b]8;;\u001b\\\n",
      "\u001b[2;36m                   \u001b[0m\u001b[2;36m \u001b[0m\u001b[32mINFO    \u001b[0m Animation \u001b[32m2\u001b[0m : Partial movie file written in \u001b[32m'/home/siva/llm_proj/EduVision/notebooks/media/videos/temp_manim_\u001b[0m\u001b[1;33mscript\u001b[0m\u001b[32m/720p30/partial_movie_files/DoorForce/543634251_2408024828_3176674318.mp4'\u001b[0m                    \u001b]8;id=577895;file:///home/siva/anaconda3/envs/edu/lib/python3.13/site-packages/manim/scene/scene_file_writer.py\u001b\\\u001b[2mscene_file_writer.py\u001b[0m\u001b]8;;\u001b\\\u001b[2m:\u001b[0m\u001b]8;id=994672;file:///home/siva/anaconda3/envs/edu/lib/python3.13/site-packages/manim/scene/scene_file_writer.py#588\u001b\\\u001b[2m588\u001b[0m\u001b]8;;\u001b\\\n",
      "\u001b[2;36m                   \u001b[0m\u001b[2;36m \u001b[0m\u001b[32mINFO    \u001b[0m Combining to Movie file.                                                                                                                                                                                         \u001b]8;id=190118;file:///home/siva/anaconda3/envs/edu/lib/python3.13/site-packages/manim/scene/scene_file_writer.py\u001b\\\u001b[2mscene_file_writer.py\u001b[0m\u001b]8;;\u001b\\\u001b[2m:\u001b[0m\u001b]8;id=430292;file:///home/siva/anaconda3/envs/edu/lib/python3.13/site-packages/manim/scene/scene_file_writer.py#739\u001b\\\u001b[2m739\u001b[0m\u001b]8;;\u001b\\\n",
      "\u001b[2;36m                   \u001b[0m\u001b[2;36m \u001b[0m\u001b[32mINFO    \u001b[0m                                                                                                                                                                                                                  \u001b]8;id=494729;file:///home/siva/anaconda3/envs/edu/lib/python3.13/site-packages/manim/scene/scene_file_writer.py\u001b\\\u001b[2mscene_file_writer.py\u001b[0m\u001b]8;;\u001b\\\u001b[2m:\u001b[0m\u001b]8;id=139232;file:///home/siva/anaconda3/envs/edu/lib/python3.13/site-packages/manim/scene/scene_file_writer.py#886\u001b\\\u001b[2m886\u001b[0m\u001b]8;;\u001b\\\n",
      "\u001b[2;36m                    \u001b[0m         \u001b[1;33mFile\u001b[0m ready at \u001b[32m'/home/siva/llm_proj/EduVision/notebooks/media/videos/temp_manim_\u001b[0m\u001b[1;33mscript\u001b[0m\u001b[32m/720p30/step_6.mp4'\u001b[0m                                                                                                         \u001b[2m                        \u001b[0m\n",
      "\u001b[2;36m                    \u001b[0m                                                                                                                                                                                                                          \u001b[2m                        \u001b[0m\n",
      "\u001b[2;36m                   \u001b[0m\u001b[2;36m \u001b[0m\u001b[32mINFO    \u001b[0m \u001b[1;33mRendered\u001b[0m DoorForce                                                                                                                                                                                                           \u001b]8;id=98635;file:///home/siva/anaconda3/envs/edu/lib/python3.13/site-packages/manim/scene/scene.py\u001b\\\u001b[2mscene.py\u001b[0m\u001b]8;;\u001b\\\u001b[2m:\u001b[0m\u001b]8;id=170284;file:///home/siva/anaconda3/envs/edu/lib/python3.13/site-packages/manim/scene/scene.py#255\u001b\\\u001b[2m255\u001b[0m\u001b]8;;\u001b\\\n",
      "\u001b[2;36m                    \u001b[0m         \u001b[1;33mPlayed\u001b[0m \u001b[32m3\u001b[0m \u001b[1;33manimations\u001b[0m                                                                                                                                                                                                          \u001b[2m            \u001b[0m\n",
      "✅ Manim animation generated with base name: step_6.mp4\n",
      "✅ Copied video to: outputs/videos/step_6.mp4\n",
      "Generated dialogue: \"Now, let's visualize the force applied to the door by introducing an arrow at its edge, illustrating the direction and magnitude of the push.\"\n",
      "Generated TTS audio saved to: outputs/audio/step_6.mp3\n",
      "\n",
      "========== Processing Step 7: {'Step 6': {'Description': 'Demonstrate how changing the lever arm affects torque. Animate the lever arm lengthening and shortening while showing the corresponding torque values.'}} ==========\n",
      "\n"
     ]
    },
    {
     "name": "stderr",
     "output_type": "stream",
     "text": [
      "<frozen runpy>:128: RuntimeWarning: 'manim.__main__' found in sys.modules after import of package 'manim', but prior to execution of 'manim.__main__'; this may result in unpredictable behaviour\n"
     ]
    },
    {
     "name": "stdout",
     "output_type": "stream",
     "text": [
      "Manim Community \u001b[32mv0.\u001b[0m\u001b[32m19.0\u001b[0m\n",
      "\n",
      "\u001b[2;36m[03/18/25 23:31:43]\u001b[0m\u001b[2;36m \u001b[0m\u001b[32mINFO    \u001b[0m \u001b[1;33mWriting\u001b[0m r to media/Tex/00ee79a79246dd15.tex                                                                                                                                                                       \u001b]8;id=398708;file:///home/siva/anaconda3/envs/edu/lib/python3.13/site-packages/manim/utils/tex_file_writing.py\u001b\\\u001b[2mtex_file_writing.py\u001b[0m\u001b]8;;\u001b\\\u001b[2m:\u001b[0m\u001b]8;id=599138;file:///home/siva/anaconda3/envs/edu/lib/python3.13/site-packages/manim/utils/tex_file_writing.py#111\u001b\\\u001b[2m111\u001b[0m\u001b]8;;\u001b\\\n",
      "\u001b[2;36m[03/18/25 23:31:44]\u001b[0m\u001b[2;36m \u001b[0m\u001b[32mINFO    \u001b[0m \u001b[1;33mWriting\u001b[0m F to media/Tex/a9ffb83c3806581d.tex                                                                                                                                                                       \u001b]8;id=703587;file:///home/siva/anaconda3/envs/edu/lib/python3.13/site-packages/manim/utils/tex_file_writing.py\u001b\\\u001b[2mtex_file_writing.py\u001b[0m\u001b]8;;\u001b\\\u001b[2m:\u001b[0m\u001b]8;id=970381;file:///home/siva/anaconda3/envs/edu/lib/python3.13/site-packages/manim/utils/tex_file_writing.py#111\u001b\\\u001b[2m111\u001b[0m\u001b]8;;\u001b\\\n",
      "\u001b[2;36m                   \u001b[0m\u001b[2;36m \u001b[0m\u001b[32mINFO    \u001b[0m \u001b[1;33mWriting\u001b[0m \\tau = F \\cdot r to media/Tex/d14d1ca250876141.tex                                                                                                                                                        \u001b]8;id=559225;file:///home/siva/anaconda3/envs/edu/lib/python3.13/site-packages/manim/utils/tex_file_writing.py\u001b\\\u001b[2mtex_file_writing.py\u001b[0m\u001b]8;;\u001b\\\u001b[2m:\u001b[0m\u001b]8;id=541700;file:///home/siva/anaconda3/envs/edu/lib/python3.13/site-packages/manim/utils/tex_file_writing.py#111\u001b\\\u001b[2m111\u001b[0m\u001b]8;;\u001b\\\n",
      "\u001b[2;36m                   \u001b[0m\u001b[2;36m \u001b[0m\u001b[32mINFO    \u001b[0m \u001b[1;33mWriting\u001b[0m \\tau = \u001b[32m0\u001b[0m to media/Tex/f89a218e66e86239.tex                                                                                                                                                                \u001b]8;id=725882;file:///home/siva/anaconda3/envs/edu/lib/python3.13/site-packages/manim/utils/tex_file_writing.py\u001b\\\u001b[2mtex_file_writing.py\u001b[0m\u001b]8;;\u001b\\\u001b[2m:\u001b[0m\u001b]8;id=210561;file:///home/siva/anaconda3/envs/edu/lib/python3.13/site-packages/manim/utils/tex_file_writing.py#111\u001b\\\u001b[2m111\u001b[0m\u001b]8;;\u001b\\\n"
     ]
    },
    {
     "name": "stderr",
     "output_type": "stream",
     "text": [
      "                                                                                                                                                                                                                                                                     \r"
     ]
    },
    {
     "name": "stdout",
     "output_type": "stream",
     "text": [
      "\u001b[2;36m[03/18/25 23:31:45]\u001b[0m\u001b[2;36m \u001b[0m\u001b[32mINFO    \u001b[0m Animation \u001b[32m0\u001b[0m : Partial movie file written in \u001b[32m'/home/siva/llm_proj/EduVision/notebooks/media/videos/temp_manim_\u001b[0m\u001b[1;33mscript\u001b[0m\u001b[32m/720p30/partial_movie_files/TorqueScene/2016333726_1013736014_223132457.mp4'\u001b[0m                  \u001b]8;id=691734;file:///home/siva/anaconda3/envs/edu/lib/python3.13/site-packages/manim/scene/scene_file_writer.py\u001b\\\u001b[2mscene_file_writer.py\u001b[0m\u001b]8;;\u001b\\\u001b[2m:\u001b[0m\u001b]8;id=762776;file:///home/siva/anaconda3/envs/edu/lib/python3.13/site-packages/manim/scene/scene_file_writer.py#588\u001b\\\u001b[2m588\u001b[0m\u001b]8;;\u001b\\\n",
      "\u001b[2;36m                   \u001b[0m\u001b[2;36m \u001b[0m\u001b[32mINFO    \u001b[0m Animation \u001b[32m1\u001b[0m : Partial movie file written in \u001b[32m'/home/siva/llm_proj/EduVision/notebooks/media/videos/temp_manim_\u001b[0m\u001b[1;33mscript\u001b[0m\u001b[32m/720p30/partial_movie_files/TorqueScene/543634251_1839128356_3909407425.mp4'\u001b[0m                  \u001b]8;id=355026;file:///home/siva/anaconda3/envs/edu/lib/python3.13/site-packages/manim/scene/scene_file_writer.py\u001b\\\u001b[2mscene_file_writer.py\u001b[0m\u001b]8;;\u001b\\\u001b[2m:\u001b[0m\u001b]8;id=742177;file:///home/siva/anaconda3/envs/edu/lib/python3.13/site-packages/manim/scene/scene_file_writer.py#588\u001b\\\u001b[2m588\u001b[0m\u001b]8;;\u001b\\\n"
     ]
    },
    {
     "name": "stderr",
     "output_type": "stream",
     "text": [
      "                                                                                                                                                                                                                                                                     \r"
     ]
    },
    {
     "name": "stdout",
     "output_type": "stream",
     "text": [
      "\u001b[2;36m[03/18/25 23:31:46]\u001b[0m\u001b[2;36m \u001b[0m\u001b[32mINFO    \u001b[0m Animation \u001b[32m2\u001b[0m : Partial movie file written in \u001b[32m'/home/siva/llm_proj/EduVision/notebooks/media/videos/temp_manim_\u001b[0m\u001b[1;33mscript\u001b[0m\u001b[32m/720p30/partial_movie_files/TorqueScene/543634251_974290315_2798580211.mp4'\u001b[0m                   \u001b]8;id=961710;file:///home/siva/anaconda3/envs/edu/lib/python3.13/site-packages/manim/scene/scene_file_writer.py\u001b\\\u001b[2mscene_file_writer.py\u001b[0m\u001b]8;;\u001b\\\u001b[2m:\u001b[0m\u001b]8;id=215244;file:///home/siva/anaconda3/envs/edu/lib/python3.13/site-packages/manim/scene/scene_file_writer.py#588\u001b\\\u001b[2m588\u001b[0m\u001b]8;;\u001b\\\n",
      "\u001b[2;36m                   \u001b[0m\u001b[2;36m \u001b[0m\u001b[32mINFO    \u001b[0m \u001b[1;33mWriting\u001b[0m \\tau = \u001b[32m4\u001b[0m to media/Tex/a3d76a706207d7aa.tex                                                                                                                                                                \u001b]8;id=531692;file:///home/siva/anaconda3/envs/edu/lib/python3.13/site-packages/manim/utils/tex_file_writing.py\u001b\\\u001b[2mtex_file_writing.py\u001b[0m\u001b]8;;\u001b\\\u001b[2m:\u001b[0m\u001b]8;id=723534;file:///home/siva/anaconda3/envs/edu/lib/python3.13/site-packages/manim/utils/tex_file_writing.py#111\u001b\\\u001b[2m111\u001b[0m\u001b]8;;\u001b\\\n"
     ]
    },
    {
     "name": "stderr",
     "output_type": "stream",
     "text": [
      "/home/siva/llm_proj/EduVision/notebooks/outputs/temp/temp_manim_script.py:24: DeprecationWarning: This method is not guaranteed to stay around. Please prefer setting the attribute normally or with Mobject.set().\n",
      "  torque_display.set_value(2 * length)  # Assuming F = 2 for simplicity\n",
      "                                                                                                                                                                                                                                                                     \r"
     ]
    },
    {
     "name": "stdout",
     "output_type": "stream",
     "text": [
      "\u001b[2;36m                   \u001b[0m\u001b[2;36m \u001b[0m\u001b[32mINFO    \u001b[0m Animation \u001b[32m3\u001b[0m : Partial movie file written in \u001b[32m'/home/siva/llm_proj/EduVision/notebooks/media/videos/temp_manim_\u001b[0m\u001b[1;33mscript\u001b[0m\u001b[32m/720p30/partial_movie_files/TorqueScene/543634251_1185648717_3060996635.mp4'\u001b[0m                  \u001b]8;id=76655;file:///home/siva/anaconda3/envs/edu/lib/python3.13/site-packages/manim/scene/scene_file_writer.py\u001b\\\u001b[2mscene_file_writer.py\u001b[0m\u001b]8;;\u001b\\\u001b[2m:\u001b[0m\u001b]8;id=477635;file:///home/siva/anaconda3/envs/edu/lib/python3.13/site-packages/manim/scene/scene_file_writer.py#588\u001b\\\u001b[2m588\u001b[0m\u001b]8;;\u001b\\\n",
      "\u001b[2;36m[03/18/25 23:31:47]\u001b[0m\u001b[2;36m \u001b[0m\u001b[32mINFO    \u001b[0m Animation \u001b[32m4\u001b[0m : Partial movie file written in \u001b[32m'/home/siva/llm_proj/EduVision/notebooks/media/videos/temp_manim_\u001b[0m\u001b[1;33mscript\u001b[0m\u001b[32m/720p30/partial_movie_files/TorqueScene/543634251_1839128356_1818090593.mp4'\u001b[0m                  \u001b]8;id=791092;file:///home/siva/anaconda3/envs/edu/lib/python3.13/site-packages/manim/scene/scene_file_writer.py\u001b\\\u001b[2mscene_file_writer.py\u001b[0m\u001b]8;;\u001b\\\u001b[2m:\u001b[0m\u001b]8;id=900161;file:///home/siva/anaconda3/envs/edu/lib/python3.13/site-packages/manim/scene/scene_file_writer.py#588\u001b\\\u001b[2m588\u001b[0m\u001b]8;;\u001b\\\n"
     ]
    },
    {
     "name": "stderr",
     "output_type": "stream",
     "text": [
      "                                                                                                                                                                                                                                                                     \r"
     ]
    },
    {
     "name": "stdout",
     "output_type": "stream",
     "text": [
      "\u001b[2;36m                   \u001b[0m\u001b[2;36m \u001b[0m\u001b[32mINFO    \u001b[0m Animation \u001b[32m5\u001b[0m : Partial movie file written in \u001b[32m'/home/siva/llm_proj/EduVision/notebooks/media/videos/temp_manim_\u001b[0m\u001b[1;33mscript\u001b[0m\u001b[32m/720p30/partial_movie_files/TorqueScene/543634251_4127989578_1093769328.mp4'\u001b[0m                  \u001b]8;id=398763;file:///home/siva/anaconda3/envs/edu/lib/python3.13/site-packages/manim/scene/scene_file_writer.py\u001b\\\u001b[2mscene_file_writer.py\u001b[0m\u001b]8;;\u001b\\\u001b[2m:\u001b[0m\u001b]8;id=138215;file:///home/siva/anaconda3/envs/edu/lib/python3.13/site-packages/manim/scene/scene_file_writer.py#588\u001b\\\u001b[2m588\u001b[0m\u001b]8;;\u001b\\\n",
      "\u001b[2;36m                   \u001b[0m\u001b[2;36m \u001b[0m\u001b[32mINFO    \u001b[0m \u001b[1;33mWriting\u001b[0m \\tau = \u001b[32m6\u001b[0m to media/Tex/6a48c81ab7f7a903.tex                                                                                                                                                                \u001b]8;id=294780;file:///home/siva/anaconda3/envs/edu/lib/python3.13/site-packages/manim/utils/tex_file_writing.py\u001b\\\u001b[2mtex_file_writing.py\u001b[0m\u001b]8;;\u001b\\\u001b[2m:\u001b[0m\u001b]8;id=983584;file:///home/siva/anaconda3/envs/edu/lib/python3.13/site-packages/manim/utils/tex_file_writing.py#111\u001b\\\u001b[2m111\u001b[0m\u001b]8;;\u001b\\\n"
     ]
    },
    {
     "name": "stderr",
     "output_type": "stream",
     "text": [
      "/home/siva/llm_proj/EduVision/notebooks/outputs/temp/temp_manim_script.py:24: DeprecationWarning: This method is not guaranteed to stay around. Please prefer setting the attribute normally or with Mobject.set().\n",
      "  torque_display.set_value(2 * length)  # Assuming F = 2 for simplicity\n",
      "                                                                                                                                                                                                                                                                     \r"
     ]
    },
    {
     "name": "stdout",
     "output_type": "stream",
     "text": [
      "\u001b[2;36m                   \u001b[0m\u001b[2;36m \u001b[0m\u001b[32mINFO    \u001b[0m Animation \u001b[32m6\u001b[0m : Partial movie file written in \u001b[32m'/home/siva/llm_proj/EduVision/notebooks/media/videos/temp_manim_\u001b[0m\u001b[1;33mscript\u001b[0m\u001b[32m/720p30/partial_movie_files/TorqueScene/543634251_2748035368_2016856773.mp4'\u001b[0m                  \u001b]8;id=356674;file:///home/siva/anaconda3/envs/edu/lib/python3.13/site-packages/manim/scene/scene_file_writer.py\u001b\\\u001b[2mscene_file_writer.py\u001b[0m\u001b]8;;\u001b\\\u001b[2m:\u001b[0m\u001b]8;id=605206;file:///home/siva/anaconda3/envs/edu/lib/python3.13/site-packages/manim/scene/scene_file_writer.py#588\u001b\\\u001b[2m588\u001b[0m\u001b]8;;\u001b\\\n",
      "\u001b[2;36m[03/18/25 23:31:48]\u001b[0m\u001b[2;36m \u001b[0m\u001b[32mINFO    \u001b[0m Animation \u001b[32m7\u001b[0m : Partial movie file written in \u001b[32m'/home/siva/llm_proj/EduVision/notebooks/media/videos/temp_manim_\u001b[0m\u001b[1;33mscript\u001b[0m\u001b[32m/720p30/partial_movie_files/TorqueScene/543634251_1839128356_781905132.mp4'\u001b[0m                   \u001b]8;id=17615;file:///home/siva/anaconda3/envs/edu/lib/python3.13/site-packages/manim/scene/scene_file_writer.py\u001b\\\u001b[2mscene_file_writer.py\u001b[0m\u001b]8;;\u001b\\\u001b[2m:\u001b[0m\u001b]8;id=888307;file:///home/siva/anaconda3/envs/edu/lib/python3.13/site-packages/manim/scene/scene_file_writer.py#588\u001b\\\u001b[2m588\u001b[0m\u001b]8;;\u001b\\\n"
     ]
    },
    {
     "name": "stderr",
     "output_type": "stream",
     "text": [
      "                                                                                                                                                                                                                                                                     \r"
     ]
    },
    {
     "name": "stdout",
     "output_type": "stream",
     "text": [
      "\u001b[2;36m                   \u001b[0m\u001b[2;36m \u001b[0m\u001b[32mINFO    \u001b[0m Animation \u001b[32m8\u001b[0m : Partial movie file written in \u001b[32m'/home/siva/llm_proj/EduVision/notebooks/media/videos/temp_manim_\u001b[0m\u001b[1;33mscript\u001b[0m\u001b[32m/720p30/partial_movie_files/TorqueScene/543634251_1900201731_1583630603.mp4'\u001b[0m                  \u001b]8;id=704242;file:///home/siva/anaconda3/envs/edu/lib/python3.13/site-packages/manim/scene/scene_file_writer.py\u001b\\\u001b[2mscene_file_writer.py\u001b[0m\u001b]8;;\u001b\\\u001b[2m:\u001b[0m\u001b]8;id=234873;file:///home/siva/anaconda3/envs/edu/lib/python3.13/site-packages/manim/scene/scene_file_writer.py#588\u001b\\\u001b[2m588\u001b[0m\u001b]8;;\u001b\\\n",
      "\u001b[2;36m                   \u001b[0m\u001b[2;36m \u001b[0m\u001b[32mINFO    \u001b[0m \u001b[1;33mWriting\u001b[0m \\tau = \u001b[32m8\u001b[0m to media/Tex/785631aa393ceb90.tex                                                                                                                                                                \u001b]8;id=218457;file:///home/siva/anaconda3/envs/edu/lib/python3.13/site-packages/manim/utils/tex_file_writing.py\u001b\\\u001b[2mtex_file_writing.py\u001b[0m\u001b]8;;\u001b\\\u001b[2m:\u001b[0m\u001b]8;id=106587;file:///home/siva/anaconda3/envs/edu/lib/python3.13/site-packages/manim/utils/tex_file_writing.py#111\u001b\\\u001b[2m111\u001b[0m\u001b]8;;\u001b\\\n"
     ]
    },
    {
     "name": "stderr",
     "output_type": "stream",
     "text": [
      "/home/siva/llm_proj/EduVision/notebooks/outputs/temp/temp_manim_script.py:24: DeprecationWarning: This method is not guaranteed to stay around. Please prefer setting the attribute normally or with Mobject.set().\n",
      "  torque_display.set_value(2 * length)  # Assuming F = 2 for simplicity\n",
      "                                                                                                                                                                                                                                                                     \r"
     ]
    },
    {
     "name": "stdout",
     "output_type": "stream",
     "text": [
      "\u001b[2;36m[03/18/25 23:31:49]\u001b[0m\u001b[2;36m \u001b[0m\u001b[32mINFO    \u001b[0m Animation \u001b[32m9\u001b[0m : Partial movie file written in \u001b[32m'/home/siva/llm_proj/EduVision/notebooks/media/videos/temp_manim_\u001b[0m\u001b[1;33mscript\u001b[0m\u001b[32m/720p30/partial_movie_files/TorqueScene/543634251_1064510918_814341696.mp4'\u001b[0m                   \u001b]8;id=709044;file:///home/siva/anaconda3/envs/edu/lib/python3.13/site-packages/manim/scene/scene_file_writer.py\u001b\\\u001b[2mscene_file_writer.py\u001b[0m\u001b]8;;\u001b\\\u001b[2m:\u001b[0m\u001b]8;id=744078;file:///home/siva/anaconda3/envs/edu/lib/python3.13/site-packages/manim/scene/scene_file_writer.py#588\u001b\\\u001b[2m588\u001b[0m\u001b]8;;\u001b\\\n",
      "\u001b[2;36m                   \u001b[0m\u001b[2;36m \u001b[0m\u001b[32mINFO    \u001b[0m Animation \u001b[32m10\u001b[0m : Partial movie file written in \u001b[32m'/home/siva/llm_proj/EduVision/notebooks/media/videos/temp_manim_\u001b[0m\u001b[1;33mscript\u001b[0m\u001b[32m/720p30/partial_movie_files/TorqueScene/543634251_1839128356_3953698263.mp4'\u001b[0m                 \u001b]8;id=768844;file:///home/siva/anaconda3/envs/edu/lib/python3.13/site-packages/manim/scene/scene_file_writer.py\u001b\\\u001b[2mscene_file_writer.py\u001b[0m\u001b]8;;\u001b\\\u001b[2m:\u001b[0m\u001b]8;id=323996;file:///home/siva/anaconda3/envs/edu/lib/python3.13/site-packages/manim/scene/scene_file_writer.py#588\u001b\\\u001b[2m588\u001b[0m\u001b]8;;\u001b\\\n"
     ]
    },
    {
     "name": "stderr",
     "output_type": "stream",
     "text": [
      "                                                                                                                                                                                                                                                                     \r"
     ]
    },
    {
     "name": "stdout",
     "output_type": "stream",
     "text": [
      "\u001b[2;36m                   \u001b[0m\u001b[2;36m \u001b[0m\u001b[32mINFO    \u001b[0m Animation \u001b[32m11\u001b[0m : Partial movie file written in \u001b[32m'/home/siva/llm_proj/EduVision/notebooks/media/videos/temp_manim_\u001b[0m\u001b[1;33mscript\u001b[0m\u001b[32m/720p30/partial_movie_files/TorqueScene/543634251_502155422_665539932.mp4'\u001b[0m                   \u001b]8;id=757814;file:///home/siva/anaconda3/envs/edu/lib/python3.13/site-packages/manim/scene/scene_file_writer.py\u001b\\\u001b[2mscene_file_writer.py\u001b[0m\u001b]8;;\u001b\\\u001b[2m:\u001b[0m\u001b]8;id=925057;file:///home/siva/anaconda3/envs/edu/lib/python3.13/site-packages/manim/scene/scene_file_writer.py#588\u001b\\\u001b[2m588\u001b[0m\u001b]8;;\u001b\\\n"
     ]
    },
    {
     "name": "stderr",
     "output_type": "stream",
     "text": [
      "/home/siva/llm_proj/EduVision/notebooks/outputs/temp/temp_manim_script.py:31: DeprecationWarning: This method is not guaranteed to stay around. Please prefer setting the attribute normally or with Mobject.set().\n",
      "  torque_display.set_value(2 * length)\n",
      "                                                                                                                                                                                                                                                                     \r"
     ]
    },
    {
     "name": "stdout",
     "output_type": "stream",
     "text": [
      "\u001b[2;36m[03/18/25 23:31:50]\u001b[0m\u001b[2;36m \u001b[0m\u001b[32mINFO    \u001b[0m Animation \u001b[32m12\u001b[0m : Partial movie file written in \u001b[32m'/home/siva/llm_proj/EduVision/notebooks/media/videos/temp_manim_\u001b[0m\u001b[1;33mscript\u001b[0m\u001b[32m/720p30/partial_movie_files/TorqueScene/543634251_1689520074_3016223404.mp4'\u001b[0m                 \u001b]8;id=182575;file:///home/siva/anaconda3/envs/edu/lib/python3.13/site-packages/manim/scene/scene_file_writer.py\u001b\\\u001b[2mscene_file_writer.py\u001b[0m\u001b]8;;\u001b\\\u001b[2m:\u001b[0m\u001b]8;id=654771;file:///home/siva/anaconda3/envs/edu/lib/python3.13/site-packages/manim/scene/scene_file_writer.py#588\u001b\\\u001b[2m588\u001b[0m\u001b]8;;\u001b\\\n",
      "\u001b[2;36m                   \u001b[0m\u001b[2;36m \u001b[0m\u001b[32mINFO    \u001b[0m Animation \u001b[32m13\u001b[0m : Partial movie file written in \u001b[32m'/home/siva/llm_proj/EduVision/notebooks/media/videos/temp_manim_\u001b[0m\u001b[1;33mscript\u001b[0m\u001b[32m/720p30/partial_movie_files/TorqueScene/543634251_1839128356_4146411725.mp4'\u001b[0m                 \u001b]8;id=841829;file:///home/siva/anaconda3/envs/edu/lib/python3.13/site-packages/manim/scene/scene_file_writer.py\u001b\\\u001b[2mscene_file_writer.py\u001b[0m\u001b]8;;\u001b\\\u001b[2m:\u001b[0m\u001b]8;id=185416;file:///home/siva/anaconda3/envs/edu/lib/python3.13/site-packages/manim/scene/scene_file_writer.py#588\u001b\\\u001b[2m588\u001b[0m\u001b]8;;\u001b\\\n"
     ]
    },
    {
     "name": "stderr",
     "output_type": "stream",
     "text": [
      "                                                                                                                                                                                                                                                                     \r"
     ]
    },
    {
     "name": "stdout",
     "output_type": "stream",
     "text": [
      "\u001b[2;36m                   \u001b[0m\u001b[2;36m \u001b[0m\u001b[32mINFO    \u001b[0m Animation \u001b[32m14\u001b[0m : Partial movie file written in \u001b[32m'/home/siva/llm_proj/EduVision/notebooks/media/videos/temp_manim_\u001b[0m\u001b[1;33mscript\u001b[0m\u001b[32m/720p30/partial_movie_files/TorqueScene/543634251_4120930816_1325010803.mp4'\u001b[0m                 \u001b]8;id=299029;file:///home/siva/anaconda3/envs/edu/lib/python3.13/site-packages/manim/scene/scene_file_writer.py\u001b\\\u001b[2mscene_file_writer.py\u001b[0m\u001b]8;;\u001b\\\u001b[2m:\u001b[0m\u001b]8;id=283195;file:///home/siva/anaconda3/envs/edu/lib/python3.13/site-packages/manim/scene/scene_file_writer.py#588\u001b\\\u001b[2m588\u001b[0m\u001b]8;;\u001b\\\n"
     ]
    },
    {
     "name": "stderr",
     "output_type": "stream",
     "text": [
      "                                                                                                                                                                                                                                                                     \r"
     ]
    },
    {
     "name": "stdout",
     "output_type": "stream",
     "text": [
      "\u001b[2;36m[03/18/25 23:31:51]\u001b[0m\u001b[2;36m \u001b[0m\u001b[32mINFO    \u001b[0m Animation \u001b[32m15\u001b[0m : Partial movie file written in \u001b[32m'/home/siva/llm_proj/EduVision/notebooks/media/videos/temp_manim_\u001b[0m\u001b[1;33mscript\u001b[0m\u001b[32m/720p30/partial_movie_files/TorqueScene/543634251_4214577592_3052474100.mp4'\u001b[0m                 \u001b]8;id=18502;file:///home/siva/anaconda3/envs/edu/lib/python3.13/site-packages/manim/scene/scene_file_writer.py\u001b\\\u001b[2mscene_file_writer.py\u001b[0m\u001b]8;;\u001b\\\u001b[2m:\u001b[0m\u001b]8;id=666486;file:///home/siva/anaconda3/envs/edu/lib/python3.13/site-packages/manim/scene/scene_file_writer.py#588\u001b\\\u001b[2m588\u001b[0m\u001b]8;;\u001b\\\n",
      "\u001b[2;36m                   \u001b[0m\u001b[2;36m \u001b[0m\u001b[32mINFO    \u001b[0m Animation \u001b[32m16\u001b[0m : Partial movie file written in \u001b[32m'/home/siva/llm_proj/EduVision/notebooks/media/videos/temp_manim_\u001b[0m\u001b[1;33mscript\u001b[0m\u001b[32m/720p30/partial_movie_files/TorqueScene/543634251_1839128356_194463940.mp4'\u001b[0m                  \u001b]8;id=497177;file:///home/siva/anaconda3/envs/edu/lib/python3.13/site-packages/manim/scene/scene_file_writer.py\u001b\\\u001b[2mscene_file_writer.py\u001b[0m\u001b]8;;\u001b\\\u001b[2m:\u001b[0m\u001b]8;id=477716;file:///home/siva/anaconda3/envs/edu/lib/python3.13/site-packages/manim/scene/scene_file_writer.py#588\u001b\\\u001b[2m588\u001b[0m\u001b]8;;\u001b\\\n"
     ]
    },
    {
     "name": "stderr",
     "output_type": "stream",
     "text": [
      "                                                                                                                                                                                                                                                                     \r"
     ]
    },
    {
     "name": "stdout",
     "output_type": "stream",
     "text": [
      "\u001b[2;36m                   \u001b[0m\u001b[2;36m \u001b[0m\u001b[32mINFO    \u001b[0m Animation \u001b[32m17\u001b[0m : Partial movie file written in \u001b[32m'/home/siva/llm_proj/EduVision/notebooks/media/videos/temp_manim_\u001b[0m\u001b[1;33mscript\u001b[0m\u001b[32m/720p30/partial_movie_files/TorqueScene/543634251_562287019_2539377379.mp4'\u001b[0m                  \u001b]8;id=829485;file:///home/siva/anaconda3/envs/edu/lib/python3.13/site-packages/manim/scene/scene_file_writer.py\u001b\\\u001b[2mscene_file_writer.py\u001b[0m\u001b]8;;\u001b\\\u001b[2m:\u001b[0m\u001b]8;id=236953;file:///home/siva/anaconda3/envs/edu/lib/python3.13/site-packages/manim/scene/scene_file_writer.py#588\u001b\\\u001b[2m588\u001b[0m\u001b]8;;\u001b\\\n",
      "\u001b[2;36m                   \u001b[0m\u001b[2;36m \u001b[0m\u001b[32mINFO    \u001b[0m Combining to Movie file.                                                                                                                                                                                         \u001b]8;id=731188;file:///home/siva/anaconda3/envs/edu/lib/python3.13/site-packages/manim/scene/scene_file_writer.py\u001b\\\u001b[2mscene_file_writer.py\u001b[0m\u001b]8;;\u001b\\\u001b[2m:\u001b[0m\u001b]8;id=911744;file:///home/siva/anaconda3/envs/edu/lib/python3.13/site-packages/manim/scene/scene_file_writer.py#739\u001b\\\u001b[2m739\u001b[0m\u001b]8;;\u001b\\\n",
      "\u001b[2;36m                   \u001b[0m\u001b[2;36m \u001b[0m\u001b[32mINFO    \u001b[0m                                                                                                                                                                                                                  \u001b]8;id=577314;file:///home/siva/anaconda3/envs/edu/lib/python3.13/site-packages/manim/scene/scene_file_writer.py\u001b\\\u001b[2mscene_file_writer.py\u001b[0m\u001b]8;;\u001b\\\u001b[2m:\u001b[0m\u001b]8;id=754727;file:///home/siva/anaconda3/envs/edu/lib/python3.13/site-packages/manim/scene/scene_file_writer.py#886\u001b\\\u001b[2m886\u001b[0m\u001b]8;;\u001b\\\n",
      "\u001b[2;36m                    \u001b[0m         \u001b[1;33mFile\u001b[0m ready at \u001b[32m'/home/siva/llm_proj/EduVision/notebooks/media/videos/temp_manim_\u001b[0m\u001b[1;33mscript\u001b[0m\u001b[32m/720p30/step_7.mp4'\u001b[0m                                                                                                         \u001b[2m                        \u001b[0m\n",
      "\u001b[2;36m                    \u001b[0m                                                                                                                                                                                                                          \u001b[2m                        \u001b[0m\n",
      "\u001b[2;36m                   \u001b[0m\u001b[2;36m \u001b[0m\u001b[32mINFO    \u001b[0m \u001b[1;33mRendered\u001b[0m TorqueScene                                                                                                                                                                                                         \u001b]8;id=355664;file:///home/siva/anaconda3/envs/edu/lib/python3.13/site-packages/manim/scene/scene.py\u001b\\\u001b[2mscene.py\u001b[0m\u001b]8;;\u001b\\\u001b[2m:\u001b[0m\u001b]8;id=523078;file:///home/siva/anaconda3/envs/edu/lib/python3.13/site-packages/manim/scene/scene.py#255\u001b\\\u001b[2m255\u001b[0m\u001b]8;;\u001b\\\n",
      "\u001b[2;36m                    \u001b[0m         \u001b[1;33mPlayed\u001b[0m \u001b[32m18\u001b[0m \u001b[1;33manimations\u001b[0m                                                                                                                                                                                                         \u001b[2m            \u001b[0m\n",
      "✅ Manim animation generated with base name: step_7.mp4\n",
      "✅ Copied video to: outputs/videos/step_7.mp4\n",
      "Generated dialogue: As we adjust the lever arm's length, observe how the torque changes in response; a longer lever arm increases torque, while a shorter one decreases it, illustrating the powerful relationship between distance and rotational force.\n",
      "Generated TTS audio saved to: outputs/audio/step_7.mp3\n",
      "\n",
      "========== Processing Step 8: {'Step 7': {'Description': 'Explain the relationship between force, lever arm, and torque with a visual graph. Animate the graph showing how torque increases with longer lever arms.'}} ==========\n",
      "\n"
     ]
    },
    {
     "name": "stderr",
     "output_type": "stream",
     "text": [
      "<frozen runpy>:128: RuntimeWarning: 'manim.__main__' found in sys.modules after import of package 'manim', but prior to execution of 'manim.__main__'; this may result in unpredictable behaviour\n"
     ]
    },
    {
     "name": "stdout",
     "output_type": "stream",
     "text": [
      "Manim Community \u001b[32mv0.\u001b[0m\u001b[32m19.0\u001b[0m\n",
      "\n",
      "\u001b[2;36m[03/18/25 23:32:03]\u001b[0m\u001b[2;36m \u001b[0m\u001b[32mINFO    \u001b[0m \u001b[1;33mWriting\u001b[0m Lever Arm \u001b[1m(\u001b[0mr\u001b[1m)\u001b[0m to media/Tex/8f142c5dffe0e157.tex                                                                                                                                                           \u001b]8;id=199648;file:///home/siva/anaconda3/envs/edu/lib/python3.13/site-packages/manim/utils/tex_file_writing.py\u001b\\\u001b[2mtex_file_writing.py\u001b[0m\u001b]8;;\u001b\\\u001b[2m:\u001b[0m\u001b]8;id=184648;file:///home/siva/anaconda3/envs/edu/lib/python3.13/site-packages/manim/utils/tex_file_writing.py#111\u001b\\\u001b[2m111\u001b[0m\u001b]8;;\u001b\\\n",
      "\u001b[2;36m[03/18/25 23:32:04]\u001b[0m\u001b[2;36m \u001b[0m\u001b[32mINFO    \u001b[0m \u001b[1;33mWriting\u001b[0m Torque \u001b[1m(\u001b[0m\\tau\u001b[1m)\u001b[0m to media/Tex/fb90a3ccaafa5e3b.tex                                                                                                                                                           \u001b]8;id=773051;file:///home/siva/anaconda3/envs/edu/lib/python3.13/site-packages/manim/utils/tex_file_writing.py\u001b\\\u001b[2mtex_file_writing.py\u001b[0m\u001b]8;;\u001b\\\u001b[2m:\u001b[0m\u001b]8;id=397762;file:///home/siva/anaconda3/envs/edu/lib/python3.13/site-packages/manim/utils/tex_file_writing.py#111\u001b\\\u001b[2m111\u001b[0m\u001b]8;;\u001b\\\n",
      "\u001b[2;36m                   \u001b[0m\u001b[2;36m \u001b[0m\u001b[32mINFO    \u001b[0m \u001b[1;33mWriting\u001b[0m \\tau = \u001b[32m2\u001b[0m \\cdot r to media/Tex/9bd1777d249e3dca.tex                                                                                                                                                        \u001b]8;id=77140;file:///home/siva/anaconda3/envs/edu/lib/python3.13/site-packages/manim/utils/tex_file_writing.py\u001b\\\u001b[2mtex_file_writing.py\u001b[0m\u001b]8;;\u001b\\\u001b[2m:\u001b[0m\u001b]8;id=920066;file:///home/siva/anaconda3/envs/edu/lib/python3.13/site-packages/manim/utils/tex_file_writing.py#111\u001b\\\u001b[2m111\u001b[0m\u001b]8;;\u001b\\\n"
     ]
    },
    {
     "name": "stderr",
     "output_type": "stream",
     "text": [
      "                                                                                                                                                                                                                                                                     \r"
     ]
    },
    {
     "name": "stdout",
     "output_type": "stream",
     "text": [
      "\u001b[2;36m[03/18/25 23:32:05]\u001b[0m\u001b[2;36m \u001b[0m\u001b[32mINFO    \u001b[0m Animation \u001b[32m0\u001b[0m : Partial movie file written in \u001b[32m'/home/siva/llm_proj/EduVision/notebooks/media/videos/temp_manim_\u001b[0m\u001b[1;33mscript\u001b[0m\u001b[32m/720p30/partial_movie_files/TorqueGraph/2016333726_4199323725_223132457.mp4'\u001b[0m                  \u001b]8;id=227579;file:///home/siva/anaconda3/envs/edu/lib/python3.13/site-packages/manim/scene/scene_file_writer.py\u001b\\\u001b[2mscene_file_writer.py\u001b[0m\u001b]8;;\u001b\\\u001b[2m:\u001b[0m\u001b]8;id=876481;file:///home/siva/anaconda3/envs/edu/lib/python3.13/site-packages/manim/scene/scene_file_writer.py#588\u001b\\\u001b[2m588\u001b[0m\u001b]8;;\u001b\\\n"
     ]
    },
    {
     "name": "stderr",
     "output_type": "stream",
     "text": [
      "                                                                                                                                                                                                                                                                     \r"
     ]
    },
    {
     "name": "stdout",
     "output_type": "stream",
     "text": [
      "\u001b[2;36m                   \u001b[0m\u001b[2;36m \u001b[0m\u001b[32mINFO    \u001b[0m Animation \u001b[32m1\u001b[0m : Partial movie file written in \u001b[32m'/home/siva/llm_proj/EduVision/notebooks/media/videos/temp_manim_\u001b[0m\u001b[1;33mscript\u001b[0m\u001b[32m/720p30/partial_movie_files/TorqueGraph/543634251_1850125968_2306001950.mp4'\u001b[0m                  \u001b]8;id=690171;file:///home/siva/anaconda3/envs/edu/lib/python3.13/site-packages/manim/scene/scene_file_writer.py\u001b\\\u001b[2mscene_file_writer.py\u001b[0m\u001b]8;;\u001b\\\u001b[2m:\u001b[0m\u001b]8;id=601492;file:///home/siva/anaconda3/envs/edu/lib/python3.13/site-packages/manim/scene/scene_file_writer.py#588\u001b\\\u001b[2m588\u001b[0m\u001b]8;;\u001b\\\n"
     ]
    },
    {
     "name": "stderr",
     "output_type": "stream",
     "text": [
      "                                                                                                                                                                                                                                                                     \r"
     ]
    },
    {
     "name": "stdout",
     "output_type": "stream",
     "text": [
      "\u001b[2;36m                   \u001b[0m\u001b[2;36m \u001b[0m\u001b[32mINFO    \u001b[0m Animation \u001b[32m2\u001b[0m : Partial movie file written in \u001b[32m'/home/siva/llm_proj/EduVision/notebooks/media/videos/temp_manim_\u001b[0m\u001b[1;33mscript\u001b[0m\u001b[32m/720p30/partial_movie_files/TorqueGraph/543634251_479548189_1001386805.mp4'\u001b[0m                   \u001b]8;id=633897;file:///home/siva/anaconda3/envs/edu/lib/python3.13/site-packages/manim/scene/scene_file_writer.py\u001b\\\u001b[2mscene_file_writer.py\u001b[0m\u001b]8;;\u001b\\\u001b[2m:\u001b[0m\u001b]8;id=826391;file:///home/siva/anaconda3/envs/edu/lib/python3.13/site-packages/manim/scene/scene_file_writer.py#588\u001b\\\u001b[2m588\u001b[0m\u001b]8;;\u001b\\\n",
      "\u001b[2;36m[03/18/25 23:32:06]\u001b[0m\u001b[2;36m \u001b[0m\u001b[32mINFO    \u001b[0m Animation \u001b[32m3\u001b[0m : Partial movie file written in \u001b[32m'/home/siva/llm_proj/EduVision/notebooks/media/videos/temp_manim_\u001b[0m\u001b[1;33mscript\u001b[0m\u001b[32m/720p30/partial_movie_files/TorqueGraph/543634251_3201849554_3151777522.mp4'\u001b[0m                  \u001b]8;id=596072;file:///home/siva/anaconda3/envs/edu/lib/python3.13/site-packages/manim/scene/scene_file_writer.py\u001b\\\u001b[2mscene_file_writer.py\u001b[0m\u001b]8;;\u001b\\\u001b[2m:\u001b[0m\u001b]8;id=469901;file:///home/siva/anaconda3/envs/edu/lib/python3.13/site-packages/manim/scene/scene_file_writer.py#588\u001b\\\u001b[2m588\u001b[0m\u001b]8;;\u001b\\\n"
     ]
    },
    {
     "name": "stderr",
     "output_type": "stream",
     "text": [
      "                                                                                                                                                                                                                                                                     \r"
     ]
    },
    {
     "name": "stdout",
     "output_type": "stream",
     "text": [
      "\u001b[2;36m                   \u001b[0m\u001b[2;36m \u001b[0m\u001b[32mINFO    \u001b[0m Animation \u001b[32m4\u001b[0m : Partial movie file written in \u001b[32m'/home/siva/llm_proj/EduVision/notebooks/media/videos/temp_manim_\u001b[0m\u001b[1;33mscript\u001b[0m\u001b[32m/720p30/partial_movie_files/TorqueGraph/543634251_541866052_4102104315.mp4'\u001b[0m                   \u001b]8;id=201911;file:///home/siva/anaconda3/envs/edu/lib/python3.13/site-packages/manim/scene/scene_file_writer.py\u001b\\\u001b[2mscene_file_writer.py\u001b[0m\u001b]8;;\u001b\\\u001b[2m:\u001b[0m\u001b]8;id=564206;file:///home/siva/anaconda3/envs/edu/lib/python3.13/site-packages/manim/scene/scene_file_writer.py#588\u001b\\\u001b[2m588\u001b[0m\u001b]8;;\u001b\\\n",
      "\u001b[2;36m                   \u001b[0m\u001b[2;36m \u001b[0m\u001b[32mINFO    \u001b[0m Animation \u001b[32m5\u001b[0m : Partial movie file written in \u001b[32m'/home/siva/llm_proj/EduVision/notebooks/media/videos/temp_manim_\u001b[0m\u001b[1;33mscript\u001b[0m\u001b[32m/720p30/partial_movie_files/TorqueGraph/543634251_3201849554_2635595028.mp4'\u001b[0m                  \u001b]8;id=869673;file:///home/siva/anaconda3/envs/edu/lib/python3.13/site-packages/manim/scene/scene_file_writer.py\u001b\\\u001b[2mscene_file_writer.py\u001b[0m\u001b]8;;\u001b\\\u001b[2m:\u001b[0m\u001b]8;id=272429;file:///home/siva/anaconda3/envs/edu/lib/python3.13/site-packages/manim/scene/scene_file_writer.py#588\u001b\\\u001b[2m588\u001b[0m\u001b]8;;\u001b\\\n"
     ]
    },
    {
     "name": "stderr",
     "output_type": "stream",
     "text": [
      "                                                                                                                                                                                                                                                                     \r"
     ]
    },
    {
     "name": "stdout",
     "output_type": "stream",
     "text": [
      "\u001b[2;36m[03/18/25 23:32:07]\u001b[0m\u001b[2;36m \u001b[0m\u001b[32mINFO    \u001b[0m Animation \u001b[32m6\u001b[0m : Partial movie file written in \u001b[32m'/home/siva/llm_proj/EduVision/notebooks/media/videos/temp_manim_\u001b[0m\u001b[1;33mscript\u001b[0m\u001b[32m/720p30/partial_movie_files/TorqueGraph/543634251_3728295207_1650500682.mp4'\u001b[0m                  \u001b]8;id=936628;file:///home/siva/anaconda3/envs/edu/lib/python3.13/site-packages/manim/scene/scene_file_writer.py\u001b\\\u001b[2mscene_file_writer.py\u001b[0m\u001b]8;;\u001b\\\u001b[2m:\u001b[0m\u001b]8;id=314777;file:///home/siva/anaconda3/envs/edu/lib/python3.13/site-packages/manim/scene/scene_file_writer.py#588\u001b\\\u001b[2m588\u001b[0m\u001b]8;;\u001b\\\n",
      "\u001b[2;36m                   \u001b[0m\u001b[2;36m \u001b[0m\u001b[32mINFO    \u001b[0m Animation \u001b[32m7\u001b[0m : Partial movie file written in \u001b[32m'/home/siva/llm_proj/EduVision/notebooks/media/videos/temp_manim_\u001b[0m\u001b[1;33mscript\u001b[0m\u001b[32m/720p30/partial_movie_files/TorqueGraph/543634251_3201849554_326562319.mp4'\u001b[0m                   \u001b]8;id=206682;file:///home/siva/anaconda3/envs/edu/lib/python3.13/site-packages/manim/scene/scene_file_writer.py\u001b\\\u001b[2mscene_file_writer.py\u001b[0m\u001b]8;;\u001b\\\u001b[2m:\u001b[0m\u001b]8;id=58195;file:///home/siva/anaconda3/envs/edu/lib/python3.13/site-packages/manim/scene/scene_file_writer.py#588\u001b\\\u001b[2m588\u001b[0m\u001b]8;;\u001b\\\n"
     ]
    },
    {
     "name": "stderr",
     "output_type": "stream",
     "text": [
      "                                                                                                                                                                                                                                                                     \r"
     ]
    },
    {
     "name": "stdout",
     "output_type": "stream",
     "text": [
      "\u001b[2;36m                   \u001b[0m\u001b[2;36m \u001b[0m\u001b[32mINFO    \u001b[0m Animation \u001b[32m8\u001b[0m : Partial movie file written in \u001b[32m'/home/siva/llm_proj/EduVision/notebooks/media/videos/temp_manim_\u001b[0m\u001b[1;33mscript\u001b[0m\u001b[32m/720p30/partial_movie_files/TorqueGraph/543634251_4016867300_2247120150.mp4'\u001b[0m                  \u001b]8;id=24271;file:///home/siva/anaconda3/envs/edu/lib/python3.13/site-packages/manim/scene/scene_file_writer.py\u001b\\\u001b[2mscene_file_writer.py\u001b[0m\u001b]8;;\u001b\\\u001b[2m:\u001b[0m\u001b]8;id=613190;file:///home/siva/anaconda3/envs/edu/lib/python3.13/site-packages/manim/scene/scene_file_writer.py#588\u001b\\\u001b[2m588\u001b[0m\u001b]8;;\u001b\\\n",
      "\u001b[2;36m                   \u001b[0m\u001b[2;36m \u001b[0m\u001b[32mINFO    \u001b[0m Animation \u001b[32m9\u001b[0m : Partial movie file written in \u001b[32m'/home/siva/llm_proj/EduVision/notebooks/media/videos/temp_manim_\u001b[0m\u001b[1;33mscript\u001b[0m\u001b[32m/720p30/partial_movie_files/TorqueGraph/543634251_3201849554_1631172312.mp4'\u001b[0m                  \u001b]8;id=196772;file:///home/siva/anaconda3/envs/edu/lib/python3.13/site-packages/manim/scene/scene_file_writer.py\u001b\\\u001b[2mscene_file_writer.py\u001b[0m\u001b]8;;\u001b\\\u001b[2m:\u001b[0m\u001b]8;id=578971;file:///home/siva/anaconda3/envs/edu/lib/python3.13/site-packages/manim/scene/scene_file_writer.py#588\u001b\\\u001b[2m588\u001b[0m\u001b]8;;\u001b\\\n"
     ]
    },
    {
     "name": "stderr",
     "output_type": "stream",
     "text": [
      "                                                                                                                                                                                                                                                                     \r"
     ]
    },
    {
     "name": "stdout",
     "output_type": "stream",
     "text": [
      "\u001b[2;36m[03/18/25 23:32:08]\u001b[0m\u001b[2;36m \u001b[0m\u001b[32mINFO    \u001b[0m Animation \u001b[32m10\u001b[0m : Partial movie file written in \u001b[32m'/home/siva/llm_proj/EduVision/notebooks/media/videos/temp_manim_\u001b[0m\u001b[1;33mscript\u001b[0m\u001b[32m/720p30/partial_movie_files/TorqueGraph/543634251_1766398967_2499323941.mp4'\u001b[0m                 \u001b]8;id=580252;file:///home/siva/anaconda3/envs/edu/lib/python3.13/site-packages/manim/scene/scene_file_writer.py\u001b\\\u001b[2mscene_file_writer.py\u001b[0m\u001b]8;;\u001b\\\u001b[2m:\u001b[0m\u001b]8;id=111080;file:///home/siva/anaconda3/envs/edu/lib/python3.13/site-packages/manim/scene/scene_file_writer.py#588\u001b\\\u001b[2m588\u001b[0m\u001b]8;;\u001b\\\n",
      "\u001b[2;36m                   \u001b[0m\u001b[2;36m \u001b[0m\u001b[32mINFO    \u001b[0m Animation \u001b[32m11\u001b[0m : Partial movie file written in \u001b[32m'/home/siva/llm_proj/EduVision/notebooks/media/videos/temp_manim_\u001b[0m\u001b[1;33mscript\u001b[0m\u001b[32m/720p30/partial_movie_files/TorqueGraph/543634251_3201849554_708073063.mp4'\u001b[0m                  \u001b]8;id=535417;file:///home/siva/anaconda3/envs/edu/lib/python3.13/site-packages/manim/scene/scene_file_writer.py\u001b\\\u001b[2mscene_file_writer.py\u001b[0m\u001b]8;;\u001b\\\u001b[2m:\u001b[0m\u001b]8;id=109629;file:///home/siva/anaconda3/envs/edu/lib/python3.13/site-packages/manim/scene/scene_file_writer.py#588\u001b\\\u001b[2m588\u001b[0m\u001b]8;;\u001b\\\n",
      "\u001b[2;36m[03/18/25 23:32:09]\u001b[0m\u001b[2;36m \u001b[0m\u001b[32mINFO    \u001b[0m Animation \u001b[32m12\u001b[0m : Partial movie file written in \u001b[32m'/home/siva/llm_proj/EduVision/notebooks/media/videos/temp_manim_\u001b[0m\u001b[1;33mscript\u001b[0m\u001b[32m/720p30/partial_movie_files/TorqueGraph/543634251_2408024828_529436523.mp4'\u001b[0m                  \u001b]8;id=458851;file:///home/siva/anaconda3/envs/edu/lib/python3.13/site-packages/manim/scene/scene_file_writer.py\u001b\\\u001b[2mscene_file_writer.py\u001b[0m\u001b]8;;\u001b\\\u001b[2m:\u001b[0m\u001b]8;id=427379;file:///home/siva/anaconda3/envs/edu/lib/python3.13/site-packages/manim/scene/scene_file_writer.py#588\u001b\\\u001b[2m588\u001b[0m\u001b]8;;\u001b\\\n",
      "\u001b[2;36m                   \u001b[0m\u001b[2;36m \u001b[0m\u001b[32mINFO    \u001b[0m Combining to Movie file.                                                                                                                                                                                         \u001b]8;id=877812;file:///home/siva/anaconda3/envs/edu/lib/python3.13/site-packages/manim/scene/scene_file_writer.py\u001b\\\u001b[2mscene_file_writer.py\u001b[0m\u001b]8;;\u001b\\\u001b[2m:\u001b[0m\u001b]8;id=287670;file:///home/siva/anaconda3/envs/edu/lib/python3.13/site-packages/manim/scene/scene_file_writer.py#739\u001b\\\u001b[2m739\u001b[0m\u001b]8;;\u001b\\\n",
      "\u001b[2;36m                   \u001b[0m\u001b[2;36m \u001b[0m\u001b[32mINFO    \u001b[0m                                                                                                                                                                                                                  \u001b]8;id=19839;file:///home/siva/anaconda3/envs/edu/lib/python3.13/site-packages/manim/scene/scene_file_writer.py\u001b\\\u001b[2mscene_file_writer.py\u001b[0m\u001b]8;;\u001b\\\u001b[2m:\u001b[0m\u001b]8;id=309960;file:///home/siva/anaconda3/envs/edu/lib/python3.13/site-packages/manim/scene/scene_file_writer.py#886\u001b\\\u001b[2m886\u001b[0m\u001b]8;;\u001b\\\n",
      "\u001b[2;36m                    \u001b[0m         \u001b[1;33mFile\u001b[0m ready at \u001b[32m'/home/siva/llm_proj/EduVision/notebooks/media/videos/temp_manim_\u001b[0m\u001b[1;33mscript\u001b[0m\u001b[32m/720p30/step_8.mp4'\u001b[0m                                                                                                         \u001b[2m                        \u001b[0m\n",
      "\u001b[2;36m                    \u001b[0m                                                                                                                                                                                                                          \u001b[2m                        \u001b[0m\n",
      "\u001b[2;36m                   \u001b[0m\u001b[2;36m \u001b[0m\u001b[32mINFO    \u001b[0m \u001b[1;33mRendered\u001b[0m TorqueGraph                                                                                                                                                                                                         \u001b]8;id=287050;file:///home/siva/anaconda3/envs/edu/lib/python3.13/site-packages/manim/scene/scene.py\u001b\\\u001b[2mscene.py\u001b[0m\u001b]8;;\u001b\\\u001b[2m:\u001b[0m\u001b]8;id=322948;file:///home/siva/anaconda3/envs/edu/lib/python3.13/site-packages/manim/scene/scene.py#255\u001b\\\u001b[2m255\u001b[0m\u001b]8;;\u001b\\\n",
      "\u001b[2;36m                    \u001b[0m         \u001b[1;33mPlayed\u001b[0m \u001b[32m13\u001b[0m \u001b[1;33manimations\u001b[0m                                                                                                                                                                                                         \u001b[2m            \u001b[0m\n",
      "✅ Manim animation generated with base name: step_8.mp4\n",
      "✅ Copied video to: outputs/videos/step_8.mp4\n",
      "Generated dialogue: As we explore the relationship between force, lever arm, and torque, notice how the animated graph illustrates that torque increases as the lever arm lengthens, demonstrating the powerful impact of leverage in mechanics.\n",
      "Generated TTS audio saved to: outputs/audio/step_8.mp3\n",
      "\n",
      "========== Processing Step 9: {'Step 8': {'Description': 'Conclude with a summary slide that recaps the definition, formula, and importance of lever arms in torque. Use bullet points for clarity.'}} ==========\n",
      "\n"
     ]
    },
    {
     "name": "stderr",
     "output_type": "stream",
     "text": [
      "<frozen runpy>:128: RuntimeWarning: 'manim.__main__' found in sys.modules after import of package 'manim', but prior to execution of 'manim.__main__'; this may result in unpredictable behaviour\n"
     ]
    },
    {
     "name": "stdout",
     "output_type": "stream",
     "text": [
      "Manim Community \u001b[32mv0.\u001b[0m\u001b[32m19.0\u001b[0m\n",
      "\n"
     ]
    },
    {
     "name": "stderr",
     "output_type": "stream",
     "text": [
      "                                                                                                                                                                                                                                                                     \r"
     ]
    },
    {
     "name": "stdout",
     "output_type": "stream",
     "text": [
      "\u001b[2;36m[03/18/25 23:32:20]\u001b[0m\u001b[2;36m \u001b[0m\u001b[32mINFO    \u001b[0m Animation \u001b[32m0\u001b[0m : Partial movie file written in \u001b[32m'/home/siva/llm_proj/EduVision/notebooks/media/videos/temp_manim_\u001b[0m\u001b[1;33mscript\u001b[0m\u001b[32m/720p30/partial_movie_files/SummarySlide/2016333726_1417782676_223132457.mp4'\u001b[0m                 \u001b]8;id=18466;file:///home/siva/anaconda3/envs/edu/lib/python3.13/site-packages/manim/scene/scene_file_writer.py\u001b\\\u001b[2mscene_file_writer.py\u001b[0m\u001b]8;;\u001b\\\u001b[2m:\u001b[0m\u001b]8;id=808506;file:///home/siva/anaconda3/envs/edu/lib/python3.13/site-packages/manim/scene/scene_file_writer.py#588\u001b\\\u001b[2m588\u001b[0m\u001b]8;;\u001b\\\n"
     ]
    },
    {
     "name": "stderr",
     "output_type": "stream",
     "text": [
      "                                                                                                                                                                                                                                                                     \r"
     ]
    },
    {
     "name": "stdout",
     "output_type": "stream",
     "text": [
      "\u001b[2;36m[03/18/25 23:32:23]\u001b[0m\u001b[2;36m \u001b[0m\u001b[32mINFO    \u001b[0m Animation \u001b[32m1\u001b[0m : Partial movie file written in \u001b[32m'/home/siva/llm_proj/EduVision/notebooks/media/videos/temp_manim_\u001b[0m\u001b[1;33mscript\u001b[0m\u001b[32m/720p30/partial_movie_files/SummarySlide/543634251_1135941566_2772628070.mp4'\u001b[0m                 \u001b]8;id=618609;file:///home/siva/anaconda3/envs/edu/lib/python3.13/site-packages/manim/scene/scene_file_writer.py\u001b\\\u001b[2mscene_file_writer.py\u001b[0m\u001b]8;;\u001b\\\u001b[2m:\u001b[0m\u001b]8;id=936307;file:///home/siva/anaconda3/envs/edu/lib/python3.13/site-packages/manim/scene/scene_file_writer.py#588\u001b\\\u001b[2m588\u001b[0m\u001b]8;;\u001b\\\n",
      "\u001b[2;36m[03/18/25 23:32:24]\u001b[0m\u001b[2;36m \u001b[0m\u001b[32mINFO    \u001b[0m Animation \u001b[32m2\u001b[0m : Partial movie file written in \u001b[32m'/home/siva/llm_proj/EduVision/notebooks/media/videos/temp_manim_\u001b[0m\u001b[1;33mscript\u001b[0m\u001b[32m/720p30/partial_movie_files/SummarySlide/543634251_2408024828_63222474.mp4'\u001b[0m                   \u001b]8;id=615617;file:///home/siva/anaconda3/envs/edu/lib/python3.13/site-packages/manim/scene/scene_file_writer.py\u001b\\\u001b[2mscene_file_writer.py\u001b[0m\u001b]8;;\u001b\\\u001b[2m:\u001b[0m\u001b]8;id=932435;file:///home/siva/anaconda3/envs/edu/lib/python3.13/site-packages/manim/scene/scene_file_writer.py#588\u001b\\\u001b[2m588\u001b[0m\u001b]8;;\u001b\\\n",
      "\u001b[2;36m                   \u001b[0m\u001b[2;36m \u001b[0m\u001b[32mINFO    \u001b[0m Combining to Movie file.                                                                                                                                                                                         \u001b]8;id=303804;file:///home/siva/anaconda3/envs/edu/lib/python3.13/site-packages/manim/scene/scene_file_writer.py\u001b\\\u001b[2mscene_file_writer.py\u001b[0m\u001b]8;;\u001b\\\u001b[2m:\u001b[0m\u001b]8;id=187541;file:///home/siva/anaconda3/envs/edu/lib/python3.13/site-packages/manim/scene/scene_file_writer.py#739\u001b\\\u001b[2m739\u001b[0m\u001b]8;;\u001b\\\n",
      "\u001b[2;36m                   \u001b[0m\u001b[2;36m \u001b[0m\u001b[32mINFO    \u001b[0m                                                                                                                                                                                                                  \u001b]8;id=664729;file:///home/siva/anaconda3/envs/edu/lib/python3.13/site-packages/manim/scene/scene_file_writer.py\u001b\\\u001b[2mscene_file_writer.py\u001b[0m\u001b]8;;\u001b\\\u001b[2m:\u001b[0m\u001b]8;id=280578;file:///home/siva/anaconda3/envs/edu/lib/python3.13/site-packages/manim/scene/scene_file_writer.py#886\u001b\\\u001b[2m886\u001b[0m\u001b]8;;\u001b\\\n",
      "\u001b[2;36m                    \u001b[0m         \u001b[1;33mFile\u001b[0m ready at \u001b[32m'/home/siva/llm_proj/EduVision/notebooks/media/videos/temp_manim_\u001b[0m\u001b[1;33mscript\u001b[0m\u001b[32m/720p30/step_9.mp4'\u001b[0m                                                                                                         \u001b[2m                        \u001b[0m\n",
      "\u001b[2;36m                    \u001b[0m                                                                                                                                                                                                                          \u001b[2m                        \u001b[0m\n",
      "\u001b[2;36m                   \u001b[0m\u001b[2;36m \u001b[0m\u001b[32mINFO    \u001b[0m \u001b[1;33mRendered\u001b[0m SummarySlide                                                                                                                                                                                                        \u001b]8;id=443626;file:///home/siva/anaconda3/envs/edu/lib/python3.13/site-packages/manim/scene/scene.py\u001b\\\u001b[2mscene.py\u001b[0m\u001b]8;;\u001b\\\u001b[2m:\u001b[0m\u001b]8;id=576479;file:///home/siva/anaconda3/envs/edu/lib/python3.13/site-packages/manim/scene/scene.py#255\u001b\\\u001b[2m255\u001b[0m\u001b]8;;\u001b\\\n",
      "\u001b[2;36m                    \u001b[0m         \u001b[1;33mPlayed\u001b[0m \u001b[32m3\u001b[0m \u001b[1;33manimations\u001b[0m                                                                                                                                                                                                          \u001b[2m            \u001b[0m\n",
      "✅ Manim animation generated with base name: step_9.mp4\n",
      "✅ Copied video to: outputs/videos/step_9.mp4\n",
      "Generated dialogue: To wrap up our discussion, let's summarize the key points about lever arms in torque: their definition, the essential formula, and why they are crucial in understanding rotational forces. This recap will help reinforce your knowledge and ensure you grasp the significance of lever arms in practical applications.\n",
      "Generated TTS audio saved to: outputs/audio/step_9.mp3\n"
     ]
    },
    {
     "name": "stderr",
     "output_type": "stream",
     "text": [
      "ffmpeg version 6.1.1-3ubuntu5 Copyright (c) 2000-2023 the FFmpeg developers\n",
      "  built with gcc 13 (Ubuntu 13.2.0-23ubuntu3)\n",
      "  configuration: --prefix=/usr --extra-version=3ubuntu5 --toolchain=hardened --libdir=/usr/lib/x86_64-linux-gnu --incdir=/usr/include/x86_64-linux-gnu --arch=amd64 --enable-gpl --disable-stripping --disable-omx --enable-gnutls --enable-libaom --enable-libass --enable-libbs2b --enable-libcaca --enable-libcdio --enable-libcodec2 --enable-libdav1d --enable-libflite --enable-libfontconfig --enable-libfreetype --enable-libfribidi --enable-libglslang --enable-libgme --enable-libgsm --enable-libharfbuzz --enable-libmp3lame --enable-libmysofa --enable-libopenjpeg --enable-libopenmpt --enable-libopus --enable-librubberband --enable-libshine --enable-libsnappy --enable-libsoxr --enable-libspeex --enable-libtheora --enable-libtwolame --enable-libvidstab --enable-libvorbis --enable-libvpx --enable-libwebp --enable-libx265 --enable-libxml2 --enable-libxvid --enable-libzimg --enable-openal --enable-opencl --enable-opengl --disable-sndio --enable-libvpl --disable-libmfx --enable-libdc1394 --enable-libdrm --enable-libiec61883 --enable-chromaprint --enable-frei0r --enable-ladspa --enable-libbluray --enable-libjack --enable-libpulse --enable-librabbitmq --enable-librist --enable-libsrt --enable-libssh --enable-libsvtav1 --enable-libx264 --enable-libzmq --enable-libzvbi --enable-lv2 --enable-sdl2 --enable-libplacebo --enable-librav1e --enable-pocketsphinx --enable-librsvg --enable-libjxl --enable-shared\n",
      "  libavutil      58. 29.100 / 58. 29.100\n",
      "  libavcodec     60. 31.102 / 60. 31.102\n",
      "  libavformat    60. 16.100 / 60. 16.100\n",
      "  libavdevice    60.  3.100 / 60.  3.100\n",
      "  libavfilter     9. 12.100 /  9. 12.100\n",
      "  libswscale      7.  5.100 /  7.  5.100\n",
      "  libswresample   4. 12.100 /  4. 12.100\n",
      "  libpostproc    57.  3.100 / 57.  3.100\n",
      "[mov,mp4,m4a,3gp,3g2,mj2 @ 0x5578ddd6df40] Auto-inserting h264_mp4toannexb bitstream filter\n",
      "Input #0, concat, from 'videos_to_concat.txt':\n",
      "  Duration: N/A, start: -0.042667, bitrate: 147 kb/s\n",
      "  Stream #0:0(und): Video: h264 (High) (avc1 / 0x31637661), yuv420p(progressive), 1280x720, 74 kb/s, 30 fps, 30 tbr, 15360 tbn\n",
      "    Metadata:\n",
      "      handler_name    : VideoHandler\n",
      "      vendor_id       : [0][0][0][0]\n",
      "      encoder         : Lavc60.31.102 libx264\n",
      "  Stream #0:1(und): Audio: aac (LC) (mp4a / 0x6134706D), 24000 Hz, mono, fltp, 73 kb/s\n",
      "    Metadata:\n",
      "      handler_name    : SoundHandler\n",
      "      vendor_id       : [0][0][0][0]\n",
      "Output #0, mp4, to 'final_animation_video.mp4':\n",
      "  Metadata:\n",
      "    encoder         : Lavf60.16.100\n",
      "  Stream #0:0(und): Video: h264 (High) (avc1 / 0x31637661), yuv420p(progressive), 1280x720, q=2-31, 74 kb/s, 30 fps, 30 tbr, 15360 tbn\n",
      "    Metadata:\n",
      "      handler_name    : VideoHandler\n",
      "      vendor_id       : [0][0][0][0]\n",
      "      encoder         : Lavc60.31.102 libx264\n",
      "  Stream #0:1(und): Audio: aac (LC) (mp4a / 0x6134706D), 24000 Hz, mono, fltp, 73 kb/s\n",
      "    Metadata:\n",
      "      handler_name    : SoundHandler\n",
      "      vendor_id       : [0][0][0][0]\n",
      "Stream mapping:\n",
      "  Stream #0:0 -> #0:0 (copy)\n",
      "  Stream #0:1 -> #0:1 (copy)\n",
      "Press [q] to stop, [?] for help\n",
      "[mov,mp4,m4a,3gp,3g2,mj2 @ 0x5578ddd6df40] Auto-inserting h264_mp4toannexb bitstream filter\n",
      "[mp4 @ 0x5578dddcdec0] Non-monotonic DTS in output stream 0:1; previous: 288768, current: 288000; changing to 288769. This may result in incorrect timestamps in the output file.\n",
      "[mov,mp4,m4a,3gp,3g2,mj2 @ 0x5578ddd6df40] Auto-inserting h264_mp4toannexb bitstream filter\n",
      "[mp4 @ 0x5578dddcdec0] Non-monotonic DTS in output stream 0:1; previous: 621824, current: 621600; changing to 621825. This may result in incorrect timestamps in the output file.\n",
      "[mov,mp4,m4a,3gp,3g2,mj2 @ 0x5578ddd6df40] Auto-inserting h264_mp4toannexb bitstream filter\n",
      "[mp4 @ 0x5578dddcdec0] Non-monotonic DTS in output stream 0:1; previous: 837664, current: 837024; changing to 837665. This may result in incorrect timestamps in the output file.\n",
      "[mov,mp4,m4a,3gp,3g2,mj2 @ 0x5578ddd6df40] Auto-inserting h264_mp4toannexb bitstream filter\n",
      "    Last message repeated 1 times\n",
      "[mp4 @ 0x5578dddcdec0] Non-monotonic DTS in output stream 0:1; previous: 1678880, current: 1678624; changing to 1678881. This may result in incorrect timestamps in the output file.\n",
      "[mov,mp4,m4a,3gp,3g2,mj2 @ 0x5578ddd6df40] Auto-inserting h264_mp4toannexb bitstream filter\n",
      "[mp4 @ 0x5578dddcdec0] Non-monotonic DTS in output stream 0:1; previous: 1924384, current: 1924224; changing to 1924385. This may result in incorrect timestamps in the output file.\n",
      "[mov,mp4,m4a,3gp,3g2,mj2 @ 0x5578ddd6df40] Auto-inserting h264_mp4toannexb bitstream filter\n",
      "[mp4 @ 0x5578dddcdec0] Non-monotonic DTS in output stream 0:1; previous: 2322560, current: 2321824; changing to 2322561. This may result in incorrect timestamps in the output file.\n",
      "[mov,mp4,m4a,3gp,3g2,mj2 @ 0x5578ddd6df40] Auto-inserting h264_mp4toannexb bitstream filter\n",
      "[mp4 @ 0x5578dddcdec0] Non-monotonic DTS in output stream 0:1; previous: 2717088, current: 2716384; changing to 2717089. This may result in incorrect timestamps in the output file.\n"
     ]
    },
    {
     "name": "stdout",
     "output_type": "stream",
     "text": [
      "✅ Final video created: final_animation_video.mp4\n",
      "\n",
      "=== Animation Pipeline Complete! ===\n",
      "\n"
     ]
    },
    {
     "name": "stderr",
     "output_type": "stream",
     "text": [
      "[out#0/mp4 @ 0x5578dde710c0] video:782kB audio:1211kB subtitle:0kB other streams:0kB global headers:0kB muxing overhead: 5.337798%\n",
      "size=    2100kB time=00:02:15.36 bitrate= 127.1kbits/s speed= 528x    \n"
     ]
    }
   ],
   "source": [
    "\n",
    "if __name__ == \"__main__\":\n",
    "    # For example, let's animate the concept of Torque.\n",
    "    topic = \"Torque in Physics: definition, formula, and how lever arms work.\"\n",
    "    generate_animation_pipeline(topic)"
   ]
  },
  {
   "cell_type": "code",
   "execution_count": null,
   "id": "519343cb-72d0-48c3-8188-795fba0c64c6",
   "metadata": {},
   "outputs": [],
   "source": []
  },
  {
   "cell_type": "code",
   "execution_count": 19,
   "id": "ff64e622-5129-4714-8c3f-8fc80cc790c9",
   "metadata": {},
   "outputs": [
    {
     "name": "stdout",
     "output_type": "stream",
     "text": [
      "✅ YAML Outline saved to animation_outline.yaml\n",
      "Generated Animation Outline:\n",
      "----------------------------------------\n",
      "Step 1: {'Title Slide': 'Torque in Physics: definition, formula, and how lever arms work.'}\n",
      "Step 2: {'Step 1': {'Description': 'Introduce the concept of torque with a rotating object, showing an arrow indicating the direction of rotation.', 'Elements': ['Rotating object (e.g., a wheel)', 'Arrow indicating rotation direction']}}\n",
      "Step 3: {'Step 2': {'Description': \"Define torque with a text overlay: 'Torque (τ) is the measure of the force that can cause an object to rotate about an axis.'\", 'Elements': ['Text overlay with definition', 'Background of a rotating object']}}\n",
      "Step 4: {'Step 3': {'Description': \"Present the formula for torque: 'τ = r × F × sin(θ)' with each variable highlighted as it is explained.\", 'Elements': ['Text showing the formula', 'Highlighted variables (r, F, θ) with arrows pointing to their meanings']}}\n",
      "Step 5: {'Step 4': {'Description': 'Illustrate the lever arm concept by showing a lever with a force applied at a distance from the pivot point.', 'Elements': ['Lever diagram with pivot point', 'Force arrow applied at a distance']}}\n",
      "Step 6: {'Step 5': {'Description': 'Demonstrate how changing the distance (lever arm) affects torque by moving the force arrow closer and further from the pivot.', 'Elements': ['Animated force arrow moving along the lever', \"Text showing 'Increasing distance increases torque'\"]}}\n",
      "Step 7: {'Step 6': {'Description': 'Show a real-world example of torque, such as using a wrench to tighten a bolt, with emphasis on the lever arm.', 'Elements': ['Wrench and bolt illustration', 'Force arrow applied at the end of the wrench']}}\n",
      "Step 8: {'Step 7': {'Description': 'Conclude with a summary slide that recaps the definition, formula, and importance of lever arms in torque.', 'Elements': ['Summary text with key points', 'Background of previous animations as a collage']}}\n",
      "----------------------------------------\n"
     ]
    }
   ],
   "source": [
    "# Example usage to visualize the outline\n",
    "topic_text = \"Torque in Physics: definition, formula, and how lever arms work.\"\n",
    "outline = generate_yaml_outline(topic_text)\n",
    "\n",
    "print(\"Generated Animation Outline:\")\n",
    "print(\"-\" * 40)\n",
    "for idx, step in enumerate(outline, start=1):\n",
    "    print(f\"Step {idx}: {step}\")\n",
    "print(\"-\" * 40)"
   ]
  },
  {
   "cell_type": "code",
   "execution_count": 21,
   "id": "4f68a4e6-4fc5-4694-8554-caceff484eda",
   "metadata": {},
   "outputs": [],
   "source": [
    "# To store final video clip filenames.\n",
    "step_video_files = []"
   ]
  },
  {
   "cell_type": "code",
   "execution_count": 22,
   "id": "8a13e835-c9ef-4eef-a1c4-b509bc99a5dc",
   "metadata": {},
   "outputs": [
    {
     "name": "stdout",
     "output_type": "stream",
     "text": [
      "\n",
      "========== Processing Step 1: {'Title Slide': 'Torque in Physics: definition, formula, and how lever arms work.'} ==========\n",
      "\n"
     ]
    },
    {
     "name": "stderr",
     "output_type": "stream",
     "text": [
      "<frozen runpy>:128: RuntimeWarning: 'manim.__main__' found in sys.modules after import of package 'manim', but prior to execution of 'manim.__main__'; this may result in unpredictable behaviour\n",
      "Animation 0: Write(Text('Torque in Physics')):   0%|                                                                                                                                                                                          | 0/60 [00:00<?, ?it/s]"
     ]
    },
    {
     "name": "stdout",
     "output_type": "stream",
     "text": [
      "Manim Community \u001b[32mv0.\u001b[0m\u001b[32m19.0\u001b[0m\n",
      "\n"
     ]
    },
    {
     "name": "stderr",
     "output_type": "stream",
     "text": [
      "                                                                                                                                                                                                                                                                     \r"
     ]
    },
    {
     "name": "stdout",
     "output_type": "stream",
     "text": [
      "\u001b[2;36m[03/18/25 23:29:41]\u001b[0m\u001b[2;36m \u001b[0m\u001b[32mINFO    \u001b[0m Animation \u001b[32m0\u001b[0m : Partial movie file written in \u001b[32m'/home/siva/llm_proj/EduVision/notebooks/media/videos/temp_manim_\u001b[0m\u001b[1;33mscript\u001b[0m\u001b[32m/720p30/partial_movie_files/TitleSlide/2016333726_2427665977_223132457.mp4'\u001b[0m                   \u001b]8;id=124061;file:///home/siva/anaconda3/envs/edu/lib/python3.13/site-packages/manim/scene/scene_file_writer.py\u001b\\\u001b[2mscene_file_writer.py\u001b[0m\u001b]8;;\u001b\\\u001b[2m:\u001b[0m\u001b]8;id=470075;file:///home/siva/anaconda3/envs/edu/lib/python3.13/site-packages/manim/scene/scene_file_writer.py#588\u001b\\\u001b[2m588\u001b[0m\u001b]8;;\u001b\\\n"
     ]
    },
    {
     "name": "stderr",
     "output_type": "stream",
     "text": [
      "                                                                                                                                                                                                                                                                     \r"
     ]
    },
    {
     "name": "stdout",
     "output_type": "stream",
     "text": [
      "\u001b[2;36m[03/18/25 23:29:42]\u001b[0m\u001b[2;36m \u001b[0m\u001b[32mINFO    \u001b[0m Animation \u001b[32m1\u001b[0m : Partial movie file written in \u001b[32m'/home/siva/llm_proj/EduVision/notebooks/media/videos/temp_manim_\u001b[0m\u001b[1;33mscript\u001b[0m\u001b[32m/720p30/partial_movie_files/TitleSlide/543634251_3588616603_3711886643.mp4'\u001b[0m                   \u001b]8;id=418640;file:///home/siva/anaconda3/envs/edu/lib/python3.13/site-packages/manim/scene/scene_file_writer.py\u001b\\\u001b[2mscene_file_writer.py\u001b[0m\u001b]8;;\u001b\\\u001b[2m:\u001b[0m\u001b]8;id=104916;file:///home/siva/anaconda3/envs/edu/lib/python3.13/site-packages/manim/scene/scene_file_writer.py#588\u001b\\\u001b[2m588\u001b[0m\u001b]8;;\u001b\\\n",
      "\u001b[2;36m[03/18/25 23:29:43]\u001b[0m\u001b[2;36m \u001b[0m\u001b[32mINFO    \u001b[0m Animation \u001b[32m2\u001b[0m : Partial movie file written in \u001b[32m'/home/siva/llm_proj/EduVision/notebooks/media/videos/temp_manim_\u001b[0m\u001b[1;33mscript\u001b[0m\u001b[32m/720p30/partial_movie_files/TitleSlide/543634251_2408024828_678225912.mp4'\u001b[0m                    \u001b]8;id=798013;file:///home/siva/anaconda3/envs/edu/lib/python3.13/site-packages/manim/scene/scene_file_writer.py\u001b\\\u001b[2mscene_file_writer.py\u001b[0m\u001b]8;;\u001b\\\u001b[2m:\u001b[0m\u001b]8;id=222315;file:///home/siva/anaconda3/envs/edu/lib/python3.13/site-packages/manim/scene/scene_file_writer.py#588\u001b\\\u001b[2m588\u001b[0m\u001b]8;;\u001b\\\n",
      "\u001b[2;36m                   \u001b[0m\u001b[2;36m \u001b[0m\u001b[32mINFO    \u001b[0m Combining to Movie file.                                                                                                                                                                                         \u001b]8;id=410677;file:///home/siva/anaconda3/envs/edu/lib/python3.13/site-packages/manim/scene/scene_file_writer.py\u001b\\\u001b[2mscene_file_writer.py\u001b[0m\u001b]8;;\u001b\\\u001b[2m:\u001b[0m\u001b]8;id=437967;file:///home/siva/anaconda3/envs/edu/lib/python3.13/site-packages/manim/scene/scene_file_writer.py#739\u001b\\\u001b[2m739\u001b[0m\u001b]8;;\u001b\\\n",
      "\u001b[2;36m                   \u001b[0m\u001b[2;36m \u001b[0m\u001b[32mINFO    \u001b[0m                                                                                                                                                                                                                  \u001b]8;id=235362;file:///home/siva/anaconda3/envs/edu/lib/python3.13/site-packages/manim/scene/scene_file_writer.py\u001b\\\u001b[2mscene_file_writer.py\u001b[0m\u001b]8;;\u001b\\\u001b[2m:\u001b[0m\u001b]8;id=154467;file:///home/siva/anaconda3/envs/edu/lib/python3.13/site-packages/manim/scene/scene_file_writer.py#886\u001b\\\u001b[2m886\u001b[0m\u001b]8;;\u001b\\\n",
      "\u001b[2;36m                    \u001b[0m         \u001b[1;33mFile\u001b[0m ready at \u001b[32m'/home/siva/llm_proj/EduVision/notebooks/media/videos/temp_manim_\u001b[0m\u001b[1;33mscript\u001b[0m\u001b[32m/720p30/step_1.mp4'\u001b[0m                                                                                                         \u001b[2m                        \u001b[0m\n",
      "\u001b[2;36m                    \u001b[0m                                                                                                                                                                                                                          \u001b[2m                        \u001b[0m\n",
      "\u001b[2;36m                   \u001b[0m\u001b[2;36m \u001b[0m\u001b[32mINFO    \u001b[0m \u001b[1;33mRendered\u001b[0m TitleSlide                                                                                                                                                                                                          \u001b]8;id=101412;file:///home/siva/anaconda3/envs/edu/lib/python3.13/site-packages/manim/scene/scene.py\u001b\\\u001b[2mscene.py\u001b[0m\u001b]8;;\u001b\\\u001b[2m:\u001b[0m\u001b]8;id=746076;file:///home/siva/anaconda3/envs/edu/lib/python3.13/site-packages/manim/scene/scene.py#255\u001b\\\u001b[2m255\u001b[0m\u001b]8;;\u001b\\\n",
      "\u001b[2;36m                    \u001b[0m         \u001b[1;33mPlayed\u001b[0m \u001b[32m3\u001b[0m \u001b[1;33manimations\u001b[0m                                                                                                                                                                                                          \u001b[2m            \u001b[0m\n",
      "✅ Manim animation generated with base name: step_1.mp4\n",
      "✅ Copied video to: outputs/videos/step_1.mp4\n",
      "Generated dialogue: Welcome to our exploration of torque in physics, where we'll define this essential concept, uncover its formula, and discover how lever arms play a crucial role in its application.\n",
      "Generated TTS audio saved to: outputs/audio/step_1.mp3\n"
     ]
    }
   ],
   "source": [
    "for idx, step in enumerate(outline, start=1):\n",
    "    print(f\"\\n========== Processing Step {idx}: {step} ==========\\n\")\n",
    "    \n",
    "    # Define filenames.\n",
    "    step_video_filename = f\"step_{idx}.mp4\"\n",
    "    step_audio_filename = f\"step_{idx}.mp3\"\n",
    "    step_final_filename = f\"step_{idx}_final.mp4\"\n",
    "    \n",
    "    # Step 2a: Generate Manim code and run it.\n",
    "    manim_code = generate_manim_code_for_step(step)\n",
    "    video_path = run_manim_script(manim_code, output_filename=step_video_filename)\n",
    "    \n",
    "    # Step 2b: Generate narration.\n",
    "    dialogue_line = generate_dialogue_for_step(step)\n",
    "    print(f\"Generated dialogue: {dialogue_line}\")\n",
    "    \n",
    "    # Step 2c: Convert dialogue to speech.\n",
    "    audio_path = AUDIO_DIR / step_audio_filename\n",
    "    text_to_speech(dialogue_line, output_audio=audio_path)\n",
    "    \n",
    "    # Step 2d: Combine video and audio.\n",
    "    final_video_path = combine_audio_and_video(video_path, audio_path, final_output_filename=step_final_filename)\n",
    "    step_video_files.append(str(final_video_path))\n",
    "    break"
   ]
  },
  {
   "cell_type": "code",
   "execution_count": null,
   "id": "e8410de1-f66b-45e4-84c0-23177a45b01b",
   "metadata": {},
   "outputs": [],
   "source": []
  },
  {
   "cell_type": "code",
   "execution_count": null,
   "id": "ad442ab5-348a-444e-b66e-3578608e1423",
   "metadata": {},
   "outputs": [],
   "source": []
  },
  {
   "cell_type": "code",
   "execution_count": null,
   "id": "ccde952f-5660-4098-aef5-dcec0735872a",
   "metadata": {},
   "outputs": [],
   "source": []
  }
 ],
 "metadata": {
  "kernelspec": {
   "display_name": "edu",
   "language": "python",
   "name": "edu"
  },
  "language_info": {
   "codemirror_mode": {
    "name": "ipython",
    "version": 3
   },
   "file_extension": ".py",
   "mimetype": "text/x-python",
   "name": "python",
   "nbconvert_exporter": "python",
   "pygments_lexer": "ipython3",
   "version": "3.13.2"
  }
 },
 "nbformat": 4,
 "nbformat_minor": 5
}
