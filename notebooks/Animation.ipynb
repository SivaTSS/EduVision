{
 "cells": [
  {
   "cell_type": "code",
   "execution_count": 1,
   "id": "1549d7f4",
   "metadata": {},
   "outputs": [],
   "source": [
    "import os\n",
    "import json\n",
    "import subprocess\n",
    "import sys\n",
    "from pathlib import Path\n",
    "from typing import List\n",
    "import yaml\n",
    "import glob\n",
    "import shutil\n",
    "\n",
    "from langchain_core.tools import tool\n",
    "from langgraph.prebuilt import create_react_agent\n",
    "from langchain_openai import ChatOpenAI\n",
    "from IPython.display import SVG, display"
   ]
  },
  {
   "cell_type": "code",
   "execution_count": 2,
   "id": "42b4b15f-97cd-4950-8ac1-2897ca8dd809",
   "metadata": {},
   "outputs": [],
   "source": [
    "BASE_OUTPUT_DIR = Path(\"outputs\")\n",
    "VIDEO_DIR = BASE_OUTPUT_DIR / \"videos\"\n",
    "AUDIO_DIR = BASE_OUTPUT_DIR / \"audio\"\n",
    "FINAL_DIR = BASE_OUTPUT_DIR / \"final\"\n",
    "TEMP_DIR = BASE_OUTPUT_DIR / \"temp\"\n",
    "\n",
    "for folder in [BASE_OUTPUT_DIR, VIDEO_DIR, AUDIO_DIR, FINAL_DIR, TEMP_DIR]:\n",
    "    folder.mkdir(parents=True, exist_ok=True)\n",
    "\n",
    "# Adjust this path if your Manim outputs are located elsewhere.\n",
    "MANIM_MEDIA_DIR = Path(\"media\") / \"videos\" / \"temp_manim_script\" / \"720p30\"\n"
   ]
  },
  {
   "cell_type": "code",
   "execution_count": 14,
   "id": "4d0105e9",
   "metadata": {},
   "outputs": [],
   "source": [
    "# Load API keys\n",
    "file_path = \"../keys.json\"\n",
    "with open(file_path, \"r\", encoding=\"utf-8\") as file:\n",
    "    key_data = json.load(file)\n",
    "\n",
    "os.environ[\"OPENAI_API_KEY\"] = key_data[\"openai_api_key\"]\n",
    "\n",
    "# Set up the LLM\n",
    "model_name = \"gpt-4o-mini\"\n",
    "llm = ChatOpenAI(temperature=0, model_name=model_name)"
   ]
  },
  {
   "cell_type": "code",
   "execution_count": 4,
   "id": "4c423e2c-1f77-4120-8691-1c8457ccc000",
   "metadata": {},
   "outputs": [],
   "source": [
    "def generate_yaml_outline(topic_text: str) -> List[str]:\n",
    "    \"\"\"\n",
    "    Ask the LLM to create an outline for a Manim animation based on a topic,\n",
    "    and output it as a YAML list. Each item represents a self-contained animatable step.\n",
    "    \n",
    "    The prompt ensures:\n",
    "      - The first item is a title slide explicitly labeled as \"Title Slide\".\n",
    "      - Each step is focused, independent, and suitable for 2D Manim animations.\n",
    "    \"\"\"\n",
    "    prompt = f\"\"\"\n",
    "Create a structured YAML list for a 2D Manim animation on the topic: **\"{topic_text}\"**.\n",
    "\n",
    "- The **first item** must be a **title slide** labeled as: **\"Title Slide: {topic_text}\"**.\n",
    "- Each following item should describe **one self-contained animation step**.\n",
    "- Steps must be **clear, independent**, and **suitable for 2D animations only** (no 3D elements).\n",
    "- Avoid vague descriptions and ensure each step **can be animated on its own**.\n",
    "- **Important:** Ensure that any colons (:) in the YAML output are properly escaped or enclosed in quotes to avoid parsing errors.\n",
    "\n",
    "Return only a **valid YAML list** without extra formatting or explanations.\n",
    "\"\"\"\n",
    "    response = llm.invoke(prompt)\n",
    "    outline_yaml = response.content.strip()\n",
    "    \n",
    "    # Remove YAML code fences if present.\n",
    "    if outline_yaml.startswith(\"```yaml\"):\n",
    "        outline_yaml = outline_yaml.split(\"```yaml\", 1)[1]\n",
    "    if outline_yaml.endswith(\"```\"):\n",
    "        outline_yaml = outline_yaml.rsplit(\"```\", 1)[0]\n",
    "    \n",
    "    try:\n",
    "        outline = yaml.safe_load(outline_yaml)\n",
    "        if not isinstance(outline, list):\n",
    "            raise ValueError(\"Outline is not a list\")\n",
    "    except Exception as e:\n",
    "        raise ValueError(f\"Failed to parse YAML outline: {e}\")\n",
    "    \n",
    "    # Save the outline to a YAML file for interpretation.\n",
    "    with open(\"animation_outline.yaml\", \"w\", encoding=\"utf-8\") as f:\n",
    "        yaml.dump(outline, f)\n",
    "    \n",
    "    print(\"✅ YAML Outline saved to animation_outline.yaml\")\n",
    "    return outline\n"
   ]
  },
  {
   "cell_type": "code",
   "execution_count": 5,
   "id": "7cbd3ed8",
   "metadata": {},
   "outputs": [],
   "source": [
    "##############################################\n",
    "# 2. Generate Manim Code for a Single Module  #\n",
    "##############################################\n",
    "\n",
    "def generate_manim_code_for_step(step_description: str) -> str:\n",
    "    \"\"\"\n",
    "    Generate a self-contained Manim Python script for a single step.\n",
    "    The output is raw Python code (no markdown fences or extra commentary).\n",
    "    \"\"\"\n",
    "    prompt = f\"\"\"\n",
    "You are an expert in Manim. Given the step description below,\n",
    "produce a valid, self-contained, and runnable Manim Python script that implements this step.\n",
    "Provide only the Python code (do not wrap your answer in markdown code fences or include extra commentary).\n",
    "\n",
    "Step Description:\n",
    "{step_description}\n",
    "\n",
    "Your response should contain only the executable Python code.\n",
    "\"\"\"\n",
    "    response = llm.invoke(prompt)\n",
    "    code = response.content.strip()\n",
    "    if code.startswith(\"```python\"):\n",
    "        code = code.split(\"```python\", 1)[1]\n",
    "    if code.endswith(\"```\"):\n",
    "        code = code.rsplit(\"```\", 1)[0]\n",
    "    return code.strip()"
   ]
  },
  {
   "cell_type": "code",
   "execution_count": 6,
   "id": "7422115a",
   "metadata": {},
   "outputs": [],
   "source": [
    "\n",
    "##############################################\n",
    "# 3. Iterative Debugging for a Manim Script    #\n",
    "##############################################\n",
    "\n",
    "def iterative_debug(code: str, full_error: str, max_attempts: int = 3) -> str:\n",
    "    \"\"\"\n",
    "    Iteratively ask the LLM for a corrected version of the code based on the full error traceback.\n",
    "    \"\"\"\n",
    "    current_code = code\n",
    "    for attempt in range(1, max_attempts + 1):\n",
    "        print(f\"Full error traceback:\\n{full_error}\\n\")\n",
    "        prompt = f\"\"\"\n",
    "Aim:\n",
    "Fix the Manim code so that it runs correctly and generates the intended animation.\n",
    "\n",
    "Current Code:\n",
    "{current_code}\n",
    "\n",
    "Full Error Traceback:\n",
    "{full_error}\n",
    "        \n",
    "Please provide a corrected version of the above code that fixes the error.\n",
    "Output only the raw Python code (no markdown or additional commentary).\n",
    "\"\"\"\n",
    "        response = llm.invoke(prompt, max_tokens=1500)\n",
    "        corrected_code = response.content.strip()\n",
    "        if corrected_code.startswith(\"```python\"):\n",
    "            corrected_code = corrected_code.split(\"```python\", 1)[1]\n",
    "        if corrected_code.endswith(\"```\"):\n",
    "            corrected_code = corrected_code.rsplit(\"```\", 1)[0]\n",
    "        current_code = corrected_code.strip()\n",
    "        print(f\"\\nAttempt {attempt}: Updated Code\\n{'-'*40}\\n{current_code}\\n{'-'*40}\\n\")\n",
    "    return current_code\n"
   ]
  },
  {
   "cell_type": "code",
   "execution_count": 7,
   "id": "3b32196a-8aa9-480f-ad98-7312aaf143be",
   "metadata": {},
   "outputs": [],
   "source": [
    "\n",
    "##############################################\n",
    "# 4. Run a Manim Script                        #\n",
    "##############################################\n",
    "\n",
    "def run_manim_script(manim_code: str, output_filename: str) -> Path:\n",
    "    \"\"\"\n",
    "    Write the Manim code to a temporary file, run it via subprocess,\n",
    "    and then copy the generated video from the default Manim output directory\n",
    "    to our designated VIDEO_DIR.\n",
    "    \n",
    "    Returns the new path to the copied video file.\n",
    "    \"\"\"\n",
    "    temp_script_path = TEMP_DIR / \"temp_manim_script.py\"\n",
    "    with open(temp_script_path, \"w\", encoding=\"utf-8\") as f:\n",
    "        f.write(manim_code)\n",
    "    \n",
    "    cmd = [\n",
    "        sys.executable,\n",
    "        \"-m\", \"manim\",\n",
    "        str(temp_script_path),\n",
    "        \"-qm\",\n",
    "        \"-o\", output_filename\n",
    "    ]\n",
    "    try:\n",
    "        subprocess.run(cmd, check=True)\n",
    "        print(f\"✅ Manim animation generated with base name: {output_filename}\")\n",
    "    except subprocess.CalledProcessError as e:\n",
    "        raise Exception(f\"Manim failed: {e}\")\n",
    "    \n",
    "    # Construct expected path using glob search.\n",
    "    pattern = str(MANIM_MEDIA_DIR / f\"*{output_filename}\")\n",
    "    matching_files = glob.glob(pattern)\n",
    "    if not matching_files:\n",
    "        raise FileNotFoundError(f\"Could not find generated video matching {pattern}\")\n",
    "    \n",
    "    generated_video = Path(matching_files[0])\n",
    "    dest_video = VIDEO_DIR / generated_video.name\n",
    "    shutil.copy(generated_video, dest_video)\n",
    "    print(f\"✅ Copied video to: {dest_video}\")\n",
    "    return dest_video"
   ]
  },
  {
   "cell_type": "code",
   "execution_count": 8,
   "id": "d79708b7-9a72-481d-a46d-5880976e33c7",
   "metadata": {},
   "outputs": [],
   "source": [
    "##############################################\n",
    "# 5. Generate Dialogue for a Step             #\n",
    "##############################################\n",
    "\n",
    "def generate_dialogue_for_step(step_description: str) -> str:\n",
    "    \"\"\"\n",
    "    Generate a short narration line (1-2 sentences) for the step.\n",
    "    Do not include any timestamps; provide only the voiceover text.\n",
    "    \"\"\"\n",
    "    prompt = f\"\"\"\n",
    "You are an expert in educational narration. Given the following step description,\n",
    "provide a short narration line (1-2 sentences) for the step.\n",
    "Do not include any timestamps or extraneous labels; just provide the voiceover text.\n",
    "\n",
    "Step Description:\n",
    "{step_description}\n",
    "\"\"\"\n",
    "    response = llm.invoke(prompt)\n",
    "    dialogue_line = response.content.strip()\n",
    "    return dialogue_line\n"
   ]
  },
  {
   "cell_type": "code",
   "execution_count": 9,
   "id": "e1afa72f",
   "metadata": {},
   "outputs": [],
   "source": [
    "##############################################\n",
    "# 6. Text-to-Speech Conversion (TTS)           #\n",
    "##############################################\n",
    "\n",
    "from gtts import gTTS\n",
    "\n",
    "def text_to_speech(text: str, output_audio: Path):\n",
    "    \"\"\"\n",
    "    Convert the provided text to speech using gTTS and save as an MP3 file.\n",
    "    \"\"\"\n",
    "    tts = gTTS(text=text, lang=\"en\")\n",
    "    tts.save(str(output_audio))\n",
    "    print(f\"Generated TTS audio saved to: {output_audio}\")"
   ]
  },
  {
   "cell_type": "code",
   "execution_count": 10,
   "id": "2d19603e",
   "metadata": {},
   "outputs": [],
   "source": [
    "import ffmpeg\n",
    "import cv2\n",
    "import numpy as np\n",
    "from pathlib import Path\n",
    "\n",
    "def get_duration(filepath: Path) -> float:\n",
    "    \"\"\"\n",
    "    Returns the duration of a media file in seconds using ffmpeg.probe.\n",
    "    \"\"\"\n",
    "    probe = ffmpeg.probe(str(filepath))\n",
    "    return float(probe[\"format\"][\"duration\"])\n",
    "\n",
    "def is_last_frame_black(video_path: Path, threshold: float = 10) -> bool:\n",
    "    \"\"\"\n",
    "    Checks if the last frame of the video is completely black.\n",
    "    Uses OpenCV to grab the last frame and computes its average brightness.\n",
    "    If the average brightness is below the threshold, we consider it black.\n",
    "    \"\"\"\n",
    "    cap = cv2.VideoCapture(str(video_path))\n",
    "    total_frames = int(cap.get(cv2.CAP_PROP_FRAME_COUNT))\n",
    "    if total_frames == 0:\n",
    "        cap.release()\n",
    "        return False\n",
    "    # Move to the last frame\n",
    "    cap.set(cv2.CAP_PROP_POS_FRAMES, total_frames - 1)\n",
    "    ret, frame = cap.read()\n",
    "    cap.release()\n",
    "    if not ret or frame is None:\n",
    "        return False\n",
    "    # Compute average brightness (in grayscale, brightness near 0 is black)\n",
    "    avg_brightness = np.mean(frame)\n",
    "    return avg_brightness < threshold\n",
    "\n",
    "def combine_audio_and_video(video_path: Path, audio_path: Path, final_output_filename: str) -> Path:\n",
    "    \"\"\"\n",
    "    Combines video and audio so that:\n",
    "      - If the video is longer than the audio, the audio is padded with silence.\n",
    "      - If the audio is longer than the video, the video is extended by freezing its last frame.\n",
    "    \n",
    "    Additionally, if the video’s last frame is completely black, then when the audio is longer,\n",
    "    we trim (or extend) the video to exactly match the audio duration (thus “expanding” the final black frame).\n",
    "    \n",
    "    This function uses ffmpeg-python so no raw command line calls are made.\n",
    "    \"\"\"\n",
    "    final_output = Path(\"outputs/final\") / final_output_filename\n",
    "    \n",
    "    # Determine durations.\n",
    "    video_duration = get_duration(video_path)\n",
    "    audio_duration = get_duration(audio_path)\n",
    "    \n",
    "    # Check if the last frame is completely black.\n",
    "    last_frame_black = is_last_frame_black(video_path)\n",
    "    \n",
    "    # Create input streams.\n",
    "    video_in = ffmpeg.input(str(video_path))\n",
    "    audio_in = ffmpeg.input(str(audio_path))\n",
    "    \n",
    "    # Choose filters based on durations and the content of the last frame.\n",
    "    if audio_duration > video_duration:\n",
    "        # Audio is longer than video → extend video.\n",
    "        pad_duration = audio_duration - video_duration\n",
    "        # Use tpad to extend the video by cloning the last frame.\n",
    "        video_filtered = video_in.video.filter('tpad', stop_mode='clone', stop_duration=pad_duration)\n",
    "        # No filter needed on audio.\n",
    "        audio_filtered = audio_in.audio\n",
    "    elif video_duration > audio_duration:\n",
    "        if last_frame_black:\n",
    "            # Video is longer than audio but the last frame is black.\n",
    "            # In this case, trim the video to the audio duration (i.e. “expand” the final black frame\n",
    "            # over the entire audio duration) rather than padding the audio with silence.\n",
    "            video_filtered = video_in.video.filter('trim', duration=audio_duration).filter('setpts', 'PTS-STARTPTS')\n",
    "            audio_filtered = audio_in.audio\n",
    "        else:\n",
    "            # Video is longer than audio and the last frame is not black,\n",
    "            # so pad the audio with silence (apad) to match the video length.\n",
    "            pad_duration = video_duration - audio_duration\n",
    "            video_filtered = video_in.video\n",
    "            audio_filtered = audio_in.audio.filter('apad', pad_dur=pad_duration)\n",
    "    else:\n",
    "        # Durations are equal.\n",
    "        video_filtered = video_in.video\n",
    "        audio_filtered = audio_in.audio\n",
    "\n",
    "    # Build the output; re-encode video with libx264 and audio with AAC.\n",
    "    out = ffmpeg.output(video_filtered, audio_filtered, str(final_output),\n",
    "                        vcodec='libx264', acodec='aac', strict='experimental')\n",
    "    \n",
    "    # Run the process quietly.\n",
    "    ffmpeg.run(out, quiet=True)\n",
    "    \n",
    "    return final_output\n"
   ]
  },
  {
   "cell_type": "code",
   "execution_count": 11,
   "id": "f7ca2571",
   "metadata": {},
   "outputs": [],
   "source": [
    "##############################################\n",
    "# 8. Concatenate Multiple Video Clips         #\n",
    "##############################################\n",
    "\n",
    "def concatenate_videos(video_files: List[str], final_output: str):\n",
    "    \"\"\"\n",
    "    Concatenate multiple video files into one final video using ffmpeg.\n",
    "    \"\"\"\n",
    "    list_filename = \"videos_to_concat.txt\"\n",
    "    with open(list_filename, \"w\", encoding=\"utf-8\") as f:\n",
    "        for vf in video_files:\n",
    "            f.write(f\"file '{os.path.abspath(vf)}'\\n\")\n",
    "    cmd = [\n",
    "        \"ffmpeg\", \"-y\",\n",
    "        \"-f\", \"concat\",\n",
    "        \"-safe\", \"0\",\n",
    "        \"-i\", list_filename,\n",
    "        \"-c\", \"copy\",\n",
    "        final_output\n",
    "    ]\n",
    "    subprocess.run(cmd, check=True)\n",
    "    print(f\"✅ Final video created: {final_output}\")\n"
   ]
  },
  {
   "cell_type": "code",
   "execution_count": 12,
   "id": "fa11b165-c41b-4130-a8ff-db1c26aa5919",
   "metadata": {},
   "outputs": [],
   "source": [
    "##############################################\n",
    "# 9. Full Animation Pipeline (Step-by-Step)     #\n",
    "##############################################\n",
    "\n",
    "def generate_animation_pipeline(topic_text: str):\n",
    "    \"\"\"\n",
    "    Complete pipeline:\n",
    "      1. Generate a YAML outline for the topic.\n",
    "      2. For each step in the outline:\n",
    "         a. Generate Manim code and run it to produce a video clip.\n",
    "         b. Generate a narration line for the step.\n",
    "         c. Convert the narration to speech.\n",
    "         d. Combine the video and the audio.\n",
    "      3. Concatenate all the step videos into one final video.\n",
    "    \n",
    "    If any step fails, it logs a warning and skips that segment.\n",
    "    \"\"\"\n",
    "    outline = generate_yaml_outline(topic_text)\n",
    "    step_video_files = []\n",
    "    \n",
    "    for idx, step in enumerate(outline, start=1):\n",
    "        print(f\"\\n========== Processing Step {idx}: {step} ==========\\n\")\n",
    "        try:\n",
    "            # Define filenames.\n",
    "            step_video_filename = f\"step_{idx}.mp4\"\n",
    "            step_audio_filename = f\"step_{idx}.mp3\"\n",
    "            step_final_filename = f\"step_{idx}_final.mp4\"\n",
    "            \n",
    "            # Step 2a: Generate Manim code and run it.\n",
    "            manim_code = generate_manim_code_for_step(step)\n",
    "            video_path = run_manim_script(manim_code, output_filename=step_video_filename)\n",
    "            \n",
    "            # Step 2b: Generate narration.\n",
    "            dialogue_line = generate_dialogue_for_step(step)\n",
    "            print(f\"Generated dialogue: {dialogue_line}\")\n",
    "            \n",
    "            # Step 2c: Convert dialogue to speech.\n",
    "            audio_path = AUDIO_DIR / step_audio_filename\n",
    "            text_to_speech(dialogue_line, output_audio=audio_path)\n",
    "            \n",
    "            # Step 2d: Combine video and audio.\n",
    "            final_video_path = combine_audio_and_video(video_path, audio_path, final_output_filename=step_final_filename)\n",
    "            step_video_files.append(str(final_video_path))\n",
    "            \n",
    "        except Exception as e:\n",
    "            print(f\"Warning: Step {idx} failed ({str(e)}). Skipping this segment.\")\n",
    "            continue\n",
    "\n",
    "    if step_video_files:\n",
    "        final_video = \"final_animation_video.mp4\"\n",
    "        concatenate_videos(step_video_files, final_output=final_video)\n",
    "        print(\"\\n=== Animation Pipeline Complete! ===\\n\")\n",
    "    else:\n",
    "        print(\"No valid segments were created. Pipeline finished with no output.\")"
   ]
  },
  {
   "cell_type": "code",
   "execution_count": 13,
   "id": "cd0c5b6e-3a20-4f7b-a98b-7161937e0df3",
   "metadata": {},
   "outputs": [
    {
     "name": "stdout",
     "output_type": "stream",
     "text": [
      "✅ YAML Outline saved to animation_outline.yaml\n",
      "\n",
      "========== Processing Step 1: Title Slide: Pythagorean Theorem Definition, Formula, and How It Works. ==========\n",
      "\n"
     ]
    },
    {
     "name": "stderr",
     "output_type": "stream",
     "text": [
      "<frozen runpy>:128: RuntimeWarning: 'manim.__main__' found in sys.modules after import of package 'manim', but prior to execution of 'manim.__main__'; this may result in unpredictable behaviour\n"
     ]
    },
    {
     "name": "stdout",
     "output_type": "stream",
     "text": [
      "Manim Community \u001b[32mv0.\u001b[0m\u001b[32m19.0\u001b[0m\n",
      "\n"
     ]
    },
    {
     "name": "stderr",
     "output_type": "stream",
     "text": [
      "                                                                                                                                                                                                                                                                                                          \r"
     ]
    },
    {
     "name": "stdout",
     "output_type": "stream",
     "text": [
      "\u001b[2;36m[03/20/25 11:44:15]\u001b[0m\u001b[2;36m \u001b[0m\u001b[32mINFO    \u001b[0m Animation \u001b[32m0\u001b[0m : Partial movie file written in \u001b[32m'/home/siva/llm_proj/EduVision/notebooks/media/videos/temp_manim_\u001b[0m\u001b[1;33mscript\u001b[0m\u001b[32m/720p30/partial_movie_files/PythagoreanTheoremTitleSlide/2016333726_3704264090_223132457.mp4'\u001b[0m                                      \u001b]8;id=738430;file:///home/siva/anaconda3/envs/edu/lib/python3.13/site-packages/manim/scene/scene_file_writer.py\u001b\\\u001b[2mscene_file_writer.py\u001b[0m\u001b]8;;\u001b\\\u001b[2m:\u001b[0m\u001b]8;id=477355;file:///home/siva/anaconda3/envs/edu/lib/python3.13/site-packages/manim/scene/scene_file_writer.py#588\u001b\\\u001b[2m588\u001b[0m\u001b]8;;\u001b\\\n"
     ]
    },
    {
     "name": "stderr",
     "output_type": "stream",
     "text": [
      "                                                                                                                                                                                                                                                                                                          \r"
     ]
    },
    {
     "name": "stdout",
     "output_type": "stream",
     "text": [
      "\u001b[2;36m[03/20/25 11:44:16]\u001b[0m\u001b[2;36m \u001b[0m\u001b[32mINFO    \u001b[0m Animation \u001b[32m1\u001b[0m : Partial movie file written in \u001b[32m'/home/siva/llm_proj/EduVision/notebooks/media/videos/temp_manim_\u001b[0m\u001b[1;33mscript\u001b[0m\u001b[32m/720p30/partial_movie_files/PythagoreanTheoremTitleSlide/543634251_2766220452_2983986657.mp4'\u001b[0m                                      \u001b]8;id=948971;file:///home/siva/anaconda3/envs/edu/lib/python3.13/site-packages/manim/scene/scene_file_writer.py\u001b\\\u001b[2mscene_file_writer.py\u001b[0m\u001b]8;;\u001b\\\u001b[2m:\u001b[0m\u001b]8;id=78714;file:///home/siva/anaconda3/envs/edu/lib/python3.13/site-packages/manim/scene/scene_file_writer.py#588\u001b\\\u001b[2m588\u001b[0m\u001b]8;;\u001b\\\n",
      "\u001b[2;36m[03/20/25 11:44:17]\u001b[0m\u001b[2;36m \u001b[0m\u001b[32mINFO    \u001b[0m Animation \u001b[32m2\u001b[0m : Partial movie file written in \u001b[32m'/home/siva/llm_proj/EduVision/notebooks/media/videos/temp_manim_\u001b[0m\u001b[1;33mscript\u001b[0m\u001b[32m/720p30/partial_movie_files/PythagoreanTheoremTitleSlide/543634251_2408024828_3870190898.mp4'\u001b[0m                                      \u001b]8;id=196175;file:///home/siva/anaconda3/envs/edu/lib/python3.13/site-packages/manim/scene/scene_file_writer.py\u001b\\\u001b[2mscene_file_writer.py\u001b[0m\u001b]8;;\u001b\\\u001b[2m:\u001b[0m\u001b]8;id=745289;file:///home/siva/anaconda3/envs/edu/lib/python3.13/site-packages/manim/scene/scene_file_writer.py#588\u001b\\\u001b[2m588\u001b[0m\u001b]8;;\u001b\\\n",
      "\u001b[2;36m                   \u001b[0m\u001b[2;36m \u001b[0m\u001b[32mINFO    \u001b[0m Combining to Movie file.                                                                                                                                                                                                                              \u001b]8;id=676978;file:///home/siva/anaconda3/envs/edu/lib/python3.13/site-packages/manim/scene/scene_file_writer.py\u001b\\\u001b[2mscene_file_writer.py\u001b[0m\u001b]8;;\u001b\\\u001b[2m:\u001b[0m\u001b]8;id=437975;file:///home/siva/anaconda3/envs/edu/lib/python3.13/site-packages/manim/scene/scene_file_writer.py#739\u001b\\\u001b[2m739\u001b[0m\u001b]8;;\u001b\\\n",
      "\u001b[2;36m                   \u001b[0m\u001b[2;36m \u001b[0m\u001b[32mINFO    \u001b[0m                                                                                                                                                                                                                                                       \u001b]8;id=120768;file:///home/siva/anaconda3/envs/edu/lib/python3.13/site-packages/manim/scene/scene_file_writer.py\u001b\\\u001b[2mscene_file_writer.py\u001b[0m\u001b]8;;\u001b\\\u001b[2m:\u001b[0m\u001b]8;id=851966;file:///home/siva/anaconda3/envs/edu/lib/python3.13/site-packages/manim/scene/scene_file_writer.py#886\u001b\\\u001b[2m886\u001b[0m\u001b]8;;\u001b\\\n",
      "\u001b[2;36m                    \u001b[0m         \u001b[1;33mFile\u001b[0m ready at \u001b[32m'/home/siva/llm_proj/EduVision/notebooks/media/videos/temp_manim_\u001b[0m\u001b[1;33mscript\u001b[0m\u001b[32m/720p30/step_1.mp4'\u001b[0m                                                                                                                                              \u001b[2m                        \u001b[0m\n",
      "\u001b[2;36m                    \u001b[0m                                                                                                                                                                                                                                                               \u001b[2m                        \u001b[0m\n",
      "\u001b[2;36m                   \u001b[0m\u001b[2;36m \u001b[0m\u001b[32mINFO    \u001b[0m \u001b[1;33mRendered\u001b[0m PythagoreanTheoremTitleSlide                                                                                                                                                                                                                             \u001b]8;id=315329;file:///home/siva/anaconda3/envs/edu/lib/python3.13/site-packages/manim/scene/scene.py\u001b\\\u001b[2mscene.py\u001b[0m\u001b]8;;\u001b\\\u001b[2m:\u001b[0m\u001b]8;id=484567;file:///home/siva/anaconda3/envs/edu/lib/python3.13/site-packages/manim/scene/scene.py#255\u001b\\\u001b[2m255\u001b[0m\u001b]8;;\u001b\\\n",
      "\u001b[2;36m                    \u001b[0m         \u001b[1;33mPlayed\u001b[0m \u001b[32m3\u001b[0m \u001b[1;33manimations\u001b[0m                                                                                                                                                                                                                                               \u001b[2m            \u001b[0m\n",
      "✅ Manim animation generated with base name: step_1.mp4\n",
      "✅ Copied video to: outputs/videos/step_1.mp4\n",
      "Generated dialogue: Welcome to our exploration of the Pythagorean Theorem, where we'll uncover its definition, formula, and the fascinating way it works.\n",
      "Generated TTS audio saved to: outputs/audio/step_1.mp3\n",
      "\n",
      "========== Processing Step 2: {'step': {'description': \"Display a right-angled triangle with sides labeled as 'a', 'b', and 'c'.\"}} ==========\n",
      "\n"
     ]
    },
    {
     "name": "stderr",
     "output_type": "stream",
     "text": [
      "<frozen runpy>:128: RuntimeWarning: 'manim.__main__' found in sys.modules after import of package 'manim', but prior to execution of 'manim.__main__'; this may result in unpredictable behaviour\n"
     ]
    },
    {
     "name": "stdout",
     "output_type": "stream",
     "text": [
      "Manim Community \u001b[32mv0.\u001b[0m\u001b[32m19.0\u001b[0m\n",
      "\n",
      "\u001b[2;36m[03/20/25 11:44:23]\u001b[0m\u001b[2;36m \u001b[0m\u001b[32mINFO    \u001b[0m \u001b[1;33mWriting\u001b[0m a to media/Tex/8bb2a9c5ac9d5a80.tex                                                                                                                                                                                                            \u001b]8;id=917733;file:///home/siva/anaconda3/envs/edu/lib/python3.13/site-packages/manim/utils/tex_file_writing.py\u001b\\\u001b[2mtex_file_writing.py\u001b[0m\u001b]8;;\u001b\\\u001b[2m:\u001b[0m\u001b]8;id=217991;file:///home/siva/anaconda3/envs/edu/lib/python3.13/site-packages/manim/utils/tex_file_writing.py#111\u001b\\\u001b[2m111\u001b[0m\u001b]8;;\u001b\\\n",
      "\u001b[2;36m                   \u001b[0m\u001b[2;36m \u001b[0m\u001b[32mINFO    \u001b[0m \u001b[1;33mWriting\u001b[0m b to media/Tex/54d4a631621012a2.tex                                                                                                                                                                                                            \u001b]8;id=527856;file:///home/siva/anaconda3/envs/edu/lib/python3.13/site-packages/manim/utils/tex_file_writing.py\u001b\\\u001b[2mtex_file_writing.py\u001b[0m\u001b]8;;\u001b\\\u001b[2m:\u001b[0m\u001b]8;id=325292;file:///home/siva/anaconda3/envs/edu/lib/python3.13/site-packages/manim/utils/tex_file_writing.py#111\u001b\\\u001b[2m111\u001b[0m\u001b]8;;\u001b\\\n",
      "\u001b[2;36m                   \u001b[0m\u001b[2;36m \u001b[0m\u001b[32mINFO    \u001b[0m \u001b[1;33mWriting\u001b[0m c to media/Tex/40d611f661d7621b.tex                                                                                                                                                                                                            \u001b]8;id=337031;file:///home/siva/anaconda3/envs/edu/lib/python3.13/site-packages/manim/utils/tex_file_writing.py\u001b\\\u001b[2mtex_file_writing.py\u001b[0m\u001b]8;;\u001b\\\u001b[2m:\u001b[0m\u001b]8;id=441235;file:///home/siva/anaconda3/envs/edu/lib/python3.13/site-packages/manim/utils/tex_file_writing.py#111\u001b\\\u001b[2m111\u001b[0m\u001b]8;;\u001b\\\n",
      "\u001b[2;36m                   \u001b[0m\u001b[2;36m \u001b[0m\u001b[32mINFO    \u001b[0m                                                                                                                                                                                                                                                       \u001b]8;id=121927;file:///home/siva/anaconda3/envs/edu/lib/python3.13/site-packages/manim/scene/scene_file_writer.py\u001b\\\u001b[2mscene_file_writer.py\u001b[0m\u001b]8;;\u001b\\\u001b[2m:\u001b[0m\u001b]8;id=505205;file:///home/siva/anaconda3/envs/edu/lib/python3.13/site-packages/manim/scene/scene_file_writer.py#886\u001b\\\u001b[2m886\u001b[0m\u001b]8;;\u001b\\\n",
      "\u001b[2;36m                    \u001b[0m         \u001b[1;33mFile\u001b[0m ready at \u001b[32m'/home/siva/llm_proj/EduVision/notebooks/media/images/temp_manim_\u001b[0m\u001b[1;33mscript\u001b[0m\u001b[32m/step_2.mp4.png'\u001b[0m                                                                                                                                                 \u001b[2m                        \u001b[0m\n",
      "\u001b[2;36m                    \u001b[0m                                                                                                                                                                                                                                                               \u001b[2m                        \u001b[0m\n",
      "\u001b[2;36m                   \u001b[0m\u001b[2;36m \u001b[0m\u001b[32mINFO    \u001b[0m \u001b[1;33mRendered\u001b[0m RightAngledTriangle                                                                                                                                                                                                                                      \u001b]8;id=390055;file:///home/siva/anaconda3/envs/edu/lib/python3.13/site-packages/manim/scene/scene.py\u001b\\\u001b[2mscene.py\u001b[0m\u001b]8;;\u001b\\\u001b[2m:\u001b[0m\u001b]8;id=345316;file:///home/siva/anaconda3/envs/edu/lib/python3.13/site-packages/manim/scene/scene.py#255\u001b\\\u001b[2m255\u001b[0m\u001b]8;;\u001b\\\n",
      "\u001b[2;36m                    \u001b[0m         \u001b[1;33mPlayed\u001b[0m \u001b[32m0\u001b[0m \u001b[1;33manimations\u001b[0m                                                                                                                                                                                                                                               \u001b[2m            \u001b[0m\n",
      "✅ Manim animation generated with base name: step_2.mp4\n",
      "Warning: Step 2 failed (Could not find generated video matching media/videos/temp_manim_script/720p30/*step_2.mp4). Skipping this segment.\n",
      "\n",
      "========== Processing Step 3: {'step': {'description': 'Highlight the right angle in the triangle with a small square.'}} ==========\n",
      "\n"
     ]
    },
    {
     "name": "stderr",
     "output_type": "stream",
     "text": [
      "<frozen runpy>:128: RuntimeWarning: 'manim.__main__' found in sys.modules after import of package 'manim', but prior to execution of 'manim.__main__'; this may result in unpredictable behaviour\n"
     ]
    },
    {
     "name": "stdout",
     "output_type": "stream",
     "text": [
      "Manim Community \u001b[32mv0.\u001b[0m\u001b[32m19.0\u001b[0m\n",
      "\n",
      "\u001b[2;36m[03/20/25 11:44:27]\u001b[0m\u001b[2;36m \u001b[0m\u001b[32mINFO    \u001b[0m                                                                                                                                                                                                                                                       \u001b]8;id=797297;file:///home/siva/anaconda3/envs/edu/lib/python3.13/site-packages/manim/scene/scene_file_writer.py\u001b\\\u001b[2mscene_file_writer.py\u001b[0m\u001b]8;;\u001b\\\u001b[2m:\u001b[0m\u001b]8;id=760254;file:///home/siva/anaconda3/envs/edu/lib/python3.13/site-packages/manim/scene/scene_file_writer.py#886\u001b\\\u001b[2m886\u001b[0m\u001b]8;;\u001b\\\n",
      "\u001b[2;36m                    \u001b[0m         \u001b[1;33mFile\u001b[0m ready at \u001b[32m'/home/siva/llm_proj/EduVision/notebooks/media/images/temp_manim_\u001b[0m\u001b[1;33mscript\u001b[0m\u001b[32m/step_3.mp4.png'\u001b[0m                                                                                                                                                 \u001b[2m                        \u001b[0m\n",
      "\u001b[2;36m                    \u001b[0m                                                                                                                                                                                                                                                               \u001b[2m                        \u001b[0m\n",
      "\u001b[2;36m                   \u001b[0m\u001b[2;36m \u001b[0m\u001b[32mINFO    \u001b[0m \u001b[1;33mRendered\u001b[0m HighlightRightAngle                                                                                                                                                                                                                                      \u001b]8;id=93129;file:///home/siva/anaconda3/envs/edu/lib/python3.13/site-packages/manim/scene/scene.py\u001b\\\u001b[2mscene.py\u001b[0m\u001b]8;;\u001b\\\u001b[2m:\u001b[0m\u001b]8;id=366243;file:///home/siva/anaconda3/envs/edu/lib/python3.13/site-packages/manim/scene/scene.py#255\u001b\\\u001b[2m255\u001b[0m\u001b]8;;\u001b\\\n",
      "\u001b[2;36m                    \u001b[0m         \u001b[1;33mPlayed\u001b[0m \u001b[32m0\u001b[0m \u001b[1;33manimations\u001b[0m                                                                                                                                                                                                                                               \u001b[2m            \u001b[0m\n",
      "✅ Manim animation generated with base name: step_3.mp4\n",
      "Warning: Step 3 failed (Could not find generated video matching media/videos/temp_manim_script/720p30/*step_3.mp4). Skipping this segment.\n",
      "\n",
      "========== Processing Step 4: {'step': {'description': \"Show the formula 'a^2 + b^2 = c^2' next to the triangle.\"}} ==========\n",
      "\n"
     ]
    },
    {
     "name": "stderr",
     "output_type": "stream",
     "text": [
      "<frozen runpy>:128: RuntimeWarning: 'manim.__main__' found in sys.modules after import of package 'manim', but prior to execution of 'manim.__main__'; this may result in unpredictable behaviour\n"
     ]
    },
    {
     "name": "stdout",
     "output_type": "stream",
     "text": [
      "Manim Community \u001b[32mv0.\u001b[0m\u001b[32m19.0\u001b[0m\n",
      "\n",
      "\u001b[2;36m[03/20/25 11:44:31]\u001b[0m\u001b[2;36m \u001b[0m\u001b[32mINFO    \u001b[0m \u001b[1;33mWriting\u001b[0m a^\u001b[32m2\u001b[0m + b^\u001b[32m2\u001b[0m = c^\u001b[32m2\u001b[0m to media/Tex/e4be163a00cf424f.tex                                                                                                                                                                                              \u001b]8;id=370906;file:///home/siva/anaconda3/envs/edu/lib/python3.13/site-packages/manim/utils/tex_file_writing.py\u001b\\\u001b[2mtex_file_writing.py\u001b[0m\u001b]8;;\u001b\\\u001b[2m:\u001b[0m\u001b]8;id=733348;file:///home/siva/anaconda3/envs/edu/lib/python3.13/site-packages/manim/utils/tex_file_writing.py#111\u001b\\\u001b[2m111\u001b[0m\u001b]8;;\u001b\\\n"
     ]
    },
    {
     "name": "stderr",
     "output_type": "stream",
     "text": [
      "                                                                                                                                                                                                                                                                                                          \r"
     ]
    },
    {
     "name": "stdout",
     "output_type": "stream",
     "text": [
      "\u001b[2;36m[03/20/25 11:44:32]\u001b[0m\u001b[2;36m \u001b[0m\u001b[32mINFO    \u001b[0m Animation \u001b[32m0\u001b[0m : Partial movie file written in \u001b[32m'/home/siva/llm_proj/EduVision/notebooks/media/videos/temp_manim_\u001b[0m\u001b[1;33mscript\u001b[0m\u001b[32m/720p30/partial_movie_files/PythagoreanTheorem/2016333726_280468025_223132457.mp4'\u001b[0m                                                 \u001b]8;id=48502;file:///home/siva/anaconda3/envs/edu/lib/python3.13/site-packages/manim/scene/scene_file_writer.py\u001b\\\u001b[2mscene_file_writer.py\u001b[0m\u001b]8;;\u001b\\\u001b[2m:\u001b[0m\u001b]8;id=309288;file:///home/siva/anaconda3/envs/edu/lib/python3.13/site-packages/manim/scene/scene_file_writer.py#588\u001b\\\u001b[2m588\u001b[0m\u001b]8;;\u001b\\\n"
     ]
    },
    {
     "name": "stderr",
     "output_type": "stream",
     "text": [
      "                                                                                                                                                                                                                                                                                                          \r"
     ]
    },
    {
     "name": "stdout",
     "output_type": "stream",
     "text": [
      "\u001b[2;36m                   \u001b[0m\u001b[2;36m \u001b[0m\u001b[32mINFO    \u001b[0m Animation \u001b[32m1\u001b[0m : Partial movie file written in \u001b[32m'/home/siva/llm_proj/EduVision/notebooks/media/videos/temp_manim_\u001b[0m\u001b[1;33mscript\u001b[0m\u001b[32m/720p30/partial_movie_files/PythagoreanTheorem/543634251_2546370348_19094537.mp4'\u001b[0m                                                  \u001b]8;id=510469;file:///home/siva/anaconda3/envs/edu/lib/python3.13/site-packages/manim/scene/scene_file_writer.py\u001b\\\u001b[2mscene_file_writer.py\u001b[0m\u001b]8;;\u001b\\\u001b[2m:\u001b[0m\u001b]8;id=223022;file:///home/siva/anaconda3/envs/edu/lib/python3.13/site-packages/manim/scene/scene_file_writer.py#588\u001b\\\u001b[2m588\u001b[0m\u001b]8;;\u001b\\\n",
      "\u001b[2;36m[03/20/25 11:44:33]\u001b[0m\u001b[2;36m \u001b[0m\u001b[32mINFO    \u001b[0m Animation \u001b[32m2\u001b[0m : Partial movie file written in \u001b[32m'/home/siva/llm_proj/EduVision/notebooks/media/videos/temp_manim_\u001b[0m\u001b[1;33mscript\u001b[0m\u001b[32m/720p30/partial_movie_files/PythagoreanTheorem/543634251_2408024828_2654236478.mp4'\u001b[0m                                                \u001b]8;id=283060;file:///home/siva/anaconda3/envs/edu/lib/python3.13/site-packages/manim/scene/scene_file_writer.py\u001b\\\u001b[2mscene_file_writer.py\u001b[0m\u001b]8;;\u001b\\\u001b[2m:\u001b[0m\u001b]8;id=468455;file:///home/siva/anaconda3/envs/edu/lib/python3.13/site-packages/manim/scene/scene_file_writer.py#588\u001b\\\u001b[2m588\u001b[0m\u001b]8;;\u001b\\\n",
      "\u001b[2;36m                   \u001b[0m\u001b[2;36m \u001b[0m\u001b[32mINFO    \u001b[0m Combining to Movie file.                                                                                                                                                                                                                              \u001b]8;id=691390;file:///home/siva/anaconda3/envs/edu/lib/python3.13/site-packages/manim/scene/scene_file_writer.py\u001b\\\u001b[2mscene_file_writer.py\u001b[0m\u001b]8;;\u001b\\\u001b[2m:\u001b[0m\u001b]8;id=105300;file:///home/siva/anaconda3/envs/edu/lib/python3.13/site-packages/manim/scene/scene_file_writer.py#739\u001b\\\u001b[2m739\u001b[0m\u001b]8;;\u001b\\\n",
      "\u001b[2;36m                   \u001b[0m\u001b[2;36m \u001b[0m\u001b[32mINFO    \u001b[0m                                                                                                                                                                                                                                                       \u001b]8;id=389700;file:///home/siva/anaconda3/envs/edu/lib/python3.13/site-packages/manim/scene/scene_file_writer.py\u001b\\\u001b[2mscene_file_writer.py\u001b[0m\u001b]8;;\u001b\\\u001b[2m:\u001b[0m\u001b]8;id=673536;file:///home/siva/anaconda3/envs/edu/lib/python3.13/site-packages/manim/scene/scene_file_writer.py#886\u001b\\\u001b[2m886\u001b[0m\u001b]8;;\u001b\\\n",
      "\u001b[2;36m                    \u001b[0m         \u001b[1;33mFile\u001b[0m ready at \u001b[32m'/home/siva/llm_proj/EduVision/notebooks/media/videos/temp_manim_\u001b[0m\u001b[1;33mscript\u001b[0m\u001b[32m/720p30/step_4.mp4'\u001b[0m                                                                                                                                              \u001b[2m                        \u001b[0m\n",
      "\u001b[2;36m                    \u001b[0m                                                                                                                                                                                                                                                               \u001b[2m                        \u001b[0m\n",
      "\u001b[2;36m                   \u001b[0m\u001b[2;36m \u001b[0m\u001b[32mINFO    \u001b[0m \u001b[1;33mRendered\u001b[0m PythagoreanTheorem                                                                                                                                                                                                                                       \u001b]8;id=387164;file:///home/siva/anaconda3/envs/edu/lib/python3.13/site-packages/manim/scene/scene.py\u001b\\\u001b[2mscene.py\u001b[0m\u001b]8;;\u001b\\\u001b[2m:\u001b[0m\u001b]8;id=119042;file:///home/siva/anaconda3/envs/edu/lib/python3.13/site-packages/manim/scene/scene.py#255\u001b\\\u001b[2m255\u001b[0m\u001b]8;;\u001b\\\n",
      "\u001b[2;36m                    \u001b[0m         \u001b[1;33mPlayed\u001b[0m \u001b[32m3\u001b[0m \u001b[1;33manimations\u001b[0m                                                                                                                                                                                                                                               \u001b[2m            \u001b[0m\n",
      "✅ Manim animation generated with base name: step_4.mp4\n",
      "✅ Copied video to: outputs/videos/step_4.mp4\n",
      "Generated dialogue: Here we see the Pythagorean theorem, represented by the formula \\(a^2 + b^2 = c^2\\), alongside the right triangle.\n",
      "Generated TTS audio saved to: outputs/audio/step_4.mp3\n",
      "\n",
      "========== Processing Step 5: {'step': {'description': \"Animate the squares on each side of the triangle, with areas 'a^2', 'b^2', and 'c^2'.\"}} ==========\n",
      "\n"
     ]
    },
    {
     "name": "stderr",
     "output_type": "stream",
     "text": [
      "<frozen runpy>:128: RuntimeWarning: 'manim.__main__' found in sys.modules after import of package 'manim', but prior to execution of 'manim.__main__'; this may result in unpredictable behaviour\n"
     ]
    },
    {
     "name": "stdout",
     "output_type": "stream",
     "text": [
      "Manim Community \u001b[32mv0.\u001b[0m\u001b[32m19.0\u001b[0m\n",
      "\n",
      "\u001b[2;36m[03/20/25 11:44:41]\u001b[0m\u001b[2;36m \u001b[0m\u001b[32mINFO    \u001b[0m \u001b[1;33mWriting\u001b[0m a^\u001b[32m2\u001b[0m to media/Tex/4cd880482a26144d.tex                                                                                                                                                                                                          \u001b]8;id=170137;file:///home/siva/anaconda3/envs/edu/lib/python3.13/site-packages/manim/utils/tex_file_writing.py\u001b\\\u001b[2mtex_file_writing.py\u001b[0m\u001b]8;;\u001b\\\u001b[2m:\u001b[0m\u001b]8;id=832703;file:///home/siva/anaconda3/envs/edu/lib/python3.13/site-packages/manim/utils/tex_file_writing.py#111\u001b\\\u001b[2m111\u001b[0m\u001b]8;;\u001b\\\n",
      "\u001b[2;36m                   \u001b[0m\u001b[2;36m \u001b[0m\u001b[32mINFO    \u001b[0m \u001b[1;33mWriting\u001b[0m b^\u001b[32m2\u001b[0m to media/Tex/252a52111768029a.tex                                                                                                                                                                                                          \u001b]8;id=612630;file:///home/siva/anaconda3/envs/edu/lib/python3.13/site-packages/manim/utils/tex_file_writing.py\u001b\\\u001b[2mtex_file_writing.py\u001b[0m\u001b]8;;\u001b\\\u001b[2m:\u001b[0m\u001b]8;id=563644;file:///home/siva/anaconda3/envs/edu/lib/python3.13/site-packages/manim/utils/tex_file_writing.py#111\u001b\\\u001b[2m111\u001b[0m\u001b]8;;\u001b\\\n",
      "\u001b[2;36m                   \u001b[0m\u001b[2;36m \u001b[0m\u001b[32mINFO    \u001b[0m \u001b[1;33mWriting\u001b[0m c^\u001b[32m2\u001b[0m to media/Tex/e2b185d5b7067717.tex                                                                                                                                                                                                          \u001b]8;id=702876;file:///home/siva/anaconda3/envs/edu/lib/python3.13/site-packages/manim/utils/tex_file_writing.py\u001b\\\u001b[2mtex_file_writing.py\u001b[0m\u001b]8;;\u001b\\\u001b[2m:\u001b[0m\u001b]8;id=439836;file:///home/siva/anaconda3/envs/edu/lib/python3.13/site-packages/manim/utils/tex_file_writing.py#111\u001b\\\u001b[2m111\u001b[0m\u001b]8;;\u001b\\\n"
     ]
    },
    {
     "name": "stderr",
     "output_type": "stream",
     "text": [
      "                                                                                                                                                                                                                                                                                                          \r"
     ]
    },
    {
     "name": "stdout",
     "output_type": "stream",
     "text": [
      "\u001b[2;36m[03/20/25 11:44:42]\u001b[0m\u001b[2;36m \u001b[0m\u001b[32mINFO    \u001b[0m Animation \u001b[32m0\u001b[0m : Partial movie file written in \u001b[32m'/home/siva/llm_proj/EduVision/notebooks/media/videos/temp_manim_\u001b[0m\u001b[1;33mscript\u001b[0m\u001b[32m/720p30/partial_movie_files/PythagoreanTheorem/2016333726_229371997_223132457.mp4'\u001b[0m                                                 \u001b]8;id=975341;file:///home/siva/anaconda3/envs/edu/lib/python3.13/site-packages/manim/scene/scene_file_writer.py\u001b\\\u001b[2mscene_file_writer.py\u001b[0m\u001b]8;;\u001b\\\u001b[2m:\u001b[0m\u001b]8;id=467683;file:///home/siva/anaconda3/envs/edu/lib/python3.13/site-packages/manim/scene/scene_file_writer.py#588\u001b\\\u001b[2m588\u001b[0m\u001b]8;;\u001b\\\n"
     ]
    },
    {
     "name": "stderr",
     "output_type": "stream",
     "text": [
      "                                                                                                                                                                                                                                                                                                          \r"
     ]
    },
    {
     "name": "stdout",
     "output_type": "stream",
     "text": [
      "\u001b[2;36m                   \u001b[0m\u001b[2;36m \u001b[0m\u001b[32mINFO    \u001b[0m Animation \u001b[32m1\u001b[0m : Partial movie file written in \u001b[32m'/home/siva/llm_proj/EduVision/notebooks/media/videos/temp_manim_\u001b[0m\u001b[1;33mscript\u001b[0m\u001b[32m/720p30/partial_movie_files/PythagoreanTheorem/543634251_1453834619_3342111764.mp4'\u001b[0m                                                \u001b]8;id=546770;file:///home/siva/anaconda3/envs/edu/lib/python3.13/site-packages/manim/scene/scene_file_writer.py\u001b\\\u001b[2mscene_file_writer.py\u001b[0m\u001b]8;;\u001b\\\u001b[2m:\u001b[0m\u001b]8;id=837195;file:///home/siva/anaconda3/envs/edu/lib/python3.13/site-packages/manim/scene/scene_file_writer.py#588\u001b\\\u001b[2m588\u001b[0m\u001b]8;;\u001b\\\n"
     ]
    },
    {
     "name": "stderr",
     "output_type": "stream",
     "text": [
      "                                                                                                                                                                                                                                                                                                          \r"
     ]
    },
    {
     "name": "stdout",
     "output_type": "stream",
     "text": [
      "\u001b[2;36m[03/20/25 11:44:43]\u001b[0m\u001b[2;36m \u001b[0m\u001b[32mINFO    \u001b[0m Animation \u001b[32m2\u001b[0m : Partial movie file written in \u001b[32m'/home/siva/llm_proj/EduVision/notebooks/media/videos/temp_manim_\u001b[0m\u001b[1;33mscript\u001b[0m\u001b[32m/720p30/partial_movie_files/PythagoreanTheorem/543634251_80613763_430190673.mp4'\u001b[0m                                                   \u001b]8;id=929688;file:///home/siva/anaconda3/envs/edu/lib/python3.13/site-packages/manim/scene/scene_file_writer.py\u001b\\\u001b[2mscene_file_writer.py\u001b[0m\u001b]8;;\u001b\\\u001b[2m:\u001b[0m\u001b]8;id=929146;file:///home/siva/anaconda3/envs/edu/lib/python3.13/site-packages/manim/scene/scene_file_writer.py#588\u001b\\\u001b[2m588\u001b[0m\u001b]8;;\u001b\\\n"
     ]
    },
    {
     "name": "stderr",
     "output_type": "stream",
     "text": [
      "                                                                                                                                                                                                                                                                                                          \r"
     ]
    },
    {
     "name": "stdout",
     "output_type": "stream",
     "text": [
      "\u001b[2;36m                   \u001b[0m\u001b[2;36m \u001b[0m\u001b[32mINFO    \u001b[0m Animation \u001b[32m3\u001b[0m : Partial movie file written in \u001b[32m'/home/siva/llm_proj/EduVision/notebooks/media/videos/temp_manim_\u001b[0m\u001b[1;33mscript\u001b[0m\u001b[32m/720p30/partial_movie_files/PythagoreanTheorem/543634251_1922572315_3965046703.mp4'\u001b[0m                                                \u001b]8;id=81689;file:///home/siva/anaconda3/envs/edu/lib/python3.13/site-packages/manim/scene/scene_file_writer.py\u001b\\\u001b[2mscene_file_writer.py\u001b[0m\u001b]8;;\u001b\\\u001b[2m:\u001b[0m\u001b]8;id=386231;file:///home/siva/anaconda3/envs/edu/lib/python3.13/site-packages/manim/scene/scene_file_writer.py#588\u001b\\\u001b[2m588\u001b[0m\u001b]8;;\u001b\\\n",
      "\u001b[2;36m[03/20/25 11:44:44]\u001b[0m\u001b[2;36m \u001b[0m\u001b[32mINFO    \u001b[0m Animation \u001b[32m4\u001b[0m : Partial movie file written in \u001b[32m'/home/siva/llm_proj/EduVision/notebooks/media/videos/temp_manim_\u001b[0m\u001b[1;33mscript\u001b[0m\u001b[32m/720p30/partial_movie_files/PythagoreanTheorem/543634251_2408024828_2397692803.mp4'\u001b[0m                                                \u001b]8;id=994245;file:///home/siva/anaconda3/envs/edu/lib/python3.13/site-packages/manim/scene/scene_file_writer.py\u001b\\\u001b[2mscene_file_writer.py\u001b[0m\u001b]8;;\u001b\\\u001b[2m:\u001b[0m\u001b]8;id=770018;file:///home/siva/anaconda3/envs/edu/lib/python3.13/site-packages/manim/scene/scene_file_writer.py#588\u001b\\\u001b[2m588\u001b[0m\u001b]8;;\u001b\\\n",
      "\u001b[2;36m                   \u001b[0m\u001b[2;36m \u001b[0m\u001b[32mINFO    \u001b[0m Combining to Movie file.                                                                                                                                                                                                                              \u001b]8;id=501931;file:///home/siva/anaconda3/envs/edu/lib/python3.13/site-packages/manim/scene/scene_file_writer.py\u001b\\\u001b[2mscene_file_writer.py\u001b[0m\u001b]8;;\u001b\\\u001b[2m:\u001b[0m\u001b]8;id=98820;file:///home/siva/anaconda3/envs/edu/lib/python3.13/site-packages/manim/scene/scene_file_writer.py#739\u001b\\\u001b[2m739\u001b[0m\u001b]8;;\u001b\\\n",
      "\u001b[2;36m                   \u001b[0m\u001b[2;36m \u001b[0m\u001b[32mINFO    \u001b[0m                                                                                                                                                                                                                                                       \u001b]8;id=173068;file:///home/siva/anaconda3/envs/edu/lib/python3.13/site-packages/manim/scene/scene_file_writer.py\u001b\\\u001b[2mscene_file_writer.py\u001b[0m\u001b]8;;\u001b\\\u001b[2m:\u001b[0m\u001b]8;id=380964;file:///home/siva/anaconda3/envs/edu/lib/python3.13/site-packages/manim/scene/scene_file_writer.py#886\u001b\\\u001b[2m886\u001b[0m\u001b]8;;\u001b\\\n",
      "\u001b[2;36m                    \u001b[0m         \u001b[1;33mFile\u001b[0m ready at \u001b[32m'/home/siva/llm_proj/EduVision/notebooks/media/videos/temp_manim_\u001b[0m\u001b[1;33mscript\u001b[0m\u001b[32m/720p30/step_5.mp4'\u001b[0m                                                                                                                                              \u001b[2m                        \u001b[0m\n",
      "\u001b[2;36m                    \u001b[0m                                                                                                                                                                                                                                                               \u001b[2m                        \u001b[0m\n",
      "\u001b[2;36m                   \u001b[0m\u001b[2;36m \u001b[0m\u001b[32mINFO    \u001b[0m \u001b[1;33mRendered\u001b[0m PythagoreanTheorem                                                                                                                                                                                                                                       \u001b]8;id=50159;file:///home/siva/anaconda3/envs/edu/lib/python3.13/site-packages/manim/scene/scene.py\u001b\\\u001b[2mscene.py\u001b[0m\u001b]8;;\u001b\\\u001b[2m:\u001b[0m\u001b]8;id=323891;file:///home/siva/anaconda3/envs/edu/lib/python3.13/site-packages/manim/scene/scene.py#255\u001b\\\u001b[2m255\u001b[0m\u001b]8;;\u001b\\\n",
      "\u001b[2;36m                    \u001b[0m         \u001b[1;33mPlayed\u001b[0m \u001b[32m5\u001b[0m \u001b[1;33manimations\u001b[0m                                                                                                                                                                                                                                               \u001b[2m            \u001b[0m\n",
      "✅ Manim animation generated with base name: step_5.mp4\n",
      "✅ Copied video to: outputs/videos/step_5.mp4\n",
      "Generated dialogue: Watch as the squares on each side of the triangle come to life, illustrating the areas 'a^2', 'b^2', and 'c^2'.\n",
      "Generated TTS audio saved to: outputs/audio/step_5.mp3\n",
      "\n",
      "========== Processing Step 6: {'step': {'description': 'Fill the squares with color to visually represent their areas.'}} ==========\n",
      "\n"
     ]
    },
    {
     "name": "stderr",
     "output_type": "stream",
     "text": [
      "<frozen runpy>:128: RuntimeWarning: 'manim.__main__' found in sys.modules after import of package 'manim', but prior to execution of 'manim.__main__'; this may result in unpredictable behaviour\n"
     ]
    },
    {
     "name": "stdout",
     "output_type": "stream",
     "text": [
      "Manim Community \u001b[32mv0.\u001b[0m\u001b[32m19.0\u001b[0m\n",
      "\n",
      "\u001b[2;36m[03/20/25 11:44:49]\u001b[0m\u001b[2;36m \u001b[0m\u001b[32mINFO    \u001b[0m                                                                                                                                                                                                                                                       \u001b]8;id=732267;file:///home/siva/anaconda3/envs/edu/lib/python3.13/site-packages/manim/scene/scene_file_writer.py\u001b\\\u001b[2mscene_file_writer.py\u001b[0m\u001b]8;;\u001b\\\u001b[2m:\u001b[0m\u001b]8;id=570712;file:///home/siva/anaconda3/envs/edu/lib/python3.13/site-packages/manim/scene/scene_file_writer.py#886\u001b\\\u001b[2m886\u001b[0m\u001b]8;;\u001b\\\n",
      "\u001b[2;36m                    \u001b[0m         \u001b[1;33mFile\u001b[0m ready at \u001b[32m'/home/siva/llm_proj/EduVision/notebooks/media/images/temp_manim_\u001b[0m\u001b[1;33mscript\u001b[0m\u001b[32m/step_6.mp4.png'\u001b[0m                                                                                                                                                 \u001b[2m                        \u001b[0m\n",
      "\u001b[2;36m                    \u001b[0m                                                                                                                                                                                                                                                               \u001b[2m                        \u001b[0m\n",
      "\u001b[2;36m                   \u001b[0m\u001b[2;36m \u001b[0m\u001b[32mINFO    \u001b[0m \u001b[1;33mRendered\u001b[0m FillSquaresWithColor                                                                                                                                                                                                                                     \u001b]8;id=731332;file:///home/siva/anaconda3/envs/edu/lib/python3.13/site-packages/manim/scene/scene.py\u001b\\\u001b[2mscene.py\u001b[0m\u001b]8;;\u001b\\\u001b[2m:\u001b[0m\u001b]8;id=731620;file:///home/siva/anaconda3/envs/edu/lib/python3.13/site-packages/manim/scene/scene.py#255\u001b\\\u001b[2m255\u001b[0m\u001b]8;;\u001b\\\n",
      "\u001b[2;36m                    \u001b[0m         \u001b[1;33mPlayed\u001b[0m \u001b[32m0\u001b[0m \u001b[1;33manimations\u001b[0m                                                                                                                                                                                                                                               \u001b[2m            \u001b[0m\n",
      "✅ Manim animation generated with base name: step_6.mp4\n",
      "Warning: Step 6 failed (Could not find generated video matching media/videos/temp_manim_script/720p30/*step_6.mp4). Skipping this segment.\n",
      "\n",
      "========== Processing Step 7: {'step': {'description': \"Demonstrate the addition of areas 'a^2' and 'b^2' by moving them to form 'c^2'.\"}} ==========\n",
      "\n"
     ]
    },
    {
     "name": "stderr",
     "output_type": "stream",
     "text": [
      "<frozen runpy>:128: RuntimeWarning: 'manim.__main__' found in sys.modules after import of package 'manim', but prior to execution of 'manim.__main__'; this may result in unpredictable behaviour\n",
      "                                                                                                                                                                                                                                                                                                          \r"
     ]
    },
    {
     "name": "stdout",
     "output_type": "stream",
     "text": [
      "Manim Community \u001b[32mv0.\u001b[0m\u001b[32m19.0\u001b[0m\n",
      "\n",
      "\u001b[2;36m[03/20/25 11:44:55]\u001b[0m\u001b[2;36m \u001b[0m\u001b[32mINFO    \u001b[0m Animation \u001b[32m0\u001b[0m : Partial movie file written in \u001b[32m'/home/siva/llm_proj/EduVision/notebooks/media/videos/temp_manim_\u001b[0m\u001b[1;33mscript\u001b[0m\u001b[32m/720p30/partial_movie_files/PythagoreanTheorem/2016333726_3282160772_223132457.mp4'\u001b[0m                                                \u001b]8;id=127286;file:///home/siva/anaconda3/envs/edu/lib/python3.13/site-packages/manim/scene/scene_file_writer.py\u001b\\\u001b[2mscene_file_writer.py\u001b[0m\u001b]8;;\u001b\\\u001b[2m:\u001b[0m\u001b]8;id=90433;file:///home/siva/anaconda3/envs/edu/lib/python3.13/site-packages/manim/scene/scene_file_writer.py#588\u001b\\\u001b[2m588\u001b[0m\u001b]8;;\u001b\\\n"
     ]
    },
    {
     "name": "stderr",
     "output_type": "stream",
     "text": [
      "                                                                                                                                                                                                                                                                                                          \r"
     ]
    },
    {
     "name": "stdout",
     "output_type": "stream",
     "text": [
      "\u001b[2;36m                   \u001b[0m\u001b[2;36m \u001b[0m\u001b[32mINFO    \u001b[0m Animation \u001b[32m1\u001b[0m : Partial movie file written in \u001b[32m'/home/siva/llm_proj/EduVision/notebooks/media/videos/temp_manim_\u001b[0m\u001b[1;33mscript\u001b[0m\u001b[32m/720p30/partial_movie_files/PythagoreanTheorem/543634251_3550971947_1823368732.mp4'\u001b[0m                                                \u001b]8;id=654395;file:///home/siva/anaconda3/envs/edu/lib/python3.13/site-packages/manim/scene/scene_file_writer.py\u001b\\\u001b[2mscene_file_writer.py\u001b[0m\u001b]8;;\u001b\\\u001b[2m:\u001b[0m\u001b]8;id=807265;file:///home/siva/anaconda3/envs/edu/lib/python3.13/site-packages/manim/scene/scene_file_writer.py#588\u001b\\\u001b[2m588\u001b[0m\u001b]8;;\u001b\\\n"
     ]
    },
    {
     "name": "stderr",
     "output_type": "stream",
     "text": [
      "                                                                                                                                                                                                                                                                                                          \r"
     ]
    },
    {
     "name": "stdout",
     "output_type": "stream",
     "text": [
      "\u001b[2;36m[03/20/25 11:44:56]\u001b[0m\u001b[2;36m \u001b[0m\u001b[32mINFO    \u001b[0m Animation \u001b[32m2\u001b[0m : Partial movie file written in \u001b[32m'/home/siva/llm_proj/EduVision/notebooks/media/videos/temp_manim_\u001b[0m\u001b[1;33mscript\u001b[0m\u001b[32m/720p30/partial_movie_files/PythagoreanTheorem/543634251_42644641_319510211.mp4'\u001b[0m                                                   \u001b]8;id=454424;file:///home/siva/anaconda3/envs/edu/lib/python3.13/site-packages/manim/scene/scene_file_writer.py\u001b\\\u001b[2mscene_file_writer.py\u001b[0m\u001b]8;;\u001b\\\u001b[2m:\u001b[0m\u001b]8;id=710543;file:///home/siva/anaconda3/envs/edu/lib/python3.13/site-packages/manim/scene/scene_file_writer.py#588\u001b\\\u001b[2m588\u001b[0m\u001b]8;;\u001b\\\n"
     ]
    },
    {
     "name": "stderr",
     "output_type": "stream",
     "text": [
      "                                                                                                                                                                                                                                                                                                          \r"
     ]
    },
    {
     "name": "stdout",
     "output_type": "stream",
     "text": [
      "\u001b[2;36m[03/20/25 11:44:57]\u001b[0m\u001b[2;36m \u001b[0m\u001b[32mINFO    \u001b[0m Animation \u001b[32m3\u001b[0m : Partial movie file written in \u001b[32m'/home/siva/llm_proj/EduVision/notebooks/media/videos/temp_manim_\u001b[0m\u001b[1;33mscript\u001b[0m\u001b[32m/720p30/partial_movie_files/PythagoreanTheorem/543634251_1561876768_1618229251.mp4'\u001b[0m                                                \u001b]8;id=886151;file:///home/siva/anaconda3/envs/edu/lib/python3.13/site-packages/manim/scene/scene_file_writer.py\u001b\\\u001b[2mscene_file_writer.py\u001b[0m\u001b]8;;\u001b\\\u001b[2m:\u001b[0m\u001b]8;id=532006;file:///home/siva/anaconda3/envs/edu/lib/python3.13/site-packages/manim/scene/scene_file_writer.py#588\u001b\\\u001b[2m588\u001b[0m\u001b]8;;\u001b\\\n"
     ]
    },
    {
     "name": "stderr",
     "output_type": "stream",
     "text": [
      "                                                                                                                                                                                                                                                                                                          \r"
     ]
    },
    {
     "name": "stdout",
     "output_type": "stream",
     "text": [
      "\u001b[2;36m                   \u001b[0m\u001b[2;36m \u001b[0m\u001b[32mINFO    \u001b[0m Animation \u001b[32m4\u001b[0m : Partial movie file written in \u001b[32m'/home/siva/llm_proj/EduVision/notebooks/media/videos/temp_manim_\u001b[0m\u001b[1;33mscript\u001b[0m\u001b[32m/720p30/partial_movie_files/PythagoreanTheorem/543634251_3266338685_3696328128.mp4'\u001b[0m                                                \u001b]8;id=968631;file:///home/siva/anaconda3/envs/edu/lib/python3.13/site-packages/manim/scene/scene_file_writer.py\u001b\\\u001b[2mscene_file_writer.py\u001b[0m\u001b]8;;\u001b\\\u001b[2m:\u001b[0m\u001b]8;id=616646;file:///home/siva/anaconda3/envs/edu/lib/python3.13/site-packages/manim/scene/scene_file_writer.py#588\u001b\\\u001b[2m588\u001b[0m\u001b]8;;\u001b\\\n",
      "\u001b[2;36m                   \u001b[0m\u001b[2;36m \u001b[0m\u001b[32mINFO    \u001b[0m Combining to Movie file.                                                                                                                                                                                                                              \u001b]8;id=408760;file:///home/siva/anaconda3/envs/edu/lib/python3.13/site-packages/manim/scene/scene_file_writer.py\u001b\\\u001b[2mscene_file_writer.py\u001b[0m\u001b]8;;\u001b\\\u001b[2m:\u001b[0m\u001b]8;id=809229;file:///home/siva/anaconda3/envs/edu/lib/python3.13/site-packages/manim/scene/scene_file_writer.py#739\u001b\\\u001b[2m739\u001b[0m\u001b]8;;\u001b\\\n",
      "\u001b[2;36m                   \u001b[0m\u001b[2;36m \u001b[0m\u001b[32mINFO    \u001b[0m                                                                                                                                                                                                                                                       \u001b]8;id=687251;file:///home/siva/anaconda3/envs/edu/lib/python3.13/site-packages/manim/scene/scene_file_writer.py\u001b\\\u001b[2mscene_file_writer.py\u001b[0m\u001b]8;;\u001b\\\u001b[2m:\u001b[0m\u001b]8;id=922968;file:///home/siva/anaconda3/envs/edu/lib/python3.13/site-packages/manim/scene/scene_file_writer.py#886\u001b\\\u001b[2m886\u001b[0m\u001b]8;;\u001b\\\n",
      "\u001b[2;36m                    \u001b[0m         \u001b[1;33mFile\u001b[0m ready at \u001b[32m'/home/siva/llm_proj/EduVision/notebooks/media/videos/temp_manim_\u001b[0m\u001b[1;33mscript\u001b[0m\u001b[32m/720p30/step_7.mp4'\u001b[0m                                                                                                                                              \u001b[2m                        \u001b[0m\n",
      "\u001b[2;36m                    \u001b[0m                                                                                                                                                                                                                                                               \u001b[2m                        \u001b[0m\n",
      "\u001b[2;36m                   \u001b[0m\u001b[2;36m \u001b[0m\u001b[32mINFO    \u001b[0m \u001b[1;33mRendered\u001b[0m PythagoreanTheorem                                                                                                                                                                                                                                       \u001b]8;id=256479;file:///home/siva/anaconda3/envs/edu/lib/python3.13/site-packages/manim/scene/scene.py\u001b\\\u001b[2mscene.py\u001b[0m\u001b]8;;\u001b\\\u001b[2m:\u001b[0m\u001b]8;id=121166;file:///home/siva/anaconda3/envs/edu/lib/python3.13/site-packages/manim/scene/scene.py#255\u001b\\\u001b[2m255\u001b[0m\u001b]8;;\u001b\\\n",
      "\u001b[2;36m                    \u001b[0m         \u001b[1;33mPlayed\u001b[0m \u001b[32m5\u001b[0m \u001b[1;33manimations\u001b[0m                                                                                                                                                                                                                                               \u001b[2m            \u001b[0m\n",
      "✅ Manim animation generated with base name: step_7.mp4\n",
      "✅ Copied video to: outputs/videos/step_7.mp4\n",
      "Generated dialogue: Watch as we rearrange the areas of 'a^2' and 'b^2' to perfectly form the area of 'c^2'.\n",
      "Generated TTS audio saved to: outputs/audio/step_7.mp3\n",
      "\n",
      "========== Processing Step 8: {'step': {'description': \"Show a text box explaining: 'The sum of the squares of the two shorter sides equals the square of the hypotenuse.'\"}} ==========\n",
      "\n"
     ]
    },
    {
     "name": "stderr",
     "output_type": "stream",
     "text": [
      "<frozen runpy>:128: RuntimeWarning: 'manim.__main__' found in sys.modules after import of package 'manim', but prior to execution of 'manim.__main__'; this may result in unpredictable behaviour\n"
     ]
    },
    {
     "name": "stdout",
     "output_type": "stream",
     "text": [
      "Manim Community \u001b[32mv0.\u001b[0m\u001b[32m19.0\u001b[0m\n",
      "\n"
     ]
    },
    {
     "name": "stderr",
     "output_type": "stream",
     "text": [
      "                                                                                                                                                                                                                                                                                                          \r"
     ]
    },
    {
     "name": "stdout",
     "output_type": "stream",
     "text": [
      "\u001b[2;36m[03/20/25 11:45:05]\u001b[0m\u001b[2;36m \u001b[0m\u001b[32mINFO    \u001b[0m Animation \u001b[32m0\u001b[0m : Partial movie file written in \u001b[32m'/home/siva/llm_proj/EduVision/notebooks/media/videos/temp_manim_\u001b[0m\u001b[1;33mscript\u001b[0m\u001b[32m/720p30/partial_movie_files/PythagoreanTheoremExplanation/2016333726_251383109_223132457.mp4'\u001b[0m                                      \u001b]8;id=715934;file:///home/siva/anaconda3/envs/edu/lib/python3.13/site-packages/manim/scene/scene_file_writer.py\u001b\\\u001b[2mscene_file_writer.py\u001b[0m\u001b]8;;\u001b\\\u001b[2m:\u001b[0m\u001b]8;id=190076;file:///home/siva/anaconda3/envs/edu/lib/python3.13/site-packages/manim/scene/scene_file_writer.py#588\u001b\\\u001b[2m588\u001b[0m\u001b]8;;\u001b\\\n",
      "\u001b[2;36m                   \u001b[0m\u001b[2;36m \u001b[0m\u001b[32mINFO    \u001b[0m Animation \u001b[32m1\u001b[0m : Partial movie file written in \u001b[32m'/home/siva/llm_proj/EduVision/notebooks/media/videos/temp_manim_\u001b[0m\u001b[1;33mscript\u001b[0m\u001b[32m/720p30/partial_movie_files/PythagoreanTheoremExplanation/543634251_2408024828_3476076812.mp4'\u001b[0m                                     \u001b]8;id=675910;file:///home/siva/anaconda3/envs/edu/lib/python3.13/site-packages/manim/scene/scene_file_writer.py\u001b\\\u001b[2mscene_file_writer.py\u001b[0m\u001b]8;;\u001b\\\u001b[2m:\u001b[0m\u001b]8;id=978899;file:///home/siva/anaconda3/envs/edu/lib/python3.13/site-packages/manim/scene/scene_file_writer.py#588\u001b\\\u001b[2m588\u001b[0m\u001b]8;;\u001b\\\n",
      "\u001b[2;36m                   \u001b[0m\u001b[2;36m \u001b[0m\u001b[32mINFO    \u001b[0m Combining to Movie file.                                                                                                                                                                                                                              \u001b]8;id=778832;file:///home/siva/anaconda3/envs/edu/lib/python3.13/site-packages/manim/scene/scene_file_writer.py\u001b\\\u001b[2mscene_file_writer.py\u001b[0m\u001b]8;;\u001b\\\u001b[2m:\u001b[0m\u001b]8;id=446115;file:///home/siva/anaconda3/envs/edu/lib/python3.13/site-packages/manim/scene/scene_file_writer.py#739\u001b\\\u001b[2m739\u001b[0m\u001b]8;;\u001b\\\n",
      "\u001b[2;36m                   \u001b[0m\u001b[2;36m \u001b[0m\u001b[32mINFO    \u001b[0m                                                                                                                                                                                                                                                       \u001b]8;id=660776;file:///home/siva/anaconda3/envs/edu/lib/python3.13/site-packages/manim/scene/scene_file_writer.py\u001b\\\u001b[2mscene_file_writer.py\u001b[0m\u001b]8;;\u001b\\\u001b[2m:\u001b[0m\u001b]8;id=544851;file:///home/siva/anaconda3/envs/edu/lib/python3.13/site-packages/manim/scene/scene_file_writer.py#886\u001b\\\u001b[2m886\u001b[0m\u001b]8;;\u001b\\\n",
      "\u001b[2;36m                    \u001b[0m         \u001b[1;33mFile\u001b[0m ready at \u001b[32m'/home/siva/llm_proj/EduVision/notebooks/media/videos/temp_manim_\u001b[0m\u001b[1;33mscript\u001b[0m\u001b[32m/720p30/step_8.mp4'\u001b[0m                                                                                                                                              \u001b[2m                        \u001b[0m\n",
      "\u001b[2;36m                    \u001b[0m                                                                                                                                                                                                                                                               \u001b[2m                        \u001b[0m\n",
      "\u001b[2;36m                   \u001b[0m\u001b[2;36m \u001b[0m\u001b[32mINFO    \u001b[0m \u001b[1;33mRendered\u001b[0m PythagoreanTheoremExplanation                                                                                                                                                                                                                            \u001b]8;id=862324;file:///home/siva/anaconda3/envs/edu/lib/python3.13/site-packages/manim/scene/scene.py\u001b\\\u001b[2mscene.py\u001b[0m\u001b]8;;\u001b\\\u001b[2m:\u001b[0m\u001b]8;id=157858;file:///home/siva/anaconda3/envs/edu/lib/python3.13/site-packages/manim/scene/scene.py#255\u001b\\\u001b[2m255\u001b[0m\u001b]8;;\u001b\\\n",
      "\u001b[2;36m                    \u001b[0m         \u001b[1;33mPlayed\u001b[0m \u001b[32m2\u001b[0m \u001b[1;33manimations\u001b[0m                                                                                                                                                                                                                                               \u001b[2m            \u001b[0m\n",
      "✅ Manim animation generated with base name: step_8.mp4\n",
      "✅ Copied video to: outputs/videos/step_8.mp4\n",
      "Generated dialogue: This text box illustrates the Pythagorean theorem, stating that the sum of the squares of the two shorter sides of a right triangle is equal to the square of the hypotenuse.\n",
      "Generated TTS audio saved to: outputs/audio/step_8.mp3\n",
      "\n",
      "========== Processing Step 9: {'step': {'description': 'Animate a transition from the triangle to a real-world example, such as a ladder against a wall.'}} ==========\n",
      "\n"
     ]
    },
    {
     "name": "stderr",
     "output_type": "stream",
     "text": [
      "<frozen runpy>:128: RuntimeWarning: 'manim.__main__' found in sys.modules after import of package 'manim', but prior to execution of 'manim.__main__'; this may result in unpredictable behaviour\n"
     ]
    },
    {
     "name": "stdout",
     "output_type": "stream",
     "text": [
      "Manim Community \u001b[32mv0.\u001b[0m\u001b[32m19.0\u001b[0m\n",
      "\n",
      "\u001b[2;36m[03/20/25 11:45:14]\u001b[0m\u001b[2;36m \u001b[0m\u001b[32mINFO    \u001b[0m \u001b[1;33mWriting\u001b[0m \\text\u001b[1m{\u001b[0mTriangle\u001b[1m}\u001b[0m to media/Tex/e174a3cd401f3ba4.tex                                                                                                                                                                                              \u001b]8;id=258898;file:///home/siva/anaconda3/envs/edu/lib/python3.13/site-packages/manim/utils/tex_file_writing.py\u001b\\\u001b[2mtex_file_writing.py\u001b[0m\u001b]8;;\u001b\\\u001b[2m:\u001b[0m\u001b]8;id=76152;file:///home/siva/anaconda3/envs/edu/lib/python3.13/site-packages/manim/utils/tex_file_writing.py#111\u001b\\\u001b[2m111\u001b[0m\u001b]8;;\u001b\\\n",
      "\u001b[2;36m                   \u001b[0m\u001b[2;36m \u001b[0m\u001b[32mINFO    \u001b[0m \u001b[1;33mWriting\u001b[0m \\text\u001b[1m{\u001b[0mLadder\u001b[1m}\u001b[0m to media/Tex/6d45320f764d7007.tex                                                                                                                                                                                                \u001b]8;id=396624;file:///home/siva/anaconda3/envs/edu/lib/python3.13/site-packages/manim/utils/tex_file_writing.py\u001b\\\u001b[2mtex_file_writing.py\u001b[0m\u001b]8;;\u001b\\\u001b[2m:\u001b[0m\u001b]8;id=997103;file:///home/siva/anaconda3/envs/edu/lib/python3.13/site-packages/manim/utils/tex_file_writing.py#111\u001b\\\u001b[2m111\u001b[0m\u001b]8;;\u001b\\\n"
     ]
    },
    {
     "name": "stderr",
     "output_type": "stream",
     "text": [
      "                                                                                                                                                                                                                                                                                                          \r"
     ]
    },
    {
     "name": "stdout",
     "output_type": "stream",
     "text": [
      "\u001b[2;36m[03/20/25 11:45:15]\u001b[0m\u001b[2;36m \u001b[0m\u001b[32mINFO    \u001b[0m Animation \u001b[32m0\u001b[0m : Partial movie file written in \u001b[32m'/home/siva/llm_proj/EduVision/notebooks/media/videos/temp_manim_\u001b[0m\u001b[1;33mscript\u001b[0m\u001b[32m/720p30/partial_movie_files/TriangleToLadder/2016333726_38847152_223132457.mp4'\u001b[0m                                                    \u001b]8;id=245796;file:///home/siva/anaconda3/envs/edu/lib/python3.13/site-packages/manim/scene/scene_file_writer.py\u001b\\\u001b[2mscene_file_writer.py\u001b[0m\u001b]8;;\u001b\\\u001b[2m:\u001b[0m\u001b]8;id=523150;file:///home/siva/anaconda3/envs/edu/lib/python3.13/site-packages/manim/scene/scene_file_writer.py#588\u001b\\\u001b[2m588\u001b[0m\u001b]8;;\u001b\\\n",
      "\u001b[2;36m                   \u001b[0m\u001b[2;36m \u001b[0m\u001b[32mINFO    \u001b[0m Animation \u001b[32m1\u001b[0m : Partial movie file written in \u001b[32m'/home/siva/llm_proj/EduVision/notebooks/media/videos/temp_manim_\u001b[0m\u001b[1;33mscript\u001b[0m\u001b[32m/720p30/partial_movie_files/TriangleToLadder/543634251_1839128356_799996368.mp4'\u001b[0m                                                   \u001b]8;id=899256;file:///home/siva/anaconda3/envs/edu/lib/python3.13/site-packages/manim/scene/scene_file_writer.py\u001b\\\u001b[2mscene_file_writer.py\u001b[0m\u001b]8;;\u001b\\\u001b[2m:\u001b[0m\u001b]8;id=856573;file:///home/siva/anaconda3/envs/edu/lib/python3.13/site-packages/manim/scene/scene_file_writer.py#588\u001b\\\u001b[2m588\u001b[0m\u001b]8;;\u001b\\\n"
     ]
    },
    {
     "name": "stderr",
     "output_type": "stream",
     "text": [
      "                                                                                                                                                                                                                                                                                                          \r"
     ]
    },
    {
     "name": "stdout",
     "output_type": "stream",
     "text": [
      "\u001b[2;36m                   \u001b[0m\u001b[2;36m \u001b[0m\u001b[32mINFO    \u001b[0m Animation \u001b[32m2\u001b[0m : Partial movie file written in \u001b[32m'/home/siva/llm_proj/EduVision/notebooks/media/videos/temp_manim_\u001b[0m\u001b[1;33mscript\u001b[0m\u001b[32m/720p30/partial_movie_files/TriangleToLadder/543634251_50693760_1924122455.mp4'\u001b[0m                                                    \u001b]8;id=981317;file:///home/siva/anaconda3/envs/edu/lib/python3.13/site-packages/manim/scene/scene_file_writer.py\u001b\\\u001b[2mscene_file_writer.py\u001b[0m\u001b]8;;\u001b\\\u001b[2m:\u001b[0m\u001b]8;id=625956;file:///home/siva/anaconda3/envs/edu/lib/python3.13/site-packages/manim/scene/scene_file_writer.py#588\u001b\\\u001b[2m588\u001b[0m\u001b]8;;\u001b\\\n",
      "\u001b[2;36m[03/20/25 11:45:16]\u001b[0m\u001b[2;36m \u001b[0m\u001b[32mINFO    \u001b[0m Animation \u001b[32m3\u001b[0m : Partial movie file written in \u001b[32m'/home/siva/llm_proj/EduVision/notebooks/media/videos/temp_manim_\u001b[0m\u001b[1;33mscript\u001b[0m\u001b[32m/720p30/partial_movie_files/TriangleToLadder/543634251_1839128356_2488786744.mp4'\u001b[0m                                                  \u001b]8;id=895423;file:///home/siva/anaconda3/envs/edu/lib/python3.13/site-packages/manim/scene/scene_file_writer.py\u001b\\\u001b[2mscene_file_writer.py\u001b[0m\u001b]8;;\u001b\\\u001b[2m:\u001b[0m\u001b]8;id=993981;file:///home/siva/anaconda3/envs/edu/lib/python3.13/site-packages/manim/scene/scene_file_writer.py#588\u001b\\\u001b[2m588\u001b[0m\u001b]8;;\u001b\\\n",
      "\u001b[2;36m                   \u001b[0m\u001b[2;36m \u001b[0m\u001b[32mINFO    \u001b[0m Combining to Movie file.                                                                                                                                                                                                                              \u001b]8;id=24019;file:///home/siva/anaconda3/envs/edu/lib/python3.13/site-packages/manim/scene/scene_file_writer.py\u001b\\\u001b[2mscene_file_writer.py\u001b[0m\u001b]8;;\u001b\\\u001b[2m:\u001b[0m\u001b]8;id=441638;file:///home/siva/anaconda3/envs/edu/lib/python3.13/site-packages/manim/scene/scene_file_writer.py#739\u001b\\\u001b[2m739\u001b[0m\u001b]8;;\u001b\\\n",
      "\u001b[2;36m                   \u001b[0m\u001b[2;36m \u001b[0m\u001b[32mINFO    \u001b[0m                                                                                                                                                                                                                                                       \u001b]8;id=949604;file:///home/siva/anaconda3/envs/edu/lib/python3.13/site-packages/manim/scene/scene_file_writer.py\u001b\\\u001b[2mscene_file_writer.py\u001b[0m\u001b]8;;\u001b\\\u001b[2m:\u001b[0m\u001b]8;id=934283;file:///home/siva/anaconda3/envs/edu/lib/python3.13/site-packages/manim/scene/scene_file_writer.py#886\u001b\\\u001b[2m886\u001b[0m\u001b]8;;\u001b\\\n",
      "\u001b[2;36m                    \u001b[0m         \u001b[1;33mFile\u001b[0m ready at \u001b[32m'/home/siva/llm_proj/EduVision/notebooks/media/videos/temp_manim_\u001b[0m\u001b[1;33mscript\u001b[0m\u001b[32m/720p30/step_9.mp4'\u001b[0m                                                                                                                                              \u001b[2m                        \u001b[0m\n",
      "\u001b[2;36m                    \u001b[0m                                                                                                                                                                                                                                                               \u001b[2m                        \u001b[0m\n",
      "\u001b[2;36m                   \u001b[0m\u001b[2;36m \u001b[0m\u001b[32mINFO    \u001b[0m \u001b[1;33mRendered\u001b[0m TriangleToLadder                                                                                                                                                                                                                                         \u001b]8;id=253136;file:///home/siva/anaconda3/envs/edu/lib/python3.13/site-packages/manim/scene/scene.py\u001b\\\u001b[2mscene.py\u001b[0m\u001b]8;;\u001b\\\u001b[2m:\u001b[0m\u001b]8;id=506517;file:///home/siva/anaconda3/envs/edu/lib/python3.13/site-packages/manim/scene/scene.py#255\u001b\\\u001b[2m255\u001b[0m\u001b]8;;\u001b\\\n",
      "\u001b[2;36m                    \u001b[0m         \u001b[1;33mPlayed\u001b[0m \u001b[32m4\u001b[0m \u001b[1;33manimations\u001b[0m                                                                                                                                                                                                                                               \u001b[2m            \u001b[0m\n",
      "✅ Manim animation generated with base name: step_9.mp4\n",
      "✅ Copied video to: outputs/videos/step_9.mp4\n",
      "Generated dialogue: Watch as the triangle seamlessly transforms into a real-world scenario, illustrating a ladder leaning against a wall.\n",
      "Generated TTS audio saved to: outputs/audio/step_9.mp3\n",
      "\n",
      "========== Processing Step 10: {'step': {'description': \"Label the real-world example with 'a', 'b', and 'c' to match the triangle.\"}} ==========\n",
      "\n"
     ]
    },
    {
     "name": "stderr",
     "output_type": "stream",
     "text": [
      "<frozen runpy>:128: RuntimeWarning: 'manim.__main__' found in sys.modules after import of package 'manim', but prior to execution of 'manim.__main__'; this may result in unpredictable behaviour\n",
      "                                                                                                                                                                                                                                                                                                          \r"
     ]
    },
    {
     "name": "stdout",
     "output_type": "stream",
     "text": [
      "Manim Community \u001b[32mv0.\u001b[0m\u001b[32m19.0\u001b[0m\n",
      "\n",
      "\u001b[2;36m[03/20/25 11:45:22]\u001b[0m\u001b[2;36m \u001b[0m\u001b[32mINFO    \u001b[0m Animation \u001b[32m0\u001b[0m : Partial movie file written in \u001b[32m'/home/siva/llm_proj/EduVision/notebooks/media/videos/temp_manim_\u001b[0m\u001b[1;33mscript\u001b[0m\u001b[32m/720p30/partial_movie_files/LabelTriangle/2016333726_3152550473_223132457.mp4'\u001b[0m                                                     \u001b]8;id=543810;file:///home/siva/anaconda3/envs/edu/lib/python3.13/site-packages/manim/scene/scene_file_writer.py\u001b\\\u001b[2mscene_file_writer.py\u001b[0m\u001b]8;;\u001b\\\u001b[2m:\u001b[0m\u001b]8;id=40974;file:///home/siva/anaconda3/envs/edu/lib/python3.13/site-packages/manim/scene/scene_file_writer.py#588\u001b\\\u001b[2m588\u001b[0m\u001b]8;;\u001b\\\n"
     ]
    },
    {
     "name": "stderr",
     "output_type": "stream",
     "text": [
      "                                                                                                                                                                                                                                                                                                          \r"
     ]
    },
    {
     "name": "stdout",
     "output_type": "stream",
     "text": [
      "\u001b[2;36m                   \u001b[0m\u001b[2;36m \u001b[0m\u001b[32mINFO    \u001b[0m Animation \u001b[32m1\u001b[0m : Partial movie file written in \u001b[32m'/home/siva/llm_proj/EduVision/notebooks/media/videos/temp_manim_\u001b[0m\u001b[1;33mscript\u001b[0m\u001b[32m/720p30/partial_movie_files/LabelTriangle/543634251_3407036372_3590386013.mp4'\u001b[0m                                                     \u001b]8;id=366237;file:///home/siva/anaconda3/envs/edu/lib/python3.13/site-packages/manim/scene/scene_file_writer.py\u001b\\\u001b[2mscene_file_writer.py\u001b[0m\u001b]8;;\u001b\\\u001b[2m:\u001b[0m\u001b]8;id=744218;file:///home/siva/anaconda3/envs/edu/lib/python3.13/site-packages/manim/scene/scene_file_writer.py#588\u001b\\\u001b[2m588\u001b[0m\u001b]8;;\u001b\\\n",
      "\u001b[2;36m[03/20/25 11:45:23]\u001b[0m\u001b[2;36m \u001b[0m\u001b[32mINFO    \u001b[0m Animation \u001b[32m2\u001b[0m : Partial movie file written in \u001b[32m'/home/siva/llm_proj/EduVision/notebooks/media/videos/temp_manim_\u001b[0m\u001b[1;33mscript\u001b[0m\u001b[32m/720p30/partial_movie_files/LabelTriangle/543634251_1754310298_681853502.mp4'\u001b[0m                                                      \u001b]8;id=391585;file:///home/siva/anaconda3/envs/edu/lib/python3.13/site-packages/manim/scene/scene_file_writer.py\u001b\\\u001b[2mscene_file_writer.py\u001b[0m\u001b]8;;\u001b\\\u001b[2m:\u001b[0m\u001b]8;id=883979;file:///home/siva/anaconda3/envs/edu/lib/python3.13/site-packages/manim/scene/scene_file_writer.py#588\u001b\\\u001b[2m588\u001b[0m\u001b]8;;\u001b\\\n",
      "\u001b[2;36m                   \u001b[0m\u001b[2;36m \u001b[0m\u001b[32mINFO    \u001b[0m Combining to Movie file.                                                                                                                                                                                                                              \u001b]8;id=244610;file:///home/siva/anaconda3/envs/edu/lib/python3.13/site-packages/manim/scene/scene_file_writer.py\u001b\\\u001b[2mscene_file_writer.py\u001b[0m\u001b]8;;\u001b\\\u001b[2m:\u001b[0m\u001b]8;id=628903;file:///home/siva/anaconda3/envs/edu/lib/python3.13/site-packages/manim/scene/scene_file_writer.py#739\u001b\\\u001b[2m739\u001b[0m\u001b]8;;\u001b\\\n",
      "\u001b[2;36m                   \u001b[0m\u001b[2;36m \u001b[0m\u001b[32mINFO    \u001b[0m                                                                                                                                                                                                                                                       \u001b]8;id=499953;file:///home/siva/anaconda3/envs/edu/lib/python3.13/site-packages/manim/scene/scene_file_writer.py\u001b\\\u001b[2mscene_file_writer.py\u001b[0m\u001b]8;;\u001b\\\u001b[2m:\u001b[0m\u001b]8;id=332102;file:///home/siva/anaconda3/envs/edu/lib/python3.13/site-packages/manim/scene/scene_file_writer.py#886\u001b\\\u001b[2m886\u001b[0m\u001b]8;;\u001b\\\n",
      "\u001b[2;36m                    \u001b[0m         \u001b[1;33mFile\u001b[0m ready at \u001b[32m'/home/siva/llm_proj/EduVision/notebooks/media/videos/temp_manim_\u001b[0m\u001b[1;33mscript\u001b[0m\u001b[32m/720p30/step_10.mp4'\u001b[0m                                                                                                                                             \u001b[2m                        \u001b[0m\n",
      "\u001b[2;36m                    \u001b[0m                                                                                                                                                                                                                                                               \u001b[2m                        \u001b[0m\n",
      "\u001b[2;36m                   \u001b[0m\u001b[2;36m \u001b[0m\u001b[32mINFO    \u001b[0m \u001b[1;33mRendered\u001b[0m LabelTriangle                                                                                                                                                                                                                                            \u001b]8;id=626268;file:///home/siva/anaconda3/envs/edu/lib/python3.13/site-packages/manim/scene/scene.py\u001b\\\u001b[2mscene.py\u001b[0m\u001b]8;;\u001b\\\u001b[2m:\u001b[0m\u001b]8;id=85611;file:///home/siva/anaconda3/envs/edu/lib/python3.13/site-packages/manim/scene/scene.py#255\u001b\\\u001b[2m255\u001b[0m\u001b]8;;\u001b\\\n",
      "\u001b[2;36m                    \u001b[0m         \u001b[1;33mPlayed\u001b[0m \u001b[32m3\u001b[0m \u001b[1;33manimations\u001b[0m                                                                                                                                                                                                                                               \u001b[2m            \u001b[0m\n",
      "✅ Manim animation generated with base name: step_10.mp4\n",
      "✅ Copied video to: outputs/videos/step_10.mp4\n",
      "Generated dialogue: Now, assign the labels 'a', 'b', and 'c' to the real-world example to correspond with the sides of the triangle.\n",
      "Generated TTS audio saved to: outputs/audio/step_10.mp3\n",
      "\n",
      "========== Processing Step 11: {'step': {'description': \"Show the calculation of 'a^2 + b^2 = c^2' using the real-world example measurements.\"}} ==========\n",
      "\n"
     ]
    },
    {
     "name": "stderr",
     "output_type": "stream",
     "text": [
      "<frozen runpy>:128: RuntimeWarning: 'manim.__main__' found in sys.modules after import of package 'manim', but prior to execution of 'manim.__main__'; this may result in unpredictable behaviour\n"
     ]
    },
    {
     "name": "stdout",
     "output_type": "stream",
     "text": [
      "Manim Community \u001b[32mv0.\u001b[0m\u001b[32m19.0\u001b[0m\n",
      "\n",
      "\u001b[2;36m[03/20/25 11:45:31]\u001b[0m\u001b[2;36m \u001b[0m\u001b[32mINFO    \u001b[0m \u001b[1;33mWriting\u001b[0m a = \u001b[32m3\u001b[0m to media/Tex/8a84882b154ec5e2.tex                                                                                                                                                                                                        \u001b]8;id=192769;file:///home/siva/anaconda3/envs/edu/lib/python3.13/site-packages/manim/utils/tex_file_writing.py\u001b\\\u001b[2mtex_file_writing.py\u001b[0m\u001b]8;;\u001b\\\u001b[2m:\u001b[0m\u001b]8;id=103314;file:///home/siva/anaconda3/envs/edu/lib/python3.13/site-packages/manim/utils/tex_file_writing.py#111\u001b\\\u001b[2m111\u001b[0m\u001b]8;;\u001b\\\n",
      "\u001b[2;36m                   \u001b[0m\u001b[2;36m \u001b[0m\u001b[32mINFO    \u001b[0m \u001b[1;33mWriting\u001b[0m b = \u001b[32m4\u001b[0m to media/Tex/d798d08be24b2df1.tex                                                                                                                                                                                                        \u001b]8;id=651023;file:///home/siva/anaconda3/envs/edu/lib/python3.13/site-packages/manim/utils/tex_file_writing.py\u001b\\\u001b[2mtex_file_writing.py\u001b[0m\u001b]8;;\u001b\\\u001b[2m:\u001b[0m\u001b]8;id=485157;file:///home/siva/anaconda3/envs/edu/lib/python3.13/site-packages/manim/utils/tex_file_writing.py#111\u001b\\\u001b[2m111\u001b[0m\u001b]8;;\u001b\\\n",
      "\u001b[2;36m                   \u001b[0m\u001b[2;36m \u001b[0m\u001b[32mINFO    \u001b[0m \u001b[1;33mWriting\u001b[0m c = \u001b[32m5\u001b[0m to media/Tex/38543b8d94d678a3.tex                                                                                                                                                                                                        \u001b]8;id=741558;file:///home/siva/anaconda3/envs/edu/lib/python3.13/site-packages/manim/utils/tex_file_writing.py\u001b\\\u001b[2mtex_file_writing.py\u001b[0m\u001b]8;;\u001b\\\u001b[2m:\u001b[0m\u001b]8;id=476552;file:///home/siva/anaconda3/envs/edu/lib/python3.13/site-packages/manim/utils/tex_file_writing.py#111\u001b\\\u001b[2m111\u001b[0m\u001b]8;;\u001b\\\n",
      "\u001b[2;36m[03/20/25 11:45:32]\u001b[0m\u001b[2;36m \u001b[0m\u001b[32mINFO    \u001b[0m \u001b[1;33mWriting\u001b[0m \u001b[32m3\u001b[0m^\u001b[32m2\u001b[0m + \u001b[32m4\u001b[0m^\u001b[32m2\u001b[0m = \u001b[32m5\u001b[0m^\u001b[32m2\u001b[0m to media/Tex/543bae4715e99068.tex                                                                                                                                                                                              \u001b]8;id=47555;file:///home/siva/anaconda3/envs/edu/lib/python3.13/site-packages/manim/utils/tex_file_writing.py\u001b\\\u001b[2mtex_file_writing.py\u001b[0m\u001b]8;;\u001b\\\u001b[2m:\u001b[0m\u001b]8;id=795130;file:///home/siva/anaconda3/envs/edu/lib/python3.13/site-packages/manim/utils/tex_file_writing.py#111\u001b\\\u001b[2m111\u001b[0m\u001b]8;;\u001b\\\n"
     ]
    },
    {
     "name": "stderr",
     "output_type": "stream",
     "text": [
      "                                                                                                                                                                                                                                                                                                          \r"
     ]
    },
    {
     "name": "stdout",
     "output_type": "stream",
     "text": [
      "\u001b[2;36m                   \u001b[0m\u001b[2;36m \u001b[0m\u001b[32mINFO    \u001b[0m Animation \u001b[32m0\u001b[0m : Partial movie file written in \u001b[32m'/home/siva/llm_proj/EduVision/notebooks/media/videos/temp_manim_\u001b[0m\u001b[1;33mscript\u001b[0m\u001b[32m/720p30/partial_movie_files/PythagoreanTheoremExample/2016333726_1332282769_223132457.mp4'\u001b[0m                                         \u001b]8;id=722248;file:///home/siva/anaconda3/envs/edu/lib/python3.13/site-packages/manim/scene/scene_file_writer.py\u001b\\\u001b[2mscene_file_writer.py\u001b[0m\u001b]8;;\u001b\\\u001b[2m:\u001b[0m\u001b]8;id=771265;file:///home/siva/anaconda3/envs/edu/lib/python3.13/site-packages/manim/scene/scene_file_writer.py#588\u001b\\\u001b[2m588\u001b[0m\u001b]8;;\u001b\\\n"
     ]
    },
    {
     "name": "stderr",
     "output_type": "stream",
     "text": [
      "                                                                                                                                                                                                                                                                                                          \r"
     ]
    },
    {
     "name": "stdout",
     "output_type": "stream",
     "text": [
      "\u001b[2;36m[03/20/25 11:45:33]\u001b[0m\u001b[2;36m \u001b[0m\u001b[32mINFO    \u001b[0m Animation \u001b[32m1\u001b[0m : Partial movie file written in \u001b[32m'/home/siva/llm_proj/EduVision/notebooks/media/videos/temp_manim_\u001b[0m\u001b[1;33mscript\u001b[0m\u001b[32m/720p30/partial_movie_files/PythagoreanTheoremExample/543634251_2421551683_3076076605.mp4'\u001b[0m                                         \u001b]8;id=25444;file:///home/siva/anaconda3/envs/edu/lib/python3.13/site-packages/manim/scene/scene_file_writer.py\u001b\\\u001b[2mscene_file_writer.py\u001b[0m\u001b]8;;\u001b\\\u001b[2m:\u001b[0m\u001b]8;id=161041;file:///home/siva/anaconda3/envs/edu/lib/python3.13/site-packages/manim/scene/scene_file_writer.py#588\u001b\\\u001b[2m588\u001b[0m\u001b]8;;\u001b\\\n"
     ]
    },
    {
     "name": "stderr",
     "output_type": "stream",
     "text": [
      "                                                                                                                                                                                                                                                                                                          \r"
     ]
    },
    {
     "name": "stdout",
     "output_type": "stream",
     "text": [
      "\u001b[2;36m                   \u001b[0m\u001b[2;36m \u001b[0m\u001b[32mINFO    \u001b[0m Animation \u001b[32m2\u001b[0m : Partial movie file written in \u001b[32m'/home/siva/llm_proj/EduVision/notebooks/media/videos/temp_manim_\u001b[0m\u001b[1;33mscript\u001b[0m\u001b[32m/720p30/partial_movie_files/PythagoreanTheoremExample/543634251_3092811481_1931886786.mp4'\u001b[0m                                         \u001b]8;id=354663;file:///home/siva/anaconda3/envs/edu/lib/python3.13/site-packages/manim/scene/scene_file_writer.py\u001b\\\u001b[2mscene_file_writer.py\u001b[0m\u001b]8;;\u001b\\\u001b[2m:\u001b[0m\u001b]8;id=740110;file:///home/siva/anaconda3/envs/edu/lib/python3.13/site-packages/manim/scene/scene_file_writer.py#588\u001b\\\u001b[2m588\u001b[0m\u001b]8;;\u001b\\\n",
      "\u001b[2;36m[03/20/25 11:45:34]\u001b[0m\u001b[2;36m \u001b[0m\u001b[32mINFO    \u001b[0m Animation \u001b[32m3\u001b[0m : Partial movie file written in \u001b[32m'/home/siva/llm_proj/EduVision/notebooks/media/videos/temp_manim_\u001b[0m\u001b[1;33mscript\u001b[0m\u001b[32m/720p30/partial_movie_files/PythagoreanTheoremExample/543634251_1839128356_2494962168.mp4'\u001b[0m                                         \u001b]8;id=118103;file:///home/siva/anaconda3/envs/edu/lib/python3.13/site-packages/manim/scene/scene_file_writer.py\u001b\\\u001b[2mscene_file_writer.py\u001b[0m\u001b]8;;\u001b\\\u001b[2m:\u001b[0m\u001b]8;id=186251;file:///home/siva/anaconda3/envs/edu/lib/python3.13/site-packages/manim/scene/scene_file_writer.py#588\u001b\\\u001b[2m588\u001b[0m\u001b]8;;\u001b\\\n"
     ]
    },
    {
     "name": "stderr",
     "output_type": "stream",
     "text": [
      "                                                                                                                                                                                                                                                                                                          \r"
     ]
    },
    {
     "name": "stdout",
     "output_type": "stream",
     "text": [
      "\u001b[2;36m                   \u001b[0m\u001b[2;36m \u001b[0m\u001b[32mINFO    \u001b[0m Animation \u001b[32m4\u001b[0m : Partial movie file written in \u001b[32m'/home/siva/llm_proj/EduVision/notebooks/media/videos/temp_manim_\u001b[0m\u001b[1;33mscript\u001b[0m\u001b[32m/720p30/partial_movie_files/PythagoreanTheoremExample/543634251_2027796116_3462615865.mp4'\u001b[0m                                         \u001b]8;id=480286;file:///home/siva/anaconda3/envs/edu/lib/python3.13/site-packages/manim/scene/scene_file_writer.py\u001b\\\u001b[2mscene_file_writer.py\u001b[0m\u001b]8;;\u001b\\\u001b[2m:\u001b[0m\u001b]8;id=484919;file:///home/siva/anaconda3/envs/edu/lib/python3.13/site-packages/manim/scene/scene_file_writer.py#588\u001b\\\u001b[2m588\u001b[0m\u001b]8;;\u001b\\\n",
      "\u001b[2;36m[03/20/25 11:45:35]\u001b[0m\u001b[2;36m \u001b[0m\u001b[32mINFO    \u001b[0m Animation \u001b[32m5\u001b[0m : Partial movie file written in \u001b[32m'/home/siva/llm_proj/EduVision/notebooks/media/videos/temp_manim_\u001b[0m\u001b[1;33mscript\u001b[0m\u001b[32m/720p30/partial_movie_files/PythagoreanTheoremExample/543634251_2408024828_1825696571.mp4'\u001b[0m                                         \u001b]8;id=632317;file:///home/siva/anaconda3/envs/edu/lib/python3.13/site-packages/manim/scene/scene_file_writer.py\u001b\\\u001b[2mscene_file_writer.py\u001b[0m\u001b]8;;\u001b\\\u001b[2m:\u001b[0m\u001b]8;id=459647;file:///home/siva/anaconda3/envs/edu/lib/python3.13/site-packages/manim/scene/scene_file_writer.py#588\u001b\\\u001b[2m588\u001b[0m\u001b]8;;\u001b\\\n",
      "\u001b[2;36m                   \u001b[0m\u001b[2;36m \u001b[0m\u001b[32mINFO    \u001b[0m Combining to Movie file.                                                                                                                                                                                                                              \u001b]8;id=919099;file:///home/siva/anaconda3/envs/edu/lib/python3.13/site-packages/manim/scene/scene_file_writer.py\u001b\\\u001b[2mscene_file_writer.py\u001b[0m\u001b]8;;\u001b\\\u001b[2m:\u001b[0m\u001b]8;id=550870;file:///home/siva/anaconda3/envs/edu/lib/python3.13/site-packages/manim/scene/scene_file_writer.py#739\u001b\\\u001b[2m739\u001b[0m\u001b]8;;\u001b\\\n",
      "\u001b[2;36m                   \u001b[0m\u001b[2;36m \u001b[0m\u001b[32mINFO    \u001b[0m                                                                                                                                                                                                                                                       \u001b]8;id=383332;file:///home/siva/anaconda3/envs/edu/lib/python3.13/site-packages/manim/scene/scene_file_writer.py\u001b\\\u001b[2mscene_file_writer.py\u001b[0m\u001b]8;;\u001b\\\u001b[2m:\u001b[0m\u001b]8;id=368173;file:///home/siva/anaconda3/envs/edu/lib/python3.13/site-packages/manim/scene/scene_file_writer.py#886\u001b\\\u001b[2m886\u001b[0m\u001b]8;;\u001b\\\n",
      "\u001b[2;36m                    \u001b[0m         \u001b[1;33mFile\u001b[0m ready at \u001b[32m'/home/siva/llm_proj/EduVision/notebooks/media/videos/temp_manim_\u001b[0m\u001b[1;33mscript\u001b[0m\u001b[32m/720p30/step_11.mp4'\u001b[0m                                                                                                                                             \u001b[2m                        \u001b[0m\n",
      "\u001b[2;36m                    \u001b[0m                                                                                                                                                                                                                                                               \u001b[2m                        \u001b[0m\n",
      "\u001b[2;36m                   \u001b[0m\u001b[2;36m \u001b[0m\u001b[32mINFO    \u001b[0m \u001b[1;33mRendered\u001b[0m PythagoreanTheoremExample                                                                                                                                                                                                                                \u001b]8;id=892770;file:///home/siva/anaconda3/envs/edu/lib/python3.13/site-packages/manim/scene/scene.py\u001b\\\u001b[2mscene.py\u001b[0m\u001b]8;;\u001b\\\u001b[2m:\u001b[0m\u001b]8;id=164836;file:///home/siva/anaconda3/envs/edu/lib/python3.13/site-packages/manim/scene/scene.py#255\u001b\\\u001b[2m255\u001b[0m\u001b]8;;\u001b\\\n",
      "\u001b[2;36m                    \u001b[0m         \u001b[1;33mPlayed\u001b[0m \u001b[32m6\u001b[0m \u001b[1;33manimations\u001b[0m                                                                                                                                                                                                                                               \u001b[2m            \u001b[0m\n",
      "✅ Manim animation generated with base name: step_11.mp4\n",
      "✅ Copied video to: outputs/videos/step_11.mp4\n",
      "Generated dialogue: Let's explore the Pythagorean theorem by applying it to real-world measurements, demonstrating how \\(a^2 + b^2\\) equals \\(c^2\\).\n",
      "Generated TTS audio saved to: outputs/audio/step_11.mp3\n",
      "\n",
      "========== Processing Step 12: {'step': {'description': \"Conclude with a summary text: 'The Pythagorean Theorem helps calculate distances in right-angled triangles.'\"}} ==========\n",
      "\n"
     ]
    },
    {
     "name": "stderr",
     "output_type": "stream",
     "text": [
      "<frozen runpy>:128: RuntimeWarning: 'manim.__main__' found in sys.modules after import of package 'manim', but prior to execution of 'manim.__main__'; this may result in unpredictable behaviour\n"
     ]
    },
    {
     "name": "stdout",
     "output_type": "stream",
     "text": [
      "Manim Community \u001b[32mv0.\u001b[0m\u001b[32m19.0\u001b[0m\n",
      "\n"
     ]
    },
    {
     "name": "stderr",
     "output_type": "stream",
     "text": [
      "                                                                                                                                                                                                                                                                                                          \r"
     ]
    },
    {
     "name": "stdout",
     "output_type": "stream",
     "text": [
      "\u001b[2;36m[03/20/25 11:45:43]\u001b[0m\u001b[2;36m \u001b[0m\u001b[32mINFO    \u001b[0m Animation \u001b[32m0\u001b[0m : Partial movie file written in \u001b[32m'/home/siva/llm_proj/EduVision/notebooks/media/videos/temp_manim_\u001b[0m\u001b[1;33mscript\u001b[0m\u001b[32m/720p30/partial_movie_files/PythagoreanTheoremSummary/2016333726_617846104_223132457.mp4'\u001b[0m                                          \u001b]8;id=775689;file:///home/siva/anaconda3/envs/edu/lib/python3.13/site-packages/manim/scene/scene_file_writer.py\u001b\\\u001b[2mscene_file_writer.py\u001b[0m\u001b]8;;\u001b\\\u001b[2m:\u001b[0m\u001b]8;id=475640;file:///home/siva/anaconda3/envs/edu/lib/python3.13/site-packages/manim/scene/scene_file_writer.py#588\u001b\\\u001b[2m588\u001b[0m\u001b]8;;\u001b\\\n",
      "\u001b[2;36m                   \u001b[0m\u001b[2;36m \u001b[0m\u001b[32mINFO    \u001b[0m Animation \u001b[32m1\u001b[0m : Partial movie file written in \u001b[32m'/home/siva/llm_proj/EduVision/notebooks/media/videos/temp_manim_\u001b[0m\u001b[1;33mscript\u001b[0m\u001b[32m/720p30/partial_movie_files/PythagoreanTheoremSummary/543634251_2408024828_3779399106.mp4'\u001b[0m                                         \u001b]8;id=657558;file:///home/siva/anaconda3/envs/edu/lib/python3.13/site-packages/manim/scene/scene_file_writer.py\u001b\\\u001b[2mscene_file_writer.py\u001b[0m\u001b]8;;\u001b\\\u001b[2m:\u001b[0m\u001b]8;id=549611;file:///home/siva/anaconda3/envs/edu/lib/python3.13/site-packages/manim/scene/scene_file_writer.py#588\u001b\\\u001b[2m588\u001b[0m\u001b]8;;\u001b\\\n",
      "\u001b[2;36m[03/20/25 11:45:44]\u001b[0m\u001b[2;36m \u001b[0m\u001b[32mINFO    \u001b[0m Combining to Movie file.                                                                                                                                                                                                                              \u001b]8;id=229223;file:///home/siva/anaconda3/envs/edu/lib/python3.13/site-packages/manim/scene/scene_file_writer.py\u001b\\\u001b[2mscene_file_writer.py\u001b[0m\u001b]8;;\u001b\\\u001b[2m:\u001b[0m\u001b]8;id=885089;file:///home/siva/anaconda3/envs/edu/lib/python3.13/site-packages/manim/scene/scene_file_writer.py#739\u001b\\\u001b[2m739\u001b[0m\u001b]8;;\u001b\\\n",
      "\u001b[2;36m                   \u001b[0m\u001b[2;36m \u001b[0m\u001b[32mINFO    \u001b[0m                                                                                                                                                                                                                                                       \u001b]8;id=612341;file:///home/siva/anaconda3/envs/edu/lib/python3.13/site-packages/manim/scene/scene_file_writer.py\u001b\\\u001b[2mscene_file_writer.py\u001b[0m\u001b]8;;\u001b\\\u001b[2m:\u001b[0m\u001b]8;id=505205;file:///home/siva/anaconda3/envs/edu/lib/python3.13/site-packages/manim/scene/scene_file_writer.py#886\u001b\\\u001b[2m886\u001b[0m\u001b]8;;\u001b\\\n",
      "\u001b[2;36m                    \u001b[0m         \u001b[1;33mFile\u001b[0m ready at \u001b[32m'/home/siva/llm_proj/EduVision/notebooks/media/videos/temp_manim_\u001b[0m\u001b[1;33mscript\u001b[0m\u001b[32m/720p30/step_12.mp4'\u001b[0m                                                                                                                                             \u001b[2m                        \u001b[0m\n",
      "\u001b[2;36m                    \u001b[0m                                                                                                                                                                                                                                                               \u001b[2m                        \u001b[0m\n",
      "\u001b[2;36m                   \u001b[0m\u001b[2;36m \u001b[0m\u001b[32mINFO    \u001b[0m \u001b[1;33mRendered\u001b[0m PythagoreanTheoremSummary                                                                                                                                                                                                                                \u001b]8;id=652403;file:///home/siva/anaconda3/envs/edu/lib/python3.13/site-packages/manim/scene/scene.py\u001b\\\u001b[2mscene.py\u001b[0m\u001b]8;;\u001b\\\u001b[2m:\u001b[0m\u001b]8;id=241714;file:///home/siva/anaconda3/envs/edu/lib/python3.13/site-packages/manim/scene/scene.py#255\u001b\\\u001b[2m255\u001b[0m\u001b]8;;\u001b\\\n",
      "\u001b[2;36m                    \u001b[0m         \u001b[1;33mPlayed\u001b[0m \u001b[32m2\u001b[0m \u001b[1;33manimations\u001b[0m                                                                                                                                                                                                                                               \u001b[2m            \u001b[0m\n",
      "✅ Manim animation generated with base name: step_12.mp4\n",
      "✅ Copied video to: outputs/videos/step_12.mp4\n",
      "Generated dialogue: In summary, the Pythagorean Theorem is a powerful tool for calculating distances in right-angled triangles.\n",
      "Generated TTS audio saved to: outputs/audio/step_12.mp3\n"
     ]
    },
    {
     "name": "stderr",
     "output_type": "stream",
     "text": [
      "ffmpeg version 6.1.1-3ubuntu5 Copyright (c) 2000-2023 the FFmpeg developers\n",
      "  built with gcc 13 (Ubuntu 13.2.0-23ubuntu3)\n",
      "  configuration: --prefix=/usr --extra-version=3ubuntu5 --toolchain=hardened --libdir=/usr/lib/x86_64-linux-gnu --incdir=/usr/include/x86_64-linux-gnu --arch=amd64 --enable-gpl --disable-stripping --disable-omx --enable-gnutls --enable-libaom --enable-libass --enable-libbs2b --enable-libcaca --enable-libcdio --enable-libcodec2 --enable-libdav1d --enable-libflite --enable-libfontconfig --enable-libfreetype --enable-libfribidi --enable-libglslang --enable-libgme --enable-libgsm --enable-libharfbuzz --enable-libmp3lame --enable-libmysofa --enable-libopenjpeg --enable-libopenmpt --enable-libopus --enable-librubberband --enable-libshine --enable-libsnappy --enable-libsoxr --enable-libspeex --enable-libtheora --enable-libtwolame --enable-libvidstab --enable-libvorbis --enable-libvpx --enable-libwebp --enable-libx265 --enable-libxml2 --enable-libxvid --enable-libzimg --enable-openal --enable-opencl --enable-opengl --disable-sndio --enable-libvpl --disable-libmfx --enable-libdc1394 --enable-libdrm --enable-libiec61883 --enable-chromaprint --enable-frei0r --enable-ladspa --enable-libbluray --enable-libjack --enable-libpulse --enable-librabbitmq --enable-librist --enable-libsrt --enable-libssh --enable-libsvtav1 --enable-libx264 --enable-libzmq --enable-libzvbi --enable-lv2 --enable-sdl2 --enable-libplacebo --enable-librav1e --enable-pocketsphinx --enable-librsvg --enable-libjxl --enable-shared\n",
      "  libavutil      58. 29.100 / 58. 29.100\n",
      "  libavcodec     60. 31.102 / 60. 31.102\n",
      "  libavformat    60. 16.100 / 60. 16.100\n",
      "  libavdevice    60.  3.100 / 60.  3.100\n",
      "  libavfilter     9. 12.100 /  9. 12.100\n",
      "  libswscale      7.  5.100 /  7.  5.100\n",
      "  libswresample   4. 12.100 /  4. 12.100\n",
      "  libpostproc    57.  3.100 / 57.  3.100\n",
      "[mov,mp4,m4a,3gp,3g2,mj2 @ 0x560e06593900] Auto-inserting h264_mp4toannexb bitstream filter\n",
      "Input #0, concat, from 'videos_to_concat.txt':\n",
      "  Duration: N/A, start: -0.042667, bitrate: 158 kb/s\n",
      "  Stream #0:0(und): Video: h264 (High) (avc1 / 0x31637661), yuv420p(progressive), 1280x720, 87 kb/s, 30 fps, 30 tbr, 15360 tbn\n",
      "    Metadata:\n",
      "      handler_name    : VideoHandler\n",
      "      vendor_id       : [0][0][0][0]\n",
      "      encoder         : Lavc60.31.102 libx264\n",
      "  Stream #0:1(und): Audio: aac (LC) (mp4a / 0x6134706D), 24000 Hz, mono, fltp, 71 kb/s\n",
      "    Metadata:\n",
      "      handler_name    : SoundHandler\n",
      "      vendor_id       : [0][0][0][0]\n",
      "Output #0, mp4, to 'final_animation_video.mp4':\n",
      "  Metadata:\n",
      "    encoder         : Lavf60.16.100\n",
      "  Stream #0:0(und): Video: h264 (High) (avc1 / 0x31637661), yuv420p(progressive), 1280x720, q=2-31, 87 kb/s, 30 fps, 30 tbr, 15360 tbn\n",
      "    Metadata:\n",
      "      handler_name    : VideoHandler\n",
      "      vendor_id       : [0][0][0][0]\n",
      "      encoder         : Lavc60.31.102 libx264\n",
      "  Stream #0:1(und): Audio: aac (LC) (mp4a / 0x6134706D), 24000 Hz, mono, fltp, 71 kb/s\n",
      "    Metadata:\n",
      "      handler_name    : SoundHandler\n",
      "      vendor_id       : [0][0][0][0]\n",
      "Stream mapping:\n",
      "  Stream #0:0 -> #0:0 (copy)\n",
      "  Stream #0:1 -> #0:1 (copy)\n",
      "Press [q] to stop, [?] for help\n",
      "[mov,mp4,m4a,3gp,3g2,mj2 @ 0x560e06593900] Auto-inserting h264_mp4toannexb bitstream filter\n",
      "[mp4 @ 0x560e065a5f80] Non-monotonic DTS in output stream 0:1; previous: 238592, current: 238464; changing to 238593. This may result in incorrect timestamps in the output file.\n",
      "[mov,mp4,m4a,3gp,3g2,mj2 @ 0x560e06593900] Auto-inserting h264_mp4toannexb bitstream filter\n",
      "    Last message repeated 1 times\n",
      "[mp4 @ 0x560e065a5f80] Non-monotonic DTS in output stream 0:1; previous: 741248, current: 740992; changing to 741249. This may result in incorrect timestamps in the output file.\n",
      "[mov,mp4,m4a,3gp,3g2,mj2 @ 0x560e06593900] Auto-inserting h264_mp4toannexb bitstream filter\n",
      "[mp4 @ 0x560e065a5f80] Non-monotonic DTS in output stream 0:1; previous: 935552, current: 935392; changing to 935553. This may result in incorrect timestamps in the output file.\n",
      "[mov,mp4,m4a,3gp,3g2,mj2 @ 0x560e06593900] Auto-inserting h264_mp4toannexb bitstream filter\n",
      "    Last message repeated 1 times\n",
      "[mp4 @ 0x560e065a5f80] Non-monotonic DTS in output stream 0:1; previous: 1430272, current: 1429888; changing to 1430273. This may result in incorrect timestamps in the output file.\n",
      "[mov,mp4,m4a,3gp,3g2,mj2 @ 0x560e06593900] Auto-inserting h264_mp4toannexb bitstream filter\n",
      "[mp4 @ 0x560e065a5f80] Non-monotonic DTS in output stream 0:1; previous: 1662336, current: 1661440; changing to 1662337. This may result in incorrect timestamps in the output file.\n",
      "[mov,mp4,m4a,3gp,3g2,mj2 @ 0x560e06593900] Auto-inserting h264_mp4toannexb bitstream filter\n",
      "[mp4 @ 0x560e065a5f80] Non-monotonic DTS in output stream 0:1; previous: 1953280, current: 1952896; changing to 1953281. This may result in incorrect timestamps in the output file.\n",
      "[out#0/mp4 @ 0x560e066914c0] video:516kB audio:798kB subtitle:0kB other streams:0kB global headers:0kB muxing overhead: 5.393493%\n",
      "size=    1385kB time=00:01:29.69 bitrate= 126.5kbits/s speed= 468x    \n"
     ]
    },
    {
     "name": "stdout",
     "output_type": "stream",
     "text": [
      "✅ Final video created: final_animation_video.mp4\n",
      "\n",
      "=== Animation Pipeline Complete! ===\n",
      "\n"
     ]
    }
   ],
   "source": [
    "\n",
    "if __name__ == \"__main__\":\n",
    "    # For example, let's animate the concept of Torque.\n",
    "    topic = \"Pythagorean Theorem Definition, Formula, and How It Works.\"\n",
    "    generate_animation_pipeline(topic)"
   ]
  },
  {
   "cell_type": "code",
   "execution_count": null,
   "id": "519343cb-72d0-48c3-8188-795fba0c64c6",
   "metadata": {},
   "outputs": [],
   "source": []
  },
  {
   "cell_type": "code",
   "execution_count": 15,
   "id": "ff64e622-5129-4714-8c3f-8fc80cc790c9",
   "metadata": {},
   "outputs": [
    {
     "ename": "NotFoundError",
     "evalue": "Error code: 404 - {'error': {'message': 'The model `o3-mini` does not exist or you do not have access to it.', 'type': 'invalid_request_error', 'param': None, 'code': 'model_not_found'}}",
     "output_type": "error",
     "traceback": [
      "\u001b[0;31m---------------------------------------------------------------------------\u001b[0m",
      "\u001b[0;31mNotFoundError\u001b[0m                             Traceback (most recent call last)",
      "Cell \u001b[0;32mIn[15], line 3\u001b[0m\n\u001b[1;32m      1\u001b[0m \u001b[38;5;66;03m# Example usage to visualize the outline\u001b[39;00m\n\u001b[1;32m      2\u001b[0m topic_text \u001b[38;5;241m=\u001b[39m \u001b[38;5;124m\"\u001b[39m\u001b[38;5;124mPythagorean Theorem Definition, Formula, and How It Works.\u001b[39m\u001b[38;5;124m\"\u001b[39m\n\u001b[0;32m----> 3\u001b[0m outline \u001b[38;5;241m=\u001b[39m generate_yaml_outline(topic_text)\n\u001b[1;32m      5\u001b[0m \u001b[38;5;28mprint\u001b[39m(\u001b[38;5;124m\"\u001b[39m\u001b[38;5;124mGenerated Animation Outline:\u001b[39m\u001b[38;5;124m\"\u001b[39m)\n\u001b[1;32m      6\u001b[0m \u001b[38;5;28mprint\u001b[39m(\u001b[38;5;124m\"\u001b[39m\u001b[38;5;124m-\u001b[39m\u001b[38;5;124m\"\u001b[39m \u001b[38;5;241m*\u001b[39m \u001b[38;5;241m40\u001b[39m)\n",
      "Cell \u001b[0;32mIn[4], line 21\u001b[0m, in \u001b[0;36mgenerate_yaml_outline\u001b[0;34m(topic_text)\u001b[0m\n\u001b[1;32m      2\u001b[0m \u001b[38;5;250m    \u001b[39m\u001b[38;5;124;03m\"\"\"\u001b[39;00m\n\u001b[1;32m      3\u001b[0m \u001b[38;5;124;03m    Ask the LLM to create an outline for a Manim animation based on a topic,\u001b[39;00m\n\u001b[1;32m      4\u001b[0m \u001b[38;5;124;03m    and output it as a YAML list. Each item represents a self-contained animatable step.\u001b[39;00m\n\u001b[0;32m   (...)\u001b[0m\n\u001b[1;32m      8\u001b[0m \u001b[38;5;124;03m      - Each step is focused, independent, and suitable for 2D Manim animations.\u001b[39;00m\n\u001b[1;32m      9\u001b[0m \u001b[38;5;124;03m    \"\"\"\u001b[39;00m\n\u001b[1;32m     10\u001b[0m     prompt \u001b[38;5;241m=\u001b[39m \u001b[38;5;124mf\u001b[39m\u001b[38;5;124m\"\"\"\u001b[39m\n\u001b[1;32m     11\u001b[0m \u001b[38;5;124mCreate a structured YAML list for a 2D Manim animation on the topic: **\u001b[39m\u001b[38;5;124m\"\u001b[39m\u001b[38;5;132;01m{\u001b[39;00mtopic_text\u001b[38;5;132;01m}\u001b[39;00m\u001b[38;5;124m\"\u001b[39m\u001b[38;5;124m**.\u001b[39m\n\u001b[1;32m     12\u001b[0m \n\u001b[0;32m   (...)\u001b[0m\n\u001b[1;32m     19\u001b[0m \u001b[38;5;124mReturn only a **valid YAML list** without extra formatting or explanations.\u001b[39m\n\u001b[1;32m     20\u001b[0m \u001b[38;5;124m\"\"\"\u001b[39m\n\u001b[0;32m---> 21\u001b[0m     response \u001b[38;5;241m=\u001b[39m llm\u001b[38;5;241m.\u001b[39minvoke(prompt)\n\u001b[1;32m     22\u001b[0m     outline_yaml \u001b[38;5;241m=\u001b[39m response\u001b[38;5;241m.\u001b[39mcontent\u001b[38;5;241m.\u001b[39mstrip()\n\u001b[1;32m     24\u001b[0m     \u001b[38;5;66;03m# Remove YAML code fences if present.\u001b[39;00m\n",
      "File \u001b[0;32m~/anaconda3/envs/edu/lib/python3.13/site-packages/langchain_core/language_models/chat_models.py:307\u001b[0m, in \u001b[0;36mBaseChatModel.invoke\u001b[0;34m(self, input, config, stop, **kwargs)\u001b[0m\n\u001b[1;32m    296\u001b[0m \u001b[38;5;28;01mdef\u001b[39;00m \u001b[38;5;21minvoke\u001b[39m(\n\u001b[1;32m    297\u001b[0m     \u001b[38;5;28mself\u001b[39m,\n\u001b[1;32m    298\u001b[0m     \u001b[38;5;28minput\u001b[39m: LanguageModelInput,\n\u001b[0;32m   (...)\u001b[0m\n\u001b[1;32m    302\u001b[0m     \u001b[38;5;241m*\u001b[39m\u001b[38;5;241m*\u001b[39mkwargs: Any,\n\u001b[1;32m    303\u001b[0m ) \u001b[38;5;241m-\u001b[39m\u001b[38;5;241m>\u001b[39m BaseMessage:\n\u001b[1;32m    304\u001b[0m     config \u001b[38;5;241m=\u001b[39m ensure_config(config)\n\u001b[1;32m    305\u001b[0m     \u001b[38;5;28;01mreturn\u001b[39;00m cast(\n\u001b[1;32m    306\u001b[0m         ChatGeneration,\n\u001b[0;32m--> 307\u001b[0m         \u001b[38;5;28mself\u001b[39m\u001b[38;5;241m.\u001b[39mgenerate_prompt(\n\u001b[1;32m    308\u001b[0m             [\u001b[38;5;28mself\u001b[39m\u001b[38;5;241m.\u001b[39m_convert_input(\u001b[38;5;28minput\u001b[39m)],\n\u001b[1;32m    309\u001b[0m             stop\u001b[38;5;241m=\u001b[39mstop,\n\u001b[1;32m    310\u001b[0m             callbacks\u001b[38;5;241m=\u001b[39mconfig\u001b[38;5;241m.\u001b[39mget(\u001b[38;5;124m\"\u001b[39m\u001b[38;5;124mcallbacks\u001b[39m\u001b[38;5;124m\"\u001b[39m),\n\u001b[1;32m    311\u001b[0m             tags\u001b[38;5;241m=\u001b[39mconfig\u001b[38;5;241m.\u001b[39mget(\u001b[38;5;124m\"\u001b[39m\u001b[38;5;124mtags\u001b[39m\u001b[38;5;124m\"\u001b[39m),\n\u001b[1;32m    312\u001b[0m             metadata\u001b[38;5;241m=\u001b[39mconfig\u001b[38;5;241m.\u001b[39mget(\u001b[38;5;124m\"\u001b[39m\u001b[38;5;124mmetadata\u001b[39m\u001b[38;5;124m\"\u001b[39m),\n\u001b[1;32m    313\u001b[0m             run_name\u001b[38;5;241m=\u001b[39mconfig\u001b[38;5;241m.\u001b[39mget(\u001b[38;5;124m\"\u001b[39m\u001b[38;5;124mrun_name\u001b[39m\u001b[38;5;124m\"\u001b[39m),\n\u001b[1;32m    314\u001b[0m             run_id\u001b[38;5;241m=\u001b[39mconfig\u001b[38;5;241m.\u001b[39mpop(\u001b[38;5;124m\"\u001b[39m\u001b[38;5;124mrun_id\u001b[39m\u001b[38;5;124m\"\u001b[39m, \u001b[38;5;28;01mNone\u001b[39;00m),\n\u001b[1;32m    315\u001b[0m             \u001b[38;5;241m*\u001b[39m\u001b[38;5;241m*\u001b[39mkwargs,\n\u001b[1;32m    316\u001b[0m         )\u001b[38;5;241m.\u001b[39mgenerations[\u001b[38;5;241m0\u001b[39m][\u001b[38;5;241m0\u001b[39m],\n\u001b[1;32m    317\u001b[0m     )\u001b[38;5;241m.\u001b[39mmessage\n",
      "File \u001b[0;32m~/anaconda3/envs/edu/lib/python3.13/site-packages/langchain_core/language_models/chat_models.py:843\u001b[0m, in \u001b[0;36mBaseChatModel.generate_prompt\u001b[0;34m(self, prompts, stop, callbacks, **kwargs)\u001b[0m\n\u001b[1;32m    835\u001b[0m \u001b[38;5;28;01mdef\u001b[39;00m \u001b[38;5;21mgenerate_prompt\u001b[39m(\n\u001b[1;32m    836\u001b[0m     \u001b[38;5;28mself\u001b[39m,\n\u001b[1;32m    837\u001b[0m     prompts: \u001b[38;5;28mlist\u001b[39m[PromptValue],\n\u001b[0;32m   (...)\u001b[0m\n\u001b[1;32m    840\u001b[0m     \u001b[38;5;241m*\u001b[39m\u001b[38;5;241m*\u001b[39mkwargs: Any,\n\u001b[1;32m    841\u001b[0m ) \u001b[38;5;241m-\u001b[39m\u001b[38;5;241m>\u001b[39m LLMResult:\n\u001b[1;32m    842\u001b[0m     prompt_messages \u001b[38;5;241m=\u001b[39m [p\u001b[38;5;241m.\u001b[39mto_messages() \u001b[38;5;28;01mfor\u001b[39;00m p \u001b[38;5;129;01min\u001b[39;00m prompts]\n\u001b[0;32m--> 843\u001b[0m     \u001b[38;5;28;01mreturn\u001b[39;00m \u001b[38;5;28mself\u001b[39m\u001b[38;5;241m.\u001b[39mgenerate(prompt_messages, stop\u001b[38;5;241m=\u001b[39mstop, callbacks\u001b[38;5;241m=\u001b[39mcallbacks, \u001b[38;5;241m*\u001b[39m\u001b[38;5;241m*\u001b[39mkwargs)\n",
      "File \u001b[0;32m~/anaconda3/envs/edu/lib/python3.13/site-packages/langchain_core/language_models/chat_models.py:683\u001b[0m, in \u001b[0;36mBaseChatModel.generate\u001b[0;34m(self, messages, stop, callbacks, tags, metadata, run_name, run_id, **kwargs)\u001b[0m\n\u001b[1;32m    680\u001b[0m \u001b[38;5;28;01mfor\u001b[39;00m i, m \u001b[38;5;129;01min\u001b[39;00m \u001b[38;5;28menumerate\u001b[39m(messages):\n\u001b[1;32m    681\u001b[0m     \u001b[38;5;28;01mtry\u001b[39;00m:\n\u001b[1;32m    682\u001b[0m         results\u001b[38;5;241m.\u001b[39mappend(\n\u001b[0;32m--> 683\u001b[0m             \u001b[38;5;28mself\u001b[39m\u001b[38;5;241m.\u001b[39m_generate_with_cache(\n\u001b[1;32m    684\u001b[0m                 m,\n\u001b[1;32m    685\u001b[0m                 stop\u001b[38;5;241m=\u001b[39mstop,\n\u001b[1;32m    686\u001b[0m                 run_manager\u001b[38;5;241m=\u001b[39mrun_managers[i] \u001b[38;5;28;01mif\u001b[39;00m run_managers \u001b[38;5;28;01melse\u001b[39;00m \u001b[38;5;28;01mNone\u001b[39;00m,\n\u001b[1;32m    687\u001b[0m                 \u001b[38;5;241m*\u001b[39m\u001b[38;5;241m*\u001b[39mkwargs,\n\u001b[1;32m    688\u001b[0m             )\n\u001b[1;32m    689\u001b[0m         )\n\u001b[1;32m    690\u001b[0m     \u001b[38;5;28;01mexcept\u001b[39;00m \u001b[38;5;167;01mBaseException\u001b[39;00m \u001b[38;5;28;01mas\u001b[39;00m e:\n\u001b[1;32m    691\u001b[0m         \u001b[38;5;28;01mif\u001b[39;00m run_managers:\n",
      "File \u001b[0;32m~/anaconda3/envs/edu/lib/python3.13/site-packages/langchain_core/language_models/chat_models.py:908\u001b[0m, in \u001b[0;36mBaseChatModel._generate_with_cache\u001b[0;34m(self, messages, stop, run_manager, **kwargs)\u001b[0m\n\u001b[1;32m    906\u001b[0m \u001b[38;5;28;01melse\u001b[39;00m:\n\u001b[1;32m    907\u001b[0m     \u001b[38;5;28;01mif\u001b[39;00m inspect\u001b[38;5;241m.\u001b[39msignature(\u001b[38;5;28mself\u001b[39m\u001b[38;5;241m.\u001b[39m_generate)\u001b[38;5;241m.\u001b[39mparameters\u001b[38;5;241m.\u001b[39mget(\u001b[38;5;124m\"\u001b[39m\u001b[38;5;124mrun_manager\u001b[39m\u001b[38;5;124m\"\u001b[39m):\n\u001b[0;32m--> 908\u001b[0m         result \u001b[38;5;241m=\u001b[39m \u001b[38;5;28mself\u001b[39m\u001b[38;5;241m.\u001b[39m_generate(\n\u001b[1;32m    909\u001b[0m             messages, stop\u001b[38;5;241m=\u001b[39mstop, run_manager\u001b[38;5;241m=\u001b[39mrun_manager, \u001b[38;5;241m*\u001b[39m\u001b[38;5;241m*\u001b[39mkwargs\n\u001b[1;32m    910\u001b[0m         )\n\u001b[1;32m    911\u001b[0m     \u001b[38;5;28;01melse\u001b[39;00m:\n\u001b[1;32m    912\u001b[0m         result \u001b[38;5;241m=\u001b[39m \u001b[38;5;28mself\u001b[39m\u001b[38;5;241m.\u001b[39m_generate(messages, stop\u001b[38;5;241m=\u001b[39mstop, \u001b[38;5;241m*\u001b[39m\u001b[38;5;241m*\u001b[39mkwargs)\n",
      "File \u001b[0;32m~/anaconda3/envs/edu/lib/python3.13/site-packages/langchain_openai/chat_models/base.py:925\u001b[0m, in \u001b[0;36mBaseChatOpenAI._generate\u001b[0;34m(self, messages, stop, run_manager, **kwargs)\u001b[0m\n\u001b[1;32m    923\u001b[0m     generation_info \u001b[38;5;241m=\u001b[39m {\u001b[38;5;124m\"\u001b[39m\u001b[38;5;124mheaders\u001b[39m\u001b[38;5;124m\"\u001b[39m: \u001b[38;5;28mdict\u001b[39m(raw_response\u001b[38;5;241m.\u001b[39mheaders)}\n\u001b[1;32m    924\u001b[0m \u001b[38;5;28;01melse\u001b[39;00m:\n\u001b[0;32m--> 925\u001b[0m     response \u001b[38;5;241m=\u001b[39m \u001b[38;5;28mself\u001b[39m\u001b[38;5;241m.\u001b[39mclient\u001b[38;5;241m.\u001b[39mcreate(\u001b[38;5;241m*\u001b[39m\u001b[38;5;241m*\u001b[39mpayload)\n\u001b[1;32m    926\u001b[0m \u001b[38;5;28;01mreturn\u001b[39;00m \u001b[38;5;28mself\u001b[39m\u001b[38;5;241m.\u001b[39m_create_chat_result(response, generation_info)\n",
      "File \u001b[0;32m~/anaconda3/envs/edu/lib/python3.13/site-packages/openai/_utils/_utils.py:279\u001b[0m, in \u001b[0;36mrequired_args.<locals>.inner.<locals>.wrapper\u001b[0;34m(*args, **kwargs)\u001b[0m\n\u001b[1;32m    277\u001b[0m             msg \u001b[38;5;241m=\u001b[39m \u001b[38;5;124mf\u001b[39m\u001b[38;5;124m\"\u001b[39m\u001b[38;5;124mMissing required argument: \u001b[39m\u001b[38;5;132;01m{\u001b[39;00mquote(missing[\u001b[38;5;241m0\u001b[39m])\u001b[38;5;132;01m}\u001b[39;00m\u001b[38;5;124m\"\u001b[39m\n\u001b[1;32m    278\u001b[0m     \u001b[38;5;28;01mraise\u001b[39;00m \u001b[38;5;167;01mTypeError\u001b[39;00m(msg)\n\u001b[0;32m--> 279\u001b[0m \u001b[38;5;28;01mreturn\u001b[39;00m func(\u001b[38;5;241m*\u001b[39margs, \u001b[38;5;241m*\u001b[39m\u001b[38;5;241m*\u001b[39mkwargs)\n",
      "File \u001b[0;32m~/anaconda3/envs/edu/lib/python3.13/site-packages/openai/resources/chat/completions/completions.py:914\u001b[0m, in \u001b[0;36mCompletions.create\u001b[0;34m(self, messages, model, audio, frequency_penalty, function_call, functions, logit_bias, logprobs, max_completion_tokens, max_tokens, metadata, modalities, n, parallel_tool_calls, prediction, presence_penalty, reasoning_effort, response_format, seed, service_tier, stop, store, stream, stream_options, temperature, tool_choice, tools, top_logprobs, top_p, user, web_search_options, extra_headers, extra_query, extra_body, timeout)\u001b[0m\n\u001b[1;32m    871\u001b[0m \u001b[38;5;129m@required_args\u001b[39m([\u001b[38;5;124m\"\u001b[39m\u001b[38;5;124mmessages\u001b[39m\u001b[38;5;124m\"\u001b[39m, \u001b[38;5;124m\"\u001b[39m\u001b[38;5;124mmodel\u001b[39m\u001b[38;5;124m\"\u001b[39m], [\u001b[38;5;124m\"\u001b[39m\u001b[38;5;124mmessages\u001b[39m\u001b[38;5;124m\"\u001b[39m, \u001b[38;5;124m\"\u001b[39m\u001b[38;5;124mmodel\u001b[39m\u001b[38;5;124m\"\u001b[39m, \u001b[38;5;124m\"\u001b[39m\u001b[38;5;124mstream\u001b[39m\u001b[38;5;124m\"\u001b[39m])\n\u001b[1;32m    872\u001b[0m \u001b[38;5;28;01mdef\u001b[39;00m \u001b[38;5;21mcreate\u001b[39m(\n\u001b[1;32m    873\u001b[0m     \u001b[38;5;28mself\u001b[39m,\n\u001b[0;32m   (...)\u001b[0m\n\u001b[1;32m    911\u001b[0m     timeout: \u001b[38;5;28mfloat\u001b[39m \u001b[38;5;241m|\u001b[39m httpx\u001b[38;5;241m.\u001b[39mTimeout \u001b[38;5;241m|\u001b[39m \u001b[38;5;28;01mNone\u001b[39;00m \u001b[38;5;241m|\u001b[39m NotGiven \u001b[38;5;241m=\u001b[39m NOT_GIVEN,\n\u001b[1;32m    912\u001b[0m ) \u001b[38;5;241m-\u001b[39m\u001b[38;5;241m>\u001b[39m ChatCompletion \u001b[38;5;241m|\u001b[39m Stream[ChatCompletionChunk]:\n\u001b[1;32m    913\u001b[0m     validate_response_format(response_format)\n\u001b[0;32m--> 914\u001b[0m     \u001b[38;5;28;01mreturn\u001b[39;00m \u001b[38;5;28mself\u001b[39m\u001b[38;5;241m.\u001b[39m_post(\n\u001b[1;32m    915\u001b[0m         \u001b[38;5;124m\"\u001b[39m\u001b[38;5;124m/chat/completions\u001b[39m\u001b[38;5;124m\"\u001b[39m,\n\u001b[1;32m    916\u001b[0m         body\u001b[38;5;241m=\u001b[39mmaybe_transform(\n\u001b[1;32m    917\u001b[0m             {\n\u001b[1;32m    918\u001b[0m                 \u001b[38;5;124m\"\u001b[39m\u001b[38;5;124mmessages\u001b[39m\u001b[38;5;124m\"\u001b[39m: messages,\n\u001b[1;32m    919\u001b[0m                 \u001b[38;5;124m\"\u001b[39m\u001b[38;5;124mmodel\u001b[39m\u001b[38;5;124m\"\u001b[39m: model,\n\u001b[1;32m    920\u001b[0m                 \u001b[38;5;124m\"\u001b[39m\u001b[38;5;124maudio\u001b[39m\u001b[38;5;124m\"\u001b[39m: audio,\n\u001b[1;32m    921\u001b[0m                 \u001b[38;5;124m\"\u001b[39m\u001b[38;5;124mfrequency_penalty\u001b[39m\u001b[38;5;124m\"\u001b[39m: frequency_penalty,\n\u001b[1;32m    922\u001b[0m                 \u001b[38;5;124m\"\u001b[39m\u001b[38;5;124mfunction_call\u001b[39m\u001b[38;5;124m\"\u001b[39m: function_call,\n\u001b[1;32m    923\u001b[0m                 \u001b[38;5;124m\"\u001b[39m\u001b[38;5;124mfunctions\u001b[39m\u001b[38;5;124m\"\u001b[39m: functions,\n\u001b[1;32m    924\u001b[0m                 \u001b[38;5;124m\"\u001b[39m\u001b[38;5;124mlogit_bias\u001b[39m\u001b[38;5;124m\"\u001b[39m: logit_bias,\n\u001b[1;32m    925\u001b[0m                 \u001b[38;5;124m\"\u001b[39m\u001b[38;5;124mlogprobs\u001b[39m\u001b[38;5;124m\"\u001b[39m: logprobs,\n\u001b[1;32m    926\u001b[0m                 \u001b[38;5;124m\"\u001b[39m\u001b[38;5;124mmax_completion_tokens\u001b[39m\u001b[38;5;124m\"\u001b[39m: max_completion_tokens,\n\u001b[1;32m    927\u001b[0m                 \u001b[38;5;124m\"\u001b[39m\u001b[38;5;124mmax_tokens\u001b[39m\u001b[38;5;124m\"\u001b[39m: max_tokens,\n\u001b[1;32m    928\u001b[0m                 \u001b[38;5;124m\"\u001b[39m\u001b[38;5;124mmetadata\u001b[39m\u001b[38;5;124m\"\u001b[39m: metadata,\n\u001b[1;32m    929\u001b[0m                 \u001b[38;5;124m\"\u001b[39m\u001b[38;5;124mmodalities\u001b[39m\u001b[38;5;124m\"\u001b[39m: modalities,\n\u001b[1;32m    930\u001b[0m                 \u001b[38;5;124m\"\u001b[39m\u001b[38;5;124mn\u001b[39m\u001b[38;5;124m\"\u001b[39m: n,\n\u001b[1;32m    931\u001b[0m                 \u001b[38;5;124m\"\u001b[39m\u001b[38;5;124mparallel_tool_calls\u001b[39m\u001b[38;5;124m\"\u001b[39m: parallel_tool_calls,\n\u001b[1;32m    932\u001b[0m                 \u001b[38;5;124m\"\u001b[39m\u001b[38;5;124mprediction\u001b[39m\u001b[38;5;124m\"\u001b[39m: prediction,\n\u001b[1;32m    933\u001b[0m                 \u001b[38;5;124m\"\u001b[39m\u001b[38;5;124mpresence_penalty\u001b[39m\u001b[38;5;124m\"\u001b[39m: presence_penalty,\n\u001b[1;32m    934\u001b[0m                 \u001b[38;5;124m\"\u001b[39m\u001b[38;5;124mreasoning_effort\u001b[39m\u001b[38;5;124m\"\u001b[39m: reasoning_effort,\n\u001b[1;32m    935\u001b[0m                 \u001b[38;5;124m\"\u001b[39m\u001b[38;5;124mresponse_format\u001b[39m\u001b[38;5;124m\"\u001b[39m: response_format,\n\u001b[1;32m    936\u001b[0m                 \u001b[38;5;124m\"\u001b[39m\u001b[38;5;124mseed\u001b[39m\u001b[38;5;124m\"\u001b[39m: seed,\n\u001b[1;32m    937\u001b[0m                 \u001b[38;5;124m\"\u001b[39m\u001b[38;5;124mservice_tier\u001b[39m\u001b[38;5;124m\"\u001b[39m: service_tier,\n\u001b[1;32m    938\u001b[0m                 \u001b[38;5;124m\"\u001b[39m\u001b[38;5;124mstop\u001b[39m\u001b[38;5;124m\"\u001b[39m: stop,\n\u001b[1;32m    939\u001b[0m                 \u001b[38;5;124m\"\u001b[39m\u001b[38;5;124mstore\u001b[39m\u001b[38;5;124m\"\u001b[39m: store,\n\u001b[1;32m    940\u001b[0m                 \u001b[38;5;124m\"\u001b[39m\u001b[38;5;124mstream\u001b[39m\u001b[38;5;124m\"\u001b[39m: stream,\n\u001b[1;32m    941\u001b[0m                 \u001b[38;5;124m\"\u001b[39m\u001b[38;5;124mstream_options\u001b[39m\u001b[38;5;124m\"\u001b[39m: stream_options,\n\u001b[1;32m    942\u001b[0m                 \u001b[38;5;124m\"\u001b[39m\u001b[38;5;124mtemperature\u001b[39m\u001b[38;5;124m\"\u001b[39m: temperature,\n\u001b[1;32m    943\u001b[0m                 \u001b[38;5;124m\"\u001b[39m\u001b[38;5;124mtool_choice\u001b[39m\u001b[38;5;124m\"\u001b[39m: tool_choice,\n\u001b[1;32m    944\u001b[0m                 \u001b[38;5;124m\"\u001b[39m\u001b[38;5;124mtools\u001b[39m\u001b[38;5;124m\"\u001b[39m: tools,\n\u001b[1;32m    945\u001b[0m                 \u001b[38;5;124m\"\u001b[39m\u001b[38;5;124mtop_logprobs\u001b[39m\u001b[38;5;124m\"\u001b[39m: top_logprobs,\n\u001b[1;32m    946\u001b[0m                 \u001b[38;5;124m\"\u001b[39m\u001b[38;5;124mtop_p\u001b[39m\u001b[38;5;124m\"\u001b[39m: top_p,\n\u001b[1;32m    947\u001b[0m                 \u001b[38;5;124m\"\u001b[39m\u001b[38;5;124muser\u001b[39m\u001b[38;5;124m\"\u001b[39m: user,\n\u001b[1;32m    948\u001b[0m                 \u001b[38;5;124m\"\u001b[39m\u001b[38;5;124mweb_search_options\u001b[39m\u001b[38;5;124m\"\u001b[39m: web_search_options,\n\u001b[1;32m    949\u001b[0m             },\n\u001b[1;32m    950\u001b[0m             completion_create_params\u001b[38;5;241m.\u001b[39mCompletionCreateParams,\n\u001b[1;32m    951\u001b[0m         ),\n\u001b[1;32m    952\u001b[0m         options\u001b[38;5;241m=\u001b[39mmake_request_options(\n\u001b[1;32m    953\u001b[0m             extra_headers\u001b[38;5;241m=\u001b[39mextra_headers, extra_query\u001b[38;5;241m=\u001b[39mextra_query, extra_body\u001b[38;5;241m=\u001b[39mextra_body, timeout\u001b[38;5;241m=\u001b[39mtimeout\n\u001b[1;32m    954\u001b[0m         ),\n\u001b[1;32m    955\u001b[0m         cast_to\u001b[38;5;241m=\u001b[39mChatCompletion,\n\u001b[1;32m    956\u001b[0m         stream\u001b[38;5;241m=\u001b[39mstream \u001b[38;5;129;01mor\u001b[39;00m \u001b[38;5;28;01mFalse\u001b[39;00m,\n\u001b[1;32m    957\u001b[0m         stream_cls\u001b[38;5;241m=\u001b[39mStream[ChatCompletionChunk],\n\u001b[1;32m    958\u001b[0m     )\n",
      "File \u001b[0;32m~/anaconda3/envs/edu/lib/python3.13/site-packages/openai/_base_client.py:1242\u001b[0m, in \u001b[0;36mSyncAPIClient.post\u001b[0;34m(self, path, cast_to, body, options, files, stream, stream_cls)\u001b[0m\n\u001b[1;32m   1228\u001b[0m \u001b[38;5;28;01mdef\u001b[39;00m \u001b[38;5;21mpost\u001b[39m(\n\u001b[1;32m   1229\u001b[0m     \u001b[38;5;28mself\u001b[39m,\n\u001b[1;32m   1230\u001b[0m     path: \u001b[38;5;28mstr\u001b[39m,\n\u001b[0;32m   (...)\u001b[0m\n\u001b[1;32m   1237\u001b[0m     stream_cls: \u001b[38;5;28mtype\u001b[39m[_StreamT] \u001b[38;5;241m|\u001b[39m \u001b[38;5;28;01mNone\u001b[39;00m \u001b[38;5;241m=\u001b[39m \u001b[38;5;28;01mNone\u001b[39;00m,\n\u001b[1;32m   1238\u001b[0m ) \u001b[38;5;241m-\u001b[39m\u001b[38;5;241m>\u001b[39m ResponseT \u001b[38;5;241m|\u001b[39m _StreamT:\n\u001b[1;32m   1239\u001b[0m     opts \u001b[38;5;241m=\u001b[39m FinalRequestOptions\u001b[38;5;241m.\u001b[39mconstruct(\n\u001b[1;32m   1240\u001b[0m         method\u001b[38;5;241m=\u001b[39m\u001b[38;5;124m\"\u001b[39m\u001b[38;5;124mpost\u001b[39m\u001b[38;5;124m\"\u001b[39m, url\u001b[38;5;241m=\u001b[39mpath, json_data\u001b[38;5;241m=\u001b[39mbody, files\u001b[38;5;241m=\u001b[39mto_httpx_files(files), \u001b[38;5;241m*\u001b[39m\u001b[38;5;241m*\u001b[39moptions\n\u001b[1;32m   1241\u001b[0m     )\n\u001b[0;32m-> 1242\u001b[0m     \u001b[38;5;28;01mreturn\u001b[39;00m cast(ResponseT, \u001b[38;5;28mself\u001b[39m\u001b[38;5;241m.\u001b[39mrequest(cast_to, opts, stream\u001b[38;5;241m=\u001b[39mstream, stream_cls\u001b[38;5;241m=\u001b[39mstream_cls))\n",
      "File \u001b[0;32m~/anaconda3/envs/edu/lib/python3.13/site-packages/openai/_base_client.py:919\u001b[0m, in \u001b[0;36mSyncAPIClient.request\u001b[0;34m(self, cast_to, options, remaining_retries, stream, stream_cls)\u001b[0m\n\u001b[1;32m    916\u001b[0m \u001b[38;5;28;01melse\u001b[39;00m:\n\u001b[1;32m    917\u001b[0m     retries_taken \u001b[38;5;241m=\u001b[39m \u001b[38;5;241m0\u001b[39m\n\u001b[0;32m--> 919\u001b[0m \u001b[38;5;28;01mreturn\u001b[39;00m \u001b[38;5;28mself\u001b[39m\u001b[38;5;241m.\u001b[39m_request(\n\u001b[1;32m    920\u001b[0m     cast_to\u001b[38;5;241m=\u001b[39mcast_to,\n\u001b[1;32m    921\u001b[0m     options\u001b[38;5;241m=\u001b[39moptions,\n\u001b[1;32m    922\u001b[0m     stream\u001b[38;5;241m=\u001b[39mstream,\n\u001b[1;32m    923\u001b[0m     stream_cls\u001b[38;5;241m=\u001b[39mstream_cls,\n\u001b[1;32m    924\u001b[0m     retries_taken\u001b[38;5;241m=\u001b[39mretries_taken,\n\u001b[1;32m    925\u001b[0m )\n",
      "File \u001b[0;32m~/anaconda3/envs/edu/lib/python3.13/site-packages/openai/_base_client.py:1023\u001b[0m, in \u001b[0;36mSyncAPIClient._request\u001b[0;34m(self, cast_to, options, retries_taken, stream, stream_cls)\u001b[0m\n\u001b[1;32m   1020\u001b[0m         err\u001b[38;5;241m.\u001b[39mresponse\u001b[38;5;241m.\u001b[39mread()\n\u001b[1;32m   1022\u001b[0m     log\u001b[38;5;241m.\u001b[39mdebug(\u001b[38;5;124m\"\u001b[39m\u001b[38;5;124mRe-raising status error\u001b[39m\u001b[38;5;124m\"\u001b[39m)\n\u001b[0;32m-> 1023\u001b[0m     \u001b[38;5;28;01mraise\u001b[39;00m \u001b[38;5;28mself\u001b[39m\u001b[38;5;241m.\u001b[39m_make_status_error_from_response(err\u001b[38;5;241m.\u001b[39mresponse) \u001b[38;5;28;01mfrom\u001b[39;00m \u001b[38;5;28;01mNone\u001b[39;00m\n\u001b[1;32m   1025\u001b[0m \u001b[38;5;28;01mreturn\u001b[39;00m \u001b[38;5;28mself\u001b[39m\u001b[38;5;241m.\u001b[39m_process_response(\n\u001b[1;32m   1026\u001b[0m     cast_to\u001b[38;5;241m=\u001b[39mcast_to,\n\u001b[1;32m   1027\u001b[0m     options\u001b[38;5;241m=\u001b[39moptions,\n\u001b[0;32m   (...)\u001b[0m\n\u001b[1;32m   1031\u001b[0m     retries_taken\u001b[38;5;241m=\u001b[39mretries_taken,\n\u001b[1;32m   1032\u001b[0m )\n",
      "\u001b[0;31mNotFoundError\u001b[0m: Error code: 404 - {'error': {'message': 'The model `o3-mini` does not exist or you do not have access to it.', 'type': 'invalid_request_error', 'param': None, 'code': 'model_not_found'}}"
     ]
    }
   ],
   "source": [
    "# Example usage to visualize the outline\n",
    "topic_text = \"Pythagorean Theorem Definition, Formula, and How It Works.\"\n",
    "outline = generate_yaml_outline(topic_text)\n",
    "\n",
    "print(\"Generated Animation Outline:\")\n",
    "print(\"-\" * 40)\n",
    "for idx, step in enumerate(outline, start=1):\n",
    "    print(f\"Step {idx}: {step}\")\n",
    "print(\"-\" * 40)"
   ]
  },
  {
   "cell_type": "code",
   "execution_count": 21,
   "id": "4f68a4e6-4fc5-4694-8554-caceff484eda",
   "metadata": {},
   "outputs": [],
   "source": [
    "# To store final video clip filenames.\n",
    "step_video_files = []"
   ]
  },
  {
   "cell_type": "code",
   "execution_count": 22,
   "id": "8a13e835-c9ef-4eef-a1c4-b509bc99a5dc",
   "metadata": {},
   "outputs": [
    {
     "name": "stdout",
     "output_type": "stream",
     "text": [
      "\n",
      "========== Processing Step 1: {'Title Slide': 'Torque in Physics: definition, formula, and how lever arms work.'} ==========\n",
      "\n"
     ]
    },
    {
     "name": "stderr",
     "output_type": "stream",
     "text": [
      "<frozen runpy>:128: RuntimeWarning: 'manim.__main__' found in sys.modules after import of package 'manim', but prior to execution of 'manim.__main__'; this may result in unpredictable behaviour\n",
      "Animation 0: Write(Text('Torque in Physics')):   0%|                                                                                                                                                                                          | 0/60 [00:00<?, ?it/s]"
     ]
    },
    {
     "name": "stdout",
     "output_type": "stream",
     "text": [
      "Manim Community \u001b[32mv0.\u001b[0m\u001b[32m19.0\u001b[0m\n",
      "\n"
     ]
    },
    {
     "name": "stderr",
     "output_type": "stream",
     "text": [
      "                                                                                                                                                                                                                                                                     \r"
     ]
    },
    {
     "name": "stdout",
     "output_type": "stream",
     "text": [
      "\u001b[2;36m[03/18/25 23:29:41]\u001b[0m\u001b[2;36m \u001b[0m\u001b[32mINFO    \u001b[0m Animation \u001b[32m0\u001b[0m : Partial movie file written in \u001b[32m'/home/siva/llm_proj/EduVision/notebooks/media/videos/temp_manim_\u001b[0m\u001b[1;33mscript\u001b[0m\u001b[32m/720p30/partial_movie_files/TitleSlide/2016333726_2427665977_223132457.mp4'\u001b[0m                   \u001b]8;id=124061;file:///home/siva/anaconda3/envs/edu/lib/python3.13/site-packages/manim/scene/scene_file_writer.py\u001b\\\u001b[2mscene_file_writer.py\u001b[0m\u001b]8;;\u001b\\\u001b[2m:\u001b[0m\u001b]8;id=470075;file:///home/siva/anaconda3/envs/edu/lib/python3.13/site-packages/manim/scene/scene_file_writer.py#588\u001b\\\u001b[2m588\u001b[0m\u001b]8;;\u001b\\\n"
     ]
    },
    {
     "name": "stderr",
     "output_type": "stream",
     "text": [
      "                                                                                                                                                                                                                                                                     \r"
     ]
    },
    {
     "name": "stdout",
     "output_type": "stream",
     "text": [
      "\u001b[2;36m[03/18/25 23:29:42]\u001b[0m\u001b[2;36m \u001b[0m\u001b[32mINFO    \u001b[0m Animation \u001b[32m1\u001b[0m : Partial movie file written in \u001b[32m'/home/siva/llm_proj/EduVision/notebooks/media/videos/temp_manim_\u001b[0m\u001b[1;33mscript\u001b[0m\u001b[32m/720p30/partial_movie_files/TitleSlide/543634251_3588616603_3711886643.mp4'\u001b[0m                   \u001b]8;id=418640;file:///home/siva/anaconda3/envs/edu/lib/python3.13/site-packages/manim/scene/scene_file_writer.py\u001b\\\u001b[2mscene_file_writer.py\u001b[0m\u001b]8;;\u001b\\\u001b[2m:\u001b[0m\u001b]8;id=104916;file:///home/siva/anaconda3/envs/edu/lib/python3.13/site-packages/manim/scene/scene_file_writer.py#588\u001b\\\u001b[2m588\u001b[0m\u001b]8;;\u001b\\\n",
      "\u001b[2;36m[03/18/25 23:29:43]\u001b[0m\u001b[2;36m \u001b[0m\u001b[32mINFO    \u001b[0m Animation \u001b[32m2\u001b[0m : Partial movie file written in \u001b[32m'/home/siva/llm_proj/EduVision/notebooks/media/videos/temp_manim_\u001b[0m\u001b[1;33mscript\u001b[0m\u001b[32m/720p30/partial_movie_files/TitleSlide/543634251_2408024828_678225912.mp4'\u001b[0m                    \u001b]8;id=798013;file:///home/siva/anaconda3/envs/edu/lib/python3.13/site-packages/manim/scene/scene_file_writer.py\u001b\\\u001b[2mscene_file_writer.py\u001b[0m\u001b]8;;\u001b\\\u001b[2m:\u001b[0m\u001b]8;id=222315;file:///home/siva/anaconda3/envs/edu/lib/python3.13/site-packages/manim/scene/scene_file_writer.py#588\u001b\\\u001b[2m588\u001b[0m\u001b]8;;\u001b\\\n",
      "\u001b[2;36m                   \u001b[0m\u001b[2;36m \u001b[0m\u001b[32mINFO    \u001b[0m Combining to Movie file.                                                                                                                                                                                         \u001b]8;id=410677;file:///home/siva/anaconda3/envs/edu/lib/python3.13/site-packages/manim/scene/scene_file_writer.py\u001b\\\u001b[2mscene_file_writer.py\u001b[0m\u001b]8;;\u001b\\\u001b[2m:\u001b[0m\u001b]8;id=437967;file:///home/siva/anaconda3/envs/edu/lib/python3.13/site-packages/manim/scene/scene_file_writer.py#739\u001b\\\u001b[2m739\u001b[0m\u001b]8;;\u001b\\\n",
      "\u001b[2;36m                   \u001b[0m\u001b[2;36m \u001b[0m\u001b[32mINFO    \u001b[0m                                                                                                                                                                                                                  \u001b]8;id=235362;file:///home/siva/anaconda3/envs/edu/lib/python3.13/site-packages/manim/scene/scene_file_writer.py\u001b\\\u001b[2mscene_file_writer.py\u001b[0m\u001b]8;;\u001b\\\u001b[2m:\u001b[0m\u001b]8;id=154467;file:///home/siva/anaconda3/envs/edu/lib/python3.13/site-packages/manim/scene/scene_file_writer.py#886\u001b\\\u001b[2m886\u001b[0m\u001b]8;;\u001b\\\n",
      "\u001b[2;36m                    \u001b[0m         \u001b[1;33mFile\u001b[0m ready at \u001b[32m'/home/siva/llm_proj/EduVision/notebooks/media/videos/temp_manim_\u001b[0m\u001b[1;33mscript\u001b[0m\u001b[32m/720p30/step_1.mp4'\u001b[0m                                                                                                         \u001b[2m                        \u001b[0m\n",
      "\u001b[2;36m                    \u001b[0m                                                                                                                                                                                                                          \u001b[2m                        \u001b[0m\n",
      "\u001b[2;36m                   \u001b[0m\u001b[2;36m \u001b[0m\u001b[32mINFO    \u001b[0m \u001b[1;33mRendered\u001b[0m TitleSlide                                                                                                                                                                                                          \u001b]8;id=101412;file:///home/siva/anaconda3/envs/edu/lib/python3.13/site-packages/manim/scene/scene.py\u001b\\\u001b[2mscene.py\u001b[0m\u001b]8;;\u001b\\\u001b[2m:\u001b[0m\u001b]8;id=746076;file:///home/siva/anaconda3/envs/edu/lib/python3.13/site-packages/manim/scene/scene.py#255\u001b\\\u001b[2m255\u001b[0m\u001b]8;;\u001b\\\n",
      "\u001b[2;36m                    \u001b[0m         \u001b[1;33mPlayed\u001b[0m \u001b[32m3\u001b[0m \u001b[1;33manimations\u001b[0m                                                                                                                                                                                                          \u001b[2m            \u001b[0m\n",
      "✅ Manim animation generated with base name: step_1.mp4\n",
      "✅ Copied video to: outputs/videos/step_1.mp4\n",
      "Generated dialogue: Welcome to our exploration of torque in physics, where we'll define this essential concept, uncover its formula, and discover how lever arms play a crucial role in its application.\n",
      "Generated TTS audio saved to: outputs/audio/step_1.mp3\n"
     ]
    }
   ],
   "source": [
    "for idx, step in enumerate(outline, start=1):\n",
    "    print(f\"\\n========== Processing Step {idx}: {step} ==========\\n\")\n",
    "    \n",
    "    # Define filenames.\n",
    "    step_video_filename = f\"step_{idx}.mp4\"\n",
    "    step_audio_filename = f\"step_{idx}.mp3\"\n",
    "    step_final_filename = f\"step_{idx}_final.mp4\"\n",
    "    \n",
    "    # Step 2a: Generate Manim code and run it.\n",
    "    manim_code = generate_manim_code_for_step(step)\n",
    "    video_path = run_manim_script(manim_code, output_filename=step_video_filename)\n",
    "    \n",
    "    # Step 2b: Generate narration.\n",
    "    dialogue_line = generate_dialogue_for_step(step)\n",
    "    print(f\"Generated dialogue: {dialogue_line}\")\n",
    "    \n",
    "    # Step 2c: Convert dialogue to speech.\n",
    "    audio_path = AUDIO_DIR / step_audio_filename\n",
    "    text_to_speech(dialogue_line, output_audio=audio_path)\n",
    "    \n",
    "    # Step 2d: Combine video and audio.\n",
    "    final_video_path = combine_audio_and_video(video_path, audio_path, final_output_filename=step_final_filename)\n",
    "    step_video_files.append(str(final_video_path))\n",
    "    break"
   ]
  },
  {
   "cell_type": "code",
   "execution_count": null,
   "id": "e8410de1-f66b-45e4-84c0-23177a45b01b",
   "metadata": {},
   "outputs": [],
   "source": []
  },
  {
   "cell_type": "code",
   "execution_count": null,
   "id": "ad442ab5-348a-444e-b66e-3578608e1423",
   "metadata": {},
   "outputs": [],
   "source": []
  },
  {
   "cell_type": "code",
   "execution_count": null,
   "id": "ccde952f-5660-4098-aef5-dcec0735872a",
   "metadata": {},
   "outputs": [],
   "source": []
  }
 ],
 "metadata": {
  "kernelspec": {
   "display_name": "edu",
   "language": "python",
   "name": "edu"
  },
  "language_info": {
   "codemirror_mode": {
    "name": "ipython",
    "version": 3
   },
   "file_extension": ".py",
   "mimetype": "text/x-python",
   "name": "python",
   "nbconvert_exporter": "python",
   "pygments_lexer": "ipython3",
   "version": "3.13.2"
  }
 },
 "nbformat": 4,
 "nbformat_minor": 5
}
